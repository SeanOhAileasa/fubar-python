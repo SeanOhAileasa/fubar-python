{
 "cells": [
  {
   "cell_type": "markdown",
   "metadata": {},
   "source": [
    "# package-third-party-matplotlib-module-pyplot-function-title\n",
    "> [TABLE OF CONTENTS](https://nbviewer.jupyter.org/github/SeanOhAileasa/fubar-python/blob/main/fubar-python.ipynb#top)\n",
    "***"
   ]
  },
  {
   "cell_type": "code",
   "execution_count": 1,
   "metadata": {},
   "outputs": [],
   "source": [
    "# b_T_hird_P_arty-imports\n",
    "from matplotlib.pyplot import title as t"
   ]
  },
  {
   "cell_type": "code",
   "execution_count": 2,
   "metadata": {},
   "outputs": [
    {
     "name": "stdout",
     "output_type": "stream",
     "text": [
      "\n",
      "        Set a title for the axes.\n",
      "\n",
      "        Set one of the three available axes titles. The available titles\n",
      "        are positioned above the axes in the center, flush with the left\n",
      "        edge, and flush with the right edge.\n",
      "\n",
      "        Parameters\n",
      "        ----------\n",
      "        label : str\n",
      "            Text to use for the title\n",
      "\n",
      "        fontdict : dict\n",
      "            A dictionary controlling the appearance of the title text,\n",
      "            the default *fontdict* is::\n",
      "\n",
      "               {'fontsize': rcParams['axes.titlesize'],\n",
      "                'fontweight' : rcParams['axes.titleweight'],\n",
      "                'color' : rcParams['axes.titlecolor'],\n",
      "                'verticalalignment': 'baseline',\n",
      "                'horizontalalignment': loc}\n",
      "\n",
      "        loc : {'center', 'left', 'right'}, str, optional\n",
      "            Which title to set.\n",
      "            If *None*, defaults to :rc:`axes.titlelocation`.\n",
      "\n",
      "        pad : float\n",
      "            The offset of the title from the top of the axes, in points.\n",
      "            If *None*, defaults to :rc:`axes.titlepad`.\n",
      "\n",
      "        Returns\n",
      "        -------\n",
      "        text : :class:`~matplotlib.text.Text`\n",
      "            The matplotlib text instance representing the title\n",
      "\n",
      "        Other Parameters\n",
      "        ----------------\n",
      "        **kwargs : `~matplotlib.text.Text` properties\n",
      "            Other keyword arguments are text properties, see\n",
      "            :class:`~matplotlib.text.Text` for a list of valid text\n",
      "            properties.\n",
      "        \n"
     ]
    }
   ],
   "source": [
    "# package matplotlib - module pyplot - function title alias t - copy - attribute __doc__ - access\n",
    "print(t.__doc__)"
   ]
  },
  {
   "cell_type": "markdown",
   "metadata": {},
   "source": [
    "***\n",
    "# END"
   ]
  }
 ],
 "metadata": {
  "kernelspec": {
   "display_name": "Python 3",
   "language": "python",
   "name": "python3"
  },
  "language_info": {
   "codemirror_mode": {
    "name": "ipython",
    "version": 3
   },
   "file_extension": ".py",
   "mimetype": "text/x-python",
   "name": "python",
   "nbconvert_exporter": "python",
   "pygments_lexer": "ipython3",
   "version": "3.8.3"
  }
 },
 "nbformat": 4,
 "nbformat_minor": 4
}
