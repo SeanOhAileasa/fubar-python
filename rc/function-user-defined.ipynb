{
 "cells": [
  {
   "cell_type": "markdown",
   "metadata": {},
   "source": [
    "# function-user-defined\n",
    "> [TABLE OF CONTENTS](https://nbviewer.jupyter.org/github/SeanOhAileasa/fubar-python/blob/main/fubar-python.ipynb#top)\n",
    "***"
   ]
  },
  {
   "cell_type": "markdown",
   "metadata": {},
   "source": [
    "- function - def statement - factor-out useful pieces of code into - reusable and readable - lambda statement - create short anonymous functions - functions are groups of code that have a name and can be called using parentheses [1.41]"
   ]
  },
  {
   "cell_type": "markdown",
   "metadata": {},
   "source": [
    "```python\n",
    "len(s)\n",
    "```\n",
    "> [Python Documentation](https://web.archive.org/web/20200503062446/https://docs.python.org/3/library/functions.html#len)"
   ]
  },
  {
   "cell_type": "markdown",
   "metadata": {},
   "source": [
    "```python\n",
    "class list([iterable])\n",
    "```\n",
    "> [Python Documentation](https://web.archive.org/web/20200502135931/https://docs.python.org/3/library/stdtypes.html#list)"
   ]
  },
  {
   "cell_type": "markdown",
   "metadata": {},
   "source": [
    "```python\n",
    "list.append(x)\n",
    "```\n",
    "> [Python Documentation](https://web.archive.org/web/20200501091324/https://docs.python.org/3/tutorial/datastructures.html)"
   ]
  },
  {
   "cell_type": "code",
   "execution_count": 1,
   "metadata": {},
   "outputs": [],
   "source": [
    "# define function - fFibonacci\n",
    "def fFibonacci(nParN):\n",
    "    (nLocFirst,nLocSecond)=(0,1)\n",
    "    nListFibonacci=[]\n",
    "    while len(nListFibonacci)<nParN:\n",
    "        (nLocFirst,nLocSecond)=(nLocSecond,nLocFirst+nLocSecond)\n",
    "        nListFibonacci.append(nLocFirst)\n",
    "    return nListFibonacci"
   ]
  },
  {
   "cell_type": "markdown",
   "metadata": {},
   "source": [
    "- function parameter - nParN - is the variable inside the definition of the function - fFibonacci [[reference](https://web.archive.org/web/20200515100511/https://www.techiedelight.com/difference-between-argument-parameter/)]"
   ]
  },
  {
   "cell_type": "code",
   "execution_count": 2,
   "metadata": {},
   "outputs": [],
   "source": [
    "n=10"
   ]
  },
  {
   "cell_type": "markdown",
   "metadata": {},
   "source": [
    "- function argument - n - actual value that is supplied to the function - fFibonacci - appear in function calls [[reference](https://web.archive.org/web/20200515100511/https://www.techiedelight.com/difference-between-argument-parameter/)}"
   ]
  },
  {
   "cell_type": "code",
   "execution_count": 3,
   "metadata": {},
   "outputs": [
    {
     "data": {
      "text/plain": [
       "[1, 1, 2, 3, 5, 8, 13, 21, 34, 55]"
      ]
     },
     "execution_count": 3,
     "metadata": {},
     "output_type": "execute_result"
    }
   ],
   "source": [
    "# function fFibonacci - call\n",
    "fFibonacci(n)"
   ]
  },
  {
   "cell_type": "markdown",
   "metadata": {},
   "source": [
    "- function - fFibonacci - takes a single argument - n - returns a value that is a - list - of the first - n - fibonacci numbers - no type information associated with the function inputs or outputs - in contrast with strongly typed languages like C - python functions can return any python object - simple or compound - meaning constructs that may be difficult in other languages are straightforward in python - multiple return values are simply put in a - tuple - which is indicated by commas [1.42]"
   ]
  },
  {
   "cell_type": "markdown",
   "metadata": {},
   "source": [
    "```python\n",
    "class complex([real[, imag]])\n",
    "```\n",
    "> [Python Documentation](https://web.archive.org/web/20200503112950/https://docs.python.org/3/library/functions.html#complex)\n",
    "\n",
    "> [Python Documentation](https://web.archive.org/web/20200503134851/https://docs.python.org/3/library/numbers.html?highlight=conjugate)"
   ]
  },
  {
   "cell_type": "code",
   "execution_count": 4,
   "metadata": {},
   "outputs": [],
   "source": [
    "# define function - fRealImagConj\n",
    "def fRealImagConj(nParV):\n",
    "     return nParV.real,nParV.imag,nParV.conjugate()"
   ]
  },
  {
   "cell_type": "code",
   "execution_count": 5,
   "metadata": {},
   "outputs": [],
   "source": [
    "# function fRealImagConj - call\n",
    "nReal,nImag,nConj=fRealImagConj(3+4j)"
   ]
  },
  {
   "cell_type": "code",
   "execution_count": 6,
   "metadata": {},
   "outputs": [
    {
     "data": {
      "text/plain": [
       "3.0"
      ]
     },
     "execution_count": 6,
     "metadata": {},
     "output_type": "execute_result"
    }
   ],
   "source": [
    "nReal"
   ]
  },
  {
   "cell_type": "code",
   "execution_count": 7,
   "metadata": {},
   "outputs": [
    {
     "data": {
      "text/plain": [
       "4.0"
      ]
     },
     "execution_count": 7,
     "metadata": {},
     "output_type": "execute_result"
    }
   ],
   "source": [
    "nImag"
   ]
  },
  {
   "cell_type": "code",
   "execution_count": 8,
   "metadata": {},
   "outputs": [
    {
     "data": {
      "text/plain": [
       "(3-4j)"
      ]
     },
     "execution_count": 8,
     "metadata": {},
     "output_type": "execute_result"
    }
   ],
   "source": [
    "nConj"
   ]
  },
  {
   "cell_type": "markdown",
   "metadata": {},
   "source": [
    "- often when defining a function there are certain values we want the function to use most of the time albeit give the user some flexibility - can use default value for arguments [1.43]"
   ]
  },
  {
   "cell_type": "code",
   "execution_count": 9,
   "metadata": {},
   "outputs": [],
   "source": [
    "# define function - fFibonacci\n",
    "def fFibonacci(nParNum,nParFirst=0,nParSecond=1):\n",
    "    nListFibonacci=[]\n",
    "    while len(nListFibonacci)<nParNum:\n",
    "        (nParFirst,nParSecond)=(nParSecond,nParFirst+nParSecond)\n",
    "        nListFibonacci.append(nParFirst)\n",
    "    return nListFibonacci"
   ]
  },
  {
   "cell_type": "code",
   "execution_count": 10,
   "metadata": {},
   "outputs": [
    {
     "data": {
      "text/plain": [
       "[1, 1, 2, 3, 5, 8, 13, 21, 34, 55]"
      ]
     },
     "execution_count": 10,
     "metadata": {},
     "output_type": "execute_result"
    }
   ],
   "source": [
    "# function fFibonacci - call\n",
    "fFibonacci(10)"
   ]
  },
  {
   "cell_type": "markdown",
   "metadata": {},
   "source": [
    "- using Fibonacci function to explore new things - new starting value [1.43]"
   ]
  },
  {
   "cell_type": "code",
   "execution_count": 11,
   "metadata": {},
   "outputs": [
    {
     "data": {
      "text/plain": [
       "[2, 2, 4, 6, 10, 16, 26, 42, 68, 110]"
      ]
     },
     "execution_count": 11,
     "metadata": {},
     "output_type": "execute_result"
    }
   ],
   "source": [
    "# function fFibonacci - call\n",
    "fFibonacci(10,0,2)"
   ]
  },
  {
   "cell_type": "code",
   "execution_count": 12,
   "metadata": {},
   "outputs": [
    {
     "data": {
      "text/plain": [
       "[1, 1, 2, 3, 5, 8, 13, 21, 34, 55]"
      ]
     },
     "execution_count": 12,
     "metadata": {},
     "output_type": "execute_result"
    }
   ],
   "source": [
    "# function fFibonacci - call\n",
    "fFibonacci(10,0,1)"
   ]
  },
  {
   "cell_type": "markdown",
   "metadata": {},
   "source": [
    "- values can also be specified by name if desired in which case the order of the named values does not matter [1.43]"
   ]
  },
  {
   "cell_type": "code",
   "execution_count": 13,
   "metadata": {},
   "outputs": [
    {
     "data": {
      "text/plain": [
       "[1, 1, 2, 3, 5, 8, 13, 21, 34, 55]"
      ]
     },
     "execution_count": 13,
     "metadata": {},
     "output_type": "execute_result"
    }
   ],
   "source": [
    "# function fFibonacci - call\n",
    "fFibonacci(10,nParSecond=1,nParFirst=0)"
   ]
  },
  {
   "cell_type": "markdown",
   "metadata": {},
   "source": [
    "***\n",
    "# END"
   ]
  }
 ],
 "metadata": {
  "kernelspec": {
   "display_name": "Python 3",
   "language": "python",
   "name": "python3"
  },
  "language_info": {
   "codemirror_mode": {
    "name": "ipython",
    "version": 3
   },
   "file_extension": ".py",
   "mimetype": "text/x-python",
   "name": "python",
   "nbconvert_exporter": "python",
   "pygments_lexer": "ipython3",
   "version": "3.8.3"
  }
 },
 "nbformat": 4,
 "nbformat_minor": 4
}
