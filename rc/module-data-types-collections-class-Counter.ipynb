{
 "cells": [
  {
   "cell_type": "markdown",
   "metadata": {},
   "source": [
    "# module-data-types-collections-class-Counter\n",
    "> [TABLE OF CONTENTS](https://nbviewer.jupyter.org/github/SeanOhAileasa/fubar-python/blob/main/fubar-python.ipynb#top)\n",
    "***"
   ]
  },
  {
   "cell_type": "code",
   "execution_count": 1,
   "metadata": {},
   "outputs": [],
   "source": [
    "# a_S_tandard_L_ibrary-imports\n",
    "from collections import Counter as Cctr"
   ]
  },
  {
   "cell_type": "code",
   "execution_count": 2,
   "metadata": {},
   "outputs": [
    {
     "name": "stdout",
     "output_type": "stream",
     "text": [
      "Dict subclass for counting hashable items.  Sometimes called a bag\n",
      "    or multiset.  Elements are stored as dictionary keys and their counts\n",
      "    are stored as dictionary values.\n",
      "\n",
      "    >>> c = Counter('abcdeabcdabcaba')  # count elements from a string\n",
      "\n",
      "    >>> c.most_common(3)                # three most common elements\n",
      "    [('a', 5), ('b', 4), ('c', 3)]\n",
      "    >>> sorted(c)                       # list all unique elements\n",
      "    ['a', 'b', 'c', 'd', 'e']\n",
      "    >>> ''.join(sorted(c.elements()))   # list elements with repetitions\n",
      "    'aaaaabbbbcccdde'\n",
      "    >>> sum(c.values())                 # total of all counts\n",
      "    15\n",
      "\n",
      "    >>> c['a']                          # count of letter 'a'\n",
      "    5\n",
      "    >>> for elem in 'shazam':           # update counts from an iterable\n",
      "    ...     c[elem] += 1                # by adding 1 to each element's count\n",
      "    >>> c['a']                          # now there are seven 'a'\n",
      "    7\n",
      "    >>> del c['b']                      # remove all 'b'\n",
      "    >>> c['b']                          # now there are zero 'b'\n",
      "    0\n",
      "\n",
      "    >>> d = Counter('simsalabim')       # make another counter\n",
      "    >>> c.update(d)                     # add in the second counter\n",
      "    >>> c['a']                          # now there are nine 'a'\n",
      "    9\n",
      "\n",
      "    >>> c.clear()                       # empty the counter\n",
      "    >>> c\n",
      "    Counter()\n",
      "\n",
      "    Note:  If a count is set to zero or reduced to zero, it will remain\n",
      "    in the counter until the entry is deleted or the counter is cleared:\n",
      "\n",
      "    >>> c = Counter('aaabbc')\n",
      "    >>> c['b'] -= 2                     # reduce the count of 'b' by two\n",
      "    >>> c.most_common()                 # 'b' is still in, but its count is zero\n",
      "    [('a', 3), ('c', 1), ('b', 0)]\n",
      "\n",
      "    \n"
     ]
    }
   ],
   "source": [
    "# module collections - object Counter alias Cctr - attribute __doc__ - access\n",
    "print(Cctr.__doc__)"
   ]
  },
  {
   "cell_type": "markdown",
   "metadata": {},
   "source": [
    "***\n",
    "# END"
   ]
  }
 ],
 "metadata": {
  "kernelspec": {
   "display_name": "Python 3",
   "language": "python",
   "name": "python3"
  },
  "language_info": {
   "codemirror_mode": {
    "name": "ipython",
    "version": 3
   },
   "file_extension": ".py",
   "mimetype": "text/x-python",
   "name": "python",
   "nbconvert_exporter": "python",
   "pygments_lexer": "ipython3",
   "version": "3.8.3"
  }
 },
 "nbformat": 4,
 "nbformat_minor": 4
}
