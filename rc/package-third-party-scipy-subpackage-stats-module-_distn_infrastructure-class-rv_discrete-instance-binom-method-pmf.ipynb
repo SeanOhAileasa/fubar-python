{
 "cells": [
  {
   "cell_type": "markdown",
   "metadata": {},
   "source": [
    "# package-third-party-scipy-subpackage-stats-module-_distn\\_infrastructure-class-rv\\_discrete-instance-binom-method-pmf\n",
    "> [TABLE OF CONTENTS](https://nbviewer.jupyter.org/github/SeanOhAileasa/fubar-python/blob/main/fubar-python.ipynb#top)\n",
    "***"
   ]
  },
  {
   "cell_type": "markdown",
   "metadata": {},
   "source": [
    "- probability mass function - also called a frequency function - gives probabilities for discrete random variables - counterpart - probability density function - gives probabilities for continuous random variables [[reference](https://web.archive.org/web/20200925091853/https://www.statisticshowto.com/probability-mass-function-pmf/)] "
   ]
  },
  {
   "cell_type": "markdown",
   "metadata": {},
   "source": [
    "- calculate the probability of different scenarios [10]"
   ]
  },
  {
   "cell_type": "code",
   "execution_count": 1,
   "metadata": {},
   "outputs": [],
   "source": [
    "# b_T_hird_P_arty-imports\n",
    "import scipy.stats as ss"
   ]
  },
  {
   "cell_type": "code",
   "execution_count": 2,
   "metadata": {},
   "outputs": [
    {
     "name": "stdout",
     "output_type": "stream",
     "text": [
      "\n",
      "        Probability mass function at k of the given RV.\n",
      "\n",
      "        Parameters\n",
      "        ----------\n",
      "        k : array_like\n",
      "            Quantiles.\n",
      "        arg1, arg2, arg3,... : array_like\n",
      "            The shape parameter(s) for the distribution (see docstring of the\n",
      "            instance object for more information)\n",
      "        loc : array_like, optional\n",
      "            Location parameter (default=0).\n",
      "\n",
      "        Returns\n",
      "        -------\n",
      "        pmf : array_like\n",
      "            Probability mass function evaluated at k\n",
      "\n",
      "        \n"
     ]
    }
   ],
   "source": [
    "# pkg scipy - subpkg stats alias ss - mod _distn_infrastructure - obj rv_discrete - method pmf - attr __doc__ - access\n",
    "print(ss._distn_infrastructure.rv_discrete.pmf.__doc__)"
   ]
  },
  {
   "cell_type": "code",
   "execution_count": 3,
   "metadata": {
    "scrolled": false
   },
   "outputs": [
    {
     "name": "stdout",
     "output_type": "stream",
     "text": [
      "A binomial discrete random variable.\n",
      "\n",
      "    As an instance of the `rv_discrete` class, `binom` object inherits from it\n",
      "    a collection of generic methods (see below for the full list),\n",
      "    and completes them with details specific for this particular distribution.\n",
      "    \n",
      "    Methods\n",
      "    -------\n",
      "    rvs(n, p, loc=0, size=1, random_state=None)\n",
      "        Random variates.\n",
      "    pmf(k, n, p, loc=0)\n",
      "        Probability mass function.\n",
      "    logpmf(k, n, p, loc=0)\n",
      "        Log of the probability mass function.\n",
      "    cdf(k, n, p, loc=0)\n",
      "        Cumulative distribution function.\n",
      "    logcdf(k, n, p, loc=0)\n",
      "        Log of the cumulative distribution function.\n",
      "    sf(k, n, p, loc=0)\n",
      "        Survival function  (also defined as ``1 - cdf``, but `sf` is sometimes more accurate).\n",
      "    logsf(k, n, p, loc=0)\n",
      "        Log of the survival function.\n",
      "    ppf(q, n, p, loc=0)\n",
      "        Percent point function (inverse of ``cdf`` --- percentiles).\n",
      "    isf(q, n, p, loc=0)\n",
      "        Inverse survival function (inverse of ``sf``).\n",
      "    stats(n, p, loc=0, moments='mv')\n",
      "        Mean('m'), variance('v'), skew('s'), and/or kurtosis('k').\n",
      "    entropy(n, p, loc=0)\n",
      "        (Differential) entropy of the RV.\n",
      "    expect(func, args=(n, p), loc=0, lb=None, ub=None, conditional=False)\n",
      "        Expected value of a function (of one argument) with respect to the distribution.\n",
      "    median(n, p, loc=0)\n",
      "        Median of the distribution.\n",
      "    mean(n, p, loc=0)\n",
      "        Mean of the distribution.\n",
      "    var(n, p, loc=0)\n",
      "        Variance of the distribution.\n",
      "    std(n, p, loc=0)\n",
      "        Standard deviation of the distribution.\n",
      "    interval(alpha, n, p, loc=0)\n",
      "        Endpoints of the range that contains alpha percent of the distribution\n",
      "\n",
      "    Notes\n",
      "    -----\n",
      "    The probability mass function for `binom` is:\n",
      "\n",
      "    .. math::\n",
      "\n",
      "       f(k) = \\binom{n}{k} p^k (1-p)^{n-k}\n",
      "\n",
      "    for ``k`` in ``{0, 1,..., n}``.\n",
      "\n",
      "    `binom` takes ``n`` and ``p`` as shape parameters.\n",
      "\n",
      "    The probability mass function above is defined in the \"standardized\" form.\n",
      "    To shift distribution use the ``loc`` parameter.\n",
      "    Specifically, ``binom.pmf(k, n, p, loc)`` is identically\n",
      "    equivalent to ``binom.pmf(k - loc, n, p)``.\n",
      "\n",
      "    Examples\n",
      "    --------\n",
      "    >>> from scipy.stats import binom\n",
      "    >>> import matplotlib.pyplot as plt\n",
      "    >>> fig, ax = plt.subplots(1, 1)\n",
      "    \n",
      "    Calculate a few first moments:\n",
      "    \n",
      "    >>> n, p = 5, 0.4\n",
      "    >>> mean, var, skew, kurt = binom.stats(n, p, moments='mvsk')\n",
      "    \n",
      "    Display the probability mass function (``pmf``):\n",
      "    \n",
      "    >>> x = np.arange(binom.ppf(0.01, n, p),\n",
      "    ...               binom.ppf(0.99, n, p))\n",
      "    >>> ax.plot(x, binom.pmf(x, n, p), 'bo', ms=8, label='binom pmf')\n",
      "    >>> ax.vlines(x, 0, binom.pmf(x, n, p), colors='b', lw=5, alpha=0.5)\n",
      "    \n",
      "    Alternatively, the distribution object can be called (as a function)\n",
      "    to fix the shape and location. This returns a \"frozen\" RV object holding\n",
      "    the given parameters fixed.\n",
      "    \n",
      "    Freeze the distribution and display the frozen ``pmf``:\n",
      "    \n",
      "    >>> rv = binom(n, p)\n",
      "    >>> ax.vlines(x, 0, rv.pmf(x), colors='k', linestyles='-', lw=1,\n",
      "    ...         label='frozen pmf')\n",
      "    >>> ax.legend(loc='best', frameon=False)\n",
      "    >>> plt.show()\n",
      "    \n",
      "    Check accuracy of ``cdf`` and ``ppf``:\n",
      "    \n",
      "    >>> prob = binom.cdf(x, n, p)\n",
      "    >>> np.allclose(x, binom.ppf(prob, n, p))\n",
      "    True\n",
      "    \n",
      "    Generate random numbers:\n",
      "    \n",
      "    >>> r = binom.rvs(n, p, size=1000)\n",
      "\n",
      "    \n"
     ]
    }
   ],
   "source": [
    "# pkg scipy - subpkg stats alias ss - mod _distn_infrastructure - obj rv_discrete - inst binom - attr __doc__ - access\n",
    "print(ss.binom.__doc__)"
   ]
  },
  {
   "cell_type": "markdown",
   "metadata": {},
   "source": [
    "- **simulation** - likelihood of observing a certain number of heads - $521$ - when flipping a coin however many times - $1000$ [10]"
   ]
  },
  {
   "cell_type": "markdown",
   "metadata": {},
   "source": [
    "- `k` - probability of the number of heads - $521$ - when flipped by - `n` [10]"
   ]
  },
  {
   "cell_type": "markdown",
   "metadata": {},
   "source": [
    "- `n` - $integer >=0$ - number of trials - $1000$ - coin flip is a trial - result in only two possible outcomes - heads or tails - calling heads a success - 1 - tails a failure - 0 [10]"
   ]
  },
  {
   "cell_type": "markdown",
   "metadata": {},
   "source": [
    "- `p` - $interval [0,1]$ - probability of each trial - probability of success is constant - one half on each trial - $0.5$ [10]"
   ]
  },
  {
   "cell_type": "code",
   "execution_count": 4,
   "metadata": {},
   "outputs": [],
   "source": [
    "# package scipy - subpackage stats alias ss - object rv_discrete - instance binom - method pmf - arguments\n",
    "k,n,p=521,1000,0.5"
   ]
  },
  {
   "cell_type": "markdown",
   "metadata": {},
   "source": [
    "- flip coin - 1000 times - many ways to get 521 heads - perfectly possible by chance - first 521 coin flips - get heads - remaining 479 coin flips - get tails [10]"
   ]
  },
  {
   "cell_type": "markdown",
   "metadata": {},
   "source": [
    "- not the only one way of getting 521 heads - first flip - get head - count is one - second flip - get tail - third clip - get head - count is two - many different configurations are possible to end up with 521 heads - all encapsulated in this probability - takes into account all of those possible different configurations of getting 521 heads in 1000 flips [10]"
   ]
  },
  {
   "cell_type": "code",
   "execution_count": 5,
   "metadata": {},
   "outputs": [],
   "source": [
    "# package scipy - subpackage stats alias ss - object rv_discrete - instance binom - method pmf - call\n",
    "nProbabilityOf=ss.binom.pmf(k,n,p)"
   ]
  },
  {
   "cell_type": "code",
   "execution_count": 6,
   "metadata": {},
   "outputs": [
    {
     "data": {
      "text/plain": [
       "'observe heads 521 - probability of 0.010448505831422978 - 1.0448505831422978%'"
      ]
     },
     "execution_count": 6,
     "metadata": {},
     "output_type": "execute_result"
    }
   ],
   "source": [
    "\"observe heads {} - probability of {} - {}%\".format(k,nProbabilityOf,nProbabilityOf*100)"
   ]
  },
  {
   "cell_type": "markdown",
   "metadata": {},
   "source": [
    "***\n",
    "\n",
    "- refer: [[stochasticism](https://nbviewer.jupyter.org/github/SeanOhAileasa/fubar-python/blob/main/fubar-python.ipynb#top/L8733/blob/master/src/hdp/mls/stochasticism.ipynb)]\n",
    "\n",
    "***"
   ]
  },
  {
   "cell_type": "markdown",
   "metadata": {},
   "source": [
    "***\n",
    "# END"
   ]
  }
 ],
 "metadata": {
  "kernelspec": {
   "display_name": "Python 3",
   "language": "python",
   "name": "python3"
  },
  "language_info": {
   "codemirror_mode": {
    "name": "ipython",
    "version": 3
   },
   "file_extension": ".py",
   "mimetype": "text/x-python",
   "name": "python",
   "nbconvert_exporter": "python",
   "pygments_lexer": "ipython3",
   "version": "3.8.3"
  }
 },
 "nbformat": 4,
 "nbformat_minor": 4
}
