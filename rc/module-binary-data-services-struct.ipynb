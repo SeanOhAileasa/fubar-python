{
 "cells": [
  {
   "cell_type": "markdown",
   "metadata": {},
   "source": [
    "# module-binary-data-services-struct\n",
    "> [TABLE OF CONTENTS](https://nbviewer.jupyter.org/github/SeanOhAileasa/fubar-python/blob/main/fubar-python.ipynb#top)\n",
    "***"
   ]
  },
  {
   "cell_type": "markdown",
   "metadata": {},
   "source": [
    "> [Python Documentation](https://web.archive.org/web/20201006065103/https://docs.python.org/3/library/struct.html#module-struct) [0]"
   ]
  },
  {
   "cell_type": "code",
   "execution_count": 1,
   "metadata": {},
   "outputs": [],
   "source": [
    "# a_S_tandard_L_ibrary-imports\n",
    "import struct"
   ]
  },
  {
   "cell_type": "code",
   "execution_count": 2,
   "metadata": {},
   "outputs": [
    {
     "name": "stdout",
     "output_type": "stream",
     "text": [
      "Functions to convert between Python values and C structs.\n",
      "Python bytes objects are used to hold the data representing the C struct\n",
      "and also as format strings (explained below) to describe the layout of data\n",
      "in the C struct.\n",
      "\n",
      "The optional first format char indicates byte order, size and alignment:\n",
      "  @: native order, size & alignment (default)\n",
      "  =: native order, std. size & alignment\n",
      "  <: little-endian, std. size & alignment\n",
      "  >: big-endian, std. size & alignment\n",
      "  !: same as >\n",
      "\n",
      "The remaining chars indicate types of args and must match exactly;\n",
      "these can be preceded by a decimal repeat count:\n",
      "  x: pad byte (no data); c:char; b:signed byte; B:unsigned byte;\n",
      "  ?: _Bool (requires C99; if not available, char is used instead)\n",
      "  h:short; H:unsigned short; i:int; I:unsigned int;\n",
      "  l:long; L:unsigned long; f:float; d:double; e:half-float.\n",
      "Special cases (preceding decimal count indicates length):\n",
      "  s:string (array of char); p: pascal string (with count byte).\n",
      "Special cases (only available in native format):\n",
      "  n:ssize_t; N:size_t;\n",
      "  P:an integer type that is wide enough to hold a pointer.\n",
      "Special case (not in native mode unless 'long long' in platform C):\n",
      "  q:long long; Q:unsigned long long\n",
      "Whitespace between formats is ignored.\n",
      "\n",
      "The variable struct.error is an exception raised on errors.\n",
      "\n"
     ]
    }
   ],
   "source": [
    "# module struct - attribute __doc__\n",
    "print(struct.__doc__)"
   ]
  },
  {
   "cell_type": "markdown",
   "metadata": {},
   "source": [
    "***\n",
    "# END"
   ]
  }
 ],
 "metadata": {
  "kernelspec": {
   "display_name": "Python 3",
   "language": "python",
   "name": "python3"
  },
  "language_info": {
   "codemirror_mode": {
    "name": "ipython",
    "version": 3
   },
   "file_extension": ".py",
   "mimetype": "text/x-python",
   "name": "python",
   "nbconvert_exporter": "python",
   "pygments_lexer": "ipython3",
   "version": "3.8.3"
  }
 },
 "nbformat": 4,
 "nbformat_minor": 4
}
