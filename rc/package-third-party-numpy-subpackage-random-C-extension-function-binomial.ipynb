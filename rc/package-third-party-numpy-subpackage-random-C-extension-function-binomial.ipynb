{
 "cells": [
  {
   "cell_type": "markdown",
   "metadata": {},
   "source": [
    "# package-third-party-numpy-subpackage-random-C-extension-function-binomial\n",
    "> [TABLE OF CONTENTS](https://nbviewer.jupyter.org/github/SeanOhAileasa/fubar-python/blob/main/fubar-python.ipynb#top)\n",
    "***"
   ]
  },
  {
   "cell_type": "code",
   "execution_count": 1,
   "metadata": {},
   "outputs": [],
   "source": [
    "# b_T_hird_P_arty-imports\n",
    "import numpy.random"
   ]
  },
  {
   "cell_type": "code",
   "execution_count": 2,
   "metadata": {},
   "outputs": [
    {
     "name": "stdout",
     "output_type": "stream",
     "text": [
      "\n",
      "        binomial(n, p, size=None)\n",
      "\n",
      "        Draw samples from a binomial distribution.\n",
      "\n",
      "        Samples are drawn from a binomial distribution with specified\n",
      "        parameters, n trials and p probability of success where\n",
      "        n an integer >= 0 and p is in the interval [0,1]. (n may be\n",
      "        input as a float, but it is truncated to an integer in use)\n",
      "\n",
      "        .. note::\n",
      "            New code should use the ``binomial`` method of a ``default_rng()``\n",
      "            instance instead; see `random-quick-start`.\n",
      "\n",
      "        Parameters\n",
      "        ----------\n",
      "        n : int or array_like of ints\n",
      "            Parameter of the distribution, >= 0. Floats are also accepted,\n",
      "            but they will be truncated to integers.\n",
      "        p : float or array_like of floats\n",
      "            Parameter of the distribution, >= 0 and <=1.\n",
      "        size : int or tuple of ints, optional\n",
      "            Output shape.  If the given shape is, e.g., ``(m, n, k)``, then\n",
      "            ``m * n * k`` samples are drawn.  If size is ``None`` (default),\n",
      "            a single value is returned if ``n`` and ``p`` are both scalars.\n",
      "            Otherwise, ``np.broadcast(n, p).size`` samples are drawn.\n",
      "\n",
      "        Returns\n",
      "        -------\n",
      "        out : ndarray or scalar\n",
      "            Drawn samples from the parameterized binomial distribution, where\n",
      "            each sample is equal to the number of successes over the n trials.\n",
      "\n",
      "        See Also\n",
      "        --------\n",
      "        scipy.stats.binom : probability density function, distribution or\n",
      "            cumulative density function, etc.\n",
      "        Generator.binomial: which should be used for new code.\n",
      "\n",
      "        Notes\n",
      "        -----\n",
      "        The probability density for the binomial distribution is\n",
      "\n",
      "        .. math:: P(N) = \\binom{n}{N}p^N(1-p)^{n-N},\n",
      "\n",
      "        where :math:`n` is the number of trials, :math:`p` is the probability\n",
      "        of success, and :math:`N` is the number of successes.\n",
      "\n",
      "        When estimating the standard error of a proportion in a population by\n",
      "        using a random sample, the normal distribution works well unless the\n",
      "        product p*n <=5, where p = population proportion estimate, and n =\n",
      "        number of samples, in which case the binomial distribution is used\n",
      "        instead. For example, a sample of 15 people shows 4 who are left\n",
      "        handed, and 11 who are right handed. Then p = 4/15 = 27%. 0.27*15 = 4,\n",
      "        so the binomial distribution should be used in this case.\n",
      "\n",
      "        References\n",
      "        ----------\n",
      "        .. [1] Dalgaard, Peter, \"Introductory Statistics with R\",\n",
      "               Springer-Verlag, 2002.\n",
      "        .. [2] Glantz, Stanton A. \"Primer of Biostatistics.\", McGraw-Hill,\n",
      "               Fifth Edition, 2002.\n",
      "        .. [3] Lentner, Marvin, \"Elementary Applied Statistics\", Bogden\n",
      "               and Quigley, 1972.\n",
      "        .. [4] Weisstein, Eric W. \"Binomial Distribution.\" From MathWorld--A\n",
      "               Wolfram Web Resource.\n",
      "               http://mathworld.wolfram.com/BinomialDistribution.html\n",
      "        .. [5] Wikipedia, \"Binomial distribution\",\n",
      "               https://en.wikipedia.org/wiki/Binomial_distribution\n",
      "\n",
      "        Examples\n",
      "        --------\n",
      "        Draw samples from the distribution:\n",
      "\n",
      "        >>> n, p = 10, .5  # number of trials, probability of each trial\n",
      "        >>> s = np.random.binomial(n, p, 1000)\n",
      "        # result of flipping a coin 10 times, tested 1000 times.\n",
      "\n",
      "        A real world example. A company drills 9 wild-cat oil exploration\n",
      "        wells, each with an estimated probability of success of 0.1. All nine\n",
      "        wells fail. What is the probability of that happening?\n",
      "\n",
      "        Let's do 20,000 trials of the model, and count the number that\n",
      "        generate zero positive results.\n",
      "\n",
      "        >>> sum(np.random.binomial(9, 0.1, 20000) == 0)/20000.\n",
      "        # answer = 0.38885, or 38%.\n",
      "\n",
      "        \n"
     ]
    }
   ],
   "source": [
    "# package numpy - subpackage random - C function binomial - call - attribute __doc__ - access\n",
    "print(numpy.random.binomial.__doc__)"
   ]
  },
  {
   "cell_type": "code",
   "execution_count": 3,
   "metadata": {},
   "outputs": [],
   "source": [
    "# Kernel - Restart\n",
    "exit()"
   ]
  },
  {
   "cell_type": "code",
   "execution_count": 1,
   "metadata": {},
   "outputs": [],
   "source": [
    "# b_T_hird_P_arty-imports\n",
    "import numpy as np"
   ]
  },
  {
   "cell_type": "markdown",
   "metadata": {},
   "source": [
    "- **simulation** - counting the number of times a coin lands on heads - 1 [10]"
   ]
  },
  {
   "cell_type": "markdown",
   "metadata": {},
   "source": [
    "- `n` - $integer >=0$ - number of trials - $1$ - coin flip is a trial - result in only two possible outcomes - heads or tails - calling heads a success - 1 - tails a failure - 0 [10]"
   ]
  },
  {
   "cell_type": "markdown",
   "metadata": {},
   "source": [
    "- `p` - $interval [0,1]$ - probability of each trial - probability of success is constant - one half on each trial - $0.5$ [10]"
   ]
  },
  {
   "cell_type": "code",
   "execution_count": 2,
   "metadata": {},
   "outputs": [],
   "source": [
    "# package numpy alias np - subpackage random - C function binomial - arguments\n",
    "n,p=1,0.5"
   ]
  },
  {
   "cell_type": "code",
   "execution_count": 3,
   "metadata": {},
   "outputs": [
    {
     "data": {
      "text/plain": [
       "1"
      ]
     },
     "execution_count": 3,
     "metadata": {},
     "output_type": "execute_result"
    }
   ],
   "source": [
    "# package numpy alias np - subpackage random - C function binomial - call\n",
    "np.random.binomial(n,p)"
   ]
  },
  {
   "cell_type": "code",
   "execution_count": 4,
   "metadata": {},
   "outputs": [
    {
     "data": {
      "text/plain": [
       "0"
      ]
     },
     "execution_count": 4,
     "metadata": {},
     "output_type": "execute_result"
    }
   ],
   "source": [
    "# package numpy alias np - subpackage random - C function binomial - call\n",
    "np.random.binomial(n,p)"
   ]
  },
  {
   "cell_type": "markdown",
   "metadata": {},
   "source": [
    "- `size` - each coin flip is a trail - tested one time - single batch - $1$ [10]"
   ]
  },
  {
   "cell_type": "code",
   "execution_count": 5,
   "metadata": {},
   "outputs": [],
   "source": [
    "# package numpy alias np - subpackage random - C function binomial - arguments\n",
    "n,p,size=1,0.5,1"
   ]
  },
  {
   "cell_type": "code",
   "execution_count": 6,
   "metadata": {},
   "outputs": [
    {
     "data": {
      "text/plain": [
       "array([1])"
      ]
     },
     "execution_count": 6,
     "metadata": {},
     "output_type": "execute_result"
    }
   ],
   "source": [
    "# package numpy alias np - subpackage random - C function binomial - call\n",
    "np.random.binomial(n,p,size)"
   ]
  },
  {
   "cell_type": "markdown",
   "metadata": {},
   "source": [
    "- `size` - each coin flip is a trail - tested two times - batches - $2$ [10]"
   ]
  },
  {
   "cell_type": "code",
   "execution_count": 7,
   "metadata": {},
   "outputs": [],
   "source": [
    "# package numpy alias np - subpackage random - C function binomial - arguments\n",
    "n,p,size=1,0.5,2"
   ]
  },
  {
   "cell_type": "code",
   "execution_count": 8,
   "metadata": {},
   "outputs": [
    {
     "data": {
      "text/plain": [
       "array([0, 0])"
      ]
     },
     "execution_count": 8,
     "metadata": {},
     "output_type": "execute_result"
    }
   ],
   "source": [
    "# package numpy alias np - subpackage random - C function binomial - call\n",
    "np.random.binomial(n,p,size)"
   ]
  },
  {
   "cell_type": "markdown",
   "metadata": {},
   "source": [
    "- `p` - $interval [0,1]$ - probability of each trial - probability of success - $0.7$ - 70% percent of the time its a success - heads - $0.3$ - 30% of the time its a failure - tails [10]"
   ]
  },
  {
   "cell_type": "markdown",
   "metadata": {},
   "source": [
    "- `size` - each coin flip is a trail - tested ten times - batches - $10$ [10]"
   ]
  },
  {
   "cell_type": "code",
   "execution_count": 9,
   "metadata": {},
   "outputs": [],
   "source": [
    "# package numpy alias np - subpackage random - C function binomial - arguments\n",
    "n,p,size=1,0.7,10"
   ]
  },
  {
   "cell_type": "code",
   "execution_count": 10,
   "metadata": {},
   "outputs": [
    {
     "data": {
      "text/plain": [
       "array([1, 1, 0, 0, 0, 0, 1, 1, 1, 1])"
      ]
     },
     "execution_count": 10,
     "metadata": {},
     "output_type": "execute_result"
    }
   ],
   "source": [
    "# package numpy alias np - subpackage random - C function binomial - call\n",
    "np.random.binomial(n,p,size)"
   ]
  },
  {
   "cell_type": "markdown",
   "metadata": {},
   "source": [
    "- `n` - $integer >=0$ - number of trials - $1000$ - coin flip is a trial - result in only two possible outcomes - heads or tails - calling heads a success - $1$ - tails a failure - $0$ [10]"
   ]
  },
  {
   "cell_type": "markdown",
   "metadata": {},
   "source": [
    "- `p` - $interval [0,1]$ - probability of each trial - probability of success is constant - one half on each trial - $0.5$ [10]"
   ]
  },
  {
   "cell_type": "markdown",
   "metadata": {},
   "source": [
    "- `size` - each coin flip is a trail - tested one time - single batch - $1$ [10]"
   ]
  },
  {
   "cell_type": "code",
   "execution_count": 11,
   "metadata": {},
   "outputs": [],
   "source": [
    "# package numpy alias np - subpackage random - C function binomial - arguments\n",
    "n,p,size=1000,0.5,1"
   ]
  },
  {
   "cell_type": "markdown",
   "metadata": {},
   "source": [
    "- in general - reasonable to suspect to see 500 - or - at least around 500 heads - flipping a coin 1000 times - perfectly possible to get 1000 heads - unlikely - but possible - perfectly possible to get 1000 tails - unlikely - but possible [10]"
   ]
  },
  {
   "cell_type": "code",
   "execution_count": 12,
   "metadata": {},
   "outputs": [
    {
     "data": {
      "text/plain": [
       "array([486])"
      ]
     },
     "execution_count": 12,
     "metadata": {},
     "output_type": "execute_result"
    }
   ],
   "source": [
    "# package numpy alias np - subpackage random - C function binomial - call\n",
    "np.random.binomial(n,p,size)"
   ]
  },
  {
   "cell_type": "markdown",
   "metadata": {},
   "source": [
    "- `n` - $integer >=0$ - number of trials - $2000$ - coin flip is a trial - result in only two possible outcomes - heads or tails - calling heads a success - $1$ - tails a failure - $0$ [10]"
   ]
  },
  {
   "cell_type": "markdown",
   "metadata": {},
   "source": [
    "- `size` - each coin flip is a trail - tested one-thousand times - batches - $1000$ [10]"
   ]
  },
  {
   "cell_type": "code",
   "execution_count": 13,
   "metadata": {},
   "outputs": [],
   "source": [
    "# package numpy alias np - subpackage random - C function binomial - arguments\n",
    "n,p,size=2000,0.5,1000"
   ]
  },
  {
   "cell_type": "code",
   "execution_count": 14,
   "metadata": {},
   "outputs": [
    {
     "data": {
      "text/plain": [
       "array([ 993, 1029,  981,  997, 1013,  986,  987,  997, 1006, 1024, 1007,\n",
       "       1010,  982, 1018, 1003, 1040,  971, 1011, 1045, 1008, 1025,  991,\n",
       "       1034, 1008,  982,  996,  968, 1006, 1014,  990, 1020, 1002,  987,\n",
       "        952, 1020,  980, 1021, 1028,  988,  992,  971,  997,  982,  996,\n",
       "       1016,  999,  982, 1027, 1008, 1048,  958, 1006,  979,  993,  960,\n",
       "        968, 1004, 1018,  982, 1021, 1059,  995, 1009, 1008, 1006, 1004,\n",
       "        991,  979, 1020, 1025, 1044, 1026, 1017,  958, 1018, 1010,  999,\n",
       "       1027, 1004, 1012, 1017, 1009,  985, 1019, 1003, 1010,  995, 1017,\n",
       "        997, 1013, 1013,  978,  969, 1024, 1020, 1001,  984,  979, 1001,\n",
       "        943, 1029,  963,  999,  995, 1046, 1008,  972, 1024, 1040, 1014,\n",
       "       1077,  982, 1006,  993,  980, 1009,  970, 1045,  966, 1020, 1017,\n",
       "        974, 1020, 1004, 1046, 1015, 1035, 1024,  957,  967,  990,  984,\n",
       "       1005,  998, 1012, 1023, 1031,  995, 1046, 1014,  983, 1019, 1029,\n",
       "        996, 1000,  986, 1010,  973,  972,  991,  981,  967,  989,  997,\n",
       "       1008,  978,  990, 1038,  924,  983,  996,  997, 1022, 1007,  996,\n",
       "       1021,  962, 1040, 1044,  997, 1002, 1022, 1022, 1011,  972, 1012,\n",
       "        984,  971,  992,  982, 1025,  999, 1020,  977, 1022,  974, 1012,\n",
       "       1000, 1025,  996, 1003,  972,  982,  980, 1020, 1010,  997,  991,\n",
       "       1032, 1005, 1026,  997, 1024, 1014,  978,  994, 1020, 1021, 1031,\n",
       "       1008, 1019, 1041, 1018, 1032,  999, 1037, 1049,  992, 1008,  991,\n",
       "        976,  977, 1001,  997, 1024,  997, 1009, 1023, 1015, 1006,  982,\n",
       "       1017, 1006, 1000,  976, 1005,  981,  966, 1006, 1038, 1037,  971,\n",
       "       1005, 1023, 1008, 1008, 1009, 1011, 1013, 1013, 1016,  996, 1013,\n",
       "        978,  933,  936, 1052, 1000, 1029, 1009, 1027,  989,  993, 1012,\n",
       "       1024, 1002,  980,  985, 1028,  988,  995, 1036, 1030, 1002, 1028,\n",
       "       1006,  974, 1001,  984,  999,  986,  963,  971, 1030, 1023, 1006,\n",
       "       1019, 1028,  974,  975, 1004,  997, 1015, 1027,  983, 1015, 1009,\n",
       "        971,  957,  954, 1020,  985, 1016,  997, 1031,  996, 1024, 1004,\n",
       "       1041,  984,  993, 1010, 1012,  971, 1024, 1023,  954, 1019, 1018,\n",
       "       1032,  981, 1013,  971,  981,  997, 1007,  995,  999, 1012, 1011,\n",
       "        992,  982,  954,  977, 1004,  994, 1016, 1017,  982,  984,  990,\n",
       "       1038, 1009,  989, 1013, 1007, 1011, 1010,  997, 1022,  982,  974,\n",
       "        962,  987, 1017,  987,  999,  993,  983,  980,  987,  947, 1002,\n",
       "        976, 1017,  969, 1020,  970,  996, 1005, 1006, 1044, 1028, 1000,\n",
       "       1016,  985,  997,  988,  995,  993,  994,  993, 1011,  970, 1013,\n",
       "       1015,  984, 1017,  996, 1034,  989, 1022, 1026, 1002,  968,  990,\n",
       "       1013, 1007, 1056, 1002, 1010, 1003, 1037, 1032, 1022,  997,  982,\n",
       "        992,  949,  995, 1010, 1006, 1023, 1017, 1011,  967, 1021,  986,\n",
       "       1023,  983,  988,  977, 1007,  993, 1012,  983, 1011, 1017, 1000,\n",
       "        992, 1000, 1016, 1009, 1005, 1037, 1014,  947,  990,  955, 1018,\n",
       "        986,  985, 1037,  988, 1005, 1041, 1019,  991,  982,  981,  983,\n",
       "        965, 1041, 1022,  999, 1036,  975,  989, 1024, 1037,  961,  976,\n",
       "        946,  985,  998,  968, 1002, 1008, 1031, 1026,  983, 1042,  988,\n",
       "        990, 1039,  968,  986, 1048,  995, 1006,  999, 1000, 1014,  993,\n",
       "       1001,  997,  988, 1019, 1036,  991, 1002, 1027, 1006,  983, 1012,\n",
       "        975,  985, 1003,  967,  984,  976,  988,  995,  968,  975, 1007,\n",
       "       1003,  998, 1003, 1001, 1028,  997,  972,  992,  966,  954,  996,\n",
       "        957, 1023, 1030,  972,  968, 1007,  972, 1024, 1020,  941, 1033,\n",
       "        997, 1026, 1016, 1009, 1005,  955,  986,  976, 1047, 1022,  991,\n",
       "       1030, 1039,  994, 1020, 1032, 1012,  975,  997, 1004,  964,  979,\n",
       "        974,  997, 1017,  978,  997,  995,  986,  980, 1057, 1010, 1027,\n",
       "        992, 1055,  990,  995,  985, 1011,  980, 1009, 1008, 1022,  974,\n",
       "       1004,  979, 1010,  997,  983, 1002,  998, 1021, 1005, 1008,  985,\n",
       "        976, 1017,  978,  983,  946,  982, 1009,  986, 1019,  997, 1013,\n",
       "       1056, 1009,  973, 1032, 1006,  999, 1004,  992, 1000,  973,  991,\n",
       "       1014, 1038,  996,  977, 1006,  984,  988,  991,  971, 1031,  972,\n",
       "        969,  993, 1010, 1013,  990, 1004,  985, 1011,  988,  984, 1012,\n",
       "       1016,  994, 1016, 1041,  992, 1039, 1020, 1024, 1000, 1023, 1023,\n",
       "        962, 1035,  986, 1037, 1031,  992, 1013, 1000, 1040,  994,  986,\n",
       "       1041,  979,  993,  980,  998,  990, 1014,  995,  998, 1016,  983,\n",
       "       1028,  991,  994, 1029, 1018, 1029, 1005,  961, 1008, 1004, 1012,\n",
       "        984, 1006, 1027,  998, 1020, 1017, 1036,  964, 1016, 1022,  983,\n",
       "       1016, 1032, 1023, 1002, 1001, 1031,  986, 1044,  967,  988, 1008,\n",
       "        997, 1020, 1021,  963,  985, 1005, 1055,  998,  979, 1008, 1006,\n",
       "        986,  986, 1054, 1013,  999,  960,  996, 1016,  972,  998, 1015,\n",
       "        981,  984,  986, 1007,  993, 1023, 1030,  993, 1031,  998, 1001,\n",
       "        991, 1007, 1023, 1017, 1006, 1023,  974,  990, 1021,  982,  985,\n",
       "        998,  981,  991,  978,  980,  969,  996,  990,  985, 1007, 1007,\n",
       "        984,  999,  986, 1010,  995, 1023, 1044, 1005,  985,  980, 1008,\n",
       "       1003, 1036, 1000, 1014,  982,  997, 1004, 1034, 1016,  999,  988,\n",
       "        987,  992, 1012, 1011, 1054, 1029,  998, 1058, 1046, 1005,  974,\n",
       "        959,  981,  993, 1016,  981,  978, 1008, 1000,  968, 1014, 1008,\n",
       "       1024,  984, 1003,  992, 1026,  981,  991,  973, 1022, 1012,  998,\n",
       "        994,  997,  978,  988, 1004,  969,  982,  984,  993, 1018, 1010,\n",
       "       1023, 1022, 1008,  965, 1026,  989,  995, 1043, 1001, 1042, 1005,\n",
       "        983,  991,  976,  964,  994,  985, 1030, 1025, 1013, 1016,  945,\n",
       "        993,  992,  995,  967,  954,  978, 1026,  980, 1029, 1029,  983,\n",
       "        978, 1036,  986, 1000, 1007,  984, 1003, 1027,  994, 1016,  975,\n",
       "       1001, 1054, 1037,  985, 1004, 1002,  991,  989,  979, 1003,  951,\n",
       "        995,  984,  978, 1004,  967, 1001,  991,  982, 1000,  992,  984,\n",
       "        995,  983,  994, 1007,  971, 1031,  990,  994,  982,  990,  972,\n",
       "        991,  947, 1008, 1015,  981, 1000, 1029,  979, 1031, 1008,  988,\n",
       "        985,  976,  994, 1026, 1033,  981,  964,  982, 1064,  999,  987,\n",
       "        991, 1017, 1005, 1041, 1026, 1031,  953,  972, 1003, 1023, 1030,\n",
       "       1001,  986,  987, 1032, 1012,  970, 1019, 1009,  986, 1008, 1016,\n",
       "       1005, 1014,  998, 1036,  988, 1024, 1019, 1019,  966, 1032,  980,\n",
       "        995,  980, 1029, 1005,  985, 1012, 1034,  950, 1023, 1008, 1013,\n",
       "        968,  999, 1013, 1015,  996, 1071, 1009,  975,  995, 1021, 1010,\n",
       "       1074, 1008,  994, 1007, 1009,  953,  985,  917,  988,  984,  970,\n",
       "        983,  998,  987,  973,  994, 1010,  996, 1010,  977,  979, 1008,\n",
       "       1001,  980,  992, 1007, 1009, 1036,  989, 1018, 1046,  981])"
      ]
     },
     "execution_count": 14,
     "metadata": {},
     "output_type": "execute_result"
    }
   ],
   "source": [
    "# package numpy alias np - subpackage random - C function binomial - call\n",
    "np.random.binomial(n,p,size)"
   ]
  },
  {
   "cell_type": "markdown",
   "metadata": {},
   "source": [
    "***\n",
    "\n",
    "- refer: [[stochasticism](https://nbviewer.jupyter.org/github/SeanOhAileasa/fubar-python/blob/main/fubar-python.ipynb#top/L8733/blob/master/src/hdp/mls/stochasticism.ipynb)]\n",
    "- refer: [[package-third-party-seaborn-module-distributions-function-distplot](https://nbviewer.jupyter.org/github/SeanOhAileasa/fubar-python/blob/main/fubar-python.ipynb#top/L8733/blob/master/src/pro/par/pyt/package-third-party-seaborn-module-distributions-function-distplot.ipynb)]\n",
    "\n",
    "***"
   ]
  },
  {
   "cell_type": "markdown",
   "metadata": {},
   "source": [
    "***\n",
    "# END"
   ]
  }
 ],
 "metadata": {
  "kernelspec": {
   "display_name": "Python 3",
   "language": "python",
   "name": "python3"
  },
  "language_info": {
   "codemirror_mode": {
    "name": "ipython",
    "version": 3
   },
   "file_extension": ".py",
   "mimetype": "text/x-python",
   "name": "python",
   "nbconvert_exporter": "python",
   "pygments_lexer": "ipython3",
   "version": "3.8.3"
  }
 },
 "nbformat": 4,
 "nbformat_minor": 4
}
