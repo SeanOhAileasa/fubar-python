{
 "cells": [
  {
   "cell_type": "markdown",
   "metadata": {},
   "source": [
    "# function-user-defined-args\n",
    "> [TABLE OF CONTENTS](https://nbviewer.jupyter.org/github/SeanOhAileasa/fubar-python/blob/main/fubar-python.ipynb#top)\n",
    "***"
   ]
  },
  {
   "cell_type": "markdown",
   "metadata": {},
   "source": [
    "- \\*args - \\*\\*kwargs - allow the passing of multiple - arguments - or - keywords arguments - to a function - fSum - takes two arugments and returns sum - works fine albeit limited to only two arguments - it is possible to sum a varying number of arguments whereby the specific number of arguments passed is only determined at runtime [8]"
   ]
  },
  {
   "cell_type": "code",
   "execution_count": 1,
   "metadata": {},
   "outputs": [],
   "source": [
    "# define function - fSum\n",
    "def fSum(nParA,nParB):\n",
    "    return nParA+nParB"
   ]
  },
  {
   "cell_type": "code",
   "execution_count": 2,
   "metadata": {},
   "outputs": [
    {
     "data": {
      "text/plain": [
       "5"
      ]
     },
     "execution_count": 2,
     "metadata": {},
     "output_type": "execute_result"
    }
   ],
   "source": [
    "# function fSum - call\n",
    "fSum(2,3)"
   ]
  },
  {
   "cell_type": "markdown",
   "metadata": {},
   "source": [
    "- most intuitive way to pass a varying number of arguments to a function is via collections - pass - list - set - of all the arguments to the function - fSum - could pass a list of all the integers to be added - implementation works but when calling the function need also to create a list of arguments to pass to it - inconvenient if do not know up front all the values that should go into the list - this is where - \\*args - can be useful [8]"
   ]
  },
  {
   "cell_type": "code",
   "execution_count": 3,
   "metadata": {},
   "outputs": [],
   "source": [
    "# define function - fSumLt\n",
    "def fSumLt(nParIntegers):\n",
    "    nLocResult=0\n",
    "    for nEachValue in nParIntegers:\n",
    "        nLocResult+=nEachValue\n",
    "    return nLocResult"
   ]
  },
  {
   "cell_type": "code",
   "execution_count": 4,
   "metadata": {},
   "outputs": [
    {
     "data": {
      "text/plain": [
       "10"
      ]
     },
     "execution_count": 4,
     "metadata": {},
     "output_type": "execute_result"
    }
   ],
   "source": [
    "nListIntegers=[2,3,5]\n",
    "# function fSumLt - call\n",
    "fSumLt(nListIntegers)"
   ]
  },
  {
   "cell_type": "markdown",
   "metadata": {},
   "source": [
    "- \\*args - allows the passing of a varying number of positional arguments - no longer need to pass a list to the function as in - fSumLt - instead passing four different positional arguments - fSumUnk - takes all the arguments that are provided in the input and packs all into a single iterable object parameter named - args [8]"
   ]
  },
  {
   "cell_type": "code",
   "execution_count": 5,
   "metadata": {},
   "outputs": [],
   "source": [
    "# define function - fSumUnk\n",
    "def fSumUnk(*args):\n",
    "    nLocResult=0\n",
    "    for nEachValue in args:\n",
    "        nLocResult+=nEachValue\n",
    "    return nLocResult"
   ]
  },
  {
   "cell_type": "code",
   "execution_count": 6,
   "metadata": {},
   "outputs": [
    {
     "data": {
      "text/plain": [
       "17"
      ]
     },
     "execution_count": 6,
     "metadata": {},
     "output_type": "execute_result"
    }
   ],
   "source": [
    "# function fSumUnk - call\n",
    "fSumUnk(2,3,5,7)"
   ]
  },
  {
   "cell_type": "markdown",
   "metadata": {},
   "source": [
    "- args - is just a name - not required to use the name args - can choose any name - passing the iterable object - nParArgs - instead of - args - all that matters here is the use of the unpacking operator - \\* [8]"
   ]
  },
  {
   "cell_type": "code",
   "execution_count": 7,
   "metadata": {},
   "outputs": [],
   "source": [
    "# define function - fSumUnk\n",
    "def fSumUnk(*nParArgs):\n",
    "    nLocResult=0\n",
    "    for nEachValue in nParArgs:\n",
    "        nLocResult+=nEachValue\n",
    "    return nLocResult"
   ]
  },
  {
   "cell_type": "code",
   "execution_count": 8,
   "metadata": {},
   "outputs": [
    {
     "data": {
      "text/plain": [
       "28"
      ]
     },
     "execution_count": 8,
     "metadata": {},
     "output_type": "execute_result"
    }
   ],
   "source": [
    "# function fSumUnk - call\n",
    "fSumUnk(2,3,5,7,11)"
   ]
  },
  {
   "cell_type": "markdown",
   "metadata": {},
   "source": [
    "- args - just the name often used by convention - args - short for arguments - the operative difference between - args - kwargs - is the asterisk characters - a single asterisk - \\*  - before a name means expand this as a sequence [1.44] - iterable object obtained using the unpacking operator - \\* - is not a list but a - tuple - tuple is similar to a list in that they both support slicing and iteration however the - tuple - is immutable [8] - this syntax can be used not only with the function definition but with the function call also [1.44]"
   ]
  },
  {
   "cell_type": "code",
   "execution_count": 9,
   "metadata": {},
   "outputs": [],
   "source": [
    "# define function - fCatchAll\n",
    "def fCatchAll(*nParArgs):\n",
    "    return nParArgs"
   ]
  },
  {
   "cell_type": "code",
   "execution_count": 10,
   "metadata": {},
   "outputs": [
    {
     "data": {
      "text/plain": [
       "(2, 3, 5, 7, 11)"
      ]
     },
     "execution_count": 10,
     "metadata": {},
     "output_type": "execute_result"
    }
   ],
   "source": [
    "# function fCatchAll - call\n",
    "fCatchAll(2,3,5,7,11)"
   ]
  },
  {
   "cell_type": "code",
   "execution_count": 11,
   "metadata": {},
   "outputs": [
    {
     "data": {
      "text/plain": [
       "('a',)"
      ]
     },
     "execution_count": 11,
     "metadata": {},
     "output_type": "execute_result"
    }
   ],
   "source": [
    "# function fCatchAll - call\n",
    "fCatchAll(\"a\")"
   ]
  },
  {
   "cell_type": "code",
   "execution_count": 12,
   "metadata": {},
   "outputs": [
    {
     "data": {
      "text/plain": [
       "(2, 3, 5, 7, 11)"
      ]
     },
     "execution_count": 12,
     "metadata": {},
     "output_type": "execute_result"
    }
   ],
   "source": [
    "# function fCatchAll - call\n",
    "fCatchAll(*[2,3,5,7,11])"
   ]
  },
  {
   "cell_type": "markdown",
   "metadata": {},
   "source": [
    "***\n",
    "# END"
   ]
  }
 ],
 "metadata": {
  "kernelspec": {
   "display_name": "Python 3",
   "language": "python",
   "name": "python3"
  },
  "language_info": {
   "codemirror_mode": {
    "name": "ipython",
    "version": 3
   },
   "file_extension": ".py",
   "mimetype": "text/x-python",
   "name": "python",
   "nbconvert_exporter": "python",
   "pygments_lexer": "ipython3",
   "version": "3.7.6"
  }
 },
 "nbformat": 4,
 "nbformat_minor": 4
}
