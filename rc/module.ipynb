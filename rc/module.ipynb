{
 "cells": [
  {
   "cell_type": "markdown",
   "metadata": {},
   "source": [
    "# module\n",
    "> [TABLE OF CONTENTS](https://nbviewer.jupyter.org/github/SeanOhAileasa/fubar-python/blob/main/fubar-python.ipynb#top)\n",
    "***"
   ]
  },
  {
   "cell_type": "markdown",
   "metadata": {},
   "source": [
    "- three different ways to define a module in python - i) written in python - ii) written in C - loaded dynamically at run-time - regular expression module - re - iii) using a built-in module intrinsically contained in the interpreter - itertools module [8]\n",
    "\n",
    "\n",
    "- module contents are accessed the same way in all three cases using the statement - import [8]"
   ]
  },
  {
   "cell_type": "code",
   "execution_count": 1,
   "metadata": {},
   "outputs": [
    {
     "name": "stdout",
     "output_type": "stream",
     "text": [
      "/c/Users/E6985/L8733/src/pro/par/pyt\n",
      "<make directory> : py-module\n",
      "../pyt/py-module\n"
     ]
    }
   ],
   "source": [
    "%%script bash\n",
    "pwd # working directory\n",
    "echo \"<make directory> : py-module\"; mkdir py-module\n",
    "find ../* -name \"py-module\" # directory"
   ]
  },
  {
   "cell_type": "code",
   "execution_count": 2,
   "metadata": {},
   "outputs": [
    {
     "name": "stdout",
     "output_type": "stream",
     "text": [
      "Writing py-module/cMod.py\n"
     ]
    }
   ],
   "source": [
    "%%writefile py-module/cMod.py\n",
    "\"\"\"cMod <Plain text file designed to be imported/used from another .py file.>\"\"\"\n",
    "\n",
    "# C_lass-definitions\n",
    "class C:\n",
    "    \"\"\"cMod.C\"\"\"\n",
    "    pass\n",
    "\n",
    "# f_function definitions\n",
    "def f():\n",
    "    \"\"\"cMod.f\"\"\"\n",
    "    return f.__doc__\n",
    "\n",
    "def main():\n",
    "    \"\"\"cMod.main\"\"\"\n",
    "    print(\"<docstring> : {}\".format(main.__doc__))\n",
    "    print(\"    <scope> : {}\".format(n))\n",
    "\n",
    "# n_ames-to-references\n",
    "n=__name__\n",
    "\n",
    "# special attribute - __name__\n",
    "if __name__==\"__main__\": # evaluate current module\n",
    "    print(\" <__name__> : {}\".format(__name__))\n",
    "    print(\"<docstring> : {}\".format(__doc__,end=\"\"))\n",
    "    # function main - call\n",
    "    main()\n",
    "    \n",
    "else:\n",
    "    print(\" <__name__> : {}\".format(__name__))\n",
    "    print(\"<docstring> : {}\".format(__doc__,end=\"\"))\n",
    "    print(\"    <scope> : {}\".format(__name__))"
   ]
  },
  {
   "cell_type": "code",
   "execution_count": 3,
   "metadata": {},
   "outputs": [
    {
     "name": "stdout",
     "output_type": "stream",
     "text": [
      "../pyt/py-module/cMod.py\n"
     ]
    }
   ],
   "source": [
    "%%script bash\n",
    "find ../* -name \"cMod.py\" # file directory\n",
    "d=`date +_%A_%m_%d_%Y_%H_%M_%S` # date\n",
    "mkdir backup/cMod # backup directory\n",
    "cp py-module/cMod.py backup/cMod/cMod-module$d.py # backup"
   ]
  },
  {
   "cell_type": "markdown",
   "metadata": {},
   "source": [
    "- when the interpreter executes the statement - import - it searches for the module in a list of directories assembled from a number of sources [8]"
   ]
  },
  {
   "cell_type": "code",
   "execution_count": 4,
   "metadata": {},
   "outputs": [
    {
     "name": "stdout",
     "output_type": "stream",
     "text": [
      "Writing py-module/s.py\n"
     ]
    }
   ],
   "source": [
    "%%writefile py-module/s.py\n",
    "\"\"\"s <Plain text file intended to be directly executed.>\"\"\"\n",
    "\n",
    "# c_L_ocal_A_pplication-imports\n",
    "import cMod\n",
    "\n",
    "# f_function definitions\n",
    "def main():\n",
    "    \"\"\"s.main\"\"\"\n",
    "    print(\"<docstring> : {}\".format(main.__doc__,end=\"\"))\n",
    "    print(\"    <scope> : {}\".format(__name__))\n",
    "\n",
    "# special attribute - __name__\n",
    "if __name__==\"__main__\": # evaluate current module\n",
    "    print(\" <__name__> : {}\".format(__name__))\n",
    "    print(\"<docstring> : {}\".format(__doc__,end=\"\"))\n",
    "    # function main - call\n",
    "    main()"
   ]
  },
  {
   "cell_type": "markdown",
   "metadata": {},
   "source": [
    "- 1.a) module search path - source - interpreter executes - import - directory from which the script is run [8]"
   ]
  },
  {
   "cell_type": "markdown",
   "metadata": {},
   "source": [
    "- ensure module - cMod - is found put the module file in the directory where the script - s - is located [8]"
   ]
  },
  {
   "cell_type": "code",
   "execution_count": 5,
   "metadata": {},
   "outputs": [
    {
     "name": "stdout",
     "output_type": "stream",
     "text": [
      "../pyt/py-module/s.py\n",
      " <__name__> : cMod\r\n",
      "<docstring> : cMod <Plain text file designed to be imported/used from another .py file.>\r\n",
      "    <scope> : cMod\r\n",
      " <__name__> : __main__\r\n",
      "<docstring> : s <Plain text file intended to be directly executed.>\r\n",
      "<docstring> : s.main\r\n",
      "    <scope> : __main__\r\n"
     ]
    }
   ],
   "source": [
    "%%script bash\n",
    "find ../* -name \"s.py\" # file directory\n",
    "d=`date +_%A_%m_%d_%Y_%H_%M_%S` # date\n",
    "mkdir backup/s # backup directory\n",
    "cp py-module/s.py backup/s/s-module$d.py # backup\n",
    "python py-module/s.py # run"
   ]
  },
  {
   "cell_type": "code",
   "execution_count": 6,
   "metadata": {},
   "outputs": [],
   "source": [
    "# Kernal - Restart\n",
    "exit()"
   ]
  },
  {
   "cell_type": "markdown",
   "metadata": {},
   "source": [
    "- 1.b) module search path - source - interpreter executes - import - current directory if the interpreter is being run interactively [8]"
   ]
  },
  {
   "cell_type": "markdown",
   "metadata": {},
   "source": [
    "- ensure module - cMod - is found put the module file in the the current directory [8]"
   ]
  },
  {
   "cell_type": "code",
   "execution_count": 1,
   "metadata": {},
   "outputs": [
    {
     "name": "stdout",
     "output_type": "stream",
     "text": [
      "../pyt/py-module/cMod.py\n",
      "<move> : cMod.py\n",
      "../pyt/cMod.py\n"
     ]
    }
   ],
   "source": [
    "%%script bash\n",
    "find ../* -name \"cMod.py\" # file directory\n",
    "echo \"<move> : cMod.py\"; mv py-module/cMod.py .\n",
    "find ../* -name \"cMod.py\" # file directory"
   ]
  },
  {
   "cell_type": "markdown",
   "metadata": {},
   "source": [
    "```python\n",
    "import <module_name>\n",
    "import <module_name>[, <module_name> ...]\n",
    "```"
   ]
  },
  {
   "cell_type": "markdown",
   "metadata": {},
   "source": [
    "- module contents are made available to the caller - local context - with the statement - `import` - each module has its own private symbol table - serves as the global symbol table for all objects defined in the module - thus a module creates a separate namespace - scoping - helps to avoid collisions between identifiers in different areas of a program [8]"
   ]
  },
  {
   "cell_type": "markdown",
   "metadata": {},
   "source": [
    "- does not make the module contents directly accessible to the caller - local context - only places the - `<module_name>` - in the callers symbol table - objects defined in the module remain in the modules private symbol table [8]"
   ]
  },
  {
   "cell_type": "code",
   "execution_count": 2,
   "metadata": {},
   "outputs": [
    {
     "name": "stdout",
     "output_type": "stream",
     "text": [
      " <__name__> : cMod\n",
      "<docstring> : cMod <Plain text file designed to be imported/used from another .py file.>\n",
      "    <scope> : cMod\n"
     ]
    }
   ],
   "source": [
    "# c_L_ocal_A_pplication-imports\n",
    "import cMod"
   ]
  },
  {
   "cell_type": "markdown",
   "metadata": {},
   "source": [
    "- following the statement - `import` - module - cMod - is placed in the local symbol table - thus the module - cMod - has meaning in the callers local context [8]"
   ]
  },
  {
   "cell_type": "code",
   "execution_count": 3,
   "metadata": {},
   "outputs": [
    {
     "data": {
      "text/plain": [
       "<module 'cMod' from 'C:\\\\Users\\\\E6985\\\\L8733\\\\src\\\\pro\\\\par\\\\pyt\\\\cMod.py'>"
      ]
     },
     "execution_count": 3,
     "metadata": {},
     "output_type": "execute_result"
    }
   ],
   "source": [
    "# module cMod\n",
    "cMod"
   ]
  },
  {
   "cell_type": "markdown",
   "metadata": {},
   "source": [
    "- objects - C - f - n - remain in module - cMod - private symbol table - not meaningful in the local context [8]"
   ]
  },
  {
   "cell_type": "code",
   "execution_count": 4,
   "metadata": {},
   "outputs": [
    {
     "ename": "NameError",
     "evalue": "name 'C' is not defined",
     "output_type": "error",
     "traceback": [
      "\u001b[1;31m---------------------------------------------------------------------------\u001b[0m",
      "\u001b[1;31mNameError\u001b[0m                                 Traceback (most recent call last)",
      "\u001b[1;32m<ipython-input-4-c364e18eec31>\u001b[0m in \u001b[0;36m<module>\u001b[1;34m\u001b[0m\n\u001b[0;32m      1\u001b[0m \u001b[1;31m# module cMod - object C - copy\u001b[0m\u001b[1;33m\u001b[0m\u001b[1;33m\u001b[0m\u001b[1;33m\u001b[0m\u001b[0m\n\u001b[1;32m----> 2\u001b[1;33m \u001b[0mC\u001b[0m\u001b[1;33m\u001b[0m\u001b[1;33m\u001b[0m\u001b[0m\n\u001b[0m",
      "\u001b[1;31mNameError\u001b[0m: name 'C' is not defined"
     ]
    }
   ],
   "source": [
    "# module cMod - object C - copy\n",
    "C"
   ]
  },
  {
   "cell_type": "code",
   "execution_count": 5,
   "metadata": {},
   "outputs": [
    {
     "ename": "NameError",
     "evalue": "name 'C' is not defined",
     "output_type": "error",
     "traceback": [
      "\u001b[1;31m---------------------------------------------------------------------------\u001b[0m",
      "\u001b[1;31mNameError\u001b[0m                                 Traceback (most recent call last)",
      "\u001b[1;32m<ipython-input-5-de526072001c>\u001b[0m in \u001b[0;36m<module>\u001b[1;34m\u001b[0m\n\u001b[0;32m      1\u001b[0m \u001b[1;31m# module cMod - object C - instantiate\u001b[0m\u001b[1;33m\u001b[0m\u001b[1;33m\u001b[0m\u001b[1;33m\u001b[0m\u001b[0m\n\u001b[1;32m----> 2\u001b[1;33m \u001b[0mC\u001b[0m\u001b[1;33m(\u001b[0m\u001b[1;33m)\u001b[0m\u001b[1;33m\u001b[0m\u001b[1;33m\u001b[0m\u001b[0m\n\u001b[0m",
      "\u001b[1;31mNameError\u001b[0m: name 'C' is not defined"
     ]
    }
   ],
   "source": [
    "# module cMod - object C - instantiate\n",
    "C()"
   ]
  },
  {
   "cell_type": "code",
   "execution_count": 6,
   "metadata": {},
   "outputs": [
    {
     "ename": "NameError",
     "evalue": "name 'f' is not defined",
     "output_type": "error",
     "traceback": [
      "\u001b[1;31m---------------------------------------------------------------------------\u001b[0m",
      "\u001b[1;31mNameError\u001b[0m                                 Traceback (most recent call last)",
      "\u001b[1;32m<ipython-input-6-b378169ea4ee>\u001b[0m in \u001b[0;36m<module>\u001b[1;34m\u001b[0m\n\u001b[0;32m      1\u001b[0m \u001b[1;31m# module cMod - function f - copy\u001b[0m\u001b[1;33m\u001b[0m\u001b[1;33m\u001b[0m\u001b[1;33m\u001b[0m\u001b[0m\n\u001b[1;32m----> 2\u001b[1;33m \u001b[0mf\u001b[0m\u001b[1;33m\u001b[0m\u001b[1;33m\u001b[0m\u001b[0m\n\u001b[0m",
      "\u001b[1;31mNameError\u001b[0m: name 'f' is not defined"
     ]
    }
   ],
   "source": [
    "# module cMod - function f - copy\n",
    "f"
   ]
  },
  {
   "cell_type": "code",
   "execution_count": 7,
   "metadata": {
    "scrolled": true
   },
   "outputs": [
    {
     "ename": "NameError",
     "evalue": "name 'f' is not defined",
     "output_type": "error",
     "traceback": [
      "\u001b[1;31m---------------------------------------------------------------------------\u001b[0m",
      "\u001b[1;31mNameError\u001b[0m                                 Traceback (most recent call last)",
      "\u001b[1;32m<ipython-input-7-ec650fa0cac7>\u001b[0m in \u001b[0;36m<module>\u001b[1;34m\u001b[0m\n\u001b[0;32m      1\u001b[0m \u001b[1;31m# module cMod - function f - call\u001b[0m\u001b[1;33m\u001b[0m\u001b[1;33m\u001b[0m\u001b[1;33m\u001b[0m\u001b[0m\n\u001b[1;32m----> 2\u001b[1;33m \u001b[0mf\u001b[0m\u001b[1;33m(\u001b[0m\u001b[1;33m)\u001b[0m\u001b[1;33m\u001b[0m\u001b[1;33m\u001b[0m\u001b[0m\n\u001b[0m",
      "\u001b[1;31mNameError\u001b[0m: name 'f' is not defined"
     ]
    }
   ],
   "source": [
    "# module cMod - function f - call\n",
    "f()"
   ]
  },
  {
   "cell_type": "code",
   "execution_count": 8,
   "metadata": {},
   "outputs": [
    {
     "ename": "NameError",
     "evalue": "name 'n' is not defined",
     "output_type": "error",
     "traceback": [
      "\u001b[1;31m---------------------------------------------------------------------------\u001b[0m",
      "\u001b[1;31mNameError\u001b[0m                                 Traceback (most recent call last)",
      "\u001b[1;32m<ipython-input-8-46b5452c248e>\u001b[0m in \u001b[0;36m<module>\u001b[1;34m\u001b[0m\n\u001b[0;32m      1\u001b[0m \u001b[1;31m# module cMod - name n - access\u001b[0m\u001b[1;33m\u001b[0m\u001b[1;33m\u001b[0m\u001b[1;33m\u001b[0m\u001b[0m\n\u001b[1;32m----> 2\u001b[1;33m \u001b[0mn\u001b[0m\u001b[1;33m\u001b[0m\u001b[1;33m\u001b[0m\u001b[0m\n\u001b[0m",
      "\u001b[1;31mNameError\u001b[0m: name 'n' is not defined"
     ]
    }
   ],
   "source": [
    "# module cMod - name n - access\n",
    "n"
   ]
  },
  {
   "cell_type": "markdown",
   "metadata": {},
   "source": [
    "- from the caller - local context - objects in the module - cMod - are only accessible when prefixed with the - `<module_name>` - via dot notation [8]"
   ]
  },
  {
   "cell_type": "code",
   "execution_count": 9,
   "metadata": {},
   "outputs": [
    {
     "data": {
      "text/plain": [
       "cMod.C"
      ]
     },
     "execution_count": 9,
     "metadata": {},
     "output_type": "execute_result"
    }
   ],
   "source": [
    "# module cMod - object C - copy\n",
    "cMod.C"
   ]
  },
  {
   "cell_type": "code",
   "execution_count": 10,
   "metadata": {},
   "outputs": [
    {
     "data": {
      "text/plain": [
       "<cMod.C at 0x2a66ac4c790>"
      ]
     },
     "execution_count": 10,
     "metadata": {},
     "output_type": "execute_result"
    }
   ],
   "source": [
    "# module cMod - object C - instantiate\n",
    "cMod.C()"
   ]
  },
  {
   "cell_type": "code",
   "execution_count": 11,
   "metadata": {},
   "outputs": [
    {
     "data": {
      "text/plain": [
       "<function cMod.f()>"
      ]
     },
     "execution_count": 11,
     "metadata": {},
     "output_type": "execute_result"
    }
   ],
   "source": [
    "# module cMod - function f - copy\n",
    "cMod.f"
   ]
  },
  {
   "cell_type": "code",
   "execution_count": 12,
   "metadata": {},
   "outputs": [
    {
     "data": {
      "text/plain": [
       "'cMod.f'"
      ]
     },
     "execution_count": 12,
     "metadata": {},
     "output_type": "execute_result"
    }
   ],
   "source": [
    "# module cMod - function f - call\n",
    "cMod.f()"
   ]
  },
  {
   "cell_type": "code",
   "execution_count": 13,
   "metadata": {},
   "outputs": [
    {
     "data": {
      "text/plain": [
       "'cMod'"
      ]
     },
     "execution_count": 13,
     "metadata": {},
     "output_type": "execute_result"
    }
   ],
   "source": [
    "# module cMod - name n - access\n",
    "cMod.n"
   ]
  },
  {
   "cell_type": "markdown",
   "metadata": {},
   "source": [
    "- determine module location - [[import-related module attributes](http://web.archive.org/web/20200917084306/https://docs.python.org/3/reference/import.html#import-related-module-attributes)] - dunder file dunder - the directory portion should be one of the directories in - [[sys.path](https://nbviewer.jupyter.org/github/SeanOhAileasa/fubar-python/blob/main/fubar-python.ipynb#top/L8733/blob/master/src/pro/par/pyt/module-built-in-sys-name-path.ipynb)] [8]"
   ]
  },
  {
   "cell_type": "code",
   "execution_count": 14,
   "metadata": {},
   "outputs": [
    {
     "data": {
      "text/plain": [
       "['C:\\\\Users\\\\E6985\\\\L8733\\\\src\\\\pro\\\\par\\\\pyt',\n",
       " 'C:\\\\Users\\\\E6985\\\\anaconda3\\\\python38.zip',\n",
       " 'C:\\\\Users\\\\E6985\\\\anaconda3\\\\DLLs',\n",
       " 'C:\\\\Users\\\\E6985\\\\anaconda3\\\\lib',\n",
       " 'C:\\\\Users\\\\E6985\\\\anaconda3',\n",
       " '',\n",
       " 'C:\\\\Users\\\\E6985\\\\anaconda3\\\\lib\\\\site-packages',\n",
       " 'C:\\\\Users\\\\E6985\\\\anaconda3\\\\lib\\\\site-packages\\\\win32',\n",
       " 'C:\\\\Users\\\\E6985\\\\anaconda3\\\\lib\\\\site-packages\\\\win32\\\\lib',\n",
       " 'C:\\\\Users\\\\E6985\\\\anaconda3\\\\lib\\\\site-packages\\\\Pythonwin',\n",
       " 'C:\\\\Users\\\\E6985\\\\anaconda3\\\\lib\\\\site-packages\\\\IPython\\\\extensions',\n",
       " 'C:\\\\Users\\\\E6985\\\\.ipython']"
      ]
     },
     "execution_count": 14,
     "metadata": {},
     "output_type": "execute_result"
    }
   ],
   "source": [
    "# a_S_tandard_L_ibrary-imports\n",
    "import sys\n",
    "# module sys - name path\n",
    "sys.path"
   ]
  },
  {
   "cell_type": "code",
   "execution_count": 15,
   "metadata": {},
   "outputs": [
    {
     "data": {
      "text/plain": [
       "'C:\\\\Users\\\\E6985\\\\L8733\\\\src\\\\pro\\\\par\\\\pyt\\\\cMod.py'"
      ]
     },
     "execution_count": 15,
     "metadata": {},
     "output_type": "execute_result"
    }
   ],
   "source": [
    "# module cMod - attribute __file__ - access\n",
    "cMod.__file__"
   ]
  },
  {
   "cell_type": "code",
   "execution_count": 16,
   "metadata": {},
   "outputs": [],
   "source": [
    "# Kernel - Restart\n",
    "exit()"
   ]
  },
  {
   "cell_type": "markdown",
   "metadata": {},
   "source": [
    "```python\n",
    "from <module_name> import <name(s)>\n",
    "```"
   ]
  },
  {
   "cell_type": "markdown",
   "metadata": {},
   "source": [
    "- allows individual objects from the module to be imported directly into the callers - local context - symbol table - any objects that already exist with the same name will be overwritten [8]"
   ]
  },
  {
   "cell_type": "code",
   "execution_count": 1,
   "metadata": {},
   "outputs": [],
   "source": [
    "# module __main__ - name n - attribute __name__ - access\n",
    "n=__name__"
   ]
  },
  {
   "cell_type": "code",
   "execution_count": 2,
   "metadata": {},
   "outputs": [
    {
     "data": {
      "text/plain": [
       "'__main__'"
      ]
     },
     "execution_count": 2,
     "metadata": {},
     "output_type": "execute_result"
    }
   ],
   "source": [
    "n"
   ]
  },
  {
   "cell_type": "code",
   "execution_count": 3,
   "metadata": {},
   "outputs": [
    {
     "name": "stdout",
     "output_type": "stream",
     "text": [
      " <__name__> : cMod\n",
      "<docstring> : cMod <Plain text file designed to be imported/used from another .py file.>\n",
      "    <scope> : cMod\n"
     ]
    }
   ],
   "source": [
    "# c_L_ocal_A_pplication-imports\n",
    "from cMod import C,f,n"
   ]
  },
  {
   "cell_type": "markdown",
   "metadata": {},
   "source": [
    "- `<name(s)>` - can be referenced in the callers - local context - environment without the prefix - `<module_name>` [8]"
   ]
  },
  {
   "cell_type": "code",
   "execution_count": 4,
   "metadata": {},
   "outputs": [
    {
     "data": {
      "text/plain": [
       "cMod.C"
      ]
     },
     "execution_count": 4,
     "metadata": {},
     "output_type": "execute_result"
    }
   ],
   "source": [
    "# module cMod - object C - copy\n",
    "C"
   ]
  },
  {
   "cell_type": "code",
   "execution_count": 5,
   "metadata": {},
   "outputs": [
    {
     "data": {
      "text/plain": [
       "<cMod.C at 0x1edf327ed00>"
      ]
     },
     "execution_count": 5,
     "metadata": {},
     "output_type": "execute_result"
    }
   ],
   "source": [
    "# module cMod - object C - instantiate\n",
    "C()"
   ]
  },
  {
   "cell_type": "code",
   "execution_count": 6,
   "metadata": {},
   "outputs": [
    {
     "data": {
      "text/plain": [
       "<function cMod.f()>"
      ]
     },
     "execution_count": 6,
     "metadata": {},
     "output_type": "execute_result"
    }
   ],
   "source": [
    "# module cMod - function f - copy\n",
    "f"
   ]
  },
  {
   "cell_type": "code",
   "execution_count": 7,
   "metadata": {},
   "outputs": [
    {
     "data": {
      "text/plain": [
       "'cMod.f'"
      ]
     },
     "execution_count": 7,
     "metadata": {},
     "output_type": "execute_result"
    }
   ],
   "source": [
    "# module cMod - function f - call\n",
    "f()"
   ]
  },
  {
   "cell_type": "code",
   "execution_count": 8,
   "metadata": {},
   "outputs": [
    {
     "data": {
      "text/plain": [
       "'cMod'"
      ]
     },
     "execution_count": 8,
     "metadata": {},
     "output_type": "execute_result"
    }
   ],
   "source": [
    "# module cMod - name n - access\n",
    "n"
   ]
  },
  {
   "cell_type": "code",
   "execution_count": 9,
   "metadata": {},
   "outputs": [],
   "source": [
    "# module __main__ - name n - attribute __name__ - access\n",
    "n=__name__"
   ]
  },
  {
   "cell_type": "code",
   "execution_count": 10,
   "metadata": {},
   "outputs": [
    {
     "data": {
      "text/plain": [
       "'__main__'"
      ]
     },
     "execution_count": 10,
     "metadata": {},
     "output_type": "execute_result"
    }
   ],
   "source": [
    "n"
   ]
  },
  {
   "cell_type": "code",
   "execution_count": 11,
   "metadata": {},
   "outputs": [],
   "source": [
    "# Kernel - Restart\n",
    "exit()"
   ]
  },
  {
   "cell_type": "markdown",
   "metadata": {},
   "source": [
    "```python\n",
    "from <module_name> import *\n",
    "```"
   ]
  },
  {
   "cell_type": "markdown",
   "metadata": {},
   "source": [
    "- possible to indiscriminately import everything from a module at one fell swoop - placing the names of all objects from - `<module_name>` - into the local symbol table - exception - any that begin with a single underscore character [8]"
   ]
  },
  {
   "cell_type": "markdown",
   "metadata": {},
   "source": [
    "- not recommended - large-scale production code - dangerous - entering names into the local symbol table en masse - best if know all the names well - confident there will not be a conflict - not overwrite an existing name inadvertently - syntax - handy when mucking around with the interactive interpreter - for testing or discovery purposes - quickly gives access to everything a module has to offer without a lot of typing [8]"
   ]
  },
  {
   "cell_type": "code",
   "execution_count": 1,
   "metadata": {},
   "outputs": [
    {
     "name": "stdout",
     "output_type": "stream",
     "text": [
      " <__name__> : cMod\n",
      "<docstring> : cMod <Plain text file designed to be imported/used from another .py file.>\n",
      "    <scope> : cMod\n"
     ]
    }
   ],
   "source": [
    "# c_L_ocal_A_pplication-imports\n",
    "from cMod import *"
   ]
  },
  {
   "cell_type": "code",
   "execution_count": 2,
   "metadata": {},
   "outputs": [
    {
     "data": {
      "text/plain": [
       "cMod.C"
      ]
     },
     "execution_count": 2,
     "metadata": {},
     "output_type": "execute_result"
    }
   ],
   "source": [
    "# module cMod - object C - copy\n",
    "C"
   ]
  },
  {
   "cell_type": "code",
   "execution_count": 3,
   "metadata": {},
   "outputs": [
    {
     "data": {
      "text/plain": [
       "<cMod.C at 0x137280891c0>"
      ]
     },
     "execution_count": 3,
     "metadata": {},
     "output_type": "execute_result"
    }
   ],
   "source": [
    "# module cMod - object C - instantiate\n",
    "C()"
   ]
  },
  {
   "cell_type": "code",
   "execution_count": 4,
   "metadata": {},
   "outputs": [
    {
     "data": {
      "text/plain": [
       "<function cMod.f()>"
      ]
     },
     "execution_count": 4,
     "metadata": {},
     "output_type": "execute_result"
    }
   ],
   "source": [
    "# module cMod - function f - copy\n",
    "f"
   ]
  },
  {
   "cell_type": "code",
   "execution_count": 5,
   "metadata": {},
   "outputs": [
    {
     "data": {
      "text/plain": [
       "'cMod.f'"
      ]
     },
     "execution_count": 5,
     "metadata": {},
     "output_type": "execute_result"
    }
   ],
   "source": [
    "# module cMod - function f - call\n",
    "f()"
   ]
  },
  {
   "cell_type": "code",
   "execution_count": 6,
   "metadata": {},
   "outputs": [
    {
     "data": {
      "text/plain": [
       "'cMod'"
      ]
     },
     "execution_count": 6,
     "metadata": {},
     "output_type": "execute_result"
    }
   ],
   "source": [
    "# module cMod - name n - access\n",
    "n"
   ]
  },
  {
   "cell_type": "code",
   "execution_count": 7,
   "metadata": {},
   "outputs": [],
   "source": [
    "# Kernel - Restart\n",
    "exit()"
   ]
  },
  {
   "cell_type": "markdown",
   "metadata": {},
   "source": [
    "```python\n",
    "from <module_name> import <name> as <alt_name>\n",
    "from <module_name> import <name> as <alt_name>[, <name> as <alt_name> ...]\n",
    "```"
   ]
  },
  {
   "cell_type": "markdown",
   "metadata": {},
   "source": [
    "- import individual objects but enter into the local symbol table with alternate names - makes it possible to place names directly into the local symbol table - avoid conflicts with existing names [8]"
   ]
  },
  {
   "cell_type": "code",
   "execution_count": 1,
   "metadata": {},
   "outputs": [],
   "source": [
    "# module __main__ - name n - attribute __name__ - access\n",
    "n=__name__"
   ]
  },
  {
   "cell_type": "code",
   "execution_count": 2,
   "metadata": {},
   "outputs": [
    {
     "name": "stdout",
     "output_type": "stream",
     "text": [
      " <__name__> : cMod\n",
      "<docstring> : cMod <Plain text file designed to be imported/used from another .py file.>\n",
      "    <scope> : cMod\n"
     ]
    }
   ],
   "source": [
    "# c_L_ocal_A_pplication-imports\n",
    "from cMod import n as cname"
   ]
  },
  {
   "cell_type": "code",
   "execution_count": 3,
   "metadata": {},
   "outputs": [
    {
     "data": {
      "text/plain": [
       "'__main__'"
      ]
     },
     "execution_count": 3,
     "metadata": {},
     "output_type": "execute_result"
    }
   ],
   "source": [
    "n"
   ]
  },
  {
   "cell_type": "code",
   "execution_count": 4,
   "metadata": {},
   "outputs": [
    {
     "data": {
      "text/plain": [
       "'cMod'"
      ]
     },
     "execution_count": 4,
     "metadata": {},
     "output_type": "execute_result"
    }
   ],
   "source": [
    "# module cMod - name n alias cname - access\n",
    "cname"
   ]
  },
  {
   "cell_type": "code",
   "execution_count": 5,
   "metadata": {},
   "outputs": [],
   "source": [
    "# Kernel - Restart\n",
    "exit()"
   ]
  },
  {
   "cell_type": "markdown",
   "metadata": {},
   "source": [
    "```python\n",
    "import <module_name> as <alt_name>\n",
    "```"
   ]
  },
  {
   "cell_type": "markdown",
   "metadata": {},
   "source": [
    "- import an entire module under an alternative name [8]"
   ]
  },
  {
   "cell_type": "code",
   "execution_count": 1,
   "metadata": {},
   "outputs": [
    {
     "name": "stdout",
     "output_type": "stream",
     "text": [
      " <__name__> : cMod\n",
      "<docstring> : cMod <Plain text file designed to be imported/used from another .py file.>\n",
      "    <scope> : cMod\n"
     ]
    }
   ],
   "source": [
    "# c_L_ocal_A_pplication-imports\n",
    "import cMod as CmOD"
   ]
  },
  {
   "cell_type": "code",
   "execution_count": 2,
   "metadata": {},
   "outputs": [
    {
     "data": {
      "text/plain": [
       "cMod.C"
      ]
     },
     "execution_count": 2,
     "metadata": {},
     "output_type": "execute_result"
    }
   ],
   "source": [
    "# module cMod alias CmOD - object C - copy\n",
    "CmOD.C"
   ]
  },
  {
   "cell_type": "code",
   "execution_count": 3,
   "metadata": {},
   "outputs": [
    {
     "data": {
      "text/plain": [
       "<cMod.C at 0x1ef5d899af0>"
      ]
     },
     "execution_count": 3,
     "metadata": {},
     "output_type": "execute_result"
    }
   ],
   "source": [
    "# module cMod alias CmOD - object C - instantiate\n",
    "CmOD.C()"
   ]
  },
  {
   "cell_type": "code",
   "execution_count": 4,
   "metadata": {},
   "outputs": [
    {
     "data": {
      "text/plain": [
       "<function cMod.f()>"
      ]
     },
     "execution_count": 4,
     "metadata": {},
     "output_type": "execute_result"
    }
   ],
   "source": [
    "# module cMod alias CmOD - function f - copy\n",
    "CmOD.f"
   ]
  },
  {
   "cell_type": "code",
   "execution_count": 5,
   "metadata": {},
   "outputs": [
    {
     "data": {
      "text/plain": [
       "'cMod.f'"
      ]
     },
     "execution_count": 5,
     "metadata": {},
     "output_type": "execute_result"
    }
   ],
   "source": [
    "# module cMod alias CmOD - function f - call\n",
    "CmOD.f()"
   ]
  },
  {
   "cell_type": "code",
   "execution_count": 6,
   "metadata": {},
   "outputs": [
    {
     "data": {
      "text/plain": [
       "'cMod'"
      ]
     },
     "execution_count": 6,
     "metadata": {},
     "output_type": "execute_result"
    }
   ],
   "source": [
    "# module cMod alias CmOD - name n - access\n",
    "CmOD.n"
   ]
  },
  {
   "cell_type": "code",
   "execution_count": 7,
   "metadata": {},
   "outputs": [],
   "source": [
    "# Kernel - Restart\n",
    "exit()"
   ]
  },
  {
   "cell_type": "markdown",
   "metadata": {},
   "source": [
    "- module contents can be imported from within a function definition - import does not occur until the function is called [8]"
   ]
  },
  {
   "cell_type": "code",
   "execution_count": 1,
   "metadata": {},
   "outputs": [],
   "source": [
    "# f_function definitions\n",
    "def f():\n",
    "    # c_L_ocal_A_pplication-imports\n",
    "    from cMod import n\n",
    "    return n"
   ]
  },
  {
   "cell_type": "code",
   "execution_count": 2,
   "metadata": {},
   "outputs": [
    {
     "data": {
      "text/plain": [
       "'<__name__> : __main__'"
      ]
     },
     "execution_count": 2,
     "metadata": {},
     "output_type": "execute_result"
    }
   ],
   "source": [
    "# module __main__ - attribute __name__ - access\n",
    "\"<__name__> : \"+__name__"
   ]
  },
  {
   "cell_type": "code",
   "execution_count": 3,
   "metadata": {},
   "outputs": [
    {
     "name": "stdout",
     "output_type": "stream",
     "text": [
      " <__name__> : cMod\n",
      "<docstring> : cMod <Plain text file designed to be imported/used from another .py file.>\n",
      "    <scope> : cMod\n"
     ]
    },
    {
     "data": {
      "text/plain": [
       "'<__name__> : cMod'"
      ]
     },
     "execution_count": 3,
     "metadata": {},
     "output_type": "execute_result"
    }
   ],
   "source": [
    "# function f - call\n",
    "\"<__name__> : \"+f()"
   ]
  },
  {
   "cell_type": "markdown",
   "metadata": {},
   "source": [
    "- python3 - does not allow the indiscriminate - `import *` - syntax from within a function [8]"
   ]
  },
  {
   "cell_type": "code",
   "execution_count": 4,
   "metadata": {},
   "outputs": [
    {
     "ename": "SyntaxError",
     "evalue": "import * only allowed at module level (<ipython-input-4-7183a164c3c4>, line 2)",
     "output_type": "error",
     "traceback": [
      "\u001b[1;36m  File \u001b[1;32m\"<ipython-input-4-7183a164c3c4>\"\u001b[1;36m, line \u001b[1;32m2\u001b[0m\n\u001b[1;33m    def f():\u001b[0m\n\u001b[1;37m    ^\u001b[0m\n\u001b[1;31mSyntaxError\u001b[0m\u001b[1;31m:\u001b[0m import * only allowed at module level\n"
     ]
    }
   ],
   "source": [
    "# f_function definitions\n",
    "def f():\n",
    "    # c_L_ocal_A_pplication-imports\n",
    "    from cMod import *\n",
    "    return n"
   ]
  },
  {
   "cell_type": "code",
   "execution_count": 5,
   "metadata": {},
   "outputs": [],
   "source": [
    "# Kernel - Restart\n",
    "exit()"
   ]
  },
  {
   "cell_type": "markdown",
   "metadata": {},
   "source": [
    "- statement - `try` - with an - `except ImportError` - clause can be used to guard against unsuccessful import attempts [8]"
   ]
  },
  {
   "cell_type": "code",
   "execution_count": 1,
   "metadata": {},
   "outputs": [
    {
     "name": "stdout",
     "output_type": "stream",
     "text": [
      "Non-Existent Module\n"
     ]
    }
   ],
   "source": [
    "try:\n",
    "    # c_L_ocal_A_pplication-imports\n",
    "    import nonExistentModule\n",
    "except ImportError:\n",
    "    print(\"Non-Existent Module\")"
   ]
  },
  {
   "cell_type": "code",
   "execution_count": 2,
   "metadata": {},
   "outputs": [
    {
     "name": "stdout",
     "output_type": "stream",
     "text": [
      " <__name__> : cMod\n",
      "<docstring> : cMod <Plain text file designed to be imported/used from another .py file.>\n",
      "    <scope> : cMod\n",
      "Non-Existent Object\n"
     ]
    }
   ],
   "source": [
    "try:\n",
    "    # c_L_ocal_A_pplication-imports\n",
    "    from cMod import b\n",
    "except ImportError:\n",
    "    print(\"Non-Existent Object\")"
   ]
  },
  {
   "cell_type": "code",
   "execution_count": 3,
   "metadata": {},
   "outputs": [],
   "source": [
    "# Kernel - Restart\n",
    "exit()"
   ]
  },
  {
   "cell_type": "markdown",
   "metadata": {},
   "source": [
    "- 1.c) module search path - source - interpreter executes - import - ensure module - cMod - is found put the module file in one of the installation-dependent directories - may or may not have write-access - depending on the operating system [8]\n",
    "\n",
    "```\n",
    "C:\\\\Users\\\\E6985\\\\anaconda3\n",
    "```"
   ]
  },
  {
   "cell_type": "code",
   "execution_count": 1,
   "metadata": {},
   "outputs": [],
   "source": [
    "# a_S_tandard_L_ibrary-imports\n",
    "from sys import path as aSLsp"
   ]
  },
  {
   "cell_type": "code",
   "execution_count": 2,
   "metadata": {},
   "outputs": [
    {
     "data": {
      "text/plain": [
       "['C:\\\\Users\\\\E6985\\\\L8733\\\\src\\\\pro\\\\par\\\\pyt',\n",
       " 'C:\\\\Users\\\\E6985\\\\anaconda3\\\\python38.zip',\n",
       " 'C:\\\\Users\\\\E6985\\\\anaconda3\\\\DLLs',\n",
       " 'C:\\\\Users\\\\E6985\\\\anaconda3\\\\lib',\n",
       " 'C:\\\\Users\\\\E6985\\\\anaconda3',\n",
       " '',\n",
       " 'C:\\\\Users\\\\E6985\\\\anaconda3\\\\lib\\\\site-packages',\n",
       " 'C:\\\\Users\\\\E6985\\\\anaconda3\\\\lib\\\\site-packages\\\\win32',\n",
       " 'C:\\\\Users\\\\E6985\\\\anaconda3\\\\lib\\\\site-packages\\\\win32\\\\lib',\n",
       " 'C:\\\\Users\\\\E6985\\\\anaconda3\\\\lib\\\\site-packages\\\\Pythonwin',\n",
       " 'C:\\\\Users\\\\E6985\\\\anaconda3\\\\lib\\\\site-packages\\\\IPython\\\\extensions',\n",
       " 'C:\\\\Users\\\\E6985\\\\.ipython']"
      ]
     },
     "execution_count": 2,
     "metadata": {},
     "output_type": "execute_result"
    }
   ],
   "source": [
    "# module sys - name path alias aSLsp - access\n",
    "aSLsp"
   ]
  },
  {
   "cell_type": "code",
   "execution_count": 3,
   "metadata": {},
   "outputs": [
    {
     "data": {
      "text/plain": [
       "'C:\\\\Users\\\\E6985\\\\L8733\\\\src\\\\pro\\\\par\\\\pyt'"
      ]
     },
     "execution_count": 3,
     "metadata": {},
     "output_type": "execute_result"
    }
   ],
   "source": [
    "# module sys - name path alias aSLsp - access\n",
    "aSLsp[0]"
   ]
  },
  {
   "cell_type": "code",
   "execution_count": 4,
   "metadata": {},
   "outputs": [
    {
     "name": "stdout",
     "output_type": "stream",
     "text": [
      "../pyt/cMod.py\n",
      "<move> : cMod.py\n",
      "/c/Users/E6985/anaconda3/cMod.py\n",
      " <__name__> : cMod\r\n",
      "<docstring> : cMod <Plain text file designed to be imported/used from another .py file.>\r\n",
      "    <scope> : cMod\r\n",
      " <__name__> : __main__\r\n",
      "<docstring> : s <Plain text file intended to be directly executed.>\r\n",
      "<docstring> : s.main\r\n",
      "    <scope> : __main__\r\n"
     ]
    }
   ],
   "source": [
    "%%script bash\n",
    "find ../* -name \"cMod.py\" # file directory\n",
    "echo \"<move> : cMod.py\"; mv cMod.py ~/anaconda3\n",
    "find ~/anaconda3 -name \"cMod.py\" # file directory\n",
    "python py-module/s.py # run"
   ]
  },
  {
   "cell_type": "code",
   "execution_count": 5,
   "metadata": {},
   "outputs": [
    {
     "name": "stdout",
     "output_type": "stream",
     "text": [
      " <__name__> : cMod\n",
      "<docstring> : cMod <Plain text file designed to be imported/used from another .py file.>\n",
      "    <scope> : cMod\n"
     ]
    }
   ],
   "source": [
    "# c_L_ocal_A_pplication-imports\n",
    "import cMod"
   ]
  },
  {
   "cell_type": "markdown",
   "metadata": {},
   "source": [
    "- 2) module search path - source - interpreter executes - import - list of directories contained in the [[PYTHONPATH](https://www.github.com/E6985/L8733/blob/master/src/pro/par/pyt/environment-variable-PYTHONPATH.ipynb)] environment variable - no directories currently set - format for [[PYTHONPATH](https://www.github.com/E6985/L8733/blob/master/src/pro/par/pyt/environment-variable-PYTHONPATH.ipynb)] is OS-dependent but should mimic the PATH environment variable [8]"
   ]
  },
  {
   "cell_type": "code",
   "execution_count": 6,
   "metadata": {},
   "outputs": [
    {
     "name": "stdout",
     "output_type": "stream",
     "text": [
      "/c/Users/E6985/anaconda3/cMod.py\n",
      "<move> : cMod.py\n",
      "../pyt/cMod.py\n",
      "<PYTHONPATH>: \n",
      "<PYTHONPATH>: c:/Users/E6985/L8733/src/pro/par/pyt\n",
      " <__name__> : cMod\r\n",
      "<docstring> : cMod <Plain text file designed to be imported/used from another .py file.>\r\n",
      "    <scope> : cMod\r\n",
      " <__name__> : __main__\r\n",
      "<docstring> : s <Plain text file intended to be directly executed.>\r\n",
      "<docstring> : s.main\r\n",
      "    <scope> : __main__\r\n"
     ]
    }
   ],
   "source": [
    "%%script bash\n",
    "find ~/anaconda3/* -name \"cMod.py\"\n",
    "echo \"<move> : cMod.py\"; mv ~/anaconda3/cMod.py .\n",
    "find ../* -name \"cMod.py\"\n",
    "echo \"<PYTHONPATH>: \"$PYTHONPATH\n",
    "export PYTHONPATH=\"c:/Users/E6985/L8733/src/pro/par/pyt\"\n",
    "echo \"<PYTHONPATH>: \"$PYTHONPATH\n",
    "python py-module/s.py # run"
   ]
  },
  {
   "cell_type": "markdown",
   "metadata": {},
   "source": [
    "- not setting - [[PYTHONPATH](https://www.github.com/E6985/L8733/blob/master/src/pro/par/pyt/environment-variable-PYTHONPATH.ipynb)] - every terminal session - can make - [[PYTHONPATH](https://www.github.com/E6985/L8733/blob/master/src/pro/par/pyt/environment-variable-PYTHONPATH.ipynb)] - value set for any terminal session - setting the environment variable default [[reference](http://web.archive.org/web/20200915103132/https://bic-berkeley.github.io/psych-214-fall-2016/using_pythonpath.html)]\n",
    "\n",
    "\n",
    "```\n",
    "# mac\n",
    "$ vi ~/.bash_profile\n",
    "export PYTHONPATH=\"/Users/user/code\"\n",
    "```\n",
    "\n",
    "```\n",
    "# linux\n",
    "$ vi ~/.bashrc\n",
    "export PYTHONPATH=/home/user/code\n",
    "```"
   ]
  },
  {
   "cell_type": "code",
   "execution_count": 7,
   "metadata": {},
   "outputs": [
    {
     "name": "stdout",
     "output_type": "stream",
     "text": [
      "<PYTHONPATH>: \n"
     ]
    }
   ],
   "source": [
    "%%script bash\n",
    "echo \"<PYTHONPATH>: \"$PYTHONPATH"
   ]
  },
  {
   "cell_type": "markdown",
   "metadata": {},
   "source": [
    "```\n",
    "# windows\n",
    "```"
   ]
  },
  {
   "cell_type": "markdown",
   "metadata": {},
   "source": [
    "<img src=\"img/systemProperties.png\" />"
   ]
  },
  {
   "cell_type": "markdown",
   "metadata": {},
   "source": [
    "<img src=\"img/environmentVariables.png\" />"
   ]
  },
  {
   "cell_type": "markdown",
   "metadata": {},
   "source": [
    "- [[PYTHONPATH](https://www.github.com/E6985/L8733/blob/master/src/pro/par/pyt/environment-variable-PYTHONPATH.ipynb)] environment variable - directory set [8]"
   ]
  },
  {
   "cell_type": "code",
   "execution_count": null,
   "metadata": {},
   "outputs": [],
   "source": [
    "# notebook - save\n",
    "!jupyter notebook stop\n",
    "# terminal - exit"
   ]
  },
  {
   "cell_type": "markdown",
   "metadata": {},
   "source": [
    "<img src=\"img/connectionFailed.png\" />"
   ]
  },
  {
   "cell_type": "markdown",
   "metadata": {},
   "source": [
    "<img src=\"img/leavePage.png\" />"
   ]
  },
  {
   "cell_type": "markdown",
   "metadata": {},
   "source": [
    "***"
   ]
  },
  {
   "cell_type": "code",
   "execution_count": 1,
   "metadata": {},
   "outputs": [
    {
     "name": "stdout",
     "output_type": "stream",
     "text": [
      "c:/Users/E6985/L8733/src/pro/par/pyt/py\n"
     ]
    }
   ],
   "source": [
    "%%script bash\n",
    "echo $PYTHONPATH"
   ]
  },
  {
   "cell_type": "markdown",
   "metadata": {},
   "source": [
    "- [[PYTHONPATH](https://www.github.com/E6985/L8733/blob/master/src/pro/par/pyt/environment-variable-PYTHONPATH.ipynb)] environment variable - directory removed [8]"
   ]
  },
  {
   "cell_type": "code",
   "execution_count": null,
   "metadata": {},
   "outputs": [],
   "source": [
    "# notebook - save\n",
    "!jupyter notebook stop\n",
    "# terminal - exit"
   ]
  },
  {
   "cell_type": "markdown",
   "metadata": {},
   "source": [
    "<img src=\"img/connectionFailed.png\" />"
   ]
  },
  {
   "cell_type": "markdown",
   "metadata": {},
   "source": [
    "<img src=\"img/leavePage.png\" />"
   ]
  },
  {
   "cell_type": "markdown",
   "metadata": {},
   "source": [
    "***"
   ]
  },
  {
   "cell_type": "markdown",
   "metadata": {},
   "source": [
    "- 3) module search path - source - interpreter executes - import - put the module file - cMod - in any directory - modifying - [sys.path](https://nbviewer.jupyter.org/github/SeanOhAileasa/fubar-python/blob/main/fubar-python.ipynb#top/L8733/blob/master/src/pro/par/pyt/module-built-in-sys-name-path.ipynb) - at run-time so that is contains that directory [8]"
   ]
  },
  {
   "cell_type": "code",
   "execution_count": 1,
   "metadata": {},
   "outputs": [
    {
     "name": "stdout",
     "output_type": "stream",
     "text": [
      "../pyt/py-module/s.py\n"
     ]
    }
   ],
   "source": [
    "%%script bash\n",
    "find ../* -name \"s.py\" # file directory"
   ]
  },
  {
   "cell_type": "code",
   "execution_count": 2,
   "metadata": {},
   "outputs": [
    {
     "name": "stdout",
     "output_type": "stream",
     "text": [
      "Overwriting py-module/s.py\n"
     ]
    }
   ],
   "source": [
    "%%writefile py-module/s.py\n",
    "\"\"\"s <Plain text file intended to be directly executed.>\"\"\"\n",
    "\n",
    "# a_S_tandard_L_ibrary-imports\n",
    "from sys import path as aSLsp\n",
    "# module sys - name path alias aSLsp - modify\n",
    "aSLsp.append(r\"c:/Users/E6985/L8733/src/pro/par/pyt\")\n",
    "\n",
    "# c_L_ocal_A_pplication-imports\n",
    "import cMod\n",
    "\n",
    "# f_function definitions\n",
    "def main():\n",
    "    \"\"\"s.main\"\"\"\n",
    "    print(\"<docstring> : {}\".format(main.__doc__,end=\"\"))\n",
    "    print(\"    <scope> : {}\".format(__name__))\n",
    "\n",
    "# special attribute - __name__\n",
    "if __name__==\"__main__\": # evaluate current module\n",
    "    print(\" <__name__> : {}\".format(__name__))\n",
    "    print(\"<docstring> : {}\".format(__doc__,end=\"\"))\n",
    "    # function main - call\n",
    "    main()"
   ]
  },
  {
   "cell_type": "code",
   "execution_count": 3,
   "metadata": {},
   "outputs": [
    {
     "name": "stdout",
     "output_type": "stream",
     "text": [
      "../pyt/py-module/s.py\n",
      "../pyt/cMod.py\n",
      " <__name__> : cMod\r\n",
      "<docstring> : cMod <Plain text file designed to be imported/used from another .py file.>\r\n",
      "    <scope> : cMod\r\n",
      " <__name__> : __main__\r\n",
      "<docstring> : s <Plain text file intended to be directly executed.>\r\n",
      "<docstring> : s.main\r\n",
      "    <scope> : __main__\r\n",
      "<move> : cMod.py\n",
      "../pyt/py-module/cMod.py\n"
     ]
    }
   ],
   "source": [
    "%%script bash\n",
    "find ../* -name \"s.py\" # file directory\n",
    "find ../* -name \"cMod.py\" # file directory\n",
    "d=`date +_%A_%m_%d_%Y_%H_%M_%S` # date\n",
    "cp py-module/s.py backup/s/s-module$d.py # backup\n",
    "python py-module/s.py # run\n",
    "echo \"<move> : cMod.py\"; mv cMod.py py-module/cMod.py\n",
    "find ../* -name \"cMod.py\""
   ]
  },
  {
   "cell_type": "code",
   "execution_count": 4,
   "metadata": {},
   "outputs": [],
   "source": [
    "%run module-python-runtime-services-sys-name-path-append-mode-r-py-module.ipynb"
   ]
  },
  {
   "cell_type": "code",
   "execution_count": 5,
   "metadata": {
    "scrolled": true
   },
   "outputs": [
    {
     "name": "stdout",
     "output_type": "stream",
     "text": [
      " <__name__> : cMod\n",
      "<docstring> : cMod <Plain text file designed to be imported/used from another .py file.>\n",
      "    <scope> : cMod\n"
     ]
    }
   ],
   "source": [
    "import cMod"
   ]
  },
  {
   "cell_type": "code",
   "execution_count": 6,
   "metadata": {},
   "outputs": [],
   "source": [
    "# Kernel - Restart\n",
    "exit()"
   ]
  },
  {
   "cell_type": "code",
   "execution_count": 1,
   "metadata": {},
   "outputs": [
    {
     "name": "stdout",
     "output_type": "stream",
     "text": [
      "<move> : s.py\n",
      "<move> : backup/*\n",
      "<move> : py-module\n"
     ]
    }
   ],
   "source": [
    "%%script bash\n",
    "echo \"<move> : s.py\"; mv py-module/s.py py\n",
    "rm -rf py-module/* # delete *\n",
    "echo \"<move> : backup/*\"; mv backup/* py-module\n",
    "d=`date +_%A_%m_%d_%Y_%H_%M_%S` # date\n",
    "cp module.ipynb py-module/module$d.ipynb # backup\n",
    "echo \"<move> : py-module\"; mv py-module ~/E6985/backup/module$d # backup\n",
    "# notebook - save"
   ]
  },
  {
   "cell_type": "markdown",
   "metadata": {},
   "source": [
    "***\n",
    "### review\n",
    "> [dir](https://realpython.com/python-modules-packages/#the-dir-function)\n",
    "\n",
    "> [execute module as script](https://realpython.com/python-modules-packages/#executing-a-module-as-a-script)\n",
    "***"
   ]
  },
  {
   "cell_type": "markdown",
   "metadata": {},
   "source": [
    "***\n",
    "# END"
   ]
  }
 ],
 "metadata": {
  "kernelspec": {
   "display_name": "Python 3",
   "language": "python",
   "name": "python3"
  },
  "language_info": {
   "codemirror_mode": {
    "name": "ipython",
    "version": 3
   },
   "file_extension": ".py",
   "mimetype": "text/x-python",
   "name": "python",
   "nbconvert_exporter": "python",
   "pygments_lexer": "ipython3",
   "version": "3.8.8"
  }
 },
 "nbformat": 4,
 "nbformat_minor": 4
}
