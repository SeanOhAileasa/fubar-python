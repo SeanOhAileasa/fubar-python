{
 "cells": [
  {
   "cell_type": "markdown",
   "metadata": {},
   "source": [
    "# function-user-defined-kwargs\n",
    "> [TABLE OF CONTENTS](https://nbviewer.jupyter.org/github/SeanOhAileasa/fubar-python/blob/main/fubar-python.ipynb#top)\n",
    "***"
   ]
  },
  {
   "cell_type": "markdown",
   "metadata": {},
   "source": [
    "- \\*\\*kwargs - \\*args - allow the passing of multiple - keywords - or - arguments - to a function - instead of accepting positional arguments - \\*\\*kwargs - accepts keyword - named - arguments - fConcat - will iterate through the python - kwargs - dictionary and concatenate all the values it finds - iterable object is a standard - dict - iterating over the dictionary and returning its values via method - values [8]"
   ]
  },
  {
   "cell_type": "markdown",
   "metadata": {},
   "source": [
    "```python\n",
    "class dict(**kwarg)\n",
    "class dict(mapping, **kwarg)\n",
    "class dict(iterable, **kwarg)\n",
    "```\n",
    "> [Python Documentation](https://web.archive.org/web/20200502135931/https://docs.python.org/3/library/stdtypes.html#dict)"
   ]
  },
  {
   "cell_type": "markdown",
   "metadata": {},
   "source": [
    "```python\n",
    "dict.values()\n",
    "```\n",
    "> [Python Documentation](https://web.archive.org/web/20200514154635/https://docs.python.org/3/library/stdtypes.html#dict.values)"
   ]
  },
  {
   "cell_type": "code",
   "execution_count": 1,
   "metadata": {},
   "outputs": [],
   "source": [
    "# define function - fConcat\n",
    "def fConcat(**kwargs):\n",
    "    nLocResult=\"\"\n",
    "    # iterate - kwargs dictionary\n",
    "    for nEachValue in kwargs.values():\n",
    "        nLocResult+=nEachValue\n",
    "    return nLocResult"
   ]
  },
  {
   "cell_type": "code",
   "execution_count": 2,
   "metadata": {},
   "outputs": [
    {
     "data": {
      "text/plain": [
       "'235'"
      ]
     },
     "execution_count": 2,
     "metadata": {},
     "output_type": "execute_result"
    }
   ],
   "source": [
    "# function fConcat - call\n",
    "fConcat(First=\"2\",Second=\"3\",Third=\"5\")"
   ]
  },
  {
   "cell_type": "markdown",
   "metadata": {},
   "source": [
    "- iterating through the keys of the python - kwargs - dictionary instead - not specifying method - values - return not intended result [8]"
   ]
  },
  {
   "cell_type": "code",
   "execution_count": 3,
   "metadata": {},
   "outputs": [],
   "source": [
    "# define function - fConcat\n",
    "def fConcat(**kwargs):\n",
    "    nLocResult=\"\"\n",
    "    # iterate - over the keys - kwargs dictionary\n",
    "    for nEachValue in kwargs:\n",
    "        nLocResult+=nEachValue\n",
    "    return nLocResult"
   ]
  },
  {
   "cell_type": "code",
   "execution_count": 4,
   "metadata": {},
   "outputs": [
    {
     "data": {
      "text/plain": [
       "'FirstSecondThird'"
      ]
     },
     "execution_count": 4,
     "metadata": {},
     "output_type": "execute_result"
    }
   ],
   "source": [
    "# function fConcat - call\n",
    "fConcat(First=\"2\",Second=\"3\",Third=\"5\")"
   ]
  },
  {
   "cell_type": "markdown",
   "metadata": {},
   "source": [
    "- kwargs - is just a name - not required to use the name kwargs - can choose any name - passing the iterable object - nParKWArgs - instead of - kwargs - all that matters here is the use of the unpacking operator - \\*\\* [8]"
   ]
  },
  {
   "cell_type": "code",
   "execution_count": 5,
   "metadata": {},
   "outputs": [],
   "source": [
    "# define function - fConcat\n",
    "def fConcat(**nParKWArgs):\n",
    "    nLocResult=\"\"\n",
    "    for nEachValue in nParKWArgs.values():\n",
    "        nLocResult+=nEachValue\n",
    "    return nLocResult"
   ]
  },
  {
   "cell_type": "code",
   "execution_count": 6,
   "metadata": {},
   "outputs": [
    {
     "data": {
      "text/plain": [
       "'2357'"
      ]
     },
     "execution_count": 6,
     "metadata": {},
     "output_type": "execute_result"
    }
   ],
   "source": [
    "# function fConcat - call\n",
    "fConcat(first=\"2\",second=\"3\",third=\"5\",fourth=\"7\")"
   ]
  },
  {
   "cell_type": "markdown",
   "metadata": {},
   "source": [
    "- kwargs - just the name often used by convention - kwargs - short for keyword arguments - the operative difference is the asterisk characters - a double asterisk - \\** - before a name means expand this as a dictionary - a single asterisk - * - before a name means expand this as a sequence - this syntax can be used not only with the function definition but with the function call also [1.44]"
   ]
  },
  {
   "cell_type": "code",
   "execution_count": 7,
   "metadata": {},
   "outputs": [],
   "source": [
    "# define function - fCatchAll\n",
    "def fCatchAll(**nParArgs):\n",
    "    return nParArgs"
   ]
  },
  {
   "cell_type": "code",
   "execution_count": 8,
   "metadata": {},
   "outputs": [
    {
     "data": {
      "text/plain": [
       "{'pi': 3.14, 'e': 2.718}"
      ]
     },
     "execution_count": 8,
     "metadata": {},
     "output_type": "execute_result"
    }
   ],
   "source": [
    "# function fCatchAll - call\n",
    "fCatchAll(**{\"pi\":3.14, \"e\":2.718})"
   ]
  },
  {
   "cell_type": "markdown",
   "metadata": {},
   "source": [
    "***\n",
    "# END"
   ]
  }
 ],
 "metadata": {
  "kernelspec": {
   "display_name": "Python 3",
   "language": "python",
   "name": "python3"
  },
  "language_info": {
   "codemirror_mode": {
    "name": "ipython",
    "version": 3
   },
   "file_extension": ".py",
   "mimetype": "text/x-python",
   "name": "python",
   "nbconvert_exporter": "python",
   "pygments_lexer": "ipython3",
   "version": "3.7.6"
  }
 },
 "nbformat": 4,
 "nbformat_minor": 4
}
