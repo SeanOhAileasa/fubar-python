{
 "cells": [
  {
   "cell_type": "markdown",
   "metadata": {},
   "source": [
    "# package-third-party-numpy-subpackage-random-C-extension-legacy-RandomState\n",
    "> [TABLE OF CONTENTS](https://nbviewer.jupyter.org/github/SeanOhAileasa/fubar-python/blob/main/fubar-python.ipynb#top)\n",
    "***"
   ]
  },
  {
   "cell_type": "code",
   "execution_count": 1,
   "metadata": {},
   "outputs": [],
   "source": [
    "# b_T_hird_P_arty-imports\n",
    "from numpy.random import RandomState as CLegacyGenerator"
   ]
  },
  {
   "cell_type": "code",
   "execution_count": 2,
   "metadata": {},
   "outputs": [],
   "source": [
    "from numpy.random import MT19937 as CSlowMersenneTwister"
   ]
  },
  {
   "cell_type": "code",
   "execution_count": 3,
   "metadata": {},
   "outputs": [
    {
     "name": "stdout",
     "output_type": "stream",
     "text": [
      "\n",
      "    RandomState(seed=None)\n",
      "\n",
      "    Container for the slow Mersenne Twister pseudo-random number generator.\n",
      "    Consider using a different BitGenerator with the Generator container\n",
      "    instead.\n",
      "\n",
      "    `RandomState` and `Generator` expose a number of methods for generating\n",
      "    random numbers drawn from a variety of probability distributions. In\n",
      "    addition to the distribution-specific arguments, each method takes a\n",
      "    keyword argument `size` that defaults to ``None``. If `size` is ``None``,\n",
      "    then a single value is generated and returned. If `size` is an integer,\n",
      "    then a 1-D array filled with generated values is returned. If `size` is a\n",
      "    tuple, then an array with that shape is filled and returned.\n",
      "\n",
      "    **Compatibility Guarantee**\n",
      "\n",
      "    A fixed bit generator using a fixed seed and a fixed series of calls to\n",
      "    'RandomState' methods using the same parameters will always produce the\n",
      "    same results up to roundoff error except when the values were incorrect.\n",
      "    `RandomState` is effectively frozen and will only receive updates that\n",
      "    are required by changes in the the internals of Numpy. More substantial\n",
      "    changes, including algorithmic improvements, are reserved for\n",
      "    `Generator`.\n",
      "\n",
      "    Parameters\n",
      "    ----------\n",
      "    seed : {None, int, array_like, BitGenerator}, optional\n",
      "        Random seed used to initialize the pseudo-random number generator or\n",
      "        an instantized BitGenerator.  If an integer or array, used as a seed for\n",
      "        the MT19937 BitGenerator. Values can be any integer between 0 and\n",
      "        2**32 - 1 inclusive, an array (or other sequence) of such integers,\n",
      "        or ``None`` (the default).  If `seed` is ``None``, then the `MT19937`\n",
      "        BitGenerator is initialized by reading data from ``/dev/urandom``\n",
      "        (or the Windows analogue) if available or seed from the clock\n",
      "        otherwise.\n",
      "\n",
      "    Notes\n",
      "    -----\n",
      "    The Python stdlib module \"random\" also contains a Mersenne Twister\n",
      "    pseudo-random number generator with a number of methods that are similar\n",
      "    to the ones available in `RandomState`. `RandomState`, besides being\n",
      "    NumPy-aware, has the advantage that it provides a much larger number\n",
      "    of probability distributions to choose from.\n",
      "\n",
      "    See Also\n",
      "    --------\n",
      "    Generator\n",
      "    MT19937\n",
      "    numpy.random.BitGenerator\n",
      "\n",
      "    \n"
     ]
    }
   ],
   "source": [
    "# package numpy - subpackage random - object RandomState alias CLegacyGenerator - attribute __doc__ - access\n",
    "print(CLegacyGenerator.__doc__)"
   ]
  },
  {
   "cell_type": "markdown",
   "metadata": {},
   "source": [
    "- generator considered frozen - no further improvements - BitGenerator - MT19937 [0]"
   ]
  },
  {
   "cell_type": "code",
   "execution_count": 4,
   "metadata": {},
   "outputs": [],
   "source": [
    "# package numpy - subpackage random - object MT19937 alias CSlowMersenneTwister - instantiate\n",
    "nMT19937=CSlowMersenneTwister()"
   ]
  },
  {
   "cell_type": "code",
   "execution_count": 5,
   "metadata": {},
   "outputs": [],
   "source": [
    "# package numpy - subpackage random - object RandomState alias CLegacyGenerator - instantiate\n",
    "n=CLegacyGenerator(nMT19937)"
   ]
  },
  {
   "cell_type": "code",
   "execution_count": 6,
   "metadata": {},
   "outputs": [
    {
     "data": {
      "text/plain": [
       "array([ 3, 15, 16, 18,  4, 14,  0,  5,  3,  8,  0, 10, 13, 16,  6, 16, 18,\n",
       "       10,  2, 17, 18, 12, 12,  6,  1, 12,  7, 16, 11,  6,  7,  9,  7, 19,\n",
       "        9, 16,  7, 12, 11,  0, 11,  1, 15,  4, 12,  3,  5, 10, 16,  5,  9,\n",
       "       16, 18,  8,  6, 16, 16, 12,  0,  1,  9, 13, 19,  2, 17, 10, 15,  8,\n",
       "       18, 11,  2,  5, 13,  9,  2, 13, 19, 13,  6,  4, 10, 13,  9,  3,  9,\n",
       "        8, 13,  8, 18, 11, 10, 14, 18,  7,  8,  7,  8, 19,  6,  3])"
      ]
     },
     "execution_count": 6,
     "metadata": {},
     "output_type": "execute_result"
    }
   ],
   "source": [
    "# package numpy - subpackage random - object RandomState alias CLegacyGenerator - method randint - call\n",
    "n.randint(0,20,100)"
   ]
  },
  {
   "cell_type": "markdown",
   "metadata": {},
   "source": [
    "***\n",
    "#### References\n",
    "&nbsp;&nbsp;&nbsp;&nbsp;&nbsp;&nbsp;&nbsp;&nbsp;&nbsp;[0] Documentation, \"Legacy Random Generation,\" [NumPy](https://web.archive.org/web/20201103161215/https://numpy.org/doc/stable/reference/random/legacy.html#legacy-random-generation), June 2020.\n",
    "***\n",
    "# END"
   ]
  }
 ],
 "metadata": {
  "kernelspec": {
   "display_name": "Python 3",
   "language": "python",
   "name": "python3"
  },
  "language_info": {
   "codemirror_mode": {
    "name": "ipython",
    "version": 3
   },
   "file_extension": ".py",
   "mimetype": "text/x-python",
   "name": "python",
   "nbconvert_exporter": "python",
   "pygments_lexer": "ipython3",
   "version": "3.8.3"
  }
 },
 "nbformat": 4,
 "nbformat_minor": 4
}
