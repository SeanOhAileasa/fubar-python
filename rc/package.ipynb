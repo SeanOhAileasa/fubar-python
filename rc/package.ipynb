{
 "cells": [
  {
   "cell_type": "markdown",
   "metadata": {},
   "source": [
    "# package\n",
    "> [TABLE OF CONTENTS](https://nbviewer.jupyter.org/github/SeanOhAileasa/fubar-python/blob/main/fubar-python.ipynb#top)\n",
    "***"
   ]
  },
  {
   "cell_type": "markdown",
   "metadata": {},
   "source": [
    "- developed a very large application that includes many modules - as the number of modules grows it becomes difficult to keep track of them all if they are dumped into one location - particularly so if they have similar names or functionality - might wish for a means of grouping and organizing them [8]"
   ]
  },
  {
   "cell_type": "markdown",
   "metadata": {},
   "source": [
    "- packages allows for a hierarhical structuring of the module namespace using dot notation - in the same way that modules help avoid collisions between global names - packages help avoid collisions between module names - makes use of the operating systems inherent hierarchical file structure [8]"
   ]
  },
  {
   "cell_type": "code",
   "execution_count": 1,
   "metadata": {},
   "outputs": [
    {
     "name": "stdout",
     "output_type": "stream",
     "text": [
      "/c/Users/E6985/L8733/src/pro/par/pyt\n",
      "<make directory> : py-package\n",
      "../pyt/py-package\n",
      "<make directory> : py-package/cPkg\n",
      "../pyt/py-package/cPkg\n"
     ]
    }
   ],
   "source": [
    "%%script bash\n",
    "pwd # working directory\n",
    "echo \"<make directory> : py-package\"; mkdir py-package\n",
    "find ../* -name \"py-package\" # directory\n",
    "echo \"<make directory> : py-package/cPkg\"; mkdir py-package/cPkg\n",
    "find ../* -name \"cPkg\" # directory"
   ]
  },
  {
   "cell_type": "code",
   "execution_count": 2,
   "metadata": {},
   "outputs": [
    {
     "name": "stdout",
     "output_type": "stream",
     "text": [
      "Writing py-package/cPkg/cMod1.py\n"
     ]
    }
   ],
   "source": [
    "%%writefile py-package/cPkg/cMod1.py\n",
    "\"\"\"cPkg.cMod1 <Plain text file designed to be imported/used from another .py file.>\"\"\"\n",
    "\n",
    "# C_lass-definitions\n",
    "class C:\n",
    "    \"\"\"cPkg.cMod1.C\"\"\"\n",
    "    pass\n",
    "\n",
    "# f_function definitions\n",
    "def f():\n",
    "    \"\"\"cPkg.cMod1.f\"\"\"\n",
    "    return f.__doc__\n",
    "\n",
    "print(\"<docstring> : {}\".format(__doc__,end=\"\"))\n",
    "print(\"    <scope> : {}\".format(__name__))"
   ]
  },
  {
   "cell_type": "code",
   "execution_count": 3,
   "metadata": {},
   "outputs": [
    {
     "name": "stdout",
     "output_type": "stream",
     "text": [
      "../pyt/py-package/cPkg/cMod1.py\n"
     ]
    }
   ],
   "source": [
    "%%script bash\n",
    "find ../* -name \"cMod1.py\" # file directory\n",
    "d=`date +_%A_%m_%d_%Y_%H_%M_%S` # date\n",
    "mkdir backup/cMod1 # backup directory\n",
    "cp py-package/cPkg/cMod1.py backup/cMod1/cMod1$d.py # backup"
   ]
  },
  {
   "cell_type": "code",
   "execution_count": 4,
   "metadata": {},
   "outputs": [
    {
     "name": "stdout",
     "output_type": "stream",
     "text": [
      "Writing py-package/cPkg/cMod2.py\n"
     ]
    }
   ],
   "source": [
    "%%writefile py-package/cPkg/cMod2.py\n",
    "\"\"\"cPkg.cMod2 <Plain text file designed to be imported/used from another .py file.>\"\"\"\n",
    "\n",
    "# C_lass-definitions\n",
    "class C:\n",
    "    \"\"\"cPkg.cMod2.C\"\"\"\n",
    "    pass\n",
    "\n",
    "# f_function definitions\n",
    "def f():\n",
    "    \"\"\"cPkg.cMod2.f\"\"\"\n",
    "    return f.__doc__\n",
    "\n",
    "print(\"<docstring> : {}\".format(__doc__,end=\"\"))\n",
    "print(\"    <scope> : {}\".format(__name__))"
   ]
  },
  {
   "cell_type": "code",
   "execution_count": 5,
   "metadata": {},
   "outputs": [
    {
     "name": "stdout",
     "output_type": "stream",
     "text": [
      "../pyt/py-package/cPkg/cMod2.py\n"
     ]
    }
   ],
   "source": [
    "%%script bash\n",
    "find ../* -name \"cMod2.py\" # file directory\n",
    "d=`date +_%A_%m_%d_%Y_%H_%M_%S` # date\n",
    "mkdir backup/cMod2 # backup directory\n",
    "cp py-package/cPkg/cMod2.py backup/cMod2/cMod2$d.py # backup"
   ]
  },
  {
   "cell_type": "code",
   "execution_count": 6,
   "metadata": {},
   "outputs": [],
   "source": [
    "# Kernel - Restart\n",
    "exit()"
   ]
  },
  {
   "cell_type": "markdown",
   "metadata": {},
   "source": [
    "- given file structure - if directory - cPkg - is in a location where it can be found - [[sys.path](https://nbviewer.jupyter.org/github/SeanOhAileasa/fubar-python/blob/main/fubar-python.ipynb#top/L8733/blob/master/src/pro/par/pyt/module-built-in-sys-name-path.ipynb)] directories - can refer to the modules - cMod1 - cMod2 - with dot notation - `cPkg.cMod1` - `cPkg.cMod2` [8]"
   ]
  },
  {
   "cell_type": "code",
   "execution_count": 1,
   "metadata": {},
   "outputs": [
    {
     "name": "stdout",
     "output_type": "stream",
     "text": [
      "/c/Users/E6985/L8733/src/pro/par/pyt\n",
      "../pyt/py-package/cPkg\n",
      "<move> : \n",
      "../pyt/cPkg\n"
     ]
    }
   ],
   "source": [
    "%%script bash\n",
    "pwd # working directory\n",
    "find ../* -name \"cPkg\" # directory\n",
    "echo \"<move> : \"; mv py-package/cPkg .\n",
    "find ../* -name \"cPkg\" # directory"
   ]
  },
  {
   "cell_type": "code",
   "execution_count": 2,
   "metadata": {},
   "outputs": [],
   "source": [
    "# Kernel - Restart\n",
    "exit()"
   ]
  },
  {
   "cell_type": "markdown",
   "metadata": {},
   "source": [
    "```python\n",
    "import <package_name>\n",
    "```"
   ]
  },
  {
   "cell_type": "markdown",
   "metadata": {},
   "source": [
    "- can technically import the package - syntactically correct python statement - does not do much of anything useful - does not place any of the modules in the package - cPkg - into the local namespace [8]"
   ]
  },
  {
   "cell_type": "code",
   "execution_count": 1,
   "metadata": {},
   "outputs": [],
   "source": [
    "# c_L_ocal_A_pplication-imports\n",
    "import cPkg"
   ]
  },
  {
   "cell_type": "code",
   "execution_count": 2,
   "metadata": {},
   "outputs": [
    {
     "data": {
      "text/plain": [
       "<module 'cPkg' (namespace)>"
      ]
     },
     "execution_count": 2,
     "metadata": {},
     "output_type": "execute_result"
    }
   ],
   "source": [
    "# package cPkg\n",
    "cPkg # module returned"
   ]
  },
  {
   "cell_type": "code",
   "execution_count": 3,
   "metadata": {},
   "outputs": [
    {
     "ename": "AttributeError",
     "evalue": "module 'cPkg' has no attribute 'cMod1'",
     "output_type": "error",
     "traceback": [
      "\u001b[1;31m---------------------------------------------------------------------------\u001b[0m",
      "\u001b[1;31mAttributeError\u001b[0m                            Traceback (most recent call last)",
      "\u001b[1;32m<ipython-input-3-51293aab30bd>\u001b[0m in \u001b[0;36m<module>\u001b[1;34m\u001b[0m\n\u001b[0;32m      1\u001b[0m \u001b[1;31m# package cPkg - module cMod1\u001b[0m\u001b[1;33m\u001b[0m\u001b[1;33m\u001b[0m\u001b[1;33m\u001b[0m\u001b[0m\n\u001b[1;32m----> 2\u001b[1;33m \u001b[0mcPkg\u001b[0m\u001b[1;33m.\u001b[0m\u001b[0mcMod1\u001b[0m\u001b[1;33m\u001b[0m\u001b[1;33m\u001b[0m\u001b[0m\n\u001b[0m",
      "\u001b[1;31mAttributeError\u001b[0m: module 'cPkg' has no attribute 'cMod1'"
     ]
    }
   ],
   "source": [
    "# package cPkg - module cMod1\n",
    "cPkg.cMod1"
   ]
  },
  {
   "cell_type": "code",
   "execution_count": 4,
   "metadata": {},
   "outputs": [],
   "source": [
    "# Kernel - Restart\n",
    "exit()"
   ]
  },
  {
   "cell_type": "markdown",
   "metadata": {},
   "source": [
    "```python\n",
    "import <package_name>.<module_name>\n",
    "import <package_name>.<module_name>[, <package_name>.<module_name> ...]\n",
    "```"
   ]
  },
  {
   "cell_type": "code",
   "execution_count": 1,
   "metadata": {},
   "outputs": [
    {
     "name": "stdout",
     "output_type": "stream",
     "text": [
      "<docstring> : cPkg.cMod1 <Plain text file designed to be imported/used from another .py file.>\n",
      "    <scope> : cPkg.cMod1\n",
      "<docstring> : cPkg.cMod2 <Plain text file designed to be imported/used from another .py file.>\n",
      "    <scope> : cPkg.cMod2\n"
     ]
    }
   ],
   "source": [
    "# c_L_ocal_A_pplication-imports\n",
    "import cPkg.cMod1,cPkg.cMod2"
   ]
  },
  {
   "cell_type": "markdown",
   "metadata": {},
   "source": [
    "- following the statement - import - package - cPkg - modules - cMod1 - cMod 2 - are placed in the local symbol table - thus has meaning in the callers local context [8]"
   ]
  },
  {
   "cell_type": "code",
   "execution_count": 2,
   "metadata": {},
   "outputs": [
    {
     "data": {
      "text/plain": [
       "<module 'cPkg.cMod1' from 'C:\\\\Users\\\\E6985\\\\L8733\\\\src\\\\pro\\\\par\\\\pyt\\\\cPkg\\\\cMod1.py'>"
      ]
     },
     "execution_count": 2,
     "metadata": {},
     "output_type": "execute_result"
    }
   ],
   "source": [
    "# package cPkg - module cMod1\n",
    "cPkg.cMod1"
   ]
  },
  {
   "cell_type": "code",
   "execution_count": 3,
   "metadata": {},
   "outputs": [
    {
     "data": {
      "text/plain": [
       "<module 'cPkg.cMod2' from 'C:\\\\Users\\\\E6985\\\\L8733\\\\src\\\\pro\\\\par\\\\pyt\\\\cPkg\\\\cMod2.py'>"
      ]
     },
     "execution_count": 3,
     "metadata": {},
     "output_type": "execute_result"
    }
   ],
   "source": [
    "# package cPkg - module cMod2\n",
    "cPkg.cMod2"
   ]
  },
  {
   "cell_type": "code",
   "execution_count": 4,
   "metadata": {},
   "outputs": [
    {
     "data": {
      "text/plain": [
       "cPkg.cMod1.C"
      ]
     },
     "execution_count": 4,
     "metadata": {},
     "output_type": "execute_result"
    }
   ],
   "source": [
    "# package cPkg - module cMod1 - object C - copy\n",
    "cPkg.cMod1.C"
   ]
  },
  {
   "cell_type": "code",
   "execution_count": 5,
   "metadata": {},
   "outputs": [
    {
     "data": {
      "text/plain": [
       "<cPkg.cMod1.C at 0x17c9740c3d0>"
      ]
     },
     "execution_count": 5,
     "metadata": {},
     "output_type": "execute_result"
    }
   ],
   "source": [
    "# package cPkg - module cMod1 - object C - instantiate\n",
    "cPkg.cMod1.C()"
   ]
  },
  {
   "cell_type": "code",
   "execution_count": 6,
   "metadata": {},
   "outputs": [
    {
     "data": {
      "text/plain": [
       "<function cPkg.cMod2.f()>"
      ]
     },
     "execution_count": 6,
     "metadata": {},
     "output_type": "execute_result"
    }
   ],
   "source": [
    "# package cPkg - module cMod2 - function f - copy\n",
    "cPkg.cMod2.f"
   ]
  },
  {
   "cell_type": "code",
   "execution_count": 7,
   "metadata": {},
   "outputs": [
    {
     "data": {
      "text/plain": [
       "'cPkg.cMod2.f'"
      ]
     },
     "execution_count": 7,
     "metadata": {},
     "output_type": "execute_result"
    }
   ],
   "source": [
    "# package cPkg - module cMod2 - function f - call\n",
    "cPkg.cMod2.f()"
   ]
  },
  {
   "cell_type": "code",
   "execution_count": 8,
   "metadata": {},
   "outputs": [],
   "source": [
    "# Kernel - Restart\n",
    "exit()"
   ]
  },
  {
   "cell_type": "markdown",
   "metadata": {},
   "source": [
    "```python\n",
    "from <package_name>.<module_name> import <name(s)>\n",
    "```"
   ]
  },
  {
   "cell_type": "code",
   "execution_count": 1,
   "metadata": {},
   "outputs": [
    {
     "name": "stdout",
     "output_type": "stream",
     "text": [
      "<docstring> : cPkg.cMod1 <Plain text file designed to be imported/used from another .py file.>\n",
      "    <scope> : cPkg.cMod1\n"
     ]
    }
   ],
   "source": [
    "# c_L_ocal_A_pplication-imports\n",
    "from cPkg.cMod1 import C,f"
   ]
  },
  {
   "cell_type": "code",
   "execution_count": 2,
   "metadata": {},
   "outputs": [
    {
     "data": {
      "text/plain": [
       "cPkg.cMod1.C"
      ]
     },
     "execution_count": 2,
     "metadata": {},
     "output_type": "execute_result"
    }
   ],
   "source": [
    "# package cPkg - module cMod1 - object C - copy\n",
    "C"
   ]
  },
  {
   "cell_type": "code",
   "execution_count": 3,
   "metadata": {},
   "outputs": [
    {
     "data": {
      "text/plain": [
       "<cPkg.cMod1.C at 0x1b72be2c130>"
      ]
     },
     "execution_count": 3,
     "metadata": {},
     "output_type": "execute_result"
    }
   ],
   "source": [
    "# package cPkg - module cMod1 - object C - instantiate\n",
    "C()"
   ]
  },
  {
   "cell_type": "code",
   "execution_count": 4,
   "metadata": {},
   "outputs": [
    {
     "data": {
      "text/plain": [
       "<function cPkg.cMod1.f()>"
      ]
     },
     "execution_count": 4,
     "metadata": {},
     "output_type": "execute_result"
    }
   ],
   "source": [
    "# package cPkg - module cMod1 - function f - copy\n",
    "f"
   ]
  },
  {
   "cell_type": "code",
   "execution_count": 5,
   "metadata": {},
   "outputs": [
    {
     "data": {
      "text/plain": [
       "'cPkg.cMod1.f'"
      ]
     },
     "execution_count": 5,
     "metadata": {},
     "output_type": "execute_result"
    }
   ],
   "source": [
    "# package cPkg - module cMod1 - function f - call\n",
    "f()"
   ]
  },
  {
   "cell_type": "code",
   "execution_count": 6,
   "metadata": {},
   "outputs": [],
   "source": [
    "# Kernel - Restart\n",
    "exit()"
   ]
  },
  {
   "cell_type": "markdown",
   "metadata": {},
   "source": [
    "```python\n",
    "from <package_name>.<module_name> import *\n",
    "```"
   ]
  },
  {
   "cell_type": "code",
   "execution_count": 1,
   "metadata": {},
   "outputs": [],
   "source": [
    "# c_L_ocal_A_pplication-imports\n",
    "from cPkg.cMod2 import *"
   ]
  },
  {
   "cell_type": "code",
   "execution_count": 2,
   "metadata": {},
   "outputs": [
    {
     "data": {
      "text/plain": [
       "cPkg.cMod2.C"
      ]
     },
     "execution_count": 2,
     "metadata": {},
     "output_type": "execute_result"
    }
   ],
   "source": [
    "# package cPkg - module cMod1 - object C - copy\n",
    "C"
   ]
  },
  {
   "cell_type": "code",
   "execution_count": 3,
   "metadata": {},
   "outputs": [
    {
     "data": {
      "text/plain": [
       "<cPkg.cMod2.C at 0x24aa28ac070>"
      ]
     },
     "execution_count": 3,
     "metadata": {},
     "output_type": "execute_result"
    }
   ],
   "source": [
    "# package cPkg - module cMod1 - object C - instantiate\n",
    "C()"
   ]
  },
  {
   "cell_type": "code",
   "execution_count": 4,
   "metadata": {},
   "outputs": [
    {
     "data": {
      "text/plain": [
       "<function cPkg.cMod2.f()>"
      ]
     },
     "execution_count": 4,
     "metadata": {},
     "output_type": "execute_result"
    }
   ],
   "source": [
    "# package cPkg - module cMod1 - function f - copy\n",
    "f"
   ]
  },
  {
   "cell_type": "code",
   "execution_count": 5,
   "metadata": {},
   "outputs": [
    {
     "data": {
      "text/plain": [
       "'cPkg.cMod2.f'"
      ]
     },
     "execution_count": 5,
     "metadata": {},
     "output_type": "execute_result"
    }
   ],
   "source": [
    "# package cPkg - module cMod1 - function f - call\n",
    "f()"
   ]
  },
  {
   "cell_type": "code",
   "execution_count": 6,
   "metadata": {},
   "outputs": [],
   "source": [
    "# Kernel - Restart\n",
    "exit()"
   ]
  },
  {
   "cell_type": "markdown",
   "metadata": {},
   "source": [
    "```python\n",
    "from <package_name>.<module_name> import <name> as <alt_name>\n",
    "from <package_name>.<module_name> import <name> as <alt_name>[, <name> as <alt_name> ...]\n",
    "```"
   ]
  },
  {
   "cell_type": "code",
   "execution_count": 1,
   "metadata": {},
   "outputs": [
    {
     "name": "stdout",
     "output_type": "stream",
     "text": [
      "<docstring> : cPkg.cMod1 <Plain text file designed to be imported/used from another .py file.>\n",
      "    <scope> : cPkg.cMod1\n"
     ]
    }
   ],
   "source": [
    "# c_L_ocal_A_pplication-imports\n",
    "from cPkg.cMod1 import C as CInsObj1"
   ]
  },
  {
   "cell_type": "code",
   "execution_count": 2,
   "metadata": {},
   "outputs": [
    {
     "data": {
      "text/plain": [
       "cPkg.cMod1.C"
      ]
     },
     "execution_count": 2,
     "metadata": {},
     "output_type": "execute_result"
    }
   ],
   "source": [
    "# package cPkg - module cMod1 - object C alias CInsObj1 - copy\n",
    "CInsObj1"
   ]
  },
  {
   "cell_type": "code",
   "execution_count": 3,
   "metadata": {},
   "outputs": [
    {
     "data": {
      "text/plain": [
       "<cPkg.cMod1.C at 0x27aa2623f40>"
      ]
     },
     "execution_count": 3,
     "metadata": {},
     "output_type": "execute_result"
    }
   ],
   "source": [
    "# package cPkg - module cMod1 - object C alias CInsObj1 - instantiate\n",
    "CInsObj1()"
   ]
  },
  {
   "cell_type": "code",
   "execution_count": 4,
   "metadata": {},
   "outputs": [
    {
     "name": "stdout",
     "output_type": "stream",
     "text": [
      "<docstring> : cPkg.cMod2 <Plain text file designed to be imported/used from another .py file.>\n",
      "    <scope> : cPkg.cMod2\n"
     ]
    }
   ],
   "source": [
    "# c_L_ocal_A_pplication-imports\n",
    "from cPkg.cMod2 import f as fMod2"
   ]
  },
  {
   "cell_type": "code",
   "execution_count": 5,
   "metadata": {},
   "outputs": [
    {
     "data": {
      "text/plain": [
       "<function cPkg.cMod2.f()>"
      ]
     },
     "execution_count": 5,
     "metadata": {},
     "output_type": "execute_result"
    }
   ],
   "source": [
    "# package cPkg - module cMod2 - function f alias fMod2 - copy\n",
    "fMod2"
   ]
  },
  {
   "cell_type": "code",
   "execution_count": 6,
   "metadata": {},
   "outputs": [
    {
     "data": {
      "text/plain": [
       "'cPkg.cMod2.f'"
      ]
     },
     "execution_count": 6,
     "metadata": {},
     "output_type": "execute_result"
    }
   ],
   "source": [
    "# package cPkg - module cMod2 - function f alias fMod2 - call\n",
    "fMod2()"
   ]
  },
  {
   "cell_type": "code",
   "execution_count": 7,
   "metadata": {},
   "outputs": [],
   "source": [
    "# Kernel - Restart\n",
    "exit()"
   ]
  },
  {
   "cell_type": "markdown",
   "metadata": {},
   "source": [
    "```python\n",
    "from <package_name> import <modules_name>[, <module_name> ...]\n",
    "```"
   ]
  },
  {
   "cell_type": "code",
   "execution_count": 1,
   "metadata": {},
   "outputs": [
    {
     "name": "stdout",
     "output_type": "stream",
     "text": [
      "<docstring> : cPkg.cMod1 <Plain text file designed to be imported/used from another .py file.>\n",
      "    <scope> : cPkg.cMod1\n",
      "<docstring> : cPkg.cMod2 <Plain text file designed to be imported/used from another .py file.>\n",
      "    <scope> : cPkg.cMod2\n"
     ]
    }
   ],
   "source": [
    "# c_L_ocal_A_pplication-imports\n",
    "from cPkg import cMod1,cMod2"
   ]
  },
  {
   "cell_type": "code",
   "execution_count": 2,
   "metadata": {},
   "outputs": [
    {
     "data": {
      "text/plain": [
       "cPkg.cMod1.C"
      ]
     },
     "execution_count": 2,
     "metadata": {},
     "output_type": "execute_result"
    }
   ],
   "source": [
    "# package cPkg - module cMod1 - object C - copy\n",
    "cMod1.C"
   ]
  },
  {
   "cell_type": "code",
   "execution_count": 3,
   "metadata": {},
   "outputs": [
    {
     "data": {
      "text/plain": [
       "<cPkg.cMod1.C at 0x1f93973c0a0>"
      ]
     },
     "execution_count": 3,
     "metadata": {},
     "output_type": "execute_result"
    }
   ],
   "source": [
    "# package cPkg - module cMod1 - object C - instantiate\n",
    "cMod1.C()"
   ]
  },
  {
   "cell_type": "code",
   "execution_count": 4,
   "metadata": {},
   "outputs": [
    {
     "data": {
      "text/plain": [
       "<function cPkg.cMod2.f()>"
      ]
     },
     "execution_count": 4,
     "metadata": {},
     "output_type": "execute_result"
    }
   ],
   "source": [
    "# package cPkg - module cMod2 - function f - copy\n",
    "cMod2.f"
   ]
  },
  {
   "cell_type": "code",
   "execution_count": 5,
   "metadata": {},
   "outputs": [
    {
     "data": {
      "text/plain": [
       "'cPkg.cMod2.f'"
      ]
     },
     "execution_count": 5,
     "metadata": {},
     "output_type": "execute_result"
    }
   ],
   "source": [
    "# package cPkg - module cMod2 - function f - call\n",
    "cMod2.f()"
   ]
  },
  {
   "cell_type": "code",
   "execution_count": 6,
   "metadata": {},
   "outputs": [],
   "source": [
    "# Kernel - Restart\n",
    "exit()"
   ]
  },
  {
   "cell_type": "markdown",
   "metadata": {},
   "source": [
    "```python\n",
    "from <package_name> import <module_name> as <alt_name>\n",
    "```"
   ]
  },
  {
   "cell_type": "code",
   "execution_count": 1,
   "metadata": {},
   "outputs": [
    {
     "name": "stdout",
     "output_type": "stream",
     "text": [
      "<docstring> : cPkg.cMod1 <Plain text file designed to be imported/used from another .py file.>\n",
      "    <scope> : cPkg.cMod1\n"
     ]
    }
   ],
   "source": [
    "# c_L_ocal_A_pplication-imports\n",
    "from cPkg import cMod1 as cm1"
   ]
  },
  {
   "cell_type": "code",
   "execution_count": 2,
   "metadata": {},
   "outputs": [
    {
     "data": {
      "text/plain": [
       "cPkg.cMod1.C"
      ]
     },
     "execution_count": 2,
     "metadata": {},
     "output_type": "execute_result"
    }
   ],
   "source": [
    "# package cPkg - module cMod1 alias cm1 - object C - copy\n",
    "cm1.C"
   ]
  },
  {
   "cell_type": "code",
   "execution_count": 3,
   "metadata": {},
   "outputs": [
    {
     "data": {
      "text/plain": [
       "<cPkg.cMod1.C at 0x20fb7e19070>"
      ]
     },
     "execution_count": 3,
     "metadata": {},
     "output_type": "execute_result"
    }
   ],
   "source": [
    "# package cPkg - module cMod1 alias cm1 - object C - instantiate\n",
    "cm1.C()"
   ]
  },
  {
   "cell_type": "code",
   "execution_count": 4,
   "metadata": {},
   "outputs": [
    {
     "data": {
      "text/plain": [
       "<function cPkg.cMod1.f()>"
      ]
     },
     "execution_count": 4,
     "metadata": {},
     "output_type": "execute_result"
    }
   ],
   "source": [
    "# package cPkg - module cMod1 alias cm1 - function f - copy\n",
    "cm1.f"
   ]
  },
  {
   "cell_type": "code",
   "execution_count": 5,
   "metadata": {},
   "outputs": [
    {
     "data": {
      "text/plain": [
       "'cPkg.cMod1.f'"
      ]
     },
     "execution_count": 5,
     "metadata": {},
     "output_type": "execute_result"
    }
   ],
   "source": [
    "# package cPkg - module cMod1 alias cm1 - function f - call\n",
    "cm1.f()"
   ]
  },
  {
   "cell_type": "code",
   "execution_count": 6,
   "metadata": {},
   "outputs": [],
   "source": [
    "# Kernel - Restart\n",
    "exit()"
   ]
  },
  {
   "cell_type": "code",
   "execution_count": 1,
   "metadata": {},
   "outputs": [
    {
     "name": "stdout",
     "output_type": "stream",
     "text": [
      "../pyt/cPkg\n"
     ]
    }
   ],
   "source": [
    "%%script bash\n",
    "find ../* -name \"cPkg\" # directory"
   ]
  },
  {
   "cell_type": "markdown",
   "metadata": {},
   "source": [
    "- `import cPkg` - does not place any of the modules in the package - cPkg - into the local namespace [8]"
   ]
  },
  {
   "cell_type": "code",
   "execution_count": 2,
   "metadata": {},
   "outputs": [],
   "source": [
    "# c_L_ocal_A_pplication-imports\n",
    "import cPkg"
   ]
  },
  {
   "cell_type": "code",
   "execution_count": 3,
   "metadata": {},
   "outputs": [
    {
     "data": {
      "text/plain": [
       "<module 'cPkg' (namespace)>"
      ]
     },
     "execution_count": 3,
     "metadata": {},
     "output_type": "execute_result"
    }
   ],
   "source": [
    "# package cPkg\n",
    "cPkg # module returned"
   ]
  },
  {
   "cell_type": "markdown",
   "metadata": {},
   "source": [
    "- dunder init dunder file - present in package directory - invoked - i) package - or - ii) module in package - is imported - can be used for execution of package initialisation code such as initialisation of package-level data [8]"
   ]
  },
  {
   "cell_type": "markdown",
   "metadata": {},
   "source": [
    "```python\n",
    "__init__\n",
    "```\n",
    "> [Python Documentation](https://web.archive.org/web/20200904090729/https://docs.python.org/3/tutorial/modules.html#packages) [0]"
   ]
  },
  {
   "cell_type": "markdown",
   "metadata": {},
   "source": [
    "- python defines two types of packages - [regular](https://web.archive.org/web/20200904090729/https://docs.python.org/3/glossary.html#term-regular-package) - [namespace](https://web.archive.org/web/20200904090729/https://docs.python.org/3/glossary.html#term-namespace-package) [0]\n",
    "\n",
    "\n",
    "- [regular package](https://web.archive.org/web/20200904090729/https://docs.python.org/3/reference/import.html#regular-packages) - traditional - typically implemented as a directory containing - dunder init dunder file - when a regular package is imported - dunder init dunder - is implicitly executed - the objects it defines are bound to names in the packages namespace - the dunder init dunder file can contain the same python code that any other module can contain - python will add some additional [attributes](https://web.archive.org/web/20200904090729/https://docs.python.org/3/reference/import.html#import-related-module-attributes) to the module when it is imported [0]"
   ]
  },
  {
   "cell_type": "code",
   "execution_count": 4,
   "metadata": {},
   "outputs": [
    {
     "name": "stdout",
     "output_type": "stream",
     "text": [
      "Writing cPkg/__init__.py\n"
     ]
    }
   ],
   "source": [
    "%%writefile cPkg/__init__.py\n",
    "\"\"\"cPkg.__init__ <Invoked when package (or module in package) imported.>\"\"\"\n",
    "\n",
    "print(\"<docstring> : {}\".format(__doc__,end=\"\"))\n",
    "print(\"    <scope> : {}\".format(__name__))\n",
    "\n",
    "# n_ames-to-references\n",
    "nName=__name__"
   ]
  },
  {
   "cell_type": "code",
   "execution_count": 5,
   "metadata": {},
   "outputs": [
    {
     "name": "stdout",
     "output_type": "stream",
     "text": [
      "../pyt/cPkg/__init__.py\n",
      "../pyt/cPkg/cMod1.py\n",
      "../pyt/cPkg/cMod1.py\n"
     ]
    }
   ],
   "source": [
    "%%script bash\n",
    "find ../* -name \"__init__.py\" # file directory\n",
    "d=`date +_%A_%m_%d_%Y_%H_%M_%S` # date\n",
    "mkdir backup/cPkg # backup directory\n",
    "cp cPkg/__init__.py backup/cPkg/__init__$d.py # backup\n",
    "find ../* -name \"cMod1.py\" # file directory\n",
    "find ../* -name \"cMod1.py\" # file directory"
   ]
  },
  {
   "cell_type": "markdown",
   "metadata": {},
   "source": [
    "- package - cPkg - imported - global name - nName - iniitialised [8]"
   ]
  },
  {
   "cell_type": "markdown",
   "metadata": {},
   "source": [
    "- reasons of efficiency - a module is only loaded once per interpreter session - class definitions - function definitions - make up the bulk of a modules content but a module may contain executable statements - usually for initialisation - will only be executed the first time a module is imported [8]"
   ]
  },
  {
   "cell_type": "code",
   "execution_count": 6,
   "metadata": {},
   "outputs": [],
   "source": [
    "# c_L_ocal_A_pplication-imports\n",
    "import cPkg"
   ]
  },
  {
   "cell_type": "markdown",
   "metadata": {},
   "source": [
    "- dunder init dunder file - function print - not executed on subsequent imports - neither is the assignment statement albeit once an assignment is made it sticks [8]"
   ]
  },
  {
   "cell_type": "code",
   "execution_count": 7,
   "metadata": {},
   "outputs": [
    {
     "data": {
      "text/plain": [
       "<module 'cPkg' (namespace)>"
      ]
     },
     "execution_count": 7,
     "metadata": {},
     "output_type": "execute_result"
    }
   ],
   "source": [
    "# package cPkg\n",
    "cPkg # module returned"
   ]
  },
  {
   "cell_type": "code",
   "execution_count": 8,
   "metadata": {},
   "outputs": [
    {
     "ename": "AttributeError",
     "evalue": "module 'cPkg' has no attribute 'nName'",
     "output_type": "error",
     "traceback": [
      "\u001b[1;31m---------------------------------------------------------------------------\u001b[0m",
      "\u001b[1;31mAttributeError\u001b[0m                            Traceback (most recent call last)",
      "\u001b[1;32m<ipython-input-8-e2892d1869e7>\u001b[0m in \u001b[0;36m<module>\u001b[1;34m\u001b[0m\n\u001b[0;32m      1\u001b[0m \u001b[1;31m# package cPkg - file __init__ - name nName - access\u001b[0m\u001b[1;33m\u001b[0m\u001b[1;33m\u001b[0m\u001b[1;33m\u001b[0m\u001b[0m\n\u001b[1;32m----> 2\u001b[1;33m \u001b[0mcPkg\u001b[0m\u001b[1;33m.\u001b[0m\u001b[0mnName\u001b[0m\u001b[1;33m\u001b[0m\u001b[1;33m\u001b[0m\u001b[0m\n\u001b[0m",
      "\u001b[1;31mAttributeError\u001b[0m: module 'cPkg' has no attribute 'nName'"
     ]
    }
   ],
   "source": [
    "# package cPkg - file __init__ - name nName - access \n",
    "cPkg.nName"
   ]
  },
  {
   "cell_type": "markdown",
   "metadata": {},
   "source": [
    "- to change a module - reload it - i) restart the interpreter - or - ii) use standard library - module importlib - function reload [8]"
   ]
  },
  {
   "cell_type": "code",
   "execution_count": 9,
   "metadata": {},
   "outputs": [],
   "source": [
    "# a_S_tandard_L_ibrary-imports\n",
    "from importlib import reload as aSLir"
   ]
  },
  {
   "cell_type": "code",
   "execution_count": 10,
   "metadata": {},
   "outputs": [
    {
     "name": "stdout",
     "output_type": "stream",
     "text": [
      "<docstring> : cPkg.__init__ <Invoked when package (or module in package) imported.>\n",
      "    <scope> : cPkg\n"
     ]
    },
    {
     "data": {
      "text/plain": [
       "<module 'cPkg' from 'C:\\\\Users\\\\E6985\\\\L8733\\\\src\\\\pro\\\\par\\\\pyt\\\\cPkg\\\\__init__.py'>"
      ]
     },
     "execution_count": 10,
     "metadata": {},
     "output_type": "execute_result"
    }
   ],
   "source": [
    "# module importlib - function reload alias aSLir - call\n",
    "aSLir(cPkg)"
   ]
  },
  {
   "cell_type": "markdown",
   "metadata": {},
   "source": [
    "- following the statement - import - package - cPkg - is placed in the local symbol table - thus the package - cPkg - has meaning in the callers local context [8]"
   ]
  },
  {
   "cell_type": "code",
   "execution_count": 11,
   "metadata": {},
   "outputs": [
    {
     "data": {
      "text/plain": [
       "<module 'cPkg' from 'C:\\\\Users\\\\E6985\\\\L8733\\\\src\\\\pro\\\\par\\\\pyt\\\\cPkg\\\\__init__.py'>"
      ]
     },
     "execution_count": 11,
     "metadata": {},
     "output_type": "execute_result"
    }
   ],
   "source": [
    "# package cPkg - file __init__\n",
    "cPkg"
   ]
  },
  {
   "cell_type": "code",
   "execution_count": 12,
   "metadata": {},
   "outputs": [
    {
     "data": {
      "text/plain": [
       "'cPkg'"
      ]
     },
     "execution_count": 12,
     "metadata": {},
     "output_type": "execute_result"
    }
   ],
   "source": [
    "# package cPkg - file __init__ - name nName - access \n",
    "cPkg.nName"
   ]
  },
  {
   "cell_type": "code",
   "execution_count": 13,
   "metadata": {},
   "outputs": [
    {
     "data": {
      "text/plain": [
       "['__builtins__',\n",
       " '__cached__',\n",
       " '__doc__',\n",
       " '__file__',\n",
       " '__loader__',\n",
       " '__name__',\n",
       " '__package__',\n",
       " '__path__',\n",
       " '__spec__',\n",
       " 'nName']"
      ]
     },
     "execution_count": 13,
     "metadata": {},
     "output_type": "execute_result"
    }
   ],
   "source": [
    "# package cPkg - names local-symbol-table - access\n",
    "dir(cPkg)"
   ]
  },
  {
   "cell_type": "code",
   "execution_count": 14,
   "metadata": {},
   "outputs": [
    {
     "data": {
      "text/plain": [
       "['C:\\\\Users\\\\E6985\\\\L8733\\\\src\\\\pro\\\\par\\\\pyt\\\\cPkg']"
      ]
     },
     "execution_count": 14,
     "metadata": {},
     "output_type": "execute_result"
    }
   ],
   "source": [
    "# package cPkg - file __init__ - attribute __path__ - access\n",
    "cPkg.__path__"
   ]
  },
  {
   "cell_type": "code",
   "execution_count": 15,
   "metadata": {},
   "outputs": [],
   "source": [
    "# Kernel - Restart\n",
    "exit()"
   ]
  },
  {
   "cell_type": "markdown",
   "metadata": {},
   "source": [
    "- dunder init dunder file - can also be used to effect automatic importing of modules from a package - `ìmport cPkg` - only places the name - cPkg - in the callers local symbol table - does not import any modules [8]"
   ]
  },
  {
   "cell_type": "code",
   "execution_count": 1,
   "metadata": {},
   "outputs": [
    {
     "name": "stdout",
     "output_type": "stream",
     "text": [
      "Overwriting cPkg/__init__.py\n"
     ]
    }
   ],
   "source": [
    "%%writefile cPkg/__init__.py\n",
    "\"\"\"cPkg.__init__ <Invoked when package (or module in package) imported.>\"\"\"\n",
    "\n",
    "# c_L_ocal_A_pplication-imports\n",
    "import cPkg.cMod1,cPkg.cMod2\n",
    "\n",
    "print(\"<docstring> : {}\".format(__doc__,end=\"\"))\n",
    "print(\"    <scope> : {}\".format(__name__))\n",
    "\n",
    "# n_ames-to-references\n",
    "nName=__name__"
   ]
  },
  {
   "cell_type": "code",
   "execution_count": 2,
   "metadata": {},
   "outputs": [
    {
     "name": "stdout",
     "output_type": "stream",
     "text": [
      "../pyt/cPkg/__init__.py\n"
     ]
    }
   ],
   "source": [
    "%%script bash\n",
    "find ../* -name \"__init__.py\" # file directory\n",
    "d=`date +_%A_%m_%d_%Y_%H_%M_%S` # date\n",
    "cp cPkg/__init__.py backup/cPkg/__init__$d.py # backup"
   ]
  },
  {
   "cell_type": "markdown",
   "metadata": {},
   "source": [
    "- executed - `ìmport cPkg` - modules - cMod1 - cMod2 - are imported automatically [8]"
   ]
  },
  {
   "cell_type": "code",
   "execution_count": 3,
   "metadata": {},
   "outputs": [
    {
     "name": "stdout",
     "output_type": "stream",
     "text": [
      "<docstring> : cPkg.cMod1 <Plain text file designed to be imported/used from another .py file.>\n",
      "    <scope> : cPkg.cMod1\n",
      "<docstring> : cPkg.cMod2 <Plain text file designed to be imported/used from another .py file.>\n",
      "    <scope> : cPkg.cMod2\n",
      "<docstring> : cPkg.__init__ <Invoked when package (or module in package) imported.>\n",
      "    <scope> : cPkg\n"
     ]
    }
   ],
   "source": [
    "# c_L_ocal_A_pplication-imports\n",
    "import cPkg"
   ]
  },
  {
   "cell_type": "code",
   "execution_count": 4,
   "metadata": {},
   "outputs": [
    {
     "data": {
      "text/plain": [
       "cPkg.cMod1.C"
      ]
     },
     "execution_count": 4,
     "metadata": {},
     "output_type": "execute_result"
    }
   ],
   "source": [
    "# package cPkg - module cMod1 - object C - copy\n",
    "cPkg.cMod1.C"
   ]
  },
  {
   "cell_type": "code",
   "execution_count": 5,
   "metadata": {},
   "outputs": [
    {
     "data": {
      "text/plain": [
       "<function cPkg.cMod1.f()>"
      ]
     },
     "execution_count": 5,
     "metadata": {},
     "output_type": "execute_result"
    }
   ],
   "source": [
    "# package cPkg - module cMod2 - function f - copy\n",
    "cPkg.cMod1.f"
   ]
  },
  {
   "cell_type": "code",
   "execution_count": 6,
   "metadata": {},
   "outputs": [],
   "source": [
    "# Kernel - Restart\n",
    "exit()"
   ]
  },
  {
   "cell_type": "markdown",
   "metadata": {},
   "source": [
    "- must of the python documentation states that the file - dunder init dunder - must be present in the package directory when creating a package - once true - the very presence of file - dunder init dunder - signified to python that a package was being defined - file could contain initialisation code or even be empty but has to be present - python3.3 - implicit namespace packages were introduced - allow for the creation of a package without any file - dunder init dunder - can still be present if package initialisation is needed [8]"
   ]
  },
  {
   "cell_type": "markdown",
   "metadata": {},
   "source": [
    "- [namespace package](https://web.archive.org/web/20200904090729/https://docs.python.org/3/reference/import.html#namespace-packages) - composite of various portions - where each portion contributes a subpackage to the parent package - portions may reside in different locations on the file system - portions may also be found in zip files - on the network - or anywhere else that python searches during import - namespace packages may or may not correspond directly to objects on the file system - may be virtual modules that have no concrete representation [0]"
   ]
  },
  {
   "cell_type": "markdown",
   "metadata": {},
   "source": [
    "- namespace packages do not use an ordinary list for the attribute - [dunder path dunder](https://web.archive.org/web/20200904090729/https://docs.python.org/3/reference/import.html#__path__) - instead use a custom iterable type which will automatically perform a new search for package portions on the next import attempt within that package if the path of its - parent package - or [sys.path](https://nbviewer.jupyter.org/github/E6985/L8733/blob/master/src/pro/par/pyt/module-built-in-sys-name-path.ipynb) for a top level package - changes [0]"
   ]
  },
  {
   "cell_type": "markdown",
   "metadata": {},
   "source": [
    "- with namespace packages - there is no parent dunder init dunder file - may be multiple parent directories found during import search where each one is provided by a different portion - thus parent/one may not be physically located next to parent/two - in this case python will create a namespace package for the top-level parent package whenever it or one of its subpackages is imported [0]"
   ]
  },
  {
   "cell_type": "code",
   "execution_count": 1,
   "metadata": {
    "scrolled": true
   },
   "outputs": [
    {
     "name": "stdout",
     "output_type": "stream",
     "text": [
      "<move> : backup/*\n",
      "<move> : py-package\n"
     ]
    }
   ],
   "source": [
    "%%script bash\n",
    "echo \"<move> : backup/*\"; mv backup/* py-package\n",
    "d=`date +_%A_%m_%d_%Y_%H_%M_%S` # date\n",
    "cp package.ipynb py-package/package$d.ipynb # backup\n",
    "echo \"<move> : py-package\"; mv py-package ~/E6985/backup/package$d # backup\n",
    "rm -r cPkg # delete directory\n",
    "# notebook - save"
   ]
  },
  {
   "cell_type": "markdown",
   "metadata": {},
   "source": [
    "***\n",
    "### review\n",
    "> [importing *](https://realpython.com/python-modules-packages/#importing-from-a-package)\n",
    "\n",
    "> [subpackaes](https://realpython.com/python-modules-packages/#subpackages)\n",
    "\n",
    "> [absolute vs relative imports](https://realpython.com/absolute-vs-relative-python-imports/)\n",
    "***"
   ]
  },
  {
   "cell_type": "markdown",
   "metadata": {},
   "source": [
    "***\n",
    "# END"
   ]
  }
 ],
 "metadata": {
  "kernelspec": {
   "display_name": "Python 3",
   "language": "python",
   "name": "python3"
  },
  "language_info": {
   "codemirror_mode": {
    "name": "ipython",
    "version": 3
   },
   "file_extension": ".py",
   "mimetype": "text/x-python",
   "name": "python",
   "nbconvert_exporter": "python",
   "pygments_lexer": "ipython3",
   "version": "3.8.3"
  }
 },
 "nbformat": 4,
 "nbformat_minor": 4
}
