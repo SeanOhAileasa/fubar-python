{
 "cells": [
  {
   "cell_type": "markdown",
   "metadata": {},
   "source": [
    "# package-third-party-matplotlib\n",
    "> [TABLE OF CONTENTS](https://nbviewer.jupyter.org/github/SeanOhAileasa/fubar-python/blob/main/fubar-python.ipynb#top)\n",
    "***"
   ]
  },
  {
   "cell_type": "markdown",
   "metadata": {},
   "source": [
    "- plotting package - visualisation [10.1]"
   ]
  },
  {
   "cell_type": "markdown",
   "metadata": {},
   "source": [
    "- tool for visualisation - multiplatform data visualization library built on numpy arrays - designed to work with the broader scipy stack - conceived - 2002 - originally as a patch to ipython for enabling interactive MATLAB-style plotting via gnuplot from the ipython command line - early boost - 2003 - adopted as the plotting package of choice of the Space Telescope Science Institute - Hubble Telescope - which financially supported matplotlibs development - greatly expanding its capabilities [9.217]"
   ]
  },
  {
   "cell_type": "markdown",
   "metadata": {},
   "source": [
    "- most important features is its ability to play well with many operating systems and graphics backends - supports dozens of backends and output types - the cross-platform - everything-to-everyone approach - has been one of the great strengths of matplotlib - has led to a large userbase which in turn has led to an active developer base and matplotlibs powerful tools and ubiquity within the scientific python world [9.217]"
   ]
  },
  {
   "cell_type": "markdown",
   "metadata": {},
   "source": [
    "- in recent years - the interface and style of matplotlib have begun to show age - newer tools - ggplot - ggvis - in the R language - along with web visualization toolkits based on D3js and HTML5 canvas often make matplotlib feel clunky and old-fashioned - still cannot ignore matplotlibs strength as a well-tested - cross-platform graphics engine - recent matplotlib versions make it relatively easy to set new global plotting styles and the development of new packages that build on its powerful internals to drive matplotlib via cleaner and more [9.217] modern APIs - seaborn - even pandas itself can be used as wrappers around matplotlibs API - even with wrappers like these it is still often useful to dive into matplotlibs syntax to adjust the final plot output - for this reason it will remain a vital piece of the data visualization stack even if new tools mean the community gradually moves away from using the matplotlib API directly [9.218]"
   ]
  },
  {
   "cell_type": "code",
   "execution_count": 1,
   "metadata": {},
   "outputs": [],
   "source": [
    "# b_T_hird_P_arty-imports\n",
    "import matplotlib"
   ]
  },
  {
   "cell_type": "code",
   "execution_count": 2,
   "metadata": {},
   "outputs": [
    {
     "name": "stdout",
     "output_type": "stream",
     "text": [
      "\n",
      "This is an object-oriented plotting library.\n",
      "\n",
      "A procedural interface is provided by the companion pyplot module,\n",
      "which may be imported directly, e.g.::\n",
      "\n",
      "    import matplotlib.pyplot as plt\n",
      "\n",
      "or using ipython::\n",
      "\n",
      "    ipython\n",
      "\n",
      "at your terminal, followed by::\n",
      "\n",
      "    In [1]: %matplotlib\n",
      "    In [2]: import matplotlib.pyplot as plt\n",
      "\n",
      "at the ipython shell prompt.\n",
      "\n",
      "For the most part, direct use of the object-oriented library is\n",
      "encouraged when programming; pyplot is primarily for working\n",
      "interactively.  The\n",
      "exceptions are the pyplot commands :func:`~matplotlib.pyplot.figure`,\n",
      ":func:`~matplotlib.pyplot.subplot`,\n",
      ":func:`~matplotlib.pyplot.subplots`, and\n",
      ":func:`~pyplot.savefig`, which can greatly simplify scripting.\n",
      "\n",
      "Modules include:\n",
      "\n",
      "    :mod:`matplotlib.axes`\n",
      "        defines the :class:`~matplotlib.axes.Axes` class.  Most pyplot\n",
      "        commands are wrappers for :class:`~matplotlib.axes.Axes`\n",
      "        methods.  The axes module is the highest level of OO access to\n",
      "        the library.\n",
      "\n",
      "    :mod:`matplotlib.figure`\n",
      "        defines the :class:`~matplotlib.figure.Figure` class.\n",
      "\n",
      "    :mod:`matplotlib.artist`\n",
      "        defines the :class:`~matplotlib.artist.Artist` base class for\n",
      "        all classes that draw things.\n",
      "\n",
      "    :mod:`matplotlib.lines`\n",
      "        defines the :class:`~matplotlib.lines.Line2D` class for\n",
      "        drawing lines and markers\n",
      "\n",
      "    :mod:`matplotlib.patches`\n",
      "        defines classes for drawing polygons\n",
      "\n",
      "    :mod:`matplotlib.text`\n",
      "        defines the :class:`~matplotlib.text.Text`,\n",
      "        :class:`~matplotlib.text.TextWithDash`, and\n",
      "        :class:`~matplotlib.text.Annotate` classes\n",
      "\n",
      "    :mod:`matplotlib.image`\n",
      "        defines the :class:`~matplotlib.image.AxesImage` and\n",
      "        :class:`~matplotlib.image.FigureImage` classes\n",
      "\n",
      "    :mod:`matplotlib.collections`\n",
      "        classes for efficient drawing of groups of lines or polygons\n",
      "\n",
      "    :mod:`matplotlib.colors`\n",
      "        classes for interpreting color specifications and for making\n",
      "        colormaps\n",
      "\n",
      "    :mod:`matplotlib.cm`\n",
      "        colormaps and the :class:`~matplotlib.image.ScalarMappable`\n",
      "        mixin class for providing color mapping functionality to other\n",
      "        classes\n",
      "\n",
      "    :mod:`matplotlib.ticker`\n",
      "        classes for calculating tick mark locations and for formatting\n",
      "        tick labels\n",
      "\n",
      "    :mod:`matplotlib.backends`\n",
      "        a subpackage with modules for various gui libraries and output\n",
      "        formats\n",
      "\n",
      "The base matplotlib namespace includes:\n",
      "\n",
      "    :data:`~matplotlib.rcParams`\n",
      "        a global dictionary of default configuration settings.  It is\n",
      "        initialized by code which may be overridden by a matplotlibrc\n",
      "        file.\n",
      "\n",
      "    :func:`~matplotlib.rc`\n",
      "        a function for setting groups of rcParams values\n",
      "\n",
      "    :func:`~matplotlib.use`\n",
      "        a function for setting the matplotlib backend.  If used, this\n",
      "        function must be called immediately after importing matplotlib\n",
      "        for the first time.  In particular, it must be called\n",
      "        **before** importing pyplot (if pyplot is imported).\n",
      "\n",
      "matplotlib was initially written by John D. Hunter (1968-2012) and is now\n",
      "developed and maintained by a host of others.\n",
      "\n",
      "Occasionally the internal documentation (python docstrings) will refer\n",
      "to MATLAB&reg;, a registered trademark of The MathWorks, Inc.\n",
      "\n",
      "\n"
     ]
    }
   ],
   "source": [
    "# package matplotlib - attribute __doc__ - access\n",
    "print(matplotlib.__doc__)"
   ]
  },
  {
   "cell_type": "code",
   "execution_count": 3,
   "metadata": {},
   "outputs": [],
   "source": [
    "# Kernel - Restart\n",
    "exit()"
   ]
  },
  {
   "cell_type": "code",
   "execution_count": 1,
   "metadata": {},
   "outputs": [],
   "source": [
    "# b_T_hird_P_arty-imports\n",
    "import matplotlib as mpl"
   ]
  },
  {
   "cell_type": "code",
   "execution_count": 2,
   "metadata": {},
   "outputs": [
    {
     "data": {
      "text/plain": [
       "'matplotlib'"
      ]
     },
     "execution_count": 2,
     "metadata": {},
     "output_type": "execute_result"
    }
   ],
   "source": [
    "# package matplotlib alias mpl - attribute - __package__ - access\n",
    "mpl.__package__"
   ]
  },
  {
   "cell_type": "code",
   "execution_count": 3,
   "metadata": {},
   "outputs": [
    {
     "data": {
      "text/plain": [
       "['C:\\\\Users\\\\E6985\\\\anaconda3\\\\lib\\\\site-packages\\\\matplotlib']"
      ]
     },
     "execution_count": 3,
     "metadata": {},
     "output_type": "execute_result"
    }
   ],
   "source": [
    "# package matplotlib alias mpl - attribute - __path__ - access\n",
    "mpl.__path__"
   ]
  },
  {
   "cell_type": "code",
   "execution_count": 4,
   "metadata": {},
   "outputs": [
    {
     "data": {
      "text/plain": [
       "'C:\\\\Users\\\\E6985\\\\anaconda3\\\\lib\\\\site-packages\\\\matplotlib\\\\__init__.py'"
      ]
     },
     "execution_count": 4,
     "metadata": {},
     "output_type": "execute_result"
    }
   ],
   "source": [
    "# package matplotlib alias mpl - attribute __file__ - access\n",
    "mpl.__file__"
   ]
  },
  {
   "cell_type": "code",
   "execution_count": 5,
   "metadata": {},
   "outputs": [
    {
     "data": {
      "text/plain": [
       "'3.2.2'"
      ]
     },
     "execution_count": 5,
     "metadata": {},
     "output_type": "execute_result"
    }
   ],
   "source": [
    "# package matplotlib alias mpl - attribute __version__ - access\n",
    "mpl.__version__"
   ]
  },
  {
   "cell_type": "code",
   "execution_count": 6,
   "metadata": {},
   "outputs": [],
   "source": [
    "# Kernel - Restart\n",
    "exit()"
   ]
  },
  {
   "cell_type": "code",
   "execution_count": 1,
   "metadata": {},
   "outputs": [],
   "source": [
    "# b_T_hird_P_arty-imports\n",
    "from matplotlib import _version as mplv"
   ]
  },
  {
   "cell_type": "code",
   "execution_count": 2,
   "metadata": {},
   "outputs": [
    {
     "data": {
      "text/plain": [
       "'C:\\\\Users\\\\E6985\\\\anaconda3\\\\lib\\\\site-packages\\\\matplotlib\\\\_version.py'"
      ]
     },
     "execution_count": 2,
     "metadata": {},
     "output_type": "execute_result"
    }
   ],
   "source": [
    "# package matplotlib - module _version alias mplv - attribute __file__ - access\n",
    "mplv.__file__"
   ]
  },
  {
   "cell_type": "code",
   "execution_count": 3,
   "metadata": {},
   "outputs": [
    {
     "name": "stdout",
     "output_type": "stream",
     "text": [
      "\r\n",
      "# This file was generated by 'versioneer.py' (0.15) from\r\n",
      "# revision-control system data, or from the parent directory name of an\r\n",
      "# unpacked source archive. Distribution tarballs contain a pre-generated copy\r\n",
      "# of this file.\r\n",
      "\r\n",
      "import json\r\n",
      "import sys\r\n",
      "\r\n",
      "version_json = '''\r\n",
      "{\r\n",
      " \"dirty\": false,\r\n",
      " \"error\": null,\r\n",
      " \"full-revisionid\": \"a1a5298b0d4a8d8230103d0fa8d369fca7fdeea0\",\r\n",
      " \"version\": \"3.2.2\"\r\n",
      "}\r\n",
      "'''  # END VERSION_JSON\r\n",
      "\r\n",
      "\r\n",
      "def get_versions():\r\n",
      "    return json.loads(version_json)\r\n"
     ]
    }
   ],
   "source": [
    "%%script bash\n",
    "cat ~/anaconda3/lib/site-packages/matplotlib/_version.py"
   ]
  },
  {
   "cell_type": "code",
   "execution_count": 4,
   "metadata": {},
   "outputs": [
    {
     "data": {
      "text/plain": [
       "'3.2.2'"
      ]
     },
     "execution_count": 4,
     "metadata": {},
     "output_type": "execute_result"
    }
   ],
   "source": [
    "# package matplotlib - module _version alias mplv - function get_versions - call\n",
    "mplv.get_versions()[\"version\"]"
   ]
  },
  {
   "cell_type": "markdown",
   "metadata": {},
   "source": [
    "***\n",
    "# END"
   ]
  }
 ],
 "metadata": {
  "kernelspec": {
   "display_name": "Python 3",
   "language": "python",
   "name": "python3"
  },
  "language_info": {
   "codemirror_mode": {
    "name": "ipython",
    "version": 3
   },
   "file_extension": ".py",
   "mimetype": "text/x-python",
   "name": "python",
   "nbconvert_exporter": "python",
   "pygments_lexer": "ipython3",
   "version": "3.8.3"
  }
 },
 "nbformat": 4,
 "nbformat_minor": 4
}
