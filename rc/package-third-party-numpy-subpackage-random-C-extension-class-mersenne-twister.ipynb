{
 "cells": [
  {
   "cell_type": "markdown",
   "metadata": {},
   "source": [
    "# package-third-party-numpy-subpackage-random-C-extension-class-mersenne-twister\n",
    "> [TABLE OF CONTENTS](https://nbviewer.jupyter.org/github/SeanOhAileasa/fubar-python/blob/main/fubar-python.ipynb#top)\n",
    "***"
   ]
  },
  {
   "cell_type": "code",
   "execution_count": 1,
   "metadata": {},
   "outputs": [],
   "source": [
    "# b_T_hird_P_arty-imports\n",
    "from numpy.random import MT19937 as Crmr"
   ]
  },
  {
   "cell_type": "code",
   "execution_count": 2,
   "metadata": {},
   "outputs": [
    {
     "name": "stdout",
     "output_type": "stream",
     "text": [
      "\n",
      "    MT19937(seed=None)\n",
      "\n",
      "    Container for the Mersenne Twister pseudo-random number generator.\n",
      "\n",
      "    Parameters\n",
      "    ----------\n",
      "    seed : {None, int, array_like[ints], SeedSequence}, optional\n",
      "        A seed to initialize the `BitGenerator`. If None, then fresh,\n",
      "        unpredictable entropy will be pulled from the OS. If an ``int`` or\n",
      "        ``array_like[ints]`` is passed, then it will be passed to\n",
      "        `SeedSequence` to derive the initial `BitGenerator` state. One may also\n",
      "        pass in a `SeedSequence` instance.\n",
      "\n",
      "    Attributes\n",
      "    ----------\n",
      "    lock: threading.Lock\n",
      "        Lock instance that is shared so that the same bit git generator can\n",
      "        be used in multiple Generators without corrupting the state. Code that\n",
      "        generates values from a bit generator should hold the bit generator's\n",
      "        lock.\n",
      "\n",
      "    Notes\n",
      "    -----\n",
      "    ``MT19937`` provides a capsule containing function pointers that produce\n",
      "    doubles, and unsigned 32 and 64- bit integers [1]_. These are not\n",
      "    directly consumable in Python and must be consumed by a ``Generator``\n",
      "    or similar object that supports low-level access.\n",
      "\n",
      "    The Python stdlib module \"random\" also contains a Mersenne Twister\n",
      "    pseudo-random number generator.\n",
      "\n",
      "    **State and Seeding**\n",
      "\n",
      "    The ``MT19937`` state vector consists of a 624-element array of\n",
      "    32-bit unsigned integers plus a single integer value between 0 and 624\n",
      "    that indexes the current position within the main array.\n",
      "\n",
      "    The input seed is processed by `SeedSequence` to fill the whole state. The\n",
      "    first element is reset such that only its most significant bit is set.\n",
      "\n",
      "    **Parallel Features**\n",
      "\n",
      "    The preferred way to use a BitGenerator in parallel applications is to use\n",
      "    the `SeedSequence.spawn` method to obtain entropy values, and to use these\n",
      "    to generate new BitGenerators:\n",
      "\n",
      "    >>> from numpy.random import Generator, MT19937, SeedSequence\n",
      "    >>> sg = SeedSequence(1234)\n",
      "    >>> rg = [Generator(MT19937(s)) for s in sg.spawn(10)]\n",
      "\n",
      "    Another method is to use `MT19937.jumped` which advances the state as-if\n",
      "    :math:`2^{128}` random numbers have been generated ([1]_, [2]_). This\n",
      "    allows the original sequence to be split so that distinct segments can be\n",
      "    used in each worker process. All generators should be chained to ensure\n",
      "    that the segments come from the same sequence.\n",
      "\n",
      "    >>> from numpy.random import Generator, MT19937, SeedSequence\n",
      "    >>> sg = SeedSequence(1234)\n",
      "    >>> bit_generator = MT19937(sg)\n",
      "    >>> rg = []\n",
      "    >>> for _ in range(10):\n",
      "    ...    rg.append(Generator(bit_generator))\n",
      "    ...    # Chain the BitGenerators\n",
      "    ...    bit_generator = bit_generator.jumped()\n",
      "\n",
      "    **Compatibility Guarantee**\n",
      "\n",
      "    ``MT19937`` makes a guarantee that a fixed seed and will always produce\n",
      "    the same random integer stream.\n",
      "\n",
      "    References\n",
      "    ----------\n",
      "    .. [1] Hiroshi Haramoto, Makoto Matsumoto, and Pierre L'Ecuyer, \"A Fast\n",
      "        Jump Ahead Algorithm for Linear Recurrences in a Polynomial Space\",\n",
      "        Sequences and Their Applications - SETA, 290--298, 2008.\n",
      "    .. [2] Hiroshi Haramoto, Makoto Matsumoto, Takuji Nishimura, François\n",
      "        Panneton, Pierre L'Ecuyer, \"Efficient Jump Ahead for F2-Linear\n",
      "        Random Number Generators\", INFORMS JOURNAL ON COMPUTING, Vol. 20,\n",
      "        No. 3, Summer 2008, pp. 385-390.\n",
      "\n",
      "    \n"
     ]
    }
   ],
   "source": [
    "# package numpy - subpackage random - object MT19937 alias Crmr - attribute __doc__ - access\n",
    "print(Crmr.__doc__)"
   ]
  },
  {
   "cell_type": "markdown",
   "metadata": {},
   "source": [
    "***\n",
    "# END"
   ]
  }
 ],
 "metadata": {
  "kernelspec": {
   "display_name": "Python 3",
   "language": "python",
   "name": "python3"
  },
  "language_info": {
   "codemirror_mode": {
    "name": "ipython",
    "version": 3
   },
   "file_extension": ".py",
   "mimetype": "text/x-python",
   "name": "python",
   "nbconvert_exporter": "python",
   "pygments_lexer": "ipython3",
   "version": "3.8.3"
  }
 },
 "nbformat": 4,
 "nbformat_minor": 4
}
