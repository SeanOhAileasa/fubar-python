{
 "cells": [
  {
   "cell_type": "markdown",
   "metadata": {},
   "source": [
    "# function-built-in-dir\n",
    "> [TABLE OF CONTENTS](https://nbviewer.jupyter.org/github/SeanOhAileasa/fubar-python/blob/main/fubar-python.ipynb#top)\n",
    "***"
   ]
  },
  {
   "cell_type": "markdown",
   "metadata": {},
   "source": [
    "```python\n",
    "dir([object])\n",
    "```\n",
    "> [Python Documentation](https://web.archive.org/web/20200503112950/https://docs.python.org/3/library/functions.html#dir) [0]"
   ]
  },
  {
   "cell_type": "markdown",
   "metadata": {},
   "source": [
    "- without arguments - return the list of names in the current local scope [0] - list of defined names in a namespace - produces an alphabetically sorted list of names in the current local symbol table - names that are automatically defined and already in the namespace when the interpreter starts [8]"
   ]
  },
  {
   "cell_type": "code",
   "execution_count": 1,
   "metadata": {},
   "outputs": [
    {
     "name": "stdout",
     "output_type": "stream",
     "text": [
      "\"\"\"\t<sdir> Return list of names in a namespace.\n",
      "\"\"\"\n",
      "\n",
      "# c_L_ocal_A_pplication-imports\n",
      "import ma as cLAma\n",
      "\n",
      "# f_function definitions\n",
      "def main(nParListNames):\n",
      "\t\"\"\"\t<sdir.main>\n",
      "\"\"\"\n",
      "\tprint(main.__doc__,end=\"\")\n",
      "\tprint(\"<scope> : {}\".format(__name__))\n",
      "\tprint(\"<namespace> : \",nParListNames)\n",
      "\n",
      "# special attribute - __name__\n",
      "if __name__==\"__main__\": # evaluate current module\n",
      "\t# function main - call\n",
      "\tmain(dir(cLAma))\n"
     ]
    }
   ],
   "source": [
    "# display script\n",
    "!cat ~/L8733/src/pro/par/pyt/py/sdir.py"
   ]
  },
  {
   "cell_type": "code",
   "execution_count": 2,
   "metadata": {},
   "outputs": [
    {
     "name": "stdout",
     "output_type": "stream",
     "text": [
      "<__name__> : ma\n",
      "\t<ma> Plain text file designed to be imported/used from another .py file.\n",
      "\t<ma.fImport>\n",
      "\t<ma.fName>\n",
      "<scope> : ma\n",
      "\t<sdir.main>\n",
      "<scope> : __main__\n",
      "<namespace> :  ['__builtins__', '__cached__', '__doc__', '__file__', '__loader__', '__name__', '__package__', '__spec__', 'fImport', 'fName', 'main']\n"
     ]
    }
   ],
   "source": [
    "# execute from file - .py\n",
    "%run ~/L8733/src/pro/par/pyt/py/sdir.py"
   ]
  },
  {
   "cell_type": "code",
   "execution_count": 3,
   "metadata": {},
   "outputs": [],
   "source": [
    "# restart\n",
    "exit()"
   ]
  },
  {
   "cell_type": "markdown",
   "metadata": {},
   "source": [
    "- as new names are defined - will appear on subsequent invocations of - function - dir [8]"
   ]
  },
  {
   "cell_type": "code",
   "execution_count": 1,
   "metadata": {},
   "outputs": [
    {
     "name": "stdout",
     "output_type": "stream",
     "text": [
      "\"\"\"\t<sdir> Return list of names in a namespace.\n",
      "\"\"\"\n",
      "\n",
      "# c_L_ocal_A_pplication-imports\n",
      "import ma as cLAma\n",
      "\n",
      "# f_function definitions\n",
      "def main(nParListNames):\n",
      "\t\"\"\"\t<sdir.main>\n",
      "\"\"\"\n",
      "\tprint(main.__doc__,end=\"\")\n",
      "\tprint(\"<scope> : {}\".format(__name__))\n",
      "\tprint(\"<namespace> : \",nParListNames)\n",
      "\n",
      "# special attribute - __name__\n",
      "if __name__==\"__main__\": # evaluate current module\n",
      "\t# function main - call\n",
      "\tmain(dir(cLAma))\n"
     ]
    }
   ],
   "source": [
    "# display script\n",
    "!cat ~/L8733/src/pro/par/pyt/py/sdir.py"
   ]
  },
  {
   "cell_type": "code",
   "execution_count": 2,
   "metadata": {},
   "outputs": [
    {
     "name": "stdout",
     "output_type": "stream",
     "text": [
      "<__name__> : ma\n",
      "\t<ma> Plain text file designed to be imported/used from another .py file.\n",
      "\t<ma.fImport>\n",
      "\t<ma.fName>\n",
      "<scope> : ma\n",
      "\t<sdir.main>\n",
      "<scope> : __main__\n",
      "<namespace> :  ['__builtins__', '__cached__', '__doc__', '__file__', '__loader__', '__name__', '__package__', '__spec__', 'fImport', 'fName', 'main']\n"
     ]
    }
   ],
   "source": [
    "# execute from file - .py\n",
    "%run ~/L8733/src/pro/par/pyt/py/sdir.py"
   ]
  },
  {
   "cell_type": "code",
   "execution_count": 3,
   "metadata": {},
   "outputs": [],
   "source": [
    "# restart\n",
    "exit()"
   ]
  },
  {
   "cell_type": "markdown",
   "metadata": {},
   "source": [
    "- with an argument - attempt to return a list of valid attributes for that object [0] - can be useful for identifying what exactly has been added to the namespace by an import statement [8]"
   ]
  },
  {
   "cell_type": "code",
   "execution_count": 1,
   "metadata": {},
   "outputs": [
    {
     "name": "stdout",
     "output_type": "stream",
     "text": [
      "\"\"\"\t<sdir> Return list of names in a namespace.\n",
      "\"\"\"\n",
      "\n",
      "# c_L_ocal_A_pplication-imports\n",
      "import ma as cLAma\n",
      "\n",
      "# f_function definitions\n",
      "def main(nParListNames):\n",
      "\t\"\"\"\t<sdir.main>\n",
      "\"\"\"\n",
      "\tprint(main.__doc__,end=\"\")\n",
      "\tprint(\"<scope> : {}\".format(__name__))\n",
      "\tprint(\"<namespace> : \",nParListNames)\n",
      "\n",
      "# special attribute - __name__\n",
      "if __name__==\"__main__\": # evaluate current module\n",
      "\t# function main - call\n",
      "\tmain(dir(cLAma))\n"
     ]
    }
   ],
   "source": [
    "# display script\n",
    "!cat ~/L8733/src/pro/par/pyt/py/sdir.py"
   ]
  },
  {
   "cell_type": "code",
   "execution_count": 2,
   "metadata": {},
   "outputs": [
    {
     "name": "stdout",
     "output_type": "stream",
     "text": [
      "\"\"\"\t<ma> Plain text file designed to be imported/used from another .py file.\n",
      "\"\"\"\n",
      "\n",
      "# f_function definitions\n",
      "def fImport():\n",
      "\t\"\"\"\t<ma.fImport>\n",
      "\"\"\"\n",
      "\tprint(fImport.__doc__,end=\"\")\n",
      "\t# function fName - call\n",
      "\treturn fName()\n",
      "\n",
      "def fName():\n",
      "\t\"\"\"\t<ma.fName>\n",
      "\"\"\"\n",
      "\tprint(fName.__doc__,end=\"\")\n",
      "\treturn __name__\n",
      "\n",
      "def main():\n",
      "\t\"\"\"\t<ma.main>\n",
      "\"\"\"\n",
      "\tprint(main.__doc__,end=\"\")\n",
      "\t# function fName - call\n",
      "\tprint(\"<scope> : {}\".format(fName()))\n",
      "\n",
      "# special attribute - __name__\n",
      "if __name__==\"__main__\": # evaluate current module\n",
      "\tprint(\"<__name__> : {}\".format(__name__))\n",
      "\tprint(__doc__,end=\"\")\n",
      "\t# function main - call\n",
      "\tmain()\n",
      "else:\n",
      "\tprint(\"<__name__> : {}\".format(__name__))\n",
      "\tprint(__doc__,end=\"\")\n",
      "\t# function fImport - call\n",
      "\tprint(\"<scope> : {}\".format(fImport()))\n"
     ]
    }
   ],
   "source": [
    "# display module\n",
    "!cat ~/L8733/src/pro/par/pyt/py/ma.py"
   ]
  },
  {
   "cell_type": "code",
   "execution_count": 3,
   "metadata": {},
   "outputs": [
    {
     "name": "stdout",
     "output_type": "stream",
     "text": [
      "<__name__> : ma\n",
      "\t<ma> Plain text file designed to be imported/used from another .py file.\n",
      "\t<ma.fImport>\n",
      "\t<ma.fName>\n",
      "<scope> : ma\n",
      "\t<sdir.main>\n",
      "<scope> : __main__\n",
      "<namespace> :  ['__builtins__', '__cached__', '__doc__', '__file__', '__loader__', '__name__', '__package__', '__spec__', 'fImport', 'fName', 'main']\n"
     ]
    }
   ],
   "source": [
    "# execute from file - .py\n",
    "%run ~/L8733/src/pro/par/pyt/py/sdir.py"
   ]
  },
  {
   "cell_type": "code",
   "execution_count": 4,
   "metadata": {},
   "outputs": [],
   "source": [
    "# restart\n",
    "exit()"
   ]
  },
  {
   "cell_type": "code",
   "execution_count": 1,
   "metadata": {},
   "outputs": [],
   "source": [
    "# a_S_tandard_L_ibrary-imports\n",
    "from sys import path as aSLsyspath"
   ]
  },
  {
   "cell_type": "code",
   "execution_count": 2,
   "metadata": {
    "scrolled": false
   },
   "outputs": [
    {
     "data": {
      "text/plain": [
       "['__add__',\n",
       " '__class__',\n",
       " '__contains__',\n",
       " '__delattr__',\n",
       " '__delitem__',\n",
       " '__dir__',\n",
       " '__doc__',\n",
       " '__eq__',\n",
       " '__format__',\n",
       " '__ge__',\n",
       " '__getattribute__',\n",
       " '__getitem__',\n",
       " '__gt__',\n",
       " '__hash__',\n",
       " '__iadd__',\n",
       " '__imul__',\n",
       " '__init__',\n",
       " '__init_subclass__',\n",
       " '__iter__',\n",
       " '__le__',\n",
       " '__len__',\n",
       " '__lt__',\n",
       " '__mul__',\n",
       " '__ne__',\n",
       " '__new__',\n",
       " '__reduce__',\n",
       " '__reduce_ex__',\n",
       " '__repr__',\n",
       " '__reversed__',\n",
       " '__rmul__',\n",
       " '__setattr__',\n",
       " '__setitem__',\n",
       " '__sizeof__',\n",
       " '__str__',\n",
       " '__subclasshook__',\n",
       " 'append',\n",
       " 'clear',\n",
       " 'copy',\n",
       " 'count',\n",
       " 'extend',\n",
       " 'index',\n",
       " 'insert',\n",
       " 'pop',\n",
       " 'remove',\n",
       " 'reverse',\n",
       " 'sort']"
      ]
     },
     "execution_count": 2,
     "metadata": {},
     "output_type": "execute_result"
    }
   ],
   "source": [
    "# module sys - name path - call alias\n",
    "dir(aSLsyspath)"
   ]
  },
  {
   "cell_type": "code",
   "execution_count": 3,
   "metadata": {},
   "outputs": [
    {
     "name": "stdout",
     "output_type": "stream",
     "text": [
      "Built-in mutable sequence.\n",
      "\n",
      "If no argument is given, the constructor creates a new empty list.\n",
      "The argument must be an iterable if specified.\n"
     ]
    }
   ],
   "source": [
    "# module sys - name path - call alias\n",
    "print(aSLsyspath.__doc__)"
   ]
  },
  {
   "cell_type": "markdown",
   "metadata": {},
   "source": [
    "***\n",
    "# END"
   ]
  }
 ],
 "metadata": {
  "kernelspec": {
   "display_name": "Python 3",
   "language": "python",
   "name": "python3"
  },
  "language_info": {
   "codemirror_mode": {
    "name": "ipython",
    "version": 3
   },
   "file_extension": ".py",
   "mimetype": "text/x-python",
   "name": "python",
   "nbconvert_exporter": "python",
   "pygments_lexer": "ipython3",
   "version": "3.8.3"
  }
 },
 "nbformat": 4,
 "nbformat_minor": 4
}
