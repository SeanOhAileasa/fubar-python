{
 "cells": [
  {
   "cell_type": "markdown",
   "metadata": {},
   "source": [
    "# control-flow-loop-while\n",
    "> [TABLE OF CONTENTS](https://nbviewer.jupyter.org/github/SeanOhAileasa/fubar-python/blob/main/fubar-python.ipynb#top)\n",
    "***"
   ]
  },
  {
   "cell_type": "markdown",
   "metadata": {},
   "source": [
    "- iterates until some condition is met - the argument of the while loop is evaluated as a boolean statement - loop is executed until the statement evaluates to False [1.39]"
   ]
  },
  {
   "cell_type": "markdown",
   "metadata": {},
   "source": [
    "```python\n",
    "print(*objects, sep=' ', end='\\n', file=sys.stdout, flush=False)\n",
    "```\n",
    "> [Python Documentation](https://web.archive.org/web/20200514154635/https://docs.python.org/3/library/functions.html#print)"
   ]
  },
  {
   "cell_type": "code",
   "execution_count": 1,
   "metadata": {
    "scrolled": true
   },
   "outputs": [
    {
     "name": "stdout",
     "output_type": "stream",
     "text": [
      "0 1 2 3 4 5 6 7 8 9 10 11 12 "
     ]
    }
   ],
   "source": [
    "n=0\n",
    "while n<13:\n",
    "    print(n,end=\" \")\n",
    "    n+=1"
   ]
  },
  {
   "cell_type": "markdown",
   "metadata": {},
   "source": [
    "- break statement breaks out of the loop entirely - continue statement skips the remainder of the current loop and goes to the next iteration [1.40]"
   ]
  },
  {
   "cell_type": "markdown",
   "metadata": {},
   "source": [
    "```python\n",
    "class list([iterable])\n",
    "```\n",
    "> [Python Documentation](https://web.archive.org/web/20200502135931/https://docs.python.org/3/library/stdtypes.html#list)"
   ]
  },
  {
   "cell_type": "markdown",
   "metadata": {},
   "source": [
    "```python\n",
    " list.append(x)\n",
    "```\n",
    "> [Python Documentation](https://web.archive.org/web/20200501091324/https://docs.python.org/3/tutorial/datastructures.html)"
   ]
  },
  {
   "cell_type": "code",
   "execution_count": 2,
   "metadata": {},
   "outputs": [],
   "source": [
    "nA,nB=0,1\n",
    "nMax=100\n",
    "nListFibonacci=[0]\n",
    "while True:\n",
    "    # nA,nB=nB,nA+nB\n",
    "    (nA,nB)=(nB,nA+nB)\n",
    "    if nA>nMax:\n",
    "        break\n",
    "    nListFibonacci.append(nA)"
   ]
  },
  {
   "cell_type": "code",
   "execution_count": 3,
   "metadata": {},
   "outputs": [
    {
     "data": {
      "text/plain": [
       "[0, 1, 1, 2, 3, 5, 8, 13, 21, 34, 55, 89]"
      ]
     },
     "execution_count": 3,
     "metadata": {},
     "output_type": "execute_result"
    }
   ],
   "source": [
    "nListFibonacci"
   ]
  },
  {
   "cell_type": "markdown",
   "metadata": {},
   "source": [
    "- while True - will loop forever unless a break statement is included - rarely used pattern available in python is the else statement - think of it as a nobreak statement [1.40] - else block is executed only if the loop ends naturally without encountering a break statement [1.41]"
   ]
  },
  {
   "cell_type": "markdown",
   "metadata": {},
   "source": [
    "***\n",
    "# END"
   ]
  }
 ],
 "metadata": {
  "kernelspec": {
   "display_name": "Python 3",
   "language": "python",
   "name": "python3"
  },
  "language_info": {
   "codemirror_mode": {
    "name": "ipython",
    "version": 3
   },
   "file_extension": ".py",
   "mimetype": "text/x-python",
   "name": "python",
   "nbconvert_exporter": "python",
   "pygments_lexer": "ipython3",
   "version": "3.7.6"
  }
 },
 "nbformat": 4,
 "nbformat_minor": 4
}
