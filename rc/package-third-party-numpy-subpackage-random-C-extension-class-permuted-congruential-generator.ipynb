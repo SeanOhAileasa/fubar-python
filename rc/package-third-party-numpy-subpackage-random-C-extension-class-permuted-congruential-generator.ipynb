{
 "cells": [
  {
   "cell_type": "markdown",
   "metadata": {},
   "source": [
    "# package-third-party-numpy-subpackage-random-C-extension-class-permuted-congruential-generator\n",
    "> [TABLE OF CONTENTS](https://nbviewer.jupyter.org/github/SeanOhAileasa/fubar-python/blob/main/fubar-python.ipynb#top)\n",
    "***"
   ]
  },
  {
   "cell_type": "code",
   "execution_count": 1,
   "metadata": {},
   "outputs": [],
   "source": [
    "# b_T_hird_P_arty-imports\n",
    "from numpy.random import PCG64 as Crp4"
   ]
  },
  {
   "cell_type": "code",
   "execution_count": 2,
   "metadata": {},
   "outputs": [
    {
     "name": "stdout",
     "output_type": "stream",
     "text": [
      "\n",
      "    PCG64(seed_seq=None)\n",
      "\n",
      "    BitGenerator for the PCG-64 pseudo-random number generator.\n",
      "\n",
      "    Parameters\n",
      "    ----------\n",
      "    seed : {None, int, array_like[ints], SeedSequence}, optional\n",
      "        A seed to initialize the `BitGenerator`. If None, then fresh,\n",
      "        unpredictable entropy will be pulled from the OS. If an ``int`` or\n",
      "        ``array_like[ints]`` is passed, then it will be passed to\n",
      "        `SeedSequence` to derive the initial `BitGenerator` state. One may also\n",
      "        pass in a `SeedSequence` instance.\n",
      "\n",
      "    Notes\n",
      "    -----\n",
      "    PCG-64 is a 128-bit implementation of O'Neill's permutation congruential\n",
      "    generator ([1]_, [2]_). PCG-64 has a period of :math:`2^{128}` and supports\n",
      "    advancing an arbitrary number of steps as well as :math:`2^{127}` streams.\n",
      "    The specific member of the PCG family that we use is PCG XSL RR 128/64\n",
      "    as described in the paper ([2]_).\n",
      "\n",
      "    ``PCG64`` provides a capsule containing function pointers that produce\n",
      "    doubles, and unsigned 32 and 64- bit integers. These are not\n",
      "    directly consumable in Python and must be consumed by a ``Generator``\n",
      "    or similar object that supports low-level access.\n",
      "\n",
      "    Supports the method :meth:`advance` to advance the RNG an arbitrary number of\n",
      "    steps. The state of the PCG-64 RNG is represented by 2 128-bit unsigned\n",
      "    integers.\n",
      "\n",
      "    **State and Seeding**\n",
      "\n",
      "    The ``PCG64`` state vector consists of 2 unsigned 128-bit values,\n",
      "    which are represented externally as Python ints. One is the state of the\n",
      "    PRNG, which is advanced by a linear congruential generator (LCG). The\n",
      "    second is a fixed odd increment used in the LCG.\n",
      "\n",
      "    The input seed is processed by `SeedSequence` to generate both values. The\n",
      "    increment is not independently settable.\n",
      "\n",
      "    **Parallel Features**\n",
      "\n",
      "    The preferred way to use a BitGenerator in parallel applications is to use\n",
      "    the `SeedSequence.spawn` method to obtain entropy values, and to use these\n",
      "    to generate new BitGenerators:\n",
      "\n",
      "    >>> from numpy.random import Generator, PCG64, SeedSequence\n",
      "    >>> sg = SeedSequence(1234)\n",
      "    >>> rg = [Generator(PCG64(s)) for s in sg.spawn(10)]\n",
      "\n",
      "    **Compatibility Guarantee**\n",
      "\n",
      "    ``PCG64`` makes a guarantee that a fixed seed and will always produce\n",
      "    the same random integer stream.\n",
      "\n",
      "    References\n",
      "    ----------\n",
      "    .. [1] `\"PCG, A Family of Better Random Number Generators\"\n",
      "           <http://www.pcg-random.org/>`_\n",
      "    .. [2] O'Neill, Melissa E. `\"PCG: A Family of Simple Fast Space-Efficient\n",
      "           Statistically Good Algorithms for Random Number Generation\"\n",
      "           <https://www.cs.hmc.edu/tr/hmc-cs-2014-0905.pdf>`_\n",
      "    \n"
     ]
    }
   ],
   "source": [
    "# package numpy - subpackage random - object PCG64 alias Crp4 - attribute __doc__ - access\n",
    "print(Crp4.__doc__)"
   ]
  },
  {
   "cell_type": "markdown",
   "metadata": {},
   "source": [
    "***\n",
    "# END"
   ]
  }
 ],
 "metadata": {
  "kernelspec": {
   "display_name": "Python 3",
   "language": "python",
   "name": "python3"
  },
  "language_info": {
   "codemirror_mode": {
    "name": "ipython",
    "version": 3
   },
   "file_extension": ".py",
   "mimetype": "text/x-python",
   "name": "python",
   "nbconvert_exporter": "python",
   "pygments_lexer": "ipython3",
   "version": "3.8.3"
  }
 },
 "nbformat": 4,
 "nbformat_minor": 4
}
