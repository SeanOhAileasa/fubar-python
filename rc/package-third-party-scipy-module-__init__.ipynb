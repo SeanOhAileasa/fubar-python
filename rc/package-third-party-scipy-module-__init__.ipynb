{
 "cells": [
  {
   "cell_type": "markdown",
   "metadata": {},
   "source": [
    "# package-third-party-scipy-module-\\_\\_init\\_\\_\n",
    "> [TABLE OF CONTENTS](https://nbviewer.jupyter.org/github/SeanOhAileasa/fubar-python/blob/main/fubar-python.ipynb#top)\n",
    "***"
   ]
  },
  {
   "cell_type": "code",
   "execution_count": 1,
   "metadata": {},
   "outputs": [],
   "source": [
    "# b_T_hird_P_arty-imports\n",
    "import scipy as s"
   ]
  },
  {
   "cell_type": "code",
   "execution_count": 2,
   "metadata": {},
   "outputs": [
    {
     "data": {
      "text/plain": [
       "'C:\\\\Users\\\\E6985\\\\anaconda3\\\\lib\\\\site-packages\\\\scipy\\\\__init__.py'"
      ]
     },
     "execution_count": 2,
     "metadata": {},
     "output_type": "execute_result"
    }
   ],
   "source": [
    "# package scipy alias s - attribute __file__ - access\n",
    "s.__file__"
   ]
  },
  {
   "cell_type": "code",
   "execution_count": 3,
   "metadata": {
    "scrolled": false
   },
   "outputs": [
    {
     "name": "stdout",
     "output_type": "stream",
     "text": [
      "\"\"\"\n",
      "SciPy: A scientific computing package for Python\n",
      "================================================\n",
      "\n",
      "Documentation is available in the docstrings and\n",
      "online at https://docs.scipy.org.\n",
      "\n",
      "Contents\n",
      "--------\n",
      "SciPy imports all the functions from the NumPy namespace, and in\n",
      "addition provides:\n",
      "\n",
      "Subpackages\n",
      "-----------\n",
      "Using any of these subpackages requires an explicit import. For example,\n",
      "``import scipy.cluster``.\n",
      "\n",
      "::\n",
      "\n",
      " cluster                      --- Vector Quantization / Kmeans\n",
      " fft                          --- Discrete Fourier transforms\n",
      " fftpack                      --- Legacy discrete Fourier transforms\n",
      " integrate                    --- Integration routines\n",
      " interpolate                  --- Interpolation Tools\n",
      " io                           --- Data input and output\n",
      " linalg                       --- Linear algebra routines\n",
      " linalg.blas                  --- Wrappers to BLAS library\n",
      " linalg.lapack                --- Wrappers to LAPACK library\n",
      " misc                         --- Various utilities that don't have\n",
      "                                  another home.\n",
      " ndimage                      --- N-D image package\n",
      " odr                          --- Orthogonal Distance Regression\n",
      " optimize                     --- Optimization Tools\n",
      " signal                       --- Signal Processing Tools\n",
      " signal.windows               --- Window functions\n",
      " sparse                       --- Sparse Matrices\n",
      " sparse.linalg                --- Sparse Linear Algebra\n",
      " sparse.linalg.dsolve         --- Linear Solvers\n",
      " sparse.linalg.dsolve.umfpack --- :Interface to the UMFPACK library:\n",
      "                                  Conjugate Gradient Method (LOBPCG)\n",
      " sparse.linalg.eigen          --- Sparse Eigenvalue Solvers\n",
      " sparse.linalg.eigen.lobpcg   --- Locally Optimal Block Preconditioned\n",
      "                                  Conjugate Gradient Method (LOBPCG)\n",
      " spatial                      --- Spatial data structures and algorithms\n",
      " special                      --- Special functions\n",
      " stats                        --- Statistical Functions\n",
      "\n",
      "Utility tools\n",
      "-------------\n",
      "::\n",
      "\n",
      " test              --- Run scipy unittests\n",
      " show_config       --- Show scipy build configuration\n",
      " show_numpy_config --- Show numpy build configuration\n",
      " __version__       --- SciPy version string\n",
      " __numpy_version__ --- Numpy version string\n",
      "\n",
      "\"\"\"\n",
      "__all__ = ['test']\n",
      "\n",
      "from numpy import show_config as show_numpy_config\n",
      "if show_numpy_config is None:\n",
      "    raise ImportError(\n",
      "        \"Cannot import SciPy when running from NumPy source directory.\")\n",
      "from numpy import __version__ as __numpy_version__\n",
      "\n",
      "# Import numpy symbols to scipy name space (DEPRECATED)\n",
      "from ._lib.deprecation import _deprecated\n",
      "import numpy as _num\n",
      "linalg = None\n",
      "_msg = ('scipy.{0} is deprecated and will be removed in SciPy 2.0.0, '\n",
      "        'use numpy.{0} instead')\n",
      "# deprecate callable objects, skipping classes\n",
      "for _key in _num.__all__:\n",
      "    _fun = getattr(_num, _key)\n",
      "    if callable(_fun) and not isinstance(_fun, type):\n",
      "        _fun = _deprecated(_msg.format(_key))(_fun)\n",
      "    globals()[_key] = _fun\n",
      "from numpy.random import rand, randn\n",
      "_msg = ('scipy.{0} is deprecated and will be removed in SciPy 2.0.0, '\n",
      "        'use numpy.random.{0} instead')\n",
      "rand = _deprecated(_msg.format('rand'))(rand)\n",
      "randn = _deprecated(_msg.format('randn'))(randn)\n",
      "from numpy.fft import fft, ifft\n",
      "# fft is especially problematic, so we deprecate it with a shorter window\n",
      "fft_msg = ('Using scipy.fft as a function is deprecated and will be '\n",
      "           'removed in SciPy 1.5.0, use scipy.fft.fft instead.')\n",
      "# for wrapping in scipy.fft.__call__, so the stacklevel is one off from the\n",
      "# usual (2)\n",
      "_dep_fft = _deprecated(fft_msg, stacklevel=3)(fft)\n",
      "fft = _deprecated(fft_msg)(fft)\n",
      "ifft = _deprecated('scipy.ifft is deprecated and will be removed in SciPy '\n",
      "                   '2.0.0, use scipy.fft.ifft instead')(ifft)\n",
      "import numpy.lib.scimath as _sci\n",
      "_msg = ('scipy.{0} is deprecated and will be removed in SciPy 2.0.0, '\n",
      "        'use numpy.lib.scimath.{0} instead')\n",
      "for _key in _sci.__all__:\n",
      "    _fun = getattr(_sci, _key)\n",
      "    if callable(_fun):\n",
      "        _fun = _deprecated(_msg.format(_key))(_fun)\n",
      "    globals()[_key] = _fun\n",
      "\n",
      "# Allow distributors to run custom init code\n",
      "from . import _distributor_init\n",
      "\n",
      "__all__ += _num.__all__\n",
      "__all__ += ['randn', 'rand', 'fft', 'ifft']\n",
      "\n",
      "del _num\n",
      "# Remove the linalg imported from NumPy so that the scipy.linalg package can be\n",
      "# imported.\n",
      "del linalg\n",
      "__all__.remove('linalg')\n",
      "\n",
      "# We first need to detect if we're being called as part of the SciPy\n",
      "# setup procedure itself in a reliable manner.\n",
      "try:\n",
      "    __SCIPY_SETUP__\n",
      "except NameError:\n",
      "    __SCIPY_SETUP__ = False\n",
      "\n",
      "\n",
      "if __SCIPY_SETUP__:\n",
      "    import sys as _sys\n",
      "    _sys.stderr.write('Running from SciPy source directory.\\n')\n",
      "    del _sys\n",
      "else:\n",
      "    try:\n",
      "        from scipy.__config__ import show as show_config\n",
      "    except ImportError:\n",
      "        msg = \"\"\"Error importing SciPy: you cannot import SciPy while\n",
      "        being in scipy source directory; please exit the SciPy source\n",
      "        tree first and relaunch your Python interpreter.\"\"\"\n",
      "        raise ImportError(msg)\n",
      "\n",
      "    from scipy.version import version as __version__\n",
      "    from scipy._lib import _pep440\n",
      "    if _pep440.parse(__numpy_version__) < _pep440.Version('1.14.5'):\n",
      "        import warnings\n",
      "        warnings.warn(\"NumPy 1.14.5 or above is required for this version of \"\n",
      "                      \"SciPy (detected version %s)\" % __numpy_version__,\n",
      "                      UserWarning)\n",
      "\n",
      "    del _pep440\n",
      "\n",
      "    from scipy._lib._ccallback import LowLevelCallable\n",
      "\n",
      "    from scipy._lib._testutils import PytestTester\n",
      "    test = PytestTester(__name__)\n",
      "    del PytestTester\n",
      "\n",
      "    # This makes \"from scipy import fft\" return scipy.fft, not np.fft\n",
      "    del fft\n",
      "    from . import fft\n"
     ]
    }
   ],
   "source": [
    "%%script bash\n",
    "cat ~/anaconda3/lib/site-packages/scipy/__init__.py"
   ]
  },
  {
   "cell_type": "markdown",
   "metadata": {},
   "source": [
    "***\n",
    "# END"
   ]
  }
 ],
 "metadata": {
  "kernelspec": {
   "display_name": "Python 3",
   "language": "python",
   "name": "python3"
  },
  "language_info": {
   "codemirror_mode": {
    "name": "ipython",
    "version": 3
   },
   "file_extension": ".py",
   "mimetype": "text/x-python",
   "name": "python",
   "nbconvert_exporter": "python",
   "pygments_lexer": "ipython3",
   "version": "3.8.3"
  }
 },
 "nbformat": 4,
 "nbformat_minor": 4
}
