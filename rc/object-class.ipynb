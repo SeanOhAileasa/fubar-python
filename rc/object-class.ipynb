{
 "cells": [
  {
   "cell_type": "markdown",
   "metadata": {},
   "source": [
    "# object-class\n",
    "> [TABLE OF CONTENTS](https://nbviewer.jupyter.org/github/SeanOhAileasa/fubar-python/blob/main/fubar-python.ipynb#top)\n",
    "***"
   ]
  },
  {
   "cell_type": "markdown",
   "metadata": {},
   "source": [
    "- blueprint [3.3] - may help to think of a class as an idea for how something should be defined [3.2] - is like a form or questionnaire - it defines the needed information [3.3] - defining a class [3.4]"
   ]
  },
  {
   "cell_type": "code",
   "execution_count": 1,
   "metadata": {},
   "outputs": [],
   "source": [
    "# define class - PCDog\n",
    "class PCDog:\n",
    "    pass"
   ]
  },
  {
   "cell_type": "markdown",
   "metadata": {},
   "source": [
    "- start with the keyword - class - to indicate the creation of a class - then add the name of the class - using camel case notation starting with a capital letter - python2 - uses a slightly different class definition \n",
    "```python\n",
    "(object)\n",
    "```\n",
    "- parentheses specifies the - parent class - that an analyst is inheriting from - python3 - no longer necessary because it is the implicit default - all classes create objects - the class is just for defining the - PCDog - not actually creating instances of individual dogs with specific names and ages [3.4]"
   ]
  },
  {
   "cell_type": "code",
   "execution_count": 2,
   "metadata": {},
   "outputs": [],
   "source": [
    "# define class - PCDog\n",
    "class PCDog(object):\n",
    "    pass"
   ]
  },
  {
   "cell_type": "markdown",
   "metadata": {},
   "source": [
    "- data - each thing or object - is an instance of some - class - primitive data structures in python - numbers - strings - lists - are designed to represent simple things like the - cost of something - name of a poem - favourite colours - if an analyst wanted to represent something more complicated - say the analyst wishes to track a number of different animals using the primitive data structures - list - the first element could be the animals name - the second element could represent its age - how would another analyst know which element is supposed to be which - what if another analyst had one-hundred different animals then can that analyst be certain each animal has both a name and an age - what if an analyst wanted to add other properties to these animals - this lacks organisation - it is the exact need for classes - class - used to create new user-defined data structure that contain arbitrary information about something - in the case of an animal - an analyst could create a class - Animal - to track properties about the animal like the name and age - important to note that a class just provides structure - it is a blueprint for how something should be defined but it does not actually provide any real content itself - the class - Animal - may specify that the name and age are necessary for defining an animal but it will not actually state what a specific animals name or age is [3.2]"
   ]
  },
  {
   "cell_type": "markdown",
   "metadata": {},
   "source": [
    "***\n",
    "# END"
   ]
  }
 ],
 "metadata": {
  "kernelspec": {
   "display_name": "Python 3",
   "language": "python",
   "name": "python3"
  },
  "language_info": {
   "codemirror_mode": {
    "name": "ipython",
    "version": 3
   },
   "file_extension": ".py",
   "mimetype": "text/x-python",
   "name": "python",
   "nbconvert_exporter": "python",
   "pygments_lexer": "ipython3",
   "version": "3.7.6"
  }
 },
 "nbformat": 4,
 "nbformat_minor": 4
}
