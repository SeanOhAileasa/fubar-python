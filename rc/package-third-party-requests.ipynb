{
 "cells": [
  {
   "cell_type": "markdown",
   "metadata": {},
   "source": [
    "# package-third-party-requests\n",
    "> [TABLE OF CONTENTS](https://nbviewer.jupyter.org/github/SeanOhAileasa/fubar-python/blob/main/fubar-python.ipynb#top)\n",
    "***"
   ]
  },
  {
   "cell_type": "code",
   "execution_count": 1,
   "metadata": {},
   "outputs": [],
   "source": [
    "# b_T_hird_P_arty-imports\n",
    "import requests"
   ]
  },
  {
   "cell_type": "code",
   "execution_count": 2,
   "metadata": {},
   "outputs": [
    {
     "name": "stdout",
     "output_type": "stream",
     "text": [
      "\n",
      "Requests HTTP Library\n",
      "~~~~~~~~~~~~~~~~~~~~~\n",
      "\n",
      "Requests is an HTTP library, written in Python, for human beings.\n",
      "Basic GET usage:\n",
      "\n",
      "   >>> import requests\n",
      "   >>> r = requests.get('https://www.python.org')\n",
      "   >>> r.status_code\n",
      "   200\n",
      "   >>> b'Python is a programming language' in r.content\n",
      "   True\n",
      "\n",
      "... or POST:\n",
      "\n",
      "   >>> payload = dict(key1='value1', key2='value2')\n",
      "   >>> r = requests.post('https://httpbin.org/post', data=payload)\n",
      "   >>> print(r.text)\n",
      "   {\n",
      "     ...\n",
      "     \"form\": {\n",
      "       \"key1\": \"value1\",\n",
      "       \"key2\": \"value2\"\n",
      "     },\n",
      "     ...\n",
      "   }\n",
      "\n",
      "The other HTTP methods are supported - see `requests.api`. Full documentation\n",
      "is at <https://requests.readthedocs.io>.\n",
      "\n",
      ":copyright: (c) 2017 by Kenneth Reitz.\n",
      ":license: Apache 2.0, see LICENSE for more details.\n",
      "\n"
     ]
    }
   ],
   "source": [
    "# package requests - attribute __doc__ - access\n",
    "print(requests.__doc__)"
   ]
  },
  {
   "cell_type": "code",
   "execution_count": 3,
   "metadata": {},
   "outputs": [
    {
     "data": {
      "text/plain": [
       "'requests'"
      ]
     },
     "execution_count": 3,
     "metadata": {},
     "output_type": "execute_result"
    }
   ],
   "source": [
    "# package requests - attribute __package__ - access\n",
    "requests.__package__"
   ]
  },
  {
   "cell_type": "code",
   "execution_count": 4,
   "metadata": {},
   "outputs": [
    {
     "data": {
      "text/plain": [
       "['C:\\\\Users\\\\E6985\\\\anaconda3\\\\lib\\\\site-packages\\\\requests']"
      ]
     },
     "execution_count": 4,
     "metadata": {},
     "output_type": "execute_result"
    }
   ],
   "source": [
    "# package requests - attribute __path__ - access\n",
    "requests.__path__"
   ]
  },
  {
   "cell_type": "code",
   "execution_count": 5,
   "metadata": {},
   "outputs": [
    {
     "data": {
      "text/plain": [
       "'C:\\\\Users\\\\E6985\\\\anaconda3\\\\lib\\\\site-packages\\\\requests\\\\__init__.py'"
      ]
     },
     "execution_count": 5,
     "metadata": {},
     "output_type": "execute_result"
    }
   ],
   "source": [
    "# package requests - attribute __file__ - access\n",
    "requests.__file__"
   ]
  },
  {
   "cell_type": "code",
   "execution_count": 6,
   "metadata": {},
   "outputs": [
    {
     "data": {
      "text/plain": [
       "'2.24.0'"
      ]
     },
     "execution_count": 6,
     "metadata": {},
     "output_type": "execute_result"
    }
   ],
   "source": [
    "# package requests - attribute __version__ - access\n",
    "requests.__version__"
   ]
  },
  {
   "cell_type": "code",
   "execution_count": 7,
   "metadata": {
    "scrolled": true
   },
   "outputs": [
    {
     "name": "stdout",
     "output_type": "stream",
     "text": [
      "# .-. .-. .-. . . .-. .-. .-. .-.\n",
      "# |(  |-  |.| | | |-  `-.  |  `-.\n",
      "# ' ' `-' `-`.`-' `-' `-'  '  `-'\n",
      "\n",
      "__title__ = 'requests'\n",
      "__description__ = 'Python HTTP for Humans.'\n",
      "__url__ = 'https://requests.readthedocs.io'\n",
      "__version__ = '2.24.0'\n",
      "__build__ = 0x022400\n",
      "__author__ = 'Kenneth Reitz'\n",
      "__author_email__ = 'me@kennethreitz.org'\n",
      "__license__ = 'Apache 2.0'\n",
      "__copyright__ = 'Copyright 2020 Kenneth Reitz'\n",
      "__cake__ = u'\\u2728 \\U0001f370 \\u2728'\n"
     ]
    }
   ],
   "source": [
    "%%script bash\n",
    "cat ~/anaconda3/lib/site-packages/requests/__version__.py"
   ]
  },
  {
   "cell_type": "markdown",
   "metadata": {},
   "source": [
    "***\n",
    "# END"
   ]
  }
 ],
 "metadata": {
  "kernelspec": {
   "display_name": "Python 3",
   "language": "python",
   "name": "python3"
  },
  "language_info": {
   "codemirror_mode": {
    "name": "ipython",
    "version": 3
   },
   "file_extension": ".py",
   "mimetype": "text/x-python",
   "name": "python",
   "nbconvert_exporter": "python",
   "pygments_lexer": "ipython3",
   "version": "3.8.3"
  }
 },
 "nbformat": 4,
 "nbformat_minor": 4
}
