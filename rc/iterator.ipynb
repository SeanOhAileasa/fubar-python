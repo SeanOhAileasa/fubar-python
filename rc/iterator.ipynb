{
 "cells": [
  {
   "cell_type": "markdown",
   "metadata": {},
   "source": [
    "# iterator\n",
    "> [TABLE OF CONTENTS](https://nbviewer.jupyter.org/github/SeanOhAileasa/fubar-python/blob/main/fubar-python.ipynb#top)\n",
    "***"
   ]
  },
  {
   "cell_type": "markdown",
   "metadata": {},
   "source": [
    "- an iterator can be thought of as a generalised sequence [1.39] - often an important piece of data analysis is repeating a similar calculation over and over in an automated fashion - table of names split into first name and last name - dates converted to some standard format - pythons answer to this is the iterator syntax [1.52] - iterating through a list - for x in y syntax - allows repeating some operation for each value in the list - the fact that the syntax of the code is so close to english description - for [each] value in [the] list - is just one of the syntactic choices that makes python such as intuitive language to learn and use [1.53]"
   ]
  },
  {
   "cell_type": "markdown",
   "metadata": {},
   "source": [
    "```python\n",
    "print(*objects, sep=' ', end='\\n', file=sys.stdout, flush=False)\n",
    "```\n",
    "> [Python Documentation](https://web.archive.org/web/20200514154635/https://docs.python.org/3/library/functions.html#print)"
   ]
  },
  {
   "cell_type": "code",
   "execution_count": 1,
   "metadata": {},
   "outputs": [
    {
     "name": "stdout",
     "output_type": "stream",
     "text": [
      "2 3 5 7 "
     ]
    }
   ],
   "source": [
    "for nEachValue in [1, 2, 4, 6]:\n",
    "    print(nEachValue+1,end=\" \")"
   ]
  },
  {
   "cell_type": "markdown",
   "metadata": {},
   "source": [
    "```python\n",
    "iter(object[, sentinel])\n",
    "```\n",
    "> [Python Documentation](https://web.archive.org/web/20200514154635/https://docs.python.org/3/library/functions.html#iter)"
   ]
  },
  {
   "cell_type": "markdown",
   "metadata": {},
   "source": [
    "- writing - for nEachValue in the list - the python interpreter checks whether it has an iterator interface which can be checked with the built-in function - iter [1.53]"
   ]
  },
  {
   "cell_type": "code",
   "execution_count": 2,
   "metadata": {},
   "outputs": [
    {
     "data": {
      "text/plain": [
       "<list_iterator at 0x24cc71db308>"
      ]
     },
     "execution_count": 2,
     "metadata": {},
     "output_type": "execute_result"
    }
   ],
   "source": [
    "iter([2, 3, 5, 7])"
   ]
  },
  {
   "cell_type": "markdown",
   "metadata": {},
   "source": [
    "```python\n",
    "next(iterator[, default])\n",
    "```\n",
    "> [Python Documentation](https://web.archive.org/web/20200502105905/https://docs.python.org/3/library/functions.html#next)"
   ]
  },
  {
   "cell_type": "markdown",
   "metadata": {},
   "source": [
    "- this iterator object provides the functionality required by the for loop - the - iter - object is a container that gives access to the next object for as long as its valid - built-in function - next [1.53] - the purpose of this level of indirection as it turns out is incredibily useful because it allows python to treat things as lists that are not actually lists [1.54]"
   ]
  },
  {
   "cell_type": "code",
   "execution_count": 3,
   "metadata": {},
   "outputs": [],
   "source": [
    "nIterObj=iter([\"two\", 3, \"five\", 7])"
   ]
  },
  {
   "cell_type": "code",
   "execution_count": 4,
   "metadata": {},
   "outputs": [
    {
     "data": {
      "text/plain": [
       "'two'"
      ]
     },
     "execution_count": 4,
     "metadata": {},
     "output_type": "execute_result"
    }
   ],
   "source": [
    "next(nIterObj)"
   ]
  },
  {
   "cell_type": "code",
   "execution_count": 5,
   "metadata": {},
   "outputs": [
    {
     "data": {
      "text/plain": [
       "3"
      ]
     },
     "execution_count": 5,
     "metadata": {},
     "output_type": "execute_result"
    }
   ],
   "source": [
    "next(nIterObj)"
   ]
  },
  {
   "cell_type": "markdown",
   "metadata": {},
   "source": [
    "***\n",
    "# END"
   ]
  }
 ],
 "metadata": {
  "kernelspec": {
   "display_name": "Python 3",
   "language": "python",
   "name": "python3"
  },
  "language_info": {
   "codemirror_mode": {
    "name": "ipython",
    "version": 3
   },
   "file_extension": ".py",
   "mimetype": "text/x-python",
   "name": "python",
   "nbconvert_exporter": "python",
   "pygments_lexer": "ipython3",
   "version": "3.7.6"
  }
 },
 "nbformat": 4,
 "nbformat_minor": 4
}
