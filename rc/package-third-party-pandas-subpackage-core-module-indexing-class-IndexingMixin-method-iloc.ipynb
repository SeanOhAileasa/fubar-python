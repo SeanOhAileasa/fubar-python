{
 "cells": [
  {
   "cell_type": "markdown",
   "metadata": {},
   "source": [
    "# package-third-party-pandas-subpackage-core-module-indexing-class-IndexingMixin-method-iloc\n",
    "> [TABLE OF CONTENTS](https://nbviewer.jupyter.org/github/SeanOhAileasa/fubar-python/blob/main/fubar-python.ipynb#top)\n",
    "***"
   ]
  },
  {
   "cell_type": "code",
   "execution_count": 1,
   "metadata": {
    "scrolled": true
   },
   "outputs": [],
   "source": [
    "# b_T_hird_P_arty-imports\n",
    "from pandas.core.indexing import IndexingMixin as CIndexMixing"
   ]
  },
  {
   "cell_type": "code",
   "execution_count": 2,
   "metadata": {},
   "outputs": [],
   "source": [
    "# package pandas - subpackage core - module indexing - object IndexingMixin alias CIndexMixing - instantiate\n",
    "nInsObjCIM=CIndexMixing()"
   ]
  },
  {
   "cell_type": "code",
   "execution_count": 3,
   "metadata": {
    "scrolled": false
   },
   "outputs": [
    {
     "name": "stdout",
     "output_type": "stream",
     "text": [
      "\n",
      "Purely integer-location based indexing for selection by position.\n",
      "\n",
      "``.iloc[]`` is primarily integer position based (from ``0`` to\n",
      "``length-1`` of the axis), but may also be used with a boolean\n",
      "array.\n",
      "\n",
      "Allowed inputs are:\n",
      "\n",
      "- An integer, e.g. ``5``.\n",
      "- A list or array of integers, e.g. ``[4, 3, 0]``.\n",
      "- A slice object with ints, e.g. ``1:7``.\n",
      "- A boolean array.\n",
      "- A ``callable`` function with one argument (the calling Series or\n",
      "  DataFrame) and that returns valid output for indexing (one of the above).\n",
      "  This is useful in method chains, when you don't have a reference to the\n",
      "  calling object, but would like to base your selection on some value.\n",
      "\n",
      "``.iloc`` will raise ``IndexError`` if a requested indexer is\n",
      "out-of-bounds, except *slice* indexers which allow out-of-bounds\n",
      "indexing (this conforms with python/numpy *slice* semantics).\n",
      "\n",
      "See more at :ref:`Selection by Position <indexing.integer>`.\n",
      "\n",
      "See Also\n",
      "--------\n",
      "DataFrame.iat : Fast integer location scalar accessor.\n",
      "DataFrame.loc : Purely label-location based indexer for selection by label.\n",
      "Series.iloc : Purely integer-location based indexing for\n",
      "               selection by position.\n",
      "\n",
      "Examples\n",
      "--------\n",
      "\n",
      ">>> mydict = [{'a': 1, 'b': 2, 'c': 3, 'd': 4},\n",
      "...           {'a': 100, 'b': 200, 'c': 300, 'd': 400},\n",
      "...           {'a': 1000, 'b': 2000, 'c': 3000, 'd': 4000 }]\n",
      ">>> df = pd.DataFrame(mydict)\n",
      ">>> df\n",
      "      a     b     c     d\n",
      "0     1     2     3     4\n",
      "1   100   200   300   400\n",
      "2  1000  2000  3000  4000\n",
      "\n",
      "**Indexing just the rows**\n",
      "\n",
      "With a scalar integer.\n",
      "\n",
      ">>> type(df.iloc[0])\n",
      "<class 'pandas.core.series.Series'>\n",
      ">>> df.iloc[0]\n",
      "a    1\n",
      "b    2\n",
      "c    3\n",
      "d    4\n",
      "Name: 0, dtype: int64\n",
      "\n",
      "With a list of integers.\n",
      "\n",
      ">>> df.iloc[[0]]\n",
      "   a  b  c  d\n",
      "0  1  2  3  4\n",
      ">>> type(df.iloc[[0]])\n",
      "<class 'pandas.core.frame.DataFrame'>\n",
      "\n",
      ">>> df.iloc[[0, 1]]\n",
      "     a    b    c    d\n",
      "0    1    2    3    4\n",
      "1  100  200  300  400\n",
      "\n",
      "With a `slice` object.\n",
      "\n",
      ">>> df.iloc[:3]\n",
      "      a     b     c     d\n",
      "0     1     2     3     4\n",
      "1   100   200   300   400\n",
      "2  1000  2000  3000  4000\n",
      "\n",
      "With a boolean mask the same length as the index.\n",
      "\n",
      ">>> df.iloc[[True, False, True]]\n",
      "      a     b     c     d\n",
      "0     1     2     3     4\n",
      "2  1000  2000  3000  4000\n",
      "\n",
      "With a callable, useful in method chains. The `x` passed\n",
      "to the ``lambda`` is the DataFrame being sliced. This selects\n",
      "the rows whose index label even.\n",
      "\n",
      ">>> df.iloc[lambda x: x.index % 2 == 0]\n",
      "      a     b     c     d\n",
      "0     1     2     3     4\n",
      "2  1000  2000  3000  4000\n",
      "\n",
      "**Indexing both axes**\n",
      "\n",
      "You can mix the indexer types for the index and columns. Use ``:`` to\n",
      "select the entire axis.\n",
      "\n",
      "With scalar integers.\n",
      "\n",
      ">>> df.iloc[0, 1]\n",
      "2\n",
      "\n",
      "With lists of integers.\n",
      "\n",
      ">>> df.iloc[[0, 2], [1, 3]]\n",
      "      b     d\n",
      "0     2     4\n",
      "2  2000  4000\n",
      "\n",
      "With `slice` objects.\n",
      "\n",
      ">>> df.iloc[1:3, 0:3]\n",
      "      a     b     c\n",
      "1   100   200   300\n",
      "2  1000  2000  3000\n",
      "\n",
      "With a boolean array whose length matches the columns.\n",
      "\n",
      ">>> df.iloc[:, [True, False, True, False]]\n",
      "      a     c\n",
      "0     1     3\n",
      "1   100   300\n",
      "2  1000  3000\n",
      "\n",
      "With a callable function that expects the Series or DataFrame.\n",
      "\n",
      ">>> df.iloc[:, lambda df: [0, 2]]\n",
      "      a     c\n",
      "0     1     3\n",
      "1   100   300\n",
      "2  1000  3000\n",
      "\n"
     ]
    }
   ],
   "source": [
    "# package pandas - subpackage core - module indexing - object IndexingMixin - method iloc - call\n",
    "print(nInsObjCIM.iloc.__doc__)"
   ]
  },
  {
   "cell_type": "markdown",
   "metadata": {},
   "source": [
    "***\n",
    "# END"
   ]
  }
 ],
 "metadata": {
  "kernelspec": {
   "display_name": "Python 3",
   "language": "python",
   "name": "python3"
  },
  "language_info": {
   "codemirror_mode": {
    "name": "ipython",
    "version": 3
   },
   "file_extension": ".py",
   "mimetype": "text/x-python",
   "name": "python",
   "nbconvert_exporter": "python",
   "pygments_lexer": "ipython3",
   "version": "3.8.3"
  }
 },
 "nbformat": 4,
 "nbformat_minor": 4
}
