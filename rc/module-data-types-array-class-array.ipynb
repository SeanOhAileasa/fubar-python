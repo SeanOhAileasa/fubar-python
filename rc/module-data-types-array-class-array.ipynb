{
 "cells": [
  {
   "cell_type": "markdown",
   "metadata": {},
   "source": [
    "# module-data-types-array-class-array\n",
    "> [TABLE OF CONTENTS](https://nbviewer.jupyter.org/github/SeanOhAileasa/fubar-python/blob/main/fubar-python.ipynb#top)\n",
    "***"
   ]
  },
  {
   "cell_type": "code",
   "execution_count": 1,
   "metadata": {},
   "outputs": [],
   "source": [
    "# a_S_tandard_L_ibrary-imports\n",
    "import array"
   ]
  },
  {
   "cell_type": "code",
   "execution_count": 2,
   "metadata": {},
   "outputs": [
    {
     "name": "stdout",
     "output_type": "stream",
     "text": [
      "array(typecode [, initializer]) -> array\n",
      "\n",
      "Return a new array whose items are restricted by typecode, and\n",
      "initialized from the optional initializer value, which must be a list,\n",
      "string or iterable over elements of the appropriate type.\n",
      "\n",
      "Arrays represent basic values and behave very much like lists, except\n",
      "the type of objects stored in them is constrained. The type is specified\n",
      "at object creation time by using a type code, which is a single character.\n",
      "The following type codes are defined:\n",
      "\n",
      "    Type code   C Type             Minimum size in bytes\n",
      "    'b'         signed integer     1\n",
      "    'B'         unsigned integer   1\n",
      "    'u'         Unicode character  2 (see note)\n",
      "    'h'         signed integer     2\n",
      "    'H'         unsigned integer   2\n",
      "    'i'         signed integer     2\n",
      "    'I'         unsigned integer   2\n",
      "    'l'         signed integer     4\n",
      "    'L'         unsigned integer   4\n",
      "    'q'         signed integer     8 (see note)\n",
      "    'Q'         unsigned integer   8 (see note)\n",
      "    'f'         floating point     4\n",
      "    'd'         floating point     8\n",
      "\n",
      "NOTE: The 'u' typecode corresponds to Python's unicode character. On\n",
      "narrow builds this is 2-bytes on wide builds this is 4-bytes.\n",
      "\n",
      "NOTE: The 'q' and 'Q' type codes are only available if the platform\n",
      "C compiler used to build Python supports 'long long', or, on Windows,\n",
      "'__int64'.\n",
      "\n",
      "Methods:\n",
      "\n",
      "append() -- append a new item to the end of the array\n",
      "buffer_info() -- return information giving the current memory info\n",
      "byteswap() -- byteswap all the items of the array\n",
      "count() -- return number of occurrences of an object\n",
      "extend() -- extend array by appending multiple elements from an iterable\n",
      "fromfile() -- read items from a file object\n",
      "fromlist() -- append items from the list\n",
      "frombytes() -- append items from the string\n",
      "index() -- return index of first occurrence of an object\n",
      "insert() -- insert a new item into the array at a provided position\n",
      "pop() -- remove and return item (default last)\n",
      "remove() -- remove first occurrence of an object\n",
      "reverse() -- reverse the order of the items in the array\n",
      "tofile() -- write all items to a file object\n",
      "tolist() -- return the array converted to an ordinary list\n",
      "tobytes() -- return the array converted to a string\n",
      "\n",
      "Attributes:\n",
      "\n",
      "typecode -- the typecode character used to create the array\n",
      "itemsize -- the length in bytes of one array item\n",
      "\n"
     ]
    }
   ],
   "source": [
    "# module array - object array - attribute __doc__ - access\n",
    "print(array.array.__doc__)"
   ]
  },
  {
   "cell_type": "code",
   "execution_count": 3,
   "metadata": {},
   "outputs": [
    {
     "data": {
      "text/plain": [
       "[0, 1, 2, 3, 4, 5, 6, 7, 8, 9]"
      ]
     },
     "execution_count": 3,
     "metadata": {},
     "output_type": "execute_result"
    }
   ],
   "source": [
    "list(range(10))"
   ]
  },
  {
   "cell_type": "markdown",
   "metadata": {},
   "source": [
    "- typecode - `i` - indicates contents are integers [9.38]"
   ]
  },
  {
   "cell_type": "code",
   "execution_count": 4,
   "metadata": {},
   "outputs": [
    {
     "data": {
      "text/plain": [
       "array('i', [0, 1, 2, 3, 4, 5, 6, 7, 8, 9])"
      ]
     },
     "execution_count": 4,
     "metadata": {},
     "output_type": "execute_result"
    }
   ],
   "source": [
    "# module array - object array - instantiate\n",
    "array.array(\"i\",list(range(10)))"
   ]
  },
  {
   "cell_type": "markdown",
   "metadata": {},
   "source": [
    "- module - array - object - array - provides efficient storage of array-based data - third party package - numpy - adds additional efficiency [9.38]  "
   ]
  },
  {
   "cell_type": "markdown",
   "metadata": {},
   "source": [
    "***\n",
    "# END"
   ]
  }
 ],
 "metadata": {
  "kernelspec": {
   "display_name": "Python 3",
   "language": "python",
   "name": "python3"
  },
  "language_info": {
   "codemirror_mode": {
    "name": "ipython",
    "version": 3
   },
   "file_extension": ".py",
   "mimetype": "text/x-python",
   "name": "python",
   "nbconvert_exporter": "python",
   "pygments_lexer": "ipython3",
   "version": "3.8.3"
  }
 },
 "nbformat": 4,
 "nbformat_minor": 4
}
