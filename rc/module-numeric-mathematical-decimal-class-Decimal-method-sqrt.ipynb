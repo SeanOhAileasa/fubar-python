{
 "cells": [
  {
   "cell_type": "markdown",
   "metadata": {},
   "source": [
    "# module-numeric-mathematical-decimal-class-Decimal-method-sqrt\n",
    "> [TABLE OF CONTENTS](https://nbviewer.jupyter.org/github/SeanOhAileasa/fubar-python/blob/main/fubar-python.ipynb#top)\n",
    "***"
   ]
  },
  {
   "cell_type": "code",
   "execution_count": 1,
   "metadata": {},
   "outputs": [],
   "source": [
    "# a_S_tandard_L_ibrary-imports\n",
    "from decimal import Decimal as CD"
   ]
  },
  {
   "cell_type": "code",
   "execution_count": 2,
   "metadata": {},
   "outputs": [
    {
     "name": "stdout",
     "output_type": "stream",
     "text": [
      "Return the square root of the argument to full precision. The result is\n",
      "correctly rounded using the ROUND_HALF_EVEN rounding mode.\n",
      "\n",
      "\n"
     ]
    }
   ],
   "source": [
    "# module decimal - object Decimial alias CD - method sqrt - attribute __file__ - access\n",
    "print(CD.sqrt.__doc__)"
   ]
  },
  {
   "cell_type": "code",
   "execution_count": 3,
   "metadata": {
    "scrolled": false
   },
   "outputs": [
    {
     "name": "stdout",
     "output_type": "stream",
     "text": [
      "  2717\t    def sqrt(self, context=None):\n",
      "  2718\t        \"\"\"Return the square root of self.\"\"\"\n",
      "  2719\t        if context is None:\n",
      "  2720\t            context = getcontext()\n",
      "  2721\t\n",
      "  2722\t        if self._is_special:\n",
      "  2723\t            ans = self._check_nans(context=context)\n",
      "  2724\t            if ans:\n",
      "  2725\t                return ans\n",
      "  2726\t\n",
      "  2727\t            if self._isinfinity() and self._sign == 0:\n",
      "  2728\t                return Decimal(self)\n",
      "  2729\t\n",
      "  2730\t        if not self:\n",
      "  2731\t            # exponent = self._exp // 2.  sqrt(-0) = -0\n",
      "  2732\t            ans = _dec_from_triple(self._sign, '0', self._exp // 2)\n",
      "  2733\t            return ans._fix(context)\n",
      "  2734\t\n",
      "  2735\t        if self._sign == 1:\n",
      "  2736\t            return context._raise_error(InvalidOperation, 'sqrt(-x), x > 0')\n",
      "  2737\t\n",
      "  2738\t        # At this point self represents a positive number.  Let p be\n",
      "  2739\t        # the desired precision and express self in the form c*100**e\n",
      "  2740\t        # with c a positive real number and e an integer, c and e\n",
      "  2741\t        # being chosen so that 100**(p-1) <= c < 100**p.  Then the\n",
      "  2742\t        # (exact) square root of self is sqrt(c)*10**e, and 10**(p-1)\n",
      "  2743\t        # <= sqrt(c) < 10**p, so the closest representable Decimal at\n",
      "  2744\t        # precision p is n*10**e where n = round_half_even(sqrt(c)),\n",
      "  2745\t        # the closest integer to sqrt(c) with the even integer chosen\n",
      "  2746\t        # in the case of a tie.\n",
      "  2747\t        #\n",
      "  2748\t        # To ensure correct rounding in all cases, we use the\n",
      "  2749\t        # following trick: we compute the square root to an extra\n",
      "  2750\t        # place (precision p+1 instead of precision p), rounding down.\n",
      "  2751\t        # Then, if the result is inexact and its last digit is 0 or 5,\n",
      "  2752\t        # we increase the last digit to 1 or 6 respectively; if it's\n",
      "  2753\t        # exact we leave the last digit alone.  Now the final round to\n",
      "  2754\t        # p places (or fewer in the case of underflow) will round\n",
      "  2755\t        # correctly and raise the appropriate flags.\n",
      "  2756\t\n",
      "  2757\t        # use an extra digit of precision\n",
      "  2758\t        prec = context.prec+1\n",
      "  2759\t\n",
      "  2760\t        # write argument in the form c*100**e where e = self._exp//2\n",
      "  2761\t        # is the 'ideal' exponent, to be used if the square root is\n",
      "  2762\t        # exactly representable.  l is the number of 'digits' of c in\n",
      "  2763\t        # base 100, so that 100**(l-1) <= c < 100**l.\n",
      "  2764\t        op = _WorkRep(self)\n",
      "  2765\t        e = op.exp >> 1\n",
      "  2766\t        if op.exp & 1:\n",
      "  2767\t            c = op.int * 10\n",
      "  2768\t            l = (len(self._int) >> 1) + 1\n",
      "  2769\t        else:\n",
      "  2770\t            c = op.int\n",
      "  2771\t            l = len(self._int)+1 >> 1\n",
      "  2772\t\n",
      "  2773\t        # rescale so that c has exactly prec base 100 'digits'\n",
      "  2774\t        shift = prec-l\n",
      "  2775\t        if shift >= 0:\n",
      "  2776\t            c *= 100**shift\n",
      "  2777\t            exact = True\n",
      "  2778\t        else:\n",
      "  2779\t            c, remainder = divmod(c, 100**-shift)\n",
      "  2780\t            exact = not remainder\n",
      "  2781\t        e -= shift\n",
      "  2782\t\n",
      "  2783\t        # find n = floor(sqrt(c)) using Newton's method\n",
      "  2784\t        n = 10**prec\n",
      "  2785\t        while True:\n",
      "  2786\t            q = c//n\n",
      "  2787\t            if n <= q:\n",
      "  2788\t                break\n",
      "  2789\t            else:\n",
      "  2790\t                n = n + q >> 1\n",
      "  2791\t        exact = exact and n*n == c\n",
      "  2792\t\n",
      "  2793\t        if exact:\n",
      "  2794\t            # result is exact; rescale to use ideal exponent e\n",
      "  2795\t            if shift >= 0:\n",
      "  2796\t                # assert n % 10**shift == 0\n",
      "  2797\t                n //= 10**shift\n",
      "  2798\t            else:\n",
      "  2799\t                n *= 10**-shift\n",
      "  2800\t            e += shift\n",
      "  2801\t        else:\n",
      "  2802\t            # result is not exact; fix last digit as described above\n",
      "  2803\t            if n % 5 == 0:\n",
      "  2804\t                n += 1\n",
      "  2805\t\n",
      "  2806\t        ans = _dec_from_triple(0, str(n), e)\n",
      "  2807\t\n",
      "  2808\t        # round, and fit to current context\n",
      "  2809\t        context = context._shallow_copy()\n",
      "  2810\t        rounding = context._set_rounding(ROUND_HALF_EVEN)\n",
      "  2811\t        ans = ans._fix(context)\n",
      "  2812\t        context.rounding = rounding\n",
      "  2813\t\n",
      "  2814\t        return ans\n"
     ]
    }
   ],
   "source": [
    "%%script bash\n",
    "cat -n C:/Users/E6985/anaconda3/pkgs/python-3.8.3-he1778fa_2/Lib/_pydecimal.py | grep \"def sqrt(self, context=None)\" -A 97"
   ]
  },
  {
   "cell_type": "markdown",
   "metadata": {},
   "source": [
    "***\n",
    "# END"
   ]
  }
 ],
 "metadata": {
  "kernelspec": {
   "display_name": "Python 3",
   "language": "python",
   "name": "python3"
  },
  "language_info": {
   "codemirror_mode": {
    "name": "ipython",
    "version": 3
   },
   "file_extension": ".py",
   "mimetype": "text/x-python",
   "name": "python",
   "nbconvert_exporter": "python",
   "pygments_lexer": "ipython3",
   "version": "3.8.3"
  }
 },
 "nbformat": 4,
 "nbformat_minor": 4
}
