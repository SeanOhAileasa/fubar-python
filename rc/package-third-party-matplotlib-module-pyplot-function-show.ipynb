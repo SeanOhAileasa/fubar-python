{
 "cells": [
  {
   "cell_type": "markdown",
   "metadata": {},
   "source": [
    "# package-third-party-matplotlib-module-pyplot-function-show\n",
    "> [TABLE OF CONTENTS](https://nbviewer.jupyter.org/github/SeanOhAileasa/fubar-python/blob/main/fubar-python.ipynb#top)\n",
    "***"
   ]
  },
  {
   "cell_type": "code",
   "execution_count": 1,
   "metadata": {},
   "outputs": [],
   "source": [
    "# b_T_hird_P_arty-imports\n",
    "from matplotlib.pyplot import show as s"
   ]
  },
  {
   "cell_type": "code",
   "execution_count": 2,
   "metadata": {},
   "outputs": [
    {
     "name": "stdout",
     "output_type": "stream",
     "text": [
      "\n",
      "    Display all figures.\n",
      "\n",
      "    When running in ipython with its pylab mode, display all\n",
      "    figures and return to the ipython prompt.\n",
      "\n",
      "    In non-interactive mode, display all figures and block until\n",
      "    the figures have been closed; in interactive mode it has no\n",
      "    effect unless figures were created prior to a change from\n",
      "    non-interactive to interactive mode (not recommended).  In\n",
      "    that case it displays the figures but does not block.\n",
      "\n",
      "    Parameters\n",
      "    ----------\n",
      "    block : bool, optional\n",
      "        This is experimental, and may be set to ``True`` or ``False`` to\n",
      "        override the blocking behavior described above.\n",
      "    \n"
     ]
    }
   ],
   "source": [
    "# package matplotlib - module pyplot - function show alias s - copy - attribute __doc__ - access\n",
    "print(s.__doc__)"
   ]
  },
  {
   "cell_type": "code",
   "execution_count": 3,
   "metadata": {},
   "outputs": [
    {
     "name": "stdout",
     "output_type": "stream",
     "text": [
      "Writing test.py\n"
     ]
    }
   ],
   "source": [
    "%%writefile test.py\n",
    "# b_T_hird_P_arty-imports\n",
    "from matplotlib.style.core import use as u\n",
    "from matplotlib.pyplot import plot as p\n",
    "from matplotlib.pyplot import show as s\n",
    "# package matplotlib - subpackage style - module core - function use alias u - call\n",
    "u('default')\n",
    "# package matplotlib - module pyplot - function plot alias p - call\n",
    "p([1,2,3,4],[1,4,9,16],\"b.\")\n",
    "# package matplotlib - module pyplot - function show alias s - call\n",
    "s()"
   ]
  },
  {
   "cell_type": "code",
   "execution_count": 4,
   "metadata": {},
   "outputs": [
    {
     "name": "stdout",
     "output_type": "stream",
     "text": [
      "Figure(640x480)\r\n"
     ]
    }
   ],
   "source": [
    "%%script bash\n",
    "python test.py; rm -rf test.py"
   ]
  },
  {
   "cell_type": "markdown",
   "metadata": {},
   "source": [
    "- besides showing the figure - also cleans the slate - plotted axes are wiped - in a way implements the whole plot - with all the different settings via functions like - title - xlabel - ylabel - legend - when called - everything is wiped clean [2.2]"
   ]
  },
  {
   "cell_type": "markdown",
   "metadata": {},
   "source": [
    "***\n",
    "# END"
   ]
  }
 ],
 "metadata": {
  "kernelspec": {
   "display_name": "Python 3",
   "language": "python",
   "name": "python3"
  },
  "language_info": {
   "codemirror_mode": {
    "name": "ipython",
    "version": 3
   },
   "file_extension": ".py",
   "mimetype": "text/x-python",
   "name": "python",
   "nbconvert_exporter": "python",
   "pygments_lexer": "ipython3",
   "version": "3.8.3"
  }
 },
 "nbformat": 4,
 "nbformat_minor": 4
}
