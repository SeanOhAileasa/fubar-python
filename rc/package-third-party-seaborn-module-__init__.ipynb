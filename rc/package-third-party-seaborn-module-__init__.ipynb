{
 "cells": [
  {
   "cell_type": "markdown",
   "metadata": {},
   "source": [
    "# package-third-party-seaborn-module-\\_\\_init\\_\\_\n",
    "> [TABLE OF CONTENTS](https://nbviewer.jupyter.org/github/SeanOhAileasa/fubar-python/blob/main/fubar-python.ipynb#top)\n",
    "***"
   ]
  },
  {
   "cell_type": "code",
   "execution_count": 1,
   "metadata": {},
   "outputs": [],
   "source": [
    "# b_T_hird_P_arty-imports\n",
    "import seaborn as sns"
   ]
  },
  {
   "cell_type": "code",
   "execution_count": 2,
   "metadata": {},
   "outputs": [
    {
     "data": {
      "text/plain": [
       "'C:\\\\Users\\\\E6985\\\\anaconda3\\\\lib\\\\site-packages\\\\seaborn\\\\__init__.py'"
      ]
     },
     "execution_count": 2,
     "metadata": {},
     "output_type": "execute_result"
    }
   ],
   "source": [
    "# package seaborn alias sns - attribute __file__ - access\n",
    "sns.__file__"
   ]
  },
  {
   "cell_type": "code",
   "execution_count": 3,
   "metadata": {},
   "outputs": [
    {
     "name": "stdout",
     "output_type": "stream",
     "text": [
      "# Capture the original matplotlib rcParams\n",
      "import matplotlib as mpl\n",
      "_orig_rc_params = mpl.rcParams.copy()\n",
      "\n",
      "# Import seaborn objects\n",
      "from .rcmod import *\n",
      "from .utils import *\n",
      "from .palettes import *\n",
      "from .relational import *\n",
      "from .regression import *\n",
      "from .categorical import *\n",
      "from .distributions import *\n",
      "from .matrix import *\n",
      "from .miscplot import *\n",
      "from .axisgrid import *\n",
      "from .widgets import *\n",
      "from .colors import xkcd_rgb, crayons\n",
      "from . import cm\n",
      "\n",
      "__version__ = \"0.10.1\"\n"
     ]
    }
   ],
   "source": [
    "%%script bash\n",
    "cat ~/anaconda3/lib/site-packages/seaborn/__init__.py"
   ]
  },
  {
   "cell_type": "markdown",
   "metadata": {},
   "source": [
    "***\n",
    "# END"
   ]
  }
 ],
 "metadata": {
  "kernelspec": {
   "display_name": "Python 3",
   "language": "python",
   "name": "python3"
  },
  "language_info": {
   "codemirror_mode": {
    "name": "ipython",
    "version": 3
   },
   "file_extension": ".py",
   "mimetype": "text/x-python",
   "name": "python",
   "nbconvert_exporter": "python",
   "pygments_lexer": "ipython3",
   "version": "3.8.3"
  }
 },
 "nbformat": 4,
 "nbformat_minor": 4
}
