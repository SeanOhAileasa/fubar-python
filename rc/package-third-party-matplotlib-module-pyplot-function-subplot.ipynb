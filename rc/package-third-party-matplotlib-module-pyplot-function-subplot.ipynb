{
 "cells": [
  {
   "cell_type": "markdown",
   "metadata": {},
   "source": [
    "# package-third-party-matplotlib-module-pyplot-function-subplot\n",
    "> [TABLE OF CONTENTS](https://nbviewer.jupyter.org/github/SeanOhAileasa/fubar-python/blob/main/fubar-python.ipynb#top)\n",
    "***"
   ]
  },
  {
   "cell_type": "code",
   "execution_count": 1,
   "metadata": {},
   "outputs": [],
   "source": [
    "# b_T_hird_P_arty-imports\n",
    "from matplotlib.pyplot import subplot as sp"
   ]
  },
  {
   "cell_type": "code",
   "execution_count": 2,
   "metadata": {},
   "outputs": [],
   "source": [
    "from matplotlib.style.core import use as u\n",
    "# package matplotlib - subpackage style - module core - function use alias u - call\n",
    "u(\"default\")"
   ]
  },
  {
   "cell_type": "code",
   "execution_count": 3,
   "metadata": {},
   "outputs": [],
   "source": [
    "from matplotlib.pyplot import hist as h\n",
    "from numpy.random import default_rng as newGenBitGenPCG64"
   ]
  },
  {
   "cell_type": "code",
   "execution_count": 4,
   "metadata": {
    "scrolled": false
   },
   "outputs": [
    {
     "name": "stdout",
     "output_type": "stream",
     "text": [
      "Add a subplot to the current figure.\n",
      "\n",
      "Wrapper of `.Figure.add_subplot` with a difference in behavior\n",
      "explained in the notes section.\n",
      "\n",
      "Call signatures::\n",
      "\n",
      "   subplot(nrows, ncols, index, **kwargs)\n",
      "   subplot(pos, **kwargs)\n",
      "   subplot(ax)\n",
      "\n",
      "Parameters\n",
      "----------\n",
      "*args\n",
      "    Either a 3-digit integer or three separate integers\n",
      "    describing the position of the subplot. If the three\n",
      "    integers are *nrows*, *ncols*, and *index* in order, the\n",
      "    subplot will take the *index* position on a grid with *nrows*\n",
      "    rows and *ncols* columns. *index* starts at 1 in the upper left\n",
      "    corner and increases to the right.\n",
      "\n",
      "    *pos* is a three digit integer, where the first digit is the\n",
      "    number of rows, the second the number of columns, and the third\n",
      "    the index of the subplot. i.e. fig.add_subplot(235) is the same as\n",
      "    fig.add_subplot(2, 3, 5). Note that all integers must be less than\n",
      "    10 for this form to work.\n",
      "\n",
      "projection : {None, 'aitoff', 'hammer', 'lambert', 'mollweide', 'polar', 'rectilinear', str}, optional\n",
      "    The projection type of the subplot (`~.axes.Axes`). *str* is the name\n",
      "    of a custom projection, see `~matplotlib.projections`. The default\n",
      "    None results in a 'rectilinear' projection.\n",
      "\n",
      "polar : boolean, optional\n",
      "    If True, equivalent to projection='polar'.\n",
      "\n",
      "sharex, sharey : `~.axes.Axes`, optional\n",
      "    Share the x or y `~matplotlib.axis` with sharex and/or sharey. The\n",
      "    axis will have the same limits, ticks, and scale as the axis of the\n",
      "    shared axes.\n",
      "\n",
      "label : str\n",
      "    A label for the returned axes.\n",
      "\n",
      "Other Parameters\n",
      "----------------\n",
      "**kwargs\n",
      "    This method also takes the keyword arguments for the returned axes\n",
      "    base class; except for the *figure* argument. The keyword arguments\n",
      "    for the rectilinear base class `~.axes.Axes` can be found in\n",
      "    the following table but there might also be other keyword\n",
      "    arguments if another projection is used.\n",
      "\n",
      "    Properties:\n",
      "    adjustable: {'box', 'datalim'}\n",
      "    agg_filter: a filter function, which takes a (m, n, 3) float array and a dpi value, and returns a (m, n, 3) array\n",
      "    alpha: float or None\n",
      "    anchor: 2-tuple of floats or {'C', 'SW', 'S', 'SE', ...}\n",
      "    animated: bool\n",
      "    aspect: {'auto', 'equal'} or num\n",
      "    autoscale_on: bool\n",
      "    autoscalex_on: bool\n",
      "    autoscaley_on: bool\n",
      "    axes_locator: Callable[[Axes, Renderer], Bbox]\n",
      "    axisbelow: bool or 'line'\n",
      "    clip_box: `.Bbox`\n",
      "    clip_on: bool\n",
      "    clip_path: Patch or (Path, Transform) or None\n",
      "    contains: callable\n",
      "    facecolor: color\n",
      "    fc: color\n",
      "    figure: `.Figure`\n",
      "    frame_on: bool\n",
      "    gid: str\n",
      "    in_layout: bool\n",
      "    label: object\n",
      "    navigate: bool\n",
      "    navigate_mode: unknown\n",
      "    path_effects: `.AbstractPathEffect`\n",
      "    picker: None or bool or float or callable\n",
      "    position: [left, bottom, width, height] or `~matplotlib.transforms.Bbox`\n",
      "    prop_cycle: unknown\n",
      "    rasterization_zorder: float or None\n",
      "    rasterized: bool or None\n",
      "    sketch_params: (scale: float, length: float, randomness: float)\n",
      "    snap: bool or None\n",
      "    title: str\n",
      "    transform: `.Transform`\n",
      "    url: str\n",
      "    visible: bool\n",
      "    xbound: unknown\n",
      "    xlabel: str\n",
      "    xlim: (bottom: float, top: float)\n",
      "    xmargin: float greater than -0.5\n",
      "    xscale: {\"linear\", \"log\", \"symlog\", \"logit\", ...}\n",
      "    xticklabels: List[str]\n",
      "    xticks: unknown\n",
      "    ybound: unknown\n",
      "    ylabel: str\n",
      "    ylim: (bottom: float, top: float)\n",
      "    ymargin: float greater than -0.5\n",
      "    yscale: {\"linear\", \"log\", \"symlog\", \"logit\", ...}\n",
      "    yticklabels: List[str]\n",
      "    yticks: unknown\n",
      "    zorder: float\n",
      "\n",
      "Returns\n",
      "-------\n",
      "axes : an `.axes.SubplotBase` subclass of `~.axes.Axes` (or a subclass     of `~.axes.Axes`)\n",
      "\n",
      "    The axes of the subplot. The returned axes base class depends on\n",
      "    the projection used. It is `~.axes.Axes` if rectilinear projection\n",
      "    are used and `.projections.polar.PolarAxes` if polar projection\n",
      "    are used. The returned axes is then a subplot subclass of the\n",
      "    base class.\n",
      "\n",
      "Notes\n",
      "-----\n",
      "Creating a subplot will delete any pre-existing subplot that overlaps\n",
      "with it beyond sharing a boundary::\n",
      "\n",
      "    import matplotlib.pyplot as plt\n",
      "    # plot a line, implicitly creating a subplot(111)\n",
      "    plt.plot([1, 2, 3])\n",
      "    # now create a subplot which represents the top plot of a grid\n",
      "    # with 2 rows and 1 column. Since this subplot will overlap the\n",
      "    # first, the plot (and its axes) previously created, will be removed\n",
      "    plt.subplot(211)\n",
      "\n",
      "If you do not want this behavior, use the `.Figure.add_subplot` method\n",
      "or the `.pyplot.axes` function instead.\n",
      "\n",
      "If the figure already has a subplot with key (*args*,\n",
      "*kwargs*) then it will simply make that subplot current and\n",
      "return it.  This behavior is deprecated. Meanwhile, if you do\n",
      "not want this behavior (i.e., you want to force the creation of a\n",
      "new subplot), you must use a unique set of args and kwargs.  The axes\n",
      "*label* attribute has been exposed for this purpose: if you want\n",
      "two subplots that are otherwise identical to be added to the figure,\n",
      "make sure you give them unique labels.\n",
      "\n",
      "In rare circumstances, `.add_subplot` may be called with a single\n",
      "argument, a subplot axes instance already created in the\n",
      "present figure but not in the figure's list of axes.\n",
      "\n",
      "See Also\n",
      "--------\n",
      ".Figure.add_subplot\n",
      ".pyplot.subplots\n",
      ".pyplot.axes\n",
      ".Figure.subplots\n",
      "\n",
      "Examples\n",
      "--------\n",
      "::\n",
      "\n",
      "    plt.subplot(221)\n",
      "\n",
      "    # equivalent but more general\n",
      "    ax1=plt.subplot(2, 2, 1)\n",
      "\n",
      "    # add a subplot with no frame\n",
      "    ax2=plt.subplot(222, frameon=False)\n",
      "\n",
      "    # add a polar subplot\n",
      "    plt.subplot(223, projection='polar')\n",
      "\n",
      "    # add a red subplot that shares the x-axis with ax1\n",
      "    plt.subplot(224, sharex=ax1, facecolor='red')\n",
      "\n",
      "    # delete ax2 from the figure\n",
      "    plt.delaxes(ax2)\n",
      "\n",
      "    # add ax2 to the figure again\n",
      "    plt.subplot(ax2)\n"
     ]
    }
   ],
   "source": [
    "# package matplotlib - module pyplot - function subplot alias sp - copy - attribute __doc__ - access\n",
    "print(sp.__doc__)"
   ]
  },
  {
   "cell_type": "markdown",
   "metadata": {},
   "source": [
    "- create subplot - rows - ``1`` - columns of plots - ``2`` - selecting the first plot - ``1`` [2.2]"
   ]
  },
  {
   "cell_type": "code",
   "execution_count": 5,
   "metadata": {},
   "outputs": [],
   "source": [
    "# package numpy - subpackage random - object Generator - method default_rng alias newGenBitGenPCG64 - instantiate\n",
    "nInsObjGBT=newGenBitGenPCG64()"
   ]
  },
  {
   "cell_type": "code",
   "execution_count": 6,
   "metadata": {},
   "outputs": [],
   "source": [
    "# package numpy - subpackage random - object Generator - method normal - arguments\n",
    "nMu,nSigma,nSize=0.0,0.1,1000\n",
    "# package numpy - subpackage random - object Generator - method normal - call\n",
    "nX=nInsObjGBT.normal(nMu,nSigma,nSize)"
   ]
  },
  {
   "cell_type": "code",
   "execution_count": 7,
   "metadata": {},
   "outputs": [
    {
     "data": {
      "text/plain": [
       "(array([ 10.,  33., 122., 223., 280., 201.,  99.,  24.,   6.,   2.]),\n",
       " array([-0.28952108, -0.22319947, -0.15687786, -0.09055625, -0.02423464,\n",
       "         0.04208697,  0.10840858,  0.17473019,  0.2410518 ,  0.30737341,\n",
       "         0.37369502]),\n",
       " <a list of 10 Patch objects>)"
      ]
     },
     "execution_count": 7,
     "metadata": {},
     "output_type": "execute_result"
    },
    {
     "data": {
      "image/png": "[encoded data removed]",
      "text/plain": [
       "<Figure size 640x480 with 1 Axes>"
      ]
     },
     "metadata": {},
     "output_type": "display_data"
    }
   ],
   "source": [
    "# package matplotlib - module pyplot - function subplot alias sp - call\n",
    "sp(1,2,1)\n",
    "# package matplotlib - module pyplot - function hist alias h - call\n",
    "h(nX)"
   ]
  },
  {
   "cell_type": "markdown",
   "metadata": {},
   "source": [
    "- create subplot - rows - ``1`` - columns of plots - ``2`` - selecting the second plot - ``2`` [2.2]"
   ]
  },
  {
   "cell_type": "code",
   "execution_count": 8,
   "metadata": {},
   "outputs": [],
   "source": [
    "# package numpy - subpackage random - object Generator - method uniform - arguments\n",
    "nLow,nHigh,nSize=-3.0,3.0,1000\n",
    "# package numpy - subpackage random - object Generator - method uniform - call\n",
    "nX=nInsObjGBT.uniform(nLow,nHigh,nSize)"
   ]
  },
  {
   "cell_type": "code",
   "execution_count": 9,
   "metadata": {},
   "outputs": [
    {
     "data": {
      "text/plain": [
       "(array([ 84., 118., 111.,  96., 105.,  95.,  94.,  98., 116.,  83.]),\n",
       " array([-2.99673976, -2.39800929, -1.79927882, -1.20054834, -0.60181787,\n",
       "        -0.0030874 ,  0.59564307,  1.19437355,  1.79310402,  2.39183449,\n",
       "         2.99056497]),\n",
       " <a list of 10 Patch objects>)"
      ]
     },
     "execution_count": 9,
     "metadata": {},
     "output_type": "execute_result"
    },
    {
     "data": {
      "image/png": "[encoded data removed]",
      "text/plain": [
       "<Figure size 640x480 with 1 Axes>"
      ]
     },
     "metadata": {},
     "output_type": "display_data"
    }
   ],
   "source": [
    "# package matplotlib - module pyplot - function subplot alias sp - call\n",
    "sp(1,2,2)\n",
    "# package matplotlib - module pyplot - function hist alias h - call\n",
    "h(nX)"
   ]
  },
  {
   "cell_type": "markdown",
   "metadata": {},
   "source": [
    "- two separate plots in the one window - two plots in the overall plot [2.2]"
   ]
  },
  {
   "cell_type": "markdown",
   "metadata": {},
   "source": [
    "- both plots have values - ``1000`` - note values axis - ``y`` [2.2]"
   ]
  },
  {
   "cell_type": "code",
   "execution_count": 10,
   "metadata": {},
   "outputs": [
    {
     "data": {
      "text/plain": [
       "(array([ 89., 104.,  90.,  95.,  95.,  91., 100., 106., 118., 112.]),\n",
       " array([-2.99637712e+00, -2.39692786e+00, -1.79747860e+00, -1.19802934e+00,\n",
       "        -5.98580080e-01,  8.69179461e-04,  6.00318438e-01,  1.19976770e+00,\n",
       "         1.79921696e+00,  2.39866622e+00,  2.99811547e+00]),\n",
       " <a list of 10 Patch objects>)"
      ]
     },
     "execution_count": 10,
     "metadata": {},
     "output_type": "execute_result"
    },
    {
     "data": {
      "image/png": "[encoded data removed]",
      "text/plain": [
       "<Figure size 640x480 with 2 Axes>"
      ]
     },
     "metadata": {},
     "output_type": "display_data"
    }
   ],
   "source": [
    "# package numpy - subpackage random - object Generator - method normal - arguments\n",
    "nMu,nSigma,nSize=0.0,0.1,1000\n",
    "# package numpy - subpackage random - object Generator - method normal - call\n",
    "nX=nInsObjGBT.normal(nMu,nSigma,nSize)\n",
    "# package matplotlib - module pyplot - function subplot alias sp - call\n",
    "sp(1,2,1)\n",
    "# package matplotlib - module pyplot - function hist alias h - call\n",
    "h(nX)\n",
    "# package numpy - subpackage random - object Generator - method uniform - arguments\n",
    "nLow,nHigh,nSize=-3.0,3.0,1000\n",
    "# package numpy - subpackage random - object Generator - method uniform - call\n",
    "nX=nInsObjGBT.uniform(nLow,nHigh,nSize)\n",
    "# package matplotlib - module pyplot - function subplot alias sp - call\n",
    "sp(1,2,2)\n",
    "# package matplotlib - module pyplot - function hist alias h - call\n",
    "h(nX)"
   ]
  },
  {
   "cell_type": "markdown",
   "metadata": {},
   "source": [
    "***\n",
    "# END"
   ]
  }
 ],
 "metadata": {
  "kernelspec": {
   "display_name": "Python 3",
   "language": "python",
   "name": "python3"
  },
  "language_info": {
   "codemirror_mode": {
    "name": "ipython",
    "version": 3
   },
   "file_extension": ".py",
   "mimetype": "text/x-python",
   "name": "python",
   "nbconvert_exporter": "python",
   "pygments_lexer": "ipython3",
   "version": "3.8.3"
  }
 },
 "nbformat": 4,
 "nbformat_minor": 4
}
