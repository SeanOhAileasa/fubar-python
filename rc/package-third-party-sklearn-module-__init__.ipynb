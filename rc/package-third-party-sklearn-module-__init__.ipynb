{
 "cells": [
  {
   "cell_type": "markdown",
   "metadata": {},
   "source": [
    "# package-third-party-sklearn-module-\\_\\_init\\_\\_\n",
    "> [TABLE OF CONTENTS](https://nbviewer.jupyter.org/github/SeanOhAileasa/fubar-python/blob/main/fubar-python.ipynb#top)\n",
    "***"
   ]
  },
  {
   "cell_type": "code",
   "execution_count": 1,
   "metadata": {},
   "outputs": [],
   "source": [
    "# b_T_hird_P_arty-imports\n",
    "import sklearn as skl"
   ]
  },
  {
   "cell_type": "code",
   "execution_count": 2,
   "metadata": {},
   "outputs": [
    {
     "data": {
      "text/plain": [
       "'C:\\\\Users\\\\E6985\\\\anaconda3\\\\lib\\\\site-packages\\\\sklearn\\\\__init__.py'"
      ]
     },
     "execution_count": 2,
     "metadata": {},
     "output_type": "execute_result"
    }
   ],
   "source": [
    "# package sklearn alias skl - attribute __file__ - access\n",
    "skl.__file__"
   ]
  },
  {
   "cell_type": "code",
   "execution_count": 3,
   "metadata": {
    "scrolled": false
   },
   "outputs": [
    {
     "name": "stdout",
     "output_type": "stream",
     "text": [
      "\"\"\"\n",
      "Machine learning module for Python\n",
      "==================================\n",
      "\n",
      "sklearn is a Python module integrating classical machine\n",
      "learning algorithms in the tightly-knit world of scientific Python\n",
      "packages (numpy, scipy, matplotlib).\n",
      "\n",
      "It aims to provide simple and efficient solutions to learning problems\n",
      "that are accessible to everybody and reusable in various contexts:\n",
      "machine-learning as a versatile tool for science and engineering.\n",
      "\n",
      "See http://scikit-learn.org for complete documentation.\n",
      "\"\"\"\n",
      "import sys\n",
      "import logging\n",
      "import os\n",
      "\n",
      "from ._config import get_config, set_config, config_context\n",
      "\n",
      "logger = logging.getLogger(__name__)\n",
      "\n",
      "\n",
      "# PEP0440 compatible formatted version, see:\n",
      "# https://www.python.org/dev/peps/pep-0440/\n",
      "#\n",
      "# Generic release markers:\n",
      "#   X.Y\n",
      "#   X.Y.Z   # For bugfix releases\n",
      "#\n",
      "# Admissible pre-release markers:\n",
      "#   X.YaN   # Alpha release\n",
      "#   X.YbN   # Beta release\n",
      "#   X.YrcN  # Release Candidate\n",
      "#   X.Y     # Final release\n",
      "#\n",
      "# Dev branch marker is: 'X.Y.dev' or 'X.Y.devN' where N is an integer.\n",
      "# 'X.Y.dev0' is the canonical version of 'X.Y.dev'\n",
      "#\n",
      "__version__ = '0.23.1'\n",
      "\n",
      "\n",
      "# On OSX, we can get a runtime error due to multiple OpenMP libraries loaded\n",
      "# simultaneously. This can happen for instance when calling BLAS inside a\n",
      "# prange. Setting the following environment variable allows multiple OpenMP\n",
      "# libraries to be loaded. It should not degrade performances since we manually\n",
      "# take care of potential over-subcription performance issues, in sections of\n",
      "# the code where nested OpenMP loops can happen, by dynamically reconfiguring\n",
      "# the inner OpenMP runtime to temporarily disable it while under the scope of\n",
      "# the outer OpenMP parallel section.\n",
      "os.environ.setdefault(\"KMP_DUPLICATE_LIB_OK\", \"True\")\n",
      "\n",
      "# Workaround issue discovered in intel-openmp 2019.5:\n",
      "# https://github.com/ContinuumIO/anaconda-issues/issues/11294\n",
      "os.environ.setdefault(\"KMP_INIT_AT_FORK\", \"FALSE\")\n",
      "\n",
      "try:\n",
      "    # This variable is injected in the __builtins__ by the build\n",
      "    # process. It is used to enable importing subpackages of sklearn when\n",
      "    # the binaries are not built\n",
      "    # mypy error: Cannot determine type of '__SKLEARN_SETUP__'\n",
      "    __SKLEARN_SETUP__  # type: ignore\n",
      "except NameError:\n",
      "    __SKLEARN_SETUP__ = False\n",
      "\n",
      "if __SKLEARN_SETUP__:\n",
      "    sys.stderr.write('Partial import of sklearn during the build process.\\n')\n",
      "    # We are not importing the rest of scikit-learn during the build\n",
      "    # process, as it may not be compiled yet\n",
      "else:\n",
      "    # `_distributor_init` allows distributors to run custom init code.\n",
      "    # For instance, for the Windows wheel, this is used to pre-load the\n",
      "    # vcomp shared library runtime for OpenMP embedded in the sklearn/.libs\n",
      "    # sub-folder.\n",
      "    # It is necessary to do this prior to importing show_versions as the\n",
      "    # later is linked to the OpenMP runtime to make it possible to introspect\n",
      "    # it and importing it first would fail if the OpenMP dll cannot be found.\n",
      "    from . import _distributor_init  # noqa: F401\n",
      "    from . import __check_build  # noqa: F401\n",
      "    from .base import clone\n",
      "    from .utils._show_versions import show_versions\n",
      "\n",
      "    __all__ = ['calibration', 'cluster', 'covariance', 'cross_decomposition',\n",
      "               'datasets', 'decomposition', 'dummy', 'ensemble', 'exceptions',\n",
      "               'experimental', 'externals', 'feature_extraction',\n",
      "               'feature_selection', 'gaussian_process', 'inspection',\n",
      "               'isotonic', 'kernel_approximation', 'kernel_ridge',\n",
      "               'linear_model', 'manifold', 'metrics', 'mixture',\n",
      "               'model_selection', 'multiclass', 'multioutput',\n",
      "               'naive_bayes', 'neighbors', 'neural_network', 'pipeline',\n",
      "               'preprocessing', 'random_projection', 'semi_supervised',\n",
      "               'svm', 'tree', 'discriminant_analysis', 'impute', 'compose',\n",
      "               # Non-modules:\n",
      "               'clone', 'get_config', 'set_config', 'config_context',\n",
      "               'show_versions']\n",
      "\n",
      "\n",
      "def setup_module(module):\n",
      "    \"\"\"Fixture for the tests to assure globally controllable seeding of RNGs\"\"\"\n",
      "    import os\n",
      "    import numpy as np\n",
      "    import random\n",
      "\n",
      "    # Check if a random seed exists in the environment, if not create one.\n",
      "    _random_seed = os.environ.get('SKLEARN_SEED', None)\n",
      "    if _random_seed is None:\n",
      "        _random_seed = np.random.uniform() * np.iinfo(np.int32).max\n",
      "    _random_seed = int(_random_seed)\n",
      "    print(\"I: Seeding RNGs with %r\" % _random_seed)\n",
      "    np.random.seed(_random_seed)\n",
      "    random.seed(_random_seed)\n"
     ]
    }
   ],
   "source": [
    "%%script bash\n",
    "cat ~/anaconda3/lib/site-packages/sklearn/__init__.py"
   ]
  },
  {
   "cell_type": "markdown",
   "metadata": {},
   "source": [
    "***\n",
    "# END"
   ]
  }
 ],
 "metadata": {
  "kernelspec": {
   "display_name": "Python 3",
   "language": "python",
   "name": "python3"
  },
  "language_info": {
   "codemirror_mode": {
    "name": "ipython",
    "version": 3
   },
   "file_extension": ".py",
   "mimetype": "text/x-python",
   "name": "python",
   "nbconvert_exporter": "python",
   "pygments_lexer": "ipython3",
   "version": "3.8.3"
  }
 },
 "nbformat": 4,
 "nbformat_minor": 4
}
