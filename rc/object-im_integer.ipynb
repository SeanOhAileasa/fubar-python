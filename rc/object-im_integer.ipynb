{
 "cells": [
  {
   "cell_type": "markdown",
   "metadata": {},
   "source": [
    "# object-im\\_integer\n",
    "> [TABLE OF CONTENTS](https://nbviewer.jupyter.org/github/SeanOhAileasa/fubar-python/blob/main/fubar-python.ipynb#top)\n",
    "***"
   ]
  },
  {
   "cell_type": "markdown",
   "metadata": {},
   "source": [
    "- language - C - variable - best thought of as containers or buckets into which data is stored - in C - essentially defining a memory bucket and putting a value into it - statically typed language - type-safety that comes with declarations [1.14] - defines the variable - x - this one line of code has several distinct steps when executed i) allocate enought memory for an integer ii) assign the value - 2337 - to that memory location iii) indicate that - x - points to that value [4.4]\n",
    "```\n",
    "int x=2337;\n",
    "```"
   ]
  },
  {
   "cell_type": "markdown",
   "metadata": {},
   "source": [
    "<img src=\"img/object-variable-4_4_1-c-variable.png\">"
   ]
  },
  {
   "cell_type": "markdown",
   "metadata": {},
   "source": [
    "- the variable - x - memory location of - 0x7f1 - plus the value - 2337 - later in the program to change the value of - x - now assigns a new value - 2338 - to the variable - x - thereby overwriting the previous value - means the variable - x - is mutable [4.4]\n",
    "```\n",
    "x=2338;\n",
    "```"
   ]
  },
  {
   "cell_type": "markdown",
   "metadata": {},
   "source": [
    "<img src=\"img/object-variable-4_4_2-c-variable-new-value.png\">"
   ]
  },
  {
   "cell_type": "markdown",
   "metadata": {},
   "source": [
    "- note the location of - x - did not change - just the value itself - this is a significant point - means that - x - is the memory location and not just a name for it - another way to think of this concept is in terms of ownership - x - owns the memory location - x - is at first an empty box that can fix exactly one integer in which integer values can be stored - assigning a value to - x - placing a value in the box that - x - owns - introducing a new variable - y - creates a new box called - y - copies the value from - x - into the box [4.4]\n",
    "```\n",
    "int y=x;\n",
    "```"
   ]
  },
  {
   "cell_type": "markdown",
   "metadata": {},
   "source": [
    "<img src=\"img/object-variable-4_4_3-c-variable-new-variable.png\">"
   ]
  },
  {
   "cell_type": "markdown",
   "metadata": {},
   "source": [
    "- y - new location - 0x7f5 - even though the value of - x - was copied to - y - the variable - y - owns some new address in memory - therefore could overwrite the value of - y - without affecting - x [4.4]]\n",
    "```\n",
    "y=2339;\n",
    "```"
   ]
  },
  {
   "cell_type": "markdown",
   "metadata": {},
   "source": [
    "<img src=\"img/object-variable-4_4_4-c-variable-new-y.png\">"
   ]
  },
  {
   "cell_type": "markdown",
   "metadata": {},
   "source": [
    "- again modified the value at - y - but not its location - in addition not affected the original - x - variable at all - this is in stark contrast with how python - names - work - python variables are fundamentally different than variables in - C - C++ - in fact python does not even have variables - python has names - not variables - albeit acceptable to think about python names as variables - there is a difference between variables and python names [4.4]\n",
    "\n",
    "\n",
    "- C code - - distinct steps when executed i) allocate enought memory for an integer ii) assign the value - 2337 - to that memory location iii) indicate that - x - points to that value [4.4]\n",
    "\n",
    "```\n",
    "x=2337;\n",
    "```\n",
    "\n",
    "\n",
    "- python code - distinct steps when executed i) create a - PyObject ii) set the - typecode - to - integer - for the - PyObject iii) set the value - 2337 - for the - PyObject v) create a - name - called - x vi) point - x - to the new - PyObject vii) increase the - reference count/refcount - of the - PyObject - by one [4.4]\n",
    "\n",
    "```python\n",
    "x=2337\n",
    "```\n"
   ]
  },
  {
   "cell_type": "markdown",
   "metadata": {},
   "source": [
    "<img src=\"img/object-variable-4_4_5-python-name-pyobject.png\">"
   ]
  },
  {
   "cell_type": "markdown",
   "metadata": {},
   "source": [
    "- the memory layout is vastly different than the - C - layout [4.4]"
   ]
  },
  {
   "cell_type": "markdown",
   "metadata": {},
   "source": [
    "<img src=\"img/object-variable-4_4_1-c-variable.png\">"
   ]
  },
  {
   "cell_type": "markdown",
   "metadata": {},
   "source": [
    "- as in C - instead of - x - owning the block of memory where the value - 2337 - resides now the newly created python - object - owns the memory where - 2337 - lives - the python - name - x - does not directly own any memory address in the way the - C variable - owned a static slot in memory - assigning a new value to - x - in python\n",
    "```python\n",
    "x=2338\n",
    "```\n",
    "- whats happening is different than the - C - equivalent but not too different from the original bind in python - the code - i) creates a new - PyObject ii) sets the - typecode - to - integer - for the - PyObject - iii) sets the value to - 2338 - for the - PyObject - v) points - x - to the new - PyObject vi) increases the - reference count/refcount - of the new - PyObject - by one - vii) decreases the - reference count/refcount - of the old - PyObject - by one [4.4]"
   ]
  },
  {
   "cell_type": "markdown",
   "metadata": {},
   "source": [
    "<img src=\"img/object-variable-4_4_6-python-name-assign-new.png\">"
   ]
  },
  {
   "cell_type": "markdown",
   "metadata": {},
   "source": [
    "- x - points to a reference to an - object - and does not own the memory space as it did before - it also shows that the command\n",
    "```python\n",
    "x=2338\n",
    "```\n",
    "- is not an assignment but rather binds the - name - x - to a reference - in addition the previous object - which held the 2337 value - is now sitting in memory with a - reference count/refcount - of zero and will get cleaned by the - garbage collector - introducing a new name - y\n",
    "```python\n",
    "y=x\n",
    "```\n",
    "- in memory - new name - y - but not necessarily a new object - a new python - object - has not been created just a new name that points to the same - object - also note the objects - reference count/refcount - has increased by one - can check for - object identy equality to confirm that they are the same [4.4]"
   ]
  },
  {
   "cell_type": "markdown",
   "metadata": {},
   "source": [
    "<img src=\"img/object-variable-4_4_7-python-new-name.png\">"
   ]
  },
  {
   "cell_type": "code",
   "execution_count": 1,
   "metadata": {},
   "outputs": [
    {
     "data": {
      "text/plain": [
       "True"
      ]
     },
     "execution_count": 1,
     "metadata": {},
     "output_type": "execute_result"
    }
   ],
   "source": [
    "x=2338\n",
    "y=x\n",
    "y is x"
   ]
  },
  {
   "cell_type": "markdown",
   "metadata": {},
   "source": [
    "```python\n",
    "id(object)\n",
    "```\n",
    "> [Python Documentation](https://web.archive.org/web/20200502105905/https://docs.python.org/3/library/functions.html#id)"
   ]
  },
  {
   "cell_type": "code",
   "execution_count": 2,
   "metadata": {},
   "outputs": [
    {
     "data": {
      "text/plain": [
       "1446347886384"
      ]
     },
     "execution_count": 2,
     "metadata": {},
     "output_type": "execute_result"
    }
   ],
   "source": [
    "id(x)"
   ]
  },
  {
   "cell_type": "code",
   "execution_count": 3,
   "metadata": {},
   "outputs": [
    {
     "data": {
      "text/plain": [
       "1446347886384"
      ]
     },
     "execution_count": 3,
     "metadata": {},
     "output_type": "execute_result"
    }
   ],
   "source": [
    "id(y)"
   ]
  },
  {
   "cell_type": "markdown",
   "metadata": {},
   "source": [
    "- indicates that - x - y - are the same object - make no mistake though - y - is still immutable - performing addition on - y [4.4]"
   ]
  },
  {
   "cell_type": "code",
   "execution_count": 4,
   "metadata": {},
   "outputs": [
    {
     "data": {
      "text/plain": [
       "2339"
      ]
     },
     "execution_count": 4,
     "metadata": {},
     "output_type": "execute_result"
    }
   ],
   "source": [
    "y+=1\n",
    "y"
   ]
  },
  {
   "cell_type": "code",
   "execution_count": 5,
   "metadata": {},
   "outputs": [
    {
     "data": {
      "text/plain": [
       "1446348309040"
      ]
     },
     "execution_count": 5,
     "metadata": {},
     "output_type": "execute_result"
    }
   ],
   "source": [
    "id(y)"
   ]
  },
  {
   "cell_type": "code",
   "execution_count": 6,
   "metadata": {},
   "outputs": [
    {
     "data": {
      "text/plain": [
       "False"
      ]
     },
     "execution_count": 6,
     "metadata": {},
     "output_type": "execute_result"
    }
   ],
   "source": [
    "y is x"
   ]
  },
  {
   "cell_type": "markdown",
   "metadata": {},
   "source": [
    "- after the addition call - returned is a new python - object - y - now points to the new - object - steps when executed i) create a - PyObject ii) set the - typecode - to - integer - for the - PyObject iii) set the value - 2339 - for the - PyObject v) point - y - to the new - PyObject vi) increase the - reference count/refcount - of the - PyObject - by one [4.4] vii) decreases the - reference count/refcount - of the old - PyObject [4.4]"
   ]
  },
  {
   "cell_type": "markdown",
   "metadata": {},
   "source": [
    "<img src=\"img/object-variable-4_4_8-python-new-object.png\">"
   ]
  },
  {
   "cell_type": "markdown",
   "metadata": {},
   "source": [
    "- interestingly this is the same end-memory state if had bound - y - to 2339 - directly - python does not assign - variables - instead binds - names - to - references [4.4]\n",
    "```python\n",
    "y=2339\n",
    "```"
   ]
  },
  {
   "cell_type": "markdown",
   "metadata": {},
   "source": [
    "- statically typed languages - C - Java - requires each variable to be [9.34] explicitly declared - dynamically typed - python - skips this specification - types are dynamically inferred - can assign any kind of data to any variable [9.35] - no variables in python - name and variable used interchangeable [4.4]"
   ]
  },
  {
   "cell_type": "markdown",
   "metadata": {},
   "source": [
    "- standard python implementation - written in C - means that every python object is simply a cleverly disguised - C structure - which contains not only its value but other information as well [9.35]"
   ]
  },
  {
   "cell_type": "markdown",
   "metadata": {},
   "source": [
    "- define integer - `n=1000` - not just raw integer - pointer to a compound C structure which contains several values - python3.4 source code - the integer - long - definition once C macros are expanded [9.35]\n",
    "\n",
    "```c\n",
    "struct _longobject {\n",
    "\tlong ob_refcnt;\n",
    "\tPyTypeObject *ob_type;\n",
    "\tsize_t ob_size;\n",
    "\tlong ob_digit[1];\n",
    "};\n",
    "```"
   ]
  },
  {
   "cell_type": "markdown",
   "metadata": {},
   "source": [
    "- single integer - python3.4 - i) `ob_refcnt` - reference count that helps python silently handle memory - allocation - deallocation - ii) `ob_type` - encodes the type of the name - iii) `ob_size` - specifies the size of the following data members - iv) `ob_digit` - contains actual integer value expect the python name to represent [9.36]"
   ]
  },
  {
   "cell_type": "markdown",
   "metadata": {},
   "source": [
    "- there is some overhead in storing an integer in python as compared to an integer in a compiled language - `PyObject_HEAD` - is the part of the structure containing - reference count - type code etc - a C integer is essentially a label for a position in memory whose bytes encode an integer value - a python integer is a pointer to a position in memory containing all the python object information - including the bytes that contain the integer value - this extra information in the python integer structure is what allows python to be coded so freely and dynamically - all this additional information in python types comes at a cost - which becomes especially apparent in structures that combine many of these objects - lists [9.36]"
   ]
  },
  {
   "cell_type": "markdown",
   "metadata": {},
   "source": [
    "<img src=\"img/object-variable_9_36.png\" />"
   ]
  },
  {
   "cell_type": "markdown",
   "metadata": {},
   "source": [
    "***\n",
    "# END"
   ]
  }
 ],
 "metadata": {
  "kernelspec": {
   "display_name": "Python 3",
   "language": "python",
   "name": "python3"
  },
  "language_info": {
   "codemirror_mode": {
    "name": "ipython",
    "version": 3
   },
   "file_extension": ".py",
   "mimetype": "text/x-python",
   "name": "python",
   "nbconvert_exporter": "python",
   "pygments_lexer": "ipython3",
   "version": "3.8.3"
  }
 },
 "nbformat": 4,
 "nbformat_minor": 4
}
