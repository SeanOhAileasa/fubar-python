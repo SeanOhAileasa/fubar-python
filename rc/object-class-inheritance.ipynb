{
 "cells": [
  {
   "cell_type": "markdown",
   "metadata": {},
   "source": [
    "# object-class-inheritance\n",
    "> [TABLE OF CONTENTS](https://nbviewer.jupyter.org/github/SeanOhAileasa/fubar-python/blob/main/fubar-python.ipynb#top)\n",
    "***"
   ]
  },
  {
   "cell_type": "markdown",
   "metadata": {},
   "source": [
    "- inheritance - is the process by which one - class - takes on the - attributes and methods - of another class - newly formed classes are called - child classes - the classes that child classes are derived from are called - parent classes - note that child classes override or extend the functionality - attributes and behaviours - of parent classes - in other words child classes inherit all of the parents attributes and behaviours but can also specify different behaviour to follow - most basic type of class is an - object - which generally all other classes inherit as their parent - python3 implicitly uses - object - as the parent class - both are the same [3.7]"
   ]
  },
  {
   "cell_type": "code",
   "execution_count": 1,
   "metadata": {},
   "outputs": [],
   "source": [
    "# define class - PCDog\n",
    "class PCDog(object):\n",
    "    pass"
   ]
  },
  {
   "cell_type": "code",
   "execution_count": 2,
   "metadata": {},
   "outputs": [],
   "source": [
    "# define class - PCDog\n",
    "class PCDog:\n",
    "    pass"
   ]
  },
  {
   "cell_type": "markdown",
   "metadata": {},
   "source": [
    "- pretend at a dog park - multiple dogs - objects - engaging in dog behaviours - each with different attributes - regular-speak means - some dogs are running - some are stretching - some just watching other dogs - furthermore each dog has been named by its owner and since each dog is living and breathing each dog ages - another way to differentiate one dog from another - the dogs breed [3.7]"
   ]
  },
  {
   "cell_type": "code",
   "execution_count": 3,
   "metadata": {},
   "outputs": [],
   "source": [
    "# define class - PCDog\n",
    "class PCDog:\n",
    "    # instance attributes - initialiser\n",
    "    def __init__(self,nInsAttBreed):\n",
    "        self.nInsAttBreed=nInsAttBreed"
   ]
  },
  {
   "cell_type": "code",
   "execution_count": 4,
   "metadata": {},
   "outputs": [],
   "source": [
    "# instantiate the object - PCDog\n",
    "nInsObjSpencer=PCDog(\"German Shepard\")"
   ]
  },
  {
   "cell_type": "code",
   "execution_count": 5,
   "metadata": {},
   "outputs": [
    {
     "data": {
      "text/plain": [
       "'German Shepard'"
      ]
     },
     "execution_count": 5,
     "metadata": {},
     "output_type": "execute_result"
    }
   ],
   "source": [
    "# instance attributes - access\n",
    "nInsObjSpencer.nInsAttBreed"
   ]
  },
  {
   "cell_type": "code",
   "execution_count": 6,
   "metadata": {},
   "outputs": [],
   "source": [
    "# instantiate the object - PCDog\n",
    "nInsObjBob=PCDog(\"Springer Spaniel\")"
   ]
  },
  {
   "cell_type": "code",
   "execution_count": 7,
   "metadata": {},
   "outputs": [
    {
     "data": {
      "text/plain": [
       "'Springer Spaniel'"
      ]
     },
     "execution_count": 7,
     "metadata": {},
     "output_type": "execute_result"
    }
   ],
   "source": [
    "# instance attributes - access\n",
    "nInsObjBob.nInsAttBreed"
   ]
  },
  {
   "cell_type": "markdown",
   "metadata": {},
   "source": [
    "- each breed of dog has slightly different behaviours - to take these into account creating separate classes for each breed - these are - child - classes of the - parent - PCDog - class [3.7]"
   ]
  },
  {
   "cell_type": "markdown",
   "metadata": {},
   "source": [
    "```python\n",
    "class str(object='')\n",
    "class str(object=b'', encoding='utf-8', errors='strict')\n",
    "```\n",
    "> [Python Documentation](https://web.archive.org/web/20200503112950/https://docs.python.org/3/library/functions.html#func-str)"
   ]
  },
  {
   "cell_type": "markdown",
   "metadata": {},
   "source": [
    "```python\n",
    "str.format(*args, **kwargs)\n",
    "```\n",
    "> [Python Documentation](https://web.archive.org/web/20200502135931/https://docs.python.org/3/library/stdtypes.html#string-methods)"
   ]
  },
  {
   "cell_type": "code",
   "execution_count": 8,
   "metadata": {},
   "outputs": [],
   "source": [
    "# define class - PCDog\n",
    "class PCDog:\n",
    "    # class attributes\n",
    "    nClsAttSpecies=\"mammal\"\n",
    "    # instance attributes - initialiser\n",
    "    def __init__(self,nInsAttName,nInsAttAge):\n",
    "        self.nInsAttName=nInsAttName\n",
    "        self.nInsAttAge=nInsAttAge\n",
    "    # instance methods\n",
    "    def fInsMetDescription(self):\n",
    "        return \"{} is {} years old\".format(self.nInsAttName,self.nInsAttAge)\n",
    "    def fInsMetSound(self,nInsMetParSound):\n",
    "        return \"{} says {}\".format(self.nInsAttName,nInsMetParSound)"
   ]
  },
  {
   "cell_type": "markdown",
   "metadata": {},
   "source": [
    "- child class - CCDogGermanShepard - inherits from parent class - PCDog [3.7]"
   ]
  },
  {
   "cell_type": "code",
   "execution_count": 9,
   "metadata": {},
   "outputs": [],
   "source": [
    "# define class - CCDogGermanShepard\n",
    "class CCDogGermanShepard(PCDog):\n",
    "    # instance methods\n",
    "    def fInsMetRun(self,nInsMetParSpeed):\n",
    "        return \"{} runs {}\".format(self.nInsAttName,nInsMetParSpeed)"
   ]
  },
  {
   "cell_type": "markdown",
   "metadata": {},
   "source": [
    "- child class - CCDogSpringerSpaniel - inherits from parent class - PCDog"
   ]
  },
  {
   "cell_type": "code",
   "execution_count": 10,
   "metadata": {},
   "outputs": [],
   "source": [
    "# define class - CCDogSpringerSpaniel\n",
    "class CCDogSpringerSpaniel(PCDog):    \n",
    "    # instance methods\n",
    "    def fInsMetRun(self,nInsMetParSpeed):\n",
    "        return \"{} runs {}\".format(self.nInsAttName,nInsMetParSpeed)"
   ]
  },
  {
   "cell_type": "markdown",
   "metadata": {},
   "source": [
    "- child classes inherit attributes and behaviours from the parent class - note not adding any special attributes or methods to differentiate a - CCDogGermanShepard - from a - CCDogSpringerSpaniel - given they are now two different classes can for instance give them different class attributes defining their respective speeds [3.7]"
   ]
  },
  {
   "cell_type": "code",
   "execution_count": 11,
   "metadata": {},
   "outputs": [],
   "source": [
    "# instantiate the object - CCDogSpringerSpaniel\n",
    "nBob=CCDogSpringerSpaniel(\"bob\",13)"
   ]
  },
  {
   "cell_type": "code",
   "execution_count": 12,
   "metadata": {},
   "outputs": [
    {
     "data": {
      "text/plain": [
       "'bob is 13 years old'"
      ]
     },
     "execution_count": 12,
     "metadata": {},
     "output_type": "execute_result"
    }
   ],
   "source": [
    "# instance methods - call\n",
    "nBob.fInsMetDescription()"
   ]
  },
  {
   "cell_type": "markdown",
   "metadata": {},
   "source": [
    "- child classes have specific attributes and behaviours as well [3.7]"
   ]
  },
  {
   "cell_type": "markdown",
   "metadata": {},
   "source": [
    "```python\n",
    "print(*objects, sep=' ', end='\\n', file=sys.stdout, flush=False)\n",
    "```\n",
    "> [Python Documentation](https://web.archive.org/web/20200514154635/https://docs.python.org/3/library/functions.html#print)"
   ]
  },
  {
   "cell_type": "code",
   "execution_count": 13,
   "metadata": {},
   "outputs": [
    {
     "name": "stdout",
     "output_type": "stream",
     "text": [
      "bob runs slowly\n"
     ]
    }
   ],
   "source": [
    "# instance methods - call\n",
    "print(nBob.fInsMetRun(\"slowly\"))"
   ]
  },
  {
   "cell_type": "markdown",
   "metadata": {},
   "source": [
    "```python\n",
    "isinstance(object, classinfo)\n",
    "```\n",
    "> [Python Documentation](https://web.archive.org/web/20200502105905/https://docs.python.org/3/library/functions.html#isinstance)"
   ]
  },
  {
   "cell_type": "markdown",
   "metadata": {},
   "source": [
    "- determine if an instance is also an instance of a certain class - parent or child - check if - nBob - is an instance of parent class - PCDog - is an instance of the parent class - PCDog [3.7]"
   ]
  },
  {
   "cell_type": "code",
   "execution_count": 14,
   "metadata": {},
   "outputs": [
    {
     "data": {
      "text/plain": [
       "True"
      ]
     },
     "execution_count": 14,
     "metadata": {},
     "output_type": "execute_result"
    }
   ],
   "source": [
    "isinstance(nBob,PCDog)"
   ]
  },
  {
   "cell_type": "markdown",
   "metadata": {},
   "source": [
    "- check if - nBob - is an instance of child class - CCDogSpringerSpaniel - is an instance of the child class - CCDogSpringerSpaniel [3.7]"
   ]
  },
  {
   "cell_type": "code",
   "execution_count": 15,
   "metadata": {},
   "outputs": [
    {
     "data": {
      "text/plain": [
       "True"
      ]
     },
     "execution_count": 15,
     "metadata": {},
     "output_type": "execute_result"
    }
   ],
   "source": [
    "isinstance(nBob,CCDogSpringerSpaniel)"
   ]
  },
  {
   "cell_type": "markdown",
   "metadata": {},
   "source": [
    "- check if - nBob - is an instance of child class - CCDogGermanShepard - is not an instance of the child class - CCDogGermanShepard [3.7]"
   ]
  },
  {
   "cell_type": "code",
   "execution_count": 16,
   "metadata": {},
   "outputs": [
    {
     "data": {
      "text/plain": [
       "False"
      ]
     },
     "execution_count": 16,
     "metadata": {},
     "output_type": "execute_result"
    }
   ],
   "source": [
    "isinstance(nBob,CCDogGermanShepard)"
   ]
  },
  {
   "cell_type": "markdown",
   "metadata": {},
   "source": [
    "- checking if - nBob - is an instance of - nTom - note this is impossible since both are instances of a class rather than a class itself - TypeError [3.7]"
   ]
  },
  {
   "cell_type": "code",
   "execution_count": 17,
   "metadata": {},
   "outputs": [
    {
     "ename": "TypeError",
     "evalue": "isinstance() arg 2 must be a type or tuple of types",
     "output_type": "error",
     "traceback": [
      "\u001b[1;31m---------------------------------------------------------------------------\u001b[0m",
      "\u001b[1;31mTypeError\u001b[0m                                 Traceback (most recent call last)",
      "\u001b[1;32m<ipython-input-17-796f068ff0c4>\u001b[0m in \u001b[0;36m<module>\u001b[1;34m\u001b[0m\n\u001b[0;32m      1\u001b[0m \u001b[1;31m# instantiate the object - CCDogGermanShepard\u001b[0m\u001b[1;33m\u001b[0m\u001b[1;33m\u001b[0m\u001b[1;33m\u001b[0m\u001b[0m\n\u001b[0;32m      2\u001b[0m \u001b[0mnTom\u001b[0m\u001b[1;33m=\u001b[0m\u001b[0mCCDogGermanShepard\u001b[0m\u001b[1;33m(\u001b[0m\u001b[1;34m\"tom\"\u001b[0m\u001b[1;33m,\u001b[0m\u001b[1;36m3\u001b[0m\u001b[1;33m)\u001b[0m\u001b[1;33m\u001b[0m\u001b[1;33m\u001b[0m\u001b[0m\n\u001b[1;32m----> 3\u001b[1;33m \u001b[0misinstance\u001b[0m\u001b[1;33m(\u001b[0m\u001b[0mnTom\u001b[0m\u001b[1;33m,\u001b[0m\u001b[0mnBob\u001b[0m\u001b[1;33m)\u001b[0m\u001b[1;33m\u001b[0m\u001b[1;33m\u001b[0m\u001b[0m\n\u001b[0m",
      "\u001b[1;31mTypeError\u001b[0m: isinstance() arg 2 must be a type or tuple of types"
     ]
    }
   ],
   "source": [
    "# instantiate the object - CCDogGermanShepard\n",
    "nTom=CCDogGermanShepard(\"tom\",3)\n",
    "isinstance(nTom,nBob)"
   ]
  },
  {
   "cell_type": "markdown",
   "metadata": {},
   "source": [
    "- overriding the functionality of a parent class - child classes can override - attributes and behaviours - from the parent class [3.7]"
   ]
  },
  {
   "cell_type": "code",
   "execution_count": 18,
   "metadata": {},
   "outputs": [],
   "source": [
    "# define class - PCDog\n",
    "class PCDog:\n",
    "    # class attributes\n",
    "    nClsAttSpecies=\"mammal\""
   ]
  },
  {
   "cell_type": "code",
   "execution_count": 19,
   "metadata": {},
   "outputs": [],
   "source": [
    "# define class - PCDog\n",
    "class CCDogOther(PCDog):\n",
    "    pass"
   ]
  },
  {
   "cell_type": "code",
   "execution_count": 20,
   "metadata": {},
   "outputs": [],
   "source": [
    "# define class - PCDog\n",
    "class CCDogAnother(PCDog):\n",
    "    # class attributes\n",
    "    nClsAttSpecies=\"reptile\""
   ]
  },
  {
   "cell_type": "code",
   "execution_count": 21,
   "metadata": {},
   "outputs": [],
   "source": [
    "# instantiate the object - CCDogOther\n",
    "nAnn=CCDogOther()"
   ]
  },
  {
   "cell_type": "code",
   "execution_count": 22,
   "metadata": {},
   "outputs": [
    {
     "data": {
      "text/plain": [
       "'mammal'"
      ]
     },
     "execution_count": 22,
     "metadata": {},
     "output_type": "execute_result"
    }
   ],
   "source": [
    "# class attributes - access\n",
    "nAnn.nClsAttSpecies"
   ]
  },
  {
   "cell_type": "markdown",
   "metadata": {},
   "source": [
    "- the class - CCDogOther - inherits the class attribute - species - from the parent class - PCDog - while the class - CCDogAnother - overrides - species - setting it to reptile [3.7]"
   ]
  },
  {
   "cell_type": "code",
   "execution_count": 23,
   "metadata": {},
   "outputs": [],
   "source": [
    "# instantiate the object - CCDogAnother\n",
    "nTed=CCDogAnother()"
   ]
  },
  {
   "cell_type": "code",
   "execution_count": 24,
   "metadata": {},
   "outputs": [
    {
     "data": {
      "text/plain": [
       "'reptile'"
      ]
     },
     "execution_count": 24,
     "metadata": {},
     "output_type": "execute_result"
    }
   ],
   "source": [
    "# class attributes - access\n",
    "nTed.nClsAttSpecies"
   ]
  },
  {
   "cell_type": "markdown",
   "metadata": {},
   "source": [
    "***\n",
    "# END"
   ]
  }
 ],
 "metadata": {
  "kernelspec": {
   "display_name": "Python 3",
   "language": "python",
   "name": "python3"
  },
  "language_info": {
   "codemirror_mode": {
    "name": "ipython",
    "version": 3
   },
   "file_extension": ".py",
   "mimetype": "text/x-python",
   "name": "python",
   "nbconvert_exporter": "python",
   "pygments_lexer": "ipython3",
   "version": "3.8.3"
  }
 },
 "nbformat": 4,
 "nbformat_minor": 4
}
