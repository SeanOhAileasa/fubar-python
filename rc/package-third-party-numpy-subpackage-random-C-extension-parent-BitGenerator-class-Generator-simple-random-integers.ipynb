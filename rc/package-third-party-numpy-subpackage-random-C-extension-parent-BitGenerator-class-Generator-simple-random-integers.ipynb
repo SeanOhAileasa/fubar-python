{
 "cells": [
  {
   "cell_type": "markdown",
   "metadata": {},
   "source": [
    "# package-third-party-numpy-subpackage-random-C-extension-parent-BitGenerator-class-Generator-simple-random-integers\n",
    "> [TABLE OF CONTENTS](https://nbviewer.jupyter.org/github/SeanOhAileasa/fubar-python/blob/main/fubar-python.ipynb#top)\n",
    "***"
   ]
  },
  {
   "cell_type": "code",
   "execution_count": 1,
   "metadata": {
    "scrolled": true
   },
   "outputs": [],
   "source": [
    "# b_T_hird_P_arty-imports\n",
    "from numpy.random import default_rng as newGenBitGenPCG64"
   ]
  },
  {
   "cell_type": "code",
   "execution_count": 2,
   "metadata": {},
   "outputs": [
    {
     "name": "stdout",
     "output_type": "stream",
     "text": [
      "\n",
      "        integers(low, high=None, size=None, dtype=np.int64, endpoint=False)\n",
      "\n",
      "        Return random integers from `low` (inclusive) to `high` (exclusive), or\n",
      "        if endpoint=True, `low` (inclusive) to `high` (inclusive). Replaces\n",
      "        `RandomState.randint` (with endpoint=False) and\n",
      "        `RandomState.random_integers` (with endpoint=True)\n",
      "\n",
      "        Return random integers from the \"discrete uniform\" distribution of\n",
      "        the specified dtype. If `high` is None (the default), then results are\n",
      "        from 0 to `low`.\n",
      "\n",
      "        Parameters\n",
      "        ----------\n",
      "        low : int or array-like of ints\n",
      "            Lowest (signed) integers to be drawn from the distribution (unless\n",
      "            ``high=None``, in which case this parameter is 0 and this value is\n",
      "            used for `high`).\n",
      "        high : int or array-like of ints, optional\n",
      "            If provided, one above the largest (signed) integer to be drawn\n",
      "            from the distribution (see above for behavior if ``high=None``).\n",
      "            If array-like, must contain integer values\n",
      "        size : int or tuple of ints, optional\n",
      "            Output shape.  If the given shape is, e.g., ``(m, n, k)``, then\n",
      "            ``m * n * k`` samples are drawn.  Default is None, in which case a\n",
      "            single value is returned.\n",
      "        dtype : dtype, optional\n",
      "            Desired dtype of the result. Byteorder must be native.\n",
      "            The default value is np.int64.\n",
      "        endpoint : bool, optional\n",
      "            If true, sample from the interval [low, high] instead of the\n",
      "            default [low, high)\n",
      "            Defaults to False\n",
      "\n",
      "        Returns\n",
      "        -------\n",
      "        out : int or ndarray of ints\n",
      "            `size`-shaped array of random integers from the appropriate\n",
      "            distribution, or a single such random int if `size` not provided.\n",
      "\n",
      "        Notes\n",
      "        -----\n",
      "        When using broadcasting with uint64 dtypes, the maximum value (2**64)\n",
      "        cannot be represented as a standard integer type. The high array (or\n",
      "        low if high is None) must have object dtype, e.g., array([2**64]).\n",
      "\n",
      "        Examples\n",
      "        --------\n",
      "        >>> rng = np.random.default_rng()\n",
      "        >>> rng.integers(2, size=10)\n",
      "        array([1, 0, 0, 0, 1, 1, 0, 0, 1, 0])  # random\n",
      "        >>> rng.integers(1, size=10)\n",
      "        array([0, 0, 0, 0, 0, 0, 0, 0, 0, 0])\n",
      "\n",
      "        Generate a 2 x 4 array of ints between 0 and 4, inclusive:\n",
      "\n",
      "        >>> rng.integers(5, size=(2, 4))\n",
      "        array([[4, 0, 2, 1],\n",
      "               [3, 2, 2, 0]])  # random\n",
      "\n",
      "        Generate a 1 x 3 array with 3 different upper bounds\n",
      "\n",
      "        >>> rng.integers(1, [3, 5, 10])\n",
      "        array([2, 2, 9])  # random\n",
      "\n",
      "        Generate a 1 by 3 array with 3 different lower bounds\n",
      "\n",
      "        >>> rng.integers([1, 5, 7], 10)\n",
      "        array([9, 8, 7])  # random\n",
      "\n",
      "        Generate a 2 by 4 array using broadcasting with dtype of uint8\n",
      "\n",
      "        >>> rng.integers([1, 3, 5, 7], [[10], [20]], dtype=np.uint8)\n",
      "        array([[ 8,  6,  9,  7],\n",
      "               [ 1, 16,  9, 12]], dtype=uint8)  # random\n",
      "\n",
      "        References\n",
      "        ----------\n",
      "        .. [1] Daniel Lemire., \"Fast Random Integer Generation in an Interval\",\n",
      "               ACM Transactions on Modeling and Computer Simulation 29 (1), 2019,\n",
      "               http://arxiv.org/abs/1805.10941.\n",
      "\n",
      "        \n"
     ]
    }
   ],
   "source": [
    "# package numpy - subpackage random - object Generator - method default_rng alias newGenBitGenPCG64 - instantiate\n",
    "print(newGenBitGenPCG64().integers.__doc__) # method integers - attr __doc__ - access"
   ]
  },
  {
   "cell_type": "code",
   "execution_count": 3,
   "metadata": {},
   "outputs": [],
   "source": [
    "# restart kernel\n",
    "exit()"
   ]
  },
  {
   "cell_type": "markdown",
   "metadata": {},
   "source": [
    "- function - integers - returns random integers from - low inclusive - to - high exclusive - or if endpoint is equal to true it returns from low inclusive to high inclusive [2.4]"
   ]
  },
  {
   "cell_type": "markdown",
   "metadata": {},
   "source": [
    "- going to do is start by going back to the - numpy - documentation - going into the description of the method - integers - so if we look at the documentation - it gives me a list of parameters - ``low`` - ``high`` - ``size`` - ``dtype`` - ``endpoint`` - return type from parameter - ``out`` - is a size-shaped array of random integers from the appropriate distribution - or a single random int if size is not provided - so what i want you to do is to go down through this documentation - and see an example of what each of these parameters produce - what influence they have over the output thats generated here [2.4]"
   ]
  },
  {
   "cell_type": "markdown",
   "metadata": {},
   "source": [
    "- so normally in - API - documentation - you find examples of how to use the method in question - so the best way to do this is actually just to try it - copy this into a jupiter notebook and see what the output is [2.4]"
   ]
  },
  {
   "cell_type": "code",
   "execution_count": 1,
   "metadata": {},
   "outputs": [],
   "source": [
    "import numpy as np"
   ]
  },
  {
   "cell_type": "markdown",
   "metadata": {},
   "source": [
    "- returns - ``rng`` - random number generator - object [2.4]"
   ]
  },
  {
   "cell_type": "code",
   "execution_count": 2,
   "metadata": {},
   "outputs": [],
   "source": [
    "rng=np.random.default_rng()"
   ]
  },
  {
   "cell_type": "markdown",
   "metadata": {},
   "source": [
    "- this next part of the example - use a random number generator to generate a sequence of random integers [2.4]"
   ]
  },
  {
   "cell_type": "markdown",
   "metadata": {},
   "source": [
    "- generated - an array of numbers - each ranging between zero and one of - data type - ``dtype`` - ``Int64`` - looking back at the documentation can see that the - ``dtype`` - default return value is - ``int64`` - the first parameter to method - integers - am guessing - ``2`` - means to generate integers up to but not inclusive of two - so i can see here that i am generating a series of numbers between zero and one - but again its up to you to try and figure out what exactly is happening here - whats happening to the low value - presume inserting the high value - and how exactly does this method work  [2.4]"
   ]
  },
  {
   "cell_type": "code",
   "execution_count": 3,
   "metadata": {},
   "outputs": [
    {
     "data": {
      "text/plain": [
       "array([1, 1, 1, 1, 1, 0, 1, 1, 0, 0], dtype=int64)"
      ]
     },
     "execution_count": 3,
     "metadata": {},
     "output_type": "execute_result"
    }
   ],
   "source": [
    "rng.integers(2,size=10)"
   ]
  },
  {
   "cell_type": "markdown",
   "metadata": {},
   "source": [
    "- this time - generated an array - and not only an array - but a multi-dimensional array - this is what these outer square brackets are - so inside this array - two other arrays - top array - bottom array - numpy likes to generate and work with arrays - it is the main purpose of the package - so lets have a look at this array here and see its structure [2.4]"
   ]
  },
  {
   "cell_type": "markdown",
   "metadata": {},
   "source": [
    "- can see that its two arrays - each with four elements each that corresponds - guessing - to the - ``2,4`` - in terms of the second parameter - ``size`` - of the array [2.4]"
   ]
  },
  {
   "cell_type": "markdown",
   "metadata": {},
   "source": [
    "- similarly - ``5`` - guessing - means that it will generate numbers from zero up to but not including again five - maybe not 100% sure about this because if the jupyter cell was return a number of times its very possible to have the method produce a certain number [2.4]"
   ]
  },
  {
   "cell_type": "markdown",
   "metadata": {},
   "source": [
    "- rerun - jupyter cell a number of times - method appears to be generating random numbers - up to but not including the first parameter - ``5`` - so i am getting more of a feeling for what this method does [2.4]"
   ]
  },
  {
   "cell_type": "code",
   "execution_count": 4,
   "metadata": {},
   "outputs": [
    {
     "data": {
      "text/plain": [
       "array([[2, 1, 0, 1],\n",
       "       [1, 0, 3, 1]], dtype=int64)"
      ]
     },
     "execution_count": 4,
     "metadata": {},
     "output_type": "execute_result"
    }
   ],
   "source": [
    "rng.integers(5,size=(2,4))"
   ]
  },
  {
   "cell_type": "code",
   "execution_count": 5,
   "metadata": {},
   "outputs": [
    {
     "data": {
      "text/plain": [
       "array([[2, 1, 2, 4],\n",
       "       [4, 1, 0, 1]], dtype=int64)"
      ]
     },
     "execution_count": 5,
     "metadata": {},
     "output_type": "execute_result"
    }
   ],
   "source": [
    "rng.integers(5,size=(2,4))"
   ]
  },
  {
   "cell_type": "code",
   "execution_count": 6,
   "metadata": {},
   "outputs": [
    {
     "data": {
      "text/plain": [
       "array([[1, 0, 2, 4],\n",
       "       [1, 3, 0, 0]], dtype=int64)"
      ]
     },
     "execution_count": 6,
     "metadata": {},
     "output_type": "execute_result"
    }
   ],
   "source": [
    "rng.integers(5,size=(2,4))"
   ]
  },
  {
   "cell_type": "markdown",
   "metadata": {},
   "source": [
    "- then just to verify the attribute - ``size`` - what i am going to do is change to - ``10,5`` - returns - ten rows - five columns [2.4]"
   ]
  },
  {
   "cell_type": "code",
   "execution_count": 7,
   "metadata": {},
   "outputs": [
    {
     "data": {
      "text/plain": [
       "array([[4, 0, 3, 1, 3],\n",
       "       [4, 4, 0, 2, 4],\n",
       "       [0, 4, 0, 4, 1],\n",
       "       [0, 2, 0, 3, 3],\n",
       "       [0, 2, 3, 4, 2],\n",
       "       [2, 1, 2, 3, 2],\n",
       "       [3, 4, 2, 2, 3],\n",
       "       [0, 2, 0, 3, 1],\n",
       "       [1, 3, 3, 2, 3],\n",
       "       [2, 3, 2, 0, 1]], dtype=int64)"
      ]
     },
     "execution_count": 7,
     "metadata": {},
     "output_type": "execute_result"
    }
   ],
   "source": [
    "rng.integers(5,size=(10,5))"
   ]
  },
  {
   "cell_type": "markdown",
   "metadata": {},
   "source": [
    "- what if next i just get rid of - ``,5`` - just say the attribute - ``size`` - is - ``10`` - can see you just get a single array with tens elements each ranging randomly between zero and five [2.4]"
   ]
  },
  {
   "cell_type": "code",
   "execution_count": 8,
   "metadata": {},
   "outputs": [
    {
     "data": {
      "text/plain": [
       "array([2, 3, 2, 3, 0, 0, 0, 2, 3, 0], dtype=int64)"
      ]
     },
     "execution_count": 8,
     "metadata": {},
     "output_type": "execute_result"
    }
   ],
   "source": [
    "rng.integers(5,size=(10))"
   ]
  },
  {
   "cell_type": "markdown",
   "metadata": {},
   "source": [
    "- what if then i do not pass any arguments in - delete everything - get an error - so that just means that i need to pass some arguments in - in order to get this method to work [2.4]"
   ]
  },
  {
   "cell_type": "markdown",
   "metadata": {},
   "source": [
    "- what then if i was to specify more dimensions - can see or get much more complicated array structure - ten rows - five columns - two along the next dimension - the z dimension - and three along the fourth dimension - so you can make quite complex data structures here - but for most purposes you are going to just be generating arrays in two dimensions [2.4]"
   ]
  },
  {
   "cell_type": "code",
   "execution_count": 9,
   "metadata": {
    "scrolled": false
   },
   "outputs": [
    {
     "data": {
      "text/plain": [
       "array([[[[4, 4, 4],\n",
       "         [4, 4, 4]],\n",
       "\n",
       "        [[4, 4, 4],\n",
       "         [3, 0, 0]],\n",
       "\n",
       "        [[3, 1, 3],\n",
       "         [3, 2, 1]],\n",
       "\n",
       "        [[2, 0, 3],\n",
       "         [1, 1, 2]],\n",
       "\n",
       "        [[2, 0, 1],\n",
       "         [3, 1, 0]]],\n",
       "\n",
       "\n",
       "       [[[3, 4, 4],\n",
       "         [1, 4, 3]],\n",
       "\n",
       "        [[0, 4, 0],\n",
       "         [2, 2, 1]],\n",
       "\n",
       "        [[0, 2, 0],\n",
       "         [2, 0, 0]],\n",
       "\n",
       "        [[2, 2, 3],\n",
       "         [4, 1, 1]],\n",
       "\n",
       "        [[2, 0, 3],\n",
       "         [3, 1, 2]]],\n",
       "\n",
       "\n",
       "       [[[4, 1, 0],\n",
       "         [0, 1, 0]],\n",
       "\n",
       "        [[2, 0, 2],\n",
       "         [1, 4, 0]],\n",
       "\n",
       "        [[2, 3, 1],\n",
       "         [1, 0, 0]],\n",
       "\n",
       "        [[4, 0, 1],\n",
       "         [2, 2, 2]],\n",
       "\n",
       "        [[0, 1, 1],\n",
       "         [2, 2, 0]]],\n",
       "\n",
       "\n",
       "       [[[0, 1, 2],\n",
       "         [3, 3, 0]],\n",
       "\n",
       "        [[4, 1, 3],\n",
       "         [3, 1, 2]],\n",
       "\n",
       "        [[1, 4, 2],\n",
       "         [4, 4, 4]],\n",
       "\n",
       "        [[0, 1, 1],\n",
       "         [0, 4, 2]],\n",
       "\n",
       "        [[0, 3, 0],\n",
       "         [4, 1, 4]]],\n",
       "\n",
       "\n",
       "       [[[3, 2, 0],\n",
       "         [3, 1, 1]],\n",
       "\n",
       "        [[2, 2, 1],\n",
       "         [4, 3, 4]],\n",
       "\n",
       "        [[3, 3, 1],\n",
       "         [4, 1, 1]],\n",
       "\n",
       "        [[0, 4, 2],\n",
       "         [0, 4, 0]],\n",
       "\n",
       "        [[3, 3, 2],\n",
       "         [0, 2, 3]]],\n",
       "\n",
       "\n",
       "       [[[3, 3, 4],\n",
       "         [4, 1, 2]],\n",
       "\n",
       "        [[1, 1, 1],\n",
       "         [0, 2, 2]],\n",
       "\n",
       "        [[2, 3, 1],\n",
       "         [2, 1, 3]],\n",
       "\n",
       "        [[4, 1, 1],\n",
       "         [0, 1, 0]],\n",
       "\n",
       "        [[1, 4, 3],\n",
       "         [4, 4, 2]]],\n",
       "\n",
       "\n",
       "       [[[2, 0, 0],\n",
       "         [4, 2, 1]],\n",
       "\n",
       "        [[2, 4, 0],\n",
       "         [4, 0, 3]],\n",
       "\n",
       "        [[0, 2, 2],\n",
       "         [2, 4, 3]],\n",
       "\n",
       "        [[0, 0, 3],\n",
       "         [0, 2, 4]],\n",
       "\n",
       "        [[3, 1, 2],\n",
       "         [2, 3, 3]]],\n",
       "\n",
       "\n",
       "       [[[1, 3, 1],\n",
       "         [0, 0, 4]],\n",
       "\n",
       "        [[3, 4, 4],\n",
       "         [1, 2, 0]],\n",
       "\n",
       "        [[1, 1, 4],\n",
       "         [2, 2, 1]],\n",
       "\n",
       "        [[1, 3, 1],\n",
       "         [1, 1, 1]],\n",
       "\n",
       "        [[2, 3, 1],\n",
       "         [3, 3, 4]]],\n",
       "\n",
       "\n",
       "       [[[2, 2, 3],\n",
       "         [0, 2, 0]],\n",
       "\n",
       "        [[2, 4, 0],\n",
       "         [2, 4, 3]],\n",
       "\n",
       "        [[0, 3, 3],\n",
       "         [3, 1, 1]],\n",
       "\n",
       "        [[0, 4, 0],\n",
       "         [0, 0, 1]],\n",
       "\n",
       "        [[4, 3, 2],\n",
       "         [3, 0, 2]]],\n",
       "\n",
       "\n",
       "       [[[4, 3, 1],\n",
       "         [3, 0, 0]],\n",
       "\n",
       "        [[1, 1, 1],\n",
       "         [1, 0, 0]],\n",
       "\n",
       "        [[3, 4, 1],\n",
       "         [2, 1, 3]],\n",
       "\n",
       "        [[0, 0, 1],\n",
       "         [1, 1, 1]],\n",
       "\n",
       "        [[0, 4, 4],\n",
       "         [3, 4, 3]]]], dtype=int64)"
      ]
     },
     "execution_count": 9,
     "metadata": {},
     "output_type": "execute_result"
    }
   ],
   "source": [
    "rng.integers(5,size=(10,5,2,3,))"
   ]
  },
  {
   "cell_type": "markdown",
   "metadata": {},
   "source": [
    "- so let me just get ahead of myself for a moment - what i want to do is investigate in what shape or form are these random numbers generated - is it completely random - or is there a certain bias or skew towards certain numbers [2.4]"
   ]
  },
  {
   "cell_type": "markdown",
   "metadata": {},
   "source": [
    "- so what i am gonna do is just generate an array with - ``10000`` - elements and run that - can see that i am just actually getting an output value - integer [2.4]"
   ]
  },
  {
   "cell_type": "code",
   "execution_count": 10,
   "metadata": {},
   "outputs": [
    {
     "data": {
      "text/plain": [
       "452"
      ]
     },
     "execution_count": 10,
     "metadata": {},
     "output_type": "execute_result"
    }
   ],
   "source": [
    "rng.integers(1000)"
   ]
  },
  {
   "cell_type": "markdown",
   "metadata": {},
   "source": [
    "- so what i need to do is specify the range first of all for the numbers - so i will say numbers between zero and hundred - ``100`` - and i want to generate - ``10000`` - of them - missing the attribute - ``size`` - so this is how we get used to our documentation and our mtehods when we are investigating - note these methods change all the time - so the way this method worked two or three years ago is different how it works now - let me run that again [2.4] "
   ]
  },
  {
   "cell_type": "code",
   "execution_count": 11,
   "metadata": {},
   "outputs": [
    {
     "data": {
      "text/plain": [
       "4725"
      ]
     },
     "execution_count": 11,
     "metadata": {},
     "output_type": "execute_result"
    }
   ],
   "source": [
    "rng.integers(100,10000)"
   ]
  },
  {
   "cell_type": "markdown",
   "metadata": {},
   "source": [
    "- now got an array that has - ``10000`` - elements in the attribute - ``size`` - can see that these values range between zero and hundred - can verify that by running the jupyter cell a few more times [2.4]"
   ]
  },
  {
   "cell_type": "code",
   "execution_count": 12,
   "metadata": {},
   "outputs": [
    {
     "data": {
      "text/plain": [
       "array([16, 70,  4, 74, 49, 19, 50, 75, 11, 27,  9, 73, 54, 69, 30, 90,  8,\n",
       "       28, 25,  7, 45, 41, 11, 10, 87, 50, 89, 13, 97, 39, 31,  8, 46,  9,\n",
       "        1, 46, 88, 24, 97,  3, 75, 87, 84, 86, 77,  9, 95, 66,  9, 39, 31,\n",
       "       81, 14,  3, 12, 84,  4, 74, 42, 14, 81, 11, 63, 74, 33, 84, 62, 80,\n",
       "       26, 84, 98, 83, 99, 19, 61, 37, 83, 77, 37, 46, 33, 47, 47, 92, 81,\n",
       "       39, 38, 16, 51, 59, 57, 79, 54, 65, 50, 53, 12, 47, 74, 92,  1, 94,\n",
       "       40, 71, 15, 60, 79, 26, 17, 54, 97, 35, 66, 42, 50, 83, 80, 81, 88,\n",
       "       48,  8, 88, 77,  6, 86, 39,  1, 15, 96, 34,  9, 38, 19, 17, 93, 52,\n",
       "       76, 17, 58, 92, 39, 38,  0,  8, 23, 70, 73, 93, 77, 46, 99, 37, 73,\n",
       "       10, 32, 89, 25, 60, 32, 31, 26, 55, 10,  5, 43, 65, 27, 45, 60, 82,\n",
       "       99, 46, 91, 28,  9, 95, 36, 23, 47, 36, 31, 96, 48, 32, 60, 19, 10,\n",
       "        0, 70, 29, 12, 76, 14, 79, 47, 48, 50, 96,  0, 89, 68, 42, 53, 90,\n",
       "       96,  7, 16, 95, 62, 33, 78, 73, 20, 31,  1, 86, 62,  7,  5, 23,  4,\n",
       "       24, 92, 62,  7, 82, 45, 16, 59, 57, 24, 71, 94, 75, 11, 60, 85, 60,\n",
       "       64,  0, 50, 60, 26, 28, 81, 36, 55, 44, 70, 67, 96, 97, 91, 58, 20,\n",
       "       42, 82, 35, 45, 28, 26, 62,  2,  4, 84, 35, 43, 12, 32, 42,  7, 54,\n",
       "       43, 46, 54, 15, 52, 62, 31, 82, 43, 13, 84, 30, 50, 31, 14, 24, 32,\n",
       "       45,  8, 56, 29, 36, 37, 13, 97, 12, 49, 83, 47, 55, 55, 72, 55, 74,\n",
       "       73,  8,  5, 30, 35, 35, 83, 77, 41, 70, 22,  8, 13, 21, 62, 52, 16,\n",
       "       42, 45, 10, 36, 60, 57, 73, 15, 75, 48, 36, 91, 36, 39, 14, 51,  2,\n",
       "        4, 16, 13, 85, 12, 52,  5, 99, 23, 99, 66,  4,  5, 94, 58, 43, 74,\n",
       "       77, 30, 25, 21, 90, 40, 71, 92, 20, 48, 85, 95, 41, 58, 57, 73, 43,\n",
       "       48, 84, 61, 32, 56, 91, 60, 94, 92, 73,  9, 46, 24, 61, 54, 43, 66,\n",
       "       56, 64, 26, 33,  9, 74, 44, 43, 41, 66, 27, 62, 84, 85, 31, 11, 46,\n",
       "       60,  5, 56, 32, 21, 77, 69, 21, 54, 56, 98, 76, 58, 24, 96,  1, 56,\n",
       "       22, 64, 16, 74, 25, 96, 98, 87, 71, 11, 64, 97, 45, 19, 83, 77, 73,\n",
       "       64, 32,  9, 18, 38, 76, 19,  3, 49, 83, 69, 84, 87, 27,  2, 12, 68,\n",
       "        5, 42, 68, 62, 16, 82, 87, 41, 67,  4, 29, 75, 26, 35, 64, 44, 66,\n",
       "       57, 29, 62, 64, 57, 35, 39, 65,  7, 69,  7,  5, 65, 54, 79, 69, 81,\n",
       "       62, 18, 96, 64, 93, 95, 91, 76, 85,  6, 83, 47,  6, 33, 28,  6, 86,\n",
       "       58,  8, 84, 41, 23, 43,  6, 49, 27, 13, 23, 47, 59, 39, 81, 44, 72,\n",
       "       10, 23, 97, 34,  6, 42, 50,  4, 24,  1, 65, 35, 88, 77, 67, 49, 28,\n",
       "       99, 20, 52, 95, 79, 84,  5, 79, 32, 54, 92, 27, 38, 76, 68, 34, 46,\n",
       "       33, 23, 96, 31, 81, 48, 70, 13, 26, 70, 71,  6, 73, 61, 73, 12, 68,\n",
       "       31, 16, 44, 13, 10, 54, 83, 58, 25, 11, 52, 20, 66, 95, 65, 34, 39,\n",
       "       88, 42, 91, 51, 10, 51, 86,  1,  1, 39,  5, 62, 96, 75, 82, 91, 71,\n",
       "       40, 77, 56, 24,  0, 39,  6, 95, 62, 14, 69, 73, 73, 29, 69, 28, 62,\n",
       "       14, 80, 67, 69, 57, 81, 24, 97, 10, 10, 52, 96, 77, 42, 35, 51, 29,\n",
       "       94, 60, 26, 42,  1, 40, 33, 45, 96, 73, 59, 56, 80,  7,  6, 89, 95,\n",
       "       22, 31, 36, 82, 62, 77, 94, 35, 10, 84, 47, 61, 89, 73, 57, 95,  1,\n",
       "       23, 78, 99, 35, 81, 45, 94, 10, 26, 97, 96, 60, 65, 96, 97, 77, 30,\n",
       "       68, 76, 28, 76,  4,  6, 34, 77, 65, 59,  9, 74, 48, 90, 87, 65, 52,\n",
       "       50, 29, 14, 58, 46, 20, 93, 35, 67, 59, 47, 80, 71, 55, 88, 16, 14,\n",
       "       80, 82, 67, 84, 35, 37, 40, 56, 38, 69, 33, 66,  1, 48, 11, 31, 32,\n",
       "       73, 45, 90, 81, 58, 16,  7, 90, 78, 40, 11, 56, 52, 24, 24, 32, 81,\n",
       "       53, 25, 48, 11, 29, 11, 31, 96,  2, 86, 43, 34, 59, 23, 77, 75, 52,\n",
       "       42, 17, 96, 96, 72, 43, 23, 58, 87, 85, 58, 25, 20, 30, 56, 33, 14,\n",
       "       35, 71, 33, 66,  5, 46, 73, 87, 92, 65, 68,  1, 84,  5, 63,  5, 84,\n",
       "       90,  3, 89, 50, 13, 14, 48, 16, 42, 88, 29, 39, 54, 91, 12, 41, 22,\n",
       "        6, 45, 94, 19, 70, 71, 85,  2,  7, 22, 40, 54, 11, 53, 22, 15, 40,\n",
       "       67, 14, 29, 41, 46, 91, 64, 21, 10, 46, 50, 20, 76, 87, 40, 25, 83,\n",
       "       42,  6, 60, 35, 58, 28, 73, 59,  0, 94,  1, 75, 35, 35, 47, 93, 98,\n",
       "       71, 81, 86,  3,  9, 59, 55, 72, 11, 98, 26, 80, 30, 21, 57, 69, 98,\n",
       "       52, 93, 72, 47, 55, 56, 47, 28, 26, 79, 15, 38,  5, 24, 59, 95, 24,\n",
       "       65, 95, 73, 96, 86, 26, 48, 49, 96, 27, 41, 93, 58, 78, 13, 61,  8,\n",
       "       88, 78, 43, 52, 81, 81, 35, 40, 49, 17, 28,  9,  1, 91, 60, 56, 20,\n",
       "       40, 23, 87, 45,  1, 33, 55, 15, 91, 49, 16, 47,  4, 17, 50,  1,  4,\n",
       "       32, 79, 22, 25, 92, 86, 29, 76, 81,  5, 18, 23, 56, 39, 62, 98, 33,\n",
       "        5, 21,  1, 86, 33, 53, 93,  3, 91, 82, 97, 67, 51, 17],\n",
       "      dtype=int64)"
      ]
     },
     "execution_count": 12,
     "metadata": {},
     "output_type": "execute_result"
    }
   ],
   "source": [
    "rng.integers(100,size=1000)"
   ]
  },
  {
   "cell_type": "markdown",
   "metadata": {},
   "source": [
    "- what i want to do next is graphically visualise this array in a histogram form - so the first thing i want to do is import package - matplotlib - the next thing i want to do is store the array that has been generated - so the array thats returned by this method - ``integers`` - is stored in the name - ``n`` - so i am going to rerun this - can see here now that - name - ``n`` - is not being displayed - if i do want to display it i can just put it in the next line - type - name - ``n`` - run that and you can see it [2.4]"
   ]
  },
  {
   "cell_type": "code",
   "execution_count": 13,
   "metadata": {},
   "outputs": [
    {
     "data": {
      "text/plain": [
       "array([31, 76, 93, ..., 41, 78, 56], dtype=int64)"
      ]
     },
     "execution_count": 13,
     "metadata": {},
     "output_type": "execute_result"
    }
   ],
   "source": [
    "n=rng.integers(100,size=10000)\n",
    "n"
   ]
  },
  {
   "cell_type": "markdown",
   "metadata": {},
   "source": [
    "- plot a histogram of the name - ``n`` - and see how it looks - can see a histogram of the data - the ten-thousand numbers that are randomly generated - can see here that the profile of the data is actually quite flat - there is roughly ten-thousand of every value falling into these bins - single bin all the way up as far as ninety-nine [2.4]"
   ]
  },
  {
   "cell_type": "markdown",
   "metadata": {},
   "source": [
    "- the distribution of numbers into all of these bins seems roughly the same all the way across [2.4]"
   ]
  },
  {
   "cell_type": "code",
   "execution_count": 19,
   "metadata": {},
   "outputs": [],
   "source": [
    "from matplotlib.style.core import use as u\n",
    "# package matplotlib - subpackage style - module core - function use alias u - call\n",
    "u(\"default\")"
   ]
  },
  {
   "cell_type": "code",
   "execution_count": 20,
   "metadata": {},
   "outputs": [
    {
     "data": {
      "text/plain": [
       "(array([ 998442.,  999319.,  999842.,  999633.,  999820., 1001859.,\n",
       "         998251., 1001655., 1002516.,  998663.]),\n",
       " array([ 0. ,  9.9, 19.8, 29.7, 39.6, 49.5, 59.4, 69.3, 79.2, 89.1, 99. ]),\n",
       " <a list of 10 Patch objects>)"
      ]
     },
     "execution_count": 20,
     "metadata": {},
     "output_type": "execute_result"
    },
    {
     "data": {
      "image/png": "[encoded data removed]",
      "text/plain": [
       "<Figure size 640x480 with 1 Axes>"
      ]
     },
     "metadata": {},
     "output_type": "display_data"
    }
   ],
   "source": [
    "import matplotlib.pyplot as plt\n",
    "plt.hist(n)"
   ]
  },
  {
   "cell_type": "markdown",
   "metadata": {},
   "source": [
    "- what i can do to investigate this how all of these bins seems roughly the same all the way acros - if i make the parameter - ``size`` - smaller - this distribution all of a sudden seems not so random - this is because often you need large samples of numbers to really reveal the distribution of data [2.4]"
   ]
  },
  {
   "cell_type": "code",
   "execution_count": 21,
   "metadata": {},
   "outputs": [
    {
     "data": {
      "text/plain": [
       "(array([10., 13.,  7.,  7.,  5., 13., 12., 14.,  9., 10.]),\n",
       " array([ 0. ,  9.9, 19.8, 29.7, 39.6, 49.5, 59.4, 69.3, 79.2, 89.1, 99. ]),\n",
       " <a list of 10 Patch objects>)"
      ]
     },
     "execution_count": 21,
     "metadata": {},
     "output_type": "execute_result"
    },
    {
     "data": {
      "image/png": "[encoded data removed]",
      "text/plain": [
       "<Figure size 640x480 with 1 Axes>"
      ]
     },
     "metadata": {},
     "output_type": "display_data"
    }
   ],
   "source": [
    "n=rng.integers(100,size=100)\n",
    "plt.hist(n)"
   ]
  },
  {
   "cell_type": "markdown",
   "metadata": {},
   "source": [
    "- if i instead ramp this up to maybe 10 million values and run this again - can see now that i have almost an exactly perfect square - this is known as a uniform distribution - where every single bin holds roughly the same number of values [2.4]"
   ]
  },
  {
   "cell_type": "code",
   "execution_count": 22,
   "metadata": {},
   "outputs": [
    {
     "data": {
      "text/plain": [
       "(array([ 999915., 1000388.,  999305., 1001115., 1001136., 1000393.,\n",
       "        1000281.,  998969.,  999309.,  999189.]),\n",
       " array([ 0. ,  9.9, 19.8, 29.7, 39.6, 49.5, 59.4, 69.3, 79.2, 89.1, 99. ]),\n",
       " <a list of 10 Patch objects>)"
      ]
     },
     "execution_count": 22,
     "metadata": {},
     "output_type": "execute_result"
    },
    {
     "data": {
      "image/png": "[encoded data removed]",
      "text/plain": [
       "<Figure size 640x480 with 1 Axes>"
      ]
     },
     "metadata": {},
     "output_type": "display_data"
    }
   ],
   "source": [
    "n=rng.integers(100,size=10000000)\n",
    "plt.hist(n)"
   ]
  },
  {
   "cell_type": "markdown",
   "metadata": {},
   "source": [
    "- data however in the real world is generally or even rarely uniformly distributed - for example - the heights in a population - the scores that students get on an exam are normally if not more often - normally distributed - where more of the scores will be centred around a particular value - and then that distribution will tail off towards both ends - you will see some of these different types of distributions - using this example of how to visualise them in the distributions section of the subpackage - random [2.4] "
   ]
  },
  {
   "cell_type": "markdown",
   "metadata": {},
   "source": [
    "- one thing actually - just to note - depending on your platform - is that this plot may not always show for you - one of the things you can do to force the plot to show is to add in the function - show - also to insert the magic command - ``%matplotlib inline`` - if you have any difficulties in getting the plot to show - if you insert these two lines - this will force the plot out onto their display [2.4]"
   ]
  },
  {
   "cell_type": "markdown",
   "metadata": {},
   "source": [
    "- this uniform distribution - is often what people expect when the computer generates a random number - if a computer is to generate a random number between zero and one-hundred - it is as likely to generate the number four as it is the number sixty-four - so this method - integers - is essentially fulfilling that expectation - that it will generate all numbers with the same probability [2.4]"
   ]
  },
  {
   "cell_type": "markdown",
   "metadata": {},
   "source": [
    "- often though when generating random data - we do not want this - instead - we want the probability distribution to match some probability distribution - which occurs in the real world [2.4]"
   ]
  },
  {
   "cell_type": "markdown",
   "metadata": {},
   "source": [
    "***\n",
    "# END"
   ]
  }
 ],
 "metadata": {
  "kernelspec": {
   "display_name": "Python 3",
   "language": "python",
   "name": "python3"
  },
  "language_info": {
   "codemirror_mode": {
    "name": "ipython",
    "version": 3
   },
   "file_extension": ".py",
   "mimetype": "text/x-python",
   "name": "python",
   "nbconvert_exporter": "python",
   "pygments_lexer": "ipython3",
   "version": "3.8.3"
  }
 },
 "nbformat": 4,
 "nbformat_minor": 4
}
