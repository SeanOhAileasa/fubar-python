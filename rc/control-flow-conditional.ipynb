{
 "cells": [
  {
   "cell_type": "markdown",
   "metadata": {},
   "source": [
    "# control-flow-conditional\n",
    "> [TABLE OF CONTENTS](https://nbviewer.jupyter.org/github/SeanOhAileasa/fubar-python/blob/main/fubar-python.ipynb#top)\n",
    "***"
   ]
  },
  {
   "cell_type": "markdown",
   "metadata": {},
   "source": [
    "- often referred to as if-then statements - execute certain pieces of code depending on some boolean condition [1.38]"
   ]
  },
  {
   "cell_type": "markdown",
   "metadata": {},
   "source": [
    "```python\n",
    "print(*objects, sep=' ', end='\\n', file=sys.stdout, flush=False)\n",
    "```\n",
    "> [Python Documentation](https://web.archive.org/web/20200514154635/https://docs.python.org/3/library/functions.html#print)"
   ]
  },
  {
   "cell_type": "code",
   "execution_count": 1,
   "metadata": {},
   "outputs": [
    {
     "name": "stdout",
     "output_type": "stream",
     "text": [
      "-13 is negative\n"
     ]
    }
   ],
   "source": [
    "nX=-13\n",
    "if nX==0:\n",
    "    print(nX,\"is zero\")\n",
    "elif nX>0:\n",
    "    print(nX,\"is positive\")\n",
    "elif nX<0:\n",
    "    print(nX,\"is negative\")\n",
    "else:\n",
    "    print(nX,\"is unlike anything seen...\")"
   ]
  },
  {
   "cell_type": "markdown",
   "metadata": {},
   "source": [
    "- note the use of colons - : - python adopts the if and else often used in other languages - unique keyword - elif - a contraction of else if - elif - else - blocks optional [1.38]"
   ]
  },
  {
   "cell_type": "markdown",
   "metadata": {},
   "source": [
    "***\n",
    "# END"
   ]
  }
 ],
 "metadata": {
  "kernelspec": {
   "display_name": "Python 3",
   "language": "python",
   "name": "python3"
  },
  "language_info": {
   "codemirror_mode": {
    "name": "ipython",
    "version": 3
   },
   "file_extension": ".py",
   "mimetype": "text/x-python",
   "name": "python",
   "nbconvert_exporter": "python",
   "pygments_lexer": "ipython3",
   "version": "3.8.8"
  }
 },
 "nbformat": 4,
 "nbformat_minor": 4
}
