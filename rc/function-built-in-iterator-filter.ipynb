{
 "cells": [
  {
   "cell_type": "markdown",
   "metadata": {},
   "source": [
    "# function-built-in-iterator-filter\n",
    "> [TABLE OF CONTENTS](https://nbviewer.jupyter.org/github/SeanOhAileasa/fubar-python/blob/main/fubar-python.ipynb#top)\n",
    "***"
   ]
  },
  {
   "cell_type": "markdown",
   "metadata": {},
   "source": [
    "```python\n",
    "filter(function, iterable)\n",
    "```\n",
    "> [Python Documentation](https://web.archive.org/web/20200523095329/https://docs.python.org/3/library/functions.html#filter) [0]"
   ]
  },
  {
   "cell_type": "markdown",
   "metadata": {},
   "source": [
    "- looks similar to map iterator [1.56] - construct an iterator from those elements of - iterable - for which function returns - True - iterable may be either - sequence - container - which supports iteration or an iterator - if function is - None - the identity function is assumed that is all elements of - iterable - that are false are removed [0]"
   ]
  },
  {
   "cell_type": "markdown",
   "metadata": {},
   "source": [
    "```python\n",
    "class range(stop)\n",
    "class range(start, stop[, step])\n",
    "```\n",
    "> [Python Documentation](https://web.archive.org/web/20200523095329/https://docs.python.org/3/library/functions.html#func-range)"
   ]
  },
  {
   "cell_type": "markdown",
   "metadata": {},
   "source": [
    "```python\n",
    "print(*objects, sep=' ', end='\\n', file=sys.stdout, flush=False)\n",
    "```\n",
    "> [Python Documentation](https://web.archive.org/web/20200514154635/https://docs.python.org/3/library/functions.html#print)"
   ]
  },
  {
   "cell_type": "code",
   "execution_count": 1,
   "metadata": {},
   "outputs": [
    {
     "name": "stdout",
     "output_type": "stream",
     "text": [
      "0 2 4 6 "
     ]
    }
   ],
   "source": [
    "# define lambda function - fLamIsEven\n",
    "fLamIsEven=lambda nPar:nPar%2==0\n",
    "# lambda function fLamIsEven - call\n",
    "for nEachValue in filter(fLamIsEven,range(7)):\n",
    "    print(nEachValue,end=\" \")"
   ]
  },
  {
   "cell_type": "code",
   "execution_count": 2,
   "metadata": {},
   "outputs": [
    {
     "name": "stdout",
     "output_type": "stream",
     "text": [
      "1 3 5 "
     ]
    }
   ],
   "source": [
    "# define lambda function - fLamIsOdd\n",
    "fLamIsOdd=lambda nPar:nPar%2 # nPar%2>0\n",
    "# lambda function fLamIsOdd - call\n",
    "for nEachValue in filter(fLamIsOdd,range(7)):\n",
    "    print(nEachValue,end=\" \")"
   ]
  },
  {
   "cell_type": "markdown",
   "metadata": {},
   "source": [
    "- map/filter/reduce functions are fundamental components of the functional programming style [1.56]"
   ]
  },
  {
   "cell_type": "markdown",
   "metadata": {},
   "source": [
    "***\n",
    "# END"
   ]
  }
 ],
 "metadata": {
  "kernelspec": {
   "display_name": "Python 3",
   "language": "python",
   "name": "python3"
  },
  "language_info": {
   "codemirror_mode": {
    "name": "ipython",
    "version": 3
   },
   "file_extension": ".py",
   "mimetype": "text/x-python",
   "name": "python",
   "nbconvert_exporter": "python",
   "pygments_lexer": "ipython3",
   "version": "3.8.5"
  }
 },
 "nbformat": 4,
 "nbformat_minor": 4
}
