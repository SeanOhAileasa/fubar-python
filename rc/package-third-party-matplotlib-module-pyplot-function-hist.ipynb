{
 "cells": [
  {
   "cell_type": "markdown",
   "metadata": {},
   "source": [
    "# package-third-party-matplotlib-module-pyplot-function-hist\n",
    "> [TABLE OF CONTENTS](https://nbviewer.jupyter.org/github/SeanOhAileasa/fubar-python/blob/main/fubar-python.ipynb#top)\n",
    "***"
   ]
  },
  {
   "cell_type": "code",
   "execution_count": 1,
   "metadata": {},
   "outputs": [],
   "source": [
    "# b_T_hird_P_arty-imports\n",
    "from matplotlib.pyplot import hist as h"
   ]
  },
  {
   "cell_type": "code",
   "execution_count": 2,
   "metadata": {},
   "outputs": [],
   "source": [
    "from matplotlib.style.core import use as u\n",
    "# package matplotlib - subpackage style - module core - function use alias u - call\n",
    "u(\"default\")"
   ]
  },
  {
   "cell_type": "code",
   "execution_count": 3,
   "metadata": {},
   "outputs": [],
   "source": [
    "from numpy.random import default_rng as newGenBitGenPCG64"
   ]
  },
  {
   "cell_type": "code",
   "execution_count": 4,
   "metadata": {
    "scrolled": false
   },
   "outputs": [
    {
     "name": "stdout",
     "output_type": "stream",
     "text": [
      "Plot a histogram.\n",
      "\n",
      "Compute and draw the histogram of *x*.  The return value is a tuple\n",
      "(*n*, *bins*, *patches*) or ([*n0*, *n1*, ...], *bins*, [*patches0*,\n",
      "*patches1*,...]) if the input contains multiple data.  See the\n",
      "documentation of the *weights* parameter to draw a histogram of\n",
      "already-binned data.\n",
      "\n",
      "Multiple data can be provided via *x* as a list of datasets\n",
      "of potentially different length ([*x0*, *x1*, ...]), or as\n",
      "a 2-D ndarray in which each column is a dataset.  Note that\n",
      "the ndarray form is transposed relative to the list form.\n",
      "\n",
      "Masked arrays are not supported.\n",
      "\n",
      "The *bins*, *range*, *weights*, and *density* parameters behave as in\n",
      "`numpy.histogram`.\n",
      "\n",
      "Parameters\n",
      "----------\n",
      "x : (n,) array or sequence of (n,) arrays\n",
      "    Input values, this takes either a single array or a sequence of\n",
      "    arrays which are not required to be of the same length.\n",
      "\n",
      "bins : int or sequence or str, optional\n",
      "    If *bins* is an integer, it defines the number of equal-width bins\n",
      "    in the range.\n",
      "\n",
      "    If *bins* is a sequence, it defines the bin edges, including the\n",
      "    left edge of the first bin and the right edge of the last bin;\n",
      "    in this case, bins may be unequally spaced.  All but the last\n",
      "    (righthand-most) bin is half-open.  In other words, if *bins* is::\n",
      "\n",
      "        [1, 2, 3, 4]\n",
      "\n",
      "    then the first bin is ``[1, 2)`` (including 1, but excluding 2) and\n",
      "    the second ``[2, 3)``.  The last bin, however, is ``[3, 4]``, which\n",
      "    *includes* 4.\n",
      "\n",
      "    If *bins* is a string, it is one of the binning strategies\n",
      "    supported by `numpy.histogram_bin_edges`: 'auto', 'fd', 'doane',\n",
      "    'scott', 'stone', 'rice', 'sturges', or 'sqrt'.\n",
      "\n",
      "    The default is :rc:`hist.bins`.\n",
      "\n",
      "range : tuple or None, optional\n",
      "    The lower and upper range of the bins. Lower and upper outliers\n",
      "    are ignored. If not provided, *range* is ``(x.min(), x.max())``.\n",
      "    Range has no effect if *bins* is a sequence.\n",
      "\n",
      "    If *bins* is a sequence or *range* is specified, autoscaling\n",
      "    is based on the specified bin range instead of the\n",
      "    range of x.\n",
      "\n",
      "    Default is ``None``\n",
      "\n",
      "density : bool, optional\n",
      "    If ``True``, the first element of the return tuple will\n",
      "    be the counts normalized to form a probability density, i.e.,\n",
      "    the area (or integral) under the histogram will sum to 1.\n",
      "    This is achieved by dividing the count by the number of\n",
      "    observations times the bin width and not dividing by the total\n",
      "    number of observations. If *stacked* is also ``True``, the sum of\n",
      "    the histograms is normalized to 1.\n",
      "\n",
      "    Default is ``False``.\n",
      "\n",
      "weights : (n, ) array-like or None, optional\n",
      "    An array of weights, of the same shape as *x*.  Each value in *x*\n",
      "    only contributes its associated weight towards the bin count\n",
      "    (instead of 1).  If *normed* or *density* is ``True``,\n",
      "    the weights are normalized, so that the integral of the density\n",
      "    over the range remains 1.\n",
      "\n",
      "    Default is ``None``.\n",
      "\n",
      "    This parameter can be used to draw a histogram of data that has\n",
      "    already been binned, e.g. using `np.histogram` (by treating each\n",
      "    bin as a single point with a weight equal to its count) ::\n",
      "\n",
      "        counts, bins = np.histogram(data)\n",
      "        plt.hist(bins[:-1], bins, weights=counts)\n",
      "\n",
      "    (or you may alternatively use `~.bar()`).\n",
      "\n",
      "cumulative : bool or -1, optional\n",
      "    If ``True``, then a histogram is computed where each bin gives the\n",
      "    counts in that bin plus all bins for smaller values. The last bin\n",
      "    gives the total number of datapoints.\n",
      "\n",
      "    If *density* is also ``True`` then the histogram is normalized such\n",
      "    that the last bin equals 1.\n",
      "\n",
      "    If *cumulative* is a number less than 0 (e.g., -1), the direction\n",
      "    of accumulation is reversed.  In this case, if *density* is also\n",
      "    ``True``, then the histogram is normalized such that the first bin\n",
      "    equals 1.\n",
      "\n",
      "bottom : array-like, scalar, or None, default: None\n",
      "    Location of the bottom of each bin, ie. bins are drawn from\n",
      "    ``bottom`` to ``bottom + hist(x, bins)`` If a scalar, the bottom\n",
      "    of each bin is shifted by the same amount. If an array, each bin\n",
      "    is shifted independently and the length of bottom must match the\n",
      "    number of bins. If None, defaults to 0.\n",
      "\n",
      "histtype : {'bar', 'barstacked', 'step',  'stepfilled'}, optional\n",
      "    The type of histogram to draw.\n",
      "\n",
      "    - 'bar' is a traditional bar-type histogram.  If multiple data\n",
      "      are given the bars are arranged side by side.\n",
      "    - 'barstacked' is a bar-type histogram where multiple\n",
      "      data are stacked on top of each other.\n",
      "    - 'step' generates a lineplot that is by default unfilled.\n",
      "    - 'stepfilled' generates a lineplot that is by default filled.\n",
      "\n",
      "    Default is 'bar'\n",
      "\n",
      "align : {'left', 'mid', 'right'}, optional\n",
      "    Controls how the histogram is plotted.\n",
      "\n",
      "    - 'left': bars are centered on the left bin edges.\n",
      "    - 'mid': bars are centered between the bin edges.\n",
      "    - 'right': bars are centered on the right bin edges.\n",
      "\n",
      "    Default is 'mid'\n",
      "\n",
      "orientation : {'horizontal', 'vertical'}, optional\n",
      "    If 'horizontal', `~matplotlib.pyplot.barh` will be used for\n",
      "    bar-type histograms and the *bottom* kwarg will be the left edges.\n",
      "\n",
      "rwidth : scalar or None, optional\n",
      "    The relative width of the bars as a fraction of the bin width.  If\n",
      "    ``None``, automatically compute the width.\n",
      "\n",
      "    Ignored if *histtype* is 'step' or 'stepfilled'.\n",
      "\n",
      "    Default is ``None``\n",
      "\n",
      "log : bool, optional\n",
      "    If ``True``, the histogram axis will be set to a log scale. If\n",
      "    *log* is ``True`` and *x* is a 1D array, empty bins will be\n",
      "    filtered out and only the non-empty ``(n, bins, patches)``\n",
      "    will be returned.\n",
      "\n",
      "    Default is ``False``\n",
      "\n",
      "color : color or array-like of colors or None, optional\n",
      "    Color or sequence of colors, one per dataset.  Default (``None``)\n",
      "    uses the standard line color sequence.\n",
      "\n",
      "    Default is ``None``\n",
      "\n",
      "label : str or None, optional\n",
      "    String, or sequence of strings to match multiple datasets.  Bar\n",
      "    charts yield multiple patches per dataset, but only the first gets\n",
      "    the label, so that the legend command will work as expected.\n",
      "\n",
      "    default is ``None``\n",
      "\n",
      "stacked : bool, optional\n",
      "    If ``True``, multiple data are stacked on top of each other If\n",
      "    ``False`` multiple data are arranged side by side if histtype is\n",
      "    'bar' or on top of each other if histtype is 'step'\n",
      "\n",
      "    Default is ``False``\n",
      "\n",
      "Returns\n",
      "-------\n",
      "n : array or list of arrays\n",
      "    The values of the histogram bins. See *density* and *weights* for a\n",
      "    description of the possible semantics.  If input *x* is an array,\n",
      "    then this is an array of length *nbins*. If input is a sequence of\n",
      "    arrays ``[data1, data2, ...]``, then this is a list of arrays with\n",
      "    the values of the histograms for each of the arrays in the same\n",
      "    order.  The dtype of the array *n* (or of its element arrays) will\n",
      "    always be float even if no weighting or normalization is used.\n",
      "\n",
      "bins : array\n",
      "    The edges of the bins. Length nbins + 1 (nbins left edges and right\n",
      "    edge of last bin).  Always a single array even when multiple data\n",
      "    sets are passed in.\n",
      "\n",
      "patches : list or list of lists\n",
      "    Silent list of individual patches used to create the histogram\n",
      "    or list of such list if multiple input datasets.\n",
      "\n",
      "Other Parameters\n",
      "----------------\n",
      "**kwargs : `~matplotlib.patches.Patch` properties\n",
      "\n",
      "See also\n",
      "--------\n",
      "hist2d : 2D histograms\n",
      "\n",
      "Notes\n",
      "-----\n",
      "\n",
      "\n",
      ".. note::\n",
      "    In addition to the above described arguments, this function can take a\n",
      "    **data** keyword argument. If such a **data** argument is given, the\n",
      "    following arguments are replaced by **data[<arg>]**:\n",
      "\n",
      "    * All arguments with the following names: 'weights', 'x'.\n",
      "\n",
      "    Objects passed as **data** must support item access (``data[<arg>]``) and\n",
      "    membership test (``<arg> in data``).\n",
      "\n"
     ]
    }
   ],
   "source": [
    "# package matplotlib - module pyplot - function hist alias h - copy - attribute __doc__ - access\n",
    "print(h.__doc__)"
   ]
  },
  {
   "cell_type": "code",
   "execution_count": 5,
   "metadata": {},
   "outputs": [],
   "source": [
    "# package numpy - subpackage random - object Generator - method default_rng alias newGenBitGenPCG64 - instantiate\n",
    "nInsObjGBT=newGenBitGenPCG64()"
   ]
  },
  {
   "cell_type": "markdown",
   "metadata": {},
   "source": [
    "- single item of data - name - ``nX`` - investigating what the list of values - ``nX`` - look like [2.2] "
   ]
  },
  {
   "cell_type": "code",
   "execution_count": 6,
   "metadata": {},
   "outputs": [],
   "source": [
    "# package numpy - subpackage random - object Generator - method normal - arguments\n",
    "nMu,nSigma,nSize=0.0,0.1,1000\n",
    "# package numpy - subpackage random - object Generator - method normal - call\n",
    "nX=nInsObjGBT.normal(nMu,nSigma,nSize)"
   ]
  },
  {
   "cell_type": "markdown",
   "metadata": {},
   "source": [
    "- histogram plot - 1-dimensional - ``nX`` - values - ``1000`` - function - hist - i) finds the lowest value of - ``nX`` - approximately less than - ``-3`` - ii) finds the biggest value of - ``nX`` - approximately greater than - ``3.5`` - iii) chops the range - ``-3`` - up to - ``3.5`` - into ten different ranges - typically called bins - iv) creates a bar chart of the number of values that fall within each bin [2.2]"
   ]
  },
  {
   "cell_type": "markdown",
   "metadata": {},
   "source": [
    "- picture of how the axis - ``nX`` - values are distributed - bar chart of that fact [2.2] "
   ]
  },
  {
   "cell_type": "markdown",
   "metadata": {},
   "source": [
    "- getting a handle of a single variable - what the values of a single variable look like - most common values are approximately within the area - ``0.2`` - ``0.5`` - very few values less than - ``-3`` - greater than - ``3`` [2.2] "
   ]
  },
  {
   "cell_type": "code",
   "execution_count": 7,
   "metadata": {},
   "outputs": [
    {
     "data": {
      "text/plain": [
       "(array([  3.,  12.,  57., 163., 250., 271., 161.,  68.,  10.,   5.]),\n",
       " array([-0.35345239, -0.28395109, -0.21444979, -0.14494849, -0.07544719,\n",
       "        -0.00594589,  0.06355541,  0.13305671,  0.20255801,  0.27205931,\n",
       "         0.34156061]),\n",
       " <a list of 10 Patch objects>)"
      ]
     },
     "execution_count": 7,
     "metadata": {},
     "output_type": "execute_result"
    },
    {
     "data": {
      "image/png": "[encoded data removed]",
      "text/plain": [
       "<Figure size 640x480 with 1 Axes>"
      ]
     },
     "metadata": {},
     "output_type": "display_data"
    }
   ],
   "source": [
    "# package matplotlib - module pyplot - function hist alias h - call\n",
    "h(nX)"
   ]
  },
  {
   "cell_type": "markdown",
   "metadata": {},
   "source": [
    "- obtain a more granular level - argument - ``bins`` - distribution is no longer at the point - ``0.5`` [2.2]"
   ]
  },
  {
   "cell_type": "code",
   "execution_count": 8,
   "metadata": {},
   "outputs": [
    {
     "data": {
      "text/plain": [
       "(array([  1.,   2.,   6.,   6.,  14.,  43.,  72.,  91., 127., 123., 150.,\n",
       "        121.,  87.,  74.,  42.,  26.,   8.,   2.,   3.,   2.]),\n",
       " array([-0.35345239, -0.31870174, -0.28395109, -0.24920044, -0.21444979,\n",
       "        -0.17969914, -0.14494849, -0.11019784, -0.07544719, -0.04069654,\n",
       "        -0.00594589,  0.02880476,  0.06355541,  0.09830606,  0.13305671,\n",
       "         0.16780736,  0.20255801,  0.23730866,  0.27205931,  0.30680996,\n",
       "         0.34156061]),\n",
       " <a list of 20 Patch objects>)"
      ]
     },
     "execution_count": 8,
     "metadata": {},
     "output_type": "execute_result"
    },
    {
     "data": {
      "image/png": "[encoded data removed]",
      "text/plain": [
       "<Figure size 640x480 with 1 Axes>"
      ]
     },
     "metadata": {},
     "output_type": "display_data"
    }
   ],
   "source": [
    "# package matplotlib - module pyplot - function hist alias h - call\n",
    "h(nX,bins=20)"
   ]
  },
  {
   "cell_type": "markdown",
   "metadata": {},
   "source": [
    "***\n",
    "# END"
   ]
  }
 ],
 "metadata": {
  "kernelspec": {
   "display_name": "Python 3",
   "language": "python",
   "name": "python3"
  },
  "language_info": {
   "codemirror_mode": {
    "name": "ipython",
    "version": 3
   },
   "file_extension": ".py",
   "mimetype": "text/x-python",
   "name": "python",
   "nbconvert_exporter": "python",
   "pygments_lexer": "ipython3",
   "version": "3.8.5"
  }
 },
 "nbformat": 4,
 "nbformat_minor": 4
}
