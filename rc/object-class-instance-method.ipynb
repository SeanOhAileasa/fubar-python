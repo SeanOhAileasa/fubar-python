{
 "cells": [
  {
   "cell_type": "markdown",
   "metadata": {},
   "source": [
    "# object-class-instance-method\n",
    "> [TABLE OF CONTENTS](https://nbviewer.jupyter.org/github/SeanOhAileasa/fubar-python/blob/main/fubar-python.ipynb#top)\n",
    "***"
   ]
  },
  {
   "cell_type": "markdown",
   "metadata": {},
   "source": [
    "- instance methods - defined inside a class - used to get the contents of an instance - also used to perform operations with the attributes of objects - like method - \\_\\_init__ - first argument is always - self [3.6]"
   ]
  },
  {
   "cell_type": "markdown",
   "metadata": {},
   "source": [
    "```python\n",
    "class str(object='')\n",
    "class str(object=b'', encoding='utf-8', errors='strict')\n",
    "```\n",
    "> [Python Documentation](https://web.archive.org/web/20200503112950/https://docs.python.org/3/library/functions.html#func-str)"
   ]
  },
  {
   "cell_type": "markdown",
   "metadata": {},
   "source": [
    "```python\n",
    "str.format(*args, **kwargs)\n",
    "```\n",
    "> [Python Documentation](https://web.archive.org/web/20200502135931/https://docs.python.org/3/library/stdtypes.html#string-methods)"
   ]
  },
  {
   "cell_type": "code",
   "execution_count": 1,
   "metadata": {},
   "outputs": [],
   "source": [
    "# define class - PCDog\n",
    "class PCDog():\n",
    "    # class attributes\n",
    "    nClsAttSpecies=\"mammal\"\n",
    "    # instance attributes - initialiser\n",
    "    def __init__(self,nInsAttName,nInsAttAge):\n",
    "        self.nInsAttName=nInsAttName\n",
    "        self.nInsAttAge=nInsAttAge\n",
    "    # instance methods\n",
    "    def fInsMetDescription(self):\n",
    "        return \"{} is {} years old\".format(self.nInsAttName,self.nInsAttAge)\n",
    "    def fInsMetSpeak(self,nInsAttSound):\n",
    "        return \"{} says {}\".format(self.nInsAttName,nInsAttSound)"
   ]
  },
  {
   "cell_type": "markdown",
   "metadata": {},
   "source": [
    "- the new instance of the class - PCDog() - is assigned to the variable - nInsObjMikey - passing it two arguments which represent that dogs name and age respectively - said attributes are passed to the method - \\_\\_init__ - which gets called any time a new instance is created - attaching - name - age - to the - object - note do not have to pass in the argument - self - this is python magic in that when a new instance of the class is created python automatically determines what - self - is which is a dog in this case and passes it to the method - \\_\\_init__ [3.5]"
   ]
  },
  {
   "cell_type": "code",
   "execution_count": 2,
   "metadata": {},
   "outputs": [],
   "source": [
    "# instantiate the object - PCDog\n",
    "nInsObjMikey=PCDog(\"Mikey\",6)"
   ]
  },
  {
   "cell_type": "markdown",
   "metadata": {},
   "source": [
    "- using dot notation to access - class and instance - attributes from each object [3.5]"
   ]
  },
  {
   "cell_type": "code",
   "execution_count": 3,
   "metadata": {},
   "outputs": [
    {
     "name": "stdout",
     "output_type": "stream",
     "text": [
      "Mikey is a mammal!\n"
     ]
    }
   ],
   "source": [
    "# class attributes - access\n",
    "if nInsObjMikey.nClsAttSpecies==\"mammal\":\n",
    "    print(\"{0} is a {1}!\".format(nInsObjMikey.nInsAttName,nInsObjMikey.nClsAttSpecies))"
   ]
  },
  {
   "cell_type": "code",
   "execution_count": 4,
   "metadata": {},
   "outputs": [
    {
     "name": "stdout",
     "output_type": "stream",
     "text": [
      "Mikey is 6\n"
     ]
    }
   ],
   "source": [
    "# instance attributes - access\n",
    "print(\"{} is {}\".format(nInsObjMikey.nInsAttName,nInsObjMikey.nInsAttAge))"
   ]
  },
  {
   "cell_type": "markdown",
   "metadata": {},
   "source": [
    "- method - speak - defining behaviour [3.6]"
   ]
  },
  {
   "cell_type": "code",
   "execution_count": 5,
   "metadata": {},
   "outputs": [
    {
     "name": "stdout",
     "output_type": "stream",
     "text": [
      "Mikey is 6 years old\n",
      "Mikey says Gruff Gruff\n"
     ]
    }
   ],
   "source": [
    "# instance methods - call\n",
    "print(nInsObjMikey.fInsMetDescription())\n",
    "print(nInsObjMikey.fInsMetSpeak(\"Gruff Gruff\"))"
   ]
  },
  {
   "cell_type": "markdown",
   "metadata": {},
   "source": [
    "- can change the value of attributes based on some behaviour - adding a method to send an email which updates the instance attribute - nInsAttIsEmailSent - variable to True [3.6]"
   ]
  },
  {
   "cell_type": "code",
   "execution_count": 6,
   "metadata": {},
   "outputs": [],
   "source": [
    "# define class - PCEmail\n",
    "class PCEmail:\n",
    "    # instance attributes - initialiser\n",
    "    def __init__(self):\n",
    "        self.nInsAttIsEmailSent=False\n",
    "    # instance methods\n",
    "    def fInsMetSendEmail(self):\n",
    "        self.nInsAttIsEmailSent=True"
   ]
  },
  {
   "cell_type": "code",
   "execution_count": 7,
   "metadata": {},
   "outputs": [],
   "source": [
    "# instantiate the object - PCEmail\n",
    "nInsObjMyEmail=PCEmail()"
   ]
  },
  {
   "cell_type": "code",
   "execution_count": 8,
   "metadata": {},
   "outputs": [
    {
     "data": {
      "text/plain": [
       "False"
      ]
     },
     "execution_count": 8,
     "metadata": {},
     "output_type": "execute_result"
    }
   ],
   "source": [
    "# instance attributes - access\n",
    "nInsObjMyEmail.nInsAttIsEmailSent"
   ]
  },
  {
   "cell_type": "code",
   "execution_count": 9,
   "metadata": {},
   "outputs": [],
   "source": [
    "# instance methods - call\n",
    "nInsObjMyEmail.fInsMetSendEmail()"
   ]
  },
  {
   "cell_type": "code",
   "execution_count": 10,
   "metadata": {},
   "outputs": [
    {
     "data": {
      "text/plain": [
       "True"
      ]
     },
     "execution_count": 10,
     "metadata": {},
     "output_type": "execute_result"
    }
   ],
   "source": [
    "# instance attributes - access\n",
    "nInsObjMyEmail.nInsAttIsEmailSent"
   ]
  },
  {
   "cell_type": "markdown",
   "metadata": {},
   "source": [
    "***\n",
    "# END"
   ]
  }
 ],
 "metadata": {
  "kernelspec": {
   "display_name": "Python 3",
   "language": "python",
   "name": "python3"
  },
  "language_info": {
   "codemirror_mode": {
    "name": "ipython",
    "version": 3
   },
   "file_extension": ".py",
   "mimetype": "text/x-python",
   "name": "python",
   "nbconvert_exporter": "python",
   "pygments_lexer": "ipython3",
   "version": "3.8.3"
  }
 },
 "nbformat": 4,
 "nbformat_minor": 4
}
