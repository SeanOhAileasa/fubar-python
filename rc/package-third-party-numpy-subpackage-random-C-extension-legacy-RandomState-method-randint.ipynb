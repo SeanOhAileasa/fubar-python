{
 "cells": [
  {
   "cell_type": "markdown",
   "metadata": {},
   "source": [
    "# package-third-party-numpy-subpackage-random-C-extension-legacy-RandomState-method-randint\n",
    "> [TABLE OF CONTENTS](https://nbviewer.jupyter.org/github/SeanOhAileasa/fubar-python/blob/main/fubar-python.ipynb#top)\n",
    "***"
   ]
  },
  {
   "cell_type": "code",
   "execution_count": 1,
   "metadata": {
    "scrolled": true
   },
   "outputs": [],
   "source": [
    "# b_T_hird_P_arty-imports\n",
    "from numpy.random import RandomState as CLegacyGenerator"
   ]
  },
  {
   "cell_type": "code",
   "execution_count": 2,
   "metadata": {},
   "outputs": [],
   "source": [
    "from numpy.random import MT19937 as CSlowMersenneTwister"
   ]
  },
  {
   "cell_type": "code",
   "execution_count": 3,
   "metadata": {},
   "outputs": [],
   "source": [
    "# package numpy - subpackage random - object MT19937 alias CSlowMersenneTwister - instantiate\n",
    "nMT19937=CSlowMersenneTwister()\n",
    "# package numpy - subpackage random - object RandomState alias CLegacyGenerator - instantiate\n",
    "n=CLegacyGenerator(nMT19937)"
   ]
  },
  {
   "cell_type": "code",
   "execution_count": 4,
   "metadata": {},
   "outputs": [
    {
     "name": "stdout",
     "output_type": "stream",
     "text": [
      "\n",
      "        randint(low, high=None, size=None, dtype=int)\n",
      "\n",
      "        Return random integers from `low` (inclusive) to `high` (exclusive).\n",
      "\n",
      "        Return random integers from the \"discrete uniform\" distribution of\n",
      "        the specified dtype in the \"half-open\" interval [`low`, `high`). If\n",
      "        `high` is None (the default), then results are from [0, `low`).\n",
      "\n",
      "        .. note::\n",
      "            New code should use the ``integers`` method of a ``default_rng()``\n",
      "            instance instead; see `random-quick-start`.\n",
      "\n",
      "        Parameters\n",
      "        ----------\n",
      "        low : int or array-like of ints\n",
      "            Lowest (signed) integers to be drawn from the distribution (unless\n",
      "            ``high=None``, in which case this parameter is one above the\n",
      "            *highest* such integer).\n",
      "        high : int or array-like of ints, optional\n",
      "            If provided, one above the largest (signed) integer to be drawn\n",
      "            from the distribution (see above for behavior if ``high=None``).\n",
      "            If array-like, must contain integer values\n",
      "        size : int or tuple of ints, optional\n",
      "            Output shape.  If the given shape is, e.g., ``(m, n, k)``, then\n",
      "            ``m * n * k`` samples are drawn.  Default is None, in which case a\n",
      "            single value is returned.\n",
      "        dtype : dtype, optional\n",
      "            Desired dtype of the result. Byteorder must be native.\n",
      "            The default value is int.\n",
      "\n",
      "            .. versionadded:: 1.11.0\n",
      "\n",
      "        Returns\n",
      "        -------\n",
      "        out : int or ndarray of ints\n",
      "            `size`-shaped array of random integers from the appropriate\n",
      "            distribution, or a single such random int if `size` not provided.\n",
      "\n",
      "        See Also\n",
      "        --------\n",
      "        random_integers : similar to `randint`, only for the closed\n",
      "            interval [`low`, `high`], and 1 is the lowest value if `high` is\n",
      "            omitted.\n",
      "        Generator.integers: which should be used for new code.\n",
      "\n",
      "        Examples\n",
      "        --------\n",
      "        >>> np.random.randint(2, size=10)\n",
      "        array([1, 0, 0, 0, 1, 1, 0, 0, 1, 0]) # random\n",
      "        >>> np.random.randint(1, size=10)\n",
      "        array([0, 0, 0, 0, 0, 0, 0, 0, 0, 0])\n",
      "\n",
      "        Generate a 2 x 4 array of ints between 0 and 4, inclusive:\n",
      "\n",
      "        >>> np.random.randint(5, size=(2, 4))\n",
      "        array([[4, 0, 2, 1], # random\n",
      "               [3, 2, 2, 0]])\n",
      "\n",
      "        Generate a 1 x 3 array with 3 different upper bounds\n",
      "\n",
      "        >>> np.random.randint(1, [3, 5, 10])\n",
      "        array([2, 2, 9]) # random\n",
      "\n",
      "        Generate a 1 by 3 array with 3 different lower bounds\n",
      "\n",
      "        >>> np.random.randint([1, 5, 7], 10)\n",
      "        array([9, 8, 7]) # random\n",
      "\n",
      "        Generate a 2 by 4 array using broadcasting with dtype of uint8\n",
      "\n",
      "        >>> np.random.randint([1, 3, 5, 7], [[10], [20]], dtype=np.uint8)\n",
      "        array([[ 8,  6,  9,  7], # random\n",
      "               [ 1, 16,  9, 12]], dtype=uint8)\n",
      "        \n"
     ]
    }
   ],
   "source": [
    "# package numpy - subpackage random - object RandomState alias CLegacyGenerator - method randint - call\n",
    "print(n.randint.__doc__) # method randint - attr __doc__ - access"
   ]
  },
  {
   "cell_type": "markdown",
   "metadata": {},
   "source": [
    "***\n",
    "# END"
   ]
  }
 ],
 "metadata": {
  "kernelspec": {
   "display_name": "Python 3",
   "language": "python",
   "name": "python3"
  },
  "language_info": {
   "codemirror_mode": {
    "name": "ipython",
    "version": 3
   },
   "file_extension": ".py",
   "mimetype": "text/x-python",
   "name": "python",
   "nbconvert_exporter": "python",
   "pygments_lexer": "ipython3",
   "version": "3.8.3"
  }
 },
 "nbformat": 4,
 "nbformat_minor": 4
}
