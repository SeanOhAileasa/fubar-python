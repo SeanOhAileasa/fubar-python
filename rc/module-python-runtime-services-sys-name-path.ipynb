{
 "cells": [
  {
   "cell_type": "markdown",
   "metadata": {},
   "source": [
    "# module-python-runtime-services-sys-name-path\n",
    "> [TABLE OF CONTENTS](https://nbviewer.jupyter.org/github/SeanOhAileasa/fubar-python/blob/main/fubar-python.ipynb#top)\n",
    "***"
   ]
  },
  {
   "cell_type": "markdown",
   "metadata": {},
   "source": [
    "```python\n",
    "sys.path\n",
    "```\n",
    "> [Python Documentation](https://web.archive.org/web/20200503112950/https://docs.python.org/3/library/sys.html#sys.path) [0]"
   ]
  },
  {
   "cell_type": "markdown",
   "metadata": {},
   "source": [
    "- list - strings - that specifies the search path for modules - initialised from the environment variable - [PYTHONPATH](https://nbviewer.jupyter.org/github/SeanOhAileasa/fubar-python/blob/main/fubar-python.ipynb#top/L8733/blob/master/src/pro/par/pyt/environment-variable-PYTHONPATH.ipynb) - plus an installation-dependent default [0]"
   ]
  },
  {
   "cell_type": "markdown",
   "metadata": {},
   "source": [
    "- initialized upon program startup [0] - format for [PYTHONPATH](https://nbviewer.jupyter.org/github/SeanOhAileasa/fubar-python/blob/main/fubar-python.ipynb#top/L8733/blob/master/src/pro/par/pyt/environment-variable-PYTHONPATH.ipynb) is OS-dependent but should mimic the PATH environment variable [8]"
   ]
  },
  {
   "cell_type": "code",
   "execution_count": 1,
   "metadata": {},
   "outputs": [
    {
     "name": "stdout",
     "output_type": "stream",
     "text": [
      "/c/Users/E6985/L8733/src/pro/par/pyt\n"
     ]
    }
   ],
   "source": [
    "# current directory\n",
    "!pwd"
   ]
  },
  {
   "cell_type": "code",
   "execution_count": 2,
   "metadata": {},
   "outputs": [],
   "source": [
    "# a_S_tandard_L_ibrary-imports\n",
    "from sys import path as aSLsyspath"
   ]
  },
  {
   "cell_type": "markdown",
   "metadata": {},
   "source": [
    "- script directory is inserted before the entries inserted as a result of [PYTHONPATH](https://nbviewer.jupyter.org/github/SeanOhAileasa/fubar-python/blob/main/fubar-python.ipynb#top/L8733/blob/master/src/pro/par/pyt/environment-variable-PYTHONPATH.ipynb) [0]\n",
    "\n",
    "```\n",
    "# script directory\n",
    "'C:\\\\Users\\\\E6985\\\\L8733\\\\src\\\\pro\\\\par\\\\pyt'\n",
    "```\n",
    "\n",
    "```\n",
    "# PYTHONPATH\n",
    "'C:\\\\Users\\\\E6985\\\\anaconda3\\\\python38.zip',\n",
    "'C:\\\\Users\\\\E6985\\\\anaconda3\\\\DLLs',\n",
    "'C:\\\\Users\\\\E6985\\\\anaconda3\\\\lib',\n",
    "'C:\\\\Users\\\\E6985\\\\anaconda3',\n",
    "'',\n",
    "'C:\\\\Users\\\\E6985\\\\anaconda3\\\\lib\\\\site-packages',\n",
    "'C:\\\\Users\\\\E6985\\\\anaconda3\\\\lib\\\\site-packages\\\\win32',\n",
    "'C:\\\\Users\\\\E6985\\\\anaconda3\\\\lib\\\\site-packages\\\\win32\\\\lib',\n",
    "'C:\\\\Users\\\\E6985\\\\anaconda3\\\\lib\\\\site-packages\\\\Pythonwin',\n",
    "'C:\\\\Users\\\\E6985\\\\anaconda3\\\\lib\\\\site-packages\\\\IPython\\\\extensions',\n",
    "'C:\\\\Users\\\\E6985\\\\.ipython'\n",
    "```"
   ]
  },
  {
   "cell_type": "code",
   "execution_count": 3,
   "metadata": {},
   "outputs": [
    {
     "data": {
      "text/plain": [
       "['C:\\\\Users\\\\E6985\\\\L8733\\\\src\\\\pro\\\\par\\\\pyt',\n",
       " 'C:\\\\Users\\\\E6985\\\\anaconda3\\\\python38.zip',\n",
       " 'C:\\\\Users\\\\E6985\\\\anaconda3\\\\DLLs',\n",
       " 'C:\\\\Users\\\\E6985\\\\anaconda3\\\\lib',\n",
       " 'C:\\\\Users\\\\E6985\\\\anaconda3',\n",
       " '',\n",
       " 'C:\\\\Users\\\\E6985\\\\anaconda3\\\\lib\\\\site-packages',\n",
       " 'C:\\\\Users\\\\E6985\\\\anaconda3\\\\lib\\\\site-packages\\\\win32',\n",
       " 'C:\\\\Users\\\\E6985\\\\anaconda3\\\\lib\\\\site-packages\\\\win32\\\\lib',\n",
       " 'C:\\\\Users\\\\E6985\\\\anaconda3\\\\lib\\\\site-packages\\\\Pythonwin',\n",
       " 'C:\\\\Users\\\\E6985\\\\anaconda3\\\\lib\\\\site-packages\\\\IPython\\\\extensions',\n",
       " 'C:\\\\Users\\\\E6985\\\\.ipython']"
      ]
     },
     "execution_count": 3,
     "metadata": {},
     "output_type": "execute_result"
    }
   ],
   "source": [
    "# module sys - name path - call alias\n",
    "aSLsyspath"
   ]
  },
  {
   "cell_type": "markdown",
   "metadata": {},
   "source": [
    "- the first item of this list - is the directory containing the script that was used to invoke the python interpreter [0]\n",
    "\n",
    "```python\n",
    "sys.path[0]\n",
    "```"
   ]
  },
  {
   "cell_type": "code",
   "execution_count": 4,
   "metadata": {},
   "outputs": [
    {
     "data": {
      "text/plain": [
       "'C:\\\\Users\\\\E6985\\\\L8733\\\\src\\\\pro\\\\par\\\\pyt'"
      ]
     },
     "execution_count": 4,
     "metadata": {},
     "output_type": "execute_result"
    }
   ],
   "source": [
    "# module sys - name path - call alias\n",
    "aSLsyspath[0]"
   ]
  },
  {
   "cell_type": "markdown",
   "metadata": {},
   "source": [
    "- if the script directory is not available - if the interpreter is invoked interactively or if the script is read from standard input - path[0] - is the empty string which directs python to search modules in the current directory first [0]"
   ]
  },
  {
   "cell_type": "markdown",
   "metadata": {},
   "source": [
    "```python\n",
    "Python 3.8.3 (default, Jul  2 2020, 17:30:36) [MSC v.1916 64 bit (AMD64)] :: Anaconda, Inc. on win32\n",
    "Type \"help\", \"copyright\", \"credits\" or \"license\" for more information.\n",
    ">>> # a_S_tandard_L_ibrary-imports\n",
    ">>> from sys import path as aSLsyspath\n",
    ">>> # module sys - name path - call alias\n",
    ">>> aSLsyspath[0]\n",
    "''\n",
    ">>> exit()\n",
    "```"
   ]
  },
  {
   "cell_type": "markdown",
   "metadata": {},
   "source": [
    "```python\n",
    "Python 3.8.3 (default, Jul  2 2020, 17:30:36) [MSC v.1916 64 bit (AMD64)]\n",
    "Type 'copyright', 'credits' or 'license' for more information\n",
    "IPython 7.16.1 -- An enhanced Interactive Python. Type '?' for help.\n",
    "\n",
    "In [1]: # a_S_tandard_L_ibrary-imports\n",
    "\n",
    "In [2]: from sys import path as aSLsyspath\n",
    "\n",
    "In [3]: # module sys - name path - call alias\n",
    "\n",
    "In [4]: aSLsyspath[0]\n",
    "Out[4]: 'C:\\\\Users\\\\E6985\\\\anaconda3\\\\Scripts'\n",
    "\n",
    "In [5]: exit\n",
    "```"
   ]
  },
  {
   "cell_type": "code",
   "execution_count": 5,
   "metadata": {},
   "outputs": [
    {
     "name": "stdout",
     "output_type": "stream",
     "text": [
      "\"\"\"\t<ssyspath> Directory containing script used to invoke interpreter.\n",
      "\"\"\"\n",
      "\n",
      "# a_S_tandard_L_ibrary-imports\n",
      "from sys import path as aSLsyspath\n",
      "\n",
      "# f_function definitions\n",
      "def main():\n",
      "\t\"\"\"\t<ssyspath.main>\n",
      "\"\"\"\n",
      "\t# module sys - name path - call alias\n",
      "\tprint(aSLsyspath[0])\n",
      "\n",
      "# special attribute - __name__\n",
      "if __name__==\"__main__\": # evaluate current module\n",
      "\t# function main - call\n",
      "\tmain()\n"
     ]
    }
   ],
   "source": [
    "# display script\n",
    "!cat ~/L8733/src/pro/par/pyt/py/ssyspath.py"
   ]
  },
  {
   "cell_type": "code",
   "execution_count": 6,
   "metadata": {},
   "outputs": [
    {
     "name": "stdout",
     "output_type": "stream",
     "text": [
      "C:\\Users\\E6985\\L8733\\src\\pro\\par\\pyt\n"
     ]
    }
   ],
   "source": [
    "# execute current directory - .py\n",
    "!mv ~/L8733/src/pro/par/pyt/py/ssyspath.py ./ & python ssyspath.py & mv ~/L8733/src/pro/par/pyt/ssyspath.py ./py"
   ]
  },
  {
   "cell_type": "code",
   "execution_count": 7,
   "metadata": {},
   "outputs": [
    {
     "name": "stdout",
     "output_type": "stream",
     "text": [
      "C:\\Users\\E6985\\L8733\\src\\pro\\par\\pyt\\py\n"
     ]
    }
   ],
   "source": [
    "# execute from file - .py\n",
    "%run ~/L8733/src/pro/par/pyt/py/ssyspath.py"
   ]
  },
  {
   "cell_type": "code",
   "execution_count": 8,
   "metadata": {},
   "outputs": [],
   "source": [
    "# restart\n",
    "exit()"
   ]
  },
  {
   "cell_type": "markdown",
   "metadata": {},
   "source": [
    "- program is free to modify this list for its own purposes - only strings and bytes should be added to - sys.path - all other data types are ignored during import [0]"
   ]
  },
  {
   "cell_type": "code",
   "execution_count": 1,
   "metadata": {},
   "outputs": [],
   "source": [
    "# a_S_tandard_L_ibrary-imports\n",
    "from sys import path as aSLsyspath"
   ]
  },
  {
   "cell_type": "code",
   "execution_count": 2,
   "metadata": {},
   "outputs": [],
   "source": [
    "# module sys - name path - call alias\n",
    "aSLsyspath.append(r\"c:/Users/E6985/L8733/src/pro/par/pyt/py\")"
   ]
  },
  {
   "cell_type": "code",
   "execution_count": 3,
   "metadata": {},
   "outputs": [
    {
     "data": {
      "text/plain": [
       "['C:\\\\Users\\\\E6985\\\\L8733\\\\src\\\\pro\\\\par\\\\pyt',\n",
       " 'C:\\\\Users\\\\E6985\\\\anaconda3\\\\python38.zip',\n",
       " 'C:\\\\Users\\\\E6985\\\\anaconda3\\\\DLLs',\n",
       " 'C:\\\\Users\\\\E6985\\\\anaconda3\\\\lib',\n",
       " 'C:\\\\Users\\\\E6985\\\\anaconda3',\n",
       " '',\n",
       " 'C:\\\\Users\\\\E6985\\\\anaconda3\\\\lib\\\\site-packages',\n",
       " 'C:\\\\Users\\\\E6985\\\\anaconda3\\\\lib\\\\site-packages\\\\win32',\n",
       " 'C:\\\\Users\\\\E6985\\\\anaconda3\\\\lib\\\\site-packages\\\\win32\\\\lib',\n",
       " 'C:\\\\Users\\\\E6985\\\\anaconda3\\\\lib\\\\site-packages\\\\Pythonwin',\n",
       " 'C:\\\\Users\\\\E6985\\\\anaconda3\\\\lib\\\\site-packages\\\\IPython\\\\extensions',\n",
       " 'C:\\\\Users\\\\E6985\\\\.ipython',\n",
       " 'c:/Users/E6985/L8733/src/pro/par/pyt/py']"
      ]
     },
     "execution_count": 3,
     "metadata": {},
     "output_type": "execute_result"
    }
   ],
   "source": [
    "# module sys - name path - call alias\n",
    "aSLsyspath"
   ]
  },
  {
   "cell_type": "code",
   "execution_count": 4,
   "metadata": {},
   "outputs": [],
   "source": [
    "# restart\n",
    "exit()"
   ]
  },
  {
   "cell_type": "code",
   "execution_count": 1,
   "metadata": {},
   "outputs": [
    {
     "data": {
      "text/plain": [
       "['C:\\\\Users\\\\E6985\\\\L8733\\\\src\\\\pro\\\\par\\\\pyt',\n",
       " 'C:\\\\Users\\\\E6985\\\\anaconda3\\\\python38.zip',\n",
       " 'C:\\\\Users\\\\E6985\\\\anaconda3\\\\DLLs',\n",
       " 'C:\\\\Users\\\\E6985\\\\anaconda3\\\\lib',\n",
       " 'C:\\\\Users\\\\E6985\\\\anaconda3',\n",
       " '',\n",
       " 'C:\\\\Users\\\\E6985\\\\anaconda3\\\\lib\\\\site-packages',\n",
       " 'C:\\\\Users\\\\E6985\\\\anaconda3\\\\lib\\\\site-packages\\\\win32',\n",
       " 'C:\\\\Users\\\\E6985\\\\anaconda3\\\\lib\\\\site-packages\\\\win32\\\\lib',\n",
       " 'C:\\\\Users\\\\E6985\\\\anaconda3\\\\lib\\\\site-packages\\\\Pythonwin',\n",
       " 'C:\\\\Users\\\\E6985\\\\anaconda3\\\\lib\\\\site-packages\\\\IPython\\\\extensions',\n",
       " 'C:\\\\Users\\\\E6985\\\\.ipython']"
      ]
     },
     "execution_count": 1,
     "metadata": {},
     "output_type": "execute_result"
    }
   ],
   "source": [
    "# a_S_tandard_L_ibrary-imports\n",
    "from sys import path as aSLsyspath\n",
    "# module sys - name path - call alias\n",
    "aSLsyspath"
   ]
  },
  {
   "cell_type": "markdown",
   "metadata": {},
   "source": [
    "***\n",
    "### reference\n",
    "> [PYTHONPATH](https://nbviewer.jupyter.org/github/SeanOhAileasa/fubar-python/blob/main/fubar-python.ipynb#top/L8733/blob/master/src/pro/par/pyt/environment-variable-PYTHONPATH.ipynb)\n",
    "***"
   ]
  },
  {
   "cell_type": "markdown",
   "metadata": {},
   "source": [
    "***\n",
    "# END"
   ]
  }
 ],
 "metadata": {
  "kernelspec": {
   "display_name": "Python 3",
   "language": "python",
   "name": "python3"
  },
  "language_info": {
   "codemirror_mode": {
    "name": "ipython",
    "version": 3
   },
   "file_extension": ".py",
   "mimetype": "text/x-python",
   "name": "python",
   "nbconvert_exporter": "python",
   "pygments_lexer": "ipython3",
   "version": "3.8.3"
  }
 },
 "nbformat": 4,
 "nbformat_minor": 4
}
