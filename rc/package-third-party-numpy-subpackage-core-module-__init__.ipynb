{
 "cells": [
  {
   "cell_type": "markdown",
   "metadata": {},
   "source": [
    "# package-third-party-numpy-subpackage-core-module-\\_\\_init\\_\\_\n",
    "> [TABLE OF CONTENTS](https://nbviewer.jupyter.org/github/SeanOhAileasa/fubar-python/blob/main/fubar-python.ipynb#top)\n",
    "***"
   ]
  },
  {
   "cell_type": "code",
   "execution_count": 1,
   "metadata": {},
   "outputs": [],
   "source": [
    "# b_T_hird_P_arty-imports\n",
    "import numpy.core as nce"
   ]
  },
  {
   "cell_type": "code",
   "execution_count": 2,
   "metadata": {},
   "outputs": [
    {
     "data": {
      "text/plain": [
       "'C:\\\\Users\\\\E6985\\\\anaconda3\\\\lib\\\\site-packages\\\\numpy\\\\core\\\\__init__.py'"
      ]
     },
     "execution_count": 2,
     "metadata": {},
     "output_type": "execute_result"
    }
   ],
   "source": [
    "# package numpy - subpackage core alias nce - attribute __file__ - access\n",
    "nce.__file__"
   ]
  },
  {
   "cell_type": "code",
   "execution_count": 3,
   "metadata": {
    "scrolled": false
   },
   "outputs": [
    {
     "name": "stdout",
     "output_type": "stream",
     "text": [
      "\"\"\"\n",
      "Contains the core of NumPy: ndarray, ufuncs, dtypes, etc.\n",
      "\n",
      "Please note that this module is private.  All functions and objects\n",
      "are available in the main ``numpy`` namespace - use that instead.\n",
      "\n",
      "\"\"\"\n",
      "\n",
      "from __future__ import division, absolute_import, print_function\n",
      "\n",
      "from numpy.version import version as __version__\n",
      "\n",
      "import os\n",
      "\n",
      "# disables OpenBLAS affinity setting of the main thread that limits\n",
      "# python threads or processes to one core\n",
      "env_added = []\n",
      "for envkey in ['OPENBLAS_MAIN_FREE', 'GOTOBLAS_MAIN_FREE']:\n",
      "    if envkey not in os.environ:\n",
      "        os.environ[envkey] = '1'\n",
      "        env_added.append(envkey)\n",
      "\n",
      "try:\n",
      "    from . import multiarray\n",
      "except ImportError as exc:\n",
      "    import sys\n",
      "    msg = \"\"\"\n",
      "\n",
      "IMPORTANT: PLEASE READ THIS FOR ADVICE ON HOW TO SOLVE THIS ISSUE!\n",
      "\n",
      "Importing the numpy C-extensions failed. This error can happen for\n",
      "many reasons, often due to issues with your setup or how NumPy was\n",
      "installed.\n",
      "\n",
      "We have compiled some common reasons and troubleshooting tips at:\n",
      "\n",
      "    https://numpy.org/devdocs/user/troubleshooting-importerror.html\n",
      "\n",
      "Please note and check the following:\n",
      "\n",
      "  * The Python version is: Python%d.%d from \"%s\"\n",
      "  * The NumPy version is: \"%s\"\n",
      "\n",
      "and make sure that they are the versions you expect.\n",
      "Please carefully study the documentation linked above for further help.\n",
      "\n",
      "Original error was: %s\n",
      "\"\"\" % (sys.version_info[0], sys.version_info[1], sys.executable,\n",
      "        __version__, exc)\n",
      "    raise ImportError(msg)\n",
      "finally:\n",
      "    for envkey in env_added:\n",
      "        del os.environ[envkey]\n",
      "del envkey\n",
      "del env_added\n",
      "del os\n",
      "\n",
      "from . import umath\n",
      "\n",
      "# Check that multiarray,umath are pure python modules wrapping\n",
      "# _multiarray_umath and not either of the old c-extension modules\n",
      "if not (hasattr(multiarray, '_multiarray_umath') and\n",
      "        hasattr(umath, '_multiarray_umath')):\n",
      "    import sys\n",
      "    path = sys.modules['numpy'].__path__\n",
      "    msg = (\"Something is wrong with the numpy installation. \"\n",
      "        \"While importing we detected an older version of \"\n",
      "        \"numpy in {}. One method of fixing this is to repeatedly uninstall \"\n",
      "        \"numpy until none is found, then reinstall this version.\")\n",
      "    raise ImportError(msg.format(path))\n",
      "\n",
      "from . import numerictypes as nt\n",
      "multiarray.set_typeDict(nt.sctypeDict)\n",
      "from . import numeric\n",
      "from .numeric import *\n",
      "from . import fromnumeric\n",
      "from .fromnumeric import *\n",
      "from . import defchararray as char\n",
      "from . import records as rec\n",
      "from .records import *\n",
      "from .memmap import *\n",
      "from .defchararray import chararray\n",
      "from . import function_base\n",
      "from .function_base import *\n",
      "from . import machar\n",
      "from .machar import *\n",
      "from . import getlimits\n",
      "from .getlimits import *\n",
      "from . import shape_base\n",
      "from .shape_base import *\n",
      "from . import einsumfunc\n",
      "from .einsumfunc import *\n",
      "del nt\n",
      "\n",
      "from .fromnumeric import amax as max, amin as min, round_ as round\n",
      "from .numeric import absolute as abs\n",
      "\n",
      "# do this after everything else, to minimize the chance of this misleadingly\n",
      "# appearing in an import-time traceback\n",
      "from . import _add_newdocs\n",
      "# add these for module-freeze analysis (like PyInstaller)\n",
      "from . import _dtype_ctypes\n",
      "from . import _internal\n",
      "from . import _dtype\n",
      "from . import _methods\n",
      "\n",
      "__all__ = ['char', 'rec', 'memmap']\n",
      "__all__ += numeric.__all__\n",
      "__all__ += fromnumeric.__all__\n",
      "__all__ += rec.__all__\n",
      "__all__ += ['chararray']\n",
      "__all__ += function_base.__all__\n",
      "__all__ += machar.__all__\n",
      "__all__ += getlimits.__all__\n",
      "__all__ += shape_base.__all__\n",
      "__all__ += einsumfunc.__all__\n",
      "\n",
      "# Make it possible so that ufuncs can be pickled\n",
      "#  Here are the loading and unloading functions\n",
      "# The name numpy.core._ufunc_reconstruct must be\n",
      "#   available for unpickling to work.\n",
      "def _ufunc_reconstruct(module, name):\n",
      "    # The `fromlist` kwarg is required to ensure that `mod` points to the\n",
      "    # inner-most module rather than the parent package when module name is\n",
      "    # nested. This makes it possible to pickle non-toplevel ufuncs such as\n",
      "    # scipy.special.expit for instance.\n",
      "    mod = __import__(module, fromlist=[name])\n",
      "    return getattr(mod, name)\n",
      "\n",
      "def _ufunc_reduce(func):\n",
      "    from pickle import whichmodule\n",
      "    name = func.__name__\n",
      "    return _ufunc_reconstruct, (whichmodule(func, name), name)\n",
      "\n",
      "\n",
      "import sys\n",
      "if sys.version_info[0] >= 3:\n",
      "    import copyreg\n",
      "else:\n",
      "    import copy_reg as copyreg\n",
      "\n",
      "copyreg.pickle(ufunc, _ufunc_reduce, _ufunc_reconstruct)\n",
      "# Unclutter namespace (must keep _ufunc_reconstruct for unpickling)\n",
      "del copyreg\n",
      "del sys\n",
      "del _ufunc_reduce\n",
      "\n",
      "from numpy._pytesttester import PytestTester\n",
      "test = PytestTester(__name__)\n",
      "del PytestTester\n"
     ]
    }
   ],
   "source": [
    "%%script bash\n",
    "cat ~/anaconda3/lib/site-packages/numpy/core/__init__.py"
   ]
  },
  {
   "cell_type": "markdown",
   "metadata": {},
   "source": [
    "***\n",
    "# END"
   ]
  }
 ],
 "metadata": {
  "kernelspec": {
   "display_name": "Python 3",
   "language": "python",
   "name": "python3"
  },
  "language_info": {
   "codemirror_mode": {
    "name": "ipython",
    "version": 3
   },
   "file_extension": ".py",
   "mimetype": "text/x-python",
   "name": "python",
   "nbconvert_exporter": "python",
   "pygments_lexer": "ipython3",
   "version": "3.8.3"
  }
 },
 "nbformat": 4,
 "nbformat_minor": 4
}
