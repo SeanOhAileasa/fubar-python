{
 "cells": [
  {
   "cell_type": "markdown",
   "metadata": {},
   "source": [
    "# package-third-party-numpy-subpackage-random-C-extension-parent-BitGenerator-class-Generator\n",
    "> [TABLE OF CONTENTS](https://nbviewer.jupyter.org/github/SeanOhAileasa/fubar-python/blob/main/fubar-python.ipynb#top)\n",
    "***"
   ]
  },
  {
   "cell_type": "code",
   "execution_count": 1,
   "metadata": {},
   "outputs": [],
   "source": [
    "# b_T_hird_P_arty-imports\n",
    "from numpy.random import Generator as CContainerBitGenerator"
   ]
  },
  {
   "cell_type": "code",
   "execution_count": 2,
   "metadata": {},
   "outputs": [],
   "source": [
    "from numpy.random import PCG64 as CPermutedCongruentialGenerator"
   ]
  },
  {
   "cell_type": "code",
   "execution_count": 3,
   "metadata": {},
   "outputs": [
    {
     "name": "stdout",
     "output_type": "stream",
     "text": [
      "\n",
      "    Generator(bit_generator)\n",
      "\n",
      "    Container for the BitGenerators.\n",
      "\n",
      "    ``Generator`` exposes a number of methods for generating random\n",
      "    numbers drawn from a variety of probability distributions. In addition to\n",
      "    the distribution-specific arguments, each method takes a keyword argument\n",
      "    `size` that defaults to ``None``. If `size` is ``None``, then a single\n",
      "    value is generated and returned. If `size` is an integer, then a 1-D\n",
      "    array filled with generated values is returned. If `size` is a tuple,\n",
      "    then an array with that shape is filled and returned.\n",
      "\n",
      "    The function :func:`numpy.random.default_rng` will instantiate\n",
      "    a `Generator` with numpy's default `BitGenerator`.\n",
      "\n",
      "    **No Compatibility Guarantee**\n",
      "\n",
      "    ``Generator`` does not provide a version compatibility guarantee. In\n",
      "    particular, as better algorithms evolve the bit stream may change.\n",
      "\n",
      "    Parameters\n",
      "    ----------\n",
      "    bit_generator : BitGenerator\n",
      "        BitGenerator to use as the core generator.\n",
      "\n",
      "    Notes\n",
      "    -----\n",
      "    The Python stdlib module `random` contains pseudo-random number generator\n",
      "    with a number of methods that are similar to the ones available in\n",
      "    ``Generator``. It uses Mersenne Twister, and this bit generator can\n",
      "    be accessed using ``MT19937``. ``Generator``, besides being\n",
      "    NumPy-aware, has the advantage that it provides a much larger number\n",
      "    of probability distributions to choose from.\n",
      "\n",
      "    Examples\n",
      "    --------\n",
      "    >>> from numpy.random import Generator, PCG64\n",
      "    >>> rg = Generator(PCG64())\n",
      "    >>> rg.standard_normal()\n",
      "    -0.203  # random\n",
      "\n",
      "    See Also\n",
      "    --------\n",
      "    default_rng : Recommended constructor for `Generator`.\n",
      "    \n"
     ]
    }
   ],
   "source": [
    "# package numpy - subpackage random - object Generator alias CContainerBitGenerator - attribute __doc__ - access\n",
    "print(CContainerBitGenerator.__doc__)"
   ]
  },
  {
   "cell_type": "code",
   "execution_count": 4,
   "metadata": {},
   "outputs": [],
   "source": [
    "# package numpy - subpackage random - object PCG64 alias CPermutedCongruentialGenerator - instantiate\n",
    "nPCG64=CPermutedCongruentialGenerator()"
   ]
  },
  {
   "cell_type": "code",
   "execution_count": 5,
   "metadata": {},
   "outputs": [],
   "source": [
    "# package numpy - subpackage random - object Generator alias CContainerBitGenerator - instantiate\n",
    "n=CContainerBitGenerator(nPCG64)"
   ]
  },
  {
   "cell_type": "code",
   "execution_count": 6,
   "metadata": {},
   "outputs": [
    {
     "data": {
      "text/plain": [
       "array([1, 1, 1, 0, 0, 0, 1, 1, 0, 0], dtype=int64)"
      ]
     },
     "execution_count": 6,
     "metadata": {},
     "output_type": "execute_result"
    }
   ],
   "source": [
    "# package numpy - subpackage random - object Generator alias CContainerBitGenerator - method integers - call\n",
    "n.integers(2,size=10)"
   ]
  },
  {
   "cell_type": "markdown",
   "metadata": {},
   "source": [
    "***\n",
    "# END"
   ]
  }
 ],
 "metadata": {
  "kernelspec": {
   "display_name": "Python 3",
   "language": "python",
   "name": "python3"
  },
  "language_info": {
   "codemirror_mode": {
    "name": "ipython",
    "version": 3
   },
   "file_extension": ".py",
   "mimetype": "text/x-python",
   "name": "python",
   "nbconvert_exporter": "python",
   "pygments_lexer": "ipython3",
   "version": "3.8.3"
  }
 },
 "nbformat": 4,
 "nbformat_minor": 4
}
