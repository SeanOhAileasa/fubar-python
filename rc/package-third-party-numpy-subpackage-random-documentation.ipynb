{
 "cells": [
  {
   "cell_type": "markdown",
   "metadata": {},
   "source": [
    "# package-third-party-numpy-subpackage-random-documentation\n",
    "> [TABLE OF CONTENTS](https://nbviewer.jupyter.org/github/SeanOhAileasa/fubar-python/blob/main/fubar-python.ipynb#top)\n",
    "***"
   ]
  },
  {
   "cell_type": "markdown",
   "metadata": {},
   "source": [
    "> [Random sampling (numpy.random)](https://web.archive.org/web/20201031062804/https://numpy.org/doc/stable/reference/random/index.html#random-sampling-numpy-random)"
   ]
  },
  {
   "cell_type": "markdown",
   "metadata": {},
   "source": [
    "- package - numpy - documentation - refined slightly in the latest versions of the software - divided into two sections - ``BitGenerators`` - ``Generators`` - what i want you to do is go through this page and have a look at what the difference is between the two - specifically - going to be talking about generators and how they are used [2.4]"
   ]
  },
  {
   "cell_type": "markdown",
   "metadata": {},
   "source": [
    "> [Random Generator](https://web.archive.org/web/20201031062816/https://numpy.org/doc/stable/reference/random/generator.html#random-generator)"
   ]
  },
  {
   "cell_type": "markdown",
   "metadata": {},
   "source": [
    "- divided into few different sections - it begins by talking about the package - numpy - subpackage - random - function - default_rng - and how that is set up with seeds - as part of your assignment do a little bit of research on this - seeds - how they are set up - their roles - etc [2.3]"
   ]
  },
  {
   "cell_type": "markdown",
   "metadata": {},
   "source": [
    "- section - simple random data - function - integers - define sequences and arrays of integers - function - random - random real values - functions - choice - bytes - this section has been highly revised since recent functions - and its been condensed just to include the most important functionalities [2.4]"
   ]
  },
  {
   "cell_type": "markdown",
   "metadata": {},
   "source": [
    "- if you want to just generate some random data - for everyday purposes - you will find some functions here - there are some assumptions made in those functions about the types of random numbers that you want to generate - these functions actually are based on certain functions in another section - distributions [I.McLoughlin, \"numpy.random docs,\" GMIT, November 2018] [2.4]"
   ]
  },
  {
   "cell_type": "markdown",
   "metadata": {},
   "source": [
    "- section - permutation - function - shuffle - permutation - not much difference between these two functions - shuffle - modifies a sequence in place by shuffling its contents - permutation - leaves the original contents as is and instead it returns a shuffled version of the original [2.4]"
   ]
  },
  {
   "cell_type": "markdown",
   "metadata": {},
   "source": [
    "- section - distribution - has a lot of functions - they are all different - they are related to different probability distributions - theres a nice way to visualise this with a plot showing the difference between all the functions - sometimes you want to generate numbers that are not your typical kind of random numbers [2.4]"
   ]
  },
  {
   "cell_type": "markdown",
   "metadata": {},
   "source": [
    "***\n",
    "# END"
   ]
  }
 ],
 "metadata": {
  "kernelspec": {
   "display_name": "Python 3",
   "language": "python",
   "name": "python3"
  },
  "language_info": {
   "codemirror_mode": {
    "name": "ipython",
    "version": 3
   },
   "file_extension": ".py",
   "mimetype": "text/x-python",
   "name": "python",
   "nbconvert_exporter": "python",
   "pygments_lexer": "ipython3",
   "version": "3.8.3"
  }
 },
 "nbformat": 4,
 "nbformat_minor": 4
}
