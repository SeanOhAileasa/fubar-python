{
 "cells": [
  {
   "cell_type": "markdown",
   "metadata": {},
   "source": [
    "# function-built-in-class-compound-set-method-union\n",
    "> [TABLE OF CONTENTS](https://nbviewer.jupyter.org/github/SeanOhAileasa/fubar-python/blob/main/fubar-python.ipynb#top)\n",
    "***"
   ]
  },
  {
   "cell_type": "markdown",
   "metadata": {},
   "source": [
    "```python\n",
    "class set([iterable])\n",
    "class frozenset([iterable])\n",
    "```\n",
    "> [Python Documentation](https://web.archive.org/web/20200512003414/https://docs.python.org/3/library/stdtypes.html#set) [0]"
   ]
  },
  {
   "cell_type": "markdown",
   "metadata": {},
   "source": [
    "```python\n",
    "union(*others)\n",
    "set | other | ...\n",
    "```\n",
    "> [Python Documentation](https://web.archive.org/web/20200512003414/https://docs.python.org/3/library/stdtypes.html#frozenset.union) [0]"
   ]
  },
  {
   "cell_type": "markdown",
   "metadata": {},
   "source": [
    "- return a new set with elements from the set and all others [0]"
   ]
  },
  {
   "cell_type": "code",
   "execution_count": 1,
   "metadata": {},
   "outputs": [
    {
     "data": {
      "text/plain": [
       "{1, 2, 3, 5, 7, 11, 13}"
      ]
     },
     "execution_count": 1,
     "metadata": {},
     "output_type": "execute_result"
    }
   ],
   "source": [
    "nSetPrimes={2,3,5,7,11,13}\n",
    "nSetOdds={1,3,5,7}\n",
    "nSetPrimes.union(nSetOdds)"
   ]
  },
  {
   "cell_type": "markdown",
   "metadata": {},
   "source": [
    "- the non-operator version of method - union - will accept any iterable as an argument [0]"
   ]
  },
  {
   "cell_type": "code",
   "execution_count": 2,
   "metadata": {},
   "outputs": [
    {
     "data": {
      "text/plain": [
       "{0, 1, 11, 13, 2, 3, 5, 7, 'eight', 'four', 'six', 'two'}"
      ]
     },
     "execution_count": 2,
     "metadata": {},
     "output_type": "execute_result"
    }
   ],
   "source": [
    "nSetPrimes={2,3,5,7,11,13}\n",
    "nListOdds=[1,3,5,7]\n",
    "nTupleFibonacci=(0,1,1,2,3,5,7)\n",
    "nDictEvens={\"two\":2,\"four\":4,\"six\":6,\"eight\":8}\n",
    "nSetPrimes.union(nListOdds,nTupleFibonacci,nDictEvens)"
   ]
  },
  {
   "cell_type": "markdown",
   "metadata": {},
   "source": [
    "- operator based counterparts require their arguments to be sets [0]"
   ]
  },
  {
   "cell_type": "code",
   "execution_count": 3,
   "metadata": {},
   "outputs": [
    {
     "data": {
      "text/plain": [
       "{1, 2, 3, 5, 7, 11, 13}"
      ]
     },
     "execution_count": 3,
     "metadata": {},
     "output_type": "execute_result"
    }
   ],
   "source": [
    "nSetPrimes={2,3,5,7,11,13}\n",
    "nSetOdds={1,3,5,7}\n",
    "nSetPrimes|nSetOdds"
   ]
  },
  {
   "cell_type": "markdown",
   "metadata": {},
   "source": [
    "***\n",
    "# END"
   ]
  }
 ],
 "metadata": {
  "kernelspec": {
   "display_name": "Python 3",
   "language": "python",
   "name": "python3"
  },
  "language_info": {
   "codemirror_mode": {
    "name": "ipython",
    "version": 3
   },
   "file_extension": ".py",
   "mimetype": "text/x-python",
   "name": "python",
   "nbconvert_exporter": "python",
   "pygments_lexer": "ipython3",
   "version": "3.7.6"
  }
 },
 "nbformat": 4,
 "nbformat_minor": 4
}
