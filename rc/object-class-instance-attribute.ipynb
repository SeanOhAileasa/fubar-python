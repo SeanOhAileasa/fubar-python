{
 "cells": [
  {
   "cell_type": "markdown",
   "metadata": {},
   "source": [
    "# object-class-instance-attribute\n",
    "> [TABLE OF CONTENTS](https://nbviewer.jupyter.org/github/SeanOhAileasa/fubar-python/blob/main/fubar-python.ipynb#top)\n",
    "***"
   ]
  },
  {
   "cell_type": "markdown",
   "metadata": {},
   "source": [
    "- class attributes - are the same for all instances - in this case all dogs - while each dog has a unique name and age - every dog will be a mammal [3.4]"
   ]
  },
  {
   "cell_type": "code",
   "execution_count": 1,
   "metadata": {},
   "outputs": [],
   "source": [
    "# define class - PCDog\n",
    "class PCDog:\n",
    "    # class attributes\n",
    "    nClsAttSpecies=\"mammal\""
   ]
  },
  {
   "cell_type": "markdown",
   "metadata": {},
   "source": [
    "- instance attributes - are specific to each object - all classes create objects - all objects contain characteristics called attributes - properties - using method - \\_\\_init\\_\\_() - to initialise - specify - an objects initial attributes by giving them their default value - state - this method must have at least one argument - variable self - which refers to the object itself - PCDog - note will never have to call method - \\_\\_init\\_\\_ - it gets called automatically when an analyst creates a new - PCDog - instance [3.4]"
   ]
  },
  {
   "cell_type": "code",
   "execution_count": 2,
   "metadata": {},
   "outputs": [],
   "source": [
    "# define class - PCDog\n",
    "class PCDog:\n",
    "    # class attributes\n",
    "    nClsAttSpecies=\"mammal\"\n",
    "    # instance attributes - initialiser\n",
    "    def __init__(self,nInsAttName,nInsAttAge):\n",
    "        self.nInsAttName=nInsAttName\n",
    "        self.nInsAttAge=nInsAttAge"
   ]
  },
  {
   "cell_type": "markdown",
   "metadata": {},
   "source": [
    "- class - PCDog - each dog has a specific name and age - obviously important to know when an analyst starts creating different dogs - the class is just for defining the - PCDog - not actually creating instances of individual dogs with specific names and ages - variable self - is also an instance of the class - since instances of a class have varying values an analyst could state\n",
    "```python\n",
    "PCDog.nInsAttName=nInsAttName\n",
    "```\n",
    "rather than\n",
    "```python\n",
    "self.nInsAttName=nInsAttName\n",
    "```\n",
    "- but since not all dogs share the same name - need to be able to assign different values to different instances - hence the need for the special variable - self - which will help keep track of individual instances of each class [3.4]"
   ]
  },
  {
   "cell_type": "markdown",
   "metadata": {},
   "source": [
    "***\n",
    "# END"
   ]
  }
 ],
 "metadata": {
  "kernelspec": {
   "display_name": "Python 3",
   "language": "python",
   "name": "python3"
  },
  "language_info": {
   "codemirror_mode": {
    "name": "ipython",
    "version": 3
   },
   "file_extension": ".py",
   "mimetype": "text/x-python",
   "name": "python",
   "nbconvert_exporter": "python",
   "pygments_lexer": "ipython3",
   "version": "3.8.3"
  }
 },
 "nbformat": 4,
 "nbformat_minor": 4
}
