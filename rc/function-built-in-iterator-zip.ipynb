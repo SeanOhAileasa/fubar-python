{
 "cells": [
  {
   "cell_type": "markdown",
   "metadata": {},
   "source": [
    "# function-built-in-iterator-zip\n",
    "> [TABLE OF CONTENTS](https://nbviewer.jupyter.org/github/SeanOhAileasa/fubar-python/blob/main/fubar-python.ipynb#top)\n",
    "***"
   ]
  },
  {
   "cell_type": "markdown",
   "metadata": {},
   "source": [
    "- often have multiple lists to iterate over simultaneously [1.56]"
   ]
  },
  {
   "cell_type": "markdown",
   "metadata": {},
   "source": [
    "```python\n",
    "class range(stop)\n",
    "class range(start, stop[, step])\n",
    "```\n",
    "> [Python Documentation](https://web.archive.org/web/20200523095329/https://docs.python.org/3/library/functions.html#func-range)"
   ]
  },
  {
   "cell_type": "markdown",
   "metadata": {},
   "source": [
    "```python\n",
    "len(s)\n",
    "```\n",
    "> [Python Documentation](https://web.archive.org/web/20200503062446/https://docs.python.org/3/library/functions.html#len)"
   ]
  },
  {
   "cell_type": "markdown",
   "metadata": {},
   "source": [
    "```python\n",
    "print(*objects, sep=' ', end='\\n', file=sys.stdout, flush=False)\n",
    "```\n",
    "> [Python Documentation](https://web.archive.org/web/20200514154635/https://docs.python.org/3/library/functions.html#print)"
   ]
  },
  {
   "cell_type": "code",
   "execution_count": 1,
   "metadata": {},
   "outputs": [
    {
     "name": "stdout",
     "output_type": "stream",
     "text": [
      "1st 2\n",
      "2nd 3\n",
      "3rd 5\n",
      "4th 7\n"
     ]
    }
   ],
   "source": [
    "for nEachValue in range(len([\"1st\",\"2nd\",\"3rd\",\"4th\"])):\n",
    "    print([\"1st\",\"2nd\",\"3rd\",\"4th\"][nEachValue],\\\n",
    "          [2,3,5,7,11][nEachValue])"
   ]
  },
  {
   "cell_type": "markdown",
   "metadata": {},
   "source": [
    "- could iterate over the index - non-pythonic - instead use - zip - iterator which zips together iterables - any number of iterables can be zipped together - if different lengths then the shortest will determine the length of the zip [1.56]"
   ]
  },
  {
   "cell_type": "markdown",
   "metadata": {},
   "source": [
    "```python\n",
    "zip(*iterables)\n",
    "```\n",
    "> [Python Documentation](https://web.archive.org/web/20200503062446/https://docs.python.org/3/library/functions.html#zip) [0]"
   ]
  },
  {
   "cell_type": "code",
   "execution_count": 2,
   "metadata": {},
   "outputs": [
    {
     "name": "stdout",
     "output_type": "stream",
     "text": [
      "1st 2\n",
      "2nd 3\n",
      "3rd 5\n",
      "4th 7\n"
     ]
    }
   ],
   "source": [
    "for nEachValueStr,nEachValuePrime in\\\n",
    "        zip([\"1st\",\"2nd\",\"3rd\",\"4th\"],[2,3,5,7,11]):\n",
    "    print(nEachValueStr,nEachValuePrime)"
   ]
  },
  {
   "cell_type": "markdown",
   "metadata": {},
   "source": [
    "- makes an iterator that aggregates elements from each of the iterables - returns an iterator of tuples where the i-th tuple contains the i-th element from each of the argument sequences or iterables - the iterator stops when the shortest input iterable is exhausted - a single iterable argument returns an iterator of 1-tuple - with no arguments it returns an empty iterator [0] - \\*args - used to pass sequences to functions - \\*\\*kwargs - used to pass dictionaries to functions - \\*args - syntax works not just with sequences but with any iterator [1.57]"
   ]
  },
  {
   "cell_type": "code",
   "execution_count": 3,
   "metadata": {},
   "outputs": [
    {
     "name": "stdout",
     "output_type": "stream",
     "text": [
      "('1st', 2) ('2nd', 3) ('3rd', 5) ('4th', 7)\n"
     ]
    }
   ],
   "source": [
    "print(*zip([\"1st\",\"2nd\",\"3rd\",\"4th\"],[2,3,5,7,11]))"
   ]
  },
  {
   "cell_type": "code",
   "execution_count": 4,
   "metadata": {},
   "outputs": [
    {
     "name": "stdout",
     "output_type": "stream",
     "text": [
      "('1st',) ('2nd',) ('3rd',) ('4th',)\n"
     ]
    }
   ],
   "source": [
    "print(*zip([\"1st\",\"2nd\",\"3rd\",\"4th\"]))"
   ]
  },
  {
   "cell_type": "code",
   "execution_count": 5,
   "metadata": {},
   "outputs": [
    {
     "data": {
      "text/plain": [
       "[]"
      ]
     },
     "execution_count": 5,
     "metadata": {},
     "output_type": "execute_result"
    }
   ],
   "source": [
    "list(zip())"
   ]
  },
  {
   "cell_type": "markdown",
   "metadata": {},
   "source": [
    "```python\n",
    "class object\n",
    "```\n",
    "> [Python Documentation](https://web.archive.org/web/20200503062446/https://docs.python.org/3/library/functions.html#object)"
   ]
  },
  {
   "cell_type": "markdown",
   "metadata": {},
   "source": [
    "```python\n",
    "iter(object[, sentinel])\n",
    "```\n",
    "> [Python Documentation](https://web.archive.org/web/20200514154635/https://docs.python.org/3/library/functions.html#iter)"
   ]
  },
  {
   "cell_type": "markdown",
   "metadata": {},
   "source": [
    "```python\n",
    "next(iterator[, default])\n",
    "```\n",
    "> [Python Documentation](https://web.archive.org/web/20200502105905/https://docs.python.org/3/library/functions.html#next)"
   ]
  },
  {
   "cell_type": "markdown",
   "metadata": {},
   "source": [
    "```python\n",
    "class list([iterable])\n",
    "```\n",
    "> [Python Documentation](https://web.archive.org/web/20200502135931/https://docs.python.org/3/library/stdtypes.html#list)"
   ]
  },
  {
   "cell_type": "markdown",
   "metadata": {},
   "source": [
    "```python\n",
    " list.append(x)\n",
    "```\n",
    "> [Python Documentation](https://web.archive.org/web/20200501091324/https://docs.python.org/3/tutorial/datastructures.html)"
   ]
  },
  {
   "cell_type": "markdown",
   "metadata": {},
   "source": [
    "```python\n",
    "class tuple([iterable])\n",
    "```\n",
    "> [Python Documentation](https://web.archive.org/web/20200502135931/https://docs.python.org/3/library/stdtypes.html#tuple)"
   ]
  },
  {
   "cell_type": "markdown",
   "metadata": {},
   "source": [
    "- fZip - equivalent [0]"
   ]
  },
  {
   "cell_type": "code",
   "execution_count": 6,
   "metadata": {},
   "outputs": [],
   "source": [
    "# define function - fZip\n",
    "def fZip(*nParIterables):\n",
    "    nSentinel = object()\n",
    "    nParIterables = [iter(nIterObj) for nIterObj in nParIterables]\n",
    "    while nParIterables:\n",
    "        nResult = []\n",
    "        for nIterObj in nParIterables:\n",
    "            nElement = next(nIterObj, nSentinel)\n",
    "            if nElement is nSentinel:\n",
    "                return\n",
    "            nResult.append(nElement)\n",
    "        yield tuple(nResult)"
   ]
  },
  {
   "cell_type": "code",
   "execution_count": 7,
   "metadata": {},
   "outputs": [
    {
     "name": "stdout",
     "output_type": "stream",
     "text": [
      "('1st', 2) ('2nd', 3) ('3rd', 5) ('4th', 7)\n"
     ]
    }
   ],
   "source": [
    "print(*fZip([\"1st\",\"2nd\",\"3rd\",\"4th\"],[2,3,5,7,11]))"
   ]
  },
  {
   "cell_type": "markdown",
   "metadata": {},
   "source": [
    "- the left-to-right evaluation order of the iterables is guaranteed - should only be used with unequal lenght input when you don not care about traililng unmatched values from the longer iterables - instead use method - itertools.zip_longest [0] - no function - unzip - opposite of zip - the key is that zip() can zip together any number of iterators or sequences [1.57] - in conjunction with the - asterisk - operator can be used to unzip a list [0]"
   ]
  },
  {
   "cell_type": "code",
   "execution_count": 8,
   "metadata": {},
   "outputs": [
    {
     "data": {
      "text/plain": [
       "(['1st', '2nd', '3rd', '4th'], [2, 3, 5, 7, 11])"
      ]
     },
     "execution_count": 8,
     "metadata": {},
     "output_type": "execute_result"
    }
   ],
   "source": [
    "[\"1st\",\"2nd\",\"3rd\",\"4th\"],[2,3,5,7,11]"
   ]
  },
  {
   "cell_type": "code",
   "execution_count": 9,
   "metadata": {},
   "outputs": [
    {
     "data": {
      "text/plain": [
       "('1st', '2nd', '3rd', '4th', 2, 3, 5, 7, 11)"
      ]
     },
     "execution_count": 9,
     "metadata": {},
     "output_type": "execute_result"
    }
   ],
   "source": [
    "*[\"1st\",\"2nd\",\"3rd\",\"4th\"],*[2,3,5,7,11]"
   ]
  },
  {
   "cell_type": "code",
   "execution_count": 10,
   "metadata": {
    "scrolled": true
   },
   "outputs": [
    {
     "name": "stdout",
     "output_type": "stream",
     "text": [
      "['1st', '2nd', '3rd', '4th'] [2, 3, 5, 7, 11]\n"
     ]
    }
   ],
   "source": [
    "print([\"1st\",\"2nd\",\"3rd\",\"4th\"],[2,3,5,7,11])"
   ]
  },
  {
   "cell_type": "code",
   "execution_count": 11,
   "metadata": {
    "scrolled": true
   },
   "outputs": [
    {
     "data": {
      "text/plain": [
       "<zip at 0x2d849a6de88>"
      ]
     },
     "execution_count": 11,
     "metadata": {},
     "output_type": "execute_result"
    }
   ],
   "source": [
    "zip([\"1st\",\"2nd\",\"3rd\",\"4th\"],[2,3,5,7,11])"
   ]
  },
  {
   "cell_type": "code",
   "execution_count": 12,
   "metadata": {},
   "outputs": [
    {
     "name": "stdout",
     "output_type": "stream",
     "text": [
      "('1st', 2) ('2nd', 3) ('3rd', 5) ('4th', 7)\n"
     ]
    }
   ],
   "source": [
    "print(*zip([\"1st\",\"2nd\",\"3rd\",\"4th\"],[2,3,5,7,11]))"
   ]
  },
  {
   "cell_type": "code",
   "execution_count": 13,
   "metadata": {},
   "outputs": [],
   "source": [
    "nList,nListPrime=zip(*zip([\"1st\",\"2nd\",\"3rd\",\"4th\"],[2,3,5,7,11]))"
   ]
  },
  {
   "cell_type": "code",
   "execution_count": 14,
   "metadata": {},
   "outputs": [
    {
     "data": {
      "text/plain": [
       "('1st', '2nd', '3rd', '4th')"
      ]
     },
     "execution_count": 14,
     "metadata": {},
     "output_type": "execute_result"
    }
   ],
   "source": [
    "nList"
   ]
  },
  {
   "cell_type": "code",
   "execution_count": 15,
   "metadata": {},
   "outputs": [
    {
     "data": {
      "text/plain": [
       "(2, 3, 5, 7)"
      ]
     },
     "execution_count": 15,
     "metadata": {},
     "output_type": "execute_result"
    }
   ],
   "source": [
    "nListPrime"
   ]
  },
  {
   "cell_type": "markdown",
   "metadata": {},
   "source": [
    "***\n",
    "# END"
   ]
  }
 ],
 "metadata": {
  "kernelspec": {
   "display_name": "Python 3",
   "language": "python",
   "name": "python3"
  },
  "language_info": {
   "codemirror_mode": {
    "name": "ipython",
    "version": 3
   },
   "file_extension": ".py",
   "mimetype": "text/x-python",
   "name": "python",
   "nbconvert_exporter": "python",
   "pygments_lexer": "ipython3",
   "version": "3.8.5"
  }
 },
 "nbformat": 4,
 "nbformat_minor": 4
}
