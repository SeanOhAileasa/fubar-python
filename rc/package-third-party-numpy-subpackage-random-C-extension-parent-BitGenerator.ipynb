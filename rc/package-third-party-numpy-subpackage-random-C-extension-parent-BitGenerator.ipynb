{
 "cells": [
  {
   "cell_type": "markdown",
   "metadata": {},
   "source": [
    "# package-third-party-numpy-subpackage-random-C-extension-parent-class-BitGenerator\n",
    "> [TABLE OF CONTENTS](https://nbviewer.jupyter.org/github/SeanOhAileasa/fubar-python/blob/main/fubar-python.ipynb#top)\n",
    "***"
   ]
  },
  {
   "cell_type": "code",
   "execution_count": 1,
   "metadata": {},
   "outputs": [],
   "source": [
    "# b_T_hird_P_arty-imports\n",
    "from numpy.random import BitGenerator as PCbg"
   ]
  },
  {
   "cell_type": "code",
   "execution_count": 2,
   "metadata": {},
   "outputs": [
    {
     "name": "stdout",
     "output_type": "stream",
     "text": [
      "\n",
      "    BitGenerator(seed=None)\n",
      "\n",
      "    Base Class for generic BitGenerators, which provide a stream\n",
      "    of random bits based on different algorithms. Must be overridden.\n",
      "\n",
      "    Parameters\n",
      "    ----------\n",
      "    seed : {None, int, array_like[ints], SeedSequence}, optional\n",
      "        A seed to initialize the `BitGenerator`. If None, then fresh,\n",
      "        unpredictable entropy will be pulled from the OS. If an ``int`` or\n",
      "        ``array_like[ints]`` is passed, then it will be passed to\n",
      "        ~`numpy.random.SeedSequence` to derive the initial `BitGenerator` state.\n",
      "        One may also pass in a `SeedSequence` instance.\n",
      "\n",
      "    Attributes\n",
      "    ----------\n",
      "    lock : threading.Lock\n",
      "        Lock instance that is shared so that the same BitGenerator can\n",
      "        be used in multiple Generators without corrupting the state. Code that\n",
      "        generates values from a bit generator should hold the bit generator's\n",
      "        lock.\n",
      "\n",
      "    See Also\n",
      "    -------\n",
      "    SeedSequence\n",
      "    \n"
     ]
    }
   ],
   "source": [
    "# package numpy - subpackage random - object BitGenerator alias PCbg - attribute __doc__ - access\n",
    "print(PCbg.__doc__)"
   ]
  },
  {
   "cell_type": "markdown",
   "metadata": {},
   "source": [
    "- subpackage - random - routines produce pseudo random numbers using combinations of a - BitGenerator - to create sequences - Generator - to use those sequences to sample from different statistical distributions [0]"
   ]
  },
  {
   "cell_type": "markdown",
   "metadata": {},
   "source": [
    "- BitGenerators - objects that generate random numbers - typically unsigned integer words filled with sequences of either - 32 - 64 - random bits [0]"
   ]
  },
  {
   "cell_type": "markdown",
   "metadata": {},
   "source": [
    "- Generators - objects that transform sequences of random bits from a - BitGenerator - into sequences of numbers that follow a specific probability distribution such as uniform - normal - binomial - within a specified interval [0]"
   ]
  },
  {
   "cell_type": "markdown",
   "metadata": {},
   "source": [
    "- refer: [[object-class-inheritance](https://nbviewer.jupyter.org/github/SeanOhAileasa/fubar-python/blob/main/fubar-python.ipynb#top/L8733/blob/master/src/pro/par/pyt/object-class-inheritance.ipynb)]"
   ]
  },
  {
   "cell_type": "markdown",
   "metadata": {},
   "source": [
    "***\n",
    "#### References\n",
    "&nbsp;&nbsp;&nbsp;&nbsp;&nbsp;&nbsp;&nbsp;&nbsp;&nbsp;[0] Documentation, \"Random sampling (numpy.random),\" [NumPy](https://web.archive.org/web/20201102114140/https://numpy.org/doc/stable/reference/random/index.html), n.d.\n",
    "***\n",
    "# END"
   ]
  }
 ],
 "metadata": {
  "kernelspec": {
   "display_name": "Python 3",
   "language": "python",
   "name": "python3"
  },
  "language_info": {
   "codemirror_mode": {
    "name": "ipython",
    "version": 3
   },
   "file_extension": ".py",
   "mimetype": "text/x-python",
   "name": "python",
   "nbconvert_exporter": "python",
   "pygments_lexer": "ipython3",
   "version": "3.8.3"
  }
 },
 "nbformat": 4,
 "nbformat_minor": 4
}
