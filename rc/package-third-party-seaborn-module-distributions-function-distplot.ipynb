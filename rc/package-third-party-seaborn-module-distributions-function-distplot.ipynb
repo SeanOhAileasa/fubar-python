{
 "cells": [
  {
   "cell_type": "markdown",
   "metadata": {},
   "source": [
    "# package-third-party-seaborn-module-distributions-function-distplot\n",
    "> [TABLE OF CONTENTS](https://nbviewer.jupyter.org/github/SeanOhAileasa/fubar-python/blob/main/fubar-python.ipynb#top)\n",
    "***"
   ]
  },
  {
   "cell_type": "markdown",
   "metadata": {},
   "source": [
    "- picture - times something has happened - picture - variable [10.1]"
   ]
  },
  {
   "cell_type": "code",
   "execution_count": 1,
   "metadata": {},
   "outputs": [],
   "source": [
    "# b_T_hird_P_arty-imports\n",
    "import seaborn"
   ]
  },
  {
   "cell_type": "code",
   "execution_count": 2,
   "metadata": {
    "scrolled": false
   },
   "outputs": [
    {
     "name": "stdout",
     "output_type": "stream",
     "text": [
      "Flexibly plot a univariate distribution of observations.\n",
      "\n",
      "    This function combines the matplotlib ``hist`` function (with automatic\n",
      "    calculation of a good default bin size) with the seaborn :func:`kdeplot`\n",
      "    and :func:`rugplot` functions. It can also fit ``scipy.stats``\n",
      "    distributions and plot the estimated PDF over the data.\n",
      "\n",
      "    Parameters\n",
      "    ----------\n",
      "\n",
      "    a : Series, 1d-array, or list.\n",
      "        Observed data. If this is a Series object with a ``name`` attribute,\n",
      "        the name will be used to label the data axis.\n",
      "    bins : argument for matplotlib hist(), or None, optional\n",
      "        Specification of hist bins. If unspecified, as reference rule is used\n",
      "        that tries to find a useful default.\n",
      "    hist : bool, optional\n",
      "        Whether to plot a (normed) histogram.\n",
      "    kde : bool, optional\n",
      "        Whether to plot a gaussian kernel density estimate.\n",
      "    rug : bool, optional\n",
      "        Whether to draw a rugplot on the support axis.\n",
      "    fit : random variable object, optional\n",
      "        An object with `fit` method, returning a tuple that can be passed to a\n",
      "        `pdf` method a positional arguments following a grid of values to\n",
      "        evaluate the pdf on.\n",
      "    hist_kws : dict, optional\n",
      "        Keyword arguments for :meth:`matplotlib.axes.Axes.hist`.\n",
      "    kde_kws : dict, optional\n",
      "        Keyword arguments for :func:`kdeplot`.\n",
      "    rug_kws : dict, optional\n",
      "        Keyword arguments for :func:`rugplot`.\n",
      "    color : matplotlib color, optional\n",
      "        Color to plot everything but the fitted curve in.\n",
      "    vertical : bool, optional\n",
      "        If True, observed values are on y-axis.\n",
      "    norm_hist : bool, optional\n",
      "        If True, the histogram height shows a density rather than a count.\n",
      "        This is implied if a KDE or fitted density is plotted.\n",
      "    axlabel : string, False, or None, optional\n",
      "        Name for the support axis label. If None, will try to get it\n",
      "        from a.name if False, do not set a label.\n",
      "    label : string, optional\n",
      "        Legend label for the relevant component of the plot.\n",
      "    ax : matplotlib axis, optional\n",
      "        If provided, plot on this axis.\n",
      "\n",
      "    Returns\n",
      "    -------\n",
      "    ax : matplotlib Axes\n",
      "        Returns the Axes object with the plot for further tweaking.\n",
      "\n",
      "    See Also\n",
      "    --------\n",
      "    kdeplot : Show a univariate or bivariate distribution with a kernel\n",
      "              density estimate.\n",
      "    rugplot : Draw small vertical lines to show each observation in a\n",
      "              distribution.\n",
      "\n",
      "    Examples\n",
      "    --------\n",
      "\n",
      "    Show a default plot with a kernel density estimate and histogram with bin\n",
      "    size determined automatically with a reference rule:\n",
      "\n",
      "    .. plot::\n",
      "        :context: close-figs\n",
      "\n",
      "        >>> import seaborn as sns, numpy as np\n",
      "        >>> sns.set(); np.random.seed(0)\n",
      "        >>> x = np.random.randn(100)\n",
      "        >>> ax = sns.distplot(x)\n",
      "\n",
      "    Use Pandas objects to get an informative axis label:\n",
      "\n",
      "    .. plot::\n",
      "        :context: close-figs\n",
      "\n",
      "        >>> import pandas as pd\n",
      "        >>> x = pd.Series(x, name=\"x variable\")\n",
      "        >>> ax = sns.distplot(x)\n",
      "\n",
      "    Plot the distribution with a kernel density estimate and rug plot:\n",
      "\n",
      "    .. plot::\n",
      "        :context: close-figs\n",
      "\n",
      "        >>> ax = sns.distplot(x, rug=True, hist=False)\n",
      "\n",
      "    Plot the distribution with a histogram and maximum likelihood gaussian\n",
      "    distribution fit:\n",
      "\n",
      "    .. plot::\n",
      "        :context: close-figs\n",
      "\n",
      "        >>> from scipy.stats import norm\n",
      "        >>> ax = sns.distplot(x, fit=norm, kde=False)\n",
      "\n",
      "    Plot the distribution on the vertical axis:\n",
      "\n",
      "    .. plot::\n",
      "        :context: close-figs\n",
      "\n",
      "        >>> ax = sns.distplot(x, vertical=True)\n",
      "\n",
      "    Change the color of all the plot elements:\n",
      "\n",
      "    .. plot::\n",
      "        :context: close-figs\n",
      "\n",
      "        >>> sns.set_color_codes()\n",
      "        >>> ax = sns.distplot(x, color=\"y\")\n",
      "\n",
      "    Pass specific parameters to the underlying plot functions:\n",
      "\n",
      "    .. plot::\n",
      "        :context: close-figs\n",
      "\n",
      "        >>> ax = sns.distplot(x, rug=True, rug_kws={\"color\": \"g\"},\n",
      "        ...                   kde_kws={\"color\": \"k\", \"lw\": 3, \"label\": \"KDE\"},\n",
      "        ...                   hist_kws={\"histtype\": \"step\", \"linewidth\": 3,\n",
      "        ...                             \"alpha\": 1, \"color\": \"g\"})\n",
      "\n",
      "    \n"
     ]
    }
   ],
   "source": [
    "# package seaborn - function distplot - call - attribute __doc__ - access\n",
    "print(seaborn.distplot.__doc__)"
   ]
  },
  {
   "cell_type": "code",
   "execution_count": 3,
   "metadata": {},
   "outputs": [],
   "source": [
    "# Kernel - Restart\n",
    "exit()"
   ]
  },
  {
   "cell_type": "code",
   "execution_count": 1,
   "metadata": {},
   "outputs": [],
   "source": [
    "# b_T_hird_P_arty-imports\n",
    "import numpy as np"
   ]
  },
  {
   "cell_type": "markdown",
   "metadata": {},
   "source": [
    "- **simulation** - counting the number of times a coin lands on heads - 1 [10.1]"
   ]
  },
  {
   "cell_type": "markdown",
   "metadata": {},
   "source": [
    "***\n",
    "\n",
    "- refer: [[package-third-party-numpy-subpackage-random-function-binomial](https://nbviewer.jupyter.org/github/SeanOhAileasa/fubar-python/blob/main/fubar-python.ipynb#top/L8733/blob/master/src/pro/par/pyt/package-third-party-numpy-subpackage-random-function-binomial.ipynb)]\n",
    "\n",
    "***"
   ]
  },
  {
   "cell_type": "code",
   "execution_count": 2,
   "metadata": {},
   "outputs": [],
   "source": [
    "# package numpy alias np - subpackage random - C function binomial - arguments\n",
    "n,p,size=1000,0.5,1000"
   ]
  },
  {
   "cell_type": "code",
   "execution_count": 3,
   "metadata": {},
   "outputs": [],
   "source": [
    "# package numpy alias np - subpackage random - C function binomial - call\n",
    "a=np.random.binomial(n,p,size)"
   ]
  },
  {
   "cell_type": "markdown",
   "metadata": {},
   "source": [
    "- list of 1000 numbers - each of them the result of flipping a coin 1000 times with probability of heads - 0.5 - result in around the 500 mark [10.1]"
   ]
  },
  {
   "cell_type": "code",
   "execution_count": 4,
   "metadata": {
    "scrolled": false
   },
   "outputs": [
    {
     "data": {
      "text/plain": [
       "array([489, 487, 521, 488, 506, 504, 508, 510, 499, 508, 477, 494, 483,\n",
       "       508, 486, 498, 522, 476, 487, 514, 521, 519, 502, 494, 503, 506,\n",
       "       515, 500, 488, 516, 514, 504, 498, 496, 470, 493, 503, 483, 489,\n",
       "       489, 508, 506, 491, 492, 498, 529, 481, 496, 489, 538, 515, 493,\n",
       "       502, 536, 482, 498, 495, 522, 515, 502, 505, 494, 528, 532, 504,\n",
       "       514, 504, 495, 522, 492, 509, 500, 484, 490, 492, 514, 504, 500,\n",
       "       481, 503, 497, 502, 495, 513, 493, 519, 540, 502, 464, 493, 508,\n",
       "       505, 490, 507, 519, 501, 501, 498, 502, 524, 492, 499, 496, 545,\n",
       "       522, 492, 510, 514, 490, 511, 500, 501, 489, 483, 485, 504, 502,\n",
       "       495, 505, 481, 505, 515, 499, 520, 505, 527, 492, 509, 505, 529,\n",
       "       489, 514, 526, 502, 501, 496, 477, 500, 485, 516, 484, 515, 507,\n",
       "       506, 501, 496, 484, 523, 510, 461, 508, 496, 504, 512, 511, 470,\n",
       "       504, 505, 504, 496, 492, 501, 482, 531, 507, 519, 532, 502, 494,\n",
       "       488, 512, 520, 485, 512, 531, 501, 475, 498, 498, 519, 516, 507,\n",
       "       510, 517, 504, 484, 500, 521, 533, 489, 493, 487, 493, 502, 479,\n",
       "       498, 510, 488, 488, 502, 490, 499, 514, 480, 499, 510, 506, 502,\n",
       "       494, 486, 510, 506, 506, 516, 483, 498, 503, 496, 498, 489, 510,\n",
       "       507, 531, 491, 489, 530, 510, 493, 527, 513, 525, 510, 524, 450,\n",
       "       496, 497, 504, 524, 519, 505, 527, 481, 527, 512, 490, 493, 492,\n",
       "       523, 535, 493, 456, 520, 502, 493, 512, 514, 495, 502, 495, 498,\n",
       "       499, 506, 518, 474, 504, 480, 489, 532, 512, 480, 520, 524, 466,\n",
       "       503, 507, 500, 514, 510, 495, 475, 514, 492, 530, 525, 501, 475,\n",
       "       503, 482, 523, 496, 509, 476, 488, 510, 536, 518, 488, 508, 511,\n",
       "       486, 515, 479, 469, 498, 517, 479, 501, 479, 479, 502, 503, 490,\n",
       "       484, 522, 499, 496, 483, 496, 476, 490, 496, 510, 511, 472, 495,\n",
       "       478, 491, 487, 476, 478, 493, 514, 499, 501, 496, 482, 509, 508,\n",
       "       497, 468, 534, 504, 494, 517, 504, 513, 498, 513, 491, 486, 524,\n",
       "       482, 466, 480, 478, 516, 497, 492, 517, 539, 509, 467, 496, 507,\n",
       "       499, 517, 502, 513, 503, 511, 492, 490, 510, 524, 507, 493, 486,\n",
       "       509, 502, 491, 494, 504, 487, 470, 514, 498, 506, 495, 465, 493,\n",
       "       501, 487, 514, 499, 501, 496, 501, 510, 545, 505, 494, 500, 497,\n",
       "       490, 471, 512, 461, 498, 513, 544, 482, 501, 495, 496, 531, 492,\n",
       "       494, 499, 509, 499, 507, 471, 483, 501, 464, 530, 498, 500, 506,\n",
       "       493, 495, 495, 518, 503, 503, 509, 536, 510, 480, 516, 521, 505,\n",
       "       499, 493, 501, 507, 530, 512, 510, 521, 508, 470, 515, 497, 501,\n",
       "       482, 539, 496, 510, 508, 486, 540, 498, 493, 491, 528, 535, 517,\n",
       "       497, 521, 523, 489, 503, 523, 476, 522, 505, 482, 499, 494, 497,\n",
       "       516, 506, 507, 481, 507, 493, 519, 500, 496, 498, 498, 506, 503,\n",
       "       505, 519, 523, 485, 504, 517, 496, 471, 522, 502, 498, 499, 466,\n",
       "       511, 491, 501, 490, 521, 490, 507, 514, 489, 515, 480, 471, 508,\n",
       "       503, 509, 492, 495, 515, 489, 527, 490, 502, 503, 522, 489, 509,\n",
       "       479, 496, 487, 517, 497, 471, 489, 483, 522, 473, 486, 518, 488,\n",
       "       489, 529, 476, 504, 504, 536, 498, 533, 526, 509, 503, 495, 526,\n",
       "       489, 488, 478, 523, 498, 477, 498, 518, 489, 469, 546, 488, 497,\n",
       "       477, 502, 478, 491, 479, 527, 505, 479, 477, 509, 504, 505, 488,\n",
       "       528, 497, 494, 471, 494, 491, 514, 475, 497, 505, 468, 536, 510,\n",
       "       528, 492, 522, 499, 498, 522, 492, 465, 502, 484, 483, 482, 508,\n",
       "       487, 515, 530, 519, 533, 497, 497, 510, 489, 494, 492, 506, 510,\n",
       "       519, 511, 505, 501, 482, 501, 499, 516, 499, 520, 472, 515, 468,\n",
       "       485, 491, 523, 484, 502, 512, 488, 524, 531, 509, 500, 502, 520,\n",
       "       465, 494, 508, 512, 504, 506, 504, 503, 497, 502, 489, 512, 490,\n",
       "       503, 515, 508, 462, 510, 504, 496, 482, 508, 518, 500, 492, 524,\n",
       "       515, 481, 516, 516, 509, 478, 519, 488, 511, 492, 476, 499, 505,\n",
       "       501, 486, 494, 515, 498, 528, 526, 494, 484, 521, 476, 496, 516,\n",
       "       531, 516, 496, 503, 507, 496, 502, 514, 499, 492, 509, 475, 500,\n",
       "       487, 539, 495, 483, 485, 491, 522, 509, 506, 497, 498, 498, 498,\n",
       "       484, 512, 504, 507, 514, 558, 497, 488, 521, 464, 520, 496, 514,\n",
       "       529, 509, 512, 502, 481, 481, 511, 511, 489, 537, 483, 505, 486,\n",
       "       494, 511, 485, 485, 526, 483, 512, 509, 527, 486, 504, 518, 519,\n",
       "       508, 470, 504, 501, 513, 517, 497, 460, 479, 538, 504, 474, 498,\n",
       "       506, 516, 513, 505, 504, 517, 506, 489, 521, 499, 537, 473, 508,\n",
       "       492, 494, 516, 476, 500, 470, 524, 510, 520, 512, 466, 495, 521,\n",
       "       489, 515, 485, 485, 495, 494, 482, 516, 497, 478, 486, 518, 513,\n",
       "       503, 495, 520, 526, 498, 491, 556, 510, 502, 509, 493, 485, 488,\n",
       "       477, 534, 514, 507, 511, 512, 515, 497, 511, 546, 512, 484, 487,\n",
       "       510, 518, 491, 482, 506, 499, 499, 528, 475, 516, 516, 516, 479,\n",
       "       480, 482, 516, 487, 491, 480, 510, 536, 503, 511, 501, 504, 484,\n",
       "       513, 478, 494, 485, 523, 497, 494, 513, 523, 464, 490, 491, 520,\n",
       "       497, 517, 506, 499, 539, 482, 515, 481, 482, 527, 531, 509, 505,\n",
       "       494, 482, 508, 522, 532, 492, 489, 479, 452, 498, 511, 531, 489,\n",
       "       523, 513, 515, 506, 491, 516, 511, 504, 496, 480, 501, 490, 499,\n",
       "       491, 499, 509, 506, 525, 510, 494, 492, 491, 503, 490, 514, 513,\n",
       "       500, 504, 488, 506, 526, 514, 487, 477, 473, 501, 524, 483, 471,\n",
       "       487, 524, 479, 501, 521, 492, 505, 495, 533, 488, 484, 510, 490,\n",
       "       515, 477, 502, 489, 488, 515, 519, 510, 498, 492, 484, 515, 484,\n",
       "       491, 515, 489, 493, 505, 482, 476, 527, 451, 506, 516, 503, 500,\n",
       "       524, 497, 491, 491, 504, 513, 468, 498, 498, 522, 495, 494])"
      ]
     },
     "execution_count": 4,
     "metadata": {},
     "output_type": "execute_result"
    }
   ],
   "source": [
    "# package seaborn as sns - module distributions - function distplot - argument \n",
    "a # one-dimensional array"
   ]
  },
  {
   "cell_type": "code",
   "execution_count": 5,
   "metadata": {},
   "outputs": [],
   "source": [
    "# b_T_hird_P_arty-imports\n",
    "import seaborn as sns"
   ]
  },
  {
   "cell_type": "markdown",
   "metadata": {},
   "source": [
    "- **simulation** - visual representation of flipping a coin repeatedly a number of times [10.1]"
   ]
  },
  {
   "cell_type": "markdown",
   "metadata": {},
   "source": [
    "- wrap - array of 1000 numbers in - package seaborn - function distplot - creating plot - x axis - circa 440 to circa 560 - y axis - 0 to circa 0.3 - almost like a bell shaped curve - picture of how many heads each time the coin is flipped 1000 times - distribution plot - looking at the distribution of the number of heads when a coin is flipped 1000 times [10.1]"
   ]
  },
  {
   "cell_type": "markdown",
   "metadata": {},
   "source": [
    "- centred around the 500 Mark - spreads out - very unlikely to get heads towards circa 550 - more often than not - get less than 550 heads - very unlikely heads less than circa 450 heads - in 1000 flips - most of the time - see a number in around the 500 - rapidly decreases in probability away from the 500 mark [10.1]"
   ]
  },
  {
   "cell_type": "code",
   "execution_count": 6,
   "metadata": {
    "scrolled": true
   },
   "outputs": [
    {
     "data": {
      "text/plain": [
       "<matplotlib.axes._subplots.AxesSubplot at 0x17b4d7aa430>"
      ]
     },
     "execution_count": 6,
     "metadata": {},
     "output_type": "execute_result"
    },
    {
     "data": {
      "image/png": "[encoded data removed]",
      "text/plain": [
       "<Figure size 432x288 with 1 Axes>"
      ]
     },
     "metadata": {
      "needs_background": "light"
     },
     "output_type": "display_data"
    }
   ],
   "source": [
    "# package seaborn alias sns - module distributions - function distplot - call\n",
    "sns.distplot(a)"
   ]
  },
  {
   "cell_type": "markdown",
   "metadata": {},
   "source": [
    "- flip coin - 10000 times - very similar plot [10.1]"
   ]
  },
  {
   "cell_type": "code",
   "execution_count": 7,
   "metadata": {},
   "outputs": [],
   "source": [
    "# package numpy alias np - subpackage random - C function binomial - arguments\n",
    "n,p,size=1000,0.5,10000"
   ]
  },
  {
   "cell_type": "code",
   "execution_count": 8,
   "metadata": {},
   "outputs": [],
   "source": [
    "# package numpy alias np - subpackage random - C function binomial - call\n",
    "a=np.random.binomial(n,p,size)"
   ]
  },
  {
   "cell_type": "code",
   "execution_count": 9,
   "metadata": {},
   "outputs": [
    {
     "data": {
      "text/plain": [
       "<matplotlib.axes._subplots.AxesSubplot at 0x17b4eecfa30>"
      ]
     },
     "execution_count": 9,
     "metadata": {},
     "output_type": "execute_result"
    },
    {
     "data": {
      "image/png": "[encoded data removed]",
      "text/plain": [
       "<Figure size 432x288 with 1 Axes>"
      ]
     },
     "metadata": {
      "needs_background": "light"
     },
     "output_type": "display_data"
    }
   ],
   "source": [
    "# package seaborn alias sns - module distributions - function distplot - call\n",
    "sns.distplot(a)"
   ]
  },
  {
   "cell_type": "markdown",
   "metadata": {},
   "source": [
    "- flip coin - 100000 times - an even more of a bell shaped curve [10.1] "
   ]
  },
  {
   "cell_type": "code",
   "execution_count": 10,
   "metadata": {},
   "outputs": [],
   "source": [
    "# package numpy alias np - subpackage random - C function binomial - arguments\n",
    "n,p,size=1000,0.5,100000"
   ]
  },
  {
   "cell_type": "code",
   "execution_count": 11,
   "metadata": {},
   "outputs": [],
   "source": [
    "# package numpy alias np - subpackage random - C function binomial - call\n",
    "a=np.random.binomial(n,p,size)"
   ]
  },
  {
   "cell_type": "code",
   "execution_count": 12,
   "metadata": {},
   "outputs": [
    {
     "data": {
      "text/plain": [
       "<matplotlib.axes._subplots.AxesSubplot at 0x17b4ef586d0>"
      ]
     },
     "execution_count": 12,
     "metadata": {},
     "output_type": "execute_result"
    },
    {
     "data": {
      "image/png": "[encoded data removed]",
      "text/plain": [
       "<Figure size 432x288 with 1 Axes>"
      ]
     },
     "metadata": {
      "needs_background": "light"
     },
     "output_type": "display_data"
    }
   ],
   "source": [
    "# package seaborn alias sns - module distributions - function distplot - call\n",
    "sns.distplot(a)"
   ]
  },
  {
   "cell_type": "markdown",
   "metadata": {},
   "source": [
    "- conitinue increasing - eventually head towards the normal distribution of a bell shaped curve - theoretically - can do an infinite number of trials of flipping a coin 1000 flipping - come up with bell shaped curve [10.1]"
   ]
  },
  {
   "cell_type": "markdown",
   "metadata": {},
   "source": [
    "***\n",
    "\n",
    "- refer: [[stochasticism](https://nbviewer.jupyter.org/github/SeanOhAileasa/fubar-python/blob/main/fubar-python.ipynb#top/L8733/blob/master/src/hdp/mls/stochasticism.ipynb)]\n",
    "\n",
    "***"
   ]
  },
  {
   "cell_type": "markdown",
   "metadata": {},
   "source": [
    "***\n",
    "# END"
   ]
  }
 ],
 "metadata": {
  "kernelspec": {
   "display_name": "Python 3",
   "language": "python",
   "name": "python3"
  },
  "language_info": {
   "codemirror_mode": {
    "name": "ipython",
    "version": 3
   },
   "file_extension": ".py",
   "mimetype": "text/x-python",
   "name": "python",
   "nbconvert_exporter": "python",
   "pygments_lexer": "ipython3",
   "version": "3.8.3"
  }
 },
 "nbformat": 4,
 "nbformat_minor": 4
}
