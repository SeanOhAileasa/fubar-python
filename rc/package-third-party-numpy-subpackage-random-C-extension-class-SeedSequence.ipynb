{
 "cells": [
  {
   "cell_type": "markdown",
   "metadata": {},
   "source": [
    "# package-third-party-numpy-subpackage-random-C-extension-class-SeedSequence\n",
    "> [TABLE OF CONTENTS](https://nbviewer.jupyter.org/github/SeanOhAileasa/fubar-python/blob/main/fubar-python.ipynb#top)\n",
    "***"
   ]
  },
  {
   "cell_type": "code",
   "execution_count": 1,
   "metadata": {},
   "outputs": [],
   "source": [
    "# b_T_hird_P_arty-imports\n",
    "from numpy.random import SeedSequence as Crse"
   ]
  },
  {
   "cell_type": "code",
   "execution_count": 2,
   "metadata": {},
   "outputs": [
    {
     "name": "stdout",
     "output_type": "stream",
     "text": [
      "\n",
      "    SeedSequence(entropy=None, *, spawn_key=(), pool_size=4)\n",
      "\n",
      "    SeedSequence mixes sources of entropy in a reproducible way to set the\n",
      "    initial state for independent and very probably non-overlapping\n",
      "    BitGenerators.\n",
      "\n",
      "    Once the SeedSequence is instantiated, you can call the `generate_state`\n",
      "    method to get an appropriately sized seed. Calling `spawn(n) <spawn>` will\n",
      "    create ``n`` SeedSequences that can be used to seed independent\n",
      "    BitGenerators, i.e. for different threads.\n",
      "\n",
      "    Parameters\n",
      "    ----------\n",
      "    entropy : {None, int, sequence[int]}, optional\n",
      "        The entropy for creating a `SeedSequence`.\n",
      "    spawn_key : {(), sequence[int]}, optional\n",
      "        A third source of entropy, used internally when calling\n",
      "        `SeedSequence.spawn`\n",
      "    pool_size : {int}, optional\n",
      "        Size of the pooled entropy to store. Default is 4 to give a 128-bit\n",
      "        entropy pool. 8 (for 256 bits) is another reasonable choice if working\n",
      "        with larger PRNGs, but there is very little to be gained by selecting\n",
      "        another value.\n",
      "    n_children_spawned : {int}, optional\n",
      "        The number of children already spawned. Only pass this if\n",
      "        reconstructing a `SeedSequence` from a serialized form.\n",
      "\n",
      "    Notes\n",
      "    -----\n",
      "\n",
      "    Best practice for achieving reproducible bit streams is to use\n",
      "    the default ``None`` for the initial entropy, and then use\n",
      "    `SeedSequence.entropy` to log/pickle the `entropy` for reproducibility:\n",
      "\n",
      "    >>> sq1 = np.random.SeedSequence()\n",
      "    >>> sq1.entropy\n",
      "    243799254704924441050048792905230269161  # random\n",
      "    >>> sq2 = np.random.SeedSequence(sq1.entropy)\n",
      "    >>> np.all(sq1.generate_state(10) == sq2.generate_state(10))\n",
      "    True\n",
      "    \n"
     ]
    }
   ],
   "source": [
    "# package numpy - subpackage random - object SeedSequence alias Crse - attribute __doc__ - access\n",
    "print(Crse.__doc__)"
   ]
  },
  {
   "cell_type": "markdown",
   "metadata": {},
   "source": [
    "***\n",
    "# END"
   ]
  }
 ],
 "metadata": {
  "kernelspec": {
   "display_name": "Python 3",
   "language": "python",
   "name": "python3"
  },
  "language_info": {
   "codemirror_mode": {
    "name": "ipython",
    "version": 3
   },
   "file_extension": ".py",
   "mimetype": "text/x-python",
   "name": "python",
   "nbconvert_exporter": "python",
   "pygments_lexer": "ipython3",
   "version": "3.8.3"
  }
 },
 "nbformat": 4,
 "nbformat_minor": 4
}
