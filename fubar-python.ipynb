{
 "cells": [
  {
   "cell_type": "code",
   "execution_count": null,
   "id": "important-packet",
   "metadata": {},
   "outputs": [
    {
     "data": {
      "text/html": [
       "<script>Jupyter.notebook.kernel.restart()</script>"
      ]
     },
     "metadata": {},
     "output_type": "display_data"
    }
   ],
   "source": [
    "from IPython.core.display import display_html\n",
    "display_html(\"<script>Jupyter.notebook.kernel.restart()</script>\",raw=True)"
   ]
  },
  {
   "cell_type": "code",
   "execution_count": 1,
   "id": "invalid-investor",
   "metadata": {},
   "outputs": [
    {
     "data": {
      "text/html": [
       "<style>.container { width:100% !important; }</style>"
      ],
      "text/plain": [
       "<IPython.core.display.HTML object>"
      ]
     },
     "metadata": {},
     "output_type": "display_data"
    },
    {
     "data": {
      "text/html": [
       "<style>.container { width:100% !important; }</style>"
      ],
      "text/plain": [
       "<IPython.core.display.HTML object>"
      ]
     },
     "metadata": {},
     "output_type": "display_data"
    }
   ],
   "source": [
    "from sys import path; path.insert(1,\"../src\");\n",
    "import fubar; from importlib import reload; reload(fubar);"
   ]
  },
  {
   "cell_type": "markdown",
   "id": "french-lighter",
   "metadata": {},
   "source": [
    "***\n",
    "< [GMIT Data Analytics](https://web.archive.org/web/20201029063153/https://www.gmit.ie/computer-science-and-applied-physics/higher-diploma-science-computing-data-analytics-ict) | [Home](https://github.com/SeanOhAileasa) | [README](https://github.com/SeanOhAileasa/fubar-python/blob/main/README.md) >\n",
    "\n",
    "[![GMIT](https://github.com/SeanOhAileasa/SeanOhAileasa/blob/master/img/gmit.png?raw=true)](https://web.archive.org/web/20201029063153/https://www.gmit.ie/computer-science-and-applied-physics/higher-diploma-science-computing-data-analytics-ict)\n",
    "\n",
    "## GMIT - Practice - Supplemental Course Material\n",
    "### Topic: [Python](https://nbviewer.jupyter.org/github/SeanOhAileasa/fubar-python/blob/main/fubar-python.ipynb)\n",
    "***"
   ]
  },
  {
   "cell_type": "markdown",
   "id": "arabic-tours",
   "metadata": {},
   "source": [
    "Supplemental course material for the ``Higher Diploma in Science in Computing (Data Analytics) (H.Dip)`` programme (75 Credits) at **Galway-Mayo Institute of Technology (GMIT)**. This repository is for self-study/self-examination for future modules of the H.Dip programme and preparation for future workplace opportunities."
   ]
  },
  {
   "cell_type": "code",
   "execution_count": 2,
   "id": "christian-today",
   "metadata": {},
   "outputs": [],
   "source": [
    "exit()"
   ]
  },
  {
   "cell_type": "markdown",
   "id": "built-archive",
   "metadata": {},
   "source": [
    "<a id=\"top\"></a>\n",
    "***\n",
    "## Table of Contents\n",
    "***\n",
    "\n",
    "## [Abstract](#abstract)\n",
    "\n",
    "- &#x1F6A7;\n",
    "\n",
    "## [Introduction](#introduction)\n",
    "\n",
    "* [Everything is an Object](#object)\n",
    "    * [Immutable vs Mutable](#Immutable-vs-Mutable)\n",
    "        * [Immutable](#Immutable)\n",
    "            * [Float](#Float)\n",
    "            * [Str](#Str)       \n",
    "        * [Mutable](#Mutable)\n",
    "            * [List (Built-in Container)](#List-Built-in-Container)\n",
    "* [Specialised Container](#Specialised-Container)\n",
    "    * [collections.Counter](#collections-Counter)\n",
    "* [Operator](#Operator)\n",
    "    * [Arithmetic](#Arithmetic)\n",
    "    * [Bitwise](#Bitwise)\n",
    "    * [Assignment](#Assignment)\n",
    "    * [Comparison](#Comparison)\n",
    "    * [Boolean](#Boolean)\n",
    "    * [Identity](#Identity)\n",
    "    * [Membership](#Membership)\n",
    "\n",
    "## [Solution](#solution)\n",
    "\n",
    "* [GMIT - CTA](#computational-thinking-with-algorithms)\n",
    "    * [Code Runner](#code-runner)\n",
    "        * [Caesar Cipher](#Caesar-Cipher)\n",
    "        \n",
    "## [Conclusion](#conclusion)\n",
    "\n",
    "* &#x1F6A7;"
   ]
  },
  {
   "cell_type": "markdown",
   "id": "accepted-egypt",
   "metadata": {},
   "source": [
    "***\n",
    "## END\n",
    "<!--\n",
    "< [Instructions](#top) | [Abstract](#abstract) | [Introduction](#introduction) | [Solution](#solution) | [Conclusion](#conclusion) | [References](#references) >\n",
    "<a id=\"status\"></a>\n",
    "***\n",
    "## Status\n",
    "***\n",
    "\n",
    "%%bash\n",
    "date \"+%Y-%m-%d\"\n",
    "\n",
    "< [todo](#todo) | [done](#done) >\n",
    "<a id=\"ongoing\"></a>\n",
    "###### ONGOING \n",
    "***\n",
    "\n",
    "< [ongoing](#ongoing) | [done](#done) >\n",
    "<a id=\"todo\"></a>\n",
    "###### TODO\n",
    "***\n",
    "\n",
    "< [todo](#todo) | [ongoing](#ongoing) >\n",
    "<a id=\"done\"></a>\n",
    "###### DONE\n",
    "***\n",
    "\n",
    "< [todo](#todo) | [ongoing](#ongoing) | [done](#done) >\n",
    "###### Functions\n",
    "***\n",
    "\n",
    "## END\n",
    "-->\n",
    "\n",
    "<!-- \n",
    "# b_T_hird_P_arty-imports\n",
    "-->"
   ]
  },
  {
   "cell_type": "markdown",
   "id": "judicial-completion",
   "metadata": {},
   "source": [
    "< [Table of Contents](#top) | [Introduction](#introduction) | [Solution](#solution) | [Conclusion](#conclusion) | [References](#references) >\n",
    "<a id=\"abstract\"></a>\n",
    "***\n",
    "## Abstract\n",
    "***"
   ]
  },
  {
   "cell_type": "markdown",
   "id": "motivated-continent",
   "metadata": {},
   "source": [
    "&#x1F6A7;"
   ]
  },
  {
   "cell_type": "markdown",
   "id": "sunset-pitch",
   "metadata": {},
   "source": [
    "***\n",
    "## END"
   ]
  },
  {
   "cell_type": "markdown",
   "id": "proved-victory",
   "metadata": {},
   "source": [
    "< [Table of Contents](#top) | [Abstract](#abstract) | [Solution](#solution) | [Conclusion](#conclusion) | [References](#references) >\n",
    "<a id=\"introduction\"></a>\n",
    "***\n",
    "## Introduction\n",
    "***"
   ]
  },
  {
   "cell_type": "markdown",
   "id": "labeled-respondent",
   "metadata": {},
   "source": [
    "< [Table of Contents](#top) | [References](#references) >\n",
    "<a id=\"object\"></a>\n",
    "### Everything is an Object\n",
    "***"
   ]
  },
  {
   "cell_type": "code",
   "execution_count": 1,
   "id": "coordinated-packing",
   "metadata": {},
   "outputs": [],
   "source": [
    "from sys import path; path.insert(1,\"../src\")"
   ]
  },
  {
   "cell_type": "code",
   "execution_count": 2,
   "id": "pleased-shannon",
   "metadata": {},
   "outputs": [
    {
     "data": {
      "text/html": [
       "<style>.container { width:100% !important; }</style>"
      ],
      "text/plain": [
       "<IPython.core.display.HTML object>"
      ]
     },
     "metadata": {},
     "output_type": "display_data"
    }
   ],
   "source": [
    "from fubar import fIsObject"
   ]
  },
  {
   "cell_type": "code",
   "execution_count": 3,
   "id": "billion-commitment",
   "metadata": {},
   "outputs": [
    {
     "name": "stdout",
     "output_type": "stream",
     "text": [
      "# repository ./fubar-python\r\n",
      "def fIsObject(nParSomething):\r\n",
      "    \"\"\"Everything in python is an object.\r\n",
      "    \r\n",
      "Input: nParSomething\r\n",
      "Process: (isinstance)\r\n",
      "Output: boolean True or False\r\n",
      "\"\"\"\r\n",
      "    return isinstance(nParSomething,object)\r\n",
      "# --- END ---\r\n"
     ]
    }
   ],
   "source": [
    "%%script bash\n",
    "grep -1 \"def fIsObject\" ../src/fubar.py -A 8"
   ]
  },
  {
   "cell_type": "code",
   "execution_count": 4,
   "id": "early-juvenile",
   "metadata": {},
   "outputs": [
    {
     "data": {
      "text/plain": [
       "True"
      ]
     },
     "execution_count": 4,
     "metadata": {},
     "output_type": "execute_result"
    }
   ],
   "source": [
    "fIsObject(nParSomething=0)"
   ]
  },
  {
   "cell_type": "code",
   "execution_count": 5,
   "id": "owned-appeal",
   "metadata": {},
   "outputs": [
    {
     "data": {
      "text/plain": [
       "True"
      ]
     },
     "execution_count": 5,
     "metadata": {},
     "output_type": "execute_result"
    }
   ],
   "source": [
    "fIsObject(nParSomething=fIsObject)"
   ]
  },
  {
   "cell_type": "code",
   "execution_count": 6,
   "id": "activated-hello",
   "metadata": {},
   "outputs": [
    {
     "data": {
      "text/plain": [
       "True"
      ]
     },
     "execution_count": 6,
     "metadata": {},
     "output_type": "execute_result"
    }
   ],
   "source": [
    "fIsObject(nParSomething=fIsObject(0))"
   ]
  },
  {
   "cell_type": "code",
   "execution_count": 7,
   "id": "superior-tension",
   "metadata": {},
   "outputs": [],
   "source": [
    "exit()"
   ]
  },
  {
   "cell_type": "markdown",
   "id": "existing-nickel",
   "metadata": {},
   "source": [
    "< [Table of Contents](#top) | [References](#references) >\n",
    "<a id=\"Immutable-vs-Mutable\"></a>\n",
    "***\n",
    "###### Immutable vs Mutable\n",
    "***"
   ]
  },
  {
   "cell_type": "markdown",
   "id": "pretty-grill",
   "metadata": {},
   "source": [
    "- each object contains at least three pieces of data i) reference count - for memory management ii) type - used at the CPython layer to ensure type safety during runtime iii) value - is the actual value associated with the object [1]"
   ]
  },
  {
   "cell_type": "markdown",
   "id": "pointed-cleanup",
   "metadata": {},
   "source": [
    "- not all objects are the same though - there is another important distinction - immutable versus mutable objects - the two types of objects in python - immutable objects - cannot be changed - mutable objects - can be changed [1]"
   ]
  },
  {
   "cell_type": "code",
   "execution_count": 1,
   "id": "exceptional-penetration",
   "metadata": {},
   "outputs": [],
   "source": [
    "exit()"
   ]
  },
  {
   "cell_type": "markdown",
   "id": "universal-spokesman",
   "metadata": {},
   "source": [
    "< [Table of Contents](#top) | [References](#references) >\n",
    "<a id=\"Immutable\"></a>\n",
    "***\n",
    "###### Immutable\n",
    "***"
   ]
  },
  {
   "cell_type": "markdown",
   "id": "popular-smile",
   "metadata": {},
   "source": [
    "- immutable objects cannot be changed - lots of commonly used primitive types are immutable [1]"
   ]
  },
  {
   "cell_type": "code",
   "execution_count": 1,
   "id": "distributed-privacy",
   "metadata": {},
   "outputs": [],
   "source": [
    "exit()"
   ]
  },
  {
   "cell_type": "markdown",
   "id": "according-concert",
   "metadata": {},
   "source": [
    "< [Table of Contents](#top) | [References](#references) >\n",
    "<a id=\"Float\"></a>\n",
    "***\n",
    "###### Float\n",
    "***"
   ]
  },
  {
   "cell_type": "markdown",
   "id": "following-capitol",
   "metadata": {},
   "source": [
    "- ***Immutable*** - modifying ``n`` with addition will create a new object even though it appears to be modifying the value of ``n`` [1]"
   ]
  },
  {
   "cell_type": "code",
   "execution_count": 1,
   "id": "underlying-vision",
   "metadata": {},
   "outputs": [],
   "source": [
    "from sys import path; path.insert(1,\"../src\")"
   ]
  },
  {
   "cell_type": "code",
   "execution_count": 2,
   "id": "nasty-characterization",
   "metadata": {},
   "outputs": [
    {
     "data": {
      "text/html": [
       "<style>.container { width:100% !important; }</style>"
      ],
      "text/plain": [
       "<IPython.core.display.HTML object>"
      ]
     },
     "metadata": {},
     "output_type": "display_data"
    }
   ],
   "source": [
    "from fubar import fImmutableMutable"
   ]
  },
  {
   "cell_type": "code",
   "execution_count": 3,
   "id": "varied-catalyst",
   "metadata": {},
   "outputs": [
    {
     "name": "stdout",
     "output_type": "stream",
     "text": [
      "# repository ./fubar-python\r\n",
      "def fImmutableMutable(nParObject):\r\n",
      "    \"\"\"Immutable objects (int; float; bool; complex; frozenset; str; tuple)\r\n",
      "    cannot be changed whereas mutable objects (list; set; dict) can be changed.\r\n",
      "\r\n",
      "Input: nParObject\r\n",
      "Process: (id)\r\n",
      "Output: i) object identity (memory address); ii) object itself  \r\n",
      "\"\"\"\r\n",
      "    print(\"<id> : {}\".format(id(nParObject)))\r\n",
      "    return nParObject \r\n",
      "# --- END ---\r\n"
     ]
    }
   ],
   "source": [
    "%%script bash\n",
    "grep -1 \"def fImmutableMutable\" ../src/fubar.py -A 10"
   ]
  },
  {
   "cell_type": "code",
   "execution_count": 4,
   "id": "anticipated-boring",
   "metadata": {},
   "outputs": [
    {
     "name": "stdout",
     "output_type": "stream",
     "text": [
      "<id> : 1681506078032\n"
     ]
    },
    {
     "data": {
      "text/plain": [
       "1.0"
      ]
     },
     "execution_count": 4,
     "metadata": {},
     "output_type": "execute_result"
    }
   ],
   "source": [
    "n=1.0\n",
    "fImmutableMutable(nParObject=n)"
   ]
  },
  {
   "cell_type": "markdown",
   "id": "descending-swedish",
   "metadata": {},
   "source": [
    "- getting a new object as a response [1]"
   ]
  },
  {
   "cell_type": "code",
   "execution_count": 5,
   "id": "fresh-latest",
   "metadata": {},
   "outputs": [
    {
     "name": "stdout",
     "output_type": "stream",
     "text": [
      "<id> : 1681506078064\n"
     ]
    },
    {
     "data": {
      "text/plain": [
       "2.0"
      ]
     },
     "execution_count": 5,
     "metadata": {},
     "output_type": "execute_result"
    }
   ],
   "source": [
    "n+=1\n",
    "fImmutableMutable(nParObject=n)"
   ]
  },
  {
   "cell_type": "code",
   "execution_count": 6,
   "id": "starting-panama",
   "metadata": {},
   "outputs": [],
   "source": [
    "exit()"
   ]
  },
  {
   "cell_type": "markdown",
   "id": "threatened-taste",
   "metadata": {},
   "source": [
    "< [Table of Contents](#top) | [References](#references) >\n",
    "<a id=\"Str\"></a>\n",
    "***\n",
    "###### Str\n",
    "***"
   ]
  },
  {
   "cell_type": "markdown",
   "id": "pregnant-synthesis",
   "metadata": {},
   "source": [
    "- ***Immutable*** - ``n`` object creates a different memory address after the operation ``+=`` [1]"
   ]
  },
  {
   "cell_type": "code",
   "execution_count": 1,
   "id": "durable-london",
   "metadata": {},
   "outputs": [],
   "source": [
    "from sys import path; path.insert(1,\"../src\")"
   ]
  },
  {
   "cell_type": "code",
   "execution_count": 2,
   "id": "medium-resident",
   "metadata": {},
   "outputs": [
    {
     "data": {
      "text/html": [
       "<style>.container { width:100% !important; }</style>"
      ],
      "text/plain": [
       "<IPython.core.display.HTML object>"
      ]
     },
     "metadata": {},
     "output_type": "display_data"
    }
   ],
   "source": [
    "from fubar import fImmutableMutable"
   ]
  },
  {
   "cell_type": "code",
   "execution_count": 3,
   "id": "hungry-shopper",
   "metadata": {},
   "outputs": [
    {
     "name": "stdout",
     "output_type": "stream",
     "text": [
      "# repository ./fubar-python\r\n",
      "def fImmutableMutable(nParObject):\r\n",
      "    \"\"\"Immutable objects (int; float; bool; complex; frozenset; str; tuple)\r\n",
      "    cannot be changed whereas mutable objects (list; set; dict) can be changed.\r\n",
      "\r\n",
      "Input: nParObject\r\n",
      "Process: (id)\r\n",
      "Output: i) object identity (memory address); ii) object itself  \r\n",
      "\"\"\"\r\n",
      "    print(\"<id> : {}\".format(id(nParObject)))\r\n",
      "    return nParObject \r\n",
      "# --- END ---\r\n"
     ]
    }
   ],
   "source": [
    "%%script bash\n",
    "grep -1 \"def fImmutableMutable\" ../src/fubar.py -A 10"
   ]
  },
  {
   "cell_type": "code",
   "execution_count": 4,
   "id": "selective-collaboration",
   "metadata": {},
   "outputs": [
    {
     "name": "stdout",
     "output_type": "stream",
     "text": [
      "<id> : 1534483209392\n"
     ]
    },
    {
     "data": {
      "text/plain": [
       "'foo'"
      ]
     },
     "execution_count": 4,
     "metadata": {},
     "output_type": "execute_result"
    }
   ],
   "source": [
    "n=\"foo\"\n",
    "fImmutableMutable(nParObject=n)"
   ]
  },
  {
   "cell_type": "code",
   "execution_count": 5,
   "id": "mediterranean-retailer",
   "metadata": {},
   "outputs": [
    {
     "name": "stdout",
     "output_type": "stream",
     "text": [
      "<id> : 1534541852592\n"
     ]
    },
    {
     "data": {
      "text/plain": [
       "'foobar'"
      ]
     },
     "execution_count": 5,
     "metadata": {},
     "output_type": "execute_result"
    }
   ],
   "source": [
    "n+=\"bar\"\n",
    "fImmutableMutable(nParObject=n)"
   ]
  },
  {
   "cell_type": "markdown",
   "id": "blocked-lunch",
   "metadata": {},
   "source": [
    "- trying to directly mutate the string ``nStr`` results in an error - python will indicate no support of such mutation which is in line with the definition that the str type is immutable [1]\n",
    "\n",
    "```python\n",
    "nStr[0]=\"F\"\n",
    "TypeError: 'str' object does not support item assignment\n",
    "```"
   ]
  },
  {
   "cell_type": "code",
   "execution_count": 6,
   "id": "greek-prophet",
   "metadata": {},
   "outputs": [],
   "source": [
    "exit()"
   ]
  },
  {
   "cell_type": "markdown",
   "id": "polished-freeware",
   "metadata": {},
   "source": [
    "< [Table of Contents](#top) | [References](#references) >\n",
    "<a id=\"Mutable\"></a>\n",
    "***\n",
    "###### Mutable\n",
    "***"
   ]
  },
  {
   "cell_type": "markdown",
   "id": "african-trigger",
   "metadata": {},
   "source": [
    "- mutable objects can be changed [1]"
   ]
  },
  {
   "cell_type": "code",
   "execution_count": 1,
   "id": "plain-central",
   "metadata": {},
   "outputs": [],
   "source": [
    "exit()"
   ]
  },
  {
   "cell_type": "markdown",
   "id": "spiritual-classroom",
   "metadata": {},
   "source": [
    "< [Table of Contents](#top) | [References](#references) >\n",
    "<a id=\"List-Built-in-Container\"></a>\n",
    "***\n",
    "###### List (Built-in Container)\n",
    "***"
   ]
  },
  {
   "cell_type": "markdown",
   "id": "bright-basic",
   "metadata": {},
   "source": [
    "- **Mutable** - object ``n`` has an id originally and even after another item is added (appended) to the list it continues to have the same id as the original - same hold true after an assignment [1]"
   ]
  },
  {
   "cell_type": "code",
   "execution_count": 1,
   "id": "answering-grass",
   "metadata": {},
   "outputs": [],
   "source": [
    "from sys import path; path.insert(1,\"../src\")"
   ]
  },
  {
   "cell_type": "code",
   "execution_count": 2,
   "id": "major-keyboard",
   "metadata": {},
   "outputs": [],
   "source": [
    "n=list(range(10))"
   ]
  },
  {
   "cell_type": "code",
   "execution_count": 3,
   "id": "guided-smoke",
   "metadata": {},
   "outputs": [
    {
     "data": {
      "text/html": [
       "<style>.container { width:100% !important; }</style>"
      ],
      "text/plain": [
       "<IPython.core.display.HTML object>"
      ]
     },
     "metadata": {},
     "output_type": "display_data"
    }
   ],
   "source": [
    "from fubar import fImmutableMutable"
   ]
  },
  {
   "cell_type": "code",
   "execution_count": 4,
   "id": "enclosed-miami",
   "metadata": {},
   "outputs": [
    {
     "name": "stdout",
     "output_type": "stream",
     "text": [
      "# repository ./fubar-python\r\n",
      "def fImmutableMutable(nParObject):\r\n",
      "    \"\"\"Immutable objects (int; float; bool; complex; frozenset; str; tuple)\r\n",
      "    cannot be changed whereas mutable objects (list; set; dict) can be changed.\r\n",
      "\r\n",
      "Input: nParObject\r\n",
      "Process: (id)\r\n",
      "Output: i) object identity (memory address); ii) object itself  \r\n",
      "\"\"\"\r\n",
      "    print(\"<id> : {}\".format(id(nParObject)))\r\n",
      "    return nParObject \r\n",
      "# --- END ---\r\n"
     ]
    }
   ],
   "source": [
    "%%script bash\n",
    "grep -1 \"def fImmutableMutable\" ../src/fubar.py -A 10"
   ]
  },
  {
   "cell_type": "code",
   "execution_count": 5,
   "id": "prospective-purple",
   "metadata": {},
   "outputs": [
    {
     "name": "stdout",
     "output_type": "stream",
     "text": [
      "<id> : 1589695448128\n"
     ]
    },
    {
     "data": {
      "text/plain": [
       "[0, 1, 2, 3, 4, 5, 6, 7, 8, 9]"
      ]
     },
     "execution_count": 5,
     "metadata": {},
     "output_type": "execute_result"
    }
   ],
   "source": [
    "fImmutableMutable(list(range(10)))"
   ]
  },
  {
   "cell_type": "code",
   "execution_count": 6,
   "id": "short-ending",
   "metadata": {},
   "outputs": [
    {
     "name": "stdout",
     "output_type": "stream",
     "text": [
      "<id> : 1589695451072\n"
     ]
    },
    {
     "data": {
      "text/plain": [
       "[0, 1, 2, 3, 4, 5, 6, 7, 8, 9]"
      ]
     },
     "execution_count": 6,
     "metadata": {},
     "output_type": "execute_result"
    }
   ],
   "source": [
    "list(range(10)).append(10)\n",
    "fImmutableMutable(list(range(10)))"
   ]
  },
  {
   "cell_type": "code",
   "execution_count": 7,
   "id": "formed-railway",
   "metadata": {},
   "outputs": [
    {
     "name": "stdout",
     "output_type": "stream",
     "text": [
      "<id> : 1589695306816\n"
     ]
    },
    {
     "data": {
      "text/plain": [
       "[10, 1, 2, 3, 4, 5, 6, 7, 8, 9]"
      ]
     },
     "execution_count": 7,
     "metadata": {},
     "output_type": "execute_result"
    }
   ],
   "source": [
    "n[0]=10\n",
    "fImmutableMutable(n)"
   ]
  },
  {
   "cell_type": "code",
   "execution_count": 8,
   "id": "expired-board",
   "metadata": {},
   "outputs": [],
   "source": [
    "exit()"
   ]
  },
  {
   "cell_type": "markdown",
   "id": "fifteen-lesson",
   "metadata": {},
   "source": [
    "< [Table of Contents](#top) | [References](#references) >\n",
    "<a id=\"Specialised-Container\"></a>\n",
    "***\n",
    "### Specialised Container\n",
    "***"
   ]
  },
  {
   "cell_type": "markdown",
   "id": "chemical-belfast",
   "metadata": {},
   "source": [
    "&#x1F6A7;"
   ]
  },
  {
   "cell_type": "code",
   "execution_count": 1,
   "id": "minor-hayes",
   "metadata": {},
   "outputs": [],
   "source": [
    "exit()"
   ]
  },
  {
   "cell_type": "markdown",
   "id": "approximate-ridge",
   "metadata": {},
   "source": [
    "< [Table of Contents](#top) | [References](#references) >\n",
    "<a id=\"collections-Counter\"></a>\n",
    "***\n",
    "###### collections.Counter\n",
    "***"
   ]
  },
  {
   "cell_type": "markdown",
   "id": "informative-tourism",
   "metadata": {},
   "source": [
    "< [Operator-Arithmetic](#Operator-Arithmetic) >"
   ]
  },
  {
   "cell_type": "markdown",
   "id": "standing-reggae",
   "metadata": {},
   "source": [
    "&#x1F6A7;"
   ]
  },
  {
   "cell_type": "code",
   "execution_count": 1,
   "id": "meaning-stopping",
   "metadata": {},
   "outputs": [],
   "source": [
    "exit()"
   ]
  },
  {
   "cell_type": "markdown",
   "id": "clean-teacher",
   "metadata": {},
   "source": [
    "< [Table of Contents](#top) | [References](#references) >\n",
    "<a id=\"Operator\"></a>\n",
    "***\n",
    "### Operator\n",
    "***"
   ]
  },
  {
   "cell_type": "markdown",
   "id": "transsexual-attachment",
   "metadata": {},
   "source": [
    "&#x1F6A7;"
   ]
  },
  {
   "cell_type": "code",
   "execution_count": 1,
   "id": "consecutive-lender",
   "metadata": {},
   "outputs": [],
   "source": [
    "exit()"
   ]
  },
  {
   "cell_type": "markdown",
   "id": "assigned-source",
   "metadata": {},
   "source": [
    "< [Table of Contents](#top) | [References](#references) >\n",
    "<a id=\"Arithmetic\"></a>\n",
    "***\n",
    "###### Arithmetic\n",
    "***"
   ]
  },
  {
   "cell_type": "markdown",
   "id": "persistent-broadcast",
   "metadata": {},
   "source": [
    "- basic binary arithmetic operators (addition / substraction / multiplication / true division / floor division / modulus / exponentiation) - addition / substraction can double as unary operators (negation / unary plus) [3 p. 17]"
   ]
  },
  {
   "cell_type": "code",
   "execution_count": 1,
   "id": "responsible-blink",
   "metadata": {},
   "outputs": [],
   "source": [
    "a,b=2,3"
   ]
  },
  {
   "cell_type": "markdown",
   "id": "warming-offering",
   "metadata": {},
   "source": [
    "|Operator|Name|Description|\n",
    ":------------------------- | :------------------------- | :------------------------- |\n",
    "|a+b|Addition|Sum of a and b|\n",
    "|a-b|Subtraction|Difference of a and b|\n",
    "|a*b|Multiplication|Product of a and b|"
   ]
  },
  {
   "cell_type": "markdown",
   "id": "cathedral-analyst",
   "metadata": {},
   "source": [
    "- floor division operator (``//``) is the true division (``/``) with fractional parts truncated [3 p.18]"
   ]
  },
  {
   "cell_type": "markdown",
   "id": "tough-harris",
   "metadata": {},
   "source": [
    "|Operator|Name|Description|\n",
    ":------------------------- | :------------------------- | :------------------------- |\n",
    "|a/b|True Division|Quotient of a and b|\n",
    "|a//b|Floor Division|Quotient of a and b (removing fractional parts)|\n",
    "|a%b|Modulus|Remainder after division of a by b|\n",
    "|a**b|Exponentiation|a raised to the power of b|"
   ]
  },
  {
   "cell_type": "code",
   "execution_count": 2,
   "id": "threatened-index",
   "metadata": {},
   "outputs": [
    {
     "data": {
      "text/plain": [
       "0.6666666666666666"
      ]
     },
     "execution_count": 2,
     "metadata": {},
     "output_type": "execute_result"
    }
   ],
   "source": [
    "a/b"
   ]
  },
  {
   "cell_type": "code",
   "execution_count": 3,
   "id": "frequent-prior",
   "metadata": {
    "scrolled": true
   },
   "outputs": [
    {
     "data": {
      "text/plain": [
       "0"
      ]
     },
     "execution_count": 3,
     "metadata": {},
     "output_type": "execute_result"
    }
   ],
   "source": [
    "a//b"
   ]
  },
  {
   "cell_type": "code",
   "execution_count": 4,
   "id": "overhead-panama",
   "metadata": {},
   "outputs": [
    {
     "data": {
      "text/plain": [
       "2"
      ]
     },
     "execution_count": 4,
     "metadata": {},
     "output_type": "execute_result"
    }
   ],
   "source": [
    "a%b"
   ]
  },
  {
   "cell_type": "code",
   "execution_count": 5,
   "id": "french-madrid",
   "metadata": {},
   "outputs": [
    {
     "data": {
      "text/plain": [
       "8"
      ]
     },
     "execution_count": 5,
     "metadata": {},
     "output_type": "execute_result"
    }
   ],
   "source": [
    "a**b"
   ]
  },
  {
   "cell_type": "markdown",
   "id": "biblical-survey",
   "metadata": {},
   "source": [
    "- a unary operation is an operation with only one operand (single input) in contrast to binary operations which use two operands [3 p. 17]"
   ]
  },
  {
   "cell_type": "markdown",
   "id": "indian-piano",
   "metadata": {},
   "source": [
    "|Operator|Name|Description|\n",
    ":------------------------- | :------------------------- | :------------------------- |\n",
    "|-a|Negation|The negative of a|"
   ]
  },
  {
   "cell_type": "code",
   "execution_count": 6,
   "id": "interior-vienna",
   "metadata": {},
   "outputs": [
    {
     "data": {
      "text/plain": [
       "-2"
      ]
     },
     "execution_count": 6,
     "metadata": {},
     "output_type": "execute_result"
    }
   ],
   "source": [
    "-a"
   ]
  },
  {
   "cell_type": "code",
   "execution_count": 7,
   "id": "competitive-marsh",
   "metadata": {},
   "outputs": [
    {
     "data": {
      "text/plain": [
       "2"
      ]
     },
     "execution_count": 7,
     "metadata": {},
     "output_type": "execute_result"
    }
   ],
   "source": [
    "a"
   ]
  },
  {
   "cell_type": "markdown",
   "id": "sensitive-cambodia",
   "metadata": {},
   "source": [
    "<a id=\"Operator-Arithmetic\"></a>\n",
    "< [collections.Counter](#collections-Counter) >"
   ]
  },
  {
   "cell_type": "code",
   "execution_count": 8,
   "id": "pleased-confusion",
   "metadata": {},
   "outputs": [],
   "source": [
    "from collections import Counter"
   ]
  },
  {
   "cell_type": "code",
   "execution_count": 9,
   "id": "broke-findings",
   "metadata": {},
   "outputs": [
    {
     "data": {
      "text/plain": [
       "Counter({'apples': 0, 'pears': 4, 'oranges': -89})"
      ]
     },
     "execution_count": 9,
     "metadata": {},
     "output_type": "execute_result"
    }
   ],
   "source": [
    "Counter({\"apples\":0,\"pears\":4,\"oranges\":-89})"
   ]
  },
  {
   "cell_type": "code",
   "execution_count": 10,
   "id": "western-student",
   "metadata": {},
   "outputs": [
    {
     "data": {
      "text/plain": [
       "Counter({'oranges': 89})"
      ]
     },
     "execution_count": 10,
     "metadata": {},
     "output_type": "execute_result"
    }
   ],
   "source": [
    "-Counter({\"apples\":0,\"pears\":4,\"oranges\":-89})"
   ]
  },
  {
   "cell_type": "markdown",
   "id": "unavailable-saturn",
   "metadata": {},
   "source": [
    "|Operator|Name|Description|\n",
    ":------------------------- | :------------------------- | :------------------------- |\n",
    "|+a|Unary Plus|a unchanged|"
   ]
  },
  {
   "cell_type": "code",
   "execution_count": 11,
   "id": "important-teens",
   "metadata": {},
   "outputs": [
    {
     "data": {
      "text/plain": [
       "2"
      ]
     },
     "execution_count": 11,
     "metadata": {},
     "output_type": "execute_result"
    }
   ],
   "source": [
    "+a"
   ]
  },
  {
   "cell_type": "code",
   "execution_count": 12,
   "id": "premier-stability",
   "metadata": {},
   "outputs": [
    {
     "data": {
      "text/plain": [
       "Counter({'pears': 4})"
      ]
     },
     "execution_count": 12,
     "metadata": {},
     "output_type": "execute_result"
    }
   ],
   "source": [
    "+Counter({\"apples\":0,\"pears\":4,\"oranges\":-89})"
   ]
  },
  {
   "cell_type": "code",
   "execution_count": 13,
   "id": "pleasant-profession",
   "metadata": {},
   "outputs": [],
   "source": [
    "exit()"
   ]
  },
  {
   "cell_type": "markdown",
   "id": "played-colleague",
   "metadata": {},
   "source": [
    "< [Table of Contents](#top) | [References](#references) >\n",
    "<a id=\"Bitwise\"></a>\n",
    "***\n",
    "###### Bitwise\n",
    "***"
   ]
  },
  {
   "cell_type": "markdown",
   "id": "silent-indonesian",
   "metadata": {},
   "source": [
    "&#x1F6A7;"
   ]
  },
  {
   "cell_type": "code",
   "execution_count": 1,
   "id": "decreased-animation",
   "metadata": {},
   "outputs": [],
   "source": [
    "exit()"
   ]
  },
  {
   "cell_type": "markdown",
   "id": "green-piece",
   "metadata": {},
   "source": [
    "< [Table of Contents](#top) | [References](#references) >\n",
    "<a id=\"Assignment\"></a>\n",
    "***\n",
    "###### Assignment\n",
    "***"
   ]
  },
  {
   "cell_type": "markdown",
   "id": "measured-central",
   "metadata": {},
   "source": [
    "&#x1F6A7;"
   ]
  },
  {
   "cell_type": "code",
   "execution_count": 1,
   "id": "bronze-midnight",
   "metadata": {},
   "outputs": [],
   "source": [
    "exit()"
   ]
  },
  {
   "cell_type": "markdown",
   "id": "small-handle",
   "metadata": {},
   "source": [
    "< [Table of Contents](#top) | [References](#references) >\n",
    "<a id=\"Comparison\"></a>\n",
    "***\n",
    "###### Comparison\n",
    "***"
   ]
  },
  {
   "cell_type": "markdown",
   "id": "informal-colorado",
   "metadata": {},
   "source": [
    "&#x1F6A7;"
   ]
  },
  {
   "cell_type": "code",
   "execution_count": 1,
   "id": "dramatic-huntington",
   "metadata": {},
   "outputs": [],
   "source": [
    "exit()"
   ]
  },
  {
   "cell_type": "markdown",
   "id": "choice-hawaii",
   "metadata": {},
   "source": [
    "< [Table of Contents](#top) | [References](#references) >\n",
    "<a id=\"Boolean\"></a>\n",
    "***\n",
    "###### Boolean\n",
    "***"
   ]
  },
  {
   "cell_type": "markdown",
   "id": "concrete-brooks",
   "metadata": {},
   "source": [
    "&#x1F6A7;"
   ]
  },
  {
   "cell_type": "code",
   "execution_count": 1,
   "id": "ordered-dating",
   "metadata": {},
   "outputs": [],
   "source": [
    "exit()"
   ]
  },
  {
   "cell_type": "markdown",
   "id": "fleet-agenda",
   "metadata": {},
   "source": [
    "< [Table of Contents](#top) | [References](#references) >\n",
    "<a id=\"Identity\"></a>\n",
    "***\n",
    "###### Identity\n",
    "***"
   ]
  },
  {
   "cell_type": "markdown",
   "id": "rapid-favor",
   "metadata": {},
   "source": [
    "&#x1F6A7;"
   ]
  },
  {
   "cell_type": "code",
   "execution_count": 1,
   "id": "brown-front",
   "metadata": {},
   "outputs": [],
   "source": [
    "exit()"
   ]
  },
  {
   "cell_type": "markdown",
   "id": "congressional-liverpool",
   "metadata": {},
   "source": [
    "< [Table of Contents](#top) | [References](#references) >\n",
    "<a id=\"Membership\"></a>\n",
    "***\n",
    "###### Membership\n",
    "***"
   ]
  },
  {
   "cell_type": "markdown",
   "id": "regional-mouth",
   "metadata": {},
   "source": [
    "&#x1F6A7;"
   ]
  },
  {
   "cell_type": "code",
   "execution_count": 1,
   "id": "hindu-american",
   "metadata": {},
   "outputs": [],
   "source": [
    "exit()"
   ]
  },
  {
   "cell_type": "markdown",
   "id": "minimal-agenda",
   "metadata": {},
   "source": [
    "***\n",
    "## END"
   ]
  },
  {
   "cell_type": "markdown",
   "id": "empirical-channels",
   "metadata": {},
   "source": [
    "< [Table of Contents](#top) | [Abstract](#abstract) | [Introduction](#introduction) | [Conclusion](#conclusion) | [References](#references) >\n",
    "<a id=\"solution\"></a>\n",
    "***\n",
    "## Solution\n",
    "***"
   ]
  },
  {
   "cell_type": "markdown",
   "id": "stylish-contribution",
   "metadata": {},
   "source": [
    "< [Table of Contents](#top) | [References](#references) >\n",
    "<a id=\"computational-thinking-with-algorithms\"></a>\n",
    "### GMIT - CTA\n",
    "***"
   ]
  },
  {
   "cell_type": "markdown",
   "id": "selected-times",
   "metadata": {},
   "source": [
    "**Module (Computational Thinking with Algorithms) Programming Practice**"
   ]
  },
  {
   "cell_type": "code",
   "execution_count": 1,
   "id": "smooth-prototype",
   "metadata": {},
   "outputs": [],
   "source": [
    "exit()"
   ]
  },
  {
   "cell_type": "markdown",
   "id": "mobile-bulletin",
   "metadata": {},
   "source": [
    "< [Table of Contents](#top) | [References](#references) >\n",
    "<a id=\"code-runner\"></a>\n",
    "***\n",
    "###### Code Runner\n",
    "***"
   ]
  },
  {
   "cell_type": "code",
   "execution_count": null,
   "id": "veterinary-carbon",
   "metadata": {},
   "outputs": [],
   "source": [
    "def fOnlyEvens(nParArray):\n",
    "    \"\"\"GMIT Module: Computational Thinking with Algorithms - Code Runner\n",
    "\n",
    "Input: Array of integers.\n",
    "Process: Each number in \"Input\"; if number % 2 = 0; append to new array.\n",
    "Output: New array containing only the even numbers from the first array.\n",
    "\"\"\"\n",
    "    nArray=[] # output\n",
    "    for nEachItem in nParArray: # process\n",
    "        if nEachItem%2==0:\n",
    "            nArray.append(nEachItem)\n",
    "    return nArray\n",
    "fOnlyEvens(list(range(1,7)))"
   ]
  },
  {
   "cell_type": "code",
   "execution_count": null,
   "id": "other-holder",
   "metadata": {},
   "outputs": [],
   "source": [
    "from numpy.random import default_rng\n",
    "n1000k=[default_rng().integers(low=10,high=None) for i in range(0,1000000)]"
   ]
  },
  {
   "cell_type": "code",
   "execution_count": null,
   "id": "convinced-enforcement",
   "metadata": {},
   "outputs": [],
   "source": [
    "len(n1000k)"
   ]
  },
  {
   "cell_type": "code",
   "execution_count": null,
   "id": "lyric-convergence",
   "metadata": {},
   "outputs": [],
   "source": [
    "n1000k[999999]"
   ]
  },
  {
   "cell_type": "code",
   "execution_count": null,
   "id": "rocky-ghana",
   "metadata": {},
   "outputs": [],
   "source": [
    "def fContainsElement(nParArr,nParSearch):\n",
    "    for i in nParArr:\n",
    "        if i==nParSearch:\n",
    "            return True\n",
    "    return False"
   ]
  },
  {
   "cell_type": "code",
   "execution_count": null,
   "id": "usual-protocol",
   "metadata": {},
   "outputs": [],
   "source": [
    "%timeit -r 1 -n 5 fContainsElement(nParArr=n1000k,nParSearch=10)"
   ]
  },
  {
   "cell_type": "code",
   "execution_count": null,
   "id": "short-brick",
   "metadata": {},
   "outputs": [],
   "source": [
    "fContainsElement(nParArr=n1000k,nParSearch=10)"
   ]
  },
  {
   "cell_type": "code",
   "execution_count": null,
   "id": "fitting-dryer",
   "metadata": {},
   "outputs": [],
   "source": [
    "fContainsElement(nParArr=[1,2,1000,45],nParSearch=10)"
   ]
  },
  {
   "cell_type": "code",
   "execution_count": null,
   "id": "endless-marsh",
   "metadata": {},
   "outputs": [],
   "source": [
    "def fArray(nParArr):\n",
    "    for i in nParArr:\n",
    "        print(i) # each run/loop captures additional element in nParArr\n",
    "arr=[1,2,1000,4,5]\n",
    "fArray(arr)"
   ]
  },
  {
   "cell_type": "code",
   "execution_count": null,
   "id": "local-password",
   "metadata": {},
   "outputs": [],
   "source": [
    "def fArray(nParArr):\n",
    "    for i in nParArr:\n",
    "        print(nParArr[0]) # each run/loop captures first element (index 0) in \"i\" only\n",
    "arr=[1,2,1000,4,5]\n",
    "fArray(arr)"
   ]
  },
  {
   "cell_type": "markdown",
   "id": "ranging-headset",
   "metadata": {},
   "source": [
    "```python\n",
    "def fArray(nParArr):\n",
    "    for i in nParArr:\n",
    "        # first loop \"i\" is 1 - i.e. arr[0]\n",
    "            # second loop \"i\" is 2 - i.e. arr[1]\n",
    "                # third loop \"i\" is 1000 - i.e arr[2]\n",
    "        print(nParArr[i]) # first loop prints arr[1] given \"i\" is 1\n",
    "                                # second loop prints arr[2] given \"i\" is 2\n",
    "                                    # third loop prints (NOT) arr[1000] given \"i\" is 1000 \n",
    "        # on the third loop ERROR: \"list index out of range\" \n",
    "arr=[1,2,1000,4,5]\n",
    "fArray(arr)\n",
    "```"
   ]
  },
  {
   "cell_type": "markdown",
   "id": "arabic-redhead",
   "metadata": {},
   "source": [
    "```python\n",
    "def fArray(nParArr):\n",
    "    for i in nParArr:\n",
    "        # first loop \"i\" is 1 - i.e. arr[0]\n",
    "            # second loop \"i\" is 2 - i.e. arr[1]\n",
    "                # third loop \"i\" is 1000 - i.e arr[2]\n",
    "        print(nParArr[i-1]) # first loop prints arr[0] given \"i\" is 1 and minusing ONE\n",
    "                                # second loop prints arr[1] given \"i\" is 2 and minusing ONE\n",
    "                                    # third loop prints arr[999] (NOT) given \"i\" is 1000 and minusing ONE \n",
    "        # on the third loop ERROR: \"list index out of range\" \n",
    "arr=[1,2,1000,4,5]\n",
    "fArray(arr)\n",
    "```"
   ]
  },
  {
   "cell_type": "code",
   "execution_count": null,
   "id": "changed-classroom",
   "metadata": {},
   "outputs": [],
   "source": [
    "from numpy.random import default_rng\n",
    "n1000k=[default_rng().integers(low=10,high=None) for i in range(0,1000000)]"
   ]
  },
  {
   "cell_type": "code",
   "execution_count": null,
   "id": "sensitive-sudan",
   "metadata": {},
   "outputs": [],
   "source": [
    "# function A - using built-in functions\n",
    "def fContainsElement(nParArr,nParSearch):\n",
    "    for i in range(0,len(nParArr)):\n",
    "        if nParArr[i]==nParSearch:\n",
    "            return True\n",
    "    return False"
   ]
  },
  {
   "cell_type": "code",
   "execution_count": null,
   "id": "increased-christmas",
   "metadata": {},
   "outputs": [],
   "source": [
    "%timeit -r 1 -n 5 fContainsElement(nParArr=n1000k,nParSearch=10)\n",
    "fContainsElement(nParArr=n1000k,nParSearch=10)"
   ]
  },
  {
   "cell_type": "code",
   "execution_count": null,
   "id": "fewer-anthony",
   "metadata": {},
   "outputs": [],
   "source": [
    "def fContainsElement(nParArr,nParSearch):\n",
    "    for i in nParArr:\n",
    "        if nParArr[i]==nParSearch:\n",
    "            return True\n",
    "    return False"
   ]
  },
  {
   "cell_type": "code",
   "execution_count": null,
   "id": "interracial-arbor",
   "metadata": {},
   "outputs": [],
   "source": [
    "%timeit -r 1 -n 5 fContainsElement(nParArr=n1000k,nParSearch=10)\n",
    "fContainsElement(nParArr=n1000k,nParSearch=10)"
   ]
  },
  {
   "cell_type": "code",
   "execution_count": 1,
   "id": "honey-inspector",
   "metadata": {},
   "outputs": [],
   "source": [
    "exit()"
   ]
  },
  {
   "cell_type": "markdown",
   "id": "suburban-vector",
   "metadata": {},
   "source": [
    "< [Table of Contents](#top) | [References](#references) >\n",
    "<a id=\"Caesar-Cipher\"></a>\n",
    "***\n",
    "###### Caesar Cipher\n",
    "***"
   ]
  },
  {
   "cell_type": "code",
   "execution_count": null,
   "id": "decreased-bachelor",
   "metadata": {},
   "outputs": [],
   "source": [
    "# %%writefile -a ../src/fubar.py\n",
    "# repository ./fubar-python\n",
    "def fEncrypt(nParPlaintext,nParOffset):\n",
    "    \"\"\"Implement caesar cipher.\n",
    "\n",
    "Input: nParPlaintext; nParOffset\n",
    "Process: apply nParOffset to every character in nParPlaintext; ord; isupper; chr\n",
    "Output: nCiphertext\n",
    "\"\"\"\n",
    "    nCiphertext=\"\"\n",
    "    # traverse over string nParPlaintext\n",
    "    for nEachItem in nParPlaintext:\n",
    "        # transform according to nParOffset\n",
    "        nNumVal=ord(nEachItem) # ...nParPlaintext letter as number\n",
    "        # determine lowercase or uppercase\n",
    "        if nEachItem.isupper(): # ...boolean True if uppercase\n",
    "            # add nParOffset to nNumVal\n",
    "            nAdjusted=((nNumVal+nParOffset-65)%26)+65\n",
    "            nCiphertext+=chr(nAdjusted) # nNumVal number as letter\n",
    "        elif nNumVal==32:\n",
    "            nCiphertext+=nEachItem\n",
    "        else:\n",
    "            nAdjusted=((nNumVal+nParOffset-97)%26)+97\n",
    "            nCiphertext+=chr(nAdjusted) \n",
    "    return nCiphertext\n",
    "# -- END ---"
   ]
  },
  {
   "cell_type": "code",
   "execution_count": null,
   "id": "chicken-advance",
   "metadata": {},
   "outputs": [],
   "source": [
    "def encrypt(plain_text,offset):\n",
    "    nCiphertext=\"\"\n",
    "    # traverse over string plain_text\n",
    "    for nEachItem in plain_text:\n",
    "        # transform according to offset\n",
    "        nNumVal=ord(nEachItem) # ...plain_text letter as number\n",
    "        # determine lowercase or uppercase\n",
    "        if nEachItem.isupper(): # ...boolean True if uppercase\n",
    "            # add nParOffset to nNumVal\n",
    "            nAdjusted=((nNumVal+offset-65)%26)+65\n",
    "            nCiphertext+=chr(nAdjusted) # nNumVal number as letter\n",
    "        elif nNumVal==32:\n",
    "            nCiphertext+=nEachItem\n",
    "        else:\n",
    "            nAdjusted=((nNumVal+offset-97)%26)+97\n",
    "            nCiphertext+=chr(nAdjusted) \n",
    "    return nCiphertext"
   ]
  },
  {
   "cell_type": "code",
   "execution_count": null,
   "id": "utility-peninsula",
   "metadata": {},
   "outputs": [],
   "source": [
    "encrypt(\"Isnt Java Great\",4)"
   ]
  },
  {
   "cell_type": "code",
   "execution_count": null,
   "id": "german-walter",
   "metadata": {},
   "outputs": [],
   "source": [
    "encrypt(\"I love GMIT\",4)"
   ]
  },
  {
   "cell_type": "code",
   "execution_count": null,
   "id": "considerable-blade",
   "metadata": {},
   "outputs": [],
   "source": [
    "encrypt(\"This course is great\",4)"
   ]
  },
  {
   "cell_type": "code",
   "execution_count": null,
   "id": "pressing-constant",
   "metadata": {},
   "outputs": [],
   "source": [
    "def decrypt(plain_text,offset):\n",
    "    nPlaintext=\"\"\n",
    "    # traverse over string plain_text\n",
    "    for nEachItem in plain_text:\n",
    "        # transform according to offset\n",
    "        nNumVal=ord(nEachItem) # ...plain_text letter as number\n",
    "        # determine lowercase or uppercase\n",
    "        if nEachItem.isupper(): # ...boolean True if uppercase\n",
    "            # add nParOffset to nNumVal\n",
    "            nAdjusted=((nNumVal-offset-65)%26)+65\n",
    "            nPlaintext+=chr(nAdjusted) # nNumVal number as letter\n",
    "        elif nNumVal==32:\n",
    "            nPlaintext+=nEachItem\n",
    "        else:\n",
    "            nAdjusted=((nNumVal-offset-97)%26)+97\n",
    "            nPlaintext+=chr(nAdjusted) \n",
    "    return nPlaintext"
   ]
  },
  {
   "cell_type": "code",
   "execution_count": null,
   "id": "dental-final",
   "metadata": {},
   "outputs": [],
   "source": [
    "decrypt(\"Mwrx Neze Kviex\",4)"
   ]
  },
  {
   "cell_type": "code",
   "execution_count": null,
   "id": "opposite-boring",
   "metadata": {},
   "outputs": [],
   "source": [
    "decrypt(\"M pszi KQMX\",4)"
   ]
  },
  {
   "cell_type": "code",
   "execution_count": null,
   "id": "junior-agency",
   "metadata": {},
   "outputs": [],
   "source": [
    "decrypt(\"Xlmw gsyvwi mw kviex\",4)"
   ]
  },
  {
   "cell_type": "code",
   "execution_count": null,
   "id": "nutritional-trading",
   "metadata": {},
   "outputs": [],
   "source": [
    "def encrypt2(plain_text, offset):\n",
    "    nCiphertext=\"\"\n",
    "    # traverse over string plain_text\n",
    "    for nEachItem in plain_text:\n",
    "        # transform according to offset\n",
    "        nNumVal=ord(nEachItem) # ...plain_text letter as number\n",
    "        # determine lowercase or uppercase\n",
    "        if nEachItem.isupper(): # ...boolean True if uppercase\n",
    "            # add nParOffset to nNumVal\n",
    "            nAdjusted=((nNumVal+offset-65)%26)+65\n",
    "            nCiphertext+=chr(nAdjusted) # nNumVal number as letter\n",
    "        elif nNumVal==32: \n",
    "            pass\n",
    "        else:\n",
    "            nAdjusted=((nNumVal+offset-97)%26)+97\n",
    "            nCiphertext+=chr(nAdjusted)\n",
    "    return nCiphertext"
   ]
  },
  {
   "cell_type": "code",
   "execution_count": null,
   "id": "subjective-delaware",
   "metadata": {},
   "outputs": [],
   "source": [
    "encrypt2(\"hello lads\", 2)"
   ]
  },
  {
   "cell_type": "code",
   "execution_count": null,
   "id": "reverse-detection",
   "metadata": {},
   "outputs": [],
   "source": [
    "encrypt2(\"are we human\", 2)"
   ]
  },
  {
   "cell_type": "code",
   "execution_count": null,
   "id": "sixth-messenger",
   "metadata": {},
   "outputs": [],
   "source": [
    "encrypt2(\"or are we dancer\", 2)"
   ]
  },
  {
   "cell_type": "code",
   "execution_count": null,
   "id": "passive-reading",
   "metadata": {},
   "outputs": [],
   "source": [
    "encrypt2(\"two plus two is four\", 2)"
   ]
  },
  {
   "cell_type": "code",
   "execution_count": 1,
   "id": "looking-howard",
   "metadata": {},
   "outputs": [],
   "source": [
    "exit()"
   ]
  },
  {
   "cell_type": "markdown",
   "id": "pregnant-violin",
   "metadata": {},
   "source": [
    "***\n",
    "## END"
   ]
  },
  {
   "cell_type": "markdown",
   "id": "reported-zambia",
   "metadata": {},
   "source": [
    "< [Table of Contents](#top) | [Abstract](#abstract) | [Introduction](#introduction) | [Solution](#solution) | [References](#references) >\n",
    "<a id=\"conclusion\"></a>\n",
    "***\n",
    "## Conclusion\n",
    "***"
   ]
  },
  {
   "cell_type": "markdown",
   "id": "jewish-breakdown",
   "metadata": {},
   "source": [
    "&#x1F6A7;"
   ]
  },
  {
   "cell_type": "markdown",
   "id": "early-recipe",
   "metadata": {},
   "source": [
    "<!-- print(fGetModuleType(___x___),fDocumentation(___x___)) -->\n",
    "***\n",
    "## END"
   ]
  },
  {
   "cell_type": "markdown",
   "id": "handed-archive",
   "metadata": {},
   "source": [
    "< [Table of Contents](#top) | [Abstract](#abstract) | [Introduction](#introduction) | [Solution](#solution) | [Conclusion](#conclusion) | [References](#references) >\n",
    "<a id=\"references\"></a>\n",
    "***\n",
    "## References\n",
    "***\n",
    "\n",
    "\n",
    "&nbsp;&nbsp;&nbsp;&nbsp;&nbsp;&nbsp;&nbsp;&nbsp;&nbsp;[1] L. Jones, \"Pointers in Python: What's the Point?,\" [realpython](https://web.archive.org/web/20201210182307/https://realpython.com/pointers-in-python/), May 2019.\n",
    "\n",
    "&nbsp;&nbsp;&nbsp;&nbsp;&nbsp;&nbsp;&nbsp;&nbsp;&nbsp;[2] J. VanderPlas, \"Python Data Science Handbook,\" O'Reilly, December 2016.\n",
    "\n",
    "&nbsp;&nbsp;&nbsp;&nbsp;&nbsp;&nbsp;&nbsp;&nbsp;&nbsp;[3] J. VanderPlas, \"A Whirlwind Tour of Python,\" O'Reilly, August 2016."
   ]
  },
  {
   "cell_type": "markdown",
   "id": "optional-circus",
   "metadata": {},
   "source": [
    "***\n",
    "## END"
   ]
  },
  {
   "cell_type": "markdown",
   "id": "interim-inspection",
   "metadata": {},
   "source": [
    "< [Table of Contents](#top) | [Abstract](#abstract) | [Introduction](#introduction) | [Solution](#solution) | [Conclusion](#conclusion) | [References](#references) >\n",
    "<a id=\"appendix\"></a>\n",
    "***\n",
    "## Appendix\n",
    "***"
   ]
  },
  {
   "cell_type": "markdown",
   "id": "fifth-motorcycle",
   "metadata": {},
   "source": [
    "<a id=\"appendix-some-reference\"></a>\n",
    "< [Go Back](#top) >"
   ]
  },
  {
   "cell_type": "markdown",
   "id": "assigned-folks",
   "metadata": {},
   "source": [
    "###### Github\n",
    "***"
   ]
  },
  {
   "cell_type": "markdown",
   "id": "public-extent",
   "metadata": {},
   "source": [
    "```\n",
    "git push -f origin HEAD^:master && git reset HEAD~\n",
    "```"
   ]
  },
  {
   "cell_type": "markdown",
   "id": "molecular-brick",
   "metadata": {},
   "source": [
    "###### Functions\n",
    "***"
   ]
  },
  {
   "cell_type": "markdown",
   "id": "certified-scholar",
   "metadata": {},
   "source": [
    "```python\n",
    "# %%writefile -a ../src/fubar.py\n",
    "# repository ./fubar-python\n",
    "def f():\n",
    "    \"\"\"\n",
    "\n",
    "Input:\n",
    "Process:\n",
    "Output:\n",
    "\"\"\"\n",
    "    pass\n",
    "# -- END ---\n",
    "```"
   ]
  },
  {
   "cell_type": "markdown",
   "id": "practical-truck",
   "metadata": {},
   "source": [
    "###### Functions - ../src/fubar.py\n",
    "***"
   ]
  },
  {
   "cell_type": "markdown",
   "id": "surprised-rocket",
   "metadata": {},
   "source": [
    "```\n",
    "%%script bash\n",
    "cat ../src/fubar.py\n",
    "```"
   ]
  },
  {
   "cell_type": "code",
   "execution_count": 1,
   "id": "impressive-initial",
   "metadata": {},
   "outputs": [
    {
     "name": "stdout",
     "output_type": "stream",
     "text": [
      "# repository ./OhAileasa\r\n",
      "def fFullScreen():\r\n",
      "\t\"\"\"Utilise full Jupyter notebook screen.\r\n",
      "\r\n",
      "Input:\r\n",
      "Process: (IPython.core.display.display; IPython.core.display.HTML)\r\n",
      "Output:\r\n",
      "\"\"\"\r\n",
      "\tfrom IPython.core.display import display,HTML\r\n",
      "\tdisplay(HTML(\"<style>.container { width:100% !important; }</style>\"))\r\n",
      "# --- END ---\r\n"
     ]
    }
   ],
   "source": [
    "%%script bash\n",
    "grep -1 \"def fFullScreen\" ../src/fubar.py -A 9"
   ]
  },
  {
   "cell_type": "markdown",
   "id": "working-marking",
   "metadata": {},
   "source": [
    "```\n",
    "git commit -m \"update repository ./fubar-python - Everything in python is an object.\"\n",
    "```"
   ]
  },
  {
   "cell_type": "markdown",
   "id": "contemporary-fight",
   "metadata": {},
   "source": [
    "###### Images\n",
    "***"
   ]
  },
  {
   "cell_type": "markdown",
   "id": "domestic-inclusion",
   "metadata": {},
   "source": [
    "![gumball](https://github.com/SeanOhAileasa/SeanOhAileasa/blob/master/img/cta/analysing/gumball.png?raw=true)\n",
    "\n",
    "***(Image) P. Mannion, \"03 Analysing Algorithms Part 1,\" GMIT, October 2017.***"
   ]
  },
  {
   "cell_type": "markdown",
   "id": "duplicate-bunny",
   "metadata": {},
   "source": [
    "###### Tables\n",
    "***"
   ]
  },
  {
   "cell_type": "markdown",
   "id": "ranging-morrison",
   "metadata": {},
   "source": [
    "|aaa|bbbbbb|ccccccccc|\n",
    ":------------------------- | :------------------------- | :------------------------- |\n",
    "|aaa|bbbbbb|ccccccccc|"
   ]
  },
  {
   "cell_type": "markdown",
   "id": "accessible-adoption",
   "metadata": {},
   "source": [
    "###### References\n",
    "***"
   ]
  },
  {
   "cell_type": "markdown",
   "id": "demonstrated-negotiation",
   "metadata": {},
   "source": [
    "&nbsp;&nbsp;&nbsp;&nbsp;&nbsp;&nbsp;&nbsp;&nbsp;&nbsp;[1] x. xxx, \"xxx,\" xxx, JanXXXry 2XX1."
   ]
  },
  {
   "cell_type": "markdown",
   "id": "chronic-laugh",
   "metadata": {},
   "source": [
    "***\n",
    "## END"
   ]
  },
  {
   "cell_type": "markdown",
   "id": "verbal-string",
   "metadata": {},
   "source": [
    "# END JUPYTER NOTEBOOK"
   ]
  }
 ],
 "metadata": {
  "kernelspec": {
   "display_name": "Python 3",
   "language": "python",
   "name": "python3"
  },
  "language_info": {
   "codemirror_mode": {
    "name": "ipython",
    "version": 3
   },
   "file_extension": ".py",
   "mimetype": "text/x-python",
   "name": "python",
   "nbconvert_exporter": "python",
   "pygments_lexer": "ipython3",
   "version": "3.8.3"
  }
 },
 "nbformat": 4,
 "nbformat_minor": 5
}
