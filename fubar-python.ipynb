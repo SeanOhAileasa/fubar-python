{
 "cells": [
  {
   "cell_type": "code",
   "execution_count": null,
   "id": "hispanic-creation",
   "metadata": {},
   "outputs": [
    {
     "data": {
      "text/html": [
       "<script>Jupyter.notebook.kernel.restart()</script>"
      ]
     },
     "metadata": {},
     "output_type": "display_data"
    }
   ],
   "source": [
    "from IPython.core.display import display_html\n",
    "display_html(\"<script>Jupyter.notebook.kernel.restart()</script>\",raw=True)"
   ]
  },
  {
   "cell_type": "code",
   "execution_count": 1,
   "id": "velvet-decline",
   "metadata": {},
   "outputs": [
    {
     "data": {
      "text/html": [
       "<style>.container { width:100% !important; }</style>"
      ],
      "text/plain": [
       "<IPython.core.display.HTML object>"
      ]
     },
     "metadata": {},
     "output_type": "display_data"
    },
    {
     "data": {
      "text/html": [
       "<style>.container { width:100% !important; }</style>"
      ],
      "text/plain": [
       "<IPython.core.display.HTML object>"
      ]
     },
     "metadata": {},
     "output_type": "display_data"
    }
   ],
   "source": [
    "from sys import path; path.insert(1,\"../src\");\n",
    "import fubar; from importlib import reload; reload(fubar);"
   ]
  },
  {
   "cell_type": "markdown",
   "id": "golden-dutch",
   "metadata": {},
   "source": [
    "***\n",
    "< [GMIT Data Analytics](https://web.archive.org/web/20201029063153/https://www.gmit.ie/computer-science-and-applied-physics/higher-diploma-science-computing-data-analytics-ict) | [Home](https://github.com/SeanOhAileasa) | [README](https://github.com/SeanOhAileasa/fubar-python/blob/main/README.md) >\n",
    "\n",
    "[![GMIT](https://github.com/SeanOhAileasa/SeanOhAileasa/blob/master/img/gmit.png?raw=true)](https://web.archive.org/web/20201029063153/https://www.gmit.ie/computer-science-and-applied-physics/higher-diploma-science-computing-data-analytics-ict)\n",
    "\n",
    "## GMIT - Practice - Supplemental Course Material\n",
    "### Topic: [Python](https://nbviewer.jupyter.org/github/SeanOhAileasa/fubar-python/blob/main/fubar-python.ipynb)\n",
    "***"
   ]
  },
  {
   "cell_type": "markdown",
   "id": "integrated-speech",
   "metadata": {},
   "source": [
    "Supplemental course material for the ``Higher Diploma in Science in Computing (Data Analytics) (H.Dip)`` programme (75 Credits) at **Galway-Mayo Institute of Technology (GMIT)**. This repository is for self-study/self-examination for future modules of the H.Dip programme and preparation for future workplace opportunities."
   ]
  },
  {
   "cell_type": "code",
   "execution_count": 2,
   "id": "liked-landing",
   "metadata": {},
   "outputs": [],
   "source": [
    "exit()"
   ]
  },
  {
   "cell_type": "markdown",
   "id": "statistical-birmingham",
   "metadata": {},
   "source": [
    "<a id=\"top\"></a>\n",
    "***\n",
    "## Table of Contents\n",
    "***\n",
    "\n",
    "## [Abstract](#abstract)\n",
    "\n",
    "- &#x1F6A7;\n",
    "\n",
    "## [Introduction](#introduction)\n",
    "\n",
    "* [Everything is an Object](#object)\n",
    "    * [Immutable vs Mutable](#Immutable-vs-Mutable)\n",
    "        * [Immutable](#Immutable)\n",
    "            * [Float](#Float)\n",
    "            * [Str](#Str)       \n",
    "        * [Mutable](#Mutable)\n",
    "            * [List (Built-in Container)](#List-Built-in-Container)\n",
    "* [Specialised Container](#Specialised-Container)\n",
    "    * [collections.Counter](#collections-Counter)\n",
    "* [Operator](#Operator)\n",
    "    * [Arithmetic](#Arithmetic)\n",
    "    * [Bitwise](#Bitwise)\n",
    "    * [Assignment](#Assignment)\n",
    "    * [Comparison](#Comparison)\n",
    "    * [Boolean](#Boolean)\n",
    "    * [Identity](#Identity)\n",
    "    * [Membership](#Membership)\n",
    "\n",
    "## [Solution](#solution)\n",
    "\n",
    "* [GMIT - CTA](#computational-thinking-with-algorithms)\n",
    "    * [Code Runner](#code-runner)\n",
    "        * [Caesar Cipher](#Caesar-Cipher)\n",
    "        \n",
    "## [Conclusion](#conclusion)\n",
    "\n",
    "* &#x1F6A7;"
   ]
  },
  {
   "cell_type": "markdown",
   "id": "balanced-adoption",
   "metadata": {},
   "source": [
    "***\n",
    "## END\n",
    "<!--\n",
    "< [Instructions](#top) | [Abstract](#abstract) | [Introduction](#introduction) | [Solution](#solution) | [Conclusion](#conclusion) | [References](#references) >\n",
    "<a id=\"status\"></a>\n",
    "***\n",
    "## Status\n",
    "***\n",
    "\n",
    "%%bash\n",
    "date \"+%Y-%m-%d\"\n",
    "\n",
    "< [todo](#todo) | [done](#done) >\n",
    "<a id=\"ongoing\"></a>\n",
    "###### ONGOING \n",
    "***\n",
    "\n",
    "< [ongoing](#ongoing) | [done](#done) >\n",
    "<a id=\"todo\"></a>\n",
    "###### TODO\n",
    "***\n",
    "\n",
    "< [todo](#todo) | [ongoing](#ongoing) >\n",
    "<a id=\"done\"></a>\n",
    "###### DONE\n",
    "***\n",
    "\n",
    "< [todo](#todo) | [ongoing](#ongoing) | [done](#done) >\n",
    "###### Functions\n",
    "***\n",
    "\n",
    "## END\n",
    "-->\n",
    "\n",
    "<!-- \n",
    "# b_T_hird_P_arty-imports\n",
    "-->"
   ]
  },
  {
   "cell_type": "markdown",
   "id": "abstract-today",
   "metadata": {},
   "source": [
    "< [Table of Contents](#top) | [Introduction](#introduction) | [Solution](#solution) | [Conclusion](#conclusion) | [References](#references) >\n",
    "<a id=\"abstract\"></a>\n",
    "***\n",
    "## Abstract\n",
    "***"
   ]
  },
  {
   "cell_type": "markdown",
   "id": "annoying-metro",
   "metadata": {},
   "source": [
    "&#x1F6A7;"
   ]
  },
  {
   "cell_type": "markdown",
   "id": "considerable-observer",
   "metadata": {},
   "source": [
    "***\n",
    "## END"
   ]
  },
  {
   "cell_type": "markdown",
   "id": "suitable-belle",
   "metadata": {},
   "source": [
    "< [Table of Contents](#top) | [Abstract](#abstract) | [Solution](#solution) | [Conclusion](#conclusion) | [References](#references) >\n",
    "<a id=\"introduction\"></a>\n",
    "***\n",
    "## Introduction\n",
    "***"
   ]
  },
  {
   "cell_type": "markdown",
   "id": "tracked-first",
   "metadata": {},
   "source": [
    "< [Table of Contents](#top) | [References](#references) >\n",
    "<a id=\"object\"></a>\n",
    "### Everything is an Object\n",
    "***"
   ]
  },
  {
   "cell_type": "code",
   "execution_count": 1,
   "id": "arranged-variance",
   "metadata": {},
   "outputs": [],
   "source": [
    "from sys import path; path.insert(1,\"../src\")"
   ]
  },
  {
   "cell_type": "code",
   "execution_count": 2,
   "id": "generic-postcard",
   "metadata": {},
   "outputs": [
    {
     "data": {
      "text/html": [
       "<style>.container { width:100% !important; }</style>"
      ],
      "text/plain": [
       "<IPython.core.display.HTML object>"
      ]
     },
     "metadata": {},
     "output_type": "display_data"
    }
   ],
   "source": [
    "from fubar import fIsObject"
   ]
  },
  {
   "cell_type": "code",
   "execution_count": 3,
   "id": "accepted-notebook",
   "metadata": {},
   "outputs": [
    {
     "name": "stdout",
     "output_type": "stream",
     "text": [
      "# repository ./fubar-python\r\n",
      "def fIsObject(nParSomething):\r\n",
      "    \"\"\"Everything in python is an object.\r\n",
      "    \r\n",
      "Input: nParSomething\r\n",
      "Process: (isinstance)\r\n",
      "Output: boolean True or False\r\n",
      "\"\"\"\r\n",
      "    return isinstance(nParSomething,object)\r\n",
      "# --- END ---\r\n"
     ]
    }
   ],
   "source": [
    "%%script bash\n",
    "grep -1 \"def fIsObject\" ../src/fubar.py -A 8"
   ]
  },
  {
   "cell_type": "code",
   "execution_count": 4,
   "id": "metropolitan-saturday",
   "metadata": {},
   "outputs": [
    {
     "data": {
      "text/plain": [
       "True"
      ]
     },
     "execution_count": 4,
     "metadata": {},
     "output_type": "execute_result"
    }
   ],
   "source": [
    "fIsObject(nParSomething=0)"
   ]
  },
  {
   "cell_type": "code",
   "execution_count": 5,
   "id": "needed-special",
   "metadata": {},
   "outputs": [
    {
     "data": {
      "text/plain": [
       "True"
      ]
     },
     "execution_count": 5,
     "metadata": {},
     "output_type": "execute_result"
    }
   ],
   "source": [
    "fIsObject(nParSomething=fIsObject)"
   ]
  },
  {
   "cell_type": "code",
   "execution_count": 6,
   "id": "patent-vitamin",
   "metadata": {},
   "outputs": [
    {
     "data": {
      "text/plain": [
       "True"
      ]
     },
     "execution_count": 6,
     "metadata": {},
     "output_type": "execute_result"
    }
   ],
   "source": [
    "fIsObject(nParSomething=fIsObject(0))"
   ]
  },
  {
   "cell_type": "code",
   "execution_count": 7,
   "id": "stopped-latest",
   "metadata": {},
   "outputs": [],
   "source": [
    "exit()"
   ]
  },
  {
   "cell_type": "markdown",
   "id": "later-miniature",
   "metadata": {},
   "source": [
    "< [Table of Contents](#top) | [References](#references) >\n",
    "<a id=\"Immutable-vs-Mutable\"></a>\n",
    "***\n",
    "###### Immutable vs Mutable\n",
    "***"
   ]
  },
  {
   "cell_type": "markdown",
   "id": "foster-subscriber",
   "metadata": {},
   "source": [
    "- each object contains at least three pieces of data i) reference count - for memory management ii) type - used at the CPython layer to ensure type safety during runtime iii) value - is the actual value associated with the object [1]"
   ]
  },
  {
   "cell_type": "markdown",
   "id": "material-couple",
   "metadata": {},
   "source": [
    "- not all objects are the same though - there is another important distinction - immutable versus mutable objects - the two types of objects in python - immutable objects - cannot be changed - mutable objects - can be changed [1]"
   ]
  },
  {
   "cell_type": "code",
   "execution_count": 1,
   "id": "threatened-volunteer",
   "metadata": {},
   "outputs": [],
   "source": [
    "exit()"
   ]
  },
  {
   "cell_type": "markdown",
   "id": "designed-patio",
   "metadata": {},
   "source": [
    "< [Table of Contents](#top) | [References](#references) >\n",
    "<a id=\"Immutable\"></a>\n",
    "***\n",
    "###### Immutable\n",
    "***"
   ]
  },
  {
   "cell_type": "markdown",
   "id": "otherwise-basic",
   "metadata": {},
   "source": [
    "- immutable objects cannot be changed - lots of commonly used primitive types are immutable [1]"
   ]
  },
  {
   "cell_type": "code",
   "execution_count": 1,
   "id": "drawn-final",
   "metadata": {},
   "outputs": [],
   "source": [
    "exit()"
   ]
  },
  {
   "cell_type": "markdown",
   "id": "bored-willow",
   "metadata": {},
   "source": [
    "< [Table of Contents](#top) | [References](#references) >\n",
    "<a id=\"Float\"></a>\n",
    "***\n",
    "###### Float\n",
    "***"
   ]
  },
  {
   "cell_type": "markdown",
   "id": "proved-deviation",
   "metadata": {},
   "source": [
    "- ***Immutable*** - modifying ``n`` with addition will create a new object even though it appears to be modifying the value of ``n`` [1]"
   ]
  },
  {
   "cell_type": "code",
   "execution_count": 1,
   "id": "pregnant-section",
   "metadata": {},
   "outputs": [],
   "source": [
    "from sys import path; path.insert(1,\"../src\")"
   ]
  },
  {
   "cell_type": "code",
   "execution_count": 2,
   "id": "representative-daisy",
   "metadata": {},
   "outputs": [
    {
     "data": {
      "text/html": [
       "<style>.container { width:100% !important; }</style>"
      ],
      "text/plain": [
       "<IPython.core.display.HTML object>"
      ]
     },
     "metadata": {},
     "output_type": "display_data"
    }
   ],
   "source": [
    "from fubar import fImmutableMutable"
   ]
  },
  {
   "cell_type": "code",
   "execution_count": 3,
   "id": "altered-spirit",
   "metadata": {},
   "outputs": [
    {
     "name": "stdout",
     "output_type": "stream",
     "text": [
      "# repository ./fubar-python\r\n",
      "def fImmutableMutable(nParObject):\r\n",
      "    \"\"\"Immutable objects (int; float; bool; complex; frozenset; str; tuple)\r\n",
      "    cannot be changed whereas mutable objects (list; set; dict) can be changed.\r\n",
      "\r\n",
      "Input: nParObject\r\n",
      "Process: (id)\r\n",
      "Output: i) object identity (memory address); ii) object itself  \r\n",
      "\"\"\"\r\n",
      "    print(\"<id> : {}\".format(id(nParObject)))\r\n",
      "    return nParObject \r\n",
      "# --- END ---\r\n"
     ]
    }
   ],
   "source": [
    "%%script bash\n",
    "grep -1 \"def fImmutableMutable\" ../src/fubar.py -A 10"
   ]
  },
  {
   "cell_type": "code",
   "execution_count": 4,
   "id": "complicated-spanish",
   "metadata": {},
   "outputs": [
    {
     "name": "stdout",
     "output_type": "stream",
     "text": [
      "<id> : 1681506078032\n"
     ]
    },
    {
     "data": {
      "text/plain": [
       "1.0"
      ]
     },
     "execution_count": 4,
     "metadata": {},
     "output_type": "execute_result"
    }
   ],
   "source": [
    "n=1.0\n",
    "fImmutableMutable(nParObject=n)"
   ]
  },
  {
   "cell_type": "markdown",
   "id": "empty-salmon",
   "metadata": {},
   "source": [
    "- getting a new object as a response [1]"
   ]
  },
  {
   "cell_type": "code",
   "execution_count": 5,
   "id": "tight-start",
   "metadata": {},
   "outputs": [
    {
     "name": "stdout",
     "output_type": "stream",
     "text": [
      "<id> : 1681506078064\n"
     ]
    },
    {
     "data": {
      "text/plain": [
       "2.0"
      ]
     },
     "execution_count": 5,
     "metadata": {},
     "output_type": "execute_result"
    }
   ],
   "source": [
    "n+=1\n",
    "fImmutableMutable(nParObject=n)"
   ]
  },
  {
   "cell_type": "code",
   "execution_count": 6,
   "id": "municipal-bottom",
   "metadata": {},
   "outputs": [],
   "source": [
    "exit()"
   ]
  },
  {
   "cell_type": "markdown",
   "id": "binary-florida",
   "metadata": {},
   "source": [
    "< [Table of Contents](#top) | [References](#references) >\n",
    "<a id=\"Str\"></a>\n",
    "***\n",
    "###### Str\n",
    "***"
   ]
  },
  {
   "cell_type": "markdown",
   "id": "economic-content",
   "metadata": {},
   "source": [
    "- ***Immutable*** - ``n`` object creates a different memory address after the operation ``+=`` [1]"
   ]
  },
  {
   "cell_type": "code",
   "execution_count": 1,
   "id": "enclosed-diary",
   "metadata": {},
   "outputs": [],
   "source": [
    "from sys import path; path.insert(1,\"../src\")"
   ]
  },
  {
   "cell_type": "code",
   "execution_count": 2,
   "id": "nearby-allocation",
   "metadata": {},
   "outputs": [
    {
     "data": {
      "text/html": [
       "<style>.container { width:100% !important; }</style>"
      ],
      "text/plain": [
       "<IPython.core.display.HTML object>"
      ]
     },
     "metadata": {},
     "output_type": "display_data"
    }
   ],
   "source": [
    "from fubar import fImmutableMutable"
   ]
  },
  {
   "cell_type": "code",
   "execution_count": 3,
   "id": "demonstrated-tooth",
   "metadata": {},
   "outputs": [
    {
     "name": "stdout",
     "output_type": "stream",
     "text": [
      "# repository ./fubar-python\r\n",
      "def fImmutableMutable(nParObject):\r\n",
      "    \"\"\"Immutable objects (int; float; bool; complex; frozenset; str; tuple)\r\n",
      "    cannot be changed whereas mutable objects (list; set; dict) can be changed.\r\n",
      "\r\n",
      "Input: nParObject\r\n",
      "Process: (id)\r\n",
      "Output: i) object identity (memory address); ii) object itself  \r\n",
      "\"\"\"\r\n",
      "    print(\"<id> : {}\".format(id(nParObject)))\r\n",
      "    return nParObject \r\n",
      "# --- END ---\r\n"
     ]
    }
   ],
   "source": [
    "%%script bash\n",
    "grep -1 \"def fImmutableMutable\" ../src/fubar.py -A 10"
   ]
  },
  {
   "cell_type": "code",
   "execution_count": 4,
   "id": "regional-twelve",
   "metadata": {},
   "outputs": [
    {
     "name": "stdout",
     "output_type": "stream",
     "text": [
      "<id> : 1534483209392\n"
     ]
    },
    {
     "data": {
      "text/plain": [
       "'foo'"
      ]
     },
     "execution_count": 4,
     "metadata": {},
     "output_type": "execute_result"
    }
   ],
   "source": [
    "n=\"foo\"\n",
    "fImmutableMutable(nParObject=n)"
   ]
  },
  {
   "cell_type": "code",
   "execution_count": 5,
   "id": "large-reggae",
   "metadata": {},
   "outputs": [
    {
     "name": "stdout",
     "output_type": "stream",
     "text": [
      "<id> : 1534541852592\n"
     ]
    },
    {
     "data": {
      "text/plain": [
       "'foobar'"
      ]
     },
     "execution_count": 5,
     "metadata": {},
     "output_type": "execute_result"
    }
   ],
   "source": [
    "n+=\"bar\"\n",
    "fImmutableMutable(nParObject=n)"
   ]
  },
  {
   "cell_type": "markdown",
   "id": "close-nicaragua",
   "metadata": {},
   "source": [
    "- trying to directly mutate the string ``nStr`` results in an error - python will indicate no support of such mutation which is in line with the definition that the str type is immutable [1]\n",
    "\n",
    "```python\n",
    "nStr[0]=\"F\"\n",
    "TypeError: 'str' object does not support item assignment\n",
    "```"
   ]
  },
  {
   "cell_type": "code",
   "execution_count": 6,
   "id": "everyday-happiness",
   "metadata": {},
   "outputs": [],
   "source": [
    "exit()"
   ]
  },
  {
   "cell_type": "markdown",
   "id": "chemical-liability",
   "metadata": {},
   "source": [
    "< [Table of Contents](#top) | [References](#references) >\n",
    "<a id=\"Mutable\"></a>\n",
    "***\n",
    "###### Mutable\n",
    "***"
   ]
  },
  {
   "cell_type": "markdown",
   "id": "played-canadian",
   "metadata": {},
   "source": [
    "- mutable objects can be changed [1]"
   ]
  },
  {
   "cell_type": "code",
   "execution_count": 1,
   "id": "practical-virtue",
   "metadata": {},
   "outputs": [],
   "source": [
    "exit()"
   ]
  },
  {
   "cell_type": "markdown",
   "id": "provincial-applicant",
   "metadata": {},
   "source": [
    "< [Table of Contents](#top) | [References](#references) >\n",
    "<a id=\"List-Built-in-Container\"></a>\n",
    "***\n",
    "###### List (Built-in Container)\n",
    "***"
   ]
  },
  {
   "cell_type": "markdown",
   "id": "naughty-scotland",
   "metadata": {},
   "source": [
    "- **Mutable** - object ``n`` has an id originally and even after another item is added (appended) to the list it continues to have the same id as the original - same hold true after an assignment [1]"
   ]
  },
  {
   "cell_type": "code",
   "execution_count": 1,
   "id": "satellite-rebate",
   "metadata": {},
   "outputs": [],
   "source": [
    "from sys import path; path.insert(1,\"../src\")"
   ]
  },
  {
   "cell_type": "code",
   "execution_count": 2,
   "id": "automotive-joining",
   "metadata": {},
   "outputs": [],
   "source": [
    "n=list(range(10))"
   ]
  },
  {
   "cell_type": "code",
   "execution_count": 3,
   "id": "distributed-puppy",
   "metadata": {},
   "outputs": [
    {
     "data": {
      "text/html": [
       "<style>.container { width:100% !important; }</style>"
      ],
      "text/plain": [
       "<IPython.core.display.HTML object>"
      ]
     },
     "metadata": {},
     "output_type": "display_data"
    }
   ],
   "source": [
    "from fubar import fImmutableMutable"
   ]
  },
  {
   "cell_type": "code",
   "execution_count": 4,
   "id": "color-browse",
   "metadata": {},
   "outputs": [
    {
     "name": "stdout",
     "output_type": "stream",
     "text": [
      "# repository ./fubar-python\r\n",
      "def fImmutableMutable(nParObject):\r\n",
      "    \"\"\"Immutable objects (int; float; bool; complex; frozenset; str; tuple)\r\n",
      "    cannot be changed whereas mutable objects (list; set; dict) can be changed.\r\n",
      "\r\n",
      "Input: nParObject\r\n",
      "Process: (id)\r\n",
      "Output: i) object identity (memory address); ii) object itself  \r\n",
      "\"\"\"\r\n",
      "    print(\"<id> : {}\".format(id(nParObject)))\r\n",
      "    return nParObject \r\n",
      "# --- END ---\r\n"
     ]
    }
   ],
   "source": [
    "%%script bash\n",
    "grep -1 \"def fImmutableMutable\" ../src/fubar.py -A 10"
   ]
  },
  {
   "cell_type": "code",
   "execution_count": 5,
   "id": "invalid-receipt",
   "metadata": {},
   "outputs": [
    {
     "name": "stdout",
     "output_type": "stream",
     "text": [
      "<id> : 1589695448128\n"
     ]
    },
    {
     "data": {
      "text/plain": [
       "[0, 1, 2, 3, 4, 5, 6, 7, 8, 9]"
      ]
     },
     "execution_count": 5,
     "metadata": {},
     "output_type": "execute_result"
    }
   ],
   "source": [
    "fImmutableMutable(list(range(10)))"
   ]
  },
  {
   "cell_type": "code",
   "execution_count": 6,
   "id": "nervous-cutting",
   "metadata": {},
   "outputs": [
    {
     "name": "stdout",
     "output_type": "stream",
     "text": [
      "<id> : 1589695451072\n"
     ]
    },
    {
     "data": {
      "text/plain": [
       "[0, 1, 2, 3, 4, 5, 6, 7, 8, 9]"
      ]
     },
     "execution_count": 6,
     "metadata": {},
     "output_type": "execute_result"
    }
   ],
   "source": [
    "list(range(10)).append(10)\n",
    "fImmutableMutable(list(range(10)))"
   ]
  },
  {
   "cell_type": "code",
   "execution_count": 7,
   "id": "transparent-banner",
   "metadata": {},
   "outputs": [
    {
     "name": "stdout",
     "output_type": "stream",
     "text": [
      "<id> : 1589695306816\n"
     ]
    },
    {
     "data": {
      "text/plain": [
       "[10, 1, 2, 3, 4, 5, 6, 7, 8, 9]"
      ]
     },
     "execution_count": 7,
     "metadata": {},
     "output_type": "execute_result"
    }
   ],
   "source": [
    "n[0]=10\n",
    "fImmutableMutable(n)"
   ]
  },
  {
   "cell_type": "code",
   "execution_count": 8,
   "id": "warming-consultancy",
   "metadata": {},
   "outputs": [],
   "source": [
    "exit()"
   ]
  },
  {
   "cell_type": "markdown",
   "id": "powered-mathematics",
   "metadata": {},
   "source": [
    "< [Table of Contents](#top) | [References](#references) >\n",
    "<a id=\"Specialised-Container\"></a>\n",
    "***\n",
    "### Specialised Container\n",
    "***"
   ]
  },
  {
   "cell_type": "markdown",
   "id": "induced-smoke",
   "metadata": {},
   "source": [
    "&#x1F6A7;"
   ]
  },
  {
   "cell_type": "code",
   "execution_count": 1,
   "id": "approximate-trinidad",
   "metadata": {},
   "outputs": [],
   "source": [
    "exit()"
   ]
  },
  {
   "cell_type": "markdown",
   "id": "coordinate-retention",
   "metadata": {},
   "source": [
    "< [Table of Contents](#top) | [References](#references) >\n",
    "<a id=\"collections-Counter\"></a>\n",
    "***\n",
    "###### collections.Counter\n",
    "***"
   ]
  },
  {
   "cell_type": "markdown",
   "id": "dynamic-failing",
   "metadata": {},
   "source": [
    "< [Operator-Arithmetic](#Operator-Arithmetic) >"
   ]
  },
  {
   "cell_type": "markdown",
   "id": "worst-questionnaire",
   "metadata": {},
   "source": [
    "&#x1F6A7;"
   ]
  },
  {
   "cell_type": "code",
   "execution_count": 1,
   "id": "understood-brooklyn",
   "metadata": {},
   "outputs": [],
   "source": [
    "exit()"
   ]
  },
  {
   "cell_type": "markdown",
   "id": "associate-messenger",
   "metadata": {},
   "source": [
    "< [Table of Contents](#top) | [References](#references) >\n",
    "<a id=\"Operator\"></a>\n",
    "***\n",
    "### Operator\n",
    "***"
   ]
  },
  {
   "cell_type": "markdown",
   "id": "catholic-company",
   "metadata": {},
   "source": [
    "&#x1F6A7;"
   ]
  },
  {
   "cell_type": "code",
   "execution_count": 1,
   "id": "graphic-walter",
   "metadata": {},
   "outputs": [],
   "source": [
    "exit()"
   ]
  },
  {
   "cell_type": "markdown",
   "id": "entertaining-pizza",
   "metadata": {},
   "source": [
    "< [Table of Contents](#top) | [References](#references) >\n",
    "<a id=\"Arithmetic\"></a>\n",
    "***\n",
    "###### Arithmetic\n",
    "***"
   ]
  },
  {
   "cell_type": "markdown",
   "id": "amazing-colorado",
   "metadata": {},
   "source": [
    "- basic binary arithmetic operators (addition / substraction / multiplication / true division / floor division / modulus / exponentiation) - addition / substraction can double as unary operators (negation / unary plus) [3 p. 17]"
   ]
  },
  {
   "cell_type": "code",
   "execution_count": 1,
   "id": "trying-incident",
   "metadata": {},
   "outputs": [],
   "source": [
    "a,b=2,3"
   ]
  },
  {
   "cell_type": "markdown",
   "id": "better-import",
   "metadata": {},
   "source": [
    "|Operator|Name|Description|\n",
    "|:------------------------- | :------------------------- | :------------------------- |\n",
    "|a+b|Addition|Sum of a and b|\n",
    "|a-b|Subtraction|Difference of a and b|\n",
    "|a*b|Multiplication|Product of a and b|"
   ]
  },
  {
   "cell_type": "markdown",
   "id": "norman-showcase",
   "metadata": {},
   "source": [
    "- floor division operator (``//``) is the true division (``/``) with fractional parts truncated [3 p.18]"
   ]
  },
  {
   "cell_type": "markdown",
   "id": "administrative-allah",
   "metadata": {},
   "source": [
    "|Operator|Name|Description|\n",
    "|:------------------------- | :------------------------- | :------------------------- |\n",
    "|a/b|True Division|Quotient of a and b|\n",
    "|a//b|Floor Division|Quotient of a and b (removing fractional parts)|\n",
    "|a%b|Modulus|Remainder after division of a by b|\n",
    "|a**b|Exponentiation|a raised to the power of b|"
   ]
  },
  {
   "cell_type": "code",
   "execution_count": 2,
   "id": "partial-award",
   "metadata": {},
   "outputs": [
    {
     "data": {
      "text/plain": [
       "0.6666666666666666"
      ]
     },
     "execution_count": 2,
     "metadata": {},
     "output_type": "execute_result"
    }
   ],
   "source": [
    "a/b"
   ]
  },
  {
   "cell_type": "code",
   "execution_count": 3,
   "id": "unnecessary-onion",
   "metadata": {
    "scrolled": true
   },
   "outputs": [
    {
     "data": {
      "text/plain": [
       "0"
      ]
     },
     "execution_count": 3,
     "metadata": {},
     "output_type": "execute_result"
    }
   ],
   "source": [
    "a//b"
   ]
  },
  {
   "cell_type": "code",
   "execution_count": 4,
   "id": "egyptian-camcorder",
   "metadata": {},
   "outputs": [
    {
     "data": {
      "text/plain": [
       "2"
      ]
     },
     "execution_count": 4,
     "metadata": {},
     "output_type": "execute_result"
    }
   ],
   "source": [
    "a%b"
   ]
  },
  {
   "cell_type": "code",
   "execution_count": 5,
   "id": "portuguese-rocket",
   "metadata": {},
   "outputs": [
    {
     "data": {
      "text/plain": [
       "8"
      ]
     },
     "execution_count": 5,
     "metadata": {},
     "output_type": "execute_result"
    }
   ],
   "source": [
    "a**b"
   ]
  },
  {
   "cell_type": "markdown",
   "id": "considered-packaging",
   "metadata": {},
   "source": [
    "- a unary operation is an operation with only one operand (single input) in contrast to binary operations which use two operands [3 p. 17]"
   ]
  },
  {
   "cell_type": "markdown",
   "id": "psychological-mount",
   "metadata": {},
   "source": [
    "|Operator|Name|Description|\n",
    "|:------------------------- | :------------------------- | :------------------------- |\n",
    "|-a|Negation|The negative of a|"
   ]
  },
  {
   "cell_type": "code",
   "execution_count": 6,
   "id": "apparent-embassy",
   "metadata": {},
   "outputs": [
    {
     "data": {
      "text/plain": [
       "-2"
      ]
     },
     "execution_count": 6,
     "metadata": {},
     "output_type": "execute_result"
    }
   ],
   "source": [
    "-a"
   ]
  },
  {
   "cell_type": "code",
   "execution_count": 7,
   "id": "criminal-notice",
   "metadata": {},
   "outputs": [
    {
     "data": {
      "text/plain": [
       "2"
      ]
     },
     "execution_count": 7,
     "metadata": {},
     "output_type": "execute_result"
    }
   ],
   "source": [
    "a"
   ]
  },
  {
   "cell_type": "markdown",
   "id": "urban-madness",
   "metadata": {},
   "source": [
    "<a id=\"Operator-Arithmetic\"></a>\n",
    "< [collections.Counter](#collections-Counter) >"
   ]
  },
  {
   "cell_type": "code",
   "execution_count": 8,
   "id": "answering-catholic",
   "metadata": {},
   "outputs": [],
   "source": [
    "from collections import Counter"
   ]
  },
  {
   "cell_type": "code",
   "execution_count": 9,
   "id": "hired-manor",
   "metadata": {},
   "outputs": [
    {
     "data": {
      "text/plain": [
       "Counter({'apples': 0, 'pears': 4, 'oranges': -89})"
      ]
     },
     "execution_count": 9,
     "metadata": {},
     "output_type": "execute_result"
    }
   ],
   "source": [
    "Counter({\"apples\":0,\"pears\":4,\"oranges\":-89})"
   ]
  },
  {
   "cell_type": "code",
   "execution_count": 10,
   "id": "enormous-invasion",
   "metadata": {},
   "outputs": [
    {
     "data": {
      "text/plain": [
       "Counter({'oranges': 89})"
      ]
     },
     "execution_count": 10,
     "metadata": {},
     "output_type": "execute_result"
    }
   ],
   "source": [
    "-Counter({\"apples\":0,\"pears\":4,\"oranges\":-89})"
   ]
  },
  {
   "cell_type": "markdown",
   "id": "bearing-repository",
   "metadata": {},
   "source": [
    "|Operator|Name|Description|\n",
    "|:------------------------- | :------------------------- | :------------------------- |\n",
    "|+a|Unary Plus|a unchanged|"
   ]
  },
  {
   "cell_type": "code",
   "execution_count": 11,
   "id": "phantom-corps",
   "metadata": {},
   "outputs": [
    {
     "data": {
      "text/plain": [
       "2"
      ]
     },
     "execution_count": 11,
     "metadata": {},
     "output_type": "execute_result"
    }
   ],
   "source": [
    "+a"
   ]
  },
  {
   "cell_type": "code",
   "execution_count": 12,
   "id": "amazing-durham",
   "metadata": {},
   "outputs": [
    {
     "data": {
      "text/plain": [
       "Counter({'pears': 4})"
      ]
     },
     "execution_count": 12,
     "metadata": {},
     "output_type": "execute_result"
    }
   ],
   "source": [
    "+Counter({\"apples\":0,\"pears\":4,\"oranges\":-89})"
   ]
  },
  {
   "cell_type": "code",
   "execution_count": 13,
   "id": "starting-bouquet",
   "metadata": {},
   "outputs": [],
   "source": [
    "exit()"
   ]
  },
  {
   "cell_type": "markdown",
   "id": "distinct-paste",
   "metadata": {},
   "source": [
    "< [Table of Contents](#top) | [References](#references) >\n",
    "<a id=\"Bitwise\"></a>\n",
    "***\n",
    "###### Bitwise\n",
    "***"
   ]
  },
  {
   "cell_type": "markdown",
   "id": "fitting-underground",
   "metadata": {},
   "source": [
    "- operators to perform bitwise logical operations on integers [3 p. 18]"
   ]
  },
  {
   "cell_type": "markdown",
   "id": "wound-security",
   "metadata": {},
   "source": [
    "|Operator|Name|Description|\n",
    "|:------------------------- | :------------------------- | :------------------------- |\n",
    "|a&b|Bitwise AND|Bits defined in both a and b|\n",
    "|a\\|b|Bitwise OR|Bits defined in a or b or both|\n",
    "|a^b|Bitwise XOR|Bits defined in a or b but not both|\n",
    "|a<<b|Bit shift left|Shift bits of a left by b units|\n",
    "|a>>b|Bit shift right|Shift bits of a right by b units|\n",
    "|~a|Bitwise NOT|Bitwise negation of a|"
   ]
  },
  {
   "cell_type": "code",
   "execution_count": 1,
   "id": "centered-shopping",
   "metadata": {},
   "outputs": [],
   "source": [
    "from sys import path; path.insert(1,\"../src\")"
   ]
  },
  {
   "cell_type": "code",
   "execution_count": 2,
   "id": "confident-meditation",
   "metadata": {},
   "outputs": [
    {
     "data": {
      "text/html": [
       "<style>.container { width:100% !important; }</style>"
      ],
      "text/plain": [
       "<IPython.core.display.HTML object>"
      ]
     },
     "metadata": {},
     "output_type": "display_data"
    }
   ],
   "source": [
    "from fubar import fMagic"
   ]
  },
  {
   "cell_type": "markdown",
   "id": "ready-observation",
   "metadata": {},
   "source": [
    "- bitwise operators only make sense in terms of the binary representation of numbers [3 p .19]"
   ]
  },
  {
   "cell_type": "code",
   "execution_count": 3,
   "id": "sharing-cargo",
   "metadata": {},
   "outputs": [
    {
     "name": "stdout",
     "output_type": "stream",
     "text": [
      "<module 'builtins' (built-in)>\n",
      "<class 'builtin_function_or_method'>\n",
      "Return the binary representation of an integer.\n",
      "\n",
      "   >>> bin(2796202)\n",
      "   '0b1010101010101010101010'\n"
     ]
    }
   ],
   "source": [
    "print(fMagic(bin))"
   ]
  },
  {
   "cell_type": "markdown",
   "id": "tamil-million",
   "metadata": {},
   "source": [
    "- ``bin(10)`` returns the prefix ``0b`` indicating a binary representation and the rest of the digits indicate that the number ``10`` is expressed as the sum [3 p. 19]"
   ]
  },
  {
   "cell_type": "markdown",
   "id": "auburn-techno",
   "metadata": {},
   "source": [
    "$$(1010)_{2} = (1x2^{3}) + (0x2^{2}) + (1x2^{1}) + (0x2^{0}) = (10)_{10}$$"
   ]
  },
  {
   "cell_type": "code",
   "execution_count": 4,
   "id": "labeled-confidentiality",
   "metadata": {},
   "outputs": [
    {
     "data": {
      "text/plain": [
       "'0b1010'"
      ]
     },
     "execution_count": 4,
     "metadata": {},
     "output_type": "execute_result"
    }
   ],
   "source": [
    "bin(10)"
   ]
  },
  {
   "cell_type": "markdown",
   "id": "handed-narrow",
   "metadata": {},
   "source": [
    "- using bitwise OR $|$ to find the number which combines the bits of 3 and 1 [3 p .19]"
   ]
  },
  {
   "cell_type": "code",
   "execution_count": 5,
   "id": "historical-progress",
   "metadata": {},
   "outputs": [
    {
     "data": {
      "text/plain": [
       "'0b11'"
      ]
     },
     "execution_count": 5,
     "metadata": {},
     "output_type": "execute_result"
    }
   ],
   "source": [
    "bin(3|1)"
   ]
  },
  {
   "cell_type": "markdown",
   "id": "limited-pakistan",
   "metadata": {},
   "source": [
    "- users from other languages are sometimes tempted to use XOR ``a^b`` for exponentiation [3 p. 19]"
   ]
  },
  {
   "cell_type": "markdown",
   "id": "joined-compiler",
   "metadata": {},
   "source": [
    "- use bitwise operations ``~`` ``&`` ``|`` when operating on individual bits or components of the objects in question [3 p. 22]"
   ]
  },
  {
   "cell_type": "markdown",
   "id": "infrared-shooting",
   "metadata": {},
   "source": [
    "- use boolean operators ``and`` ``or`` ``not`` to compute boolean values (truth or falsehood of entire statements) - control flow statements such as conditionals and loops [3 p. 22]"
   ]
  },
  {
   "cell_type": "code",
   "execution_count": 6,
   "id": "assumed-quarterly",
   "metadata": {},
   "outputs": [],
   "source": [
    "exit()"
   ]
  },
  {
   "cell_type": "markdown",
   "id": "swiss-banking",
   "metadata": {},
   "source": [
    "< [Table of Contents](#top) | [References](#references) >\n",
    "<a id=\"Assignment\"></a>\n",
    "***\n",
    "###### Assignment\n",
    "***"
   ]
  },
  {
   "cell_type": "markdown",
   "id": "attempted-david",
   "metadata": {},
   "source": [
    "- can be used in expressions with any of the arithmetic and bitwise operators [3 p. 20]"
   ]
  },
  {
   "cell_type": "markdown",
   "id": "junior-pressing",
   "metadata": {},
   "source": [
    "- update the name ``a`` with a new value by combining the addition and the assignment [3 p. 20]"
   ]
  },
  {
   "cell_type": "code",
   "execution_count": 1,
   "id": "cathedral-length",
   "metadata": {},
   "outputs": [],
   "source": [
    "a,b=2,3"
   ]
  },
  {
   "cell_type": "code",
   "execution_count": 2,
   "id": "quality-massage",
   "metadata": {},
   "outputs": [
    {
     "data": {
      "text/plain": [
       "5"
      ]
     },
     "execution_count": 2,
     "metadata": {},
     "output_type": "execute_result"
    }
   ],
   "source": [
    "a+=b\n",
    "a"
   ]
  },
  {
   "cell_type": "markdown",
   "id": "acoustic-canvas",
   "metadata": {},
   "source": [
    "- given this type of combined operation and assignment is so common python includes built-in operators for all the arithmetric operations [3 p. 20]"
   ]
  },
  {
   "cell_type": "code",
   "execution_count": 3,
   "id": "british-decade",
   "metadata": {},
   "outputs": [
    {
     "data": {
      "text/plain": [
       "2"
      ]
     },
     "execution_count": 3,
     "metadata": {},
     "output_type": "execute_result"
    }
   ],
   "source": [
    "a-=b\n",
    "a"
   ]
  },
  {
   "cell_type": "code",
   "execution_count": 4,
   "id": "included-divorce",
   "metadata": {},
   "outputs": [
    {
     "data": {
      "text/plain": [
       "6"
      ]
     },
     "execution_count": 4,
     "metadata": {},
     "output_type": "execute_result"
    }
   ],
   "source": [
    "a*=b\n",
    "a"
   ]
  },
  {
   "cell_type": "code",
   "execution_count": 5,
   "id": "persistent-pathology",
   "metadata": {},
   "outputs": [
    {
     "data": {
      "text/plain": [
       "2.0"
      ]
     },
     "execution_count": 5,
     "metadata": {},
     "output_type": "execute_result"
    }
   ],
   "source": [
    "a/=b\n",
    "a"
   ]
  },
  {
   "cell_type": "code",
   "execution_count": 6,
   "id": "accredited-ghost",
   "metadata": {},
   "outputs": [
    {
     "data": {
      "text/plain": [
       "1.0"
      ]
     },
     "execution_count": 6,
     "metadata": {},
     "output_type": "execute_result"
    }
   ],
   "source": [
    "a//=a\n",
    "a"
   ]
  },
  {
   "cell_type": "code",
   "execution_count": 7,
   "id": "chief-output",
   "metadata": {},
   "outputs": [
    {
     "data": {
      "text/plain": [
       "1.0"
      ]
     },
     "execution_count": 7,
     "metadata": {},
     "output_type": "execute_result"
    }
   ],
   "source": [
    "a%=b\n",
    "a"
   ]
  },
  {
   "cell_type": "code",
   "execution_count": 8,
   "id": "married-attempt",
   "metadata": {},
   "outputs": [
    {
     "data": {
      "text/plain": [
       "1.0"
      ]
     },
     "execution_count": 8,
     "metadata": {},
     "output_type": "execute_result"
    }
   ],
   "source": [
    "a**=b\n",
    "a"
   ]
  },
  {
   "cell_type": "markdown",
   "id": "complex-indianapolis",
   "metadata": {},
   "source": [
    "- augmented assignment operator corresponding to each of the binary operators whereby each is equivalent to the corresponding operation followed by assignment [3 p. 20]"
   ]
  },
  {
   "cell_type": "markdown",
   "id": "immune-wedding",
   "metadata": {},
   "source": [
    "- primarily used to update the intersection of built-in set types [[stackoverflow](https://web.archive.org/web/20210320080740/https://stackoverflow.com/questions/21237767/python-a-b-meaning)]"
   ]
  },
  {
   "cell_type": "code",
   "execution_count": 9,
   "id": "opening-likelihood",
   "metadata": {},
   "outputs": [],
   "source": [
    "a=set(\"abcd\")"
   ]
  },
  {
   "cell_type": "code",
   "execution_count": 10,
   "id": "cellular-hartford",
   "metadata": {},
   "outputs": [
    {
     "data": {
      "text/plain": [
       "{'b', 'd'}"
      ]
     },
     "execution_count": 10,
     "metadata": {},
     "output_type": "execute_result"
    }
   ],
   "source": [
    "a&=set(\"bdfg\")\n",
    "a"
   ]
  },
  {
   "cell_type": "code",
   "execution_count": 11,
   "id": "peripheral-costume",
   "metadata": {},
   "outputs": [
    {
     "data": {
      "text/plain": [
       "{'b', 'd'}"
      ]
     },
     "execution_count": 11,
     "metadata": {},
     "output_type": "execute_result"
    }
   ],
   "source": [
    "a.__iand__(set(\"abcd\"))\n",
    "a"
   ]
  },
  {
   "cell_type": "markdown",
   "id": "current-metro",
   "metadata": {},
   "source": [
    "- shorthand [[stackoverflow](https://web.archive.org/web/20210320080740/https://stackoverflow.com/questions/21237767/python-a-b-meaning)]"
   ]
  },
  {
   "cell_type": "code",
   "execution_count": 12,
   "id": "minus-snake",
   "metadata": {},
   "outputs": [
    {
     "data": {
      "text/plain": [
       "{'b', 'd'}"
      ]
     },
     "execution_count": 12,
     "metadata": {},
     "output_type": "execute_result"
    }
   ],
   "source": [
    "a=a&set(\"abcd\")\n",
    "a"
   ]
  },
  {
   "cell_type": "markdown",
   "id": "weird-interview",
   "metadata": {},
   "source": [
    "- slight catch for mutable objects (list/arrays or DataFrames) is that these augmented assignment operations are subtly different than their more verbose counterparts wherey the contents of the original object is modified rather than creating a new object [3 p. 20]"
   ]
  },
  {
   "cell_type": "code",
   "execution_count": 13,
   "id": "disturbed-broadcasting",
   "metadata": {},
   "outputs": [],
   "source": [
    "exit()"
   ]
  },
  {
   "cell_type": "markdown",
   "id": "infrared-relation",
   "metadata": {},
   "source": [
    "< [Table of Contents](#top) | [References](#references) >\n",
    "<a id=\"Comparison\"></a>\n",
    "***\n",
    "###### Comparison\n",
    "***"
   ]
  },
  {
   "cell_type": "markdown",
   "id": "diagnostic-decline",
   "metadata": {},
   "source": [
    "- comparison of different values returning boolean values ``True`` or ``False`` [3 p. 21]"
   ]
  },
  {
   "cell_type": "markdown",
   "id": "informal-taiwan",
   "metadata": {},
   "source": [
    "|Operator|Description|\n",
    "|:------------------------- | :------------------------- |\n",
    "|a==b|a equal to b|\n",
    "|a!=b|a not equal to b|\n",
    "|a<b|a less than b|\n",
    "|a>b|a greater than b|\n",
    "|a<=b|a less than or equal to b|\n",
    "|a>=b|a greater than or equal to b|"
   ]
  },
  {
   "cell_type": "markdown",
   "id": "relevant-vulnerability",
   "metadata": {},
   "source": [
    "- comparison operators combined with the arithmetic and bitwise operators express a virtually limitless range of tests for numbers - check if a number is odd by checking ``%2`` returns one [3 p. 21]"
   ]
  },
  {
   "cell_type": "code",
   "execution_count": 1,
   "id": "billion-development",
   "metadata": {},
   "outputs": [],
   "source": [
    "n=3"
   ]
  },
  {
   "cell_type": "code",
   "execution_count": 2,
   "id": "egyptian-turtle",
   "metadata": {},
   "outputs": [
    {
     "data": {
      "text/plain": [
       "True"
      ]
     },
     "execution_count": 2,
     "metadata": {},
     "output_type": "execute_result"
    }
   ],
   "source": [
    "n%2!=0"
   ]
  },
  {
   "cell_type": "markdown",
   "id": "acoustic-dietary",
   "metadata": {},
   "source": [
    "- can string together multiple comparisons to check more complicated relationships [3 p. 21]"
   ]
  },
  {
   "cell_type": "code",
   "execution_count": 3,
   "id": "affected-tactics",
   "metadata": {},
   "outputs": [],
   "source": [
    "n=2"
   ]
  },
  {
   "cell_type": "code",
   "execution_count": 4,
   "id": "regulated-effect",
   "metadata": {},
   "outputs": [
    {
     "data": {
      "text/plain": [
       "True"
      ]
     },
     "execution_count": 4,
     "metadata": {},
     "output_type": "execute_result"
    }
   ],
   "source": [
    "1<n<3"
   ]
  },
  {
   "cell_type": "code",
   "execution_count": 5,
   "id": "conventional-turtle",
   "metadata": {},
   "outputs": [
    {
     "data": {
      "text/plain": [
       "False"
      ]
     },
     "execution_count": 5,
     "metadata": {},
     "output_type": "execute_result"
    }
   ],
   "source": [
    "2<n>2"
   ]
  },
  {
   "cell_type": "markdown",
   "id": "southeast-auckland",
   "metadata": {},
   "source": [
    "- bitwise logical operation ``~`` (bit-flip operator) evidently when flipping all the bits of zero then ending up with minus one (twos complement integer encoding scheme is what python uses to encode signed integers) [3 p. 21]"
   ]
  },
  {
   "cell_type": "code",
   "execution_count": 6,
   "id": "opening-battery",
   "metadata": {},
   "outputs": [
    {
     "data": {
      "text/plain": [
       "-1"
      ]
     },
     "execution_count": 6,
     "metadata": {},
     "output_type": "execute_result"
    }
   ],
   "source": [
    "~0"
   ]
  },
  {
   "cell_type": "code",
   "execution_count": 7,
   "id": "eligible-zealand",
   "metadata": {},
   "outputs": [
    {
     "data": {
      "text/plain": [
       "True"
      ]
     },
     "execution_count": 7,
     "metadata": {},
     "output_type": "execute_result"
    }
   ],
   "source": [
    "-1==~0"
   ]
  },
  {
   "cell_type": "code",
   "execution_count": 8,
   "id": "rapid-musical",
   "metadata": {},
   "outputs": [],
   "source": [
    "exit()"
   ]
  },
  {
   "cell_type": "markdown",
   "id": "loving-liabilities",
   "metadata": {},
   "source": [
    "< [Table of Contents](#top) | [References](#references) >\n",
    "<a id=\"Boolean\"></a>\n",
    "***\n",
    "###### Boolean\n",
    "***"
   ]
  },
  {
   "cell_type": "markdown",
   "id": "fixed-musician",
   "metadata": {},
   "source": [
    "- operators expressed using the words ``and`` ``or`` ``not`` [3 p. 22]"
   ]
  },
  {
   "cell_type": "code",
   "execution_count": 1,
   "id": "geological-accommodation",
   "metadata": {},
   "outputs": [],
   "source": [
    "n=2"
   ]
  },
  {
   "cell_type": "code",
   "execution_count": 2,
   "id": "typical-amazon",
   "metadata": {},
   "outputs": [
    {
     "data": {
      "text/plain": [
       "True"
      ]
     },
     "execution_count": 2,
     "metadata": {},
     "output_type": "execute_result"
    }
   ],
   "source": [
    "(n>1)and(n<3)"
   ]
  },
  {
   "cell_type": "code",
   "execution_count": 3,
   "id": "unlimited-woman",
   "metadata": {},
   "outputs": [
    {
     "data": {
      "text/plain": [
       "True"
      ]
     },
     "execution_count": 3,
     "metadata": {},
     "output_type": "execute_result"
    }
   ],
   "source": [
    "(n>1)or(n%2==0)"
   ]
  },
  {
   "cell_type": "code",
   "execution_count": 4,
   "id": "handmade-china",
   "metadata": {},
   "outputs": [
    {
     "data": {
      "text/plain": [
       "False"
      ]
     },
     "execution_count": 4,
     "metadata": {},
     "output_type": "execute_result"
    }
   ],
   "source": [
    "not(n<3)"
   ]
  },
  {
   "cell_type": "markdown",
   "id": "postal-lingerie",
   "metadata": {},
   "source": [
    "- ``XOR`` exclusive or (exclusive disjunction) is a logical operator which results ``True`` only when the inputs differ [3 p. 22]"
   ]
  },
  {
   "cell_type": "markdown",
   "id": "pharmaceutical-draft",
   "metadata": {},
   "source": [
    "- operator is not included in python albeit can be constructed in several ways from a compound statement using other operators [3 p. 22]"
   ]
  },
  {
   "cell_type": "code",
   "execution_count": 5,
   "id": "hydraulic-migration",
   "metadata": {},
   "outputs": [
    {
     "data": {
      "text/plain": [
       "False"
      ]
     },
     "execution_count": 5,
     "metadata": {},
     "output_type": "execute_result"
    }
   ],
   "source": [
    "(n>1)!=(n<3)"
   ]
  },
  {
   "cell_type": "markdown",
   "id": "consolidated-destruction",
   "metadata": {},
   "source": [
    "- use boolean operators ``and`` ``or`` ``not`` to compute boolean values (truth or falsehood of entire statements) - control flow statements such as conditionals and loops [3 p. 22]"
   ]
  },
  {
   "cell_type": "markdown",
   "id": "weird-oriental",
   "metadata": {},
   "source": [
    "- use bitwise operations ``~`` ``&`` ``|`` when operating on individual bits or components of the objects in question [3 p. 22]"
   ]
  },
  {
   "cell_type": "code",
   "execution_count": 6,
   "id": "computational-grain",
   "metadata": {},
   "outputs": [],
   "source": [
    "exit()"
   ]
  },
  {
   "cell_type": "markdown",
   "id": "official-stake",
   "metadata": {},
   "source": [
    "< [Table of Contents](#top) | [References](#references) >\n",
    "<a id=\"Identity\"></a>\n",
    "***\n",
    "###### Identity\n",
    "***"
   ]
  },
  {
   "cell_type": "markdown",
   "id": "binding-equilibrium",
   "metadata": {},
   "source": [
    "&#x1F6A7;"
   ]
  },
  {
   "cell_type": "code",
   "execution_count": 1,
   "id": "younger-myrtle",
   "metadata": {},
   "outputs": [],
   "source": [
    "exit()"
   ]
  },
  {
   "cell_type": "markdown",
   "id": "reserved-installation",
   "metadata": {},
   "source": [
    "< [Table of Contents](#top) | [References](#references) >\n",
    "<a id=\"Membership\"></a>\n",
    "***\n",
    "###### Membership\n",
    "***"
   ]
  },
  {
   "cell_type": "markdown",
   "id": "legal-organization",
   "metadata": {},
   "source": [
    "&#x1F6A7;"
   ]
  },
  {
   "cell_type": "code",
   "execution_count": 1,
   "id": "collect-tuning",
   "metadata": {},
   "outputs": [],
   "source": [
    "exit()"
   ]
  },
  {
   "cell_type": "markdown",
   "id": "political-dallas",
   "metadata": {},
   "source": [
    "***\n",
    "## END"
   ]
  },
  {
   "cell_type": "markdown",
   "id": "first-entrepreneur",
   "metadata": {},
   "source": [
    "< [Table of Contents](#top) | [Abstract](#abstract) | [Introduction](#introduction) | [Conclusion](#conclusion) | [References](#references) >\n",
    "<a id=\"solution\"></a>\n",
    "***\n",
    "## Solution\n",
    "***"
   ]
  },
  {
   "cell_type": "markdown",
   "id": "clinical-passion",
   "metadata": {},
   "source": [
    "< [Table of Contents](#top) | [References](#references) >\n",
    "<a id=\"computational-thinking-with-algorithms\"></a>\n",
    "### GMIT - CTA\n",
    "***"
   ]
  },
  {
   "cell_type": "markdown",
   "id": "floral-examination",
   "metadata": {},
   "source": [
    "**Module (Computational Thinking with Algorithms) Programming Practice**"
   ]
  },
  {
   "cell_type": "code",
   "execution_count": 1,
   "id": "unable-logistics",
   "metadata": {},
   "outputs": [],
   "source": [
    "exit()"
   ]
  },
  {
   "cell_type": "markdown",
   "id": "spiritual-clause",
   "metadata": {},
   "source": [
    "< [Table of Contents](#top) | [References](#references) >\n",
    "<a id=\"code-runner\"></a>\n",
    "***\n",
    "###### Code Runner\n",
    "***"
   ]
  },
  {
   "cell_type": "code",
   "execution_count": null,
   "id": "distinguished-mississippi",
   "metadata": {},
   "outputs": [],
   "source": [
    "def fOnlyEvens(nParArray):\n",
    "    \"\"\"GMIT Module: Computational Thinking with Algorithms - Code Runner\n",
    "\n",
    "Input: Array of integers.\n",
    "Process: Each number in \"Input\"; if number % 2 = 0; append to new array.\n",
    "Output: New array containing only the even numbers from the first array.\n",
    "\"\"\"\n",
    "    nArray=[] # output\n",
    "    for nEachItem in nParArray: # process\n",
    "        if nEachItem%2==0:\n",
    "            nArray.append(nEachItem)\n",
    "    return nArray\n",
    "fOnlyEvens(list(range(1,7)))"
   ]
  },
  {
   "cell_type": "code",
   "execution_count": null,
   "id": "printable-disaster",
   "metadata": {},
   "outputs": [],
   "source": [
    "from numpy.random import default_rng\n",
    "n1000k=[default_rng().integers(low=10,high=None) for i in range(0,1000000)]"
   ]
  },
  {
   "cell_type": "code",
   "execution_count": null,
   "id": "similar-quality",
   "metadata": {},
   "outputs": [],
   "source": [
    "len(n1000k)"
   ]
  },
  {
   "cell_type": "code",
   "execution_count": null,
   "id": "accepting-virgin",
   "metadata": {},
   "outputs": [],
   "source": [
    "n1000k[999999]"
   ]
  },
  {
   "cell_type": "code",
   "execution_count": null,
   "id": "growing-array",
   "metadata": {},
   "outputs": [],
   "source": [
    "def fContainsElement(nParArr,nParSearch):\n",
    "    for i in nParArr:\n",
    "        if i==nParSearch:\n",
    "            return True\n",
    "    return False"
   ]
  },
  {
   "cell_type": "code",
   "execution_count": null,
   "id": "presidential-contract",
   "metadata": {},
   "outputs": [],
   "source": [
    "%timeit -r 1 -n 5 fContainsElement(nParArr=n1000k,nParSearch=10)"
   ]
  },
  {
   "cell_type": "code",
   "execution_count": null,
   "id": "mobile-baghdad",
   "metadata": {},
   "outputs": [],
   "source": [
    "fContainsElement(nParArr=n1000k,nParSearch=10)"
   ]
  },
  {
   "cell_type": "code",
   "execution_count": null,
   "id": "continuing-herald",
   "metadata": {},
   "outputs": [],
   "source": [
    "fContainsElement(nParArr=[1,2,1000,45],nParSearch=10)"
   ]
  },
  {
   "cell_type": "code",
   "execution_count": null,
   "id": "green-carpet",
   "metadata": {},
   "outputs": [],
   "source": [
    "def fArray(nParArr):\n",
    "    for i in nParArr:\n",
    "        print(i) # each run/loop captures additional element in nParArr\n",
    "arr=[1,2,1000,4,5]\n",
    "fArray(arr)"
   ]
  },
  {
   "cell_type": "code",
   "execution_count": null,
   "id": "meaningful-assignment",
   "metadata": {},
   "outputs": [],
   "source": [
    "def fArray(nParArr):\n",
    "    for i in nParArr:\n",
    "        print(nParArr[0]) # each run/loop captures first element (index 0) in \"i\" only\n",
    "arr=[1,2,1000,4,5]\n",
    "fArray(arr)"
   ]
  },
  {
   "cell_type": "markdown",
   "id": "editorial-jimmy",
   "metadata": {},
   "source": [
    "```python\n",
    "def fArray(nParArr):\n",
    "    for i in nParArr:\n",
    "        # first loop \"i\" is 1 - i.e. arr[0]\n",
    "            # second loop \"i\" is 2 - i.e. arr[1]\n",
    "                # third loop \"i\" is 1000 - i.e arr[2]\n",
    "        print(nParArr[i]) # first loop prints arr[1] given \"i\" is 1\n",
    "                                # second loop prints arr[2] given \"i\" is 2\n",
    "                                    # third loop prints (NOT) arr[1000] given \"i\" is 1000 \n",
    "        # on the third loop ERROR: \"list index out of range\" \n",
    "arr=[1,2,1000,4,5]\n",
    "fArray(arr)\n",
    "```"
   ]
  },
  {
   "cell_type": "markdown",
   "id": "younger-disposition",
   "metadata": {},
   "source": [
    "```python\n",
    "def fArray(nParArr):\n",
    "    for i in nParArr:\n",
    "        # first loop \"i\" is 1 - i.e. arr[0]\n",
    "            # second loop \"i\" is 2 - i.e. arr[1]\n",
    "                # third loop \"i\" is 1000 - i.e arr[2]\n",
    "        print(nParArr[i-1]) # first loop prints arr[0] given \"i\" is 1 and minusing ONE\n",
    "                                # second loop prints arr[1] given \"i\" is 2 and minusing ONE\n",
    "                                    # third loop prints arr[999] (NOT) given \"i\" is 1000 and minusing ONE \n",
    "        # on the third loop ERROR: \"list index out of range\" \n",
    "arr=[1,2,1000,4,5]\n",
    "fArray(arr)\n",
    "```"
   ]
  },
  {
   "cell_type": "code",
   "execution_count": null,
   "id": "crazy-venue",
   "metadata": {},
   "outputs": [],
   "source": [
    "from numpy.random import default_rng\n",
    "n1000k=[default_rng().integers(low=10,high=None) for i in range(0,1000000)]"
   ]
  },
  {
   "cell_type": "code",
   "execution_count": null,
   "id": "quantitative-affiliate",
   "metadata": {},
   "outputs": [],
   "source": [
    "# function A - using built-in functions\n",
    "def fContainsElement(nParArr,nParSearch):\n",
    "    for i in range(0,len(nParArr)):\n",
    "        if nParArr[i]==nParSearch:\n",
    "            return True\n",
    "    return False"
   ]
  },
  {
   "cell_type": "code",
   "execution_count": null,
   "id": "plain-guinea",
   "metadata": {},
   "outputs": [],
   "source": [
    "%timeit -r 1 -n 5 fContainsElement(nParArr=n1000k,nParSearch=10)\n",
    "fContainsElement(nParArr=n1000k,nParSearch=10)"
   ]
  },
  {
   "cell_type": "code",
   "execution_count": null,
   "id": "mechanical-policy",
   "metadata": {},
   "outputs": [],
   "source": [
    "def fContainsElement(nParArr,nParSearch):\n",
    "    for i in nParArr:\n",
    "        if nParArr[i]==nParSearch:\n",
    "            return True\n",
    "    return False"
   ]
  },
  {
   "cell_type": "code",
   "execution_count": null,
   "id": "extraordinary-devon",
   "metadata": {},
   "outputs": [],
   "source": [
    "%timeit -r 1 -n 5 fContainsElement(nParArr=n1000k,nParSearch=10)\n",
    "fContainsElement(nParArr=n1000k,nParSearch=10)"
   ]
  },
  {
   "cell_type": "code",
   "execution_count": 1,
   "id": "hawaiian-advocate",
   "metadata": {},
   "outputs": [],
   "source": [
    "exit()"
   ]
  },
  {
   "cell_type": "markdown",
   "id": "tender-disorder",
   "metadata": {},
   "source": [
    "< [Table of Contents](#top) | [References](#references) >\n",
    "<a id=\"Caesar-Cipher\"></a>\n",
    "***\n",
    "###### Caesar Cipher\n",
    "***"
   ]
  },
  {
   "cell_type": "code",
   "execution_count": null,
   "id": "greek-induction",
   "metadata": {},
   "outputs": [],
   "source": [
    "# %%writefile -a ../src/fubar.py\n",
    "# repository ./fubar-python\n",
    "def fEncrypt(nParPlaintext,nParOffset):\n",
    "    \"\"\"Implement caesar cipher.\n",
    "\n",
    "Input: nParPlaintext; nParOffset\n",
    "Process: apply nParOffset to every character in nParPlaintext; ord; isupper; chr\n",
    "Output: nCiphertext\n",
    "\"\"\"\n",
    "    nCiphertext=\"\"\n",
    "    # traverse over string nParPlaintext\n",
    "    for nEachItem in nParPlaintext:\n",
    "        # transform according to nParOffset\n",
    "        nNumVal=ord(nEachItem) # ...nParPlaintext letter as number\n",
    "        # determine lowercase or uppercase\n",
    "        if nEachItem.isupper(): # ...boolean True if uppercase\n",
    "            # add nParOffset to nNumVal\n",
    "            nAdjusted=((nNumVal+nParOffset-65)%26)+65\n",
    "            nCiphertext+=chr(nAdjusted) # nNumVal number as letter\n",
    "        elif nNumVal==32:\n",
    "            nCiphertext+=nEachItem\n",
    "        else:\n",
    "            nAdjusted=((nNumVal+nParOffset-97)%26)+97\n",
    "            nCiphertext+=chr(nAdjusted) \n",
    "    return nCiphertext\n",
    "# -- END ---"
   ]
  },
  {
   "cell_type": "code",
   "execution_count": null,
   "id": "knowing-amplifier",
   "metadata": {},
   "outputs": [],
   "source": [
    "def encrypt(plain_text,offset):\n",
    "    nCiphertext=\"\"\n",
    "    # traverse over string plain_text\n",
    "    for nEachItem in plain_text:\n",
    "        # transform according to offset\n",
    "        nNumVal=ord(nEachItem) # ...plain_text letter as number\n",
    "        # determine lowercase or uppercase\n",
    "        if nEachItem.isupper(): # ...boolean True if uppercase\n",
    "            # add nParOffset to nNumVal\n",
    "            nAdjusted=((nNumVal+offset-65)%26)+65\n",
    "            nCiphertext+=chr(nAdjusted) # nNumVal number as letter\n",
    "        elif nNumVal==32:\n",
    "            nCiphertext+=nEachItem\n",
    "        else:\n",
    "            nAdjusted=((nNumVal+offset-97)%26)+97\n",
    "            nCiphertext+=chr(nAdjusted) \n",
    "    return nCiphertext"
   ]
  },
  {
   "cell_type": "code",
   "execution_count": null,
   "id": "indirect-bobby",
   "metadata": {},
   "outputs": [],
   "source": [
    "encrypt(\"Isnt Java Great\",4)"
   ]
  },
  {
   "cell_type": "code",
   "execution_count": null,
   "id": "rapid-raleigh",
   "metadata": {},
   "outputs": [],
   "source": [
    "encrypt(\"I love GMIT\",4)"
   ]
  },
  {
   "cell_type": "code",
   "execution_count": null,
   "id": "resident-adjustment",
   "metadata": {},
   "outputs": [],
   "source": [
    "encrypt(\"This course is great\",4)"
   ]
  },
  {
   "cell_type": "code",
   "execution_count": null,
   "id": "juvenile-princeton",
   "metadata": {},
   "outputs": [],
   "source": [
    "def decrypt(plain_text,offset):\n",
    "    nPlaintext=\"\"\n",
    "    # traverse over string plain_text\n",
    "    for nEachItem in plain_text:\n",
    "        # transform according to offset\n",
    "        nNumVal=ord(nEachItem) # ...plain_text letter as number\n",
    "        # determine lowercase or uppercase\n",
    "        if nEachItem.isupper(): # ...boolean True if uppercase\n",
    "            # add nParOffset to nNumVal\n",
    "            nAdjusted=((nNumVal-offset-65)%26)+65\n",
    "            nPlaintext+=chr(nAdjusted) # nNumVal number as letter\n",
    "        elif nNumVal==32:\n",
    "            nPlaintext+=nEachItem\n",
    "        else:\n",
    "            nAdjusted=((nNumVal-offset-97)%26)+97\n",
    "            nPlaintext+=chr(nAdjusted) \n",
    "    return nPlaintext"
   ]
  },
  {
   "cell_type": "code",
   "execution_count": null,
   "id": "extra-values",
   "metadata": {},
   "outputs": [],
   "source": [
    "decrypt(\"Mwrx Neze Kviex\",4)"
   ]
  },
  {
   "cell_type": "code",
   "execution_count": null,
   "id": "cultural-christopher",
   "metadata": {},
   "outputs": [],
   "source": [
    "decrypt(\"M pszi KQMX\",4)"
   ]
  },
  {
   "cell_type": "code",
   "execution_count": null,
   "id": "nearby-difficulty",
   "metadata": {},
   "outputs": [],
   "source": [
    "decrypt(\"Xlmw gsyvwi mw kviex\",4)"
   ]
  },
  {
   "cell_type": "code",
   "execution_count": null,
   "id": "committed-columbus",
   "metadata": {},
   "outputs": [],
   "source": [
    "def encrypt2(plain_text, offset):\n",
    "    nCiphertext=\"\"\n",
    "    # traverse over string plain_text\n",
    "    for nEachItem in plain_text:\n",
    "        # transform according to offset\n",
    "        nNumVal=ord(nEachItem) # ...plain_text letter as number\n",
    "        # determine lowercase or uppercase\n",
    "        if nEachItem.isupper(): # ...boolean True if uppercase\n",
    "            # add nParOffset to nNumVal\n",
    "            nAdjusted=((nNumVal+offset-65)%26)+65\n",
    "            nCiphertext+=chr(nAdjusted) # nNumVal number as letter\n",
    "        elif nNumVal==32: \n",
    "            pass\n",
    "        else:\n",
    "            nAdjusted=((nNumVal+offset-97)%26)+97\n",
    "            nCiphertext+=chr(nAdjusted)\n",
    "    return nCiphertext"
   ]
  },
  {
   "cell_type": "code",
   "execution_count": null,
   "id": "controversial-auckland",
   "metadata": {},
   "outputs": [],
   "source": [
    "encrypt2(\"hello lads\", 2)"
   ]
  },
  {
   "cell_type": "code",
   "execution_count": null,
   "id": "entire-barrel",
   "metadata": {},
   "outputs": [],
   "source": [
    "encrypt2(\"are we human\", 2)"
   ]
  },
  {
   "cell_type": "code",
   "execution_count": null,
   "id": "metric-compatibility",
   "metadata": {},
   "outputs": [],
   "source": [
    "encrypt2(\"or are we dancer\", 2)"
   ]
  },
  {
   "cell_type": "code",
   "execution_count": null,
   "id": "incident-prior",
   "metadata": {},
   "outputs": [],
   "source": [
    "encrypt2(\"two plus two is four\", 2)"
   ]
  },
  {
   "cell_type": "code",
   "execution_count": 1,
   "id": "norwegian-american",
   "metadata": {},
   "outputs": [],
   "source": [
    "exit()"
   ]
  },
  {
   "cell_type": "markdown",
   "id": "first-struggle",
   "metadata": {},
   "source": [
    "***\n",
    "## END"
   ]
  },
  {
   "cell_type": "markdown",
   "id": "closing-reply",
   "metadata": {},
   "source": [
    "< [Table of Contents](#top) | [Abstract](#abstract) | [Introduction](#introduction) | [Solution](#solution) | [References](#references) >\n",
    "<a id=\"conclusion\"></a>\n",
    "***\n",
    "## Conclusion\n",
    "***"
   ]
  },
  {
   "cell_type": "markdown",
   "id": "objective-marketing",
   "metadata": {},
   "source": [
    "&#x1F6A7;"
   ]
  },
  {
   "cell_type": "markdown",
   "id": "tight-magnet",
   "metadata": {},
   "source": [
    "<!-- print(fGetModuleType(___x___),fDocumentation(___x___)) -->\n",
    "***\n",
    "## END"
   ]
  },
  {
   "cell_type": "markdown",
   "id": "solved-notion",
   "metadata": {},
   "source": [
    "< [Table of Contents](#top) | [Abstract](#abstract) | [Introduction](#introduction) | [Solution](#solution) | [Conclusion](#conclusion) | [References](#references) >\n",
    "<a id=\"references\"></a>\n",
    "***\n",
    "## References\n",
    "***\n",
    "\n",
    "\n",
    "&nbsp;&nbsp;&nbsp;&nbsp;&nbsp;&nbsp;&nbsp;&nbsp;&nbsp;[1] L. Jones, \"Pointers in Python: What's the Point?,\" [realpython](https://web.archive.org/web/20201210182307/https://realpython.com/pointers-in-python/), May 2019.\n",
    "\n",
    "&nbsp;&nbsp;&nbsp;&nbsp;&nbsp;&nbsp;&nbsp;&nbsp;&nbsp;[2] J. VanderPlas, \"Python Data Science Handbook,\" O'Reilly, December 2016.\n",
    "\n",
    "&nbsp;&nbsp;&nbsp;&nbsp;&nbsp;&nbsp;&nbsp;&nbsp;&nbsp;[3] J. VanderPlas, \"A Whirlwind Tour of Python,\" O'Reilly, August 2016."
   ]
  },
  {
   "cell_type": "markdown",
   "id": "unlimited-drinking",
   "metadata": {},
   "source": [
    "***\n",
    "## END"
   ]
  },
  {
   "cell_type": "markdown",
   "id": "three-explanation",
   "metadata": {},
   "source": [
    "< [Table of Contents](#top) | [Abstract](#abstract) | [Introduction](#introduction) | [Solution](#solution) | [Conclusion](#conclusion) | [References](#references) >\n",
    "<a id=\"appendix\"></a>\n",
    "***\n",
    "## Appendix\n",
    "***"
   ]
  },
  {
   "cell_type": "markdown",
   "id": "united-tolerance",
   "metadata": {},
   "source": [
    "<a id=\"appendix-some-reference\"></a>\n",
    "< [Go Back](#top) >"
   ]
  },
  {
   "cell_type": "markdown",
   "id": "noble-fifth",
   "metadata": {},
   "source": [
    "###### Github\n",
    "***"
   ]
  },
  {
   "cell_type": "markdown",
   "id": "loose-donna",
   "metadata": {},
   "source": [
    "```\n",
    "git push -f origin HEAD^:master && git reset HEAD~\n",
    "```"
   ]
  },
  {
   "cell_type": "markdown",
   "id": "instructional-battery",
   "metadata": {},
   "source": [
    "###### Functions\n",
    "***"
   ]
  },
  {
   "cell_type": "markdown",
   "id": "talented-intensity",
   "metadata": {},
   "source": [
    "```python\n",
    "# %%writefile -a ../src/fubar.py\n",
    "# repository ./fubar-python\n",
    "def f():\n",
    "    \"\"\"\n",
    "\n",
    "Input:\n",
    "Process:\n",
    "Output:\n",
    "\"\"\"\n",
    "    pass\n",
    "# -- END ---\n",
    "```"
   ]
  },
  {
   "cell_type": "markdown",
   "id": "registered-adoption",
   "metadata": {},
   "source": [
    "###### Functions - ../src/fubar.py\n",
    "***"
   ]
  },
  {
   "cell_type": "markdown",
   "id": "collected-building",
   "metadata": {},
   "source": [
    "```\n",
    "%%script bash\n",
    "cat ../src/fubar.py\n",
    "```"
   ]
  },
  {
   "cell_type": "code",
   "execution_count": 1,
   "id": "variable-membrane",
   "metadata": {},
   "outputs": [
    {
     "name": "stdout",
     "output_type": "stream",
     "text": [
      "# repository ./OhAileasa\r\n",
      "def fFullScreen():\r\n",
      "\t\"\"\"Utilise full Jupyter notebook screen.\r\n",
      "\r\n",
      "Input:\r\n",
      "Process: (IPython.core.display.display; IPython.core.display.HTML)\r\n",
      "Output:\r\n",
      "\"\"\"\r\n",
      "\tfrom IPython.core.display import display,HTML\r\n",
      "\tdisplay(HTML(\"<style>.container { width:100% !important; }</style>\"))\r\n",
      "# --- END ---\r\n"
     ]
    }
   ],
   "source": [
    "%%script bash\n",
    "grep -1 \"def fFullScreen\" ../src/fubar.py -A 9"
   ]
  },
  {
   "cell_type": "markdown",
   "id": "immune-double",
   "metadata": {},
   "source": [
    "```\n",
    "git commit -m \"update repository ./fubar-python - Everything in python is an object.\"\n",
    "```"
   ]
  },
  {
   "cell_type": "markdown",
   "id": "mexican-protocol",
   "metadata": {},
   "source": [
    "###### Images\n",
    "***"
   ]
  },
  {
   "cell_type": "markdown",
   "id": "changing-local",
   "metadata": {},
   "source": [
    "![gumball](https://github.com/SeanOhAileasa/SeanOhAileasa/blob/master/img/cta/analysing/gumball.png?raw=true)\n",
    "\n",
    "***(Image) P. Mannion, \"03 Analysing Algorithms Part 1,\" GMIT, October 2017.***"
   ]
  },
  {
   "cell_type": "markdown",
   "id": "rotary-assurance",
   "metadata": {},
   "source": [
    "###### Tables\n",
    "***"
   ]
  },
  {
   "cell_type": "markdown",
   "id": "independent-patio",
   "metadata": {},
   "source": [
    "|aaa|bbbbbb|ccccccccc|\n",
    "|:------------------------- | :------------------------- | :------------------------- |\n",
    "|aaa|bbbbbb|ccccccccc|"
   ]
  },
  {
   "cell_type": "markdown",
   "id": "compatible-prompt",
   "metadata": {},
   "source": [
    "###### References\n",
    "***"
   ]
  },
  {
   "cell_type": "markdown",
   "id": "conditional-viking",
   "metadata": {},
   "source": [
    "&nbsp;&nbsp;&nbsp;&nbsp;&nbsp;&nbsp;&nbsp;&nbsp;&nbsp;[1] x. xxx, \"xxx,\" xxx, JanXXXry 2XX1."
   ]
  },
  {
   "cell_type": "markdown",
   "id": "alleged-listing",
   "metadata": {},
   "source": [
    "***\n",
    "## END"
   ]
  },
  {
   "cell_type": "markdown",
   "id": "rolled-uruguay",
   "metadata": {},
   "source": [
    "# END JUPYTER NOTEBOOK"
   ]
  }
 ],
 "metadata": {
  "kernelspec": {
   "display_name": "Python 3",
   "language": "python",
   "name": "python3"
  },
  "language_info": {
   "codemirror_mode": {
    "name": "ipython",
    "version": 3
   },
   "file_extension": ".py",
   "mimetype": "text/x-python",
   "name": "python",
   "nbconvert_exporter": "python",
   "pygments_lexer": "ipython3",
   "version": "3.8.3"
  }
 },
 "nbformat": 4,
 "nbformat_minor": 5
}
