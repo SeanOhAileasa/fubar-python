{
 "cells": [
  {
   "cell_type": "code",
   "execution_count": null,
   "id": "streaming-symbol",
   "metadata": {},
   "outputs": [
    {
     "data": {
      "text/html": [
       "<script>Jupyter.notebook.kernel.restart()</script>"
      ]
     },
     "metadata": {},
     "output_type": "display_data"
    }
   ],
   "source": [
    "from IPython.core.display import display_html\n",
    "display_html(\"<script>Jupyter.notebook.kernel.restart()</script>\",raw=True)"
   ]
  },
  {
   "cell_type": "code",
   "execution_count": 1,
   "id": "fallen-bradley",
   "metadata": {},
   "outputs": [
    {
     "data": {
      "text/html": [
       "<style>.container { width:100% !important; }</style>"
      ],
      "text/plain": [
       "<IPython.core.display.HTML object>"
      ]
     },
     "metadata": {},
     "output_type": "display_data"
    },
    {
     "data": {
      "text/html": [
       "<style>.container { width:100% !important; }</style>"
      ],
      "text/plain": [
       "<IPython.core.display.HTML object>"
      ]
     },
     "metadata": {},
     "output_type": "display_data"
    }
   ],
   "source": [
    "from sys import path; path.insert(1,\"../src\");\n",
    "import fubar; from importlib import reload; reload(fubar);"
   ]
  },
  {
   "cell_type": "markdown",
   "id": "derived-writer",
   "metadata": {},
   "source": [
    "***\n",
    "< [GMIT Data Analytics](https://web.archive.org/web/20201029063153/https://www.gmit.ie/computer-science-and-applied-physics/higher-diploma-science-computing-data-analytics-ict) | [Home](https://github.com/SeanOhAileasa) | [README](https://github.com/SeanOhAileasa/fubar-python/blob/main/README.md) >\n",
    "\n",
    "[![GMIT](https://github.com/SeanOhAileasa/SeanOhAileasa/blob/master/img/gmit.png?raw=true)](https://web.archive.org/web/20201029063153/https://www.gmit.ie/computer-science-and-applied-physics/higher-diploma-science-computing-data-analytics-ict)\n",
    "\n",
    "## GMIT - Practice - Supplemental Course Material\n",
    "### Topic: [Python](https://nbviewer.jupyter.org/github/SeanOhAileasa/fubar-python/blob/main/fubar-python.ipynb)\n",
    "***"
   ]
  },
  {
   "cell_type": "markdown",
   "id": "occasional-failure",
   "metadata": {},
   "source": [
    "Supplemental course material for the ``Higher Diploma in Science in Computing (Data Analytics) (H.Dip)`` programme (75 Credits) at **Galway-Mayo Institute of Technology (GMIT)**. This repository is for self-study/self-examination for future modules of the H.Dip programme and preparation for future workplace opportunities."
   ]
  },
  {
   "cell_type": "code",
   "execution_count": 2,
   "id": "basic-power",
   "metadata": {},
   "outputs": [],
   "source": [
    "exit()"
   ]
  },
  {
   "cell_type": "markdown",
   "id": "accredited-mathematics",
   "metadata": {},
   "source": [
    "<a id=\"top\"></a>\n",
    "***\n",
    "## Table of Contents\n",
    "***\n",
    "\n",
    "## [Abstract](#abstract)\n",
    "\n",
    "- &#x1F6A7;\n",
    "\n",
    "## [Introduction](#introduction)\n",
    "\n",
    "* [Everything is an Object](#object)\n",
    "    * [Immutable vs Mutable](#Immutable-vs-Mutable)\n",
    "        * [Immutable](#Immutable)\n",
    "            * [Float](#Float)\n",
    "            * [Str](#Str)       \n",
    "        * [Mutable](#Mutable)\n",
    "            * [List (Built-in Container)](#List-Built-in-Container)\n",
    "* [Specialised Container](#Specialised-Container)\n",
    "    * [collections.Counter](#collections-Counter)\n",
    "* [Operator](#Operator)\n",
    "    * [Arithmetic](#Arithmetic)\n",
    "    * [Bitwise](#Bitwise)\n",
    "    * [Assignment](#Assignment)\n",
    "    * [Comparison](#Comparison)\n",
    "    * [Boolean](#Boolean)\n",
    "    * [Identity](#Identity)\n",
    "    * [Membership](#Membership)\n",
    "\n",
    "## [Solution](#solution)\n",
    "\n",
    "* [GMIT - CTA](#computational-thinking-with-algorithms)\n",
    "    * [Code Runner](#code-runner)\n",
    "        * [Caesar Cipher](#Caesar-Cipher)\n",
    "        \n",
    "## [Conclusion](#conclusion)\n",
    "\n",
    "* &#x1F6A7;"
   ]
  },
  {
   "cell_type": "markdown",
   "id": "external-implement",
   "metadata": {},
   "source": [
    "***\n",
    "## END\n",
    "<!--\n",
    "< [Instructions](#top) | [Abstract](#abstract) | [Introduction](#introduction) | [Solution](#solution) | [Conclusion](#conclusion) | [References](#references) >\n",
    "<a id=\"status\"></a>\n",
    "***\n",
    "## Status\n",
    "***\n",
    "\n",
    "%%bash\n",
    "date \"+%Y-%m-%d\"\n",
    "\n",
    "< [todo](#todo) | [done](#done) >\n",
    "<a id=\"ongoing\"></a>\n",
    "###### ONGOING \n",
    "***\n",
    "\n",
    "< [ongoing](#ongoing) | [done](#done) >\n",
    "<a id=\"todo\"></a>\n",
    "###### TODO\n",
    "***\n",
    "\n",
    "< [todo](#todo) | [ongoing](#ongoing) >\n",
    "<a id=\"done\"></a>\n",
    "###### DONE\n",
    "***\n",
    "\n",
    "< [todo](#todo) | [ongoing](#ongoing) | [done](#done) >\n",
    "###### Functions\n",
    "***\n",
    "\n",
    "## END\n",
    "-->\n",
    "\n",
    "<!-- \n",
    "# b_T_hird_P_arty-imports\n",
    "-->"
   ]
  },
  {
   "cell_type": "markdown",
   "id": "individual-edmonton",
   "metadata": {},
   "source": [
    "< [Table of Contents](#top) | [Introduction](#introduction) | [Solution](#solution) | [Conclusion](#conclusion) | [References](#references) >\n",
    "<a id=\"abstract\"></a>\n",
    "***\n",
    "## Abstract\n",
    "***"
   ]
  },
  {
   "cell_type": "markdown",
   "id": "enormous-waterproof",
   "metadata": {},
   "source": [
    "&#x1F6A7;"
   ]
  },
  {
   "cell_type": "markdown",
   "id": "martial-russian",
   "metadata": {},
   "source": [
    "***\n",
    "## END"
   ]
  },
  {
   "cell_type": "markdown",
   "id": "criminal-april",
   "metadata": {},
   "source": [
    "< [Table of Contents](#top) | [Abstract](#abstract) | [Solution](#solution) | [Conclusion](#conclusion) | [References](#references) >\n",
    "<a id=\"introduction\"></a>\n",
    "***\n",
    "## Introduction\n",
    "***"
   ]
  },
  {
   "cell_type": "markdown",
   "id": "inner-acoustic",
   "metadata": {},
   "source": [
    "< [Table of Contents](#top) | [References](#references) >\n",
    "<a id=\"object\"></a>\n",
    "### Everything is an Object\n",
    "***"
   ]
  },
  {
   "cell_type": "code",
   "execution_count": 1,
   "id": "first-wheel",
   "metadata": {},
   "outputs": [],
   "source": [
    "from sys import path; path.insert(1,\"../src\")"
   ]
  },
  {
   "cell_type": "code",
   "execution_count": 2,
   "id": "surprising-owner",
   "metadata": {},
   "outputs": [
    {
     "data": {
      "text/html": [
       "<style>.container { width:100% !important; }</style>"
      ],
      "text/plain": [
       "<IPython.core.display.HTML object>"
      ]
     },
     "metadata": {},
     "output_type": "display_data"
    }
   ],
   "source": [
    "from fubar import fIsObject"
   ]
  },
  {
   "cell_type": "code",
   "execution_count": 3,
   "id": "recovered-treat",
   "metadata": {},
   "outputs": [
    {
     "name": "stdout",
     "output_type": "stream",
     "text": [
      "# repository ./fubar-python\r\n",
      "def fIsObject(nParSomething):\r\n",
      "    \"\"\"Everything in python is an object.\r\n",
      "    \r\n",
      "Input: nParSomething\r\n",
      "Process: (isinstance)\r\n",
      "Output: boolean True or False\r\n",
      "\"\"\"\r\n",
      "    return isinstance(nParSomething,object)\r\n",
      "# --- END ---\r\n"
     ]
    }
   ],
   "source": [
    "%%script bash\n",
    "grep -1 \"def fIsObject\" ../src/fubar.py -A 8"
   ]
  },
  {
   "cell_type": "code",
   "execution_count": 4,
   "id": "assigned-depression",
   "metadata": {},
   "outputs": [
    {
     "data": {
      "text/plain": [
       "True"
      ]
     },
     "execution_count": 4,
     "metadata": {},
     "output_type": "execute_result"
    }
   ],
   "source": [
    "fIsObject(nParSomething=0)"
   ]
  },
  {
   "cell_type": "code",
   "execution_count": 5,
   "id": "mysterious-dealer",
   "metadata": {},
   "outputs": [
    {
     "data": {
      "text/plain": [
       "True"
      ]
     },
     "execution_count": 5,
     "metadata": {},
     "output_type": "execute_result"
    }
   ],
   "source": [
    "fIsObject(nParSomething=fIsObject)"
   ]
  },
  {
   "cell_type": "code",
   "execution_count": 6,
   "id": "covered-eagle",
   "metadata": {},
   "outputs": [
    {
     "data": {
      "text/plain": [
       "True"
      ]
     },
     "execution_count": 6,
     "metadata": {},
     "output_type": "execute_result"
    }
   ],
   "source": [
    "fIsObject(nParSomething=fIsObject(0))"
   ]
  },
  {
   "cell_type": "code",
   "execution_count": 7,
   "id": "decimal-smooth",
   "metadata": {},
   "outputs": [],
   "source": [
    "exit()"
   ]
  },
  {
   "cell_type": "markdown",
   "id": "meaningful-memorabilia",
   "metadata": {},
   "source": [
    "< [Table of Contents](#top) | [References](#references) >\n",
    "<a id=\"Immutable-vs-Mutable\"></a>\n",
    "***\n",
    "###### Immutable vs Mutable\n",
    "***"
   ]
  },
  {
   "cell_type": "markdown",
   "id": "forbidden-supervision",
   "metadata": {},
   "source": [
    "- each object contains at least three pieces of data i) reference count - for memory management ii) type - used at the CPython layer to ensure type safety during runtime iii) value - is the actual value associated with the object [1]"
   ]
  },
  {
   "cell_type": "markdown",
   "id": "painted-familiar",
   "metadata": {},
   "source": [
    "- not all objects are the same though - there is another important distinction - immutable versus mutable objects - the two types of objects in python - immutable objects - cannot be changed - mutable objects - can be changed [1]"
   ]
  },
  {
   "cell_type": "code",
   "execution_count": 1,
   "id": "sexual-accommodation",
   "metadata": {},
   "outputs": [],
   "source": [
    "exit()"
   ]
  },
  {
   "cell_type": "markdown",
   "id": "obvious-explosion",
   "metadata": {},
   "source": [
    "< [Table of Contents](#top) | [References](#references) >\n",
    "<a id=\"Immutable\"></a>\n",
    "***\n",
    "###### Immutable\n",
    "***"
   ]
  },
  {
   "cell_type": "markdown",
   "id": "controlled-video",
   "metadata": {},
   "source": [
    "- immutable objects cannot be changed - lots of commonly used primitive types are immutable [1]"
   ]
  },
  {
   "cell_type": "code",
   "execution_count": 1,
   "id": "exempt-discrimination",
   "metadata": {},
   "outputs": [],
   "source": [
    "exit()"
   ]
  },
  {
   "cell_type": "markdown",
   "id": "incorporated-surrey",
   "metadata": {},
   "source": [
    "< [Table of Contents](#top) | [References](#references) >\n",
    "<a id=\"Float\"></a>\n",
    "***\n",
    "###### Float\n",
    "***"
   ]
  },
  {
   "cell_type": "markdown",
   "id": "arranged-church",
   "metadata": {},
   "source": [
    "- ***Immutable*** - modifying ``n`` with addition will create a new object even though it appears to be modifying the value of ``n`` [1]"
   ]
  },
  {
   "cell_type": "code",
   "execution_count": 1,
   "id": "forbidden-labor",
   "metadata": {},
   "outputs": [],
   "source": [
    "from sys import path; path.insert(1,\"../src\")"
   ]
  },
  {
   "cell_type": "code",
   "execution_count": 2,
   "id": "breeding-scroll",
   "metadata": {},
   "outputs": [
    {
     "data": {
      "text/html": [
       "<style>.container { width:100% !important; }</style>"
      ],
      "text/plain": [
       "<IPython.core.display.HTML object>"
      ]
     },
     "metadata": {},
     "output_type": "display_data"
    }
   ],
   "source": [
    "from fubar import fImmutableMutable"
   ]
  },
  {
   "cell_type": "code",
   "execution_count": 3,
   "id": "literary-funds",
   "metadata": {},
   "outputs": [
    {
     "name": "stdout",
     "output_type": "stream",
     "text": [
      "# repository ./fubar-python\r\n",
      "def fImmutableMutable(nParObject):\r\n",
      "    \"\"\"Immutable objects (int; float; bool; complex; frozenset; str; tuple)\r\n",
      "    cannot be changed whereas mutable objects (list; set; dict) can be changed.\r\n",
      "\r\n",
      "Input: nParObject\r\n",
      "Process: (id)\r\n",
      "Output: i) object identity (memory address); ii) object itself  \r\n",
      "\"\"\"\r\n",
      "    print(\"<id> : {}\".format(id(nParObject)))\r\n",
      "    return nParObject \r\n",
      "# --- END ---\r\n"
     ]
    }
   ],
   "source": [
    "%%script bash\n",
    "grep -1 \"def fImmutableMutable\" ../src/fubar.py -A 10"
   ]
  },
  {
   "cell_type": "code",
   "execution_count": 4,
   "id": "wicked-cornwall",
   "metadata": {},
   "outputs": [
    {
     "name": "stdout",
     "output_type": "stream",
     "text": [
      "<id> : 1681506078032\n"
     ]
    },
    {
     "data": {
      "text/plain": [
       "1.0"
      ]
     },
     "execution_count": 4,
     "metadata": {},
     "output_type": "execute_result"
    }
   ],
   "source": [
    "n=1.0\n",
    "fImmutableMutable(nParObject=n)"
   ]
  },
  {
   "cell_type": "markdown",
   "id": "equipped-retention",
   "metadata": {},
   "source": [
    "- getting a new object as a response [1]"
   ]
  },
  {
   "cell_type": "code",
   "execution_count": 5,
   "id": "current-parameter",
   "metadata": {},
   "outputs": [
    {
     "name": "stdout",
     "output_type": "stream",
     "text": [
      "<id> : 1681506078064\n"
     ]
    },
    {
     "data": {
      "text/plain": [
       "2.0"
      ]
     },
     "execution_count": 5,
     "metadata": {},
     "output_type": "execute_result"
    }
   ],
   "source": [
    "n+=1\n",
    "fImmutableMutable(nParObject=n)"
   ]
  },
  {
   "cell_type": "code",
   "execution_count": 6,
   "id": "typical-trinidad",
   "metadata": {},
   "outputs": [],
   "source": [
    "exit()"
   ]
  },
  {
   "cell_type": "markdown",
   "id": "unlike-evans",
   "metadata": {},
   "source": [
    "< [Table of Contents](#top) | [References](#references) >\n",
    "<a id=\"Str\"></a>\n",
    "***\n",
    "###### Str\n",
    "***"
   ]
  },
  {
   "cell_type": "markdown",
   "id": "interracial-argument",
   "metadata": {},
   "source": [
    "- ***Immutable*** - ``n`` object creates a different memory address after the operation ``+=`` [1]"
   ]
  },
  {
   "cell_type": "code",
   "execution_count": 1,
   "id": "thermal-engineer",
   "metadata": {},
   "outputs": [],
   "source": [
    "from sys import path; path.insert(1,\"../src\")"
   ]
  },
  {
   "cell_type": "code",
   "execution_count": 2,
   "id": "public-hostel",
   "metadata": {},
   "outputs": [
    {
     "data": {
      "text/html": [
       "<style>.container { width:100% !important; }</style>"
      ],
      "text/plain": [
       "<IPython.core.display.HTML object>"
      ]
     },
     "metadata": {},
     "output_type": "display_data"
    }
   ],
   "source": [
    "from fubar import fImmutableMutable"
   ]
  },
  {
   "cell_type": "code",
   "execution_count": 3,
   "id": "wooden-lancaster",
   "metadata": {},
   "outputs": [
    {
     "name": "stdout",
     "output_type": "stream",
     "text": [
      "# repository ./fubar-python\r\n",
      "def fImmutableMutable(nParObject):\r\n",
      "    \"\"\"Immutable objects (int; float; bool; complex; frozenset; str; tuple)\r\n",
      "    cannot be changed whereas mutable objects (list; set; dict) can be changed.\r\n",
      "\r\n",
      "Input: nParObject\r\n",
      "Process: (id)\r\n",
      "Output: i) object identity (memory address); ii) object itself  \r\n",
      "\"\"\"\r\n",
      "    print(\"<id> : {}\".format(id(nParObject)))\r\n",
      "    return nParObject \r\n",
      "# --- END ---\r\n"
     ]
    }
   ],
   "source": [
    "%%script bash\n",
    "grep -1 \"def fImmutableMutable\" ../src/fubar.py -A 10"
   ]
  },
  {
   "cell_type": "code",
   "execution_count": 4,
   "id": "amazing-syracuse",
   "metadata": {},
   "outputs": [
    {
     "name": "stdout",
     "output_type": "stream",
     "text": [
      "<id> : 1534483209392\n"
     ]
    },
    {
     "data": {
      "text/plain": [
       "'foo'"
      ]
     },
     "execution_count": 4,
     "metadata": {},
     "output_type": "execute_result"
    }
   ],
   "source": [
    "n=\"foo\"\n",
    "fImmutableMutable(nParObject=n)"
   ]
  },
  {
   "cell_type": "code",
   "execution_count": 5,
   "id": "binary-crystal",
   "metadata": {},
   "outputs": [
    {
     "name": "stdout",
     "output_type": "stream",
     "text": [
      "<id> : 1534541852592\n"
     ]
    },
    {
     "data": {
      "text/plain": [
       "'foobar'"
      ]
     },
     "execution_count": 5,
     "metadata": {},
     "output_type": "execute_result"
    }
   ],
   "source": [
    "n+=\"bar\"\n",
    "fImmutableMutable(nParObject=n)"
   ]
  },
  {
   "cell_type": "markdown",
   "id": "cooperative-exception",
   "metadata": {},
   "source": [
    "- trying to directly mutate the string ``nStr`` results in an error - python will indicate no support of such mutation which is in line with the definition that the str type is immutable [1]\n",
    "\n",
    "```python\n",
    "nStr[0]=\"F\"\n",
    "TypeError: 'str' object does not support item assignment\n",
    "```"
   ]
  },
  {
   "cell_type": "code",
   "execution_count": 6,
   "id": "iraqi-bacteria",
   "metadata": {},
   "outputs": [],
   "source": [
    "exit()"
   ]
  },
  {
   "cell_type": "markdown",
   "id": "qualified-ivory",
   "metadata": {},
   "source": [
    "< [Table of Contents](#top) | [References](#references) >\n",
    "<a id=\"Mutable\"></a>\n",
    "***\n",
    "###### Mutable\n",
    "***"
   ]
  },
  {
   "cell_type": "markdown",
   "id": "polished-surfing",
   "metadata": {},
   "source": [
    "- mutable objects can be changed [1]"
   ]
  },
  {
   "cell_type": "code",
   "execution_count": 1,
   "id": "genetic-pension",
   "metadata": {},
   "outputs": [],
   "source": [
    "exit()"
   ]
  },
  {
   "cell_type": "markdown",
   "id": "meaningful-evaluation",
   "metadata": {},
   "source": [
    "< [Table of Contents](#top) | [References](#references) >\n",
    "<a id=\"List-Built-in-Container\"></a>\n",
    "***\n",
    "###### List (Built-in Container)\n",
    "***"
   ]
  },
  {
   "cell_type": "markdown",
   "id": "complex-finland",
   "metadata": {},
   "source": [
    "- **Mutable** - object ``n`` has an id originally and even after another item is added (appended) to the list it continues to have the same id as the original - same hold true after an assignment [1]"
   ]
  },
  {
   "cell_type": "code",
   "execution_count": 1,
   "id": "musical-policy",
   "metadata": {},
   "outputs": [],
   "source": [
    "from sys import path; path.insert(1,\"../src\")"
   ]
  },
  {
   "cell_type": "code",
   "execution_count": 2,
   "id": "interpreted-socket",
   "metadata": {},
   "outputs": [],
   "source": [
    "n=list(range(10))"
   ]
  },
  {
   "cell_type": "code",
   "execution_count": 3,
   "id": "noticed-orbit",
   "metadata": {},
   "outputs": [
    {
     "data": {
      "text/html": [
       "<style>.container { width:100% !important; }</style>"
      ],
      "text/plain": [
       "<IPython.core.display.HTML object>"
      ]
     },
     "metadata": {},
     "output_type": "display_data"
    }
   ],
   "source": [
    "from fubar import fImmutableMutable"
   ]
  },
  {
   "cell_type": "code",
   "execution_count": 4,
   "id": "fantastic-circuit",
   "metadata": {},
   "outputs": [
    {
     "name": "stdout",
     "output_type": "stream",
     "text": [
      "# repository ./fubar-python\r\n",
      "def fImmutableMutable(nParObject):\r\n",
      "    \"\"\"Immutable objects (int; float; bool; complex; frozenset; str; tuple)\r\n",
      "    cannot be changed whereas mutable objects (list; set; dict) can be changed.\r\n",
      "\r\n",
      "Input: nParObject\r\n",
      "Process: (id)\r\n",
      "Output: i) object identity (memory address); ii) object itself  \r\n",
      "\"\"\"\r\n",
      "    print(\"<id> : {}\".format(id(nParObject)))\r\n",
      "    return nParObject \r\n",
      "# --- END ---\r\n"
     ]
    }
   ],
   "source": [
    "%%script bash\n",
    "grep -1 \"def fImmutableMutable\" ../src/fubar.py -A 10"
   ]
  },
  {
   "cell_type": "code",
   "execution_count": 5,
   "id": "sixth-status",
   "metadata": {},
   "outputs": [
    {
     "name": "stdout",
     "output_type": "stream",
     "text": [
      "<id> : 1589695448128\n"
     ]
    },
    {
     "data": {
      "text/plain": [
       "[0, 1, 2, 3, 4, 5, 6, 7, 8, 9]"
      ]
     },
     "execution_count": 5,
     "metadata": {},
     "output_type": "execute_result"
    }
   ],
   "source": [
    "fImmutableMutable(list(range(10)))"
   ]
  },
  {
   "cell_type": "code",
   "execution_count": 6,
   "id": "mental-runner",
   "metadata": {},
   "outputs": [
    {
     "name": "stdout",
     "output_type": "stream",
     "text": [
      "<id> : 1589695451072\n"
     ]
    },
    {
     "data": {
      "text/plain": [
       "[0, 1, 2, 3, 4, 5, 6, 7, 8, 9]"
      ]
     },
     "execution_count": 6,
     "metadata": {},
     "output_type": "execute_result"
    }
   ],
   "source": [
    "list(range(10)).append(10)\n",
    "fImmutableMutable(list(range(10)))"
   ]
  },
  {
   "cell_type": "code",
   "execution_count": 7,
   "id": "indoor-manor",
   "metadata": {},
   "outputs": [
    {
     "name": "stdout",
     "output_type": "stream",
     "text": [
      "<id> : 1589695306816\n"
     ]
    },
    {
     "data": {
      "text/plain": [
       "[10, 1, 2, 3, 4, 5, 6, 7, 8, 9]"
      ]
     },
     "execution_count": 7,
     "metadata": {},
     "output_type": "execute_result"
    }
   ],
   "source": [
    "n[0]=10\n",
    "fImmutableMutable(n)"
   ]
  },
  {
   "cell_type": "code",
   "execution_count": 8,
   "id": "cordless-villa",
   "metadata": {},
   "outputs": [],
   "source": [
    "exit()"
   ]
  },
  {
   "cell_type": "markdown",
   "id": "liquid-network",
   "metadata": {},
   "source": [
    "< [Table of Contents](#top) | [References](#references) >\n",
    "<a id=\"Specialised-Container\"></a>\n",
    "***\n",
    "### Specialised Container\n",
    "***"
   ]
  },
  {
   "cell_type": "markdown",
   "id": "productive-history",
   "metadata": {},
   "source": [
    "&#x1F6A7;"
   ]
  },
  {
   "cell_type": "code",
   "execution_count": 1,
   "id": "chinese-recipe",
   "metadata": {},
   "outputs": [],
   "source": [
    "exit()"
   ]
  },
  {
   "cell_type": "markdown",
   "id": "ranking-victim",
   "metadata": {},
   "source": [
    "< [Table of Contents](#top) | [References](#references) >\n",
    "<a id=\"collections-Counter\"></a>\n",
    "***\n",
    "###### collections.Counter\n",
    "***"
   ]
  },
  {
   "cell_type": "markdown",
   "id": "pregnant-transformation",
   "metadata": {},
   "source": [
    "< [Operator-Arithmetic](#Operator-Arithmetic) >"
   ]
  },
  {
   "cell_type": "markdown",
   "id": "strange-funds",
   "metadata": {},
   "source": [
    "&#x1F6A7;"
   ]
  },
  {
   "cell_type": "code",
   "execution_count": 1,
   "id": "completed-royalty",
   "metadata": {},
   "outputs": [],
   "source": [
    "exit()"
   ]
  },
  {
   "cell_type": "markdown",
   "id": "adjusted-boulder",
   "metadata": {},
   "source": [
    "< [Table of Contents](#top) | [References](#references) >\n",
    "<a id=\"Operator\"></a>\n",
    "***\n",
    "### Operator\n",
    "***"
   ]
  },
  {
   "cell_type": "markdown",
   "id": "empty-excellence",
   "metadata": {},
   "source": [
    "&#x1F6A7;"
   ]
  },
  {
   "cell_type": "code",
   "execution_count": 1,
   "id": "quarterly-border",
   "metadata": {},
   "outputs": [],
   "source": [
    "exit()"
   ]
  },
  {
   "cell_type": "markdown",
   "id": "suspected-comparison",
   "metadata": {},
   "source": [
    "< [Table of Contents](#top) | [References](#references) >\n",
    "<a id=\"Arithmetic\"></a>\n",
    "***\n",
    "###### Arithmetic\n",
    "***"
   ]
  },
  {
   "cell_type": "markdown",
   "id": "active-direction",
   "metadata": {},
   "source": [
    "- basic binary arithmetic operators (addition / substraction / multiplication / true division / floor division / modulus / exponentiation) - addition / substraction can double as unary operators (negation / unary plus) [3 p. 17]"
   ]
  },
  {
   "cell_type": "code",
   "execution_count": 1,
   "id": "cooperative-notion",
   "metadata": {},
   "outputs": [],
   "source": [
    "a,b=2,3"
   ]
  },
  {
   "cell_type": "markdown",
   "id": "greatest-victory",
   "metadata": {},
   "source": [
    "|Operator|Name|Description|\n",
    "|:------------------------- | :------------------------- | :------------------------- |\n",
    "|a+b|Addition|Sum of a and b|\n",
    "|a-b|Subtraction|Difference of a and b|\n",
    "|a*b|Multiplication|Product of a and b|"
   ]
  },
  {
   "cell_type": "markdown",
   "id": "eligible-contributor",
   "metadata": {},
   "source": [
    "- floor division operator (``//``) is the true division (``/``) with fractional parts truncated [3 p.18]"
   ]
  },
  {
   "cell_type": "markdown",
   "id": "intellectual-washington",
   "metadata": {},
   "source": [
    "|Operator|Name|Description|\n",
    "|:------------------------- | :------------------------- | :------------------------- |\n",
    "|a/b|True Division|Quotient of a and b|\n",
    "|a//b|Floor Division|Quotient of a and b (removing fractional parts)|\n",
    "|a%b|Modulus|Remainder after division of a by b|\n",
    "|a**b|Exponentiation|a raised to the power of b|"
   ]
  },
  {
   "cell_type": "code",
   "execution_count": 2,
   "id": "trained-rubber",
   "metadata": {},
   "outputs": [
    {
     "data": {
      "text/plain": [
       "0.6666666666666666"
      ]
     },
     "execution_count": 2,
     "metadata": {},
     "output_type": "execute_result"
    }
   ],
   "source": [
    "a/b"
   ]
  },
  {
   "cell_type": "code",
   "execution_count": 3,
   "id": "falling-dover",
   "metadata": {
    "scrolled": true
   },
   "outputs": [
    {
     "data": {
      "text/plain": [
       "0"
      ]
     },
     "execution_count": 3,
     "metadata": {},
     "output_type": "execute_result"
    }
   ],
   "source": [
    "a//b"
   ]
  },
  {
   "cell_type": "code",
   "execution_count": 4,
   "id": "previous-vertex",
   "metadata": {},
   "outputs": [
    {
     "data": {
      "text/plain": [
       "2"
      ]
     },
     "execution_count": 4,
     "metadata": {},
     "output_type": "execute_result"
    }
   ],
   "source": [
    "a%b"
   ]
  },
  {
   "cell_type": "code",
   "execution_count": 5,
   "id": "bright-causing",
   "metadata": {},
   "outputs": [
    {
     "data": {
      "text/plain": [
       "8"
      ]
     },
     "execution_count": 5,
     "metadata": {},
     "output_type": "execute_result"
    }
   ],
   "source": [
    "a**b"
   ]
  },
  {
   "cell_type": "markdown",
   "id": "august-detection",
   "metadata": {},
   "source": [
    "- a unary operation is an operation with only one operand (single input) in contrast to binary operations which use two operands [3 p. 17]"
   ]
  },
  {
   "cell_type": "markdown",
   "id": "pediatric-composition",
   "metadata": {},
   "source": [
    "|Operator|Name|Description|\n",
    "|:------------------------- | :------------------------- | :------------------------- |\n",
    "|-a|Negation|The negative of a|"
   ]
  },
  {
   "cell_type": "code",
   "execution_count": 6,
   "id": "vertical-stage",
   "metadata": {},
   "outputs": [
    {
     "data": {
      "text/plain": [
       "-2"
      ]
     },
     "execution_count": 6,
     "metadata": {},
     "output_type": "execute_result"
    }
   ],
   "source": [
    "-a"
   ]
  },
  {
   "cell_type": "code",
   "execution_count": 7,
   "id": "atlantic-joseph",
   "metadata": {},
   "outputs": [
    {
     "data": {
      "text/plain": [
       "2"
      ]
     },
     "execution_count": 7,
     "metadata": {},
     "output_type": "execute_result"
    }
   ],
   "source": [
    "a"
   ]
  },
  {
   "cell_type": "markdown",
   "id": "necessary-beach",
   "metadata": {},
   "source": [
    "<a id=\"Operator-Arithmetic\"></a>\n",
    "< [collections.Counter](#collections-Counter) >"
   ]
  },
  {
   "cell_type": "code",
   "execution_count": 8,
   "id": "exceptional-danish",
   "metadata": {},
   "outputs": [],
   "source": [
    "from collections import Counter"
   ]
  },
  {
   "cell_type": "code",
   "execution_count": 9,
   "id": "black-address",
   "metadata": {},
   "outputs": [
    {
     "data": {
      "text/plain": [
       "Counter({'apples': 0, 'pears': 4, 'oranges': -89})"
      ]
     },
     "execution_count": 9,
     "metadata": {},
     "output_type": "execute_result"
    }
   ],
   "source": [
    "Counter({\"apples\":0,\"pears\":4,\"oranges\":-89})"
   ]
  },
  {
   "cell_type": "code",
   "execution_count": 10,
   "id": "opposed-latin",
   "metadata": {},
   "outputs": [
    {
     "data": {
      "text/plain": [
       "Counter({'oranges': 89})"
      ]
     },
     "execution_count": 10,
     "metadata": {},
     "output_type": "execute_result"
    }
   ],
   "source": [
    "-Counter({\"apples\":0,\"pears\":4,\"oranges\":-89})"
   ]
  },
  {
   "cell_type": "markdown",
   "id": "sustainable-surname",
   "metadata": {},
   "source": [
    "|Operator|Name|Description|\n",
    "|:------------------------- | :------------------------- | :------------------------- |\n",
    "|+a|Unary Plus|a unchanged|"
   ]
  },
  {
   "cell_type": "code",
   "execution_count": 11,
   "id": "hydraulic-father",
   "metadata": {},
   "outputs": [
    {
     "data": {
      "text/plain": [
       "2"
      ]
     },
     "execution_count": 11,
     "metadata": {},
     "output_type": "execute_result"
    }
   ],
   "source": [
    "+a"
   ]
  },
  {
   "cell_type": "code",
   "execution_count": 12,
   "id": "automated-enforcement",
   "metadata": {},
   "outputs": [
    {
     "data": {
      "text/plain": [
       "Counter({'pears': 4})"
      ]
     },
     "execution_count": 12,
     "metadata": {},
     "output_type": "execute_result"
    }
   ],
   "source": [
    "+Counter({\"apples\":0,\"pears\":4,\"oranges\":-89})"
   ]
  },
  {
   "cell_type": "code",
   "execution_count": 13,
   "id": "cognitive-yield",
   "metadata": {},
   "outputs": [],
   "source": [
    "exit()"
   ]
  },
  {
   "cell_type": "markdown",
   "id": "agricultural-worker",
   "metadata": {},
   "source": [
    "< [Table of Contents](#top) | [References](#references) >\n",
    "<a id=\"Bitwise\"></a>\n",
    "***\n",
    "###### Bitwise\n",
    "***"
   ]
  },
  {
   "cell_type": "markdown",
   "id": "digital-kernel",
   "metadata": {},
   "source": [
    "- operators to perform bitwise logical operations on integers [3 p. 18]"
   ]
  },
  {
   "cell_type": "markdown",
   "id": "annoying-projector",
   "metadata": {},
   "source": [
    "|Operator|Name|Description|\n",
    ":------------------------- | :------------------------- | :------------------------- |\n",
    "|a&b|Bitwise AND|Bits defined in both a and b|\n",
    "|a\\|b|Bitwise OR|Bits defined in a or b or both|\n",
    "|a^b|Bitwise XOR|Bits defined in a or b but not both|\n",
    "|a<<b|Bit shift left|Shift bits of a left by b units|\n",
    "|a>>b|Bit shift right|Shift bits of a right by b units|\n",
    "|~a|Bitwise NOT|Bitwise negation of a|"
   ]
  },
  {
   "cell_type": "code",
   "execution_count": 1,
   "id": "million-volume",
   "metadata": {},
   "outputs": [],
   "source": [
    "from sys import path; path.insert(1,\"../src\")"
   ]
  },
  {
   "cell_type": "code",
   "execution_count": 2,
   "id": "removable-creativity",
   "metadata": {},
   "outputs": [
    {
     "data": {
      "text/html": [
       "<style>.container { width:100% !important; }</style>"
      ],
      "text/plain": [
       "<IPython.core.display.HTML object>"
      ]
     },
     "metadata": {},
     "output_type": "display_data"
    }
   ],
   "source": [
    "from fubar import fMagic"
   ]
  },
  {
   "cell_type": "markdown",
   "id": "organizational-victorian",
   "metadata": {},
   "source": [
    "- bitwise operators only make sense in terms of the binary representation of numbers [3 p .19]"
   ]
  },
  {
   "cell_type": "code",
   "execution_count": 3,
   "id": "arbitrary-victor",
   "metadata": {},
   "outputs": [
    {
     "name": "stdout",
     "output_type": "stream",
     "text": [
      "<module 'builtins' (built-in)>\n",
      "<class 'builtin_function_or_method'>\n",
      "Return the binary representation of an integer.\n",
      "\n",
      "   >>> bin(2796202)\n",
      "   '0b1010101010101010101010'\n"
     ]
    }
   ],
   "source": [
    "print(fMagic(bin))"
   ]
  },
  {
   "cell_type": "markdown",
   "id": "alpha-chart",
   "metadata": {},
   "source": [
    "- ``bin(10)`` returns the prefix ``0b`` indicating a binary representation and the rest of the digits indicate that the number ``10`` is expressed as the sum [1.19]"
   ]
  },
  {
   "cell_type": "markdown",
   "id": "cooked-heart",
   "metadata": {},
   "source": [
    "$$(1010)_{2} = (1x2^{3}) + (0x2^{2}) + (1x2^{1}) + (0x2^{0}) = (10)_{10}$$"
   ]
  },
  {
   "cell_type": "code",
   "execution_count": 4,
   "id": "collected-lodging",
   "metadata": {},
   "outputs": [
    {
     "data": {
      "text/plain": [
       "'0b1010'"
      ]
     },
     "execution_count": 4,
     "metadata": {},
     "output_type": "execute_result"
    }
   ],
   "source": [
    "bin(10)"
   ]
  },
  {
   "cell_type": "markdown",
   "id": "moderate-elizabeth",
   "metadata": {},
   "source": [
    "- using bitwise OR $|$ to find the number which combines the bits of 3 and 1 [3 p .19]"
   ]
  },
  {
   "cell_type": "code",
   "execution_count": 5,
   "id": "binding-toddler",
   "metadata": {},
   "outputs": [
    {
     "data": {
      "text/plain": [
       "'0b11'"
      ]
     },
     "execution_count": 5,
     "metadata": {},
     "output_type": "execute_result"
    }
   ],
   "source": [
    "bin(3|1)"
   ]
  },
  {
   "cell_type": "markdown",
   "id": "front-bracelet",
   "metadata": {},
   "source": [
    "- users from other languages are sometimes tempted to use XOR ``a^b`` for exponentiation [3 p. 19]"
   ]
  },
  {
   "cell_type": "markdown",
   "id": "adapted-anniversary",
   "metadata": {},
   "source": [
    "- use bitwise operations ``~`` ``&`` ``|`` when operating on individual bits or components of the objects in question [3 p. 22]"
   ]
  },
  {
   "cell_type": "markdown",
   "id": "transsexual-heart",
   "metadata": {},
   "source": [
    "- use boolean operators ``and`` ``or`` ``not`` to compute boolean values (truth or falsehood of entire statements) - control flow statements such as conditionals and loops [3 p. 22]"
   ]
  },
  {
   "cell_type": "code",
   "execution_count": 6,
   "id": "coated-habitat",
   "metadata": {},
   "outputs": [],
   "source": [
    "exit()"
   ]
  },
  {
   "cell_type": "markdown",
   "id": "seven-surgery",
   "metadata": {},
   "source": [
    "< [Table of Contents](#top) | [References](#references) >\n",
    "<a id=\"Assignment\"></a>\n",
    "***\n",
    "###### Assignment\n",
    "***"
   ]
  },
  {
   "cell_type": "markdown",
   "id": "local-webmaster",
   "metadata": {},
   "source": [
    "&#x1F6A7;"
   ]
  },
  {
   "cell_type": "code",
   "execution_count": 1,
   "id": "systematic-advantage",
   "metadata": {},
   "outputs": [],
   "source": [
    "exit()"
   ]
  },
  {
   "cell_type": "markdown",
   "id": "decimal-short",
   "metadata": {},
   "source": [
    "< [Table of Contents](#top) | [References](#references) >\n",
    "<a id=\"Comparison\"></a>\n",
    "***\n",
    "###### Comparison\n",
    "***"
   ]
  },
  {
   "cell_type": "markdown",
   "id": "micro-jefferson",
   "metadata": {},
   "source": [
    "&#x1F6A7;"
   ]
  },
  {
   "cell_type": "code",
   "execution_count": 1,
   "id": "trying-bulgaria",
   "metadata": {},
   "outputs": [],
   "source": [
    "exit()"
   ]
  },
  {
   "cell_type": "markdown",
   "id": "arabic-amendment",
   "metadata": {},
   "source": [
    "< [Table of Contents](#top) | [References](#references) >\n",
    "<a id=\"Boolean\"></a>\n",
    "***\n",
    "###### Boolean\n",
    "***"
   ]
  },
  {
   "cell_type": "markdown",
   "id": "configured-tumor",
   "metadata": {},
   "source": [
    "&#x1F6A7;"
   ]
  },
  {
   "cell_type": "code",
   "execution_count": 1,
   "id": "proof-overview",
   "metadata": {},
   "outputs": [],
   "source": [
    "exit()"
   ]
  },
  {
   "cell_type": "markdown",
   "id": "boxed-prophet",
   "metadata": {},
   "source": [
    "< [Table of Contents](#top) | [References](#references) >\n",
    "<a id=\"Identity\"></a>\n",
    "***\n",
    "###### Identity\n",
    "***"
   ]
  },
  {
   "cell_type": "markdown",
   "id": "imposed-bolivia",
   "metadata": {},
   "source": [
    "&#x1F6A7;"
   ]
  },
  {
   "cell_type": "code",
   "execution_count": 1,
   "id": "productive-female",
   "metadata": {},
   "outputs": [],
   "source": [
    "exit()"
   ]
  },
  {
   "cell_type": "markdown",
   "id": "attached-newton",
   "metadata": {},
   "source": [
    "< [Table of Contents](#top) | [References](#references) >\n",
    "<a id=\"Membership\"></a>\n",
    "***\n",
    "###### Membership\n",
    "***"
   ]
  },
  {
   "cell_type": "markdown",
   "id": "express-chambers",
   "metadata": {},
   "source": [
    "&#x1F6A7;"
   ]
  },
  {
   "cell_type": "code",
   "execution_count": 1,
   "id": "engaged-oxygen",
   "metadata": {},
   "outputs": [],
   "source": [
    "exit()"
   ]
  },
  {
   "cell_type": "markdown",
   "id": "cathedral-mozambique",
   "metadata": {},
   "source": [
    "***\n",
    "## END"
   ]
  },
  {
   "cell_type": "markdown",
   "id": "substantial-secondary",
   "metadata": {},
   "source": [
    "< [Table of Contents](#top) | [Abstract](#abstract) | [Introduction](#introduction) | [Conclusion](#conclusion) | [References](#references) >\n",
    "<a id=\"solution\"></a>\n",
    "***\n",
    "## Solution\n",
    "***"
   ]
  },
  {
   "cell_type": "markdown",
   "id": "experienced-parameter",
   "metadata": {},
   "source": [
    "< [Table of Contents](#top) | [References](#references) >\n",
    "<a id=\"computational-thinking-with-algorithms\"></a>\n",
    "### GMIT - CTA\n",
    "***"
   ]
  },
  {
   "cell_type": "markdown",
   "id": "applied-renewal",
   "metadata": {},
   "source": [
    "**Module (Computational Thinking with Algorithms) Programming Practice**"
   ]
  },
  {
   "cell_type": "code",
   "execution_count": 1,
   "id": "skilled-father",
   "metadata": {},
   "outputs": [],
   "source": [
    "exit()"
   ]
  },
  {
   "cell_type": "markdown",
   "id": "supported-continuity",
   "metadata": {},
   "source": [
    "< [Table of Contents](#top) | [References](#references) >\n",
    "<a id=\"code-runner\"></a>\n",
    "***\n",
    "###### Code Runner\n",
    "***"
   ]
  },
  {
   "cell_type": "code",
   "execution_count": null,
   "id": "middle-adult",
   "metadata": {},
   "outputs": [],
   "source": [
    "def fOnlyEvens(nParArray):\n",
    "    \"\"\"GMIT Module: Computational Thinking with Algorithms - Code Runner\n",
    "\n",
    "Input: Array of integers.\n",
    "Process: Each number in \"Input\"; if number % 2 = 0; append to new array.\n",
    "Output: New array containing only the even numbers from the first array.\n",
    "\"\"\"\n",
    "    nArray=[] # output\n",
    "    for nEachItem in nParArray: # process\n",
    "        if nEachItem%2==0:\n",
    "            nArray.append(nEachItem)\n",
    "    return nArray\n",
    "fOnlyEvens(list(range(1,7)))"
   ]
  },
  {
   "cell_type": "code",
   "execution_count": null,
   "id": "tight-clear",
   "metadata": {},
   "outputs": [],
   "source": [
    "from numpy.random import default_rng\n",
    "n1000k=[default_rng().integers(low=10,high=None) for i in range(0,1000000)]"
   ]
  },
  {
   "cell_type": "code",
   "execution_count": null,
   "id": "manual-monte",
   "metadata": {},
   "outputs": [],
   "source": [
    "len(n1000k)"
   ]
  },
  {
   "cell_type": "code",
   "execution_count": null,
   "id": "friendly-bench",
   "metadata": {},
   "outputs": [],
   "source": [
    "n1000k[999999]"
   ]
  },
  {
   "cell_type": "code",
   "execution_count": null,
   "id": "dedicated-presentation",
   "metadata": {},
   "outputs": [],
   "source": [
    "def fContainsElement(nParArr,nParSearch):\n",
    "    for i in nParArr:\n",
    "        if i==nParSearch:\n",
    "            return True\n",
    "    return False"
   ]
  },
  {
   "cell_type": "code",
   "execution_count": null,
   "id": "affected-group",
   "metadata": {},
   "outputs": [],
   "source": [
    "%timeit -r 1 -n 5 fContainsElement(nParArr=n1000k,nParSearch=10)"
   ]
  },
  {
   "cell_type": "code",
   "execution_count": null,
   "id": "executed-parade",
   "metadata": {},
   "outputs": [],
   "source": [
    "fContainsElement(nParArr=n1000k,nParSearch=10)"
   ]
  },
  {
   "cell_type": "code",
   "execution_count": null,
   "id": "formed-universal",
   "metadata": {},
   "outputs": [],
   "source": [
    "fContainsElement(nParArr=[1,2,1000,45],nParSearch=10)"
   ]
  },
  {
   "cell_type": "code",
   "execution_count": null,
   "id": "medical-flavor",
   "metadata": {},
   "outputs": [],
   "source": [
    "def fArray(nParArr):\n",
    "    for i in nParArr:\n",
    "        print(i) # each run/loop captures additional element in nParArr\n",
    "arr=[1,2,1000,4,5]\n",
    "fArray(arr)"
   ]
  },
  {
   "cell_type": "code",
   "execution_count": null,
   "id": "solved-concord",
   "metadata": {},
   "outputs": [],
   "source": [
    "def fArray(nParArr):\n",
    "    for i in nParArr:\n",
    "        print(nParArr[0]) # each run/loop captures first element (index 0) in \"i\" only\n",
    "arr=[1,2,1000,4,5]\n",
    "fArray(arr)"
   ]
  },
  {
   "cell_type": "markdown",
   "id": "optimum-somerset",
   "metadata": {},
   "source": [
    "```python\n",
    "def fArray(nParArr):\n",
    "    for i in nParArr:\n",
    "        # first loop \"i\" is 1 - i.e. arr[0]\n",
    "            # second loop \"i\" is 2 - i.e. arr[1]\n",
    "                # third loop \"i\" is 1000 - i.e arr[2]\n",
    "        print(nParArr[i]) # first loop prints arr[1] given \"i\" is 1\n",
    "                                # second loop prints arr[2] given \"i\" is 2\n",
    "                                    # third loop prints (NOT) arr[1000] given \"i\" is 1000 \n",
    "        # on the third loop ERROR: \"list index out of range\" \n",
    "arr=[1,2,1000,4,5]\n",
    "fArray(arr)\n",
    "```"
   ]
  },
  {
   "cell_type": "markdown",
   "id": "nervous-seating",
   "metadata": {},
   "source": [
    "```python\n",
    "def fArray(nParArr):\n",
    "    for i in nParArr:\n",
    "        # first loop \"i\" is 1 - i.e. arr[0]\n",
    "            # second loop \"i\" is 2 - i.e. arr[1]\n",
    "                # third loop \"i\" is 1000 - i.e arr[2]\n",
    "        print(nParArr[i-1]) # first loop prints arr[0] given \"i\" is 1 and minusing ONE\n",
    "                                # second loop prints arr[1] given \"i\" is 2 and minusing ONE\n",
    "                                    # third loop prints arr[999] (NOT) given \"i\" is 1000 and minusing ONE \n",
    "        # on the third loop ERROR: \"list index out of range\" \n",
    "arr=[1,2,1000,4,5]\n",
    "fArray(arr)\n",
    "```"
   ]
  },
  {
   "cell_type": "code",
   "execution_count": null,
   "id": "czech-dance",
   "metadata": {},
   "outputs": [],
   "source": [
    "from numpy.random import default_rng\n",
    "n1000k=[default_rng().integers(low=10,high=None) for i in range(0,1000000)]"
   ]
  },
  {
   "cell_type": "code",
   "execution_count": null,
   "id": "unable-bachelor",
   "metadata": {},
   "outputs": [],
   "source": [
    "# function A - using built-in functions\n",
    "def fContainsElement(nParArr,nParSearch):\n",
    "    for i in range(0,len(nParArr)):\n",
    "        if nParArr[i]==nParSearch:\n",
    "            return True\n",
    "    return False"
   ]
  },
  {
   "cell_type": "code",
   "execution_count": null,
   "id": "round-grammar",
   "metadata": {},
   "outputs": [],
   "source": [
    "%timeit -r 1 -n 5 fContainsElement(nParArr=n1000k,nParSearch=10)\n",
    "fContainsElement(nParArr=n1000k,nParSearch=10)"
   ]
  },
  {
   "cell_type": "code",
   "execution_count": null,
   "id": "split-world",
   "metadata": {},
   "outputs": [],
   "source": [
    "def fContainsElement(nParArr,nParSearch):\n",
    "    for i in nParArr:\n",
    "        if nParArr[i]==nParSearch:\n",
    "            return True\n",
    "    return False"
   ]
  },
  {
   "cell_type": "code",
   "execution_count": null,
   "id": "experimental-florence",
   "metadata": {},
   "outputs": [],
   "source": [
    "%timeit -r 1 -n 5 fContainsElement(nParArr=n1000k,nParSearch=10)\n",
    "fContainsElement(nParArr=n1000k,nParSearch=10)"
   ]
  },
  {
   "cell_type": "code",
   "execution_count": 1,
   "id": "pregnant-slave",
   "metadata": {},
   "outputs": [],
   "source": [
    "exit()"
   ]
  },
  {
   "cell_type": "markdown",
   "id": "maritime-samuel",
   "metadata": {},
   "source": [
    "< [Table of Contents](#top) | [References](#references) >\n",
    "<a id=\"Caesar-Cipher\"></a>\n",
    "***\n",
    "###### Caesar Cipher\n",
    "***"
   ]
  },
  {
   "cell_type": "code",
   "execution_count": null,
   "id": "jewish-seating",
   "metadata": {},
   "outputs": [],
   "source": [
    "# %%writefile -a ../src/fubar.py\n",
    "# repository ./fubar-python\n",
    "def fEncrypt(nParPlaintext,nParOffset):\n",
    "    \"\"\"Implement caesar cipher.\n",
    "\n",
    "Input: nParPlaintext; nParOffset\n",
    "Process: apply nParOffset to every character in nParPlaintext; ord; isupper; chr\n",
    "Output: nCiphertext\n",
    "\"\"\"\n",
    "    nCiphertext=\"\"\n",
    "    # traverse over string nParPlaintext\n",
    "    for nEachItem in nParPlaintext:\n",
    "        # transform according to nParOffset\n",
    "        nNumVal=ord(nEachItem) # ...nParPlaintext letter as number\n",
    "        # determine lowercase or uppercase\n",
    "        if nEachItem.isupper(): # ...boolean True if uppercase\n",
    "            # add nParOffset to nNumVal\n",
    "            nAdjusted=((nNumVal+nParOffset-65)%26)+65\n",
    "            nCiphertext+=chr(nAdjusted) # nNumVal number as letter\n",
    "        elif nNumVal==32:\n",
    "            nCiphertext+=nEachItem\n",
    "        else:\n",
    "            nAdjusted=((nNumVal+nParOffset-97)%26)+97\n",
    "            nCiphertext+=chr(nAdjusted) \n",
    "    return nCiphertext\n",
    "# -- END ---"
   ]
  },
  {
   "cell_type": "code",
   "execution_count": null,
   "id": "qualified-outreach",
   "metadata": {},
   "outputs": [],
   "source": [
    "def encrypt(plain_text,offset):\n",
    "    nCiphertext=\"\"\n",
    "    # traverse over string plain_text\n",
    "    for nEachItem in plain_text:\n",
    "        # transform according to offset\n",
    "        nNumVal=ord(nEachItem) # ...plain_text letter as number\n",
    "        # determine lowercase or uppercase\n",
    "        if nEachItem.isupper(): # ...boolean True if uppercase\n",
    "            # add nParOffset to nNumVal\n",
    "            nAdjusted=((nNumVal+offset-65)%26)+65\n",
    "            nCiphertext+=chr(nAdjusted) # nNumVal number as letter\n",
    "        elif nNumVal==32:\n",
    "            nCiphertext+=nEachItem\n",
    "        else:\n",
    "            nAdjusted=((nNumVal+offset-97)%26)+97\n",
    "            nCiphertext+=chr(nAdjusted) \n",
    "    return nCiphertext"
   ]
  },
  {
   "cell_type": "code",
   "execution_count": null,
   "id": "qualified-polish",
   "metadata": {},
   "outputs": [],
   "source": [
    "encrypt(\"Isnt Java Great\",4)"
   ]
  },
  {
   "cell_type": "code",
   "execution_count": null,
   "id": "formed-responsibility",
   "metadata": {},
   "outputs": [],
   "source": [
    "encrypt(\"I love GMIT\",4)"
   ]
  },
  {
   "cell_type": "code",
   "execution_count": null,
   "id": "aquatic-coach",
   "metadata": {},
   "outputs": [],
   "source": [
    "encrypt(\"This course is great\",4)"
   ]
  },
  {
   "cell_type": "code",
   "execution_count": null,
   "id": "convinced-shell",
   "metadata": {},
   "outputs": [],
   "source": [
    "def decrypt(plain_text,offset):\n",
    "    nPlaintext=\"\"\n",
    "    # traverse over string plain_text\n",
    "    for nEachItem in plain_text:\n",
    "        # transform according to offset\n",
    "        nNumVal=ord(nEachItem) # ...plain_text letter as number\n",
    "        # determine lowercase or uppercase\n",
    "        if nEachItem.isupper(): # ...boolean True if uppercase\n",
    "            # add nParOffset to nNumVal\n",
    "            nAdjusted=((nNumVal-offset-65)%26)+65\n",
    "            nPlaintext+=chr(nAdjusted) # nNumVal number as letter\n",
    "        elif nNumVal==32:\n",
    "            nPlaintext+=nEachItem\n",
    "        else:\n",
    "            nAdjusted=((nNumVal-offset-97)%26)+97\n",
    "            nPlaintext+=chr(nAdjusted) \n",
    "    return nPlaintext"
   ]
  },
  {
   "cell_type": "code",
   "execution_count": null,
   "id": "individual-exhaust",
   "metadata": {},
   "outputs": [],
   "source": [
    "decrypt(\"Mwrx Neze Kviex\",4)"
   ]
  },
  {
   "cell_type": "code",
   "execution_count": null,
   "id": "pressing-induction",
   "metadata": {},
   "outputs": [],
   "source": [
    "decrypt(\"M pszi KQMX\",4)"
   ]
  },
  {
   "cell_type": "code",
   "execution_count": null,
   "id": "treated-cologne",
   "metadata": {},
   "outputs": [],
   "source": [
    "decrypt(\"Xlmw gsyvwi mw kviex\",4)"
   ]
  },
  {
   "cell_type": "code",
   "execution_count": null,
   "id": "toxic-negative",
   "metadata": {},
   "outputs": [],
   "source": [
    "def encrypt2(plain_text, offset):\n",
    "    nCiphertext=\"\"\n",
    "    # traverse over string plain_text\n",
    "    for nEachItem in plain_text:\n",
    "        # transform according to offset\n",
    "        nNumVal=ord(nEachItem) # ...plain_text letter as number\n",
    "        # determine lowercase or uppercase\n",
    "        if nEachItem.isupper(): # ...boolean True if uppercase\n",
    "            # add nParOffset to nNumVal\n",
    "            nAdjusted=((nNumVal+offset-65)%26)+65\n",
    "            nCiphertext+=chr(nAdjusted) # nNumVal number as letter\n",
    "        elif nNumVal==32: \n",
    "            pass\n",
    "        else:\n",
    "            nAdjusted=((nNumVal+offset-97)%26)+97\n",
    "            nCiphertext+=chr(nAdjusted)\n",
    "    return nCiphertext"
   ]
  },
  {
   "cell_type": "code",
   "execution_count": null,
   "id": "surprising-above",
   "metadata": {},
   "outputs": [],
   "source": [
    "encrypt2(\"hello lads\", 2)"
   ]
  },
  {
   "cell_type": "code",
   "execution_count": null,
   "id": "declared-network",
   "metadata": {},
   "outputs": [],
   "source": [
    "encrypt2(\"are we human\", 2)"
   ]
  },
  {
   "cell_type": "code",
   "execution_count": null,
   "id": "medium-audit",
   "metadata": {},
   "outputs": [],
   "source": [
    "encrypt2(\"or are we dancer\", 2)"
   ]
  },
  {
   "cell_type": "code",
   "execution_count": null,
   "id": "distinct-portrait",
   "metadata": {},
   "outputs": [],
   "source": [
    "encrypt2(\"two plus two is four\", 2)"
   ]
  },
  {
   "cell_type": "code",
   "execution_count": 1,
   "id": "powered-publication",
   "metadata": {},
   "outputs": [],
   "source": [
    "exit()"
   ]
  },
  {
   "cell_type": "markdown",
   "id": "biblical-style",
   "metadata": {},
   "source": [
    "***\n",
    "## END"
   ]
  },
  {
   "cell_type": "markdown",
   "id": "primary-archives",
   "metadata": {},
   "source": [
    "< [Table of Contents](#top) | [Abstract](#abstract) | [Introduction](#introduction) | [Solution](#solution) | [References](#references) >\n",
    "<a id=\"conclusion\"></a>\n",
    "***\n",
    "## Conclusion\n",
    "***"
   ]
  },
  {
   "cell_type": "markdown",
   "id": "temporal-geometry",
   "metadata": {},
   "source": [
    "&#x1F6A7;"
   ]
  },
  {
   "cell_type": "markdown",
   "id": "colonial-statistics",
   "metadata": {},
   "source": [
    "<!-- print(fGetModuleType(___x___),fDocumentation(___x___)) -->\n",
    "***\n",
    "## END"
   ]
  },
  {
   "cell_type": "markdown",
   "id": "seeing-action",
   "metadata": {},
   "source": [
    "< [Table of Contents](#top) | [Abstract](#abstract) | [Introduction](#introduction) | [Solution](#solution) | [Conclusion](#conclusion) | [References](#references) >\n",
    "<a id=\"references\"></a>\n",
    "***\n",
    "## References\n",
    "***\n",
    "\n",
    "\n",
    "&nbsp;&nbsp;&nbsp;&nbsp;&nbsp;&nbsp;&nbsp;&nbsp;&nbsp;[1] L. Jones, \"Pointers in Python: What's the Point?,\" [realpython](https://web.archive.org/web/20201210182307/https://realpython.com/pointers-in-python/), May 2019.\n",
    "\n",
    "&nbsp;&nbsp;&nbsp;&nbsp;&nbsp;&nbsp;&nbsp;&nbsp;&nbsp;[2] J. VanderPlas, \"Python Data Science Handbook,\" O'Reilly, December 2016.\n",
    "\n",
    "&nbsp;&nbsp;&nbsp;&nbsp;&nbsp;&nbsp;&nbsp;&nbsp;&nbsp;[3] J. VanderPlas, \"A Whirlwind Tour of Python,\" O'Reilly, August 2016."
   ]
  },
  {
   "cell_type": "markdown",
   "id": "dirty-morris",
   "metadata": {},
   "source": [
    "***\n",
    "## END"
   ]
  },
  {
   "cell_type": "markdown",
   "id": "light-trouble",
   "metadata": {},
   "source": [
    "< [Table of Contents](#top) | [Abstract](#abstract) | [Introduction](#introduction) | [Solution](#solution) | [Conclusion](#conclusion) | [References](#references) >\n",
    "<a id=\"appendix\"></a>\n",
    "***\n",
    "## Appendix\n",
    "***"
   ]
  },
  {
   "cell_type": "markdown",
   "id": "numerous-incident",
   "metadata": {},
   "source": [
    "<a id=\"appendix-some-reference\"></a>\n",
    "< [Go Back](#top) >"
   ]
  },
  {
   "cell_type": "markdown",
   "id": "gentle-retailer",
   "metadata": {},
   "source": [
    "###### Github\n",
    "***"
   ]
  },
  {
   "cell_type": "markdown",
   "id": "designed-festival",
   "metadata": {},
   "source": [
    "```\n",
    "git push -f origin HEAD^:master && git reset HEAD~\n",
    "```"
   ]
  },
  {
   "cell_type": "markdown",
   "id": "aboriginal-adjustment",
   "metadata": {},
   "source": [
    "###### Functions\n",
    "***"
   ]
  },
  {
   "cell_type": "markdown",
   "id": "endless-purse",
   "metadata": {},
   "source": [
    "```python\n",
    "# %%writefile -a ../src/fubar.py\n",
    "# repository ./fubar-python\n",
    "def f():\n",
    "    \"\"\"\n",
    "\n",
    "Input:\n",
    "Process:\n",
    "Output:\n",
    "\"\"\"\n",
    "    pass\n",
    "# -- END ---\n",
    "```"
   ]
  },
  {
   "cell_type": "markdown",
   "id": "chinese-premises",
   "metadata": {},
   "source": [
    "###### Functions - ../src/fubar.py\n",
    "***"
   ]
  },
  {
   "cell_type": "markdown",
   "id": "sublime-jersey",
   "metadata": {},
   "source": [
    "```\n",
    "%%script bash\n",
    "cat ../src/fubar.py\n",
    "```"
   ]
  },
  {
   "cell_type": "code",
   "execution_count": 1,
   "id": "pursuant-passport",
   "metadata": {},
   "outputs": [
    {
     "name": "stdout",
     "output_type": "stream",
     "text": [
      "# repository ./OhAileasa\r\n",
      "def fFullScreen():\r\n",
      "\t\"\"\"Utilise full Jupyter notebook screen.\r\n",
      "\r\n",
      "Input:\r\n",
      "Process: (IPython.core.display.display; IPython.core.display.HTML)\r\n",
      "Output:\r\n",
      "\"\"\"\r\n",
      "\tfrom IPython.core.display import display,HTML\r\n",
      "\tdisplay(HTML(\"<style>.container { width:100% !important; }</style>\"))\r\n",
      "# --- END ---\r\n"
     ]
    }
   ],
   "source": [
    "%%script bash\n",
    "grep -1 \"def fFullScreen\" ../src/fubar.py -A 9"
   ]
  },
  {
   "cell_type": "markdown",
   "id": "awful-mirror",
   "metadata": {},
   "source": [
    "```\n",
    "git commit -m \"update repository ./fubar-python - Everything in python is an object.\"\n",
    "```"
   ]
  },
  {
   "cell_type": "markdown",
   "id": "better-schema",
   "metadata": {},
   "source": [
    "###### Images\n",
    "***"
   ]
  },
  {
   "cell_type": "markdown",
   "id": "physical-parade",
   "metadata": {},
   "source": [
    "![gumball](https://github.com/SeanOhAileasa/SeanOhAileasa/blob/master/img/cta/analysing/gumball.png?raw=true)\n",
    "\n",
    "***(Image) P. Mannion, \"03 Analysing Algorithms Part 1,\" GMIT, October 2017.***"
   ]
  },
  {
   "cell_type": "markdown",
   "id": "needed-walnut",
   "metadata": {},
   "source": [
    "###### Tables\n",
    "***"
   ]
  },
  {
   "cell_type": "markdown",
   "id": "hungry-store",
   "metadata": {},
   "source": [
    "|aaa|bbbbbb|ccccccccc|\n",
    ":------------------------- | :------------------------- | :------------------------- |\n",
    "|aaa|bbbbbb|ccccccccc|"
   ]
  },
  {
   "cell_type": "markdown",
   "id": "silver-fashion",
   "metadata": {},
   "source": [
    "###### References\n",
    "***"
   ]
  },
  {
   "cell_type": "markdown",
   "id": "overall-station",
   "metadata": {},
   "source": [
    "&nbsp;&nbsp;&nbsp;&nbsp;&nbsp;&nbsp;&nbsp;&nbsp;&nbsp;[1] x. xxx, \"xxx,\" xxx, JanXXXry 2XX1."
   ]
  },
  {
   "cell_type": "markdown",
   "id": "focal-aspect",
   "metadata": {},
   "source": [
    "***\n",
    "## END"
   ]
  },
  {
   "cell_type": "markdown",
   "id": "human-integer",
   "metadata": {},
   "source": [
    "# END JUPYTER NOTEBOOK"
   ]
  }
 ],
 "metadata": {
  "kernelspec": {
   "display_name": "Python 3",
   "language": "python",
   "name": "python3"
  },
  "language_info": {
   "codemirror_mode": {
    "name": "ipython",
    "version": 3
   },
   "file_extension": ".py",
   "mimetype": "text/x-python",
   "name": "python",
   "nbconvert_exporter": "python",
   "pygments_lexer": "ipython3",
   "version": "3.8.3"
  }
 },
 "nbformat": 4,
 "nbformat_minor": 5
}
