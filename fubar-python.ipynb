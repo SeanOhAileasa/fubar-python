{
 "cells": [
  {
   "cell_type": "code",
   "execution_count": null,
   "id": "remarkable-february",
   "metadata": {},
   "outputs": [
    {
     "data": {
      "text/html": [
       "<script>Jupyter.notebook.kernel.restart()</script>"
      ]
     },
     "metadata": {},
     "output_type": "display_data"
    }
   ],
   "source": [
    "from IPython.core.display import display_html\n",
    "display_html(\"<script>Jupyter.notebook.kernel.restart()</script>\",raw=True)"
   ]
  },
  {
   "cell_type": "code",
   "execution_count": 1,
   "id": "scientific-filling",
   "metadata": {},
   "outputs": [
    {
     "data": {
      "text/html": [
       "<style>.container { width:100% !important; }</style>"
      ],
      "text/plain": [
       "<IPython.core.display.HTML object>"
      ]
     },
     "metadata": {},
     "output_type": "display_data"
    },
    {
     "data": {
      "text/html": [
       "<style>.container { width:100% !important; }</style>"
      ],
      "text/plain": [
       "<IPython.core.display.HTML object>"
      ]
     },
     "metadata": {},
     "output_type": "display_data"
    }
   ],
   "source": [
    "from sys import path; path.insert(1,\"../src\");\n",
    "import fubar; from importlib import reload; reload(fubar);"
   ]
  },
  {
   "cell_type": "markdown",
   "id": "martial-creation",
   "metadata": {},
   "source": [
    "***\n",
    "< [GMIT Data Analytics](https://web.archive.org/web/20201029063153/https://www.gmit.ie/computer-science-and-applied-physics/higher-diploma-science-computing-data-analytics-ict) | [Home](https://github.com/SeanOhAileasa) | [README](https://github.com/SeanOhAileasa/fubar-python/blob/main/README.md) >\n",
    "\n",
    "[![GMIT](https://github.com/SeanOhAileasa/SeanOhAileasa/blob/master/img/gmit.png?raw=true)](https://web.archive.org/web/20201029063153/https://www.gmit.ie/computer-science-and-applied-physics/higher-diploma-science-computing-data-analytics-ict)\n",
    "\n",
    "## GMIT - Practice - Supplemental Course Material\n",
    "### Topic: [Python](https://nbviewer.jupyter.org/github/SeanOhAileasa/fubar-python/blob/main/fubar-python.ipynb)\n",
    "***"
   ]
  },
  {
   "cell_type": "markdown",
   "id": "intense-duplicate",
   "metadata": {},
   "source": [
    "Supplemental course material for the ``Higher Diploma in Science in Computing (Data Analytics) (H.Dip)`` programme (75 Credits) at **Galway-Mayo Institute of Technology (GMIT)**. This repository is for self-study/self-examination for future modules of the H.Dip programme and preparation for future workplace opportunities."
   ]
  },
  {
   "cell_type": "code",
   "execution_count": 2,
   "id": "expected-charles",
   "metadata": {},
   "outputs": [],
   "source": [
    "exit()"
   ]
  },
  {
   "cell_type": "markdown",
   "id": "whole-equation",
   "metadata": {},
   "source": [
    "<a id=\"top\"></a>\n",
    "***\n",
    "## Table of Contents\n",
    "***\n",
    "\n",
    "## [Abstract](#abstract)\n",
    "\n",
    "- &#x1F6A7;\n",
    "\n",
    "## [Introduction](#introduction)\n",
    "\n",
    "* [Everything is an Object](#object)\n",
    "    * [Immutable vs Mutable](#Immutable-vs-Mutable)\n",
    "        * [Immutable](#Immutable)\n",
    "            * [Float](#Float)\n",
    "            * [Str](#Str)       \n",
    "        * [Mutable](#Mutable)\n",
    "            * [List (Built-in Container)](#List-Built-in-Container)\n",
    "* [Specialised Container](#Specialised-Container)\n",
    "    * [collections.Counter](#collections-Counter)\n",
    "* [Operator](#Operator)\n",
    "    * [Arithmetic](#Arithmetic)\n",
    "    * [Bitwise](#Bitwise)\n",
    "    * [Assignment](#Assignment)\n",
    "    * [Comparison](#Comparison)\n",
    "    * [Boolean](#Boolean)\n",
    "    * [Identity](#Identity)\n",
    "    * [Membership](#Membership)\n",
    "\n",
    "## [Solution](#solution)\n",
    "\n",
    "* [GMIT - CTA](#computational-thinking-with-algorithms)\n",
    "    * [Code Runner](#code-runner)\n",
    "        * [Caesar Cipher](#Caesar-Cipher)\n",
    "        \n",
    "## [Conclusion](#conclusion)\n",
    "\n",
    "* &#x1F6A7;"
   ]
  },
  {
   "cell_type": "markdown",
   "id": "crazy-mediterranean",
   "metadata": {},
   "source": [
    "***\n",
    "## END\n",
    "<!--\n",
    "< [Instructions](#top) | [Abstract](#abstract) | [Introduction](#introduction) | [Solution](#solution) | [Conclusion](#conclusion) | [References](#references) >\n",
    "<a id=\"status\"></a>\n",
    "***\n",
    "## Status\n",
    "***\n",
    "\n",
    "%%bash\n",
    "date \"+%Y-%m-%d\"\n",
    "\n",
    "< [todo](#todo) | [done](#done) >\n",
    "<a id=\"ongoing\"></a>\n",
    "###### ONGOING \n",
    "***\n",
    "\n",
    "< [ongoing](#ongoing) | [done](#done) >\n",
    "<a id=\"todo\"></a>\n",
    "###### TODO\n",
    "***\n",
    "\n",
    "< [todo](#todo) | [ongoing](#ongoing) >\n",
    "<a id=\"done\"></a>\n",
    "###### DONE\n",
    "***\n",
    "\n",
    "< [todo](#todo) | [ongoing](#ongoing) | [done](#done) >\n",
    "###### Functions\n",
    "***\n",
    "\n",
    "## END\n",
    "-->\n",
    "\n",
    "<!-- \n",
    "# b_T_hird_P_arty-imports\n",
    "-->"
   ]
  },
  {
   "cell_type": "markdown",
   "id": "experimental-burton",
   "metadata": {},
   "source": [
    "< [Table of Contents](#top) | [Introduction](#introduction) | [Solution](#solution) | [Conclusion](#conclusion) | [References](#references) >\n",
    "<a id=\"abstract\"></a>\n",
    "***\n",
    "## Abstract\n",
    "***"
   ]
  },
  {
   "cell_type": "markdown",
   "id": "second-carbon",
   "metadata": {},
   "source": [
    "&#x1F6A7;"
   ]
  },
  {
   "cell_type": "markdown",
   "id": "explicit-polyester",
   "metadata": {},
   "source": [
    "***\n",
    "## END"
   ]
  },
  {
   "cell_type": "markdown",
   "id": "appreciated-adoption",
   "metadata": {},
   "source": [
    "< [Table of Contents](#top) | [Abstract](#abstract) | [Solution](#solution) | [Conclusion](#conclusion) | [References](#references) >\n",
    "<a id=\"introduction\"></a>\n",
    "***\n",
    "## Introduction\n",
    "***"
   ]
  },
  {
   "cell_type": "markdown",
   "id": "correct-chocolate",
   "metadata": {},
   "source": [
    "< [Table of Contents](#top) | [References](#references) >\n",
    "<a id=\"object\"></a>\n",
    "### Everything is an Object\n",
    "***"
   ]
  },
  {
   "cell_type": "code",
   "execution_count": 1,
   "id": "thrown-party",
   "metadata": {},
   "outputs": [],
   "source": [
    "from sys import path; path.insert(1,\"../src\")"
   ]
  },
  {
   "cell_type": "code",
   "execution_count": 2,
   "id": "developmental-quarterly",
   "metadata": {},
   "outputs": [
    {
     "data": {
      "text/html": [
       "<style>.container { width:100% !important; }</style>"
      ],
      "text/plain": [
       "<IPython.core.display.HTML object>"
      ]
     },
     "metadata": {},
     "output_type": "display_data"
    }
   ],
   "source": [
    "from fubar import fIsObject"
   ]
  },
  {
   "cell_type": "code",
   "execution_count": 3,
   "id": "exterior-timeline",
   "metadata": {},
   "outputs": [
    {
     "name": "stdout",
     "output_type": "stream",
     "text": [
      "# repository ./fubar-python\r\n",
      "def fIsObject(nParSomething):\r\n",
      "    \"\"\"Everything in python is an object.\r\n",
      "    \r\n",
      "Input: nParSomething\r\n",
      "Process: (isinstance)\r\n",
      "Output: boolean True or False\r\n",
      "\"\"\"\r\n",
      "    return isinstance(nParSomething,object)\r\n",
      "# --- END ---\r\n"
     ]
    }
   ],
   "source": [
    "%%script bash\n",
    "grep -1 \"def fIsObject\" ../src/fubar.py -A 8"
   ]
  },
  {
   "cell_type": "code",
   "execution_count": 4,
   "id": "direct-flower",
   "metadata": {},
   "outputs": [
    {
     "data": {
      "text/plain": [
       "True"
      ]
     },
     "execution_count": 4,
     "metadata": {},
     "output_type": "execute_result"
    }
   ],
   "source": [
    "fIsObject(nParSomething=0)"
   ]
  },
  {
   "cell_type": "code",
   "execution_count": 5,
   "id": "shared-charlotte",
   "metadata": {},
   "outputs": [
    {
     "data": {
      "text/plain": [
       "True"
      ]
     },
     "execution_count": 5,
     "metadata": {},
     "output_type": "execute_result"
    }
   ],
   "source": [
    "fIsObject(nParSomething=fIsObject)"
   ]
  },
  {
   "cell_type": "code",
   "execution_count": 6,
   "id": "minimal-temple",
   "metadata": {},
   "outputs": [
    {
     "data": {
      "text/plain": [
       "True"
      ]
     },
     "execution_count": 6,
     "metadata": {},
     "output_type": "execute_result"
    }
   ],
   "source": [
    "fIsObject(nParSomething=fIsObject(0))"
   ]
  },
  {
   "cell_type": "code",
   "execution_count": 7,
   "id": "balanced-branch",
   "metadata": {},
   "outputs": [],
   "source": [
    "exit()"
   ]
  },
  {
   "cell_type": "markdown",
   "id": "enabling-sewing",
   "metadata": {},
   "source": [
    "< [Table of Contents](#top) | [References](#references) >\n",
    "<a id=\"Immutable-vs-Mutable\"></a>\n",
    "***\n",
    "###### Immutable vs Mutable\n",
    "***"
   ]
  },
  {
   "cell_type": "markdown",
   "id": "beginning-sucking",
   "metadata": {},
   "source": [
    "- each object contains at least three pieces of data i) reference count - for memory management ii) type - used at the CPython layer to ensure type safety during runtime iii) value - is the actual value associated with the object [1]"
   ]
  },
  {
   "cell_type": "markdown",
   "id": "surface-honduras",
   "metadata": {},
   "source": [
    "- not all objects are the same though - there is another important distinction - immutable versus mutable objects - the two types of objects in python - immutable objects - cannot be changed - mutable objects - can be changed [1]"
   ]
  },
  {
   "cell_type": "code",
   "execution_count": 1,
   "id": "reserved-graphics",
   "metadata": {},
   "outputs": [],
   "source": [
    "exit()"
   ]
  },
  {
   "cell_type": "markdown",
   "id": "spare-wales",
   "metadata": {},
   "source": [
    "< [Table of Contents](#top) | [References](#references) >\n",
    "<a id=\"Immutable\"></a>\n",
    "***\n",
    "###### Immutable\n",
    "***"
   ]
  },
  {
   "cell_type": "markdown",
   "id": "square-arrest",
   "metadata": {},
   "source": [
    "- immutable objects cannot be changed - lots of commonly used primitive types are immutable [1]"
   ]
  },
  {
   "cell_type": "code",
   "execution_count": 1,
   "id": "wired-arrival",
   "metadata": {},
   "outputs": [],
   "source": [
    "exit()"
   ]
  },
  {
   "cell_type": "markdown",
   "id": "flexible-matrix",
   "metadata": {},
   "source": [
    "< [Table of Contents](#top) | [References](#references) >\n",
    "<a id=\"Float\"></a>\n",
    "***\n",
    "###### Float\n",
    "***"
   ]
  },
  {
   "cell_type": "markdown",
   "id": "unsigned-praise",
   "metadata": {},
   "source": [
    "- ***Immutable*** - modifying ``n`` with addition will create a new object even though it appears to be modifying the value of ``n`` [1]"
   ]
  },
  {
   "cell_type": "code",
   "execution_count": 1,
   "id": "hourly-muscle",
   "metadata": {},
   "outputs": [],
   "source": [
    "from sys import path; path.insert(1,\"../src\")"
   ]
  },
  {
   "cell_type": "code",
   "execution_count": 2,
   "id": "center-aaron",
   "metadata": {},
   "outputs": [
    {
     "data": {
      "text/html": [
       "<style>.container { width:100% !important; }</style>"
      ],
      "text/plain": [
       "<IPython.core.display.HTML object>"
      ]
     },
     "metadata": {},
     "output_type": "display_data"
    }
   ],
   "source": [
    "from fubar import fImmutableMutable"
   ]
  },
  {
   "cell_type": "code",
   "execution_count": 3,
   "id": "attempted-shield",
   "metadata": {},
   "outputs": [
    {
     "name": "stdout",
     "output_type": "stream",
     "text": [
      "# repository ./fubar-python\r\n",
      "def fImmutableMutable(nParObject):\r\n",
      "    \"\"\"Immutable objects (int; float; bool; complex; frozenset; str; tuple)\r\n",
      "    cannot be changed whereas mutable objects (list; set; dict) can be changed.\r\n",
      "\r\n",
      "Input: nParObject\r\n",
      "Process: (id)\r\n",
      "Output: i) object identity (memory address); ii) object itself  \r\n",
      "\"\"\"\r\n",
      "    print(\"<id> : {}\".format(id(nParObject)))\r\n",
      "    return nParObject \r\n",
      "# --- END ---\r\n"
     ]
    }
   ],
   "source": [
    "%%script bash\n",
    "grep -1 \"def fImmutableMutable\" ../src/fubar.py -A 10"
   ]
  },
  {
   "cell_type": "code",
   "execution_count": 4,
   "id": "compatible-graph",
   "metadata": {},
   "outputs": [
    {
     "name": "stdout",
     "output_type": "stream",
     "text": [
      "<id> : 1681506078032\n"
     ]
    },
    {
     "data": {
      "text/plain": [
       "1.0"
      ]
     },
     "execution_count": 4,
     "metadata": {},
     "output_type": "execute_result"
    }
   ],
   "source": [
    "n=1.0\n",
    "fImmutableMutable(nParObject=n)"
   ]
  },
  {
   "cell_type": "markdown",
   "id": "colored-annual",
   "metadata": {},
   "source": [
    "- getting a new object as a response [1]"
   ]
  },
  {
   "cell_type": "code",
   "execution_count": 5,
   "id": "automated-needle",
   "metadata": {},
   "outputs": [
    {
     "name": "stdout",
     "output_type": "stream",
     "text": [
      "<id> : 1681506078064\n"
     ]
    },
    {
     "data": {
      "text/plain": [
       "2.0"
      ]
     },
     "execution_count": 5,
     "metadata": {},
     "output_type": "execute_result"
    }
   ],
   "source": [
    "n+=1\n",
    "fImmutableMutable(nParObject=n)"
   ]
  },
  {
   "cell_type": "code",
   "execution_count": 6,
   "id": "general-publicity",
   "metadata": {},
   "outputs": [],
   "source": [
    "exit()"
   ]
  },
  {
   "cell_type": "markdown",
   "id": "deadly-lawyer",
   "metadata": {},
   "source": [
    "< [Table of Contents](#top) | [References](#references) >\n",
    "<a id=\"Str\"></a>\n",
    "***\n",
    "###### Str\n",
    "***"
   ]
  },
  {
   "cell_type": "markdown",
   "id": "wrapped-payroll",
   "metadata": {},
   "source": [
    "- ***Immutable*** - ``n`` object creates a different memory address after the operation ``+=`` [1]"
   ]
  },
  {
   "cell_type": "code",
   "execution_count": 1,
   "id": "golden-basin",
   "metadata": {},
   "outputs": [],
   "source": [
    "from sys import path; path.insert(1,\"../src\")"
   ]
  },
  {
   "cell_type": "code",
   "execution_count": 2,
   "id": "female-venue",
   "metadata": {},
   "outputs": [
    {
     "data": {
      "text/html": [
       "<style>.container { width:100% !important; }</style>"
      ],
      "text/plain": [
       "<IPython.core.display.HTML object>"
      ]
     },
     "metadata": {},
     "output_type": "display_data"
    }
   ],
   "source": [
    "from fubar import fImmutableMutable"
   ]
  },
  {
   "cell_type": "code",
   "execution_count": 3,
   "id": "polish-consequence",
   "metadata": {},
   "outputs": [
    {
     "name": "stdout",
     "output_type": "stream",
     "text": [
      "# repository ./fubar-python\r\n",
      "def fImmutableMutable(nParObject):\r\n",
      "    \"\"\"Immutable objects (int; float; bool; complex; frozenset; str; tuple)\r\n",
      "    cannot be changed whereas mutable objects (list; set; dict) can be changed.\r\n",
      "\r\n",
      "Input: nParObject\r\n",
      "Process: (id)\r\n",
      "Output: i) object identity (memory address); ii) object itself  \r\n",
      "\"\"\"\r\n",
      "    print(\"<id> : {}\".format(id(nParObject)))\r\n",
      "    return nParObject \r\n",
      "# --- END ---\r\n"
     ]
    }
   ],
   "source": [
    "%%script bash\n",
    "grep -1 \"def fImmutableMutable\" ../src/fubar.py -A 10"
   ]
  },
  {
   "cell_type": "code",
   "execution_count": 4,
   "id": "sufficient-membership",
   "metadata": {},
   "outputs": [
    {
     "name": "stdout",
     "output_type": "stream",
     "text": [
      "<id> : 1534483209392\n"
     ]
    },
    {
     "data": {
      "text/plain": [
       "'foo'"
      ]
     },
     "execution_count": 4,
     "metadata": {},
     "output_type": "execute_result"
    }
   ],
   "source": [
    "n=\"foo\"\n",
    "fImmutableMutable(nParObject=n)"
   ]
  },
  {
   "cell_type": "code",
   "execution_count": 5,
   "id": "continent-diving",
   "metadata": {},
   "outputs": [
    {
     "name": "stdout",
     "output_type": "stream",
     "text": [
      "<id> : 1534541852592\n"
     ]
    },
    {
     "data": {
      "text/plain": [
       "'foobar'"
      ]
     },
     "execution_count": 5,
     "metadata": {},
     "output_type": "execute_result"
    }
   ],
   "source": [
    "n+=\"bar\"\n",
    "fImmutableMutable(nParObject=n)"
   ]
  },
  {
   "cell_type": "markdown",
   "id": "innovative-motor",
   "metadata": {},
   "source": [
    "- trying to directly mutate the string ``nStr`` results in an error - python will indicate no support of such mutation which is in line with the definition that the str type is immutable [1]\n",
    "\n",
    "```python\n",
    "nStr[0]=\"F\"\n",
    "TypeError: 'str' object does not support item assignment\n",
    "```"
   ]
  },
  {
   "cell_type": "code",
   "execution_count": 6,
   "id": "excellent-reducing",
   "metadata": {},
   "outputs": [],
   "source": [
    "exit()"
   ]
  },
  {
   "cell_type": "markdown",
   "id": "amended-youth",
   "metadata": {},
   "source": [
    "< [Table of Contents](#top) | [References](#references) >\n",
    "<a id=\"Mutable\"></a>\n",
    "***\n",
    "###### Mutable\n",
    "***"
   ]
  },
  {
   "cell_type": "markdown",
   "id": "funky-benjamin",
   "metadata": {},
   "source": [
    "- mutable objects can be changed [1]"
   ]
  },
  {
   "cell_type": "code",
   "execution_count": 1,
   "id": "constant-terrace",
   "metadata": {},
   "outputs": [],
   "source": [
    "exit()"
   ]
  },
  {
   "cell_type": "markdown",
   "id": "unnecessary-business",
   "metadata": {},
   "source": [
    "< [Table of Contents](#top) | [References](#references) >\n",
    "<a id=\"List-Built-in-Container\"></a>\n",
    "***\n",
    "###### List (Built-in Container)\n",
    "***"
   ]
  },
  {
   "cell_type": "markdown",
   "id": "progressive-rover",
   "metadata": {},
   "source": [
    "- **Mutable** - object ``n`` has an id originally and even after another item is added (appended) to the list it continues to have the same id as the original - same hold true after an assignment [1]"
   ]
  },
  {
   "cell_type": "code",
   "execution_count": 1,
   "id": "hourly-accessory",
   "metadata": {},
   "outputs": [],
   "source": [
    "from sys import path; path.insert(1,\"../src\")"
   ]
  },
  {
   "cell_type": "code",
   "execution_count": 2,
   "id": "empty-speaker",
   "metadata": {},
   "outputs": [],
   "source": [
    "n=list(range(10))"
   ]
  },
  {
   "cell_type": "code",
   "execution_count": 3,
   "id": "unable-structure",
   "metadata": {},
   "outputs": [
    {
     "data": {
      "text/html": [
       "<style>.container { width:100% !important; }</style>"
      ],
      "text/plain": [
       "<IPython.core.display.HTML object>"
      ]
     },
     "metadata": {},
     "output_type": "display_data"
    }
   ],
   "source": [
    "from fubar import fImmutableMutable"
   ]
  },
  {
   "cell_type": "code",
   "execution_count": 4,
   "id": "everyday-release",
   "metadata": {},
   "outputs": [
    {
     "name": "stdout",
     "output_type": "stream",
     "text": [
      "# repository ./fubar-python\r\n",
      "def fImmutableMutable(nParObject):\r\n",
      "    \"\"\"Immutable objects (int; float; bool; complex; frozenset; str; tuple)\r\n",
      "    cannot be changed whereas mutable objects (list; set; dict) can be changed.\r\n",
      "\r\n",
      "Input: nParObject\r\n",
      "Process: (id)\r\n",
      "Output: i) object identity (memory address); ii) object itself  \r\n",
      "\"\"\"\r\n",
      "    print(\"<id> : {}\".format(id(nParObject)))\r\n",
      "    return nParObject \r\n",
      "# --- END ---\r\n"
     ]
    }
   ],
   "source": [
    "%%script bash\n",
    "grep -1 \"def fImmutableMutable\" ../src/fubar.py -A 10"
   ]
  },
  {
   "cell_type": "code",
   "execution_count": 5,
   "id": "geographic-implementation",
   "metadata": {},
   "outputs": [
    {
     "name": "stdout",
     "output_type": "stream",
     "text": [
      "<id> : 1589695448128\n"
     ]
    },
    {
     "data": {
      "text/plain": [
       "[0, 1, 2, 3, 4, 5, 6, 7, 8, 9]"
      ]
     },
     "execution_count": 5,
     "metadata": {},
     "output_type": "execute_result"
    }
   ],
   "source": [
    "fImmutableMutable(list(range(10)))"
   ]
  },
  {
   "cell_type": "code",
   "execution_count": 6,
   "id": "editorial-suspect",
   "metadata": {},
   "outputs": [
    {
     "name": "stdout",
     "output_type": "stream",
     "text": [
      "<id> : 1589695451072\n"
     ]
    },
    {
     "data": {
      "text/plain": [
       "[0, 1, 2, 3, 4, 5, 6, 7, 8, 9]"
      ]
     },
     "execution_count": 6,
     "metadata": {},
     "output_type": "execute_result"
    }
   ],
   "source": [
    "list(range(10)).append(10)\n",
    "fImmutableMutable(list(range(10)))"
   ]
  },
  {
   "cell_type": "code",
   "execution_count": 7,
   "id": "neural-pressing",
   "metadata": {},
   "outputs": [
    {
     "name": "stdout",
     "output_type": "stream",
     "text": [
      "<id> : 1589695306816\n"
     ]
    },
    {
     "data": {
      "text/plain": [
       "[10, 1, 2, 3, 4, 5, 6, 7, 8, 9]"
      ]
     },
     "execution_count": 7,
     "metadata": {},
     "output_type": "execute_result"
    }
   ],
   "source": [
    "n[0]=10\n",
    "fImmutableMutable(n)"
   ]
  },
  {
   "cell_type": "code",
   "execution_count": 8,
   "id": "opposed-junior",
   "metadata": {},
   "outputs": [],
   "source": [
    "exit()"
   ]
  },
  {
   "cell_type": "markdown",
   "id": "abstract-technology",
   "metadata": {},
   "source": [
    "< [Table of Contents](#top) | [References](#references) >\n",
    "<a id=\"Specialised-Container\"></a>\n",
    "***\n",
    "### Specialised Container\n",
    "***"
   ]
  },
  {
   "cell_type": "markdown",
   "id": "referenced-coordinator",
   "metadata": {},
   "source": [
    "&#x1F6A7;"
   ]
  },
  {
   "cell_type": "code",
   "execution_count": 1,
   "id": "statewide-ethiopia",
   "metadata": {},
   "outputs": [],
   "source": [
    "exit()"
   ]
  },
  {
   "cell_type": "markdown",
   "id": "comic-zimbabwe",
   "metadata": {},
   "source": [
    "< [Table of Contents](#top) | [References](#references) >\n",
    "<a id=\"collections-Counter\"></a>\n",
    "***\n",
    "###### collections.Counter\n",
    "***"
   ]
  },
  {
   "cell_type": "markdown",
   "id": "north-hypothetical",
   "metadata": {},
   "source": [
    "< [Operator-Arithmetic](#Operator-Arithmetic) >"
   ]
  },
  {
   "cell_type": "markdown",
   "id": "overall-monitoring",
   "metadata": {},
   "source": [
    "&#x1F6A7;"
   ]
  },
  {
   "cell_type": "code",
   "execution_count": 1,
   "id": "signal-payday",
   "metadata": {},
   "outputs": [],
   "source": [
    "exit()"
   ]
  },
  {
   "cell_type": "markdown",
   "id": "suspended-hearts",
   "metadata": {},
   "source": [
    "< [Table of Contents](#top) | [References](#references) >\n",
    "<a id=\"Operator\"></a>\n",
    "***\n",
    "### Operator\n",
    "***"
   ]
  },
  {
   "cell_type": "markdown",
   "id": "sitting-slovenia",
   "metadata": {},
   "source": [
    "&#x1F6A7;"
   ]
  },
  {
   "cell_type": "code",
   "execution_count": 1,
   "id": "foster-discipline",
   "metadata": {},
   "outputs": [],
   "source": [
    "exit()"
   ]
  },
  {
   "cell_type": "markdown",
   "id": "restricted-tactics",
   "metadata": {},
   "source": [
    "< [Table of Contents](#top) | [References](#references) >\n",
    "<a id=\"Arithmetic\"></a>\n",
    "***\n",
    "###### Arithmetic\n",
    "***"
   ]
  },
  {
   "cell_type": "markdown",
   "id": "affiliated-grounds",
   "metadata": {},
   "source": [
    "- basic binary arithmetic operators (addition / substraction / multiplication / true division / floor division / modulus / exponentiation) - addition / substraction can double as unary operators (negation / unary plus) [3 p. 17]"
   ]
  },
  {
   "cell_type": "code",
   "execution_count": 1,
   "id": "crazy-piece",
   "metadata": {},
   "outputs": [],
   "source": [
    "a,b=2,3"
   ]
  },
  {
   "cell_type": "markdown",
   "id": "cooperative-definition",
   "metadata": {},
   "source": [
    "|Operator|Name|Description|\n",
    "|:------------------------- | :------------------------- | :------------------------- |\n",
    "|a+b|Addition|Sum of a and b|\n",
    "|a-b|Subtraction|Difference of a and b|\n",
    "|a*b|Multiplication|Product of a and b|"
   ]
  },
  {
   "cell_type": "markdown",
   "id": "brown-maker",
   "metadata": {},
   "source": [
    "- floor division operator (``//``) is the true division (``/``) with fractional parts truncated [3 p.18]"
   ]
  },
  {
   "cell_type": "markdown",
   "id": "small-probe",
   "metadata": {},
   "source": [
    "|Operator|Name|Description|\n",
    "|:------------------------- | :------------------------- | :------------------------- |\n",
    "|a/b|True Division|Quotient of a and b|\n",
    "|a//b|Floor Division|Quotient of a and b (removing fractional parts)|\n",
    "|a%b|Modulus|Remainder after division of a by b|\n",
    "|a**b|Exponentiation|a raised to the power of b|"
   ]
  },
  {
   "cell_type": "code",
   "execution_count": 2,
   "id": "contrary-defense",
   "metadata": {},
   "outputs": [
    {
     "data": {
      "text/plain": [
       "0.6666666666666666"
      ]
     },
     "execution_count": 2,
     "metadata": {},
     "output_type": "execute_result"
    }
   ],
   "source": [
    "a/b"
   ]
  },
  {
   "cell_type": "code",
   "execution_count": 3,
   "id": "unexpected-spanish",
   "metadata": {
    "scrolled": true
   },
   "outputs": [
    {
     "data": {
      "text/plain": [
       "0"
      ]
     },
     "execution_count": 3,
     "metadata": {},
     "output_type": "execute_result"
    }
   ],
   "source": [
    "a//b"
   ]
  },
  {
   "cell_type": "code",
   "execution_count": 4,
   "id": "proprietary-blank",
   "metadata": {},
   "outputs": [
    {
     "data": {
      "text/plain": [
       "2"
      ]
     },
     "execution_count": 4,
     "metadata": {},
     "output_type": "execute_result"
    }
   ],
   "source": [
    "a%b"
   ]
  },
  {
   "cell_type": "code",
   "execution_count": 5,
   "id": "ultimate-chapel",
   "metadata": {},
   "outputs": [
    {
     "data": {
      "text/plain": [
       "8"
      ]
     },
     "execution_count": 5,
     "metadata": {},
     "output_type": "execute_result"
    }
   ],
   "source": [
    "a**b"
   ]
  },
  {
   "cell_type": "markdown",
   "id": "productive-winner",
   "metadata": {},
   "source": [
    "- a unary operation is an operation with only one operand (single input) in contrast to binary operations which use two operands [3 p. 17]"
   ]
  },
  {
   "cell_type": "markdown",
   "id": "unique-mistake",
   "metadata": {},
   "source": [
    "|Operator|Name|Description|\n",
    "|:------------------------- | :------------------------- | :------------------------- |\n",
    "|-a|Negation|The negative of a|"
   ]
  },
  {
   "cell_type": "code",
   "execution_count": 6,
   "id": "involved-titanium",
   "metadata": {},
   "outputs": [
    {
     "data": {
      "text/plain": [
       "-2"
      ]
     },
     "execution_count": 6,
     "metadata": {},
     "output_type": "execute_result"
    }
   ],
   "source": [
    "-a"
   ]
  },
  {
   "cell_type": "code",
   "execution_count": 7,
   "id": "facial-caution",
   "metadata": {},
   "outputs": [
    {
     "data": {
      "text/plain": [
       "2"
      ]
     },
     "execution_count": 7,
     "metadata": {},
     "output_type": "execute_result"
    }
   ],
   "source": [
    "a"
   ]
  },
  {
   "cell_type": "markdown",
   "id": "international-shame",
   "metadata": {},
   "source": [
    "<a id=\"Operator-Arithmetic\"></a>\n",
    "< [collections.Counter](#collections-Counter) >"
   ]
  },
  {
   "cell_type": "code",
   "execution_count": 8,
   "id": "noble-blame",
   "metadata": {},
   "outputs": [],
   "source": [
    "from collections import Counter"
   ]
  },
  {
   "cell_type": "code",
   "execution_count": 9,
   "id": "first-floating",
   "metadata": {},
   "outputs": [
    {
     "data": {
      "text/plain": [
       "Counter({'apples': 0, 'pears': 4, 'oranges': -89})"
      ]
     },
     "execution_count": 9,
     "metadata": {},
     "output_type": "execute_result"
    }
   ],
   "source": [
    "Counter({\"apples\":0,\"pears\":4,\"oranges\":-89})"
   ]
  },
  {
   "cell_type": "code",
   "execution_count": 10,
   "id": "further-suite",
   "metadata": {},
   "outputs": [
    {
     "data": {
      "text/plain": [
       "Counter({'oranges': 89})"
      ]
     },
     "execution_count": 10,
     "metadata": {},
     "output_type": "execute_result"
    }
   ],
   "source": [
    "-Counter({\"apples\":0,\"pears\":4,\"oranges\":-89})"
   ]
  },
  {
   "cell_type": "markdown",
   "id": "personal-baghdad",
   "metadata": {},
   "source": [
    "|Operator|Name|Description|\n",
    "|:------------------------- | :------------------------- | :------------------------- |\n",
    "|+a|Unary Plus|a unchanged|"
   ]
  },
  {
   "cell_type": "code",
   "execution_count": 11,
   "id": "dimensional-alfred",
   "metadata": {},
   "outputs": [
    {
     "data": {
      "text/plain": [
       "2"
      ]
     },
     "execution_count": 11,
     "metadata": {},
     "output_type": "execute_result"
    }
   ],
   "source": [
    "+a"
   ]
  },
  {
   "cell_type": "code",
   "execution_count": 12,
   "id": "elect-technician",
   "metadata": {},
   "outputs": [
    {
     "data": {
      "text/plain": [
       "Counter({'pears': 4})"
      ]
     },
     "execution_count": 12,
     "metadata": {},
     "output_type": "execute_result"
    }
   ],
   "source": [
    "+Counter({\"apples\":0,\"pears\":4,\"oranges\":-89})"
   ]
  },
  {
   "cell_type": "code",
   "execution_count": 13,
   "id": "american-benchmark",
   "metadata": {},
   "outputs": [],
   "source": [
    "exit()"
   ]
  },
  {
   "cell_type": "markdown",
   "id": "union-fruit",
   "metadata": {},
   "source": [
    "< [Table of Contents](#top) | [References](#references) >\n",
    "<a id=\"Bitwise\"></a>\n",
    "***\n",
    "###### Bitwise\n",
    "***"
   ]
  },
  {
   "cell_type": "markdown",
   "id": "occupational-combat",
   "metadata": {},
   "source": [
    "- operators to perform bitwise logical operations on integers [3 p. 18]"
   ]
  },
  {
   "cell_type": "markdown",
   "id": "differential-poland",
   "metadata": {},
   "source": [
    "|Operator|Name|Description|\n",
    "|:------------------------- | :------------------------- | :------------------------- |\n",
    "|a&b|Bitwise AND|Bits defined in both a and b|\n",
    "|a\\|b|Bitwise OR|Bits defined in a or b or both|\n",
    "|a^b|Bitwise XOR|Bits defined in a or b but not both|\n",
    "|a<<b|Bit shift left|Shift bits of a left by b units|\n",
    "|a>>b|Bit shift right|Shift bits of a right by b units|\n",
    "|~a|Bitwise NOT|Bitwise negation of a|"
   ]
  },
  {
   "cell_type": "code",
   "execution_count": 1,
   "id": "proved-combining",
   "metadata": {},
   "outputs": [],
   "source": [
    "from sys import path; path.insert(1,\"../src\")"
   ]
  },
  {
   "cell_type": "code",
   "execution_count": 2,
   "id": "wired-westminster",
   "metadata": {},
   "outputs": [
    {
     "data": {
      "text/html": [
       "<style>.container { width:100% !important; }</style>"
      ],
      "text/plain": [
       "<IPython.core.display.HTML object>"
      ]
     },
     "metadata": {},
     "output_type": "display_data"
    }
   ],
   "source": [
    "from fubar import fMagic"
   ]
  },
  {
   "cell_type": "markdown",
   "id": "careful-batman",
   "metadata": {},
   "source": [
    "- bitwise operators only make sense in terms of the binary representation of numbers [3 p .19]"
   ]
  },
  {
   "cell_type": "code",
   "execution_count": 3,
   "id": "noticed-begin",
   "metadata": {},
   "outputs": [
    {
     "name": "stdout",
     "output_type": "stream",
     "text": [
      "<module 'builtins' (built-in)>\n",
      "<class 'builtin_function_or_method'>\n",
      "Return the binary representation of an integer.\n",
      "\n",
      "   >>> bin(2796202)\n",
      "   '0b1010101010101010101010'\n"
     ]
    }
   ],
   "source": [
    "print(fMagic(bin))"
   ]
  },
  {
   "cell_type": "markdown",
   "id": "spatial-allah",
   "metadata": {},
   "source": [
    "- ``bin(10)`` returns the prefix ``0b`` indicating a binary representation and the rest of the digits indicate that the number ``10`` is expressed as the sum [3 p. 19]"
   ]
  },
  {
   "cell_type": "markdown",
   "id": "lonely-offering",
   "metadata": {},
   "source": [
    "$$(1010)_{2} = (1x2^{3}) + (0x2^{2}) + (1x2^{1}) + (0x2^{0}) = (10)_{10}$$"
   ]
  },
  {
   "cell_type": "code",
   "execution_count": 4,
   "id": "static-mixture",
   "metadata": {},
   "outputs": [
    {
     "data": {
      "text/plain": [
       "'0b1010'"
      ]
     },
     "execution_count": 4,
     "metadata": {},
     "output_type": "execute_result"
    }
   ],
   "source": [
    "bin(10)"
   ]
  },
  {
   "cell_type": "markdown",
   "id": "naughty-mambo",
   "metadata": {},
   "source": [
    "- using bitwise OR $|$ to find the number which combines the bits of 3 and 1 [3 p .19]"
   ]
  },
  {
   "cell_type": "code",
   "execution_count": 5,
   "id": "efficient-limit",
   "metadata": {},
   "outputs": [
    {
     "data": {
      "text/plain": [
       "'0b11'"
      ]
     },
     "execution_count": 5,
     "metadata": {},
     "output_type": "execute_result"
    }
   ],
   "source": [
    "bin(3|1)"
   ]
  },
  {
   "cell_type": "markdown",
   "id": "interested-weapon",
   "metadata": {},
   "source": [
    "- users from other languages are sometimes tempted to use XOR ``a^b`` for exponentiation [3 p. 19]"
   ]
  },
  {
   "cell_type": "markdown",
   "id": "cross-excess",
   "metadata": {},
   "source": [
    "- use bitwise operations ``~`` ``&`` ``|`` when operating on individual bits or components of the objects in question [3 p. 22]"
   ]
  },
  {
   "cell_type": "markdown",
   "id": "cubic-biology",
   "metadata": {},
   "source": [
    "- use boolean operators ``and`` ``or`` ``not`` to compute boolean values (truth or falsehood of entire statements) - control flow statements such as conditionals and loops [3 p. 22]"
   ]
  },
  {
   "cell_type": "code",
   "execution_count": 6,
   "id": "extended-bridal",
   "metadata": {},
   "outputs": [],
   "source": [
    "exit()"
   ]
  },
  {
   "cell_type": "markdown",
   "id": "increasing-ideal",
   "metadata": {},
   "source": [
    "< [Table of Contents](#top) | [References](#references) >\n",
    "<a id=\"Assignment\"></a>\n",
    "***\n",
    "###### Assignment\n",
    "***"
   ]
  },
  {
   "cell_type": "markdown",
   "id": "harmful-leone",
   "metadata": {},
   "source": [
    "- can be used in expressions with any of the arithmetic and bitwise operators [3 p. 20]"
   ]
  },
  {
   "cell_type": "markdown",
   "id": "laughing-bicycle",
   "metadata": {},
   "source": [
    "- update the name ``a`` with a new value by combining the addition and the assignment [3 p. 20]"
   ]
  },
  {
   "cell_type": "code",
   "execution_count": 1,
   "id": "concrete-membrane",
   "metadata": {},
   "outputs": [],
   "source": [
    "a,b=2,3"
   ]
  },
  {
   "cell_type": "code",
   "execution_count": 2,
   "id": "pretty-reservoir",
   "metadata": {},
   "outputs": [
    {
     "data": {
      "text/plain": [
       "5"
      ]
     },
     "execution_count": 2,
     "metadata": {},
     "output_type": "execute_result"
    }
   ],
   "source": [
    "a+=b\n",
    "a"
   ]
  },
  {
   "cell_type": "markdown",
   "id": "amateur-thriller",
   "metadata": {},
   "source": [
    "- given this type of combined operation and assignment is so common python includes built-in operators for all the arithmetric operations [3 p. 20]"
   ]
  },
  {
   "cell_type": "code",
   "execution_count": 3,
   "id": "statutory-carpet",
   "metadata": {},
   "outputs": [
    {
     "data": {
      "text/plain": [
       "2"
      ]
     },
     "execution_count": 3,
     "metadata": {},
     "output_type": "execute_result"
    }
   ],
   "source": [
    "a-=b\n",
    "a"
   ]
  },
  {
   "cell_type": "code",
   "execution_count": 4,
   "id": "graduate-calibration",
   "metadata": {},
   "outputs": [
    {
     "data": {
      "text/plain": [
       "6"
      ]
     },
     "execution_count": 4,
     "metadata": {},
     "output_type": "execute_result"
    }
   ],
   "source": [
    "a*=b\n",
    "a"
   ]
  },
  {
   "cell_type": "code",
   "execution_count": 5,
   "id": "large-converter",
   "metadata": {},
   "outputs": [
    {
     "data": {
      "text/plain": [
       "2.0"
      ]
     },
     "execution_count": 5,
     "metadata": {},
     "output_type": "execute_result"
    }
   ],
   "source": [
    "a/=b\n",
    "a"
   ]
  },
  {
   "cell_type": "code",
   "execution_count": 6,
   "id": "dedicated-inside",
   "metadata": {},
   "outputs": [
    {
     "data": {
      "text/plain": [
       "1.0"
      ]
     },
     "execution_count": 6,
     "metadata": {},
     "output_type": "execute_result"
    }
   ],
   "source": [
    "a//=a\n",
    "a"
   ]
  },
  {
   "cell_type": "code",
   "execution_count": 7,
   "id": "conditional-walker",
   "metadata": {},
   "outputs": [
    {
     "data": {
      "text/plain": [
       "1.0"
      ]
     },
     "execution_count": 7,
     "metadata": {},
     "output_type": "execute_result"
    }
   ],
   "source": [
    "a%=b\n",
    "a"
   ]
  },
  {
   "cell_type": "code",
   "execution_count": 8,
   "id": "separated-chance",
   "metadata": {},
   "outputs": [
    {
     "data": {
      "text/plain": [
       "1.0"
      ]
     },
     "execution_count": 8,
     "metadata": {},
     "output_type": "execute_result"
    }
   ],
   "source": [
    "a**=b\n",
    "a"
   ]
  },
  {
   "cell_type": "markdown",
   "id": "brutal-jackson",
   "metadata": {},
   "source": [
    "- augmented assignment operator corresponding to each of the binary operators whereby each is equivalent to the corresponding operation followed by assignment [3 p. 20]"
   ]
  },
  {
   "cell_type": "markdown",
   "id": "innovative-mistake",
   "metadata": {},
   "source": [
    "- primarily used to update the intersection of built-in set types [[stackoverflow](https://web.archive.org/web/20210320080740/https://stackoverflow.com/questions/21237767/python-a-b-meaning)]"
   ]
  },
  {
   "cell_type": "code",
   "execution_count": 9,
   "id": "theoretical-organization",
   "metadata": {},
   "outputs": [],
   "source": [
    "a=set(\"abcd\")"
   ]
  },
  {
   "cell_type": "code",
   "execution_count": 10,
   "id": "numeric-mystery",
   "metadata": {},
   "outputs": [
    {
     "data": {
      "text/plain": [
       "{'b', 'd'}"
      ]
     },
     "execution_count": 10,
     "metadata": {},
     "output_type": "execute_result"
    }
   ],
   "source": [
    "a&=set(\"bdfg\")\n",
    "a"
   ]
  },
  {
   "cell_type": "code",
   "execution_count": 11,
   "id": "binary-pillow",
   "metadata": {},
   "outputs": [
    {
     "data": {
      "text/plain": [
       "{'b', 'd'}"
      ]
     },
     "execution_count": 11,
     "metadata": {},
     "output_type": "execute_result"
    }
   ],
   "source": [
    "a.__iand__(set(\"abcd\"))\n",
    "a"
   ]
  },
  {
   "cell_type": "markdown",
   "id": "aggregate-ancient",
   "metadata": {},
   "source": [
    "- shorthand [[stackoverflow](https://web.archive.org/web/20210320080740/https://stackoverflow.com/questions/21237767/python-a-b-meaning)]"
   ]
  },
  {
   "cell_type": "code",
   "execution_count": 12,
   "id": "eastern-container",
   "metadata": {},
   "outputs": [
    {
     "data": {
      "text/plain": [
       "{'b', 'd'}"
      ]
     },
     "execution_count": 12,
     "metadata": {},
     "output_type": "execute_result"
    }
   ],
   "source": [
    "a=a&set(\"abcd\")\n",
    "a"
   ]
  },
  {
   "cell_type": "markdown",
   "id": "changing-muscle",
   "metadata": {},
   "source": [
    "- slight catch for mutable objects (list/arrays or DataFrames) is that these augmented assignment operations are subtly different than their more verbose counterparts wherey the contents of the original object is modified rather than creating a new object [3 p. 20]"
   ]
  },
  {
   "cell_type": "code",
   "execution_count": 13,
   "id": "alpha-flashing",
   "metadata": {},
   "outputs": [],
   "source": [
    "exit()"
   ]
  },
  {
   "cell_type": "markdown",
   "id": "treated-arbor",
   "metadata": {},
   "source": [
    "< [Table of Contents](#top) | [References](#references) >\n",
    "<a id=\"Comparison\"></a>\n",
    "***\n",
    "###### Comparison\n",
    "***"
   ]
  },
  {
   "cell_type": "markdown",
   "id": "optimum-democracy",
   "metadata": {},
   "source": [
    "- comparison of different values returning boolean values ``True`` or ``False`` [3 p. 21]"
   ]
  },
  {
   "cell_type": "markdown",
   "id": "shaped-celebration",
   "metadata": {},
   "source": [
    "|Operator|Description|\n",
    "|:------------------------- | :------------------------- |\n",
    "|a==b|a equal to b|\n",
    "|a!=b|a not equal to b|\n",
    "|a<b|a less than b|\n",
    "|a>b|a greater than b|\n",
    "|a<=b|a less than or equal to b|\n",
    "|a>=b|a greater than or equal to b|"
   ]
  },
  {
   "cell_type": "markdown",
   "id": "clear-miniature",
   "metadata": {},
   "source": [
    "- comparison operators combined with the arithmetic and bitwise operators express a virtually limitless range of tests for numbers - check if a number is odd by checking ``%2`` returns one [3 p. 21]"
   ]
  },
  {
   "cell_type": "code",
   "execution_count": 1,
   "id": "unauthorized-vietnam",
   "metadata": {},
   "outputs": [],
   "source": [
    "n=3"
   ]
  },
  {
   "cell_type": "code",
   "execution_count": 2,
   "id": "annoying-blanket",
   "metadata": {},
   "outputs": [
    {
     "data": {
      "text/plain": [
       "True"
      ]
     },
     "execution_count": 2,
     "metadata": {},
     "output_type": "execute_result"
    }
   ],
   "source": [
    "n%2!=0"
   ]
  },
  {
   "cell_type": "markdown",
   "id": "biblical-cartridge",
   "metadata": {},
   "source": [
    "- can string together multiple comparisons to check more complicated relationships [3 p. 21]"
   ]
  },
  {
   "cell_type": "code",
   "execution_count": 3,
   "id": "false-adult",
   "metadata": {},
   "outputs": [],
   "source": [
    "n=2"
   ]
  },
  {
   "cell_type": "code",
   "execution_count": 4,
   "id": "arabic-square",
   "metadata": {},
   "outputs": [
    {
     "data": {
      "text/plain": [
       "True"
      ]
     },
     "execution_count": 4,
     "metadata": {},
     "output_type": "execute_result"
    }
   ],
   "source": [
    "1<n<3"
   ]
  },
  {
   "cell_type": "code",
   "execution_count": 5,
   "id": "wooden-crisis",
   "metadata": {},
   "outputs": [
    {
     "data": {
      "text/plain": [
       "False"
      ]
     },
     "execution_count": 5,
     "metadata": {},
     "output_type": "execute_result"
    }
   ],
   "source": [
    "2<n>2"
   ]
  },
  {
   "cell_type": "markdown",
   "id": "natural-bargain",
   "metadata": {},
   "source": [
    "- bitwise logical operation ``~`` (bit-flip operator) evidently when flipping all the bits of zero then ending up with minus one (twos complement integer encoding scheme is what python uses to encode signed integers) [3 p. 21]"
   ]
  },
  {
   "cell_type": "code",
   "execution_count": 6,
   "id": "piano-recovery",
   "metadata": {},
   "outputs": [
    {
     "data": {
      "text/plain": [
       "-1"
      ]
     },
     "execution_count": 6,
     "metadata": {},
     "output_type": "execute_result"
    }
   ],
   "source": [
    "~0"
   ]
  },
  {
   "cell_type": "code",
   "execution_count": 7,
   "id": "statewide-forth",
   "metadata": {},
   "outputs": [
    {
     "data": {
      "text/plain": [
       "True"
      ]
     },
     "execution_count": 7,
     "metadata": {},
     "output_type": "execute_result"
    }
   ],
   "source": [
    "-1==~0"
   ]
  },
  {
   "cell_type": "code",
   "execution_count": 8,
   "id": "funded-detective",
   "metadata": {},
   "outputs": [],
   "source": [
    "exit()"
   ]
  },
  {
   "cell_type": "markdown",
   "id": "understood-johnston",
   "metadata": {},
   "source": [
    "< [Table of Contents](#top) | [References](#references) >\n",
    "<a id=\"Boolean\"></a>\n",
    "***\n",
    "###### Boolean\n",
    "***"
   ]
  },
  {
   "cell_type": "markdown",
   "id": "sunset-utilization",
   "metadata": {},
   "source": [
    "&#x1F6A7;"
   ]
  },
  {
   "cell_type": "code",
   "execution_count": 1,
   "id": "burning-mandate",
   "metadata": {},
   "outputs": [],
   "source": [
    "exit()"
   ]
  },
  {
   "cell_type": "markdown",
   "id": "vocal-transformation",
   "metadata": {},
   "source": [
    "< [Table of Contents](#top) | [References](#references) >\n",
    "<a id=\"Identity\"></a>\n",
    "***\n",
    "###### Identity\n",
    "***"
   ]
  },
  {
   "cell_type": "markdown",
   "id": "operational-motorcycle",
   "metadata": {},
   "source": [
    "&#x1F6A7;"
   ]
  },
  {
   "cell_type": "code",
   "execution_count": 1,
   "id": "descending-administration",
   "metadata": {},
   "outputs": [],
   "source": [
    "exit()"
   ]
  },
  {
   "cell_type": "markdown",
   "id": "acute-artwork",
   "metadata": {},
   "source": [
    "< [Table of Contents](#top) | [References](#references) >\n",
    "<a id=\"Membership\"></a>\n",
    "***\n",
    "###### Membership\n",
    "***"
   ]
  },
  {
   "cell_type": "markdown",
   "id": "freelance-mediterranean",
   "metadata": {},
   "source": [
    "&#x1F6A7;"
   ]
  },
  {
   "cell_type": "code",
   "execution_count": 1,
   "id": "twenty-cornwall",
   "metadata": {},
   "outputs": [],
   "source": [
    "exit()"
   ]
  },
  {
   "cell_type": "markdown",
   "id": "dedicated-balance",
   "metadata": {},
   "source": [
    "***\n",
    "## END"
   ]
  },
  {
   "cell_type": "markdown",
   "id": "transparent-crisis",
   "metadata": {},
   "source": [
    "< [Table of Contents](#top) | [Abstract](#abstract) | [Introduction](#introduction) | [Conclusion](#conclusion) | [References](#references) >\n",
    "<a id=\"solution\"></a>\n",
    "***\n",
    "## Solution\n",
    "***"
   ]
  },
  {
   "cell_type": "markdown",
   "id": "impossible-regression",
   "metadata": {},
   "source": [
    "< [Table of Contents](#top) | [References](#references) >\n",
    "<a id=\"computational-thinking-with-algorithms\"></a>\n",
    "### GMIT - CTA\n",
    "***"
   ]
  },
  {
   "cell_type": "markdown",
   "id": "functioning-empire",
   "metadata": {},
   "source": [
    "**Module (Computational Thinking with Algorithms) Programming Practice**"
   ]
  },
  {
   "cell_type": "code",
   "execution_count": 1,
   "id": "vietnamese-prerequisite",
   "metadata": {},
   "outputs": [],
   "source": [
    "exit()"
   ]
  },
  {
   "cell_type": "markdown",
   "id": "structured-punishment",
   "metadata": {},
   "source": [
    "< [Table of Contents](#top) | [References](#references) >\n",
    "<a id=\"code-runner\"></a>\n",
    "***\n",
    "###### Code Runner\n",
    "***"
   ]
  },
  {
   "cell_type": "code",
   "execution_count": null,
   "id": "radical-dayton",
   "metadata": {},
   "outputs": [],
   "source": [
    "def fOnlyEvens(nParArray):\n",
    "    \"\"\"GMIT Module: Computational Thinking with Algorithms - Code Runner\n",
    "\n",
    "Input: Array of integers.\n",
    "Process: Each number in \"Input\"; if number % 2 = 0; append to new array.\n",
    "Output: New array containing only the even numbers from the first array.\n",
    "\"\"\"\n",
    "    nArray=[] # output\n",
    "    for nEachItem in nParArray: # process\n",
    "        if nEachItem%2==0:\n",
    "            nArray.append(nEachItem)\n",
    "    return nArray\n",
    "fOnlyEvens(list(range(1,7)))"
   ]
  },
  {
   "cell_type": "code",
   "execution_count": null,
   "id": "sunset-haven",
   "metadata": {},
   "outputs": [],
   "source": [
    "from numpy.random import default_rng\n",
    "n1000k=[default_rng().integers(low=10,high=None) for i in range(0,1000000)]"
   ]
  },
  {
   "cell_type": "code",
   "execution_count": null,
   "id": "professional-teddy",
   "metadata": {},
   "outputs": [],
   "source": [
    "len(n1000k)"
   ]
  },
  {
   "cell_type": "code",
   "execution_count": null,
   "id": "offshore-money",
   "metadata": {},
   "outputs": [],
   "source": [
    "n1000k[999999]"
   ]
  },
  {
   "cell_type": "code",
   "execution_count": null,
   "id": "dynamic-tower",
   "metadata": {},
   "outputs": [],
   "source": [
    "def fContainsElement(nParArr,nParSearch):\n",
    "    for i in nParArr:\n",
    "        if i==nParSearch:\n",
    "            return True\n",
    "    return False"
   ]
  },
  {
   "cell_type": "code",
   "execution_count": null,
   "id": "photographic-border",
   "metadata": {},
   "outputs": [],
   "source": [
    "%timeit -r 1 -n 5 fContainsElement(nParArr=n1000k,nParSearch=10)"
   ]
  },
  {
   "cell_type": "code",
   "execution_count": null,
   "id": "unlimited-beach",
   "metadata": {},
   "outputs": [],
   "source": [
    "fContainsElement(nParArr=n1000k,nParSearch=10)"
   ]
  },
  {
   "cell_type": "code",
   "execution_count": null,
   "id": "awful-monte",
   "metadata": {},
   "outputs": [],
   "source": [
    "fContainsElement(nParArr=[1,2,1000,45],nParSearch=10)"
   ]
  },
  {
   "cell_type": "code",
   "execution_count": null,
   "id": "integral-winning",
   "metadata": {},
   "outputs": [],
   "source": [
    "def fArray(nParArr):\n",
    "    for i in nParArr:\n",
    "        print(i) # each run/loop captures additional element in nParArr\n",
    "arr=[1,2,1000,4,5]\n",
    "fArray(arr)"
   ]
  },
  {
   "cell_type": "code",
   "execution_count": null,
   "id": "naughty-scout",
   "metadata": {},
   "outputs": [],
   "source": [
    "def fArray(nParArr):\n",
    "    for i in nParArr:\n",
    "        print(nParArr[0]) # each run/loop captures first element (index 0) in \"i\" only\n",
    "arr=[1,2,1000,4,5]\n",
    "fArray(arr)"
   ]
  },
  {
   "cell_type": "markdown",
   "id": "working-hearing",
   "metadata": {},
   "source": [
    "```python\n",
    "def fArray(nParArr):\n",
    "    for i in nParArr:\n",
    "        # first loop \"i\" is 1 - i.e. arr[0]\n",
    "            # second loop \"i\" is 2 - i.e. arr[1]\n",
    "                # third loop \"i\" is 1000 - i.e arr[2]\n",
    "        print(nParArr[i]) # first loop prints arr[1] given \"i\" is 1\n",
    "                                # second loop prints arr[2] given \"i\" is 2\n",
    "                                    # third loop prints (NOT) arr[1000] given \"i\" is 1000 \n",
    "        # on the third loop ERROR: \"list index out of range\" \n",
    "arr=[1,2,1000,4,5]\n",
    "fArray(arr)\n",
    "```"
   ]
  },
  {
   "cell_type": "markdown",
   "id": "vulnerable-provincial",
   "metadata": {},
   "source": [
    "```python\n",
    "def fArray(nParArr):\n",
    "    for i in nParArr:\n",
    "        # first loop \"i\" is 1 - i.e. arr[0]\n",
    "            # second loop \"i\" is 2 - i.e. arr[1]\n",
    "                # third loop \"i\" is 1000 - i.e arr[2]\n",
    "        print(nParArr[i-1]) # first loop prints arr[0] given \"i\" is 1 and minusing ONE\n",
    "                                # second loop prints arr[1] given \"i\" is 2 and minusing ONE\n",
    "                                    # third loop prints arr[999] (NOT) given \"i\" is 1000 and minusing ONE \n",
    "        # on the third loop ERROR: \"list index out of range\" \n",
    "arr=[1,2,1000,4,5]\n",
    "fArray(arr)\n",
    "```"
   ]
  },
  {
   "cell_type": "code",
   "execution_count": null,
   "id": "qualified-garage",
   "metadata": {},
   "outputs": [],
   "source": [
    "from numpy.random import default_rng\n",
    "n1000k=[default_rng().integers(low=10,high=None) for i in range(0,1000000)]"
   ]
  },
  {
   "cell_type": "code",
   "execution_count": null,
   "id": "laughing-perfume",
   "metadata": {},
   "outputs": [],
   "source": [
    "# function A - using built-in functions\n",
    "def fContainsElement(nParArr,nParSearch):\n",
    "    for i in range(0,len(nParArr)):\n",
    "        if nParArr[i]==nParSearch:\n",
    "            return True\n",
    "    return False"
   ]
  },
  {
   "cell_type": "code",
   "execution_count": null,
   "id": "weekly-painting",
   "metadata": {},
   "outputs": [],
   "source": [
    "%timeit -r 1 -n 5 fContainsElement(nParArr=n1000k,nParSearch=10)\n",
    "fContainsElement(nParArr=n1000k,nParSearch=10)"
   ]
  },
  {
   "cell_type": "code",
   "execution_count": null,
   "id": "driven-namibia",
   "metadata": {},
   "outputs": [],
   "source": [
    "def fContainsElement(nParArr,nParSearch):\n",
    "    for i in nParArr:\n",
    "        if nParArr[i]==nParSearch:\n",
    "            return True\n",
    "    return False"
   ]
  },
  {
   "cell_type": "code",
   "execution_count": null,
   "id": "distant-regular",
   "metadata": {},
   "outputs": [],
   "source": [
    "%timeit -r 1 -n 5 fContainsElement(nParArr=n1000k,nParSearch=10)\n",
    "fContainsElement(nParArr=n1000k,nParSearch=10)"
   ]
  },
  {
   "cell_type": "code",
   "execution_count": 1,
   "id": "possible-tonight",
   "metadata": {},
   "outputs": [],
   "source": [
    "exit()"
   ]
  },
  {
   "cell_type": "markdown",
   "id": "experienced-technique",
   "metadata": {},
   "source": [
    "< [Table of Contents](#top) | [References](#references) >\n",
    "<a id=\"Caesar-Cipher\"></a>\n",
    "***\n",
    "###### Caesar Cipher\n",
    "***"
   ]
  },
  {
   "cell_type": "code",
   "execution_count": null,
   "id": "accessible-processing",
   "metadata": {},
   "outputs": [],
   "source": [
    "# %%writefile -a ../src/fubar.py\n",
    "# repository ./fubar-python\n",
    "def fEncrypt(nParPlaintext,nParOffset):\n",
    "    \"\"\"Implement caesar cipher.\n",
    "\n",
    "Input: nParPlaintext; nParOffset\n",
    "Process: apply nParOffset to every character in nParPlaintext; ord; isupper; chr\n",
    "Output: nCiphertext\n",
    "\"\"\"\n",
    "    nCiphertext=\"\"\n",
    "    # traverse over string nParPlaintext\n",
    "    for nEachItem in nParPlaintext:\n",
    "        # transform according to nParOffset\n",
    "        nNumVal=ord(nEachItem) # ...nParPlaintext letter as number\n",
    "        # determine lowercase or uppercase\n",
    "        if nEachItem.isupper(): # ...boolean True if uppercase\n",
    "            # add nParOffset to nNumVal\n",
    "            nAdjusted=((nNumVal+nParOffset-65)%26)+65\n",
    "            nCiphertext+=chr(nAdjusted) # nNumVal number as letter\n",
    "        elif nNumVal==32:\n",
    "            nCiphertext+=nEachItem\n",
    "        else:\n",
    "            nAdjusted=((nNumVal+nParOffset-97)%26)+97\n",
    "            nCiphertext+=chr(nAdjusted) \n",
    "    return nCiphertext\n",
    "# -- END ---"
   ]
  },
  {
   "cell_type": "code",
   "execution_count": null,
   "id": "commercial-mattress",
   "metadata": {},
   "outputs": [],
   "source": [
    "def encrypt(plain_text,offset):\n",
    "    nCiphertext=\"\"\n",
    "    # traverse over string plain_text\n",
    "    for nEachItem in plain_text:\n",
    "        # transform according to offset\n",
    "        nNumVal=ord(nEachItem) # ...plain_text letter as number\n",
    "        # determine lowercase or uppercase\n",
    "        if nEachItem.isupper(): # ...boolean True if uppercase\n",
    "            # add nParOffset to nNumVal\n",
    "            nAdjusted=((nNumVal+offset-65)%26)+65\n",
    "            nCiphertext+=chr(nAdjusted) # nNumVal number as letter\n",
    "        elif nNumVal==32:\n",
    "            nCiphertext+=nEachItem\n",
    "        else:\n",
    "            nAdjusted=((nNumVal+offset-97)%26)+97\n",
    "            nCiphertext+=chr(nAdjusted) \n",
    "    return nCiphertext"
   ]
  },
  {
   "cell_type": "code",
   "execution_count": null,
   "id": "composed-commonwealth",
   "metadata": {},
   "outputs": [],
   "source": [
    "encrypt(\"Isnt Java Great\",4)"
   ]
  },
  {
   "cell_type": "code",
   "execution_count": null,
   "id": "honey-badge",
   "metadata": {},
   "outputs": [],
   "source": [
    "encrypt(\"I love GMIT\",4)"
   ]
  },
  {
   "cell_type": "code",
   "execution_count": null,
   "id": "controversial-banks",
   "metadata": {},
   "outputs": [],
   "source": [
    "encrypt(\"This course is great\",4)"
   ]
  },
  {
   "cell_type": "code",
   "execution_count": null,
   "id": "saved-carolina",
   "metadata": {},
   "outputs": [],
   "source": [
    "def decrypt(plain_text,offset):\n",
    "    nPlaintext=\"\"\n",
    "    # traverse over string plain_text\n",
    "    for nEachItem in plain_text:\n",
    "        # transform according to offset\n",
    "        nNumVal=ord(nEachItem) # ...plain_text letter as number\n",
    "        # determine lowercase or uppercase\n",
    "        if nEachItem.isupper(): # ...boolean True if uppercase\n",
    "            # add nParOffset to nNumVal\n",
    "            nAdjusted=((nNumVal-offset-65)%26)+65\n",
    "            nPlaintext+=chr(nAdjusted) # nNumVal number as letter\n",
    "        elif nNumVal==32:\n",
    "            nPlaintext+=nEachItem\n",
    "        else:\n",
    "            nAdjusted=((nNumVal-offset-97)%26)+97\n",
    "            nPlaintext+=chr(nAdjusted) \n",
    "    return nPlaintext"
   ]
  },
  {
   "cell_type": "code",
   "execution_count": null,
   "id": "welsh-imperial",
   "metadata": {},
   "outputs": [],
   "source": [
    "decrypt(\"Mwrx Neze Kviex\",4)"
   ]
  },
  {
   "cell_type": "code",
   "execution_count": null,
   "id": "excess-utilization",
   "metadata": {},
   "outputs": [],
   "source": [
    "decrypt(\"M pszi KQMX\",4)"
   ]
  },
  {
   "cell_type": "code",
   "execution_count": null,
   "id": "handy-ozone",
   "metadata": {},
   "outputs": [],
   "source": [
    "decrypt(\"Xlmw gsyvwi mw kviex\",4)"
   ]
  },
  {
   "cell_type": "code",
   "execution_count": null,
   "id": "confused-mainland",
   "metadata": {},
   "outputs": [],
   "source": [
    "def encrypt2(plain_text, offset):\n",
    "    nCiphertext=\"\"\n",
    "    # traverse over string plain_text\n",
    "    for nEachItem in plain_text:\n",
    "        # transform according to offset\n",
    "        nNumVal=ord(nEachItem) # ...plain_text letter as number\n",
    "        # determine lowercase or uppercase\n",
    "        if nEachItem.isupper(): # ...boolean True if uppercase\n",
    "            # add nParOffset to nNumVal\n",
    "            nAdjusted=((nNumVal+offset-65)%26)+65\n",
    "            nCiphertext+=chr(nAdjusted) # nNumVal number as letter\n",
    "        elif nNumVal==32: \n",
    "            pass\n",
    "        else:\n",
    "            nAdjusted=((nNumVal+offset-97)%26)+97\n",
    "            nCiphertext+=chr(nAdjusted)\n",
    "    return nCiphertext"
   ]
  },
  {
   "cell_type": "code",
   "execution_count": null,
   "id": "human-wesley",
   "metadata": {},
   "outputs": [],
   "source": [
    "encrypt2(\"hello lads\", 2)"
   ]
  },
  {
   "cell_type": "code",
   "execution_count": null,
   "id": "competent-official",
   "metadata": {},
   "outputs": [],
   "source": [
    "encrypt2(\"are we human\", 2)"
   ]
  },
  {
   "cell_type": "code",
   "execution_count": null,
   "id": "reported-quick",
   "metadata": {},
   "outputs": [],
   "source": [
    "encrypt2(\"or are we dancer\", 2)"
   ]
  },
  {
   "cell_type": "code",
   "execution_count": null,
   "id": "fatty-hurricane",
   "metadata": {},
   "outputs": [],
   "source": [
    "encrypt2(\"two plus two is four\", 2)"
   ]
  },
  {
   "cell_type": "code",
   "execution_count": 1,
   "id": "designing-version",
   "metadata": {},
   "outputs": [],
   "source": [
    "exit()"
   ]
  },
  {
   "cell_type": "markdown",
   "id": "olive-windows",
   "metadata": {},
   "source": [
    "***\n",
    "## END"
   ]
  },
  {
   "cell_type": "markdown",
   "id": "appropriate-knowing",
   "metadata": {},
   "source": [
    "< [Table of Contents](#top) | [Abstract](#abstract) | [Introduction](#introduction) | [Solution](#solution) | [References](#references) >\n",
    "<a id=\"conclusion\"></a>\n",
    "***\n",
    "## Conclusion\n",
    "***"
   ]
  },
  {
   "cell_type": "markdown",
   "id": "unavailable-backup",
   "metadata": {},
   "source": [
    "&#x1F6A7;"
   ]
  },
  {
   "cell_type": "markdown",
   "id": "unnecessary-sucking",
   "metadata": {},
   "source": [
    "<!-- print(fGetModuleType(___x___),fDocumentation(___x___)) -->\n",
    "***\n",
    "## END"
   ]
  },
  {
   "cell_type": "markdown",
   "id": "average-advancement",
   "metadata": {},
   "source": [
    "< [Table of Contents](#top) | [Abstract](#abstract) | [Introduction](#introduction) | [Solution](#solution) | [Conclusion](#conclusion) | [References](#references) >\n",
    "<a id=\"references\"></a>\n",
    "***\n",
    "## References\n",
    "***\n",
    "\n",
    "\n",
    "&nbsp;&nbsp;&nbsp;&nbsp;&nbsp;&nbsp;&nbsp;&nbsp;&nbsp;[1] L. Jones, \"Pointers in Python: What's the Point?,\" [realpython](https://web.archive.org/web/20201210182307/https://realpython.com/pointers-in-python/), May 2019.\n",
    "\n",
    "&nbsp;&nbsp;&nbsp;&nbsp;&nbsp;&nbsp;&nbsp;&nbsp;&nbsp;[2] J. VanderPlas, \"Python Data Science Handbook,\" O'Reilly, December 2016.\n",
    "\n",
    "&nbsp;&nbsp;&nbsp;&nbsp;&nbsp;&nbsp;&nbsp;&nbsp;&nbsp;[3] J. VanderPlas, \"A Whirlwind Tour of Python,\" O'Reilly, August 2016."
   ]
  },
  {
   "cell_type": "markdown",
   "id": "varied-handle",
   "metadata": {},
   "source": [
    "***\n",
    "## END"
   ]
  },
  {
   "cell_type": "markdown",
   "id": "pacific-judges",
   "metadata": {},
   "source": [
    "< [Table of Contents](#top) | [Abstract](#abstract) | [Introduction](#introduction) | [Solution](#solution) | [Conclusion](#conclusion) | [References](#references) >\n",
    "<a id=\"appendix\"></a>\n",
    "***\n",
    "## Appendix\n",
    "***"
   ]
  },
  {
   "cell_type": "markdown",
   "id": "opened-assumption",
   "metadata": {},
   "source": [
    "<a id=\"appendix-some-reference\"></a>\n",
    "< [Go Back](#top) >"
   ]
  },
  {
   "cell_type": "markdown",
   "id": "instant-aerospace",
   "metadata": {},
   "source": [
    "###### Github\n",
    "***"
   ]
  },
  {
   "cell_type": "markdown",
   "id": "careful-wilson",
   "metadata": {},
   "source": [
    "```\n",
    "git push -f origin HEAD^:master && git reset HEAD~\n",
    "```"
   ]
  },
  {
   "cell_type": "markdown",
   "id": "supreme-commitment",
   "metadata": {},
   "source": [
    "###### Functions\n",
    "***"
   ]
  },
  {
   "cell_type": "markdown",
   "id": "certain-bristol",
   "metadata": {},
   "source": [
    "```python\n",
    "# %%writefile -a ../src/fubar.py\n",
    "# repository ./fubar-python\n",
    "def f():\n",
    "    \"\"\"\n",
    "\n",
    "Input:\n",
    "Process:\n",
    "Output:\n",
    "\"\"\"\n",
    "    pass\n",
    "# -- END ---\n",
    "```"
   ]
  },
  {
   "cell_type": "markdown",
   "id": "governmental-seller",
   "metadata": {},
   "source": [
    "###### Functions - ../src/fubar.py\n",
    "***"
   ]
  },
  {
   "cell_type": "markdown",
   "id": "pacific-praise",
   "metadata": {},
   "source": [
    "```\n",
    "%%script bash\n",
    "cat ../src/fubar.py\n",
    "```"
   ]
  },
  {
   "cell_type": "code",
   "execution_count": 1,
   "id": "filled-family",
   "metadata": {},
   "outputs": [
    {
     "name": "stdout",
     "output_type": "stream",
     "text": [
      "# repository ./OhAileasa\r\n",
      "def fFullScreen():\r\n",
      "\t\"\"\"Utilise full Jupyter notebook screen.\r\n",
      "\r\n",
      "Input:\r\n",
      "Process: (IPython.core.display.display; IPython.core.display.HTML)\r\n",
      "Output:\r\n",
      "\"\"\"\r\n",
      "\tfrom IPython.core.display import display,HTML\r\n",
      "\tdisplay(HTML(\"<style>.container { width:100% !important; }</style>\"))\r\n",
      "# --- END ---\r\n"
     ]
    }
   ],
   "source": [
    "%%script bash\n",
    "grep -1 \"def fFullScreen\" ../src/fubar.py -A 9"
   ]
  },
  {
   "cell_type": "markdown",
   "id": "secret-austin",
   "metadata": {},
   "source": [
    "```\n",
    "git commit -m \"update repository ./fubar-python - Everything in python is an object.\"\n",
    "```"
   ]
  },
  {
   "cell_type": "markdown",
   "id": "acoustic-unknown",
   "metadata": {},
   "source": [
    "###### Images\n",
    "***"
   ]
  },
  {
   "cell_type": "markdown",
   "id": "logical-allah",
   "metadata": {},
   "source": [
    "![gumball](https://github.com/SeanOhAileasa/SeanOhAileasa/blob/master/img/cta/analysing/gumball.png?raw=true)\n",
    "\n",
    "***(Image) P. Mannion, \"03 Analysing Algorithms Part 1,\" GMIT, October 2017.***"
   ]
  },
  {
   "cell_type": "markdown",
   "id": "primary-staff",
   "metadata": {},
   "source": [
    "###### Tables\n",
    "***"
   ]
  },
  {
   "cell_type": "markdown",
   "id": "filled-wedding",
   "metadata": {},
   "source": [
    "|aaa|bbbbbb|ccccccccc|\n",
    "|:------------------------- | :------------------------- | :------------------------- |\n",
    "|aaa|bbbbbb|ccccccccc|"
   ]
  },
  {
   "cell_type": "markdown",
   "id": "virgin-mission",
   "metadata": {},
   "source": [
    "###### References\n",
    "***"
   ]
  },
  {
   "cell_type": "markdown",
   "id": "technological-attraction",
   "metadata": {},
   "source": [
    "&nbsp;&nbsp;&nbsp;&nbsp;&nbsp;&nbsp;&nbsp;&nbsp;&nbsp;[1] x. xxx, \"xxx,\" xxx, JanXXXry 2XX1."
   ]
  },
  {
   "cell_type": "markdown",
   "id": "amber-heather",
   "metadata": {},
   "source": [
    "***\n",
    "## END"
   ]
  },
  {
   "cell_type": "markdown",
   "id": "tender-spirituality",
   "metadata": {},
   "source": [
    "# END JUPYTER NOTEBOOK"
   ]
  }
 ],
 "metadata": {
  "kernelspec": {
   "display_name": "Python 3",
   "language": "python",
   "name": "python3"
  },
  "language_info": {
   "codemirror_mode": {
    "name": "ipython",
    "version": 3
   },
   "file_extension": ".py",
   "mimetype": "text/x-python",
   "name": "python",
   "nbconvert_exporter": "python",
   "pygments_lexer": "ipython3",
   "version": "3.8.3"
  }
 },
 "nbformat": 4,
 "nbformat_minor": 5
}
