{
 "cells": [
  {
   "cell_type": "code",
   "execution_count": null,
   "id": "58e66255",
   "metadata": {},
   "outputs": [
    {
     "data": {
      "text/html": [
       "<script>Jupyter.notebook.kernel.restart()</script>"
      ]
     },
     "metadata": {},
     "output_type": "display_data"
    }
   ],
   "source": [
    "from IPython.core.display import display_html\n",
    "display_html(\"<script>Jupyter.notebook.kernel.restart()</script>\",raw=True)"
   ]
  },
  {
   "cell_type": "code",
   "execution_count": 1,
   "id": "79c67562",
   "metadata": {
    "scrolled": true
   },
   "outputs": [
    {
     "data": {
      "text/html": [
       "<style>.container { width:100% !important; }</style>"
      ],
      "text/plain": [
       "<IPython.core.display.HTML object>"
      ]
     },
     "metadata": {},
     "output_type": "display_data"
    },
    {
     "data": {
      "text/html": [
       "<style>.container { width:100% !important; }</style>"
      ],
      "text/plain": [
       "<IPython.core.display.HTML object>"
      ]
     },
     "metadata": {},
     "output_type": "display_data"
    }
   ],
   "source": [
    "from sys import path; path.insert(1,\"../src\")\n",
    "import fubar; from importlib import reload; reload(fubar);"
   ]
  },
  {
   "cell_type": "markdown",
   "id": "0ac4e41e",
   "metadata": {},
   "source": [
    "***\n",
    "< [GMIT Data Analytics](https://web.archive.org/web/20201029063153/https://www.gmit.ie/computer-science-and-applied-physics/higher-diploma-science-computing-data-analytics-ict) | [GMIT Cybersecurity Operations](https://web.archive.org/web/20210121021711/https://www.gmit.ie/lifelong-learning-mayo/computing/certificate-cybersecurity-operations-spa) | [Home](https://github.com/SeanOhAileasa) | [README](https://github.com/SeanOhAileasa/fubar-python/blob/main/README.md) >\n",
    "\n",
    "[![GMIT](https://github.com/SeanOhAileasa/SeanOhAileasa/blob/master/rc/gmit.png?raw=true)](https://web.archive.org/web/20201029063153/https://www.gmit.ie/computer-science-and-applied-physics/higher-diploma-science-computing-data-analytics-ict)\n",
    "\n",
    "## GMIT - Supplemental Course Material\n",
    "### Topic: [Python](https://nbviewer.jupyter.org/github/SeanOhAileasa/fubar-python/blob/main/fubar-python.ipynb)\n",
    "***"
   ]
  },
  {
   "cell_type": "markdown",
   "id": "6ac3f502",
   "metadata": {},
   "source": [
    "Course material for the ``Programming for Cybersecurity`` module (10 Credits) of the ``Certificate in Cybersecurity Operations (SPA)`` programme at Galway-Mayo Institute of Technology (GMIT). This repository is for self-study/preparation for future employment opportunities. Supplemental course material for the ``Higher Diploma in Science in Computing (Data Analytics) (H.Dip)`` programme (75 Credits) at **Galway-Mayo Institute of Technology (GMIT)**."
   ]
  },
  {
   "cell_type": "code",
   "execution_count": 2,
   "id": "04984535",
   "metadata": {},
   "outputs": [],
   "source": [
    "from sys import path; path.insert(1,\"../src\")\n",
    "from fubar import fFile"
   ]
  },
  {
   "cell_type": "code",
   "execution_count": 3,
   "id": "24fae1af",
   "metadata": {},
   "outputs": [
    {
     "name": "stdout",
     "output_type": "stream",
     "text": [
      "# repository ./SeanOhAileasa\r\n",
      "def fFile(nParPath):\r\n",
      "    \"\"\"Start a file with its associated application.\r\n",
      "\r\n",
      "Input: nParPath\r\n",
      "Process: (os.path.realpath; os.startfile)\r\n",
      "Output: file opened with associated application\r\n",
      "\"\"\"\r\n",
      "    from os import path,startfile\r\n",
      "    return startfile(path.realpath(nParPath))\r\n",
      "# --- END ---\r\n"
     ]
    }
   ],
   "source": [
    "%%script bash\n",
    "grep -1 \"def fFile\" ../src/fubar.py -A 9"
   ]
  },
  {
   "cell_type": "markdown",
   "id": "41aa834b",
   "metadata": {},
   "source": [
    "<a id=\"top\"></a>\n",
    "***\n",
    "## Table of Contents\n",
    "***\n",
    "\n",
    "- [environment-variable](https://nbviewer.jupyter.org/github/SeanOhAileasa/fubar-python/blob/main/rc/environment-variable.ipynb) \n",
    "\n",
    "    - [PYTHONPATH](https://nbviewer.jupyter.org/github/SeanOhAileasa/fubar-python/blob/main/rc/environment-variable-PYTHONPATH.ipynb) \n",
    "\n",
    "- [object](https://nbviewer.jupyter.org/github/SeanOhAileasa/fubar-python/blob/main/rc/object.ipynb) \n",
    "\n",
    "    - [im\\_m\\_utable](https://nbviewer.jupyter.org/github/SeanOhAileasa/fubar-python/blob/main/rc/object-im_m_utable.ipynb) \n",
    "\n",
    "        - [im\\_integer](https://nbviewer.jupyter.org/github/SeanOhAileasa/fubar-python/blob/main/rc/object-im_integer.ipynb) \n",
    "\n",
    "        - [m\\_list](https://nbviewer.jupyter.org/github/SeanOhAileasa/fubar-python/blob/main/rc/object-m_list.ipynb)  \n",
    "\n",
    "    - [class](https://nbviewer.jupyter.org/github/SeanOhAileasa/fubar-python/blob/main/rc/object-class.ipynb) \n",
    "    [instantiation](https://nbviewer.jupyter.org/github/SeanOhAileasa/fubar-python/blob/main/rc/object-class-instantiation.ipynb) \n",
    "        \n",
    "        - [instance](https://nbviewer.jupyter.org/github/SeanOhAileasa/fubar-python/blob/main/rc/object-class-instance.ipynb) \n",
    "        [attribute](https://nbviewer.jupyter.org/github/SeanOhAileasa/fubar-python/blob/main/rc/object-class-instance-attribute.ipynb) \n",
    "        [method](https://nbviewer.jupyter.org/github/SeanOhAileasa/fubar-python/blob/main/rc/object-class-instance-method.ipynb) \n",
    "\n",
    "        - [inheritance](https://nbviewer.jupyter.org/github/SeanOhAileasa/fubar-python/blob/main/rc/object-class-inheritance.ipynb) \n",
    "\n",
    "- [operator](https://nbviewer.jupyter.org/github/SeanOhAileasa/fubar-python/blob/main/rc/operator-intentionally-blank.ipynb)  \n",
    "\n",
    "    - [arithmetic](https://nbviewer.jupyter.org/github/SeanOhAileasa/fubar-python/blob/main/rc/operator-arithmetic.ipynb) \n",
    "    [bitwise](https://nbviewer.jupyter.org/github/SeanOhAileasa/fubar-python/blob/main/rc/operator-bitwise.ipynb) \n",
    "    [assignment](https://nbviewer.jupyter.org/github/SeanOhAileasa/fubar-python/blob/main/rc/operator-assignment.ipynb) \n",
    "    [comparison](https://nbviewer.jupyter.org/github/SeanOhAileasa/fubar-python/blob/main/rc/operator-comparison.ipynb) \n",
    "    [boolean](https://nbviewer.jupyter.org/github/SeanOhAileasa/fubar-python/blob/main/rc/operator-boolean.ipynb) \n",
    "    [identity](https://nbviewer.jupyter.org/github/SeanOhAileasa/fubar-python/blob/main/rc/operator-identity.ipynb) \n",
    "    [membership](https://nbviewer.jupyter.org/github/SeanOhAileasa/fubar-python/blob/main/rc/operator-membership.ipynb) \n",
    "\n",
    "- [control-flow](https://nbviewer.jupyter.org/github/SeanOhAileasa/fubar-python/blob/main/rc/control-flow.ipynb) \n",
    "[conditional](https://nbviewer.jupyter.org/github/SeanOhAileasa/fubar-python/blob/main/rc/control-flow-conditional.ipynb) \n",
    "\n",
    "    - [loop](https://nbviewer.jupyter.org/github/SeanOhAileasa/fubar-python/blob/main/rc/loop-intentionally-blank.ipynb) \n",
    "    [for](https://nbviewer.jupyter.org/github/SeanOhAileasa/fubar-python/blob/main/rc/control-flow-loop-for.ipynb) \n",
    "    [while](https://nbviewer.jupyter.org/github/SeanOhAileasa/fubar-python/blob/main/rc/control-flow-loop-while.ipynb) \n",
    "\n",
    "- [iterator](https://nbviewer.jupyter.org/github/SeanOhAileasa/fubar-python/blob/main/rc/iterator.ipynb) \n",
    "\n",
    "- [function](https://nbviewer.jupyter.org/github/SeanOhAileasa/fubar-python/blob/main/rc/function-intentionally-blank.ipynb) \n",
    "\n",
    "    - [user-defined](https://nbviewer.jupyter.org/github/SeanOhAileasa/fubar-python/blob/main/rc/function-user-defined.ipynb) \n",
    "    [\\*args](https://nbviewer.jupyter.org/github/SeanOhAileasa/fubar-python/blob/main/rc/function-user-defined-args.ipynb) \n",
    "    [\\*\\*kwargs](https://nbviewer.jupyter.org/github/SeanOhAileasa/fubar-python/blob/main/rc/function-user-defined-kwargs.ipynb) \n",
    "\n",
    "        - [lambda](https://nbviewer.jupyter.org/github/SeanOhAileasa/fubar-python/blob/main/rc/function-user-defined-lambda.ipynb) \n",
    "\n",
    "    - [built-in](https://nbviewer.jupyter.org/github/SeanOhAileasa/fubar-python/blob/main/rc/function-built-in-intentionally-blank.ipynb) \n",
    "\n",
    "        - [iterator](https://nbviewer.jupyter.org/github/SeanOhAileasa/fubar-python/blob/main/rc/function-built-in-iterator-intentionally-blank.ipynb) \n",
    "\n",
    "            - [enumerate](https://nbviewer.jupyter.org/github/SeanOhAileasa/fubar-python/blob/main/rc/function-built-in-iterator-enumerate.ipynb) \n",
    "            [filter](https://nbviewer.jupyter.org/github/SeanOhAileasa/fubar-python/blob/main/rc/function-built-in-iterator-filter.ipynb) \n",
    "            [map](https://nbviewer.jupyter.org/github/SeanOhAileasa/fubar-python/blob/main/rc/function-built-in-iterator-map.ipynb) \n",
    "            [zip](https://nbviewer.jupyter.org/github/SeanOhAileasa/fubar-python/blob/main/rc/function-built-in-iterator-zip.ipynb) \n",
    "\n",
    "            - [class](https://nbviewer.jupyter.org/github/SeanOhAileasa/fubar-python/blob/main/rc/function-built-in-iterator-class-intentionally-blank.ipynb) \n",
    "\n",
    "                - [range](https://nbviewer.jupyter.org/github/SeanOhAileasa/fubar-python/blob/main/rc/function-built-in-iterator-class-range.ipynb) \n",
    "\n",
    "        - [abs](https://nbviewer.jupyter.org/github/SeanOhAileasa/fubar-python/blob/main/rc/function-built-in-abs.ipynb) \n",
    "        [bin](https://nbviewer.jupyter.org/github/SeanOhAileasa/fubar-python/blob/main/rc/function-built-in-bin.ipynb) \n",
    "        [chr](https://nbviewer.jupyter.org/github/SeanOhAileasa/fubar-python/blob/main/rc/function-built-in-chr.ipynb) \n",
    "        [dir](https://nbviewer.jupyter.org/github/SeanOhAileasa/fubar-python/blob/main/rc/function-built-in-dir.ipynb) \n",
    "        [format](https://nbviewer.jupyter.org/github/SeanOhAileasa/fubar-python/blob/main/rc/function-built-in-format.ipynb) \n",
    "        [id](https://nbviewer.jupyter.org/github/SeanOhAileasa/fubar-python/blob/main/rc/function-built-in-id.ipynb) \n",
    "        [isinstance](https://nbviewer.jupyter.org/github/SeanOhAileasa/fubar-python/blob/main/rc/function-built-in-isinstance.ipynb) \n",
    "        [iter](https://nbviewer.jupyter.org/github/SeanOhAileasa/fubar-python/blob/main/rc/function-built-in-iter.ipynb) \n",
    "        [len](https://nbviewer.jupyter.org/github/SeanOhAileasa/fubar-python/blob/main/rc/function-built-in-len.ipynb) \n",
    "        [ord](https://nbviewer.jupyter.org/github/SeanOhAileasa/fubar-python/blob/main/rc/function-built-in-ord.ipynb) \n",
    "        [next](https://nbviewer.jupyter.org/github/SeanOhAileasa/fubar-python/blob/main/rc/function-built-in-next.ipynb) \n",
    "        [print](https://nbviewer.jupyter.org/github/SeanOhAileasa/fubar-python/blob/main/rc/function-built-in-print.ipynb) \n",
    "        [sorted](https://nbviewer.jupyter.org/github/SeanOhAileasa/fubar-python/blob/main/rc/function-built-in-sorted.ipynb) \n",
    "\n",
    "        - [class](https://nbviewer.jupyter.org/github/SeanOhAileasa/fubar-python/blob/main/rc/function-built-in-class-intentionally-blank.ipynb) \n",
    "\n",
    "            - [type](https://nbviewer.jupyter.org/github/SeanOhAileasa/fubar-python/blob/main/rc/function-built-in-class-type.ipynb) \n",
    "            [object](https://nbviewer.jupyter.org/github/SeanOhAileasa/fubar-python/blob/main/rc/function-built-in-class-object.ipynb) \n",
    "\n",
    "                - [simple](https://nbviewer.jupyter.org/github/SeanOhAileasa/fubar-python/blob/main/rc/function-built-in-class-simple.ipynb) \n",
    "\n",
    "                    - [int](https://nbviewer.jupyter.org/github/SeanOhAileasa/fubar-python/blob/main/rc/function-built-in-class-simple-int.ipynb) \n",
    "\n",
    "                    - [float](https://nbviewer.jupyter.org/github/SeanOhAileasa/fubar-python/blob/main/rc/function-built-in-class-simple-float.ipynb) \n",
    "\n",
    "                        - [method](https://nbviewer.jupyter.org/github/SeanOhAileasa/fubar-python/blob/main/rc/function-built-in-class-simple-float-method-intentionally-blank.ipynb) \n",
    "\n",
    "                            - [.as-integer-ratio](https://nbviewer.jupyter.org/github/SeanOhAileasa/fubar-python/blob/main/rc/function-built-in-class-simple-float-method-as-integer-ratio.ipynb) \n",
    "\n",
    "                    - [complex](https://nbviewer.jupyter.org/github/SeanOhAileasa/fubar-python/blob/main/rc/function-built-in-class-simple-complex.ipynb) \n",
    "\n",
    "                        - [attribute](https://nbviewer.jupyter.org/github/SeanOhAileasa/fubar-python/blob/main/rc/function-built-in-class-simple-complex-intentionally-blank.ipynb) \n",
    "\n",
    "                            - [.real .imag](https://nbviewer.jupyter.org/github/SeanOhAileasa/fubar-python/blob/main/rc/function-built-in-class-simple-complex-attribute-real-imag.ipynb) \n",
    "\n",
    "                        - [method](https://nbviewer.jupyter.org/github/SeanOhAileasa/fubar-python/blob/main/rc/function-built-in-class-simple-complex-method-intentionally-blank.ipynb) \n",
    "\n",
    "                            - [.conjugate](https://nbviewer.jupyter.org/github/SeanOhAileasa/fubar-python/blob/main/rc/function-built-in-class-simple-complex-method-conjugate.ipynb) \n",
    "\n",
    "                    - [str](https://nbviewer.jupyter.org/github/SeanOhAileasa/fubar-python/blob/main/rc/function-built-in-class-simple-str.ipynb) \n",
    "\n",
    "                        - [method](https://nbviewer.jupyter.org/github/SeanOhAileasa/fubar-python/blob/main/rc/function-built-in-class-simple-str-method-intentionally-blank.ipynb) \n",
    "\n",
    "                            - [.format](https://nbviewer.jupyter.org/github/SeanOhAileasa/fubar-python/blob/main/rc/function-built-in-class-simple-str-method-format.ipynb) \n",
    "\n",
    "                            - [.isupper](https://nbviewer.jupyter.org/github/SeanOhAileasa/fubar-python/blob/main/rc/function-built-in-class-simple-str-method-isupper.ipynb) \n",
    "\n",
    "                            - [.join](#) <!-- - [.join](https://nbviewer.jupyter.org/github/SeanOhAileasa/fubar-python/blob/main/rc/function-built-in-class-simple-str-method-join.ipynb)  ...https://docs.python.org/3/library/stdtypes.html?highlight=join#str.join -->\n",
    "\n",
    "                            - [.split](#) <!-- - [.split](https://nbviewer.jupyter.org/github/SeanOhAileasa/fubar-python/blob/main/rc/function-built-in-class-simple-str-method-split.ipynb)  ...https://docs.python.org/3/library/stdtypes.html?highlight=join#str.split -->\n",
    "\n",
    "                    - [{bool](https://nbviewer.jupyter.org/github/SeanOhAileasa/fubar-python/blob/main/rc/function-built-in-class-simple-bool.ipynb) \n",
    "\n",
    "                - [compound](https://nbviewer.jupyter.org/github/SeanOhAileasa/fubar-python/blob/main/rc/function-built-in-class-compound.ipynb) \n",
    "\n",
    "                    - [list](https://nbviewer.jupyter.org/github/SeanOhAileasa/fubar-python/blob/main/rc/function-built-in-class-compound-list.ipynb) \n",
    "\n",
    "                        - [method](https://nbviewer.jupyter.org/github/SeanOhAileasa/fubar-python/blob/main/rc/function-built-in-class-compound-list-method-intentionally-blank.ipynb) \n",
    "\n",
    "                            - [.append](https://nbviewer.jupyter.org/github/SeanOhAileasa/fubar-python/blob/main/rc/function-built-in-class-compound-list-method-append.ipynb) \n",
    "\n",
    "                            - [.sort](https://nbviewer.jupyter.org/github/SeanOhAileasa/fubar-python/blob/main/rc/function-built-in-class-compound-list-method-sort.ipynb) \n",
    "\n",
    "                        - [indexing](https://nbviewer.jupyter.org/github/SeanOhAileasa/fubar-python/blob/main/rc/function-built-in-class-compound-list-indexing.ipynb) \n",
    "                        \n",
    "                            - [tuple](https://nbviewer.jupyter.org/github/SeanOhAileasa/fubar-python/blob/main/rc/function-built-in-class-compound-list-indexing-tuple.ipynb) \n",
    "\n",
    "                            - [dict](https://nbviewer.jupyter.org/github/SeanOhAileasa/fubar-python/blob/main/rc/function-built-in-class-compound-list-indexing-dict.ipynb)           \n",
    "\n",
    "                        - [slicing](https://nbviewer.jupyter.org/github/SeanOhAileasa/fubar-python/blob/main/rc/function-built-in-class-compound-list-slicing.ipynb) \n",
    "\n",
    "                            - [tuple](https://nbviewer.jupyter.org/github/SeanOhAileasa/fubar-python/blob/main/rc/function-built-in-class-compound-list-slicing-tuple.ipynb) \n",
    "                    \n",
    "                        - [comprehension](https://nbviewer.jupyter.org/github/SeanOhAileasa/fubar-python/blob/main/rc/function-built-in-class-compound-list-comprehension.ipynb)  \n",
    "\n",
    "                           - [dict](https://nbviewer.jupyter.org/github/SeanOhAileasa/fubar-python/blob/main/rc/function-built-in-class-compound-list-comprehension-dict.ipynb) \n",
    "\n",
    "                            - [set](https://nbviewer.jupyter.org/github/SeanOhAileasa/fubar-python/blob/main/rc/function-built-in-class-compound-list-comprehension-set.ipynb) \n",
    "\n",
    "                        - [generator](https://nbviewer.jupyter.org/github/SeanOhAileasa/fubar-python/blob/main/rc/function-built-in-class-compound-list-comprehension-generator.ipynb) \n",
    "\n",
    "                    - [tuple](https://nbviewer.jupyter.org/github/SeanOhAileasa/fubar-python/blob/main/rc/function-built-in-class-compound-tuple.ipynb) \n",
    "\n",
    "                    - [dict](https://nbviewer.jupyter.org/github/SeanOhAileasa/fubar-python/blob/main/rc/function-built-in-class-compound-dict.ipynb) \n",
    "\n",
    "                        - [method](https://nbviewer.jupyter.org/github/SeanOhAileasa/fubar-python/blob/main/rc/function-built-in-class-compound-dict-method-intentionally-blank.ipynb)\n",
    "\n",
    "                            - [.values](https://nbviewer.jupyter.org/github/SeanOhAileasa/fubar-python/blob/main/rc/function-built-in-class-compound-dict-method-values.ipynb) \n",
    "\n",
    "                    - [set](https://nbviewer.jupyter.org/github/SeanOhAileasa/fubar-python/blob/main/rc/function-built-in-class-compound-set.ipynb) \n",
    "\n",
    "                        - [method](https://nbviewer.jupyter.org/github/SeanOhAileasa/fubar-python/blob/main/rc/function-built-in-class-compound-set-method-intentionally-blank.ipynb) \n",
    "\n",
    "                            - [.union](https://nbviewer.jupyter.org/github/SeanOhAileasa/fubar-python/blob/main/rc/function-built-in-class-compound-set-method-union.ipynb) \n",
    "                            [.intersection](https://nbviewer.jupyter.org/github/SeanOhAileasa/fubar-python/blob/main/rc/function-built-in-class-compound-set-method-intersection.ipynb) \n",
    "                            [.difference](https://nbviewer.jupyter.org/github/SeanOhAileasa/fubar-python/blob/main/rc/function-built-in-class-compound-set-method-difference.ipynb) \n",
    "                            [.symmetric_difference](https://nbviewer.jupyter.org/github/SeanOhAileasa/fubar-python/blob/main/rc/function-built-in-class-compound-set-method-symmetric_difference.ipynb) \n",
    "\n",
    "- [errors-exceptions](https://nbviewer.jupyter.org/github/SeanOhAileasa/fubar-python/blob/main/rc/errors-exceptions.ipynb) \n",
    "[try-except](https://nbviewer.jupyter.org/github/SeanOhAileasa/fubar-python/blob/main/rc/errors-exceptions-try-except.ipynb) \n",
    "[raise](https://nbviewer.jupyter.org/github/SeanOhAileasa/fubar-python/blob/main/rc/errors-exceptions-raise.ipynb) \n",
    "\n",
    "- [module](https://nbviewer.jupyter.org/github/SeanOhAileasa/fubar-python/blob/main/rc/module.ipynb) \n",
    "\n",
    "    - [binary-data-services](https://nbviewer.jupyter.org/github/SeanOhAileasa/fubar-python/blob/main/rc/module-binary-data-services.ipynb) \n",
    "\n",
    "        - [struct](https://nbviewer.jupyter.org/github/SeanOhAileasa/fubar-python/blob/main/rc/module-binary-data-services-struct.ipynb) \n",
    "\n",
    "            - [function](https://nbviewer.jupyter.org/github/SeanOhAileasa/fubar-python/blob/main/rc/module-binary-data-services-struct-function-intentionally-blank.ipynb) \n",
    "\n",
    "                - [pack](https://nbviewer.jupyter.org/github/SeanOhAileasa/fubar-python/blob/main/rc/module-binary-data-services-struct-function-pack.ipynb) \n",
    "\n",
    "                - [unpack](https://nbviewer.jupyter.org/github/SeanOhAileasa/fubar-python/blob/main/rc/module-binary-data-services-struct-function-unpack.ipynb) \n",
    "\n",
    "    - [data-types](https://nbviewer.jupyter.org/github/SeanOhAileasa/fubar-python/blob/main/rc/module-data-types.ipynb) \n",
    "\n",
    "        - [array](https://nbviewer.jupyter.org/github/SeanOhAileasa/fubar-python/blob/main/rc/module-data-types-array.ipynb) \n",
    "\n",
    "            - [class](https://nbviewer.jupyter.org/github/SeanOhAileasa/fubar-python/blob/main/rc/module-data-types-array-class-intentionally-blank.ipynb) \n",
    "            [array](https://nbviewer.jupyter.org/github/SeanOhAileasa/fubar-python/blob/main/rc/module-data-types-array-class-array.ipynb) \n",
    "\n",
    "                - [method](#)  <!-- - [method](https://nbviewer.jupyter.org/github/SeanOhAileasa/fubar-python/blob/main/rc/module-data-types-array-class-array-method-intentionally-blank.ipynb)  -->\n",
    "                [.count](#) <!-- - [count](https://nbviewer.jupyter.org/github/SeanOhAileasa/fubar-python/blob/main/rc/module-data-types-array-class-array-method-count.ipynb)  -->\n",
    "\n",
    "        - [collections](https://nbviewer.jupyter.org/github/SeanOhAileasa/fubar-python/blob/main/rc/module-data-types-collections.ipynb) \n",
    "\n",
    "            - [class](https://nbviewer.jupyter.org/github/SeanOhAileasa/fubar-python/blob/main/rc/module-data-types-collections-class-intentionally-blank.ipynb) \n",
    "\n",
    "                - [Counter](https://nbviewer.jupyter.org/github/SeanOhAileasa/fubar-python/blob/main/rc/module-data-types-collections-class-Counter.ipynb) \n",
    "\n",
    "    - [file-formats](https://nbviewer.jupyter.org/github/SeanOhAileasa/fubar-python/blob/main/rc/module-file-formats.ipynb) \n",
    "\n",
    "        - [csv](https://nbviewer.jupyter.org/github/SeanOhAileasa/fubar-python/blob/main/rc/module-file-formats-csv.ipynb) \n",
    "\n",
    "    - [numeric-mathematical](https://nbviewer.jupyter.org/github/SeanOhAileasa/fubar-python/blob/main/rc/module-numeric-mathematical.ipynb) \n",
    "\n",
    "        - [decimal](https://nbviewer.jupyter.org/github/SeanOhAileasa/fubar-python/blob/main/rc/module-numeric-mathematical-decimal.ipynb) \n",
    "\n",
    "            - [class](https://nbviewer.jupyter.org/github/SeanOhAileasa/fubar-python/blob/main/rc/module-numeric-mathematical-decimal-class-intentionally-blank.ipynb) \n",
    "\n",
    "                - [Decimal](https://nbviewer.jupyter.org/github/SeanOhAileasa/fubar-python/blob/main/rc/module-numeric-mathematical-decimal-class-Decimal.ipynb) \n",
    "\n",
    "                    - [method](https://nbviewer.jupyter.org/github/SeanOhAileasa/fubar-python/blob/main/rc/module-numeric-mathematical-decimal-class-Decimal-method-intentionally-blank.ipynb) \n",
    "                    [.sqrt](https://nbviewer.jupyter.org/github/SeanOhAileasa/fubar-python/blob/main/rc/module-numeric-mathematical-decimal-class-Decimal-method-sqrt.ipynb) \n",
    "\n",
    "            - [function](https://nbviewer.jupyter.org/github/SeanOhAileasa/fubar-python/blob/main/rc/module-numeric-mathematical-decimal-function-intentionally-blank.ipynb) \n",
    "\n",
    "                - [getcontext](https://nbviewer.jupyter.org/github/SeanOhAileasa/fubar-python/blob/main/rc/module-numeric-mathematical-decimal-function-getcontext.ipynb)  \n",
    "\n",
    "        - [math](https://nbviewer.jupyter.org/github/SeanOhAileasa/fubar-python/blob/main/rc/module-numeric-mathematical-math.ipynb) \n",
    "\n",
    "            - [function](https://nbviewer.jupyter.org/github/SeanOhAileasa/fubar-python/blob/main/rc/module-numeric-mathematical-math-function-intentionally-blank.ipynb) \n",
    "\n",
    "                - [sqrt](https://nbviewer.jupyter.org/github/SeanOhAileasa/fubar-python/blob/main/rc/module-numeric-mathematical-math-function-sqrt.ipynb) \n",
    "\n",
    "    - [python-runtime-services](https://nbviewer.jupyter.org/github/SeanOhAileasa/fubar-python/blob/main/rc/module-python-runtime-services.ipynb) \n",
    "    \n",
    "        - [sys](https://nbviewer.jupyter.org/github/SeanOhAileasa/fubar-python/blob/main/rc/module-python-runtime-services-sys.ipynb) \n",
    "\n",
    "            - [name](https://nbviewer.jupyter.org/github/SeanOhAileasa/fubar-python/blob/main/rc/module-python-runtime-services-sys-name-intentionally-blank.ipynb) \n",
    "\n",
    "                - [path](https://nbviewer.jupyter.org/github/SeanOhAileasa/fubar-python/blob/main/rc/module-python-runtime-services-sys-name-path.ipynb) \n",
    "\n",
    "                    - [append-mode-r](https://nbviewer.jupyter.org/github/SeanOhAileasa/fubar-python/blob/main/rc/module-python-runtime-services-sys-name-path-append-mode-r-intentionally-blank.ipynb)\n",
    "                    \n",
    "                        - [py-module](https://nbviewer.jupyter.org/github/SeanOhAileasa/fubar-python/blob/main/rc/module-python-runtime-services-sys-name-path-append-mode-r-py-module.ipynb)\n",
    "\n",
    "                - [modules](https://nbviewer.jupyter.org/github/SeanOhAileasa/fubar-python/blob/main/rc/module-python-runtime-services-sys-name-modules.ipynb)\n",
    "\n",
    "        - [inspect](#) <!-- - [inspect](https://nbviewer.jupyter.org/github/SeanOhAileasa/fubar-python/blob/main/rc/module-python-runtime-services-inspeat.ipynb)  -->\n",
    "\n",
    "            - [function](#)  <!-- - [function](https://nbviewer.jupyter.org/github/SeanOhAileasa/fubar-python/blob/main/rc/module-python-runtime-services-inspeat-function-intentionally-blank.ipynb)  -->\n",
    "\n",
    "                - [getmodule](#) <!-- - [getmodule](https://nbviewer.jupyter.org/github/SeanOhAileasa/fubar-python/blob/main/rc/module-python-runtime-services-inspeat-function-getmodule.ipynb)  -->\n",
    "\n",
    "- [package](https://nbviewer.jupyter.org/github/SeanOhAileasa/fubar-python/blob/main/rc/package.ipynb)  <!-- &#x1F530; -->\n",
    "\n",
    "    - [standard-library](https://nbviewer.jupyter.org/github/SeanOhAileasa/fubar-python/blob/main/rc/package-standard-library-intentionally-blank.ipynb) \n",
    "\n",
    "        - [importlib](https://nbviewer.jupyter.org/github/SeanOhAileasa/fubar-python/blob/main/rc/package-standard-library-importlib.ipynb)  <!-- &#x1F530; -->\n",
    "\n",
    "            - [function](https://nbviewer.jupyter.org/github/SeanOhAileasa/fubar-python/blob/main/rc/package-standard-library-importlib-function-intentionally-blank.ipynb) \n",
    "\n",
    "                - [reload](https://nbviewer.jupyter.org/github/SeanOhAileasa/fubar-python/blob/main/rc/package-standard-library-importlib-function-reload.ipynb) <!-- &#x1F530; -->\n",
    "\n",
    "    - [third-party](https://nbviewer.jupyter.org/github/SeanOhAileasa/fubar-python/blob/main/rc/package-third-party-intentionally-blank.ipynb) \n",
    "\n",
    "        - [bs4](https://nbviewer.jupyter.org/github/SeanOhAileasa/fubar-python/blob/main/rc/package-third-party-bs4.ipynb) \n",
    "\n",
    "            - [module](https://nbviewer.jupyter.org/github/SeanOhAileasa/fubar-python/blob/main/rc/package-third-party-bs4-module-intentionally-blank.ipynb) \n",
    "\n",
    "                - [\\_\\_init\\_\\_](https://nbviewer.jupyter.org/github/SeanOhAileasa/fubar-python/blob/main/rc/package-third-party-bs4-module-__init__.ipynb) \n",
    "\n",
    "                    - [class](https://nbviewer.jupyter.org/github/SeanOhAileasa/fubar-python/blob/main/rc/package-third-party-bs4-module-__init__-class-intentionally-blank.ipynb) \n",
    "\n",
    "                        - [BeautifulSoup](https://nbviewer.jupyter.org/github/SeanOhAileasa/fubar-python/blob/main/rc/package-third-party-bs4-module-__init__-class-BeautifulSoup.ipynb) \n",
    "\n",
    "                - [element](https://nbviewer.jupyter.org/github/SeanOhAileasa/fubar-python/blob/main/rc/package-third-party-bs4-module-element.ipynb) \n",
    "\n",
    "                    - [class](https://nbviewer.jupyter.org/github/SeanOhAileasa/fubar-python/blob/main/rc/package-third-party-bs4-module-element-class-intentionally-blank.ipynb) \n",
    "                    [Tag](https://nbviewer.jupyter.org/github/SeanOhAileasa/fubar-python/blob/main/rc/package-third-party-bs4-module-element-class-Tag.ipynb) \n",
    "\n",
    "                        - [method](https://nbviewer.jupyter.org/github/SeanOhAileasa/fubar-python/blob/main/rc/package-third-party-bs4-module-element-class-Tag-method-intentionally-blank.ipynb) \n",
    "                        [.prettify](https://nbviewer.jupyter.org/github/SeanOhAileasa/fubar-python/blob/main/rc/package-third-party-bs4-module-element-class-Tag-method-prettify.ipynb) \n",
    "\n",
    "        - [matplotlib](https://nbviewer.jupyter.org/github/SeanOhAileasa/fubar-python/blob/main/rc/package-third-party-matplotlib.ipynb) \n",
    "\n",
    "            - [module](https://nbviewer.jupyter.org/github/SeanOhAileasa/fubar-python/blob/main/rc/package-third-party-matplotlib-module-intentionally-blank.ipynb) \n",
    "\n",
    "                - [\\_\\_init\\_\\_](https://nbviewer.jupyter.org/github/SeanOhAileasa/fubar-python/blob/main/rc/package-third-party-matplotlib-module-__init__.ipynb) \n",
    "\n",
    "                    - [class](https://nbviewer.jupyter.org/github/SeanOhAileasa/fubar-python/blob/main/rc/package-third-party-matplotlib-module-__init__-class-intentionally-blank.ipynb) \n",
    "                    [RcParams](https://nbviewer.jupyter.org/github/SeanOhAileasa/fubar-python/blob/main/rc/package-third-party-matplotlib-module-__init__-class-RcParams.ipynb) \n",
    "                    [instance](https://nbviewer.jupyter.org/github/SeanOhAileasa/fubar-python/blob/main/rc/package-third-party-matplotlib-module-__init__-class-RcParams-instance-intentionally-blank.ipynb) \n",
    "                    [rcParams](https://nbviewer.jupyter.org/github/SeanOhAileasa/fubar-python/blob/main/rc/package-third-party-matplotlib-module-__init__-class-RcParams-instance-rcParams.ipynb) \n",
    "\n",
    "                - [pyplot](https://nbviewer.jupyter.org/github/SeanOhAileasa/fubar-python/blob/main/rc/package-third-party-matplotlib-module-pyplot.ipynb) \n",
    "\n",
    "                    - [function](https://nbviewer.jupyter.org/github/SeanOhAileasa/fubar-python/blob/main/rc/package-third-party-matplotlib-module-pyplot-function-intentionally-blank.ipynb) \n",
    "\n",
    "                        - [bar](#) <!-- [bar](https://nbviewer.jupyter.org/github/SeanOhAileasa/fubar-python/blob/main/rc/package-third-party-matplotlib-module-pyplot-function-bar.ipynb)  -->\n",
    "\n",
    "                        - [hist](https://nbviewer.jupyter.org/github/SeanOhAileasa/fubar-python/blob/main/rc/package-third-party-matplotlib-module-pyplot-function-hist.ipynb) \n",
    "\n",
    "                        - [legend](https://nbviewer.jupyter.org/github/SeanOhAileasa/fubar-python/blob/main/rc/package-third-party-matplotlib-module-pyplot-function-legend.ipynb) \n",
    "\n",
    "                        - [plot](https://nbviewer.jupyter.org/github/SeanOhAileasa/fubar-python/blob/main/rc/package-third-party-matplotlib-module-pyplot-function-plot.ipynb) \n",
    "\n",
    "                        - [show](https://nbviewer.jupyter.org/github/SeanOhAileasa/fubar-python/blob/main/rc/package-third-party-matplotlib-module-pyplot-function-show.ipynb) \n",
    "\n",
    "                        - [scatter](https://nbviewer.jupyter.org/github/SeanOhAileasa/fubar-python/blob/main/rc/package-third-party-matplotlib-module-pyplot-function-scatter.ipynb) \n",
    "\n",
    "                        - [subplot](https://nbviewer.jupyter.org/github/SeanOhAileasa/fubar-python/blob/main/rc/package-third-party-matplotlib-module-pyplot-function-subplot.ipynb) \n",
    "\n",
    "                        - [title](https://nbviewer.jupyter.org/github/SeanOhAileasa/fubar-python/blob/main/rc/package-third-party-matplotlib-module-pyplot-function-title.ipynb) \n",
    "\n",
    "                        - [xlabel](https://nbviewer.jupyter.org/github/SeanOhAileasa/fubar-python/blob/main/rc/package-third-party-matplotlib-module-pyplot-function-xlabel.ipynb) \n",
    "\n",
    "                        - [xlim](#) <!-- [xlim](https://nbviewer.jupyter.org/github/SeanOhAileasa/fubar-python/blob/main/rc/package-third-party-matplotlib-module-pyplot-function-xlim.ipynb)  -->\n",
    "\n",
    "                        - [ylabel](https://nbviewer.jupyter.org/github/SeanOhAileasa/fubar-python/blob/main/rc/package-third-party-matplotlib-module-pyplot-function-ylabel.ipynb)  \n",
    "\n",
    "                        - [ylim](#) <!-- [ylim](https://nbviewer.jupyter.org/github/SeanOhAileasa/fubar-python/blob/main/rc/package-third-party-matplotlib-module-pyplot-function-ylim.ipynb)  -->\n",
    "\n",
    "            - [subpackage](https://nbviewer.jupyter.org/github/SeanOhAileasa/fubar-python/blob/main/rc/package-third-party-matplotlib-subpackage-intentionally-blank.ipynb) \n",
    "\n",
    "                - [style](https://nbviewer.jupyter.org/github/SeanOhAileasa/fubar-python/blob/main/rc/package-third-party-matplotlib-subpackage-style.ipynb) \n",
    "\n",
    "                    - [module](https://nbviewer.jupyter.org/github/SeanOhAileasa/fubar-python/blob/main/rc/package-third-party-matplotlib-subpackage-style-module-intentionally-blank.ipynb) \n",
    "\n",
    "                        - [\\_\\_init\\_\\_](https://nbviewer.jupyter.org/github/SeanOhAileasa/fubar-python/blob/main/rc/package-third-party-matplotlib-subpackage-style-module-__init__.ipynb) \n",
    "\n",
    "                        - [core](https://nbviewer.jupyter.org/github/SeanOhAileasa/fubar-python/blob/main/rc/package-third-party-matplotlib-subpackage-style-module-core.ipynb) \n",
    "\n",
    "                            - [function](https://nbviewer.jupyter.org/github/SeanOhAileasa/fubar-python/blob/main/rc/package-third-party-matplotlib-subpackage-style-module-core-function-intentionally-blank.ipynb) \n",
    "\n",
    "                                - [use](https://nbviewer.jupyter.org/github/SeanOhAileasa/fubar-python/blob/main/rc/package-third-party-matplotlib-subpackage-style-module-core-function-use.ipynb)  \n",
    "\n",
    "        - [numpy](https://nbviewer.jupyter.org/github/SeanOhAileasa/fubar-python/blob/main/rc/package-third-party-numpy.ipynb) \n",
    "\n",
    "            - [module](https://nbviewer.jupyter.org/github/SeanOhAileasa/fubar-python/blob/main/rc/package-third-party-numpy-module-intentionally-blank.ipynb) \n",
    "\n",
    "                - [\\_\\_init\\_\\_](https://nbviewer.jupyter.org/github/SeanOhAileasa/fubar-python/blob/main/rc/package-third-party-numpy-module-__init__.ipynb) \n",
    "\n",
    "            - [subpackage](https://nbviewer.jupyter.org/github/SeanOhAileasa/fubar-python/blob/main/rc/package-third-party-numpy-subpackage-intentionally-blank.ipynb) \n",
    "\n",
    "                - [core](https://nbviewer.jupyter.org/github/SeanOhAileasa/fubar-python/blob/main/rc/package-third-party-numpy-subpackage-core.ipynb) \n",
    "\n",
    "                    - [module](https://nbviewer.jupyter.org/github/SeanOhAileasa/fubar-python/blob/main/rc/package-third-party-numpy-subpackage-core-module-intentionally-blank.ipynb) \n",
    "\n",
    "                        - [\\_\\_init\\_\\_](https://nbviewer.jupyter.org/github/SeanOhAileasa/fubar-python/blob/main/rc/package-third-party-numpy-subpackage-core-module-__init__.ipynb) \n",
    "\n",
    "                        - [function_base](#) <!-- [function_base](https://nbviewer.jupyter.org/github/SeanOhAileasa/fubar-python/blob/main/rc/package-third-party-numpy-subpackage-core-module-function_base.ipynb)  -->\n",
    "                            \n",
    "                            - [function](#)  <!-- [function](https://nbviewer.jupyter.org/github/SeanOhAileasa/fubar-python/blob/main/rc/package-third-party-numpy-subpackage-core-module-function_base-function-intentionally-blank.ipynb)  -->\n",
    "\n",
    "                                - [linspace](#) <!-- [function_base](https://nbviewer.jupyter.org/github/SeanOhAileasa/fubar-python/blob/main/rc/package-third-party-numpy-subpackage-core-module-function_base-function-linspace.ipynb)  -->\n",
    "\n",
    "                        - [getlimits](#) <!-- [getlimits](https://nbviewer.jupyter.org/github/SeanOhAileasa/fubar-python/blob/main/rc/package-third-party-numpy-subpackage-core-module-getlimits.ipynb)  -->\n",
    "\n",
    "                            - [class](#)  <!-- - [class](https://nbviewer.jupyter.org/github/SeanOhAileasa/fubar-python/blob/main/rc/package-third-party-numpy-subpackage-core-module-getlimits-class-intentionally-blank.ipynb)  -->\n",
    "                            [finfo](#) <!-- - [finfo](https://nbviewer.jupyter.org/github/SeanOhAileasa/fubar-python/blob/main/rc/package-third-party-numpy-subpackage-core-module-getlimits-class-finfo.ipynb)  -->\n",
    "\n",
    "                                - [attribute](#)  <!-- - [attribute](https://nbviewer.jupyter.org/github/SeanOhAileasa/fubar-python/blob/main/rc/package-third-party-numpy-subpackage-core-module-getlimits-class-finfo-attribute-intentionally-blank.ipynb)  -->\n",
    "                                [.min](#) <!-- - [min](https://nbviewer.jupyter.org/github/SeanOhAileasa/fubar-python/blob/main/rc/package-third-party-numpy-subpackage-core-module-getlimits-class-finfo-attribute-min.ipynb)  -->\n",
    "                                [.max](#) <!-- - [max](https://nbviewer.jupyter.org/github/SeanOhAileasa/fubar-python/blob/main/rc/package-third-party-numpy-subpackage-core-module-getlimits-class-finfo-attribute-max.ipynb)  -->\n",
    "\n",
    "                    - [C-extension](https://nbviewer.jupyter.org/github/SeanOhAileasa/fubar-python/blob/main/rc/package-third-party-numpy-subpackage-core-C-extension-intentionally-blank.ipynb) \n",
    "\n",
    "                        - [pi](https://nbviewer.jupyter.org/github/SeanOhAileasa/fubar-python/blob/main/rc/package-third-party-numpy-subpackage-core-C-extension-pi.ipynb) \n",
    "\n",
    "                        - [function](https://nbviewer.jupyter.org/github/SeanOhAileasa/fubar-python/blob/main/rc/package-third-party-numpy-subpackage-core-C-extension-function-intentionally-blank.ipynb) \n",
    "\n",
    "                            - [arange](https://nbviewer.jupyter.org/github/SeanOhAileasa/fubar-python/blob/main/rc/package-third-party-numpy-subpackage-core-C-extension-function-arange.ipynb) \n",
    "                            \n",
    "                            - [array](https://nbviewer.jupyter.org/github/SeanOhAileasa/fubar-python/blob/main/rc/package-third-party-numpy-subpackage-core-C-extension-function-array.ipynb) \n",
    "\n",
    "                            - [cos](https://nbviewer.jupyter.org/github/SeanOhAileasa/fubar-python/blob/main/rc/package-third-party-numpy-subpackage-core-C-extension-function-cos.ipynb) \n",
    "\n",
    "                            - [reshape](https://nbviewer.jupyter.org/github/SeanOhAileasa/fubar-python/blob/main/rc/package-third-party-numpy-subpackage-core-C-extension-function-reshape.ipynb) \n",
    "\n",
    "                            - [sin](https://nbviewer.jupyter.org/github/SeanOhAileasa/fubar-python/blob/main/rc/package-third-party-numpy-subpackage-core-C-extension-function-sin.ipynb) \n",
    "\n",
    "                - [random](https://nbviewer.jupyter.org/github/SeanOhAileasa/fubar-python/blob/main/rc/package-third-party-numpy-subpackage-random.ipynb) \n",
    "                [documentation](https://nbviewer.jupyter.org/github/SeanOhAileasa/fubar-python/blob/main/rc/package-third-party-numpy-subpackage-random-documentation.ipynb) \n",
    "\n",
    "                    - [module](https://nbviewer.jupyter.org/github/SeanOhAileasa/fubar-python/blob/main/rc/package-third-party-numpy-subpackage-random-module-intentionally-blank.ipynb) \n",
    "\n",
    "                        - [\\_\\_init\\_\\_](https://nbviewer.jupyter.org/github/SeanOhAileasa/fubar-python/blob/main/rc/package-third-party-numpy-subpackage-random-module-__init__.ipynb) \n",
    "\n",
    "                    - [C-extension](https://nbviewer.jupyter.org/github/SeanOhAileasa/fubar-python/blob/main/rc/package-third-party-numpy-subpackage-random-C-extension-intentionally-blank.ipynb) \n",
    "\n",
    "                        - [class](https://nbviewer.jupyter.org/github/SeanOhAileasa/fubar-python/blob/main/rc/package-third-party-numpy-subpackage-random-C-extension-class-intentionally-blank.ipynb)  \n",
    "                        [mersenne-twister](https://nbviewer.jupyter.org/github/SeanOhAileasa/fubar-python/blob/main/rc/package-third-party-numpy-subpackage-random-C-extension-class-mersenne-twister.ipynb)  \n",
    "                        [permuted-congruential-generator](https://nbviewer.jupyter.org/github/SeanOhAileasa/fubar-python/blob/main/rc/package-third-party-numpy-subpackage-random-C-extension-class-permuted-congruential-generator.ipynb)  \n",
    "                        [SeedSequence](https://nbviewer.jupyter.org/github/SeanOhAileasa/fubar-python/blob/main/rc/package-third-party-numpy-subpackage-random-C-extension-class-SeedSequence.ipynb) \n",
    "\n",
    "                        - [class-legacy](https://nbviewer.jupyter.org/github/SeanOhAileasa/fubar-python/blob/main/rc/package-third-party-numpy-subpackage-random-C-extension-legacy-intentionally-blank.ipynb) \n",
    "                        [RandomState](https://nbviewer.jupyter.org/github/SeanOhAileasa/fubar-python/blob/main/rc/package-third-party-numpy-subpackage-random-C-extension-legacy-RandomState.ipynb) \n",
    "\n",
    "                            - [method](https://nbviewer.jupyter.org/github/SeanOhAileasa/fubar-python/blob/main/rc/package-third-party-numpy-subpackage-random-C-extension-legacy-RandomState-method-intentionally-blank.ipynb) \n",
    "                            [.randint](https://nbviewer.jupyter.org/github/SeanOhAileasa/fubar-python/blob/main/rc/package-third-party-numpy-subpackage-random-C-extension-legacy-RandomState-method-randint.ipynb) \n",
    "\n",
    "                        - [class-parent](https://nbviewer.jupyter.org/github/SeanOhAileasa/fubar-python/blob/main/rc/package-third-party-numpy-subpackage-random-C-extension-parent-intentionally-blank.ipynb) \n",
    "                        [BitGenerator](https://nbviewer.jupyter.org/github/SeanOhAileasa/fubar-python/blob/main/rc/package-third-party-numpy-subpackage-random-C-extension-parent-BitGenerator.ipynb) \n",
    "\n",
    "                            - [Generator](https://nbviewer.jupyter.org/github/SeanOhAileasa/fubar-python/blob/main/rc/package-third-party-numpy-subpackage-random-C-extension-parent-BitGenerator-class-Generator.ipynb) \n",
    "\n",
    "                                - [method-constructor](https://nbviewer.jupyter.org/github/SeanOhAileasa/fubar-python/blob/main/rc/package-third-party-numpy-subpackage-random-C-extension-parent-BitGenerator-class-Generator-method-intentionally-blank.ipynb) \n",
    "                                [default_rng](https://nbviewer.jupyter.org/github/SeanOhAileasa/fubar-python/blob/main/rc/package-third-party-numpy-subpackage-random-C-extension-parent-BitGenerator-class-Generator-method-default_rng.ipynb) \n",
    "\n",
    "                                - [method-simple-random](https://nbviewer.jupyter.org/github/SeanOhAileasa/fubar-python/blob/main/rc/package-third-party-numpy-subpackage-random-C-extension-parent-BitGenerator-class-Generator-simple-random-intentionally-blank.ipynb) \n",
    "                                [.integers](https://nbviewer.jupyter.org/github/SeanOhAileasa/fubar-python/blob/main/rc/package-third-party-numpy-subpackage-random-C-extension-parent-BitGenerator-class-Generator-simple-random-integers.ipynb) \n",
    "                                \n",
    "                                - [method-permutations](https://nbviewer.jupyter.org/github/SeanOhAileasa/fubar-python/blob/main/rc/package-third-party-numpy-subpackage-random-C-extension-parent-BitGenerator-class-Generator-permutations-intentionally-blank.ipynb) \n",
    "                                [.shuffle](https://nbviewer.jupyter.org/github/SeanOhAileasa/fubar-python/blob/main/rc/package-third-party-numpy-subpackage-random-C-extension-parent-BitGenerator-class-Generator-permutations-shuffle.ipynb) \n",
    "                                [permutation](https://nbviewer.jupyter.org/github/SeanOhAileasa/fubar-python/blob/main/rc/package-third-party-numpy-subpackage-random-C-extension-parent-BitGenerator-class-Generator-permutations-permutation.ipynb) \n",
    "\n",
    "                            - [binomial](https://nbviewer.jupyter.org/github/SeanOhAileasa/fubar-python/blob/main/rc/package-third-party-numpy-subpackage-random-C-extension-function-binomial.ipynb) \n",
    "\n",
    "                            - [randint](https://nbviewer.jupyter.org/github/SeanOhAileasa/fubar-python/blob/main/rc/package-third-party-numpy-subpackage-random-C-extension-function-randint.ipynb) \n",
    "\n",
    "                            - [uniform](https://nbviewer.jupyter.org/github/SeanOhAileasa/fubar-python/blob/main/rc/package-third-party-numpy-subpackage-random-C-extension-function-uniform.ipynb) \n",
    "\n",
    "        - [pandas](https://nbviewer.jupyter.org/github/SeanOhAileasa/fubar-python/blob/main/rc/package-third-party-pandas.ipynb) \n",
    "\n",
    "            - [module](https://nbviewer.jupyter.org/github/SeanOhAileasa/fubar-python/blob/main/rc/package-third-party-pandas-module-intentionally-blank.ipynb) \n",
    "\n",
    "                - [\\_\\_init\\_\\_](https://nbviewer.jupyter.org/github/SeanOhAileasa/fubar-python/blob/main/rc/package-third-party-pandas-module-__init__.ipynb) \n",
    "\n",
    "            - [subpackage](https://nbviewer.jupyter.org/github/SeanOhAileasa/fubar-python/blob/main/rc/package-third-party-pandas-subpackage-intentionally-blank.ipynb) \n",
    "\n",
    "                - [core](https://nbviewer.jupyter.org/github/SeanOhAileasa/fubar-python/blob/main/rc/package-third-party-pandas-subpackage-core.ipynb) \n",
    "\n",
    "                    - [module](https://nbviewer.jupyter.org/github/SeanOhAileasa/fubar-python/blob/main/rc/package-third-party-pandas-subpackage-core-module-intentionally-blank.ipynb) \n",
    "\n",
    "                        - [\\_\\_init\\_\\_](https://nbviewer.jupyter.org/github/SeanOhAileasa/fubar-python/blob/main/rc/package-third-party-pandas-subpackage-core-module-__init__.ipynb) \n",
    "\n",
    "                        - [frame](#) <!-- [frame](https://nbviewer.jupyter.org/github/SeanOhAileasa/fubar-python/blob/main/rc/package-third-party-pandas-subpackage-core-module-frame.ipynb)  -->\n",
    "\n",
    "                            - [class](#)  <!-- - [class](https://nbviewer.jupyter.org/github/SeanOhAileasa/fubar-python/blob/main/rc/package-third-party-pandas-subpackage-core-module-frame-class-intentionally-blank.ipynb)  -->\n",
    "                            [DataFrame](#) <!-- - [DataFrame*\"](https://nbviewer.jupyter.org/github/SeanOhAileasa/fubar-python/blob/main/rc/package-third-party-pandas-subpackage-core-module-frame-class-DataFrame.ipynb)  -->\n",
    "                                - > NDFrame\n",
    "\n",
    "                                - [method](#)  <!-- - [method](https://nbviewer.jupyter.org/github/SeanOhAileasa/fubar-python/blob/main/rc/package-third-party-pandas-subpackage-core-module-frame-class-DataFrame-method-intentionally-blank.ipynb)  -->\n",
    "                                [count](#) <!-- - [count](https://nbviewer.jupyter.org/github/SeanOhAileasa/fubar-python/blob/main/rc/package-third-party-pandas-subpackage-core-module-frame-class-DataFrame-method-count.ipynb)  -->\n",
    "\n",
    "                                - [name](#)  <!-- - [name](https://nbviewer.jupyter.org/github/SeanOhAileasa/fubar-python/blob/main/rc/package-third-party-pandas-subpackage-core-module-frame-class-DataFrame-name-intentionally-blank.ipynb)  -->\n",
    "                                [sum](#) <!-- - [sum](https://nbviewer.jupyter.org/github/SeanOhAileasa/fubar-python/blob/main/rc/package-third-party-pandas-subpackage-core-module-frame-class-DataFrame-name-sum.ipynb)  -->\n",
    "\n",
    "                        - [generic](#) <!-- - [generic](https://nbviewer.jupyter.org/github/SeanOhAileasa/fubar-python/blob/main/rc/package-third-party-pandas-subpackage-core-module-generic.ipynb)  -->\n",
    "\n",
    "                            - [class](#)  <!-- - [class](https://nbviewer.jupyter.org/github/SeanOhAileasa/fubar-python/blob/main/rc/package-third-party-pandas-subpackage-core-module-generic-class-intentionally-blank.ipynb)  -->\n",
    "                            [NDFrame](#) <!-- - [NDFrame(PandasObject,SelectionMixin,indexing.IndexingMixin](https://nbviewer.jupyter.org/github/SeanOhAileasa/fubar-python/blob/main/rc/package-third-party-pandas-subpackage-core-module-generic-class-NDFrame.ipynb)  -->\n",
    "                                - > PandasObject\n",
    "                                    - > SelectionMixin\n",
    "                                        - > indexing.IndexingMixin\n",
    "\n",
    "                                - [method](#)  <!-- - [method](https://nbviewer.jupyter.org/github/SeanOhAileasa/fubar-python/blob/main/rc/package-third-party-pandas-subpackage-core-module-generic-class-NDFrame-method-intentionally-blank.ipynb)  -->\n",
    "                                [.describe](#) <!-- - [.describe](https://nbviewer.jupyter.org/github/SeanOhAileasa/fubar-python/blob/main/rc/package-third-party-pandas-subpackage-core-module-generic-class-NDFrame-method-describe.ipynb)  -->\n",
    "                                [.head](#) <!-- - [.head](https://nbviewer.jupyter.org/github/SeanOhAileasa/fubar-python/blob/main/rc/package-third-party-pandas-subpackage-core-module-generic-class-NDFrame-method-head.ipynb)  -->\n",
    "                                [.tail](#) <!-- - [.tail](https://nbviewer.jupyter.org/github/SeanOhAileasa/fubar-python/blob/main/rc/package-third-party-pandas-subpackage-core-module-generic-class-NDFrame-method-tail.ipynb)  -->\n",
    "                                [.to_csv](#) <!-- - [.to_csv](https://nbviewer.jupyter.org/github/SeanOhAileasa/fubar-python/blob/main/rc/package-third-party-pandas-subpackage-core-module-generic-class-NDFrame-method-to_csv.ipynb)  -->\n",
    "\n",
    "                        - [indexing](https://nbviewer.jupyter.org/github/SeanOhAileasa/fubar-python/blob/main/rc/package-third-party-pandas-subpackage-core-module-indexing.ipynb) \n",
    "\n",
    "                            - [class](https://nbviewer.jupyter.org/github/SeanOhAileasa/fubar-python/blob/main/rc/package-third-party-pandas-subpackage-core-module-indexing-class-intentionally-blank.ipynb) \n",
    "                            [IndexingMixin](https://nbviewer.jupyter.org/github/SeanOhAileasa/fubar-python/blob/main/rc/package-third-party-pandas-subpackage-core-module-indexing-class-IndexingMixin.ipynb) \n",
    "\n",
    "                                - [method](https://nbviewer.jupyter.org/github/SeanOhAileasa/fubar-python/blob/main/rc/package-third-party-pandas-subpackage-core-module-indexing-class-IndexingMixin-method-intentionally-blank.ipynb) \n",
    "                                [.at](#) <!-- [.at](https://nbviewer.jupyter.org/github/SeanOhAileasa/fubar-python/blob/main/rc/package-third-party-pandas-subpackage-core-module-indexing-class-IndexingMixin-method-at.ipynb)  ...~/pda-pandas-iris/panda-iris-dataset.ipynb -->\n",
    "                                [.iloc](https://nbviewer.jupyter.org/github/SeanOhAileasa/fubar-python/blob/main/rc/package-third-party-pandas-subpackage-core-module-indexing-class-IndexingMixin-method-iloc.ipynb) \n",
    "                                [.loc](https://nbviewer.jupyter.org/github/SeanOhAileasa/fubar-python/blob/main/rc/package-third-party-pandas-subpackage-core-module-indexing-class-IndexingMixin-method-loc.ipynb) \n",
    "\n",
    "                        - [series](#) <!-- - [series](https://nbviewer.jupyter.org/github/SeanOhAileasa/fubar-python/blob/main/rc/package-third-party-pandas-subpackage-core-module-series.ipynb)  -->\n",
    "\n",
    "                            - [class](#)  <!-- - [class](https://nbviewer.jupyter.org/github/SeanOhAileasa/fubar-python/blob/main/rc/package-third-party-pandas-subpackage-core-module-series-class-intentionally-blank.ipynb)  -->\n",
    "                            [Series](#) <!-- - [Series](https://nbviewer.jupyter.org/github/SeanOhAileasa/fubar-python/blob/main/rc/package-third-party-pandas-subpackage-core-module-generic-class-Series.ipynb)  -->\n",
    "                                - > base.IndexOpsMixin\n",
    "                                    - > generic.NDFrame\n",
    "\n",
    "                - [io](https://nbviewer.jupyter.org/github/SeanOhAileasa/fubar-python/blob/main/rc/package-third-party-pandas-subpackage-io.ipynb) \n",
    "\n",
    "                    - [module](https://nbviewer.jupyter.org/github/SeanOhAileasa/fubar-python/blob/main/rc/package-third-party-pandas-subpackage-io-module-intentionally-blank.ipynb) \n",
    "\n",
    "                        - [\\_\\_init\\_\\_](https://nbviewer.jupyter.org/github/SeanOhAileasa/fubar-python/blob/main/rc/package-third-party-pandas-subpackage-io-module-__init__.ipynb) \n",
    "\n",
    "                        - [parsers](https://nbviewer.jupyter.org/github/SeanOhAileasa/fubar-python/blob/main/rc/package-third-party-pandas-subpackage-io-module-parsers.ipynb) \n",
    "\n",
    "                            - [function](https://nbviewer.jupyter.org/github/SeanOhAileasa/fubar-python/blob/main/rc/package-third-party-pandas-subpackage-io-module-parsers-function-intentionally-blank.ipynb) \n",
    "\n",
    "                                - [read_csv](https://nbviewer.jupyter.org/github/SeanOhAileasa/fubar-python/blob/main/rc/package-third-party-pandas-subpackage-io-module-parsers-function-read_csv.ipynb) \n",
    "\n",
    "        - [requests](https://nbviewer.jupyter.org/github/SeanOhAileasa/fubar-python/blob/main/rc/package-third-party-requests.ipynb) \n",
    "\n",
    "            - [module](https://nbviewer.jupyter.org/github/SeanOhAileasa/fubar-python/blob/main/rc/package-third-party-requests-module-intentionally-blank.ipynb) \n",
    "\n",
    "                - [api](https://nbviewer.jupyter.org/github/SeanOhAileasa/fubar-python/blob/main/rc/package-third-party-requests-module-api.ipynb) \n",
    "\n",
    "                    - [function](https://nbviewer.jupyter.org/github/SeanOhAileasa/fubar-python/blob/main/rc/package-third-party-requests-module-api-function-intentionally-blank.ipynb) \n",
    "\n",
    "                        - [get](https://nbviewer.jupyter.org/github/SeanOhAileasa/fubar-python/blob/main/rc/package-third-party-requests-module-api-function-get.ipynb) \n",
    "\n",
    "                - [models](https://nbviewer.jupyter.org/github/SeanOhAileasa/fubar-python/blob/main/rc/package-third-party-requests-module-models.ipynb) \n",
    "\n",
    "                    - [class](https://nbviewer.jupyter.org/github/SeanOhAileasa/fubar-python/blob/main/rc/package-third-party-requests-module-models-class-intentionally-blank.ipynb) \n",
    "                    [Response](https://nbviewer.jupyter.org/github/SeanOhAileasa/fubar-python/blob/main/rc/package-third-party-requests-module-models-class-Response.ipynb) \n",
    "                    [@property](https://nbviewer.jupyter.org/github/SeanOhAileasa/fubar-python/blob/main/rc/package-third-party-requests-module-models-class-Response-property-intentionally-blank.ipynb) \n",
    "                    [content](https://nbviewer.jupyter.org/github/SeanOhAileasa/fubar-python/blob/main/rc/package-third-party-requests-module-models-class-Response-property-content.ipynb) \n",
    "\n",
    "        - [sklearn](https://nbviewer.jupyter.org/github/SeanOhAileasa/fubar-python/blob/main/rc/package-third-party-sklearn.ipynb) \n",
    "\n",
    "            - [module](https://nbviewer.jupyter.org/github/SeanOhAileasa/fubar-python/blob/main/rc/package-third-party-sklearn-module-intentionally-blank.ipynb) \n",
    "\n",
    "                - [\\_\\_init\\_\\_](https://nbviewer.jupyter.org/github/SeanOhAileasa/fubar-python/blob/main/rc/package-third-party-sklearn-module-__init__.ipynb) \n",
    "\n",
    "            - [subpackage](#)  <!-- - [subpackage](https://nbviewer.jupyter.org/github/SeanOhAileasa/fubar-python/blob/main/rc/package-third-party-sklearn-subpackage-intentionally-blank.ipynb)  -->\n",
    "\n",
    "                - [neighbors](#) <!-- - [neighbors](https://nbviewer.jupyter.org/github/SeanOhAileasa/fubar-python/blob/main/rc/package-third-party-sklearn-subpackage-neighbors.ipynb)  -->\n",
    "\n",
    "                    - [module](#)  <!-- - [module](https://nbviewer.jupyter.org/github/SeanOhAileasa/fubar-python/blob/main/rc/package-third-party-sklearn-subpackage-neighbors-module-intentionally-blank.ipynb)  -->\n",
    "\n",
    "                        - [\\_\\_init\\_\\_](#) <!-- - [\\_\\_init\\_\\_](https://nbviewer.jupyter.org/github/SeanOhAileasa/fubar-python/blob/main/rc/package-third-party-sklearn-subpackage-neighbors-module-__init__.ipynb)  -->\n",
    "\n",
    "                        - [\\_classification](#) <!-- - [\\_classification](https://nbviewer.jupyter.org/github/SeanOhAileasa/fubar-python/blob/main/rc/package-third-party-sklearn-subpackage-neighbors-module-_classification.ipynb)  -->\n",
    "\n",
    "                            - [class](#)  <!-- - [class](https://nbviewer.jupyter.org/github/SeanOhAileasa/fubar-python/blob/main/rc/package-third-party-sklearn-subpackage-neighbors-module-_classification-class-intentionally-blank.ipynb)  -->\n",
    "                            [KNeighborsClassifier](#) <!-- - [KNeighborsClassifier](https://nbviewer.jupyter.org/github/SeanOhAileasa/fubar-python/blob/main/rc/package-third-party-sklearn-subpackage-neighbors-module-_classification-class-KNeighborsClassifier-inherits-NeighborsBase-KNeighborsMixin-SupervisedIntegerMixin-ClassifierMixin.ipynb)  -->\n",
    "                                - > NeighborsBase \n",
    "                                    - > KNeighborsMixin \n",
    "                                        - > SupervisedIntegerMixin \n",
    "                                            - > ClassifierMixin\n",
    "\n",
    "                        - [\\_base](#) <!-- - [\\_base](https://nbviewer.jupyter.org/github/SeanOhAileasa/fubar-python/blob/main/rc/package-third-party-sklearn-subpackage-neighbors-module-_base.ipynb)  -->\n",
    "\n",
    "                            - [class](#)  <!-- - [class](https://nbviewer.jupyter.org/github/SeanOhAileasa/fubar-python/blob/main/rc/package-third-party-sklearn-subpackage-neighbors-module-_base-class-intentionally-blank.ipynb)  -->\n",
    "                            [SupervisedIntegerMixin](#) <!-- - [SupervisedIntegerMixin](https://nbviewer.jupyter.org/github/SeanOhAileasa/fubar-python/blob/main/rc/package-third-party-sklearn-subpackage-neighbors-module-_base-class-SupervisedIntegerMixin.ipynb)  -->\n",
    "\n",
    "                                - [method](#)  <!-- - [method](https://nbviewer.jupyter.org/github/SeanOhAileasa/fubar-python/blob/main/rc/package-third-party-sklearn-subpackage-neighbors-module-_base-class-SupervisedIntegerMixin-method-intentionally-blank.ipynb)  -->\n",
    "                                [.fit](#) <!-- - [head](https://nbviewer.jupyter.org/github/SeanOhAileasa/fubar-python/blob/main/rc/package-third-party-sklearn-subpackage-neighbors-module-_base-class-SupervisedIntegerMixin-method-fit.ipynb)  -->\n",
    "\n",
    "        - [scipy](https://nbviewer.jupyter.org/github/SeanOhAileasa/fubar-python/blob/main/rc/package-third-party-scipy.ipynb) \n",
    "\n",
    "            - [module](https://nbviewer.jupyter.org/github/SeanOhAileasa/fubar-python/blob/main/rc/package-third-party-scipy-module-intentionally-blank.ipynb) \n",
    "\n",
    "                - [\\_\\_init\\_\\_](https://nbviewer.jupyter.org/github/SeanOhAileasa/fubar-python/blob/main/rc/package-third-party-scipy-module-__init__.ipynb) \n",
    "\n",
    "            - [subpackage](https://nbviewer.jupyter.org/github/SeanOhAileasa/fubar-python/blob/main/rc/package-third-party-scipy-subpackage-intentionally-blank.ipynb) \n",
    "\n",
    "                - [stats](https://nbviewer.jupyter.org/github/SeanOhAileasa/fubar-python/blob/main/rc/package-third-party-scipy-subpackage-stats.ipynb) \n",
    "\n",
    "                    - [module](https://nbviewer.jupyter.org/github/SeanOhAileasa/fubar-python/blob/main/rc/package-third-party-scipy-subpackage-stats-module-intentionally-blank.ipynb) \n",
    "\n",
    "                        - [\\_\\_init\\_\\_](https://nbviewer.jupyter.org/github/SeanOhAileasa/fubar-python/blob/main/rc/package-third-party-scipy-subpackage-stats-module-__init__.ipynb) \n",
    "                    \n",
    "                        - [\\_distn\\_infrastructure](https://nbviewer.jupyter.org/github/SeanOhAileasa/fubar-python/blob/main/rc/package-third-party-scipy-subpackage-stats-module-_distn_infrastructure.ipynb) \n",
    "\n",
    "                            - [class](https://nbviewer.jupyter.org/github/SeanOhAileasa/fubar-python/blob/main/rc/package-third-party-scipy-subpackage-stats-module-_distn_infrastructure-class-intentionally-blank.ipynb) \n",
    "                            [rv\\_discrete](https://nbviewer.jupyter.org/github/SeanOhAileasa/fubar-python/blob/main/rc/package-third-party-scipy-subpackage-stats-module-_distn_infrastructure-class-rv_discrete.ipynb) \n",
    "                            [instance](https://nbviewer.jupyter.org/github/SeanOhAileasa/fubar-python/blob/main/rc/package-third-party-scipy-subpackage-stats-module-_distn_infrastructure-class-rv_discrete-instance-intentionally-blank.ipynb) \n",
    "                            [binom](https://nbviewer.jupyter.org/github/SeanOhAileasa/fubar-python/blob/main/rc/package-third-party-scipy-subpackage-stats-module-_distn_infrastructure-class-rv_discrete-instance-binom.ipynb) \n",
    "\n",
    "                                - [method](https://nbviewer.jupyter.org/github/SeanOhAileasa/fubar-python/blob/main/rc/package-third-party-scipy-subpackage-stats-module-_distn_infrastructure-class-rv_discrete-instance-binom-method-intentionally-blank.ipynb) \n",
    "                                [.pmf](https://nbviewer.jupyter.org/github/SeanOhAileasa/fubar-python/blob/main/rc/package-third-party-scipy-subpackage-stats-module-_distn_infrastructure-class-rv_discrete-instance-binom-method-pmf.ipynb) \n",
    "\n",
    "        - [seaborn](https://nbviewer.jupyter.org/github/SeanOhAileasa/fubar-python/blob/main/rc/package-third-party-seaborn.ipynb) \n",
    "\n",
    "            - [module](https://nbviewer.jupyter.org/github/SeanOhAileasa/fubar-python/blob/main/rc/package-third-party-seaborn-module-intentionally-blank.ipynb) \n",
    "\n",
    "                - [\\_\\_init\\_\\_](https://nbviewer.jupyter.org/github/SeanOhAileasa/fubar-python/blob/main/rc/package-third-party-seaborn-module-__init__.ipynb) \n",
    "\n",
    "                - [axisgrid](#) <!-- - [axisgrid](https://nbviewer.jupyter.org/github/SeanOhAileasa/fubar-python/blob/main/rc/package-third-party-seaborn-module-axisgrid.ipynb)  -->\n",
    "\n",
    "                    - [function](#)  <!-- - [function](https://nbviewer.jupyter.org/github/SeanOhAileasa/fubar-python/blob/main/rc/package-third-party-seaborn-module-axisgrid-function-intentionally-blank.ipynb)  -->\n",
    "\n",
    "                        - [pairplot](#) <!-- - [pairplot](https://nbviewer.jupyter.org/github/SeanOhAileasa/fubar-python/blob/main/rc/package-third-party-seaborn-module-axisgrid-function-pairplot.ipynb)  -->\n",
    "\n",
    "                - [distributions](https://nbviewer.jupyter.org/github/SeanOhAileasa/fubar-python/blob/main/rc/package-third-party-seaborn-module-distributions.ipynb) \n",
    "\n",
    "                    - [function](https://nbviewer.jupyter.org/github/SeanOhAileasa/fubar-python/blob/main/rc/package-third-party-seaborn-module-distributions-function-intentionally-blank.ipynb) \n",
    "\n",
    "                        - [distplot](https://nbviewer.jupyter.org/github/SeanOhAileasa/fubar-python/blob/main/rc/package-third-party-seaborn-module-distributions-function-distplot.ipynb) \n",
    "\n",
    "                - [relational](#) <!-- - [relational](https://nbviewer.jupyter.org/github/SeanOhAileasa/fubar-python/blob/main/rc/package-third-party-seaborn-module-relational.ipynb)  -->\n",
    "\n",
    "                    - [function](#)  <!-- - [function](https://nbviewer.jupyter.org/github/SeanOhAileasa/fubar-python/blob/main/rc/package-third-party-seaborn-module-relational-function-intentionally-blank.ipynb)  -->\n",
    "\n",
    "                        - [scatterplot](#) <!-- - [scatterplot](https://nbviewer.jupyter.org/github/SeanOhAileasa/fubar-python/blob/main/rc/package-third-party-seaborn-module-relational-function-scatterplot.ipynb)  -->\n",
    "\n",
    "# &#x1F4CC; [Abstract](#abstract)\n",
    "\n",
    "* [Everything is an Object](#object)\n",
    "    * [Immutable vs Mutable](#Immutable-vs-Mutable)\n",
    "        * [Immutable](#Immutable)\n",
    "            * [Float](#Float)\n",
    "            * [Str](#Str)       \n",
    "        * [Mutable](#Mutable)\n",
    "            * [List (Built-in Container)](#List-Built-in-Container)\n",
    "* [Specialised Container](#Specialised-Container)\n",
    "    * [collections.Counter](#collections-Counter)\n",
    "* [Operator](#Operator)\n",
    "    * [Arithmetic](#Arithmetic)\n",
    "    * [Bitwise](#Bitwise)\n",
    "    * [Assignment](#Assignment)\n",
    "    * [Comparison](#Comparison)\n",
    "    * [Boolean](#Boolean)\n",
    "    * [Identity](#Identity)\n",
    "    * [Membership](#Membership)\n",
    "\n",
    "# &#x1F4CC; [Introduction](#introduction)\n",
    "\n",
    "<!--\n",
    "## Programming for Cybersecurity\n",
    "- module is an introduction to automating computer tasks using scripting languages and solving problems using programming languages (focus is on cyber-security) [4]\n",
    "```python\n",
    "from sys import path; path.insert(1,\"../src\")\n",
    "from fubar import fFile\n",
    "%%script bash\n",
    "grep -1 \"def fFile\" ../src/fubar.py -A 9\n",
    "fFile(nParPath=\"./hide/00-introduction/prog 0.0 introduction - 18-01-2021.mp4\") # [1]\n",
    "```\n",
    "&nbsp;&nbsp;&nbsp;&nbsp;&nbsp;&nbsp;&nbsp;&nbsp;&nbsp;[1] A. Beatty, \"prog 0.0 introduction (Module: Programming for Cybersecurity),\" GMIT (Programme: Certificate in Cybersecurity Operations), January 2021.\n",
    "-->\n",
    "\n",
    "## [Setup Environment](#setup-environment) &#x1F6A7;\n",
    "\n",
    "* [Overview](#Setup-Environment-Overview)\n",
    "\n",
    "* [Install-Software](#Setup-Environment-Install-Software)\n",
    "\n",
    "* [Filesystem and First program](#Setup-Environment-Filesystem-and-First-program)\n",
    "\n",
    "* [Git and GitHub](#Setup-Environment-Git-and-GitHub)\n",
    "\n",
    "* [A Whirlwind Tour Of Python](#Setup-Environment-A-Whirlwind-Tour-Of-Python)\n",
    "\n",
    "* [Automate the Boring Stuff with Python](#Setup-Environment-Automate-the-Boring-Stuff-with-Python)\n",
    "\n",
    "## [Statements](#statements) &#x1F6A7;\n",
    "\n",
    "* [Introduction to Programming](#Statements-Introduction-to-Programming)\n",
    "\n",
    "* [Python](#Statements-Python)\n",
    "\n",
    "* [Using VSCode](#Statements-Using-VSCode)\n",
    "\n",
    "* [First Program](#Statements-First-Program)\n",
    "\n",
    "* [Gmail](#Statements-Gmail)\n",
    "\n",
    "## [State](#state)\n",
    "\n",
    "* [Variable Types](#State-Variable-Types)\n",
    "* [Numbers and Strings](#State-Numbers-and-Strings)\n",
    "* [Lists and Tuples](#State-Lists-and-Tuples)\n",
    "* [Dictionaries](#State-Dictionaries)\n",
    "* [Bitcoin](#State-Bitcoin)\n",
    "\n",
    "## [Controlling the Flow](#controlling-the-flow)\n",
    "\n",
    "* [if else elif](#controlling-the-flow-if-else-elif)\n",
    "* [while for](#controlling-the-flow-while-for)\n",
    "\n",
    "## [Functions](#functions)\n",
    "\n",
    "* [Introduction](#functions-Introduction)\n",
    "* [Funky Syntax](#functions-funky-syntax)\n",
    "* [Anonymous](#functions-anonymous)\n",
    "* [Modules](#functions-modules)\n",
    "\n",
    "## [Files](#files)\n",
    "\n",
    "* [Reading and Writing](#files-reading-and-writing)\n",
    "* [CSV and Pandas](#files-csv-and-pandas)\n",
    "\n",
    "## [Regex](#regex)\n",
    "\n",
    "* [File Formats](#regex-file-formats)\n",
    "* [Regex](#regex-regex)\n",
    "\n",
    "## [Plotting](#plotting)\n",
    "\n",
    "* [numpy](#plotting-numpy)\n",
    "* [matplotlib](#plotting-matplotlib)\n",
    "\n",
    "## [Pandas](#pandas)\n",
    "\n",
    "* [Introduction](#pandas-introduction)\n",
    "* [Data Manipulation](#pandas-data-manipulation)\n",
    "* [Data analysis](#pandas-data-analysis)\n",
    "\n",
    "## [Errors Testing and Logging](#errors-testing-and-logging)\n",
    "\n",
    "* [Errors](#errors-testing-and-logging-errors)\n",
    "* [Testing](#errors-testing-and-logging-errors-testing)\n",
    "* [Logging](#errors-testing-and-logging-errors-logging)\n",
    "\n",
    "## [Objects](#objects)\n",
    "\n",
    "* [Overview](#objects-overview)\n",
    "* [Organising your Code](#objects-organising-your-code)\n",
    "* [Objects Class and Instances](#objects-objects-class-and-instances)\n",
    "* [Function Programming Vs Object-Oriented Programming](#objects-function-programming-v-object-oriented-programming)\n",
    "\n",
    "## [APIs](#api)\n",
    "\n",
    "* [What is an API](#whatisanAPI)\n",
    "* [Authorization](#authorization)\n",
    "* [Packages exist](#packagesExist)\n",
    "\n",
    "# &#x1F4CC; [Solution](#solution)\n",
    "\n",
    "* &#x1F6A7;\n",
    "\n",
    "# &#x1F4CC; [Conclusion](#conclusion)\n",
    "\n",
    "* &#x1F6A7;\n",
    "\n",
    "# [Appendix](#appendix)\n",
    "\n",
    "- &#x1F6A7;"
   ]
  },
  {
   "cell_type": "markdown",
   "id": "1048cd4e",
   "metadata": {},
   "source": [
    "***\n",
    "## END"
   ]
  },
  {
   "cell_type": "markdown",
   "id": "710665a2",
   "metadata": {},
   "source": [
    "< [Table of Contents](#top) | [Abstract](#abstract) | [Introduction](#introduction) | [Conclusion](#conclusion) | [References](#references) >\n",
    "<a id=\"abstract\"></a>\n",
    "***\n",
    "# Abstract\n",
    "***"
   ]
  },
  {
   "cell_type": "markdown",
   "id": "a3d4458e",
   "metadata": {},
   "source": [
    "< [Table of Contents](#top) | [References](#references) >\n",
    "<a id=\"object\"></a>\n",
    "### Everything is an Object\n",
    "***"
   ]
  },
  {
   "cell_type": "code",
   "execution_count": 1,
   "id": "014ab078",
   "metadata": {},
   "outputs": [
    {
     "data": {
      "text/html": [
       "<style>.container { width:100% !important; }</style>"
      ],
      "text/plain": [
       "<IPython.core.display.HTML object>"
      ]
     },
     "metadata": {},
     "output_type": "display_data"
    }
   ],
   "source": [
    "from sys import path; path.insert(1,\"../src\")\n",
    "from fubar import fIsObject"
   ]
  },
  {
   "cell_type": "code",
   "execution_count": 2,
   "id": "27d92af3",
   "metadata": {},
   "outputs": [
    {
     "name": "stdout",
     "output_type": "stream",
     "text": [
      "# repository ./fubar-python\r\n",
      "def fIsObject(nParSomething):\r\n",
      "    \"\"\"Everything in python is an object.\r\n",
      "    \r\n",
      "Input: nParSomething\r\n",
      "Process: (isinstance)\r\n",
      "Output: boolean True or False\r\n",
      "\"\"\"\r\n",
      "    return isinstance(nParSomething,object)\r\n",
      "# --- END ---\r\n"
     ]
    }
   ],
   "source": [
    "%%script bash\n",
    "grep -1 \"def fIsObject\" ../src/fubar.py -A 8"
   ]
  },
  {
   "cell_type": "code",
   "execution_count": 3,
   "id": "3b82e089",
   "metadata": {},
   "outputs": [
    {
     "data": {
      "text/plain": [
       "True"
      ]
     },
     "execution_count": 3,
     "metadata": {},
     "output_type": "execute_result"
    }
   ],
   "source": [
    "fIsObject(nParSomething=0)"
   ]
  },
  {
   "cell_type": "code",
   "execution_count": 4,
   "id": "8cd203fa",
   "metadata": {},
   "outputs": [
    {
     "data": {
      "text/plain": [
       "True"
      ]
     },
     "execution_count": 4,
     "metadata": {},
     "output_type": "execute_result"
    }
   ],
   "source": [
    "fIsObject(nParSomething=fIsObject)"
   ]
  },
  {
   "cell_type": "code",
   "execution_count": 5,
   "id": "2f286872",
   "metadata": {},
   "outputs": [
    {
     "data": {
      "text/plain": [
       "True"
      ]
     },
     "execution_count": 5,
     "metadata": {},
     "output_type": "execute_result"
    }
   ],
   "source": [
    "fIsObject(nParSomething=fIsObject(0))"
   ]
  },
  {
   "cell_type": "code",
   "execution_count": 6,
   "id": "caac06f6",
   "metadata": {},
   "outputs": [],
   "source": [
    "exit()"
   ]
  },
  {
   "cell_type": "markdown",
   "id": "8c8f16e4",
   "metadata": {},
   "source": [
    "< [Table of Contents](#top) | [References](#references) >\n",
    "<a id=\"Immutable-vs-Mutable\"></a>\n",
    "***\n",
    "###### Immutable vs Mutable\n",
    "***"
   ]
  },
  {
   "cell_type": "markdown",
   "id": "05f3f005",
   "metadata": {},
   "source": [
    "- each object contains at least three pieces of data i) reference count - for memory management ii) type - used at the CPython layer to ensure type safety during runtime iii) value - is the actual value associated with the object [1]"
   ]
  },
  {
   "cell_type": "markdown",
   "id": "89d1d5fe",
   "metadata": {},
   "source": [
    "- not all objects are the same though - there is another important distinction - immutable versus mutable objects - the two types of objects in python - immutable objects - cannot be changed - mutable objects - can be changed [1]"
   ]
  },
  {
   "cell_type": "code",
   "execution_count": 1,
   "id": "8956164e",
   "metadata": {},
   "outputs": [],
   "source": [
    "exit()"
   ]
  },
  {
   "cell_type": "markdown",
   "id": "e578249b",
   "metadata": {},
   "source": [
    "< [Table of Contents](#top) | [References](#references) >\n",
    "<a id=\"Immutable\"></a>\n",
    "***\n",
    "###### Immutable\n",
    "***"
   ]
  },
  {
   "cell_type": "markdown",
   "id": "522e7cb9",
   "metadata": {},
   "source": [
    "- immutable objects cannot be changed - lots of commonly used primitive types are immutable [1]"
   ]
  },
  {
   "cell_type": "code",
   "execution_count": 1,
   "id": "b02d5c7a",
   "metadata": {},
   "outputs": [],
   "source": [
    "exit()"
   ]
  },
  {
   "cell_type": "markdown",
   "id": "b9d417f1",
   "metadata": {},
   "source": [
    "< [Table of Contents](#top) | [References](#references) >\n",
    "<a id=\"Float\"></a>\n",
    "***\n",
    "###### Float\n",
    "***"
   ]
  },
  {
   "cell_type": "markdown",
   "id": "2b601389",
   "metadata": {},
   "source": [
    "- ***Immutable*** - modifying ``n`` with addition will create a new object even though it appears to be modifying the value of ``n`` [1]"
   ]
  },
  {
   "cell_type": "code",
   "execution_count": 1,
   "id": "99c36d66",
   "metadata": {},
   "outputs": [
    {
     "data": {
      "text/html": [
       "<style>.container { width:100% !important; }</style>"
      ],
      "text/plain": [
       "<IPython.core.display.HTML object>"
      ]
     },
     "metadata": {},
     "output_type": "display_data"
    }
   ],
   "source": [
    "from sys import path; path.insert(1,\"../src\")\n",
    "from fubar import fImmutableMutable"
   ]
  },
  {
   "cell_type": "code",
   "execution_count": 2,
   "id": "031c228c",
   "metadata": {},
   "outputs": [
    {
     "name": "stdout",
     "output_type": "stream",
     "text": [
      "# repository ./fubar-python\r\n",
      "def fImmutableMutable(nParObject):\r\n",
      "    \"\"\"Immutable objects (int; float; bool; complex; frozenset; str; tuple)\r\n",
      "    cannot be changed whereas mutable objects (list; set; dict) can be changed.\r\n",
      "\r\n",
      "Input: nParObject\r\n",
      "Process: (id)\r\n",
      "Output: i) object identity (memory address); ii) object itself  \r\n",
      "\"\"\"\r\n",
      "    print(\"<id> : {}\".format(id(nParObject)))\r\n",
      "    return nParObject \r\n",
      "# --- END ---\r\n"
     ]
    }
   ],
   "source": [
    "%%script bash\n",
    "grep -1 \"def fImmutableMutable\" ../src/fubar.py -A 10"
   ]
  },
  {
   "cell_type": "code",
   "execution_count": 3,
   "id": "ab57d153",
   "metadata": {},
   "outputs": [],
   "source": [
    "n=1.0"
   ]
  },
  {
   "cell_type": "code",
   "execution_count": 4,
   "id": "6c28356e",
   "metadata": {},
   "outputs": [
    {
     "name": "stdout",
     "output_type": "stream",
     "text": [
      "<id> : 2285463920336\n"
     ]
    },
    {
     "data": {
      "text/plain": [
       "1.0"
      ]
     },
     "execution_count": 4,
     "metadata": {},
     "output_type": "execute_result"
    }
   ],
   "source": [
    "fImmutableMutable(nParObject=n)"
   ]
  },
  {
   "cell_type": "markdown",
   "id": "b4c9ade1",
   "metadata": {},
   "source": [
    "- getting a new object as a response [1]"
   ]
  },
  {
   "cell_type": "code",
   "execution_count": 5,
   "id": "70223b33",
   "metadata": {},
   "outputs": [],
   "source": [
    "n+=1"
   ]
  },
  {
   "cell_type": "code",
   "execution_count": 6,
   "id": "be618d6c",
   "metadata": {},
   "outputs": [
    {
     "name": "stdout",
     "output_type": "stream",
     "text": [
      "<id> : 2285463920112\n"
     ]
    },
    {
     "data": {
      "text/plain": [
       "2.0"
      ]
     },
     "execution_count": 6,
     "metadata": {},
     "output_type": "execute_result"
    }
   ],
   "source": [
    "fImmutableMutable(nParObject=n)"
   ]
  },
  {
   "cell_type": "code",
   "execution_count": 7,
   "id": "5a9d599f",
   "metadata": {},
   "outputs": [],
   "source": [
    "exit()"
   ]
  },
  {
   "cell_type": "markdown",
   "id": "a192c697",
   "metadata": {},
   "source": [
    "< [Table of Contents](#top) | [References](#references) >\n",
    "<a id=\"Str\"></a>\n",
    "***\n",
    "###### Str\n",
    "***"
   ]
  },
  {
   "cell_type": "markdown",
   "id": "3489bd05",
   "metadata": {},
   "source": [
    "- ***Immutable*** - ``n`` object creates a different memory address after the operation ``+=`` [1]"
   ]
  },
  {
   "cell_type": "code",
   "execution_count": 1,
   "id": "fd7007ac",
   "metadata": {},
   "outputs": [
    {
     "data": {
      "text/html": [
       "<style>.container { width:100% !important; }</style>"
      ],
      "text/plain": [
       "<IPython.core.display.HTML object>"
      ]
     },
     "metadata": {},
     "output_type": "display_data"
    }
   ],
   "source": [
    "from sys import path; path.insert(1,\"../src\")\n",
    "from fubar import fImmutableMutable"
   ]
  },
  {
   "cell_type": "code",
   "execution_count": 2,
   "id": "2de88cc2",
   "metadata": {},
   "outputs": [
    {
     "name": "stdout",
     "output_type": "stream",
     "text": [
      "# repository ./fubar-python\r\n",
      "def fImmutableMutable(nParObject):\r\n",
      "    \"\"\"Immutable objects (int; float; bool; complex; frozenset; str; tuple)\r\n",
      "    cannot be changed whereas mutable objects (list; set; dict) can be changed.\r\n",
      "\r\n",
      "Input: nParObject\r\n",
      "Process: (id)\r\n",
      "Output: i) object identity (memory address); ii) object itself  \r\n",
      "\"\"\"\r\n",
      "    print(\"<id> : {}\".format(id(nParObject)))\r\n",
      "    return nParObject \r\n",
      "# --- END ---\r\n"
     ]
    }
   ],
   "source": [
    "%%script bash\n",
    "grep -1 \"def fImmutableMutable\" ../src/fubar.py -A 10"
   ]
  },
  {
   "cell_type": "code",
   "execution_count": 3,
   "id": "012f334a",
   "metadata": {},
   "outputs": [],
   "source": [
    "n=\"foo\""
   ]
  },
  {
   "cell_type": "code",
   "execution_count": 4,
   "id": "8a2171f4",
   "metadata": {},
   "outputs": [
    {
     "name": "stdout",
     "output_type": "stream",
     "text": [
      "<id> : 2393648172528\n"
     ]
    },
    {
     "data": {
      "text/plain": [
       "'foo'"
      ]
     },
     "execution_count": 4,
     "metadata": {},
     "output_type": "execute_result"
    }
   ],
   "source": [
    "fImmutableMutable(nParObject=n)"
   ]
  },
  {
   "cell_type": "code",
   "execution_count": 5,
   "id": "88f2b2b6",
   "metadata": {},
   "outputs": [],
   "source": [
    "n+=\"bar\""
   ]
  },
  {
   "cell_type": "code",
   "execution_count": 6,
   "id": "71488f3c",
   "metadata": {},
   "outputs": [
    {
     "name": "stdout",
     "output_type": "stream",
     "text": [
      "<id> : 2393706096240\n"
     ]
    },
    {
     "data": {
      "text/plain": [
       "'foobar'"
      ]
     },
     "execution_count": 6,
     "metadata": {},
     "output_type": "execute_result"
    }
   ],
   "source": [
    "fImmutableMutable(nParObject=n)"
   ]
  },
  {
   "cell_type": "markdown",
   "id": "9009d686",
   "metadata": {},
   "source": [
    "- trying to directly mutate the string ``nStr`` results in an error - python will indicate no support of such mutation which is in line with the definition that the str type is immutable [1]\n",
    "\n",
    "```python\n",
    "nStr[0]=\"F\"\n",
    "TypeError: 'str' object does not support item assignment\n",
    "```"
   ]
  },
  {
   "cell_type": "code",
   "execution_count": 7,
   "id": "07c82694",
   "metadata": {},
   "outputs": [],
   "source": [
    "exit()"
   ]
  },
  {
   "cell_type": "markdown",
   "id": "e8a8e138",
   "metadata": {},
   "source": [
    "< [Table of Contents](#top) | [References](#references) >\n",
    "<a id=\"Mutable\"></a>\n",
    "***\n",
    "###### Mutable\n",
    "***"
   ]
  },
  {
   "cell_type": "markdown",
   "id": "297ccf6a",
   "metadata": {},
   "source": [
    "- mutable objects can be changed [1]"
   ]
  },
  {
   "cell_type": "code",
   "execution_count": 1,
   "id": "9cbec067",
   "metadata": {},
   "outputs": [],
   "source": [
    "exit()"
   ]
  },
  {
   "cell_type": "markdown",
   "id": "94873f09",
   "metadata": {},
   "source": [
    "< [Table of Contents](#top) | [References](#references) >\n",
    "<a id=\"List-Built-in-Container\"></a>\n",
    "***\n",
    "###### List (Built-in Container)\n",
    "***"
   ]
  },
  {
   "cell_type": "markdown",
   "id": "f5786d49",
   "metadata": {},
   "source": [
    "- **Mutable** - object ``n`` has an id originally and even after another item is added (appended) to the list it continues to have the same id as the original - same hold true after an assignment [1]"
   ]
  },
  {
   "cell_type": "code",
   "execution_count": 1,
   "id": "55f95eba",
   "metadata": {},
   "outputs": [
    {
     "data": {
      "text/plain": [
       "2137408201472"
      ]
     },
     "execution_count": 1,
     "metadata": {},
     "output_type": "execute_result"
    }
   ],
   "source": [
    "n=list(range(10))\n",
    "id(n)"
   ]
  },
  {
   "cell_type": "code",
   "execution_count": 2,
   "id": "33dbfdc6",
   "metadata": {},
   "outputs": [
    {
     "data": {
      "text/html": [
       "<style>.container { width:100% !important; }</style>"
      ],
      "text/plain": [
       "<IPython.core.display.HTML object>"
      ]
     },
     "metadata": {},
     "output_type": "display_data"
    }
   ],
   "source": [
    "from sys import path; path.insert(1,\"../src\")\n",
    "from fubar import fImmutableMutable"
   ]
  },
  {
   "cell_type": "code",
   "execution_count": 3,
   "id": "612e72ed",
   "metadata": {},
   "outputs": [
    {
     "name": "stdout",
     "output_type": "stream",
     "text": [
      "# repository ./fubar-python\r\n",
      "def fImmutableMutable(nParObject):\r\n",
      "    \"\"\"Immutable objects (int; float; bool; complex; frozenset; str; tuple)\r\n",
      "    cannot be changed whereas mutable objects (list; set; dict) can be changed.\r\n",
      "\r\n",
      "Input: nParObject\r\n",
      "Process: (id)\r\n",
      "Output: i) object identity (memory address); ii) object itself  \r\n",
      "\"\"\"\r\n",
      "    print(\"<id> : {}\".format(id(nParObject)))\r\n",
      "    return nParObject \r\n",
      "# --- END ---\r\n"
     ]
    }
   ],
   "source": [
    "%%script bash\n",
    "grep -1 \"def fImmutableMutable\" ../src/fubar.py -A 10"
   ]
  },
  {
   "cell_type": "code",
   "execution_count": 4,
   "id": "94292276",
   "metadata": {},
   "outputs": [
    {
     "name": "stdout",
     "output_type": "stream",
     "text": [
      "<id> : 2137408201472\n"
     ]
    },
    {
     "data": {
      "text/plain": [
       "[0, 1, 2, 3, 4, 5, 6, 7, 8, 9]"
      ]
     },
     "execution_count": 4,
     "metadata": {},
     "output_type": "execute_result"
    }
   ],
   "source": [
    "fImmutableMutable(n)"
   ]
  },
  {
   "cell_type": "code",
   "execution_count": 5,
   "id": "2ed43423",
   "metadata": {},
   "outputs": [
    {
     "name": "stdout",
     "output_type": "stream",
     "text": [
      "<id> : 2137408201472\n"
     ]
    },
    {
     "data": {
      "text/plain": [
       "[0, 1, 2, 3, 4, 5, 6, 7, 8, 9, 10]"
      ]
     },
     "execution_count": 5,
     "metadata": {},
     "output_type": "execute_result"
    }
   ],
   "source": [
    "n.append(10)\n",
    "fImmutableMutable(n)"
   ]
  },
  {
   "cell_type": "code",
   "execution_count": 6,
   "id": "9d673bf2",
   "metadata": {},
   "outputs": [
    {
     "name": "stdout",
     "output_type": "stream",
     "text": [
      "<id> : 2137408201472\n"
     ]
    },
    {
     "data": {
      "text/plain": [
       "[10, 1, 2, 3, 4, 5, 6, 7, 8, 9, 10]"
      ]
     },
     "execution_count": 6,
     "metadata": {},
     "output_type": "execute_result"
    }
   ],
   "source": [
    "n[0]=10\n",
    "fImmutableMutable(n)"
   ]
  },
  {
   "cell_type": "markdown",
   "id": "69f86e03",
   "metadata": {},
   "source": [
    "- collection ``nCollection`` of integers\n",
    "\n",
    "$$[7,5,2,3,1]$$"
   ]
  },
  {
   "cell_type": "code",
   "execution_count": 7,
   "id": "05252ac8",
   "metadata": {},
   "outputs": [
    {
     "name": "stdout",
     "output_type": "stream",
     "text": [
      "<id> : 2137408386368\n"
     ]
    },
    {
     "data": {
      "text/plain": [
       "[7, 5, 2, 3, 1]"
      ]
     },
     "execution_count": 7,
     "metadata": {},
     "output_type": "execute_result"
    }
   ],
   "source": [
    "nCollection=[7,5,2,3,1]\n",
    "fImmutableMutable(nCollection)"
   ]
  },
  {
   "cell_type": "markdown",
   "id": "1e811cdd",
   "metadata": {},
   "source": [
    "- convert each ``int`` element of ``nCollection`` to a character via constructor ``str``"
   ]
  },
  {
   "cell_type": "code",
   "execution_count": 8,
   "id": "7577401b",
   "metadata": {},
   "outputs": [
    {
     "name": "stdout",
     "output_type": "stream",
     "text": [
      "<id> : 2137408386368\n"
     ]
    },
    {
     "data": {
      "text/plain": [
       "['7', '5', '2', '3', '1']"
      ]
     },
     "execution_count": 8,
     "metadata": {},
     "output_type": "execute_result"
    }
   ],
   "source": [
    "for i in range(len(nCollection)):\n",
    "    nCollection[i]=str(nCollection[i])\n",
    "fImmutableMutable(nCollection)"
   ]
  },
  {
   "cell_type": "markdown",
   "id": "a6b19587",
   "metadata": {},
   "source": [
    "- convert each ``str`` element of ``nCollection`` to an integer via constructor ``int``"
   ]
  },
  {
   "cell_type": "code",
   "execution_count": 9,
   "id": "1b2fbfcf",
   "metadata": {},
   "outputs": [
    {
     "name": "stdout",
     "output_type": "stream",
     "text": [
      "<id> : 2137408386368\n"
     ]
    },
    {
     "data": {
      "text/plain": [
       "[7, 5, 2, 3, 1]"
      ]
     },
     "execution_count": 9,
     "metadata": {},
     "output_type": "execute_result"
    }
   ],
   "source": [
    "for i in range(len(nCollection)):\n",
    "    nCollection[i]=int(nCollection[i])\n",
    "fImmutableMutable(nCollection)"
   ]
  },
  {
   "cell_type": "markdown",
   "id": "30ada071",
   "metadata": {},
   "source": [
    "- convert each ``int`` element of ``nCollection`` to a character via constructor ``str`` using a list comprehension resulting in the creation of a new object"
   ]
  },
  {
   "cell_type": "code",
   "execution_count": 10,
   "id": "0346da69",
   "metadata": {},
   "outputs": [
    {
     "name": "stdout",
     "output_type": "stream",
     "text": [
      "<id> : 2137408044672\n"
     ]
    },
    {
     "data": {
      "text/plain": [
       "['7', '5', '2', '3', '1']"
      ]
     },
     "execution_count": 10,
     "metadata": {},
     "output_type": "execute_result"
    }
   ],
   "source": [
    "nCollection=[str(nEachChar) for nEachChar in nCollection]\n",
    "fImmutableMutable(nCollection)"
   ]
  },
  {
   "cell_type": "code",
   "execution_count": 11,
   "id": "5a611fd1",
   "metadata": {},
   "outputs": [],
   "source": [
    "exit()"
   ]
  },
  {
   "cell_type": "markdown",
   "id": "0aa6492c",
   "metadata": {},
   "source": [
    "< [Table of Contents](#top) | [References](#references) >\n",
    "<a id=\"Specialised-Container\"></a>\n",
    "***\n",
    "### Specialised Container\n",
    "***"
   ]
  },
  {
   "cell_type": "markdown",
   "id": "ea6e0196",
   "metadata": {},
   "source": [
    "&#x1F6A7;"
   ]
  },
  {
   "cell_type": "code",
   "execution_count": 1,
   "id": "86c34102",
   "metadata": {},
   "outputs": [],
   "source": [
    "exit()"
   ]
  },
  {
   "cell_type": "markdown",
   "id": "d43928c1",
   "metadata": {},
   "source": [
    "< [Table of Contents](#top) | [References](#references) >\n",
    "<a id=\"collections-Counter\"></a>\n",
    "***\n",
    "###### collections.Counter\n",
    "***"
   ]
  },
  {
   "cell_type": "markdown",
   "id": "11b612c8",
   "metadata": {},
   "source": [
    "< [Operator-Arithmetic](#Operator-Arithmetic) >"
   ]
  },
  {
   "cell_type": "markdown",
   "id": "784f43a2",
   "metadata": {},
   "source": [
    "&#x1F6A7;"
   ]
  },
  {
   "cell_type": "code",
   "execution_count": 1,
   "id": "70c3bca1",
   "metadata": {},
   "outputs": [],
   "source": [
    "exit()"
   ]
  },
  {
   "cell_type": "markdown",
   "id": "d6f617d3",
   "metadata": {},
   "source": [
    "< [Table of Contents](#top) | [References](#references) >\n",
    "<a id=\"Operator\"></a>\n",
    "***\n",
    "### Operator\n",
    "***"
   ]
  },
  {
   "cell_type": "markdown",
   "id": "b068e2bf",
   "metadata": {},
   "source": [
    "&#x1F6A7;"
   ]
  },
  {
   "cell_type": "code",
   "execution_count": 1,
   "id": "9b00cd25",
   "metadata": {},
   "outputs": [],
   "source": [
    "exit()"
   ]
  },
  {
   "cell_type": "markdown",
   "id": "d8156404",
   "metadata": {},
   "source": [
    "< [Table of Contents](#top) | [References](#references) >\n",
    "<a id=\"Arithmetic\"></a>\n",
    "***\n",
    "###### Arithmetic\n",
    "***"
   ]
  },
  {
   "cell_type": "markdown",
   "id": "a7668f83",
   "metadata": {},
   "source": [
    "- basic binary arithmetic operators (addition / substraction / multiplication / true division / floor division / modulus / exponentiation) - addition / substraction can double as unary operators (negation / unary plus) [3 p. 17]"
   ]
  },
  {
   "cell_type": "code",
   "execution_count": 1,
   "id": "d43534c0",
   "metadata": {},
   "outputs": [],
   "source": [
    "a,b=2,3"
   ]
  },
  {
   "cell_type": "markdown",
   "id": "5d31e8a8",
   "metadata": {},
   "source": [
    "|Operator|Name|Description|\n",
    "|:------------------------- | :------------------------- | :------------------------- |\n",
    "|a+b|Addition|Sum of a and b|\n",
    "|a-b|Subtraction|Difference of a and b|\n",
    "|a*b|Multiplication|Product of a and b|"
   ]
  },
  {
   "cell_type": "markdown",
   "id": "af8c0849",
   "metadata": {},
   "source": [
    "- floor division operator (``//``) is the true division (``/``) with fractional parts truncated [3 p.18]"
   ]
  },
  {
   "cell_type": "markdown",
   "id": "f7320685",
   "metadata": {},
   "source": [
    "|Operator|Name|Description|\n",
    "|:------------------------- | :------------------------- | :------------------------- |\n",
    "|a/b|True Division|Quotient of a and b|\n",
    "|a//b|Floor Division|Quotient of a and b (removing fractional parts)|\n",
    "|a%b|Modulus|Remainder after division of a by b|\n",
    "|a**b|Exponentiation|a raised to the power of b|"
   ]
  },
  {
   "cell_type": "code",
   "execution_count": 2,
   "id": "350de88c",
   "metadata": {},
   "outputs": [
    {
     "data": {
      "text/plain": [
       "0.6666666666666666"
      ]
     },
     "execution_count": 2,
     "metadata": {},
     "output_type": "execute_result"
    }
   ],
   "source": [
    "a/b"
   ]
  },
  {
   "cell_type": "code",
   "execution_count": 3,
   "id": "b6a8dc1d",
   "metadata": {},
   "outputs": [
    {
     "data": {
      "text/plain": [
       "0"
      ]
     },
     "execution_count": 3,
     "metadata": {},
     "output_type": "execute_result"
    }
   ],
   "source": [
    "a//b"
   ]
  },
  {
   "cell_type": "code",
   "execution_count": 4,
   "id": "b2aee862",
   "metadata": {},
   "outputs": [
    {
     "data": {
      "text/plain": [
       "2"
      ]
     },
     "execution_count": 4,
     "metadata": {},
     "output_type": "execute_result"
    }
   ],
   "source": [
    "a%b"
   ]
  },
  {
   "cell_type": "code",
   "execution_count": 5,
   "id": "280f6d40",
   "metadata": {},
   "outputs": [
    {
     "data": {
      "text/plain": [
       "8"
      ]
     },
     "execution_count": 5,
     "metadata": {},
     "output_type": "execute_result"
    }
   ],
   "source": [
    "a**b"
   ]
  },
  {
   "cell_type": "markdown",
   "id": "cef36d96",
   "metadata": {},
   "source": [
    "- a unary operation is an operation with only one operand (single input) in contrast to binary operations which use two operands [3 p. 17]"
   ]
  },
  {
   "cell_type": "markdown",
   "id": "33ca51d4",
   "metadata": {},
   "source": [
    "|Operator|Name|Description|\n",
    "|:------------------------- | :------------------------- | :------------------------- |\n",
    "|-a|Negation|The negative of a|"
   ]
  },
  {
   "cell_type": "code",
   "execution_count": 6,
   "id": "e18f3904",
   "metadata": {},
   "outputs": [
    {
     "data": {
      "text/plain": [
       "-2"
      ]
     },
     "execution_count": 6,
     "metadata": {},
     "output_type": "execute_result"
    }
   ],
   "source": [
    "-a"
   ]
  },
  {
   "cell_type": "code",
   "execution_count": 7,
   "id": "e87570e1",
   "metadata": {},
   "outputs": [
    {
     "data": {
      "text/plain": [
       "2"
      ]
     },
     "execution_count": 7,
     "metadata": {},
     "output_type": "execute_result"
    }
   ],
   "source": [
    "a"
   ]
  },
  {
   "cell_type": "markdown",
   "id": "80690b54",
   "metadata": {},
   "source": [
    "<a id=\"Operator-Arithmetic\"></a>\n",
    "< [collections.Counter](#collections-Counter) >"
   ]
  },
  {
   "cell_type": "code",
   "execution_count": 8,
   "id": "29d90439",
   "metadata": {},
   "outputs": [],
   "source": [
    "from collections import Counter"
   ]
  },
  {
   "cell_type": "code",
   "execution_count": 9,
   "id": "fc525ed1",
   "metadata": {},
   "outputs": [
    {
     "data": {
      "text/plain": [
       "Counter({'apples': 0, 'pears': 4, 'oranges': -89})"
      ]
     },
     "execution_count": 9,
     "metadata": {},
     "output_type": "execute_result"
    }
   ],
   "source": [
    "Counter({\"apples\":0,\"pears\":4,\"oranges\":-89})"
   ]
  },
  {
   "cell_type": "code",
   "execution_count": 10,
   "id": "3d98a4f2",
   "metadata": {},
   "outputs": [
    {
     "data": {
      "text/plain": [
       "Counter({'oranges': 89})"
      ]
     },
     "execution_count": 10,
     "metadata": {},
     "output_type": "execute_result"
    }
   ],
   "source": [
    "-Counter({\"apples\":0,\"pears\":4,\"oranges\":-89})"
   ]
  },
  {
   "cell_type": "markdown",
   "id": "5bf91644",
   "metadata": {},
   "source": [
    "|Operator|Name|Description|\n",
    "|:------------------------- | :------------------------- | :------------------------- |\n",
    "|+a|Unary Plus|a unchanged|"
   ]
  },
  {
   "cell_type": "code",
   "execution_count": 11,
   "id": "a87bba7f",
   "metadata": {},
   "outputs": [
    {
     "data": {
      "text/plain": [
       "2"
      ]
     },
     "execution_count": 11,
     "metadata": {},
     "output_type": "execute_result"
    }
   ],
   "source": [
    "+a"
   ]
  },
  {
   "cell_type": "code",
   "execution_count": 12,
   "id": "1cf41b57",
   "metadata": {},
   "outputs": [
    {
     "data": {
      "text/plain": [
       "Counter({'pears': 4})"
      ]
     },
     "execution_count": 12,
     "metadata": {},
     "output_type": "execute_result"
    }
   ],
   "source": [
    "+Counter({\"apples\":0,\"pears\":4,\"oranges\":-89})"
   ]
  },
  {
   "cell_type": "code",
   "execution_count": 13,
   "id": "16f24c76",
   "metadata": {},
   "outputs": [],
   "source": [
    "exit()"
   ]
  },
  {
   "cell_type": "markdown",
   "id": "88b57171",
   "metadata": {},
   "source": [
    "< [Table of Contents](#top) | [References](#references) >\n",
    "<a id=\"Bitwise\"></a>\n",
    "***\n",
    "###### Bitwise\n",
    "***"
   ]
  },
  {
   "cell_type": "markdown",
   "id": "c339125b",
   "metadata": {},
   "source": [
    "- operators to perform bitwise logical operations on integers [3 p. 18]"
   ]
  },
  {
   "cell_type": "markdown",
   "id": "945d6021",
   "metadata": {},
   "source": [
    "|Operator|Name|Description|\n",
    "|:------------------------- | :------------------------- | :------------------------- |\n",
    "|a&b|Bitwise AND|Bits defined in both a and b|\n",
    "|a\\|b|Bitwise OR|Bits defined in a or b or both|\n",
    "|a^b|Bitwise XOR|Bits defined in a or b but not both|\n",
    "|a<<b|Bit shift left|Shift bits of a left by b units|\n",
    "|a>>b|Bit shift right|Shift bits of a right by b units|\n",
    "|~a|Bitwise NOT|Bitwise negation of a|"
   ]
  },
  {
   "cell_type": "code",
   "execution_count": 1,
   "id": "00ef6f2b",
   "metadata": {},
   "outputs": [
    {
     "data": {
      "text/html": [
       "<style>.container { width:100% !important; }</style>"
      ],
      "text/plain": [
       "<IPython.core.display.HTML object>"
      ]
     },
     "metadata": {},
     "output_type": "display_data"
    }
   ],
   "source": [
    "from sys import path; path.insert(1,\"../src\")\n",
    "from fubar import fMagic"
   ]
  },
  {
   "cell_type": "markdown",
   "id": "80dcab1e",
   "metadata": {},
   "source": [
    "- bitwise operators only make sense in terms of the binary representation of numbers [3 p .19]"
   ]
  },
  {
   "cell_type": "code",
   "execution_count": 2,
   "id": "595b2554",
   "metadata": {},
   "outputs": [
    {
     "name": "stdout",
     "output_type": "stream",
     "text": [
      "<module 'builtins' (built-in)>\n",
      "<class 'builtin_function_or_method'>\n",
      "Return the binary representation of an integer.\n",
      "\n",
      "   >>> bin(2796202)\n",
      "   '0b1010101010101010101010'\n"
     ]
    }
   ],
   "source": [
    "print(fMagic(bin))"
   ]
  },
  {
   "cell_type": "markdown",
   "id": "bbaf1e0e",
   "metadata": {},
   "source": [
    "- ``bin(10)`` returns the prefix ``0b`` indicating a binary representation and the rest of the digits indicate that the number ``10`` is expressed as the sum [3 p. 19]\n",
    "\n",
    "$$(1010)_{2} = (1x2^{3}) + (0x2^{2}) + (1x2^{1}) + (0x2^{0}) = (10)_{10}$$"
   ]
  },
  {
   "cell_type": "code",
   "execution_count": 3,
   "id": "c52003d5",
   "metadata": {},
   "outputs": [
    {
     "data": {
      "text/plain": [
       "'0b1010'"
      ]
     },
     "execution_count": 3,
     "metadata": {},
     "output_type": "execute_result"
    }
   ],
   "source": [
    "bin(10)"
   ]
  },
  {
   "cell_type": "markdown",
   "id": "df3709e1",
   "metadata": {},
   "source": [
    "- using bitwise OR $|$ to find the number which combines the bits of 3 and 1 [3 p .19]"
   ]
  },
  {
   "cell_type": "code",
   "execution_count": 4,
   "id": "3a416e7d",
   "metadata": {},
   "outputs": [
    {
     "data": {
      "text/plain": [
       "'0b11'"
      ]
     },
     "execution_count": 4,
     "metadata": {},
     "output_type": "execute_result"
    }
   ],
   "source": [
    "bin(3|1)"
   ]
  },
  {
   "cell_type": "markdown",
   "id": "0d201126",
   "metadata": {},
   "source": [
    "- users from other languages are sometimes tempted to use XOR ``a^b`` for exponentiation [3 p. 19]"
   ]
  },
  {
   "cell_type": "markdown",
   "id": "16c4b4f4",
   "metadata": {},
   "source": [
    "- use bitwise operations ``~`` ``&`` ``|`` when operating on individual bits or components of the objects in question [3 p. 22]"
   ]
  },
  {
   "cell_type": "markdown",
   "id": "4a6ca6d9",
   "metadata": {},
   "source": [
    "- use boolean operators ``and`` ``or`` ``not`` to compute boolean values (truth or falsehood of entire statements) - control flow statements such as conditionals and loops [3 p. 22]"
   ]
  },
  {
   "cell_type": "code",
   "execution_count": 5,
   "id": "006990da",
   "metadata": {},
   "outputs": [],
   "source": [
    "exit()"
   ]
  },
  {
   "cell_type": "markdown",
   "id": "7685628f",
   "metadata": {},
   "source": [
    "< [Table of Contents](#top) | [References](#references) >\n",
    "<a id=\"Assignment\"></a>\n",
    "***\n",
    "###### Assignment\n",
    "***"
   ]
  },
  {
   "cell_type": "markdown",
   "id": "fdffc918",
   "metadata": {},
   "source": [
    "- can be used in expressions with any of the arithmetic and bitwise operators [3 p. 20]"
   ]
  },
  {
   "cell_type": "markdown",
   "id": "021e0d41",
   "metadata": {},
   "source": [
    "- update the name ``a`` with a new value by combining the addition and the assignment [3 p. 20]"
   ]
  },
  {
   "cell_type": "code",
   "execution_count": 1,
   "id": "7d52eb58",
   "metadata": {},
   "outputs": [],
   "source": [
    "a,b=2,3"
   ]
  },
  {
   "cell_type": "code",
   "execution_count": 2,
   "id": "567d0520",
   "metadata": {},
   "outputs": [
    {
     "data": {
      "text/plain": [
       "5"
      ]
     },
     "execution_count": 2,
     "metadata": {},
     "output_type": "execute_result"
    }
   ],
   "source": [
    "a+=b\n",
    "a"
   ]
  },
  {
   "cell_type": "markdown",
   "id": "d5e1467d",
   "metadata": {},
   "source": [
    "- given this type of combined operation and assignment is so common python includes built-in operators for all the arithmetric operations [3 p. 20]"
   ]
  },
  {
   "cell_type": "code",
   "execution_count": 3,
   "id": "991a556e",
   "metadata": {},
   "outputs": [
    {
     "data": {
      "text/plain": [
       "2"
      ]
     },
     "execution_count": 3,
     "metadata": {},
     "output_type": "execute_result"
    }
   ],
   "source": [
    "a-=b\n",
    "a"
   ]
  },
  {
   "cell_type": "code",
   "execution_count": 4,
   "id": "98c22a3f",
   "metadata": {},
   "outputs": [
    {
     "data": {
      "text/plain": [
       "6"
      ]
     },
     "execution_count": 4,
     "metadata": {},
     "output_type": "execute_result"
    }
   ],
   "source": [
    "a*=b\n",
    "a"
   ]
  },
  {
   "cell_type": "code",
   "execution_count": 5,
   "id": "96ca65da",
   "metadata": {},
   "outputs": [
    {
     "data": {
      "text/plain": [
       "2.0"
      ]
     },
     "execution_count": 5,
     "metadata": {},
     "output_type": "execute_result"
    }
   ],
   "source": [
    "a/=b\n",
    "a"
   ]
  },
  {
   "cell_type": "code",
   "execution_count": 6,
   "id": "97638a51",
   "metadata": {},
   "outputs": [
    {
     "data": {
      "text/plain": [
       "1.0"
      ]
     },
     "execution_count": 6,
     "metadata": {},
     "output_type": "execute_result"
    }
   ],
   "source": [
    "a//=a\n",
    "a"
   ]
  },
  {
   "cell_type": "code",
   "execution_count": 7,
   "id": "bb5fbb36",
   "metadata": {},
   "outputs": [
    {
     "data": {
      "text/plain": [
       "1.0"
      ]
     },
     "execution_count": 7,
     "metadata": {},
     "output_type": "execute_result"
    }
   ],
   "source": [
    "a%=b\n",
    "a"
   ]
  },
  {
   "cell_type": "code",
   "execution_count": 8,
   "id": "d551e3ea",
   "metadata": {},
   "outputs": [
    {
     "data": {
      "text/plain": [
       "1.0"
      ]
     },
     "execution_count": 8,
     "metadata": {},
     "output_type": "execute_result"
    }
   ],
   "source": [
    "a**=b\n",
    "a"
   ]
  },
  {
   "cell_type": "markdown",
   "id": "a93ae939",
   "metadata": {},
   "source": [
    "- augmented assignment operator corresponding to each of the binary operators whereby each is equivalent to the corresponding operation followed by assignment [3 p. 20]"
   ]
  },
  {
   "cell_type": "markdown",
   "id": "fa690611",
   "metadata": {},
   "source": [
    "- primarily used to update the intersection of built-in set types [[stackoverflow](https://web.archive.org/web/20210320080740/https://stackoverflow.com/questions/21237767/python-a-b-meaning)]"
   ]
  },
  {
   "cell_type": "code",
   "execution_count": 9,
   "id": "11c3566c",
   "metadata": {},
   "outputs": [],
   "source": [
    "a=set(\"abcd\")"
   ]
  },
  {
   "cell_type": "code",
   "execution_count": 10,
   "id": "77f1f0fc",
   "metadata": {},
   "outputs": [
    {
     "data": {
      "text/plain": [
       "{'b', 'd'}"
      ]
     },
     "execution_count": 10,
     "metadata": {},
     "output_type": "execute_result"
    }
   ],
   "source": [
    "a&=set(\"bdfg\")\n",
    "a"
   ]
  },
  {
   "cell_type": "code",
   "execution_count": 11,
   "id": "bcf1545c",
   "metadata": {},
   "outputs": [
    {
     "data": {
      "text/plain": [
       "{'b', 'd'}"
      ]
     },
     "execution_count": 11,
     "metadata": {},
     "output_type": "execute_result"
    }
   ],
   "source": [
    "a.__iand__(set(\"abcd\"))\n",
    "a"
   ]
  },
  {
   "cell_type": "markdown",
   "id": "20375c53",
   "metadata": {},
   "source": [
    "- shorthand [[stackoverflow](https://web.archive.org/web/20210320080740/https://stackoverflow.com/questions/21237767/python-a-b-meaning)]"
   ]
  },
  {
   "cell_type": "code",
   "execution_count": 12,
   "id": "c8ca65d3",
   "metadata": {},
   "outputs": [
    {
     "data": {
      "text/plain": [
       "{'b', 'd'}"
      ]
     },
     "execution_count": 12,
     "metadata": {},
     "output_type": "execute_result"
    }
   ],
   "source": [
    "a=a&set(\"abcd\")\n",
    "a"
   ]
  },
  {
   "cell_type": "markdown",
   "id": "6ec96d92",
   "metadata": {},
   "source": [
    "- slight catch for mutable objects (list/arrays or DataFrames) is that these augmented assignment operations are subtly different than their more verbose counterparts wherey the contents of the original object is modified rather than creating a new object [3 p. 20]"
   ]
  },
  {
   "cell_type": "code",
   "execution_count": 13,
   "id": "f6a63e4a",
   "metadata": {},
   "outputs": [],
   "source": [
    "exit()"
   ]
  },
  {
   "cell_type": "markdown",
   "id": "8eec38e9",
   "metadata": {},
   "source": [
    "< [Table of Contents](#top) | [References](#references) >\n",
    "<a id=\"Comparison\"></a>\n",
    "***\n",
    "###### Comparison\n",
    "***"
   ]
  },
  {
   "cell_type": "markdown",
   "id": "92a2184f",
   "metadata": {},
   "source": [
    "- comparison of different values returning boolean values ``True`` or ``False`` [3 p. 21]"
   ]
  },
  {
   "cell_type": "markdown",
   "id": "d0554b76",
   "metadata": {},
   "source": [
    "|Operator|Description|\n",
    "|:------------------------- | :------------------------- |\n",
    "|a==b|a equal to b|\n",
    "|a!=b|a not equal to b|\n",
    "|a<b|a less than b|\n",
    "|a>b|a greater than b|\n",
    "|a<=b|a less than or equal to b|\n",
    "|a>=b|a greater than or equal to b|"
   ]
  },
  {
   "cell_type": "markdown",
   "id": "e106f28b",
   "metadata": {},
   "source": [
    "- comparison operators combined with the arithmetic and bitwise operators express a virtually limitless range of tests for numbers - check if a number is odd by checking ``%2`` returns one [3 p. 21]"
   ]
  },
  {
   "cell_type": "code",
   "execution_count": 1,
   "id": "307a5794",
   "metadata": {},
   "outputs": [],
   "source": [
    "n=3"
   ]
  },
  {
   "cell_type": "code",
   "execution_count": 2,
   "id": "7f2fcfed",
   "metadata": {},
   "outputs": [
    {
     "data": {
      "text/plain": [
       "True"
      ]
     },
     "execution_count": 2,
     "metadata": {},
     "output_type": "execute_result"
    }
   ],
   "source": [
    "n%2!=0"
   ]
  },
  {
   "cell_type": "markdown",
   "id": "b6f41ddb",
   "metadata": {},
   "source": [
    "- can string together multiple comparisons to check more complicated relationships [3 p. 21]"
   ]
  },
  {
   "cell_type": "code",
   "execution_count": 3,
   "id": "35272b68",
   "metadata": {},
   "outputs": [],
   "source": [
    "n=2"
   ]
  },
  {
   "cell_type": "code",
   "execution_count": 4,
   "id": "d8ce853b",
   "metadata": {},
   "outputs": [
    {
     "data": {
      "text/plain": [
       "True"
      ]
     },
     "execution_count": 4,
     "metadata": {},
     "output_type": "execute_result"
    }
   ],
   "source": [
    "1<n<3"
   ]
  },
  {
   "cell_type": "code",
   "execution_count": 5,
   "id": "b5bc7d58",
   "metadata": {},
   "outputs": [
    {
     "data": {
      "text/plain": [
       "False"
      ]
     },
     "execution_count": 5,
     "metadata": {},
     "output_type": "execute_result"
    }
   ],
   "source": [
    "2<n>2"
   ]
  },
  {
   "cell_type": "markdown",
   "id": "b3985a89",
   "metadata": {},
   "source": [
    "- bitwise logical operation ``~`` (bit-flip operator) evidently when flipping all the bits of zero then ending up with minus one (twos complement integer encoding scheme is what python uses to encode signed integers) [3 p. 21]"
   ]
  },
  {
   "cell_type": "code",
   "execution_count": 6,
   "id": "63e27de4",
   "metadata": {},
   "outputs": [
    {
     "data": {
      "text/plain": [
       "-1"
      ]
     },
     "execution_count": 6,
     "metadata": {},
     "output_type": "execute_result"
    }
   ],
   "source": [
    "~0"
   ]
  },
  {
   "cell_type": "code",
   "execution_count": 7,
   "id": "642b87d9",
   "metadata": {},
   "outputs": [
    {
     "data": {
      "text/plain": [
       "True"
      ]
     },
     "execution_count": 7,
     "metadata": {},
     "output_type": "execute_result"
    }
   ],
   "source": [
    "-1==~0"
   ]
  },
  {
   "cell_type": "code",
   "execution_count": 8,
   "id": "a944d00b",
   "metadata": {},
   "outputs": [],
   "source": [
    "exit()"
   ]
  },
  {
   "cell_type": "markdown",
   "id": "3d87db79",
   "metadata": {},
   "source": [
    "< [Table of Contents](#top) | [References](#references) >\n",
    "<a id=\"Boolean\"></a>\n",
    "***\n",
    "###### Boolean\n",
    "***"
   ]
  },
  {
   "cell_type": "markdown",
   "id": "827a8548",
   "metadata": {},
   "source": [
    "- operators expressed using the words ``and`` ``or`` ``not`` [3 p. 22]"
   ]
  },
  {
   "cell_type": "code",
   "execution_count": 1,
   "id": "b63a3b10",
   "metadata": {},
   "outputs": [],
   "source": [
    "n=2"
   ]
  },
  {
   "cell_type": "code",
   "execution_count": 2,
   "id": "3feee1d8",
   "metadata": {},
   "outputs": [
    {
     "data": {
      "text/plain": [
       "True"
      ]
     },
     "execution_count": 2,
     "metadata": {},
     "output_type": "execute_result"
    }
   ],
   "source": [
    "(n>1)and(n<3)"
   ]
  },
  {
   "cell_type": "code",
   "execution_count": 3,
   "id": "bb6cf796",
   "metadata": {},
   "outputs": [
    {
     "data": {
      "text/plain": [
       "True"
      ]
     },
     "execution_count": 3,
     "metadata": {},
     "output_type": "execute_result"
    }
   ],
   "source": [
    "(n>1)or(n%2==0)"
   ]
  },
  {
   "cell_type": "code",
   "execution_count": 4,
   "id": "1aefb629",
   "metadata": {},
   "outputs": [
    {
     "data": {
      "text/plain": [
       "False"
      ]
     },
     "execution_count": 4,
     "metadata": {},
     "output_type": "execute_result"
    }
   ],
   "source": [
    "not(n<3)"
   ]
  },
  {
   "cell_type": "markdown",
   "id": "a657660d",
   "metadata": {},
   "source": [
    "- ``XOR`` exclusive or (exclusive disjunction) is a logical operator which results ``True`` only when the inputs differ [3 p. 22]"
   ]
  },
  {
   "cell_type": "markdown",
   "id": "28f130e5",
   "metadata": {},
   "source": [
    "- operator is not included in python albeit can be constructed in several ways from a compound statement using other operators [3 p. 22]"
   ]
  },
  {
   "cell_type": "code",
   "execution_count": 5,
   "id": "6a08e327",
   "metadata": {},
   "outputs": [
    {
     "data": {
      "text/plain": [
       "False"
      ]
     },
     "execution_count": 5,
     "metadata": {},
     "output_type": "execute_result"
    }
   ],
   "source": [
    "(n>1)!=(n<3)"
   ]
  },
  {
   "cell_type": "markdown",
   "id": "27ec1519",
   "metadata": {},
   "source": [
    "- use boolean operators ``and`` ``or`` ``not`` to compute boolean values (truth or falsehood of entire statements) - control flow statements such as conditionals and loops [3 p. 22]"
   ]
  },
  {
   "cell_type": "markdown",
   "id": "99b7f6cb",
   "metadata": {},
   "source": [
    "- use bitwise operations ``~`` ``&`` ``|`` when operating on individual bits or components of the objects in question [3 p. 22]"
   ]
  },
  {
   "cell_type": "code",
   "execution_count": 6,
   "id": "35ef298e",
   "metadata": {},
   "outputs": [],
   "source": [
    "exit()"
   ]
  },
  {
   "cell_type": "markdown",
   "id": "f77be64f",
   "metadata": {},
   "source": [
    "< [Table of Contents](#top) | [References](#references) >\n",
    "<a id=\"Identity\"></a>\n",
    "***\n",
    "###### Identity\n",
    "***"
   ]
  },
  {
   "cell_type": "markdown",
   "id": "df69adc8",
   "metadata": {},
   "source": [
    "- prose-like operators ``is`` and ``is not`` both check for object identity [3 p. 23]"
   ]
  },
  {
   "cell_type": "markdown",
   "id": "27163f5f",
   "metadata": {},
   "source": [
    "- ``is`` true if object ``a`` is identical to object ``b`` [3 p. 23]"
   ]
  },
  {
   "cell_type": "code",
   "execution_count": 1,
   "id": "ed49d4fe",
   "metadata": {},
   "outputs": [],
   "source": [
    "a,b=1,1"
   ]
  },
  {
   "cell_type": "code",
   "execution_count": 2,
   "id": "4eda5a1d",
   "metadata": {},
   "outputs": [
    {
     "data": {
      "text/plain": [
       "True"
      ]
     },
     "execution_count": 2,
     "metadata": {},
     "output_type": "execute_result"
    }
   ],
   "source": [
    "a is b"
   ]
  },
  {
   "cell_type": "code",
   "execution_count": 3,
   "id": "f51015de",
   "metadata": {},
   "outputs": [
    {
     "data": {
      "text/plain": [
       "True"
      ]
     },
     "execution_count": 3,
     "metadata": {},
     "output_type": "execute_result"
    }
   ],
   "source": [
    "b is a"
   ]
  },
  {
   "cell_type": "code",
   "execution_count": 4,
   "id": "a77cea66",
   "metadata": {},
   "outputs": [],
   "source": [
    "b=2"
   ]
  },
  {
   "cell_type": "code",
   "execution_count": 5,
   "id": "ce448212",
   "metadata": {},
   "outputs": [
    {
     "data": {
      "text/plain": [
       "False"
      ]
     },
     "execution_count": 5,
     "metadata": {},
     "output_type": "execute_result"
    }
   ],
   "source": [
    "b is a"
   ]
  },
  {
   "cell_type": "markdown",
   "id": "2102ab7b",
   "metadata": {},
   "source": [
    "- ``is not`` true if object ``a`` is not identical to object ``b`` [3 p. 23]"
   ]
  },
  {
   "cell_type": "code",
   "execution_count": 6,
   "id": "5369604c",
   "metadata": {},
   "outputs": [],
   "source": [
    "a=b"
   ]
  },
  {
   "cell_type": "code",
   "execution_count": 7,
   "id": "84fb30bb",
   "metadata": {},
   "outputs": [
    {
     "data": {
      "text/plain": [
       "True"
      ]
     },
     "execution_count": 7,
     "metadata": {},
     "output_type": "execute_result"
    }
   ],
   "source": [
    "a is b"
   ]
  },
  {
   "cell_type": "code",
   "execution_count": 8,
   "id": "663266a8",
   "metadata": {},
   "outputs": [
    {
     "data": {
      "text/plain": [
       "False"
      ]
     },
     "execution_count": 8,
     "metadata": {},
     "output_type": "execute_result"
    }
   ],
   "source": [
    "a is not b"
   ]
  },
  {
   "cell_type": "markdown",
   "id": "93ada339",
   "metadata": {},
   "source": [
    "- initially point to different objects (different to equality) [3 p. 23]"
   ]
  },
  {
   "cell_type": "code",
   "execution_count": 9,
   "id": "a9da6cc7",
   "metadata": {},
   "outputs": [],
   "source": [
    "a,b=[1,2,3],[1,2,3]"
   ]
  },
  {
   "cell_type": "code",
   "execution_count": 10,
   "id": "6863f688",
   "metadata": {},
   "outputs": [
    {
     "data": {
      "text/plain": [
       "True"
      ]
     },
     "execution_count": 10,
     "metadata": {},
     "output_type": "execute_result"
    }
   ],
   "source": [
    "a==b"
   ]
  },
  {
   "cell_type": "code",
   "execution_count": 11,
   "id": "9ba948ef",
   "metadata": {},
   "outputs": [
    {
     "data": {
      "text/plain": [
       "False"
      ]
     },
     "execution_count": 11,
     "metadata": {},
     "output_type": "execute_result"
    }
   ],
   "source": [
    "a is b"
   ]
  },
  {
   "cell_type": "code",
   "execution_count": 12,
   "id": "47df465f",
   "metadata": {},
   "outputs": [
    {
     "data": {
      "text/plain": [
       "True"
      ]
     },
     "execution_count": 12,
     "metadata": {},
     "output_type": "execute_result"
    }
   ],
   "source": [
    "a is not b"
   ]
  },
  {
   "cell_type": "code",
   "execution_count": 13,
   "id": "91653a4f",
   "metadata": {},
   "outputs": [],
   "source": [
    "a=b"
   ]
  },
  {
   "cell_type": "code",
   "execution_count": 14,
   "id": "0751efc9",
   "metadata": {},
   "outputs": [
    {
     "data": {
      "text/plain": [
       "True"
      ]
     },
     "execution_count": 14,
     "metadata": {},
     "output_type": "execute_result"
    }
   ],
   "source": [
    "a is b"
   ]
  },
  {
   "cell_type": "code",
   "execution_count": 15,
   "id": "ed2e210a",
   "metadata": {},
   "outputs": [
    {
     "data": {
      "text/plain": [
       "False"
      ]
     },
     "execution_count": 15,
     "metadata": {},
     "output_type": "execute_result"
    }
   ],
   "source": [
    "a is not b"
   ]
  },
  {
   "cell_type": "markdown",
   "id": "3a8ceb09",
   "metadata": {},
   "source": [
    "- operator ``ìs`` checks whether two names are pointing to the same container (object) rather than referring to what the container contains [3 p. 23]"
   ]
  },
  {
   "cell_type": "code",
   "execution_count": 16,
   "id": "a2b3ec6d",
   "metadata": {},
   "outputs": [],
   "source": [
    "exit()"
   ]
  },
  {
   "cell_type": "markdown",
   "id": "2c5c2f21",
   "metadata": {},
   "source": [
    "< [Table of Contents](#top) | [References](#references) >\n",
    "<a id=\"Membership\"></a>\n",
    "***\n",
    "###### Membership\n",
    "***"
   ]
  },
  {
   "cell_type": "markdown",
   "id": "f6b73079",
   "metadata": {},
   "source": [
    "- check for membership within compound objects [3 p. 23]"
   ]
  },
  {
   "cell_type": "code",
   "execution_count": 1,
   "id": "fd887093",
   "metadata": {},
   "outputs": [
    {
     "data": {
      "text/plain": [
       "True"
      ]
     },
     "execution_count": 1,
     "metadata": {},
     "output_type": "execute_result"
    }
   ],
   "source": [
    "1 in [1,2,3]"
   ]
  },
  {
   "cell_type": "code",
   "execution_count": 2,
   "id": "e352bee3",
   "metadata": {},
   "outputs": [
    {
     "data": {
      "text/plain": [
       "False"
      ]
     },
     "execution_count": 2,
     "metadata": {},
     "output_type": "execute_result"
    }
   ],
   "source": [
    "4 in [1,2,3]"
   ]
  },
  {
   "cell_type": "code",
   "execution_count": 3,
   "id": "0ead63c5",
   "metadata": {},
   "outputs": [
    {
     "data": {
      "text/plain": [
       "True"
      ]
     },
     "execution_count": 3,
     "metadata": {},
     "output_type": "execute_result"
    }
   ],
   "source": [
    "4 not in [1,2,3]"
   ]
  },
  {
   "cell_type": "markdown",
   "id": "bfd99d3c",
   "metadata": {},
   "source": [
    "- membership operations are an example of what makes python so easy to use compared to lower-level languages such as C [3 p. 23]"
   ]
  },
  {
   "cell_type": "markdown",
   "id": "30fd8ede",
   "metadata": {},
   "source": [
    "- using the C language membership would generally be determined by manually constructing a loop over the list and checking for equality of each value [3 p. 23]"
   ]
  },
  {
   "cell_type": "markdown",
   "id": "9fd74a94",
   "metadata": {},
   "source": [
    "- with python just type what you want to know in a manner reminiscent of straightforward english prose [3 p. 24]"
   ]
  },
  {
   "cell_type": "code",
   "execution_count": 4,
   "id": "e6cdbcbd",
   "metadata": {},
   "outputs": [],
   "source": [
    "exit()"
   ]
  },
  {
   "cell_type": "markdown",
   "id": "a2320ca9",
   "metadata": {},
   "source": [
    "***\n",
    "# END"
   ]
  },
  {
   "cell_type": "markdown",
   "id": "85ee7b09",
   "metadata": {},
   "source": [
    "< [Table of Contents](#top) | [Abstract](#abstract) | [Introduction](#introduction) | [Conclusion](#conclusion) | [References](#references) >\n",
    "<a id=\"introduction\"></a>\n",
    "***\n",
    "# Introduction\n",
    "***"
   ]
  },
  {
   "cell_type": "markdown",
   "id": "9b6f92f2",
   "metadata": {},
   "source": [
    "< [Table of Contents](#top) | [References](#references) >\n",
    "<a id=\"setup-environment\"></a>\n",
    "***\n",
    "## Setup Environment\n",
    "***"
   ]
  },
  {
   "cell_type": "markdown",
   "id": "be6ab304",
   "metadata": {},
   "source": [
    "< [Table of Contents](#top) | [References](#references) >\n",
    "<a id=\"Setup-Environment-Overview\"></a>\n",
    "***\n",
    "###### Overview\n",
    "***"
   ]
  },
  {
   "cell_type": "markdown",
   "id": "0fef87d1",
   "metadata": {},
   "source": [
    "This week I would like you to download and install all the required software, and set up your GitHub."
   ]
  },
  {
   "cell_type": "code",
   "execution_count": null,
   "id": "f42aa1fd",
   "metadata": {},
   "outputs": [],
   "source": [
    "fFile(nParPath=\"./hide/01-Setup-Environment/prog 1.0 overview - 18-01-2021.mp4\")"
   ]
  },
  {
   "cell_type": "markdown",
   "id": "5c24406b",
   "metadata": {},
   "source": [
    "< [Table of Contents](#top) | [References](#references) >\n",
    "<a id=\"Setup-Environment-Install-Software\"></a>\n",
    "***\n",
    "###### Install Software\n",
    "***"
   ]
  },
  {
   "cell_type": "code",
   "execution_count": null,
   "id": "91aaa221",
   "metadata": {},
   "outputs": [],
   "source": [
    "fFile(nParPath=\"./hide/01-Setup-Environment/Prog1.1 Setup - 13-01-2021.mp4\")"
   ]
  },
  {
   "cell_type": "code",
   "execution_count": null,
   "id": "54e76221",
   "metadata": {},
   "outputs": [],
   "source": [
    "fFile(nParPath=\"./hide/01-Setup-Environment/prog 1.1 Setup.pptx\")"
   ]
  },
  {
   "cell_type": "code",
   "execution_count": null,
   "id": "77274e29",
   "metadata": {},
   "outputs": [],
   "source": [
    "fFile(nParPath=\"./hide/01-Setup-Environment/lab 1.1 Setup.pdf\")"
   ]
  },
  {
   "cell_type": "markdown",
   "id": "5d161f8c",
   "metadata": {},
   "source": [
    "< [Table of Contents](#top) | [References](#references) >\n",
    "<a id=\"Setup-Environment-Filesystem-and-First-program\"></a>\n",
    "***\n",
    "###### Filesystem and First program\n",
    "***"
   ]
  },
  {
   "cell_type": "code",
   "execution_count": null,
   "id": "8fa4ee68",
   "metadata": {
    "scrolled": false
   },
   "outputs": [],
   "source": [
    "fFile(nParPath=\"./hide/01-Setup-Environment/prog 1.2 OS and Running first python - 18-01-2021.mp4\")"
   ]
  },
  {
   "cell_type": "code",
   "execution_count": null,
   "id": "872bfcfa",
   "metadata": {},
   "outputs": [],
   "source": [
    "fFile(nParPath=\"./hide/01-Setup-Environment/prog 1.2 Running first python.pdf\")"
   ]
  },
  {
   "cell_type": "code",
   "execution_count": null,
   "id": "b6069548",
   "metadata": {
    "scrolled": false
   },
   "outputs": [],
   "source": [
    "fFile(nParPath=\"./hide/01-Setup-Environment/Unix and Linux Command Reference - FOSSwire.pdf\")"
   ]
  },
  {
   "cell_type": "markdown",
   "id": "1cd7e0e0",
   "metadata": {},
   "source": [
    "< [Table of Contents](#top) | [References](#references) >\n",
    "<a id=\"Setup-Environment-Git-and-GitHub\"></a>\n",
    "***\n",
    "###### Git and GitHub\n",
    "***"
   ]
  },
  {
   "cell_type": "code",
   "execution_count": null,
   "id": "baaa93cc",
   "metadata": {
    "scrolled": false
   },
   "outputs": [],
   "source": [
    "fFile(nParPath=\"./hide/01-Setup-Environment/prog 1.3 git and gitHub - 18-01-2021.mp4\")"
   ]
  },
  {
   "cell_type": "code",
   "execution_count": null,
   "id": "b9f22648",
   "metadata": {},
   "outputs": [],
   "source": [
    "fFile(nParPath=\"./hide/01-Setup-Environment/prog 1.3 git and gitHub.pdf\")"
   ]
  },
  {
   "cell_type": "code",
   "execution_count": null,
   "id": "b958d9d1",
   "metadata": {
    "scrolled": false
   },
   "outputs": [],
   "source": [
    "fFile(nParPath=\"./hide/01-Setup-Environment/lab 1.3 github.pdf\")"
   ]
  },
  {
   "cell_type": "code",
   "execution_count": null,
   "id": "87f5098b",
   "metadata": {},
   "outputs": [],
   "source": [
    "fFile(nParPath=\"./hide/01-Setup-Environment/git-cheat-sheet-education.pdf\")"
   ]
  },
  {
   "cell_type": "code",
   "execution_count": null,
   "id": "38ccea45",
   "metadata": {
    "scrolled": false
   },
   "outputs": [],
   "source": [
    "fFile(nParPath=\"./hide/01-Setup-Environment/How do I manage my programs - 20-01-2020.mp4\")"
   ]
  },
  {
   "cell_type": "markdown",
   "id": "e75c4f7d",
   "metadata": {},
   "source": [
    "Documentation - What is git? [git-scm](https://www.git-scm.com/book/en/v2/Getting-Started-What-is-Git%3F)"
   ]
  },
  {
   "cell_type": "markdown",
   "id": "b0fa9d3b",
   "metadata": {},
   "source": [
    "< [Table of Contents](#top) | [References](#references) >\n",
    "<a id=\"Setup-Environment-A-Whirlwind-Tour-Of-Python\"></a>\n",
    "***\n",
    "###### A Whirlwind Tour Of Python\n",
    "***"
   ]
  },
  {
   "cell_type": "markdown",
   "id": "4dc9edc1",
   "metadata": {},
   "source": [
    "[A Whirlwind Tour Of Python](https://github.com/jakevdp/WhirlwindTourOfPython)"
   ]
  },
  {
   "cell_type": "markdown",
   "id": "c76f9092",
   "metadata": {},
   "source": [
    "< [Table of Contents](#top) | [References](#references) >\n",
    "<a id=\"Setup-Environment-Automate-the-Boring-Stuff-with-Python\"></a>\n",
    "***\n",
    "###### Automate the Boring Stuff with Python\n",
    "***"
   ]
  },
  {
   "cell_type": "code",
   "execution_count": null,
   "id": "67f7d85a",
   "metadata": {},
   "outputs": [],
   "source": [
    "fFile(nParPath=\"./hide/01-Setup-Environment/automate-the-boring-stuff-with-python.pdf\")"
   ]
  },
  {
   "cell_type": "markdown",
   "id": "03f2e30a",
   "metadata": {},
   "source": [
    "***\n",
    "## END"
   ]
  },
  {
   "cell_type": "markdown",
   "id": "eee4f8a7",
   "metadata": {},
   "source": [
    "< [Table of Contents](#top) | [References](#references) >\n",
    "<a id=\"statements\"></a>\n",
    "***\n",
    "## Statements\n",
    "***"
   ]
  },
  {
   "cell_type": "markdown",
   "id": "5931c6f3",
   "metadata": {},
   "source": [
    "This week we will look at python statements and variables."
   ]
  },
  {
   "cell_type": "code",
   "execution_count": null,
   "id": "e5494d79",
   "metadata": {},
   "outputs": [],
   "source": [
    "fFile(nParPath=\"./hide/02-Statements/pforcs 2.0 Overview Week02 - 27-01-2021.mp4\")"
   ]
  },
  {
   "cell_type": "markdown",
   "id": "b80e9f09",
   "metadata": {},
   "source": [
    "< [Table of Contents](#top) | [References](#references) >\n",
    "<a id=\"Statements-Introduction-to-Programming\"></a>\n",
    "***\n",
    "###### Introduction to Programming\n",
    "***"
   ]
  },
  {
   "cell_type": "code",
   "execution_count": null,
   "id": "440727c3",
   "metadata": {},
   "outputs": [],
   "source": [
    "fFile(nParPath=\"./hide/02-Statements/prog 2.09 intro to programming - 26-01-2021.mp4\")"
   ]
  },
  {
   "cell_type": "code",
   "execution_count": null,
   "id": "3e62d132",
   "metadata": {
    "scrolled": false
   },
   "outputs": [],
   "source": [
    "fFile(nParPath=\"./hide/02-Statements/prog 2.09 intro to programming.pdf\")"
   ]
  },
  {
   "cell_type": "markdown",
   "id": "39bdf3c0",
   "metadata": {},
   "source": [
    "< [Table of Contents](#top) | [References](#references) >\n",
    "<a id=\"Statements-Python\"></a>\n",
    "***\n",
    "###### Python\n",
    "***"
   ]
  },
  {
   "cell_type": "code",
   "execution_count": null,
   "id": "03ec3320",
   "metadata": {},
   "outputs": [],
   "source": [
    "fFile(nParPath=\"./hide/02-Statements/prog 2.1 Python - 26-01-2021.mp4\")"
   ]
  },
  {
   "cell_type": "code",
   "execution_count": null,
   "id": "ca594617",
   "metadata": {
    "scrolled": false
   },
   "outputs": [],
   "source": [
    "fFile(nParPath=\"./hide/02-Statements/prog 2.1 statements.pdf\")"
   ]
  },
  {
   "cell_type": "code",
   "execution_count": null,
   "id": "0f193684",
   "metadata": {},
   "outputs": [],
   "source": [
    "fFile(nParPath=\"./hide/02-Statements/lab 2.1 statements.pdf\")"
   ]
  },
  {
   "cell_type": "markdown",
   "id": "a308fbc9",
   "metadata": {},
   "source": [
    "< [Table of Contents](#top) | [References](#references) >\n",
    "<a id=\"Statements-Using-VSCode\"></a>\n",
    "***\n",
    "###### Using VSCode\n",
    "***"
   ]
  },
  {
   "cell_type": "code",
   "execution_count": null,
   "id": "dcdcb4fc",
   "metadata": {},
   "outputs": [],
   "source": [
    "fFile(nParPath=\"./hide/02-Statements/prog 2.2 using VSCode - 26-01-2021.mp4\")"
   ]
  },
  {
   "cell_type": "markdown",
   "id": "646c254b",
   "metadata": {},
   "source": [
    "- Python Development in Visual Studio Code [realpython](https://realpython.com/python-development-visual-studio-code)"
   ]
  },
  {
   "cell_type": "markdown",
   "id": "4043d6c1",
   "metadata": {},
   "source": [
    "< [Table of Contents](#top) | [References](#references) >\n",
    "<a id=\"Statements-First-Program\"></a>\n",
    "***\n",
    "###### First Program\n",
    "***"
   ]
  },
  {
   "cell_type": "code",
   "execution_count": null,
   "id": "f9d90ef1",
   "metadata": {
    "scrolled": false
   },
   "outputs": [],
   "source": [
    "fFile(nParPath=\"./hide/02-Statements/prog 2.2.1 First programs - 26-01-2021.mp4\")"
   ]
  },
  {
   "cell_type": "code",
   "execution_count": null,
   "id": "26d222f4",
   "metadata": {},
   "outputs": [],
   "source": [
    "fFile(nParPath=\"./hide/02-Statements/prog 2.2.1 First programs.pdf\")"
   ]
  },
  {
   "cell_type": "code",
   "execution_count": null,
   "id": "bdb0e474",
   "metadata": {},
   "outputs": [],
   "source": [
    "fFile(nParPath=\"./hide/02-Statements/lab 2.2 First Programs.pdf\")"
   ]
  },
  {
   "cell_type": "markdown",
   "id": "263216c5",
   "metadata": {},
   "source": [
    "< [Table of Contents](#top) | [References](#references) >\n",
    "<a id=\"Statements-Gmail\"></a>\n",
    "***\n",
    "###### Gmail\n",
    "***"
   ]
  },
  {
   "cell_type": "markdown",
   "id": "507a3080",
   "metadata": {},
   "source": [
    "[How To Send Email Using Gmail In Python](https://codehandbook.org/how-to-send-email-using-gmail-in-python)"
   ]
  },
  {
   "cell_type": "markdown",
   "id": "0b8ce45d",
   "metadata": {},
   "source": [
    "***\n",
    "## END"
   ]
  },
  {
   "cell_type": "markdown",
   "id": "811c598a",
   "metadata": {},
   "source": [
    "< [Table of Contents](#top) | [References](#references) >\n",
    "<a id=\"state\"></a>\n",
    "***\n",
    "## State\n",
    "***"
   ]
  },
  {
   "cell_type": "markdown",
   "id": "2850ab1c",
   "metadata": {},
   "source": [
    "This week we'll discuss both how Python thinks about data. (variable Types)."
   ]
  },
  {
   "cell_type": "code",
   "execution_count": null,
   "id": "5d42fc59",
   "metadata": {},
   "outputs": [],
   "source": [
    "fFile(nParPath=\"./hide/03-State/pforcs 3.0 Overview - 03-02-2021.mp4\")"
   ]
  },
  {
   "cell_type": "markdown",
   "id": "bb670784",
   "metadata": {},
   "source": [
    "< [Table of Contents](#top) | [References](#references) >\n",
    "<a id=\"State-Variable-Types\"></a>\n",
    "***\n",
    "###### Variable-Types\n",
    "***"
   ]
  },
  {
   "cell_type": "code",
   "execution_count": null,
   "id": "8eba2625",
   "metadata": {},
   "outputs": [],
   "source": [
    "fFile(nParPath=\"./hide/03-State/pforcs 3.1 variable types - 02-02-2021.mp4\")"
   ]
  },
  {
   "cell_type": "code",
   "execution_count": null,
   "id": "fb428428",
   "metadata": {},
   "outputs": [],
   "source": [
    "fFile(nParPath=\"./hide/03-State/pforcs 3.1 variable types.pdf\")"
   ]
  },
  {
   "cell_type": "code",
   "execution_count": null,
   "id": "0da34188",
   "metadata": {},
   "outputs": [],
   "source": [
    "fFile(nParPath=\"./hide/03-State/lab 3.1 Variables and state.pdf\")"
   ]
  },
  {
   "cell_type": "markdown",
   "id": "acbe4eb7",
   "metadata": {},
   "source": [
    "< [Table of Contents](#top) | [References](#references) >\n",
    "<a id=\"State-Numbers-and-Strings\"></a>\n",
    "***\n",
    "###### Numbers and Strings\n",
    "***"
   ]
  },
  {
   "cell_type": "code",
   "execution_count": null,
   "id": "2f15508a",
   "metadata": {},
   "outputs": [],
   "source": [
    "fFile(nParPath=\"./hide/03-State/prog 3.2 Fun with numbers and Strings - 29-01-2021.mp4\")"
   ]
  },
  {
   "cell_type": "code",
   "execution_count": null,
   "id": "5f691d53",
   "metadata": {},
   "outputs": [],
   "source": [
    "fFile(nParPath=\"./hide/03-State/lab 3.2 Maths (extra practice).pdf\")"
   ]
  },
  {
   "cell_type": "code",
   "execution_count": null,
   "id": "09d58bbb",
   "metadata": {},
   "outputs": [],
   "source": [
    "fFile(nParPath=\"./hide/03-State/lab 3.3 Strings (extra practice).pdf\")"
   ]
  },
  {
   "cell_type": "markdown",
   "id": "0629150a",
   "metadata": {},
   "source": [
    "< [Table of Contents](#top) | [References](#references) >\n",
    "<a id=\"State-Lists-and-Tuples\"></a>\n",
    "***\n",
    "###### Lists and Tuples\n",
    "***"
   ]
  },
  {
   "cell_type": "code",
   "execution_count": null,
   "id": "261c8e68",
   "metadata": {},
   "outputs": [],
   "source": [
    "fFile(nParPath=\"./hide/03-State/pforcs 3.2 Lists and tuples - 02-02-2021.mp4\")"
   ]
  },
  {
   "cell_type": "code",
   "execution_count": null,
   "id": "8ac8f1f2",
   "metadata": {},
   "outputs": [],
   "source": [
    "fFile(nParPath=\"./hide/03-State/pforcs 3.4 Lists and tuples.pdf\")"
   ]
  },
  {
   "cell_type": "code",
   "execution_count": null,
   "id": "81846b77",
   "metadata": {},
   "outputs": [],
   "source": [
    "fFile(nParPath=\"./hide/03-State/lab 3.4 lists and tuples.pdf\")"
   ]
  },
  {
   "cell_type": "markdown",
   "id": "9f58179d",
   "metadata": {},
   "source": [
    "< [Table of Contents](#top) | [References](#references) >\n",
    "<a id=\"State-Dictionaries\"></a>\n",
    "***\n",
    "###### Dictionaries\n",
    "***"
   ]
  },
  {
   "cell_type": "code",
   "execution_count": null,
   "id": "cf2be52f",
   "metadata": {},
   "outputs": [],
   "source": [
    "fFile(nParPath=\"./hide/03-State/pforcs 3.5 Dict - 03-02-2021.mp4\")"
   ]
  },
  {
   "cell_type": "code",
   "execution_count": null,
   "id": "bfb96278",
   "metadata": {},
   "outputs": [],
   "source": [
    "fFile(nParPath=\"./hide/03-State/pforcs 3.5 Dict.pdf\")"
   ]
  },
  {
   "cell_type": "code",
   "execution_count": null,
   "id": "bef3a0a9",
   "metadata": {},
   "outputs": [],
   "source": [
    "fFile(nParPath=\"./hide/03-State/lab 3.5 Dict.pdf\")"
   ]
  },
  {
   "cell_type": "markdown",
   "id": "f89a34ce",
   "metadata": {},
   "source": [
    "< [Table of Contents](#top) | [References](#references) >\n",
    "<a id=\"State-Bitcoin\"></a>\n",
    "***\n",
    "###### Bitcoin\n",
    "***"
   ]
  },
  {
   "cell_type": "code",
   "execution_count": null,
   "id": "2e025e3c",
   "metadata": {},
   "outputs": [],
   "source": [
    "fFile(nParPath=\"./hide/03-State/Problem Sheet Week 03.pdf\")"
   ]
  },
  {
   "cell_type": "markdown",
   "id": "94978c13",
   "metadata": {},
   "source": [
    "***\n",
    "## END"
   ]
  },
  {
   "cell_type": "markdown",
   "id": "324e4ae7",
   "metadata": {},
   "source": [
    "< [Table of Contents](#top) | [References](#references) >\n",
    "<a id=\"controlling-the-flow\"></a>\n",
    "***\n",
    "## Controlling the Flow\n",
    "***"
   ]
  },
  {
   "cell_type": "markdown",
   "id": "4c90afa2",
   "metadata": {},
   "source": [
    "This week we'll discuss controlling the flow of a program in Python, by making some statements conditional and repeating others.\n",
    "\n",
    "This week we are looking at flow control:\n",
    "\n",
    "- if statement\n",
    "- while loops\n",
    "- for loops"
   ]
  },
  {
   "cell_type": "markdown",
   "id": "c92153f6",
   "metadata": {},
   "source": [
    "< [Table of Contents](#top) | [References](#references) >\n",
    "<a id=\"controlling-the-flow-if-else-elif\"></a>\n",
    "***\n",
    "###### if else elif\n",
    "***"
   ]
  },
  {
   "cell_type": "code",
   "execution_count": null,
   "id": "212ba6ec",
   "metadata": {},
   "outputs": [],
   "source": [
    "fFile(nParPath=\"./hide/04-Controlling-the-Flow/pforcs 4.1 if else and elif - 05-02-2021.mp4\")"
   ]
  },
  {
   "cell_type": "code",
   "execution_count": null,
   "id": "43ba418e",
   "metadata": {},
   "outputs": [],
   "source": [
    "fFile(nParPath=\"./hide/04-Controlling-the-Flow/pforcs 4.1 if else and elif.pdf\")"
   ]
  },
  {
   "cell_type": "code",
   "execution_count": null,
   "id": "58ed3836",
   "metadata": {},
   "outputs": [],
   "source": [
    "fFile(nParPath=\"./hide/04-Controlling-the-Flow/Lab 4.1 if (1).pdf\")"
   ]
  },
  {
   "cell_type": "markdown",
   "id": "4f158126",
   "metadata": {},
   "source": [
    "< [Table of Contents](#top) | [References](#references) >\n",
    "<a id=\"controlling-the-flow-while-for\"></a>\n",
    "***\n",
    "###### while for\n",
    "***"
   ]
  },
  {
   "cell_type": "code",
   "execution_count": null,
   "id": "e0ae6ab3",
   "metadata": {},
   "outputs": [],
   "source": [
    "fFile(nParPath=\"./hide/04-Controlling-the-Flow/pforcs 4.2 Iteration - 05-02-2021.mp4\")"
   ]
  },
  {
   "cell_type": "code",
   "execution_count": null,
   "id": "9b0ab329",
   "metadata": {},
   "outputs": [],
   "source": [
    "fFile(nParPath=\"./hide/04-Controlling-the-Flow/pforcs 4.2 Iteration.pptx\")"
   ]
  },
  {
   "cell_type": "code",
   "execution_count": null,
   "id": "f8fc69e7",
   "metadata": {},
   "outputs": [],
   "source": [
    "fFile(nParPath=\"./hide/04-Controlling-the-Flow/Lab 4.2 loops (1).pdf\")"
   ]
  },
  {
   "cell_type": "markdown",
   "id": "a2acbd49",
   "metadata": {},
   "source": [
    "***\n",
    "## END"
   ]
  },
  {
   "cell_type": "markdown",
   "id": "df20d6b0",
   "metadata": {},
   "source": [
    "< [Table of Contents](#top) | [References](#references) >\n",
    "<a id=\"functions\"></a>\n",
    "***\n",
    "## Functions\n",
    "***"
   ]
  },
  {
   "cell_type": "markdown",
   "id": "e6ef778b",
   "metadata": {},
   "source": [
    "< [Table of Contents](#top) | [References](#references) >\n",
    "<a id=\"functions-Introduction\"></a>\n",
    "***\n",
    "###### Introduction\n",
    "***"
   ]
  },
  {
   "cell_type": "code",
   "execution_count": null,
   "id": "d25d6d86",
   "metadata": {},
   "outputs": [],
   "source": [
    "fFile(nParPath=\"./hide/05-Functions/pforcs 5.1 functions syntax - 14-02-2021.mp4\")"
   ]
  },
  {
   "cell_type": "markdown",
   "id": "f07d8670",
   "metadata": {},
   "source": [
    "Defining Your Own Python Function [realpython](https://realpython.com/defining-your-own-python-function)"
   ]
  },
  {
   "cell_type": "markdown",
   "id": "6ac35795",
   "metadata": {},
   "source": [
    "< [Table of Contents](#top) | [References](#references) >\n",
    "<a id=\"functions-funky-syntax\"></a>\n",
    "***\n",
    "###### Funky Syntax\n",
    "***"
   ]
  },
  {
   "cell_type": "code",
   "execution_count": null,
   "id": "cebddce9",
   "metadata": {},
   "outputs": [],
   "source": [
    "fFile(nParPath=\"./hide/05-Functions/pforcs 5.2 more on Functions syntax - 14-02-2021.mp4\")"
   ]
  },
  {
   "cell_type": "markdown",
   "id": "4a9e90d2",
   "metadata": {},
   "source": [
    "< [Table of Contents](#top) | [References](#references) >\n",
    "<a id=\"functions-anonymous\"></a>\n",
    "***\n",
    "###### Anonymous\n",
    "***"
   ]
  },
  {
   "cell_type": "code",
   "execution_count": null,
   "id": "bee8b396",
   "metadata": {},
   "outputs": [],
   "source": [
    "fFile(nParPath=\"./hide/05-Functions/pforcs 5.3 anonymous functions - 14-02-2021.mp4\")"
   ]
  },
  {
   "cell_type": "markdown",
   "id": "f19d56ba",
   "metadata": {},
   "source": [
    "How to Use Python Lambda Functions [realpython](https://realpython.com/python-lambda)"
   ]
  },
  {
   "cell_type": "markdown",
   "id": "823e256b",
   "metadata": {},
   "source": [
    "< [Table of Contents](#top) | [References](#references) >\n",
    "<a id=\"functions-modules\"></a>\n",
    "***\n",
    "###### Modules\n",
    "***"
   ]
  },
  {
   "cell_type": "code",
   "execution_count": null,
   "id": "940238d9",
   "metadata": {},
   "outputs": [],
   "source": [
    "fFile(nParPath=\"./hide/05-Functions/pforcs 5.4 modules - 14-02-2021.mp4\")"
   ]
  },
  {
   "cell_type": "markdown",
   "id": "3f2465fc",
   "metadata": {},
   "source": [
    "Modules and Packages [WhirlwindTourOfPython](https://jakevdp.github.io/WhirlwindTourOfPython/13-modules-and-packages.html)"
   ]
  },
  {
   "cell_type": "markdown",
   "id": "5ada6f3d",
   "metadata": {},
   "source": [
    "***\n",
    "## END"
   ]
  },
  {
   "cell_type": "markdown",
   "id": "41ddea34",
   "metadata": {},
   "source": [
    "< [Table of Contents](#top) | [References](#references) >\n",
    "<a id=\"files\"></a>\n",
    "***\n",
    "## Files\n",
    "***"
   ]
  },
  {
   "cell_type": "markdown",
   "id": "c5125161",
   "metadata": {},
   "source": [
    "< [Table of Contents](#top) | [References](#references) >\n",
    "<a id=\"files-reading-and-writing\"></a>\n",
    "***\n",
    "###### Reading and Writing\n",
    "***"
   ]
  },
  {
   "cell_type": "code",
   "execution_count": null,
   "id": "69eb26f4",
   "metadata": {},
   "outputs": [],
   "source": [
    "fFile(nParPath=\"./hide/06-Files/pforcs 6.1 files - 18-02-2021.mp4\")"
   ]
  },
  {
   "cell_type": "markdown",
   "id": "7163397f",
   "metadata": {},
   "source": [
    "Working With Files in Python [realypython](https://realpython.com/working-with-files-in-python)"
   ]
  },
  {
   "cell_type": "code",
   "execution_count": null,
   "id": "0a25d471",
   "metadata": {},
   "outputs": [],
   "source": [
    "fFile(nParPath=\"./hide/06-Files/Lab 06 files.pdf\")"
   ]
  },
  {
   "cell_type": "markdown",
   "id": "9e3857d8",
   "metadata": {},
   "source": [
    "< [Table of Contents](#top) | [References](#references) >\n",
    "<a id=\"files-csv-and-pandas\"></a>\n",
    "***\n",
    "###### CSV and Pandas\n",
    "***"
   ]
  },
  {
   "cell_type": "code",
   "execution_count": null,
   "id": "5c5c2c54",
   "metadata": {},
   "outputs": [],
   "source": [
    "fFile(nParPath=\"./hide/06-Files/pforcs 6.2 csv and PANDAS - 18-02-2021.mp4\")"
   ]
  },
  {
   "cell_type": "markdown",
   "id": "6abc38e3",
   "metadata": {},
   "source": [
    "Reading and Writing CSV Files in Python [realypython](https://realpython.com/python-csv)"
   ]
  },
  {
   "cell_type": "markdown",
   "id": "8196e493",
   "metadata": {},
   "source": [
    "Pandas Tutorial [w3schools](https://www.w3schools.com/python/pandas/default.asp)"
   ]
  },
  {
   "cell_type": "markdown",
   "id": "9eea4f48",
   "metadata": {},
   "source": [
    "Transforming an XML Document Using XSLT [oreilly](https://www.oreilly.com/library/view/python-cookbook/0596001673/ch12s05.html)"
   ]
  },
  {
   "cell_type": "markdown",
   "id": "d31db790",
   "metadata": {},
   "source": [
    "JSON Module [devtut.github.io](https://devtut.github.io/python/json-module.html#storing-data-in-a-file)"
   ]
  },
  {
   "cell_type": "markdown",
   "id": "feed01f1",
   "metadata": {},
   "source": [
    "List of 63 Python os Module with Syntax & Examples (Latest) [data-flair.training](https://data-flair.training/blogs/python-os-module/#:~:text=%20What%20is%20Python%20OS%20Module?%20%201,(device).%20%207%20tmpnam%20().%20%20More)"
   ]
  },
  {
   "cell_type": "markdown",
   "id": "e3ffb099",
   "metadata": {},
   "source": [
    "CSV File Reading and Writing [python](https://docs.python.org/3/library/csv.html)"
   ]
  },
  {
   "cell_type": "markdown",
   "id": "a1619204",
   "metadata": {},
   "source": [
    "***\n",
    "## END"
   ]
  },
  {
   "cell_type": "markdown",
   "id": "604a9f88",
   "metadata": {},
   "source": [
    "< [Table of Contents](#top) | [References](#references) >\n",
    "<a id=\"regex\"></a>\n",
    "***\n",
    "## Regex\n",
    "***"
   ]
  },
  {
   "cell_type": "markdown",
   "id": "bf85fb59",
   "metadata": {},
   "source": [
    "< [Table of Contents](#top) | [References](#references) >\n",
    "<a id=\"regex-file-formats\"></a>\n",
    "***\n",
    "###### File Formats\n",
    "***"
   ]
  },
  {
   "cell_type": "code",
   "execution_count": null,
   "id": "a2d0b894",
   "metadata": {},
   "outputs": [],
   "source": [
    "fFile(nParPath=\"./hide/07-Regex/pforcs 7.1 file formats - 24-02-2021.mp4\")"
   ]
  },
  {
   "cell_type": "markdown",
   "id": "70a2f509",
   "metadata": {},
   "source": [
    "< [Table of Contents](#top) | [References](#references) >\n",
    "<a id=\"regex-regex\"></a>\n",
    "***\n",
    "###### Regex\n",
    "***"
   ]
  },
  {
   "cell_type": "code",
   "execution_count": null,
   "id": "0cb3e4c3",
   "metadata": {},
   "outputs": [],
   "source": [
    "fFile(nParPath=\"./hide/07-Regex/pforcs 7.2 Regular Expressions - 26-02-2021.mp4\")"
   ]
  },
  {
   "cell_type": "code",
   "execution_count": null,
   "id": "2e5f9916",
   "metadata": {},
   "outputs": [],
   "source": [
    "fFile(nParPath=\"./hide/07-Regex/Lab 07.02 regex.pdf\")"
   ]
  },
  {
   "cell_type": "markdown",
   "id": "ba259591",
   "metadata": {},
   "source": [
    "Regular Expressions: Regexes in Python (Part 1) [realpython](https://realpython.com/regex-python)"
   ]
  },
  {
   "cell_type": "markdown",
   "id": "ddb61e48",
   "metadata": {},
   "source": [
    "Common simple text files [file-extensions](https://www.file-extensions.org/common/text)"
   ]
  },
  {
   "cell_type": "markdown",
   "id": "18c1fef0",
   "metadata": {},
   "source": [
    "Regular Expressions Cheat Sheet [cheatography](https://cheatography.com/davechild/cheat-sheets/regular-expressions)"
   ]
  },
  {
   "cell_type": "markdown",
   "id": "7c6fe616",
   "metadata": {},
   "source": [
    "Python RegEx [w3schools](https://www.w3schools.com/python/python_regex.asp)"
   ]
  },
  {
   "cell_type": "markdown",
   "id": "718915b8",
   "metadata": {},
   "source": [
    "Regular Expressions You Should Know [code.tutsplus](https://code.tutsplus.com/tutorials/8-regular-expressions-you-should-know--net-6149)"
   ]
  },
  {
   "cell_type": "markdown",
   "id": "10c5c5d2",
   "metadata": {},
   "source": [
    "Sed Command in Linux/Unix with examples [geeksforgeeks](https://www.geeksforgeeks.org/sed-command-in-linux-unix-with-examples/)"
   ]
  },
  {
   "cell_type": "code",
   "execution_count": null,
   "id": "b23cdb89",
   "metadata": {},
   "outputs": [],
   "source": [
    "fFile(nParPath=\"./hide/07-Regex/Regular-Expressions.pdf\")"
   ]
  },
  {
   "cell_type": "markdown",
   "id": "5701b9d5",
   "metadata": {},
   "source": [
    "The Pandas DataFrame: Make Working With Data Delightful [realpython](https://realpython.com/pandas-dataframe)"
   ]
  },
  {
   "cell_type": "markdown",
   "id": "08d1fbe5",
   "metadata": {},
   "source": [
    "***\n",
    "## END"
   ]
  },
  {
   "cell_type": "markdown",
   "id": "333eedcb",
   "metadata": {},
   "source": [
    "< [Table of Contents](#top) | [References](#references) >\n",
    "<a id=\"plotting\"></a>\n",
    "***\n",
    "## Plotting\n",
    "***"
   ]
  },
  {
   "cell_type": "markdown",
   "id": "9ad54a61",
   "metadata": {},
   "source": [
    "Introduce numpy, this is a module for manipulated arrays/matrixes quicker and more efficiently than lists, matplotlib uses numpy.\n",
    "\n",
    "Only scrapping the surface of what you can do with numpy and matplotlib.\n",
    "\n",
    "There is another module for plotting called seaborn that is built on matplotlib."
   ]
  },
  {
   "cell_type": "markdown",
   "id": "239b5f68",
   "metadata": {},
   "source": [
    "< [Table of Contents](#top) | [References](#references) >\n",
    "<a id=\"plotting-numpy\"></a>\n",
    "***\n",
    "###### numpy\n",
    "***"
   ]
  },
  {
   "cell_type": "code",
   "execution_count": null,
   "id": "30f31541",
   "metadata": {},
   "outputs": [],
   "source": [
    "fFile(nParPath=\"./hide/08-Plotting/pands 8.1 useful modules - 04-03-2021.mp4\")"
   ]
  },
  {
   "cell_type": "markdown",
   "id": "0dd21723",
   "metadata": {},
   "source": [
    "< [Table of Contents](#top) | [References](#references) >\n",
    "<a id=\"plotting-matplotlib\"></a>\n",
    "***\n",
    "###### matplotlib\n",
    "***"
   ]
  },
  {
   "cell_type": "code",
   "execution_count": null,
   "id": "cd16499c",
   "metadata": {},
   "outputs": [],
   "source": [
    "fFile(nParPath=\"./hide/08-Plotting/pands 8.2 Plotting - 04-03-2021.mp4\")"
   ]
  },
  {
   "cell_type": "code",
   "execution_count": null,
   "id": "6e0a4d44",
   "metadata": {},
   "outputs": [],
   "source": [
    "fFile(nParPath=\"./hide/08-Plotting/Lab 08 matplotlb.pdf\")"
   ]
  },
  {
   "cell_type": "markdown",
   "id": "823f5c7c",
   "metadata": {},
   "source": [
    "What Is NumPy? [realpython](https://realpython.com/tutorials/numpy)"
   ]
  },
  {
   "cell_type": "markdown",
   "id": "cb4ccf15",
   "metadata": {},
   "source": [
    "NumPy Introduction [w3schools](https://www.w3schools.com/python/numpy/numpy_intro.asp)"
   ]
  },
  {
   "cell_type": "markdown",
   "id": "f1b9c8e8",
   "metadata": {},
   "source": [
    "Numpy [numpy](https://numpy.org)"
   ]
  },
  {
   "cell_type": "markdown",
   "id": "e543974d",
   "metadata": {},
   "source": [
    "Numpy [github](https://github.com/numpy/numpy)"
   ]
  },
  {
   "cell_type": "markdown",
   "id": "3c863266",
   "metadata": {},
   "source": [
    "Matplotlib Tutorial [w3schools](https://www.w3schools.com/python/matplotlib_intro.asp)"
   ]
  },
  {
   "cell_type": "markdown",
   "id": "1a34f0dc",
   "metadata": {},
   "source": [
    "Python Plotting With Matplotlib (Guide) [realpython](https://realpython.com/python-matplotlib-guide)"
   ]
  },
  {
   "cell_type": "markdown",
   "id": "b8e8a935",
   "metadata": {},
   "source": [
    "***\n",
    "## END"
   ]
  },
  {
   "cell_type": "markdown",
   "id": "e2cc50cb",
   "metadata": {},
   "source": [
    "< [Table of Contents](#top) | [References](#references) >\n",
    "<a id=\"pandas\"></a>\n",
    "***\n",
    "## Pandas\n",
    "***"
   ]
  },
  {
   "cell_type": "markdown",
   "id": "9cb6f42c",
   "metadata": {},
   "source": [
    "What is Pandas (dataframe and series)\n",
    "\n",
    "Reading and writing data from/to files\n",
    "\n",
    "Tidying up and manipulating of data\n",
    "\n",
    "Introduction to Data analysis with Pandas"
   ]
  },
  {
   "cell_type": "markdown",
   "id": "e7ffca9b",
   "metadata": {},
   "source": [
    "< [Table of Contents](#top) | [References](#references) >\n",
    "<a id=\"pandas-introduction\"></a>\n",
    "***\n",
    "###### Introduction\n",
    "***"
   ]
  },
  {
   "cell_type": "code",
   "execution_count": null,
   "id": "e19061f2",
   "metadata": {},
   "outputs": [],
   "source": [
    "fFile(nParPath=\"./hide/09-Pandas/pforcs 9.0 overview - 16-03-2021.mp4\")"
   ]
  },
  {
   "cell_type": "markdown",
   "id": "e625f72d",
   "metadata": {},
   "source": [
    "< [Table of Contents](#top) | [References](#references) >\n",
    "<a id=\"pandas-data-manipulation\"></a>\n",
    "***\n",
    "###### Data Manipulation\n",
    "***"
   ]
  },
  {
   "cell_type": "code",
   "execution_count": null,
   "id": "0ec4e559",
   "metadata": {},
   "outputs": [],
   "source": [
    "fFile(nParPath=\"./hide/09-Pandas/pforcs 9.1 pandas 1 - 14-03-2021.mp4\")"
   ]
  },
  {
   "cell_type": "markdown",
   "id": "b49480f5",
   "metadata": {},
   "source": [
    "< [Table of Contents](#top) | [References](#references) >\n",
    "<a id=\"pandas-data-analysis\"></a>\n",
    "***\n",
    "###### Data analysis\n",
    "***"
   ]
  },
  {
   "cell_type": "code",
   "execution_count": null,
   "id": "a2f02e3e",
   "metadata": {},
   "outputs": [],
   "source": [
    "fFile(nParPath=\"./hide/09-Pandas/pforcs 9.2 pandas 2 - 15-03-2021.mp4\")"
   ]
  },
  {
   "cell_type": "code",
   "execution_count": null,
   "id": "36dc9123",
   "metadata": {},
   "outputs": [],
   "source": [
    "fFile(nParPath=\"./hide/09-Pandas/Lab 09 pandas.pdf\")"
   ]
  },
  {
   "cell_type": "markdown",
   "id": "105f44cc",
   "metadata": {},
   "source": [
    "Pandas Tutorial [w3schools](https://www.w3schools.com/python/pandas/default.asp)"
   ]
  },
  {
   "cell_type": "markdown",
   "id": "1ab1f024",
   "metadata": {},
   "source": [
    "The Pandas DataFrame: Make Working With Data Delightful [realpython](https://realpython.com/pandas-dataframe/)"
   ]
  },
  {
   "cell_type": "markdown",
   "id": "a5737627",
   "metadata": {},
   "source": [
    "pandas documentation [pandas.pydata](https://pandas.pydata.org/pandas-docs/stable/index.html)"
   ]
  },
  {
   "cell_type": "markdown",
   "id": "87c8a270",
   "metadata": {},
   "source": [
    "Getting started tutorials [pandas.pydata](https://pandas.pydata.org/pandas-docs/stable/getting_started/intro_tutorials/index.html)"
   ]
  },
  {
   "cell_type": "markdown",
   "id": "ad3f051f",
   "metadata": {},
   "source": [
    "Comparison with other tools [pandas.pydata](https://pandas.pydata.org/pandas-docs/stable/getting_started/comparison/index.html)"
   ]
  },
  {
   "cell_type": "markdown",
   "id": "838109de",
   "metadata": {},
   "source": [
    "***\n",
    "## END"
   ]
  },
  {
   "cell_type": "markdown",
   "id": "faed3c6b",
   "metadata": {},
   "source": [
    "< [Table of Contents](#top) | [References](#references) >\n",
    "<a id=\"errors-testing-and-logging\"></a>\n",
    "***\n",
    "## Errors Testing and Logging\n",
    "***"
   ]
  },
  {
   "cell_type": "markdown",
   "id": "64af31d7",
   "metadata": {},
   "source": [
    "This week I am going through concepts that will become useful when you start writing much bigger programs.\n",
    "\n",
    "Don't worry about getting into these concepts to much at this stage in your coding journey.\n",
    "\n",
    "Errors/exceptions (when things go wrong)\n",
    "\n",
    "Testing your code (making sure your code does what you expect)\n",
    "\n",
    "Logging: (a more advanced print)"
   ]
  },
  {
   "cell_type": "markdown",
   "id": "9d67aa70",
   "metadata": {},
   "source": [
    "< [Table of Contents](#top) | [References](#references) >\n",
    "<a id=\"errors-testing-and-logging-errors\"></a>\n",
    "***\n",
    "###### Errors\n",
    "***"
   ]
  },
  {
   "cell_type": "code",
   "execution_count": null,
   "id": "dabd8483",
   "metadata": {},
   "outputs": [],
   "source": [
    "fFile(nParPath=\"./hide/10-Errors-Testing-and-Logging/pands 9.1 exception and errors - 10-03-2021.mp4\")"
   ]
  },
  {
   "cell_type": "markdown",
   "id": "77450883",
   "metadata": {},
   "source": [
    "< [Table of Contents](#top) | [References](#references) >\n",
    "<a id=\"errors-testing-and-logging-errors-testing\"></a>\n",
    "***\n",
    "###### Testing\n",
    "***"
   ]
  },
  {
   "cell_type": "code",
   "execution_count": null,
   "id": "73943dab",
   "metadata": {},
   "outputs": [],
   "source": [
    "fFile(nParPath=\"./hide/10-Errors-Testing-and-Logging/pands 9.2 test cases - 10-03-2021.mp4\")"
   ]
  },
  {
   "cell_type": "markdown",
   "id": "b4ea6e45",
   "metadata": {},
   "source": [
    "< [Table of Contents](#top) | [References](#references) >\n",
    "<a id=\"errors-testing-and-logging-errors-logging\"></a>\n",
    "***\n",
    "###### Logging\n",
    "***"
   ]
  },
  {
   "cell_type": "code",
   "execution_count": null,
   "id": "872cce50",
   "metadata": {},
   "outputs": [],
   "source": [
    "fFile(nParPath=\"./hide/10-Errors-Testing-and-Logging/pands 9.3 Logging - 10-03-2021.mp4\")"
   ]
  },
  {
   "cell_type": "code",
   "execution_count": null,
   "id": "bae80722",
   "metadata": {},
   "outputs": [],
   "source": [
    "fFile(nParPath=\"./hide/10-Errors-Testing-and-Logging/Lab 09 errors, testing and logging.pdf\")"
   ]
  },
  {
   "cell_type": "markdown",
   "id": "f0785ed5",
   "metadata": {},
   "source": [
    "Python Exceptions: An Introduction [realpython](https://realpython.com/python-exceptions)"
   ]
  },
  {
   "cell_type": "markdown",
   "id": "3eb85b67",
   "metadata": {},
   "source": [
    "Python Try Except [w3schools](https://www.w3schools.com/python/python_try_except.asp)"
   ]
  },
  {
   "cell_type": "markdown",
   "id": "3f9edc35",
   "metadata": {},
   "source": [
    "Logging in Python [realpython](https://realpython.com/python-logging/)"
   ]
  },
  {
   "cell_type": "markdown",
   "id": "057ac2f3",
   "metadata": {},
   "source": [
    "LogRecord attributes [python](https://docs.python.org/3/library/logging.html#logrecord-attributes)"
   ]
  },
  {
   "cell_type": "markdown",
   "id": "44369e6d",
   "metadata": {},
   "source": [
    "***\n",
    "## END"
   ]
  },
  {
   "cell_type": "markdown",
   "id": "c9448cd8",
   "metadata": {},
   "source": [
    "< [Table of Contents](#top) | [References](#references) >\n",
    "<a id=\"objects\"></a>\n",
    "***\n",
    "## Objects\n",
    "***"
   ]
  },
  {
   "cell_type": "markdown",
   "id": "258e39e5",
   "metadata": {},
   "source": [
    "This week we are looking at objects.\n",
    "\n",
    "- Organising your code\n",
    "- Object classes and object instances\n",
    "- Function programming Vs Object oriented Programming"
   ]
  },
  {
   "cell_type": "markdown",
   "id": "0b6badbc",
   "metadata": {},
   "source": [
    "< [Table of Contents](#top) | [References](#references) >\n",
    "<a id=\"objects-overview\"></a>\n",
    "***\n",
    "###### Overview\n",
    "***"
   ]
  },
  {
   "cell_type": "code",
   "execution_count": null,
   "id": "b5941e6f",
   "metadata": {},
   "outputs": [],
   "source": [
    "fFile(nParPath=\"./hide/11-Objects/pands 10.0 Objects Overview - 2021-03-19.mp4\")"
   ]
  },
  {
   "cell_type": "markdown",
   "id": "0e5d9d19",
   "metadata": {},
   "source": [
    "< [Table of Contents](#top) | [References](#references) >\n",
    "<a id=\"objects-organising-your-code\"></a>\n",
    "***\n",
    "###### Organising your Code\n",
    "***"
   ]
  },
  {
   "cell_type": "code",
   "execution_count": null,
   "id": "d3cfa2ec",
   "metadata": {},
   "outputs": [],
   "source": [
    "fFile(nParPath=\"./hide/11-Objects/pands 10.1 Objects - 2021-03-19.mp4\")"
   ]
  },
  {
   "cell_type": "markdown",
   "id": "478a925d",
   "metadata": {},
   "source": [
    "< [Table of Contents](#top) | [References](#references) >\n",
    "<a id=\"objects-objects-class-and-instances\"></a>\n",
    "***\n",
    "###### Objects Class and Instances\n",
    "***"
   ]
  },
  {
   "cell_type": "code",
   "execution_count": null,
   "id": "c915ecbe",
   "metadata": {},
   "outputs": [],
   "source": [
    "fFile(nParPath=\"./hide/11-Objects/pands 10.2 Objects 2 class and instance - 2021-03-19.mp4\")"
   ]
  },
  {
   "cell_type": "markdown",
   "id": "0566ea02",
   "metadata": {},
   "source": [
    "< [Table of Contents](#top) | [References](#references) >\n",
    "<a id=\"objects-function-programming-v-object-oriented-programming\"></a>\n",
    "***\n",
    "###### Function Programming Vs Object-Oriented Programming\n",
    "***"
   ]
  },
  {
   "cell_type": "code",
   "execution_count": null,
   "id": "43f408bb",
   "metadata": {},
   "outputs": [],
   "source": [
    "fFile(nParPath=\"./hide/11-Objects/pands 10.3 Objects 3 proceedural vs object oriented - 2021-03-19.mp4\")"
   ]
  },
  {
   "cell_type": "markdown",
   "id": "bca719d1",
   "metadata": {},
   "source": [
    "Python Classes and Objects [w3schools](https://www.w3schools.com/python/python_classes.asp)"
   ]
  },
  {
   "cell_type": "markdown",
   "id": "ae8d3c2f",
   "metadata": {},
   "source": [
    "Object-Oriented Programming (OOP) in Python 3 [realpython](https://realpython.com/python3-object-oriented-programming)"
   ]
  },
  {
   "cell_type": "markdown",
   "id": "b5d3cfa8",
   "metadata": {},
   "source": [
    "Comparison of programming paradigms [wiki](https://en.wikipedia.org/wiki/Comparison_of_programming_paradigms#:~:text=Procedural%20programming%2C%20structured%20programming%20%E2%80%93%20specifies%20the%20steps,mathematical%20functions%20and%20avoids%20state%20and%20mutable%20data)"
   ]
  },
  {
   "cell_type": "markdown",
   "id": "c1858a80",
   "metadata": {},
   "source": [
    "Python Naming Convention [nameconvention](https://namingconvention.org/python/)"
   ]
  },
  {
   "cell_type": "markdown",
   "id": "92d619a2",
   "metadata": {},
   "source": [
    "Python naming conventions (Detailed Guide) [pythonguides](https://pythonguides.com/python-naming-conventions/)"
   ]
  },
  {
   "cell_type": "markdown",
   "id": "0b149a9f",
   "metadata": {},
   "source": [
    "Python Dunder (Special, Magic) Methods List with Tutorial [holycoders](https://holycoders.com/python-dunder-special-methods)"
   ]
  },
  {
   "cell_type": "markdown",
   "id": "c36dafe6",
   "metadata": {},
   "source": [
    "***\n",
    "## END"
   ]
  },
  {
   "cell_type": "markdown",
   "id": "4b7a03af",
   "metadata": {},
   "source": [
    "< [Table of Contents](#top) | [References](#references) >\n",
    "<a id=\"api\"></a>\n",
    "***\n",
    "## APIs\n",
    "***"
   ]
  },
  {
   "cell_type": "markdown",
   "id": "3efc75d5",
   "metadata": {},
   "source": [
    "< [Table of Contents](#top) | [References](#references) >\n",
    "<a id=\"whatisanAPI\"></a>\n",
    "***\n",
    "###### What is an API\n",
    "***"
   ]
  },
  {
   "cell_type": "code",
   "execution_count": null,
   "id": "99d2137b",
   "metadata": {},
   "outputs": [],
   "source": [
    "fFile(nParPath=\"./hide/12-API/pforcs 12.1 APIs - 2021-04-20 #eed41988.mp4\")"
   ]
  },
  {
   "cell_type": "markdown",
   "id": "3ba94ef0",
   "metadata": {},
   "source": [
    "< [Table of Contents](#top) | [References](#references) >\n",
    "<a id=\"authorization\"></a>\n",
    "***\n",
    "###### Authorization\n",
    "***"
   ]
  },
  {
   "cell_type": "code",
   "execution_count": null,
   "id": "8b70071e",
   "metadata": {},
   "outputs": [],
   "source": [
    "fFile(nParPath=\"./hide/12-API/pforcs 12.2 oauth - 2021-04-21 #fce8a2cd.mp4\")"
   ]
  },
  {
   "cell_type": "markdown",
   "id": "28383dff",
   "metadata": {},
   "source": [
    "< [Table of Contents](#top) | [References](#references) >\n",
    "<a id=\"packagesExist\"></a>\n",
    "***\n",
    "###### Packages exist\n",
    "***    "
   ]
  },
  {
   "cell_type": "code",
   "execution_count": null,
   "id": "b9b90c08",
   "metadata": {},
   "outputs": [],
   "source": [
    "fFile(nParPath=\"./hide/12-API/DR6.4 using packages - 2020-10-28 #96a62a22.mp4\")"
   ]
  },
  {
   "cell_type": "code",
   "execution_count": null,
   "id": "71cb7392",
   "metadata": {},
   "outputs": [],
   "source": [
    "fFile(nParPath=\"./hide/12-API/Lab12.3 using the package (1).pdf\")"
   ]
  },
  {
   "cell_type": "markdown",
   "id": "fda1d392",
   "metadata": {},
   "source": [
    "***\n",
    "## END"
   ]
  },
  {
   "cell_type": "markdown",
   "id": "7b3d7c93",
   "metadata": {},
   "source": [
    "< [Table of Contents](#top) | [Abstract](#abstract) | [Introduction](#introduction) | [Conclusion](#conclusion) | [References](#references) >\n",
    "<a id=\"solution\"></a>\n",
    "***\n",
    "# Solution\n",
    "***"
   ]
  },
  {
   "cell_type": "markdown",
   "id": "fca7aa86",
   "metadata": {},
   "source": [
    "&#x1F6A7;"
   ]
  },
  {
   "cell_type": "markdown",
   "id": "c78011ff",
   "metadata": {},
   "source": [
    "***\n",
    "# END"
   ]
  },
  {
   "cell_type": "markdown",
   "id": "013fe7f0",
   "metadata": {},
   "source": [
    "< [Table of Contents](#top) | [Abstract](#abstract) | [Introduction](#introduction) | [Conclusion](#conclusion) | [References](#references) >\n",
    "<a id=\"conclusion\"></a>\n",
    "***\n",
    "# Conclusion\n",
    "***"
   ]
  },
  {
   "cell_type": "markdown",
   "id": "c0600339",
   "metadata": {},
   "source": [
    "&#x1F6A7;"
   ]
  },
  {
   "cell_type": "markdown",
   "id": "0cd81b22",
   "metadata": {},
   "source": [
    "***\n",
    "# END"
   ]
  },
  {
   "cell_type": "markdown",
   "id": "16e36276",
   "metadata": {},
   "source": [
    "< [Table of Contents](#top) | [References](#references) >\n",
    "<a id=\"references\"></a>\n",
    "***\n",
    "## References\n",
    "***\n",
    "\n",
    "<!--\n",
    "\n",
    "&nbsp;&nbsp;&nbsp;&nbsp;&nbsp;&nbsp;&nbsp;&nbsp;&nbsp;[0] Anaconda (built-in), \"range,\" Docstring, Conda:4.9.2 (Python:3.8.5).\n",
    "\n",
    "&nbsp;&nbsp;&nbsp;&nbsp;&nbsp;&nbsp;&nbsp;&nbsp;&nbsp;[0] Anaconda (plot), \"matplotlib.pyplot,\" Docstring, Conda:4.9.2 (Python:3.8.5).\n",
    "\n",
    "&nbsp;&nbsp;&nbsp;&nbsp;&nbsp;&nbsp;&nbsp;&nbsp;&nbsp;[1] D. Carr, \"CTA - Lecture 1 Part 1,\" GMIT, January 2021.\n",
    "\n",
    "&nbsp;&nbsp;&nbsp;&nbsp;&nbsp;&nbsp;&nbsp;&nbsp;&nbsp;[2] M. R. Fellows, I. Parberry, \"SIGACT Trying to Get Children Excited About CS,\" [ianparberry](https://web.archive.org/web/20210220071000/http://ianparberry.com/research/cseducation), January 1993.\n",
    "-->"
   ]
  },
  {
   "cell_type": "markdown",
   "id": "b5421443",
   "metadata": {},
   "source": [
    "⚡"
   ]
  },
  {
   "cell_type": "markdown",
   "id": "2eaf3ab9",
   "metadata": {},
   "source": [
    "***\n",
    "## END"
   ]
  },
  {
   "cell_type": "markdown",
   "id": "0c718524",
   "metadata": {},
   "source": [
    "< [Table of Contents](#top) | [References](#references) >\n",
    "<a id=\"appendix\"></a>\n",
    "***\n",
    "## Appendix\n",
    "***"
   ]
  },
  {
   "cell_type": "markdown",
   "id": "6cc7a2fb",
   "metadata": {},
   "source": [
    "<a id=\"appendix-some-reference\"></a>\n",
    "< [Go Back](#top) >"
   ]
  },
  {
   "cell_type": "markdown",
   "id": "ab06d760",
   "metadata": {},
   "source": [
    "⚡"
   ]
  },
  {
   "cell_type": "markdown",
   "id": "483cbdcd",
   "metadata": {},
   "source": [
    "```python\n",
    "from sys import path; path.insert(1,\"../src\")\n",
    "from fubar import fFile\n",
    "\n",
    "%%script bash\n",
    "grep -1 \"def fFile\" ../src/fubar.py -A 9\n",
    "\n",
    "fFile(nParPath=\"\")\n",
    "\n",
    "exit()\n",
    "```"
   ]
  },
  {
   "cell_type": "markdown",
   "id": "13b1db88",
   "metadata": {},
   "source": [
    "###### Github\n",
    "***"
   ]
  },
  {
   "cell_type": "markdown",
   "id": "37af09a2",
   "metadata": {},
   "source": [
    "```\n",
    "git push -f origin HEAD^:master && git reset HEAD~\n",
    "```"
   ]
  },
  {
   "cell_type": "markdown",
   "id": "0ef72750",
   "metadata": {},
   "source": [
    "###### Functions\n",
    "***"
   ]
  },
  {
   "cell_type": "markdown",
   "id": "dcaa25a5",
   "metadata": {},
   "source": [
    "```python\n",
    "# %%writefile -a ../src/fubar.py\n",
    "# repository ./fubar-python\n",
    "def f():\n",
    "    \"\"\"\n",
    "\n",
    "Input:\n",
    "Process:\n",
    "Output:\n",
    "\"\"\"\n",
    "    pass\n",
    "# -- END ---\n",
    "```"
   ]
  },
  {
   "cell_type": "markdown",
   "id": "963ce805",
   "metadata": {},
   "source": [
    "###### Functions - ../src/fubar.py\n",
    "***"
   ]
  },
  {
   "cell_type": "markdown",
   "id": "aa492985",
   "metadata": {},
   "source": [
    "```\n",
    "%%script bash\n",
    "cat ../src/fubar.py\n",
    "```"
   ]
  },
  {
   "cell_type": "code",
   "execution_count": null,
   "id": "214452d9",
   "metadata": {},
   "outputs": [],
   "source": [
    "%%script bash\n",
    "grep -1 \"def fFullScreen\" ../src/fubar.py -A 9"
   ]
  },
  {
   "cell_type": "markdown",
   "id": "4e18ce36",
   "metadata": {},
   "source": [
    "```\n",
    "git commit -m \"update repository ./fubar-python - Everything in python is an object.\"\n",
    "```"
   ]
  },
  {
   "cell_type": "markdown",
   "id": "45cab4c0",
   "metadata": {},
   "source": [
    "###### Images\n",
    "***"
   ]
  },
  {
   "cell_type": "markdown",
   "id": "67fc2df3",
   "metadata": {},
   "source": [
    "![gumball](https://github.com/SeanOhAileasa/SeanOhAileasa/blob/master/rc/cta/analysing/gumball.png?raw=true)\n",
    "\n",
    "***(Image) P. Mannion, \"03 Analysing Algorithms Part 1,\" GMIT, October 2017.***"
   ]
  },
  {
   "cell_type": "markdown",
   "id": "fd2da39a",
   "metadata": {},
   "source": [
    "###### Tables\n",
    "***"
   ]
  },
  {
   "cell_type": "markdown",
   "id": "79190847",
   "metadata": {},
   "source": [
    "|aaa|bbbbbb|ccccccccc|\n",
    "|:------------------------- | :------------------------- | :------------------------- |\n",
    "|aaa|bbbbbb|ccccccccc|"
   ]
  },
  {
   "cell_type": "markdown",
   "id": "bfbd2f8c",
   "metadata": {},
   "source": [
    "###### References\n",
    "***"
   ]
  },
  {
   "cell_type": "markdown",
   "id": "202a04c6",
   "metadata": {},
   "source": [
    "&nbsp;&nbsp;&nbsp;&nbsp;&nbsp;&nbsp;&nbsp;&nbsp;&nbsp;[1] x. xxx, \"xxx,\" xxx, JanXXXry 2XX1."
   ]
  },
  {
   "cell_type": "markdown",
   "id": "4fb5c39d",
   "metadata": {},
   "source": [
    "***\n",
    "## END"
   ]
  },
  {
   "cell_type": "markdown",
   "id": "d2263963",
   "metadata": {},
   "source": [
    "# END JUPYTER NOTEBOOK"
   ]
  }
 ],
 "metadata": {
  "kernelspec": {
   "display_name": "Python 3",
   "language": "python",
   "name": "python3"
  },
  "language_info": {
   "codemirror_mode": {
    "name": "ipython",
    "version": 3
   },
   "file_extension": ".py",
   "mimetype": "text/x-python",
   "name": "python",
   "nbconvert_exporter": "python",
   "pygments_lexer": "ipython3",
   "version": "3.8.8"
  }
 },
 "nbformat": 4,
 "nbformat_minor": 5
}
