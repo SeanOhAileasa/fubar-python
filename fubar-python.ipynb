{
 "cells": [
  {
   "cell_type": "code",
   "execution_count": null,
   "id": "boxed-citizen",
   "metadata": {},
   "outputs": [
    {
     "data": {
      "text/html": [
       "<script>Jupyter.notebook.kernel.restart()</script>"
      ]
     },
     "metadata": {},
     "output_type": "display_data"
    }
   ],
   "source": [
    "from IPython.core.display import display_html\n",
    "display_html(\"<script>Jupyter.notebook.kernel.restart()</script>\",raw=True)"
   ]
  },
  {
   "cell_type": "code",
   "execution_count": 1,
   "id": "literary-correction",
   "metadata": {},
   "outputs": [
    {
     "data": {
      "text/html": [
       "<style>.container { width:100% !important; }</style>"
      ],
      "text/plain": [
       "<IPython.core.display.HTML object>"
      ]
     },
     "metadata": {},
     "output_type": "display_data"
    },
    {
     "data": {
      "text/html": [
       "<style>.container { width:100% !important; }</style>"
      ],
      "text/plain": [
       "<IPython.core.display.HTML object>"
      ]
     },
     "metadata": {},
     "output_type": "display_data"
    }
   ],
   "source": [
    "from sys import path; path.insert(1,\"../src\");\n",
    "import fubar; from importlib import reload; reload(fubar);"
   ]
  },
  {
   "cell_type": "markdown",
   "id": "pending-springer",
   "metadata": {},
   "source": [
    "***\n",
    "< [GMIT Data Analytics](https://web.archive.org/web/20201029063153/https://www.gmit.ie/computer-science-and-applied-physics/higher-diploma-science-computing-data-analytics-ict) | [Home](https://github.com/SeanOhAileasa) | [README](https://github.com/SeanOhAileasa/fubar-python/blob/main/README.md) >\n",
    "\n",
    "[![GMIT](https://github.com/SeanOhAileasa/SeanOhAileasa/blob/master/img/gmit.png?raw=true)](https://web.archive.org/web/20201029063153/https://www.gmit.ie/computer-science-and-applied-physics/higher-diploma-science-computing-data-analytics-ict)\n",
    "\n",
    "## GMIT - Practice - Supplemental Course Material\n",
    "### Topic: [Python](https://nbviewer.jupyter.org/github/SeanOhAileasa/fubar-python/blob/main/fubar-python.ipynb)\n",
    "***"
   ]
  },
  {
   "cell_type": "markdown",
   "id": "secure-nightlife",
   "metadata": {},
   "source": [
    "Supplemental course material for the ``Higher Diploma in Science in Computing (Data Analytics) (H.Dip)`` programme (75 Credits) at **Galway-Mayo Institute of Technology (GMIT)**. This repository is for self-study/self-examination for future modules of the H.Dip programme and preparation for future workplace opportunities."
   ]
  },
  {
   "cell_type": "code",
   "execution_count": 2,
   "id": "visible-homeless",
   "metadata": {},
   "outputs": [],
   "source": [
    "exit()"
   ]
  },
  {
   "cell_type": "markdown",
   "id": "diverse-technician",
   "metadata": {},
   "source": [
    "<a id=\"top\"></a>\n",
    "***\n",
    "## Table of Contents\n",
    "***\n",
    "\n",
    "## [Abstract](#abstract)\n",
    "\n",
    "- &#x1F6A7;\n",
    "\n",
    "## [Introduction](#introduction)\n",
    "\n",
    "* [Everything is an Object](#object)\n",
    "    * [Immutable vs Mutable](#Immutable-vs-Mutable)\n",
    "        * [Immutable](#Immutable)\n",
    "            * [Float](#Float)\n",
    "            * [Str](#Str)       \n",
    "        * [Mutable](#Mutable)\n",
    "            * [List (Built-in Container)](#List-Built-in-Container)\n",
    "* [Specialised Container](#Specialised-Container)\n",
    "    * [collections.Counter](#collections-Counter)\n",
    "* [Operator](#Operator)\n",
    "    * [Arithmetic](#Arithmetic)\n",
    "    * [Bitwise](#Bitwise)\n",
    "    * [Assignment](#Assignment)\n",
    "    * [Comparison](#Comparison)\n",
    "    * [Boolean](#Boolean)\n",
    "    * [Identity](#Identity)\n",
    "    * [Membership](#Membership)\n",
    "\n",
    "## [Solution](#solution)\n",
    "\n",
    "* [GMIT - CTA](#computational-thinking-with-algorithms)\n",
    "    * [Code Runner](#code-runner)\n",
    "        * [Caesar Cipher](#Caesar-Cipher)\n",
    "        \n",
    "## [Conclusion](#conclusion)\n",
    "\n",
    "* &#x1F6A7;"
   ]
  },
  {
   "cell_type": "markdown",
   "id": "passive-taylor",
   "metadata": {},
   "source": [
    "***\n",
    "## END\n",
    "<!--\n",
    "< [Instructions](#top) | [Abstract](#abstract) | [Introduction](#introduction) | [Solution](#solution) | [Conclusion](#conclusion) | [References](#references) >\n",
    "<a id=\"status\"></a>\n",
    "***\n",
    "## Status\n",
    "***\n",
    "\n",
    "%%bash\n",
    "date \"+%Y-%m-%d\"\n",
    "\n",
    "< [todo](#todo) | [done](#done) >\n",
    "<a id=\"ongoing\"></a>\n",
    "###### ONGOING \n",
    "***\n",
    "\n",
    "< [ongoing](#ongoing) | [done](#done) >\n",
    "<a id=\"todo\"></a>\n",
    "###### TODO\n",
    "***\n",
    "\n",
    "< [todo](#todo) | [ongoing](#ongoing) >\n",
    "<a id=\"done\"></a>\n",
    "###### DONE\n",
    "***\n",
    "\n",
    "< [todo](#todo) | [ongoing](#ongoing) | [done](#done) >\n",
    "###### Functions\n",
    "***\n",
    "\n",
    "## END\n",
    "-->\n",
    "\n",
    "<!-- \n",
    "# b_T_hird_P_arty-imports\n",
    "-->"
   ]
  },
  {
   "cell_type": "markdown",
   "id": "macro-necessity",
   "metadata": {},
   "source": [
    "< [Table of Contents](#top) | [Introduction](#introduction) | [Solution](#solution) | [Conclusion](#conclusion) | [References](#references) >\n",
    "<a id=\"abstract\"></a>\n",
    "***\n",
    "## Abstract\n",
    "***"
   ]
  },
  {
   "cell_type": "markdown",
   "id": "native-coordination",
   "metadata": {},
   "source": [
    "&#x1F6A7;"
   ]
  },
  {
   "cell_type": "markdown",
   "id": "engaging-fundamental",
   "metadata": {},
   "source": [
    "***\n",
    "## END"
   ]
  },
  {
   "cell_type": "markdown",
   "id": "destroyed-message",
   "metadata": {},
   "source": [
    "< [Table of Contents](#top) | [Abstract](#abstract) | [Solution](#solution) | [Conclusion](#conclusion) | [References](#references) >\n",
    "<a id=\"introduction\"></a>\n",
    "***\n",
    "## Introduction\n",
    "***"
   ]
  },
  {
   "cell_type": "markdown",
   "id": "accomplished-success",
   "metadata": {},
   "source": [
    "< [Table of Contents](#top) | [References](#references) >\n",
    "<a id=\"object\"></a>\n",
    "### Everything is an Object\n",
    "***"
   ]
  },
  {
   "cell_type": "code",
   "execution_count": 1,
   "id": "aware-planner",
   "metadata": {},
   "outputs": [],
   "source": [
    "from sys import path; path.insert(1,\"../src\")"
   ]
  },
  {
   "cell_type": "code",
   "execution_count": 2,
   "id": "civil-adjustment",
   "metadata": {},
   "outputs": [
    {
     "data": {
      "text/html": [
       "<style>.container { width:100% !important; }</style>"
      ],
      "text/plain": [
       "<IPython.core.display.HTML object>"
      ]
     },
     "metadata": {},
     "output_type": "display_data"
    }
   ],
   "source": [
    "from fubar import fIsObject"
   ]
  },
  {
   "cell_type": "code",
   "execution_count": 3,
   "id": "stock-electric",
   "metadata": {},
   "outputs": [
    {
     "name": "stdout",
     "output_type": "stream",
     "text": [
      "# repository ./fubar-python\r\n",
      "def fIsObject(nParSomething):\r\n",
      "    \"\"\"Everything in python is an object.\r\n",
      "    \r\n",
      "Input: nParSomething\r\n",
      "Process: (isinstance)\r\n",
      "Output: boolean True or False\r\n",
      "\"\"\"\r\n",
      "    return isinstance(nParSomething,object)\r\n",
      "# --- END ---\r\n"
     ]
    }
   ],
   "source": [
    "%%script bash\n",
    "grep -1 \"def fIsObject\" ../src/fubar.py -A 8"
   ]
  },
  {
   "cell_type": "code",
   "execution_count": 4,
   "id": "similar-finnish",
   "metadata": {},
   "outputs": [
    {
     "data": {
      "text/plain": [
       "True"
      ]
     },
     "execution_count": 4,
     "metadata": {},
     "output_type": "execute_result"
    }
   ],
   "source": [
    "fIsObject(nParSomething=0)"
   ]
  },
  {
   "cell_type": "code",
   "execution_count": 5,
   "id": "manual-friend",
   "metadata": {},
   "outputs": [
    {
     "data": {
      "text/plain": [
       "True"
      ]
     },
     "execution_count": 5,
     "metadata": {},
     "output_type": "execute_result"
    }
   ],
   "source": [
    "fIsObject(nParSomething=fIsObject)"
   ]
  },
  {
   "cell_type": "code",
   "execution_count": 6,
   "id": "flush-cause",
   "metadata": {},
   "outputs": [
    {
     "data": {
      "text/plain": [
       "True"
      ]
     },
     "execution_count": 6,
     "metadata": {},
     "output_type": "execute_result"
    }
   ],
   "source": [
    "fIsObject(nParSomething=fIsObject(0))"
   ]
  },
  {
   "cell_type": "code",
   "execution_count": 7,
   "id": "considerable-legend",
   "metadata": {},
   "outputs": [],
   "source": [
    "exit()"
   ]
  },
  {
   "cell_type": "markdown",
   "id": "victorian-union",
   "metadata": {},
   "source": [
    "< [Table of Contents](#top) | [References](#references) >\n",
    "<a id=\"Immutable-vs-Mutable\"></a>\n",
    "***\n",
    "###### Immutable vs Mutable\n",
    "***"
   ]
  },
  {
   "cell_type": "markdown",
   "id": "falling-puppy",
   "metadata": {},
   "source": [
    "- each object contains at least three pieces of data i) reference count - for memory management ii) type - used at the CPython layer to ensure type safety during runtime iii) value - is the actual value associated with the object [1]"
   ]
  },
  {
   "cell_type": "markdown",
   "id": "guilty-practice",
   "metadata": {},
   "source": [
    "- not all objects are the same though - there is another important distinction - immutable versus mutable objects - the two types of objects in python - immutable objects - cannot be changed - mutable objects - can be changed [1]"
   ]
  },
  {
   "cell_type": "code",
   "execution_count": 1,
   "id": "random-produce",
   "metadata": {},
   "outputs": [],
   "source": [
    "exit()"
   ]
  },
  {
   "cell_type": "markdown",
   "id": "foster-indiana",
   "metadata": {},
   "source": [
    "< [Table of Contents](#top) | [References](#references) >\n",
    "<a id=\"Immutable\"></a>\n",
    "***\n",
    "###### Immutable\n",
    "***"
   ]
  },
  {
   "cell_type": "markdown",
   "id": "bibliographic-rwanda",
   "metadata": {},
   "source": [
    "- immutable objects cannot be changed - lots of commonly used primitive types are immutable [1]"
   ]
  },
  {
   "cell_type": "code",
   "execution_count": 1,
   "id": "subject-winter",
   "metadata": {},
   "outputs": [],
   "source": [
    "exit()"
   ]
  },
  {
   "cell_type": "markdown",
   "id": "wicked-olive",
   "metadata": {},
   "source": [
    "< [Table of Contents](#top) | [References](#references) >\n",
    "<a id=\"Float\"></a>\n",
    "***\n",
    "###### Float\n",
    "***"
   ]
  },
  {
   "cell_type": "markdown",
   "id": "initial-siemens",
   "metadata": {},
   "source": [
    "- ***Immutable*** - modifying ``n`` with addition will create a new object even though it appears to be modifying the value of ``n`` [1]"
   ]
  },
  {
   "cell_type": "code",
   "execution_count": 1,
   "id": "egyptian-creator",
   "metadata": {},
   "outputs": [],
   "source": [
    "from sys import path; path.insert(1,\"../src\")"
   ]
  },
  {
   "cell_type": "code",
   "execution_count": 2,
   "id": "active-television",
   "metadata": {},
   "outputs": [
    {
     "data": {
      "text/html": [
       "<style>.container { width:100% !important; }</style>"
      ],
      "text/plain": [
       "<IPython.core.display.HTML object>"
      ]
     },
     "metadata": {},
     "output_type": "display_data"
    }
   ],
   "source": [
    "from fubar import fImmutableMutable"
   ]
  },
  {
   "cell_type": "code",
   "execution_count": 3,
   "id": "spiritual-superintendent",
   "metadata": {},
   "outputs": [
    {
     "name": "stdout",
     "output_type": "stream",
     "text": [
      "# repository ./fubar-python\r\n",
      "def fImmutableMutable(nParObject):\r\n",
      "    \"\"\"Immutable objects (int; float; bool; complex; frozenset; str; tuple)\r\n",
      "    cannot be changed whereas mutable objects (list; set; dict) can be changed.\r\n",
      "\r\n",
      "Input: nParObject\r\n",
      "Process: (id)\r\n",
      "Output: i) object identity (memory address); ii) object itself  \r\n",
      "\"\"\"\r\n",
      "    print(\"<id> : {}\".format(id(nParObject)))\r\n",
      "    return nParObject \r\n",
      "# --- END ---\r\n"
     ]
    }
   ],
   "source": [
    "%%script bash\n",
    "grep -1 \"def fImmutableMutable\" ../src/fubar.py -A 10"
   ]
  },
  {
   "cell_type": "code",
   "execution_count": 4,
   "id": "tender-berlin",
   "metadata": {},
   "outputs": [
    {
     "name": "stdout",
     "output_type": "stream",
     "text": [
      "<id> : 1681506078032\n"
     ]
    },
    {
     "data": {
      "text/plain": [
       "1.0"
      ]
     },
     "execution_count": 4,
     "metadata": {},
     "output_type": "execute_result"
    }
   ],
   "source": [
    "n=1.0\n",
    "fImmutableMutable(nParObject=n)"
   ]
  },
  {
   "cell_type": "markdown",
   "id": "prime-speaking",
   "metadata": {},
   "source": [
    "- getting a new object as a response [1]"
   ]
  },
  {
   "cell_type": "code",
   "execution_count": 5,
   "id": "refined-entertainment",
   "metadata": {},
   "outputs": [
    {
     "name": "stdout",
     "output_type": "stream",
     "text": [
      "<id> : 1681506078064\n"
     ]
    },
    {
     "data": {
      "text/plain": [
       "2.0"
      ]
     },
     "execution_count": 5,
     "metadata": {},
     "output_type": "execute_result"
    }
   ],
   "source": [
    "n+=1\n",
    "fImmutableMutable(nParObject=n)"
   ]
  },
  {
   "cell_type": "code",
   "execution_count": 6,
   "id": "amended-description",
   "metadata": {},
   "outputs": [],
   "source": [
    "exit()"
   ]
  },
  {
   "cell_type": "markdown",
   "id": "nominated-error",
   "metadata": {},
   "source": [
    "< [Table of Contents](#top) | [References](#references) >\n",
    "<a id=\"Str\"></a>\n",
    "***\n",
    "###### Str\n",
    "***"
   ]
  },
  {
   "cell_type": "markdown",
   "id": "normal-iraqi",
   "metadata": {},
   "source": [
    "- ***Immutable*** - ``n`` object creates a different memory address after the operation ``+=`` [1]"
   ]
  },
  {
   "cell_type": "code",
   "execution_count": 1,
   "id": "initial-messaging",
   "metadata": {},
   "outputs": [],
   "source": [
    "from sys import path; path.insert(1,\"../src\")"
   ]
  },
  {
   "cell_type": "code",
   "execution_count": 2,
   "id": "substantial-reverse",
   "metadata": {},
   "outputs": [
    {
     "data": {
      "text/html": [
       "<style>.container { width:100% !important; }</style>"
      ],
      "text/plain": [
       "<IPython.core.display.HTML object>"
      ]
     },
     "metadata": {},
     "output_type": "display_data"
    }
   ],
   "source": [
    "from fubar import fImmutableMutable"
   ]
  },
  {
   "cell_type": "code",
   "execution_count": 3,
   "id": "norman-rotation",
   "metadata": {},
   "outputs": [
    {
     "name": "stdout",
     "output_type": "stream",
     "text": [
      "# repository ./fubar-python\r\n",
      "def fImmutableMutable(nParObject):\r\n",
      "    \"\"\"Immutable objects (int; float; bool; complex; frozenset; str; tuple)\r\n",
      "    cannot be changed whereas mutable objects (list; set; dict) can be changed.\r\n",
      "\r\n",
      "Input: nParObject\r\n",
      "Process: (id)\r\n",
      "Output: i) object identity (memory address); ii) object itself  \r\n",
      "\"\"\"\r\n",
      "    print(\"<id> : {}\".format(id(nParObject)))\r\n",
      "    return nParObject \r\n",
      "# --- END ---\r\n"
     ]
    }
   ],
   "source": [
    "%%script bash\n",
    "grep -1 \"def fImmutableMutable\" ../src/fubar.py -A 10"
   ]
  },
  {
   "cell_type": "code",
   "execution_count": 4,
   "id": "bright-variety",
   "metadata": {},
   "outputs": [
    {
     "name": "stdout",
     "output_type": "stream",
     "text": [
      "<id> : 1534483209392\n"
     ]
    },
    {
     "data": {
      "text/plain": [
       "'foo'"
      ]
     },
     "execution_count": 4,
     "metadata": {},
     "output_type": "execute_result"
    }
   ],
   "source": [
    "n=\"foo\"\n",
    "fImmutableMutable(nParObject=n)"
   ]
  },
  {
   "cell_type": "code",
   "execution_count": 5,
   "id": "joined-internet",
   "metadata": {},
   "outputs": [
    {
     "name": "stdout",
     "output_type": "stream",
     "text": [
      "<id> : 1534541852592\n"
     ]
    },
    {
     "data": {
      "text/plain": [
       "'foobar'"
      ]
     },
     "execution_count": 5,
     "metadata": {},
     "output_type": "execute_result"
    }
   ],
   "source": [
    "n+=\"bar\"\n",
    "fImmutableMutable(nParObject=n)"
   ]
  },
  {
   "cell_type": "markdown",
   "id": "representative-examination",
   "metadata": {},
   "source": [
    "- trying to directly mutate the string ``nStr`` results in an error - python will indicate no support of such mutation which is in line with the definition that the str type is immutable [1]\n",
    "\n",
    "```python\n",
    "nStr[0]=\"F\"\n",
    "TypeError: 'str' object does not support item assignment\n",
    "```"
   ]
  },
  {
   "cell_type": "code",
   "execution_count": 6,
   "id": "dimensional-samuel",
   "metadata": {},
   "outputs": [],
   "source": [
    "exit()"
   ]
  },
  {
   "cell_type": "markdown",
   "id": "detailed-lounge",
   "metadata": {},
   "source": [
    "< [Table of Contents](#top) | [References](#references) >\n",
    "<a id=\"Mutable\"></a>\n",
    "***\n",
    "###### Mutable\n",
    "***"
   ]
  },
  {
   "cell_type": "markdown",
   "id": "unnecessary-carry",
   "metadata": {},
   "source": [
    "- mutable objects can be changed [1]"
   ]
  },
  {
   "cell_type": "code",
   "execution_count": 1,
   "id": "corporate-jesus",
   "metadata": {},
   "outputs": [],
   "source": [
    "exit()"
   ]
  },
  {
   "cell_type": "markdown",
   "id": "sealed-complex",
   "metadata": {},
   "source": [
    "< [Table of Contents](#top) | [References](#references) >\n",
    "<a id=\"List-Built-in-Container\"></a>\n",
    "***\n",
    "###### List (Built-in Container)\n",
    "***"
   ]
  },
  {
   "cell_type": "markdown",
   "id": "proved-leeds",
   "metadata": {},
   "source": [
    "- **Mutable** - object ``n`` has an id originally and even after another item is added (appended) to the list it continues to have the same id as the original - same hold true after an assignment [1]"
   ]
  },
  {
   "cell_type": "code",
   "execution_count": 1,
   "id": "governmental-sympathy",
   "metadata": {},
   "outputs": [],
   "source": [
    "from sys import path; path.insert(1,\"../src\")"
   ]
  },
  {
   "cell_type": "code",
   "execution_count": 2,
   "id": "naughty-space",
   "metadata": {},
   "outputs": [],
   "source": [
    "n=list(range(10))"
   ]
  },
  {
   "cell_type": "code",
   "execution_count": 3,
   "id": "magnetic-format",
   "metadata": {},
   "outputs": [
    {
     "data": {
      "text/html": [
       "<style>.container { width:100% !important; }</style>"
      ],
      "text/plain": [
       "<IPython.core.display.HTML object>"
      ]
     },
     "metadata": {},
     "output_type": "display_data"
    }
   ],
   "source": [
    "from fubar import fImmutableMutable"
   ]
  },
  {
   "cell_type": "code",
   "execution_count": 4,
   "id": "funky-strip",
   "metadata": {},
   "outputs": [
    {
     "name": "stdout",
     "output_type": "stream",
     "text": [
      "# repository ./fubar-python\r\n",
      "def fImmutableMutable(nParObject):\r\n",
      "    \"\"\"Immutable objects (int; float; bool; complex; frozenset; str; tuple)\r\n",
      "    cannot be changed whereas mutable objects (list; set; dict) can be changed.\r\n",
      "\r\n",
      "Input: nParObject\r\n",
      "Process: (id)\r\n",
      "Output: i) object identity (memory address); ii) object itself  \r\n",
      "\"\"\"\r\n",
      "    print(\"<id> : {}\".format(id(nParObject)))\r\n",
      "    return nParObject \r\n",
      "# --- END ---\r\n"
     ]
    }
   ],
   "source": [
    "%%script bash\n",
    "grep -1 \"def fImmutableMutable\" ../src/fubar.py -A 10"
   ]
  },
  {
   "cell_type": "code",
   "execution_count": 5,
   "id": "abroad-jaguar",
   "metadata": {},
   "outputs": [
    {
     "name": "stdout",
     "output_type": "stream",
     "text": [
      "<id> : 1589695448128\n"
     ]
    },
    {
     "data": {
      "text/plain": [
       "[0, 1, 2, 3, 4, 5, 6, 7, 8, 9]"
      ]
     },
     "execution_count": 5,
     "metadata": {},
     "output_type": "execute_result"
    }
   ],
   "source": [
    "fImmutableMutable(list(range(10)))"
   ]
  },
  {
   "cell_type": "code",
   "execution_count": 6,
   "id": "monetary-earthquake",
   "metadata": {},
   "outputs": [
    {
     "name": "stdout",
     "output_type": "stream",
     "text": [
      "<id> : 1589695451072\n"
     ]
    },
    {
     "data": {
      "text/plain": [
       "[0, 1, 2, 3, 4, 5, 6, 7, 8, 9]"
      ]
     },
     "execution_count": 6,
     "metadata": {},
     "output_type": "execute_result"
    }
   ],
   "source": [
    "list(range(10)).append(10)\n",
    "fImmutableMutable(list(range(10)))"
   ]
  },
  {
   "cell_type": "code",
   "execution_count": 7,
   "id": "standing-species",
   "metadata": {},
   "outputs": [
    {
     "name": "stdout",
     "output_type": "stream",
     "text": [
      "<id> : 1589695306816\n"
     ]
    },
    {
     "data": {
      "text/plain": [
       "[10, 1, 2, 3, 4, 5, 6, 7, 8, 9]"
      ]
     },
     "execution_count": 7,
     "metadata": {},
     "output_type": "execute_result"
    }
   ],
   "source": [
    "n[0]=10\n",
    "fImmutableMutable(n)"
   ]
  },
  {
   "cell_type": "code",
   "execution_count": 8,
   "id": "fundamental-multimedia",
   "metadata": {},
   "outputs": [],
   "source": [
    "exit()"
   ]
  },
  {
   "cell_type": "markdown",
   "id": "figured-museum",
   "metadata": {},
   "source": [
    "< [Table of Contents](#top) | [References](#references) >\n",
    "<a id=\"Specialised-Container\"></a>\n",
    "***\n",
    "### Specialised Container\n",
    "***"
   ]
  },
  {
   "cell_type": "markdown",
   "id": "raised-butler",
   "metadata": {},
   "source": [
    "&#x1F6A7;"
   ]
  },
  {
   "cell_type": "code",
   "execution_count": 1,
   "id": "loose-calcium",
   "metadata": {},
   "outputs": [],
   "source": [
    "exit()"
   ]
  },
  {
   "cell_type": "markdown",
   "id": "wireless-amber",
   "metadata": {},
   "source": [
    "< [Table of Contents](#top) | [References](#references) >\n",
    "<a id=\"collections-Counter\"></a>\n",
    "***\n",
    "###### collections.Counter\n",
    "***"
   ]
  },
  {
   "cell_type": "markdown",
   "id": "thermal-homeless",
   "metadata": {},
   "source": [
    "< [Operator-Arithmetic](#Operator-Arithmetic) >"
   ]
  },
  {
   "cell_type": "markdown",
   "id": "national-voltage",
   "metadata": {},
   "source": [
    "&#x1F6A7;"
   ]
  },
  {
   "cell_type": "code",
   "execution_count": 1,
   "id": "toxic-fountain",
   "metadata": {},
   "outputs": [],
   "source": [
    "exit()"
   ]
  },
  {
   "cell_type": "markdown",
   "id": "elder-southeast",
   "metadata": {},
   "source": [
    "< [Table of Contents](#top) | [References](#references) >\n",
    "<a id=\"Operator\"></a>\n",
    "***\n",
    "### Operator\n",
    "***"
   ]
  },
  {
   "cell_type": "markdown",
   "id": "individual-charity",
   "metadata": {},
   "source": [
    "&#x1F6A7;"
   ]
  },
  {
   "cell_type": "code",
   "execution_count": 1,
   "id": "stone-committee",
   "metadata": {},
   "outputs": [],
   "source": [
    "exit()"
   ]
  },
  {
   "cell_type": "markdown",
   "id": "specialized-operations",
   "metadata": {},
   "source": [
    "< [Table of Contents](#top) | [References](#references) >\n",
    "<a id=\"Arithmetic\"></a>\n",
    "***\n",
    "###### Arithmetic\n",
    "***"
   ]
  },
  {
   "cell_type": "markdown",
   "id": "technological-toyota",
   "metadata": {},
   "source": [
    "- basic binary arithmetic operators (addition / substraction / multiplication / true division / floor division / modulus / exponentiation) - addition / substraction can double as unary operators (negation / unary plus) [3 p. 17]"
   ]
  },
  {
   "cell_type": "code",
   "execution_count": 1,
   "id": "charitable-stanley",
   "metadata": {},
   "outputs": [],
   "source": [
    "a,b=2,3"
   ]
  },
  {
   "cell_type": "markdown",
   "id": "juvenile-diameter",
   "metadata": {},
   "source": [
    "|Operator|Name|Description|\n",
    "|:------------------------- | :------------------------- | :------------------------- |\n",
    "|a+b|Addition|Sum of a and b|\n",
    "|a-b|Subtraction|Difference of a and b|\n",
    "|a*b|Multiplication|Product of a and b|"
   ]
  },
  {
   "cell_type": "markdown",
   "id": "confident-visibility",
   "metadata": {},
   "source": [
    "- floor division operator (``//``) is the true division (``/``) with fractional parts truncated [3 p.18]"
   ]
  },
  {
   "cell_type": "markdown",
   "id": "incorporate-white",
   "metadata": {},
   "source": [
    "|Operator|Name|Description|\n",
    "|:------------------------- | :------------------------- | :------------------------- |\n",
    "|a/b|True Division|Quotient of a and b|\n",
    "|a//b|Floor Division|Quotient of a and b (removing fractional parts)|\n",
    "|a%b|Modulus|Remainder after division of a by b|\n",
    "|a**b|Exponentiation|a raised to the power of b|"
   ]
  },
  {
   "cell_type": "code",
   "execution_count": 2,
   "id": "falling-bulgarian",
   "metadata": {},
   "outputs": [
    {
     "data": {
      "text/plain": [
       "0.6666666666666666"
      ]
     },
     "execution_count": 2,
     "metadata": {},
     "output_type": "execute_result"
    }
   ],
   "source": [
    "a/b"
   ]
  },
  {
   "cell_type": "code",
   "execution_count": 3,
   "id": "preliminary-recommendation",
   "metadata": {
    "scrolled": true
   },
   "outputs": [
    {
     "data": {
      "text/plain": [
       "0"
      ]
     },
     "execution_count": 3,
     "metadata": {},
     "output_type": "execute_result"
    }
   ],
   "source": [
    "a//b"
   ]
  },
  {
   "cell_type": "code",
   "execution_count": 4,
   "id": "behind-amsterdam",
   "metadata": {},
   "outputs": [
    {
     "data": {
      "text/plain": [
       "2"
      ]
     },
     "execution_count": 4,
     "metadata": {},
     "output_type": "execute_result"
    }
   ],
   "source": [
    "a%b"
   ]
  },
  {
   "cell_type": "code",
   "execution_count": 5,
   "id": "medieval-framing",
   "metadata": {},
   "outputs": [
    {
     "data": {
      "text/plain": [
       "8"
      ]
     },
     "execution_count": 5,
     "metadata": {},
     "output_type": "execute_result"
    }
   ],
   "source": [
    "a**b"
   ]
  },
  {
   "cell_type": "markdown",
   "id": "vital-deployment",
   "metadata": {},
   "source": [
    "- a unary operation is an operation with only one operand (single input) in contrast to binary operations which use two operands [3 p. 17]"
   ]
  },
  {
   "cell_type": "markdown",
   "id": "dense-iraqi",
   "metadata": {},
   "source": [
    "|Operator|Name|Description|\n",
    "|:------------------------- | :------------------------- | :------------------------- |\n",
    "|-a|Negation|The negative of a|"
   ]
  },
  {
   "cell_type": "code",
   "execution_count": 6,
   "id": "straight-geology",
   "metadata": {},
   "outputs": [
    {
     "data": {
      "text/plain": [
       "-2"
      ]
     },
     "execution_count": 6,
     "metadata": {},
     "output_type": "execute_result"
    }
   ],
   "source": [
    "-a"
   ]
  },
  {
   "cell_type": "code",
   "execution_count": 7,
   "id": "continuous-brown",
   "metadata": {},
   "outputs": [
    {
     "data": {
      "text/plain": [
       "2"
      ]
     },
     "execution_count": 7,
     "metadata": {},
     "output_type": "execute_result"
    }
   ],
   "source": [
    "a"
   ]
  },
  {
   "cell_type": "markdown",
   "id": "foreign-apple",
   "metadata": {},
   "source": [
    "<a id=\"Operator-Arithmetic\"></a>\n",
    "< [collections.Counter](#collections-Counter) >"
   ]
  },
  {
   "cell_type": "code",
   "execution_count": 8,
   "id": "floating-harmony",
   "metadata": {},
   "outputs": [],
   "source": [
    "from collections import Counter"
   ]
  },
  {
   "cell_type": "code",
   "execution_count": 9,
   "id": "civilian-international",
   "metadata": {},
   "outputs": [
    {
     "data": {
      "text/plain": [
       "Counter({'apples': 0, 'pears': 4, 'oranges': -89})"
      ]
     },
     "execution_count": 9,
     "metadata": {},
     "output_type": "execute_result"
    }
   ],
   "source": [
    "Counter({\"apples\":0,\"pears\":4,\"oranges\":-89})"
   ]
  },
  {
   "cell_type": "code",
   "execution_count": 10,
   "id": "warming-estate",
   "metadata": {},
   "outputs": [
    {
     "data": {
      "text/plain": [
       "Counter({'oranges': 89})"
      ]
     },
     "execution_count": 10,
     "metadata": {},
     "output_type": "execute_result"
    }
   ],
   "source": [
    "-Counter({\"apples\":0,\"pears\":4,\"oranges\":-89})"
   ]
  },
  {
   "cell_type": "markdown",
   "id": "compact-trout",
   "metadata": {},
   "source": [
    "|Operator|Name|Description|\n",
    "|:------------------------- | :------------------------- | :------------------------- |\n",
    "|+a|Unary Plus|a unchanged|"
   ]
  },
  {
   "cell_type": "code",
   "execution_count": 11,
   "id": "taken-redhead",
   "metadata": {},
   "outputs": [
    {
     "data": {
      "text/plain": [
       "2"
      ]
     },
     "execution_count": 11,
     "metadata": {},
     "output_type": "execute_result"
    }
   ],
   "source": [
    "+a"
   ]
  },
  {
   "cell_type": "code",
   "execution_count": 12,
   "id": "bound-shoot",
   "metadata": {},
   "outputs": [
    {
     "data": {
      "text/plain": [
       "Counter({'pears': 4})"
      ]
     },
     "execution_count": 12,
     "metadata": {},
     "output_type": "execute_result"
    }
   ],
   "source": [
    "+Counter({\"apples\":0,\"pears\":4,\"oranges\":-89})"
   ]
  },
  {
   "cell_type": "code",
   "execution_count": 13,
   "id": "minute-diana",
   "metadata": {},
   "outputs": [],
   "source": [
    "exit()"
   ]
  },
  {
   "cell_type": "markdown",
   "id": "august-brooklyn",
   "metadata": {},
   "source": [
    "< [Table of Contents](#top) | [References](#references) >\n",
    "<a id=\"Bitwise\"></a>\n",
    "***\n",
    "###### Bitwise\n",
    "***"
   ]
  },
  {
   "cell_type": "markdown",
   "id": "ranging-miller",
   "metadata": {},
   "source": [
    "- operators to perform bitwise logical operations on integers [3 p. 18]"
   ]
  },
  {
   "cell_type": "markdown",
   "id": "compound-swedish",
   "metadata": {},
   "source": [
    "|Operator|Name|Description|\n",
    "|:------------------------- | :------------------------- | :------------------------- |\n",
    "|a&b|Bitwise AND|Bits defined in both a and b|\n",
    "|a\\|b|Bitwise OR|Bits defined in a or b or both|\n",
    "|a^b|Bitwise XOR|Bits defined in a or b but not both|\n",
    "|a<<b|Bit shift left|Shift bits of a left by b units|\n",
    "|a>>b|Bit shift right|Shift bits of a right by b units|\n",
    "|~a|Bitwise NOT|Bitwise negation of a|"
   ]
  },
  {
   "cell_type": "code",
   "execution_count": 1,
   "id": "accepted-orchestra",
   "metadata": {},
   "outputs": [],
   "source": [
    "from sys import path; path.insert(1,\"../src\")"
   ]
  },
  {
   "cell_type": "code",
   "execution_count": 2,
   "id": "expressed-drunk",
   "metadata": {},
   "outputs": [
    {
     "data": {
      "text/html": [
       "<style>.container { width:100% !important; }</style>"
      ],
      "text/plain": [
       "<IPython.core.display.HTML object>"
      ]
     },
     "metadata": {},
     "output_type": "display_data"
    }
   ],
   "source": [
    "from fubar import fMagic"
   ]
  },
  {
   "cell_type": "markdown",
   "id": "specific-venice",
   "metadata": {},
   "source": [
    "- bitwise operators only make sense in terms of the binary representation of numbers [3 p .19]"
   ]
  },
  {
   "cell_type": "code",
   "execution_count": 3,
   "id": "optimum-words",
   "metadata": {},
   "outputs": [
    {
     "name": "stdout",
     "output_type": "stream",
     "text": [
      "<module 'builtins' (built-in)>\n",
      "<class 'builtin_function_or_method'>\n",
      "Return the binary representation of an integer.\n",
      "\n",
      "   >>> bin(2796202)\n",
      "   '0b1010101010101010101010'\n"
     ]
    }
   ],
   "source": [
    "print(fMagic(bin))"
   ]
  },
  {
   "cell_type": "markdown",
   "id": "rapid-cathedral",
   "metadata": {},
   "source": [
    "- ``bin(10)`` returns the prefix ``0b`` indicating a binary representation and the rest of the digits indicate that the number ``10`` is expressed as the sum [3 p. 19]"
   ]
  },
  {
   "cell_type": "markdown",
   "id": "broken-patio",
   "metadata": {},
   "source": [
    "$$(1010)_{2} = (1x2^{3}) + (0x2^{2}) + (1x2^{1}) + (0x2^{0}) = (10)_{10}$$"
   ]
  },
  {
   "cell_type": "code",
   "execution_count": 4,
   "id": "heavy-chain",
   "metadata": {},
   "outputs": [
    {
     "data": {
      "text/plain": [
       "'0b1010'"
      ]
     },
     "execution_count": 4,
     "metadata": {},
     "output_type": "execute_result"
    }
   ],
   "source": [
    "bin(10)"
   ]
  },
  {
   "cell_type": "markdown",
   "id": "pressing-proceeding",
   "metadata": {},
   "source": [
    "- using bitwise OR $|$ to find the number which combines the bits of 3 and 1 [3 p .19]"
   ]
  },
  {
   "cell_type": "code",
   "execution_count": 5,
   "id": "magnetic-cardiff",
   "metadata": {},
   "outputs": [
    {
     "data": {
      "text/plain": [
       "'0b11'"
      ]
     },
     "execution_count": 5,
     "metadata": {},
     "output_type": "execute_result"
    }
   ],
   "source": [
    "bin(3|1)"
   ]
  },
  {
   "cell_type": "markdown",
   "id": "dried-punch",
   "metadata": {},
   "source": [
    "- users from other languages are sometimes tempted to use XOR ``a^b`` for exponentiation [3 p. 19]"
   ]
  },
  {
   "cell_type": "markdown",
   "id": "acting-belief",
   "metadata": {},
   "source": [
    "- use bitwise operations ``~`` ``&`` ``|`` when operating on individual bits or components of the objects in question [3 p. 22]"
   ]
  },
  {
   "cell_type": "markdown",
   "id": "stuck-transportation",
   "metadata": {},
   "source": [
    "- use boolean operators ``and`` ``or`` ``not`` to compute boolean values (truth or falsehood of entire statements) - control flow statements such as conditionals and loops [3 p. 22]"
   ]
  },
  {
   "cell_type": "code",
   "execution_count": 6,
   "id": "major-soldier",
   "metadata": {},
   "outputs": [],
   "source": [
    "exit()"
   ]
  },
  {
   "cell_type": "markdown",
   "id": "buried-grocery",
   "metadata": {},
   "source": [
    "< [Table of Contents](#top) | [References](#references) >\n",
    "<a id=\"Assignment\"></a>\n",
    "***\n",
    "###### Assignment\n",
    "***"
   ]
  },
  {
   "cell_type": "markdown",
   "id": "divided-taste",
   "metadata": {},
   "source": [
    "- can be used in expressions with any of the arithmetic and bitwise operators [3 p. 20]"
   ]
  },
  {
   "cell_type": "markdown",
   "id": "secure-excerpt",
   "metadata": {},
   "source": [
    "- update the name ``a`` with a new value by combining the addition and the assignment [3 p. 20]"
   ]
  },
  {
   "cell_type": "code",
   "execution_count": 1,
   "id": "wanted-miniature",
   "metadata": {},
   "outputs": [],
   "source": [
    "a,b=2,3"
   ]
  },
  {
   "cell_type": "code",
   "execution_count": 2,
   "id": "developing-helicopter",
   "metadata": {},
   "outputs": [
    {
     "data": {
      "text/plain": [
       "5"
      ]
     },
     "execution_count": 2,
     "metadata": {},
     "output_type": "execute_result"
    }
   ],
   "source": [
    "a+=b\n",
    "a"
   ]
  },
  {
   "cell_type": "markdown",
   "id": "atomic-documentary",
   "metadata": {},
   "source": [
    "- given this type of combined operation and assignment is so common python includes built-in operators for all the arithmetric operations [3 p. 20]"
   ]
  },
  {
   "cell_type": "code",
   "execution_count": 3,
   "id": "accessory-forestry",
   "metadata": {},
   "outputs": [
    {
     "data": {
      "text/plain": [
       "2"
      ]
     },
     "execution_count": 3,
     "metadata": {},
     "output_type": "execute_result"
    }
   ],
   "source": [
    "a-=b\n",
    "a"
   ]
  },
  {
   "cell_type": "code",
   "execution_count": 4,
   "id": "romantic-investing",
   "metadata": {},
   "outputs": [
    {
     "data": {
      "text/plain": [
       "6"
      ]
     },
     "execution_count": 4,
     "metadata": {},
     "output_type": "execute_result"
    }
   ],
   "source": [
    "a*=b\n",
    "a"
   ]
  },
  {
   "cell_type": "code",
   "execution_count": 5,
   "id": "searching-origin",
   "metadata": {},
   "outputs": [
    {
     "data": {
      "text/plain": [
       "2.0"
      ]
     },
     "execution_count": 5,
     "metadata": {},
     "output_type": "execute_result"
    }
   ],
   "source": [
    "a/=b\n",
    "a"
   ]
  },
  {
   "cell_type": "code",
   "execution_count": 6,
   "id": "latin-eleven",
   "metadata": {},
   "outputs": [
    {
     "data": {
      "text/plain": [
       "1.0"
      ]
     },
     "execution_count": 6,
     "metadata": {},
     "output_type": "execute_result"
    }
   ],
   "source": [
    "a//=a\n",
    "a"
   ]
  },
  {
   "cell_type": "code",
   "execution_count": 7,
   "id": "previous-cabinet",
   "metadata": {},
   "outputs": [
    {
     "data": {
      "text/plain": [
       "1.0"
      ]
     },
     "execution_count": 7,
     "metadata": {},
     "output_type": "execute_result"
    }
   ],
   "source": [
    "a%=b\n",
    "a"
   ]
  },
  {
   "cell_type": "code",
   "execution_count": 8,
   "id": "retired-financing",
   "metadata": {},
   "outputs": [
    {
     "data": {
      "text/plain": [
       "1.0"
      ]
     },
     "execution_count": 8,
     "metadata": {},
     "output_type": "execute_result"
    }
   ],
   "source": [
    "a**=b\n",
    "a"
   ]
  },
  {
   "cell_type": "markdown",
   "id": "damaged-slide",
   "metadata": {},
   "source": [
    "- augmented assignment operator corresponding to each of the binary operators whereby each is equivalent to the corresponding operation followed by assignment [3 p. 20]"
   ]
  },
  {
   "cell_type": "markdown",
   "id": "recognized-melissa",
   "metadata": {},
   "source": [
    "- primarily used to update the intersection of built-in set types [[stackoverflow](https://web.archive.org/web/20210320080740/https://stackoverflow.com/questions/21237767/python-a-b-meaning)]"
   ]
  },
  {
   "cell_type": "code",
   "execution_count": 9,
   "id": "protecting-adolescent",
   "metadata": {},
   "outputs": [],
   "source": [
    "a=set(\"abcd\")"
   ]
  },
  {
   "cell_type": "code",
   "execution_count": 10,
   "id": "different-depth",
   "metadata": {},
   "outputs": [
    {
     "data": {
      "text/plain": [
       "{'b', 'd'}"
      ]
     },
     "execution_count": 10,
     "metadata": {},
     "output_type": "execute_result"
    }
   ],
   "source": [
    "a&=set(\"bdfg\")\n",
    "a"
   ]
  },
  {
   "cell_type": "code",
   "execution_count": 11,
   "id": "turkish-gender",
   "metadata": {},
   "outputs": [
    {
     "data": {
      "text/plain": [
       "{'b', 'd'}"
      ]
     },
     "execution_count": 11,
     "metadata": {},
     "output_type": "execute_result"
    }
   ],
   "source": [
    "a.__iand__(set(\"abcd\"))\n",
    "a"
   ]
  },
  {
   "cell_type": "markdown",
   "id": "copyrighted-decimal",
   "metadata": {},
   "source": [
    "- shorthand [[stackoverflow](https://web.archive.org/web/20210320080740/https://stackoverflow.com/questions/21237767/python-a-b-meaning)]"
   ]
  },
  {
   "cell_type": "code",
   "execution_count": 12,
   "id": "sporting-ocean",
   "metadata": {},
   "outputs": [
    {
     "data": {
      "text/plain": [
       "{'b', 'd'}"
      ]
     },
     "execution_count": 12,
     "metadata": {},
     "output_type": "execute_result"
    }
   ],
   "source": [
    "a=a&set(\"abcd\")\n",
    "a"
   ]
  },
  {
   "cell_type": "markdown",
   "id": "separate-accreditation",
   "metadata": {},
   "source": [
    "- slight catch for mutable objects (list/arrays or DataFrames) is that these augmented assignment operations are subtly different than their more verbose counterparts wherey the contents of the original object is modified rather than creating a new object [3 p. 20]"
   ]
  },
  {
   "cell_type": "code",
   "execution_count": 13,
   "id": "alternative-culture",
   "metadata": {},
   "outputs": [],
   "source": [
    "exit()"
   ]
  },
  {
   "cell_type": "markdown",
   "id": "attempted-hopkins",
   "metadata": {},
   "source": [
    "< [Table of Contents](#top) | [References](#references) >\n",
    "<a id=\"Comparison\"></a>\n",
    "***\n",
    "###### Comparison\n",
    "***"
   ]
  },
  {
   "cell_type": "markdown",
   "id": "accessory-february",
   "metadata": {},
   "source": [
    "- comparison of different values returning boolean values ``True`` or ``False`` [3 p. 21]"
   ]
  },
  {
   "cell_type": "markdown",
   "id": "dirty-tulsa",
   "metadata": {},
   "source": [
    "|Operator|Description|\n",
    "|:------------------------- | :------------------------- |\n",
    "|a==b|a equal to b|\n",
    "|a!=b|a not equal to b|\n",
    "|a<b|a less than b|\n",
    "|a>b|a greater than b|\n",
    "|a<=b|a less than or equal to b|\n",
    "|a>=b|a greater than or equal to b|"
   ]
  },
  {
   "cell_type": "markdown",
   "id": "together-belly",
   "metadata": {},
   "source": [
    "- comparison operators combined with the arithmetic and bitwise operators express a virtually limitless range of tests for numbers - check if a number is odd by checking ``%2`` returns one [3 p. 21]"
   ]
  },
  {
   "cell_type": "code",
   "execution_count": 1,
   "id": "located-bridge",
   "metadata": {},
   "outputs": [],
   "source": [
    "n=3"
   ]
  },
  {
   "cell_type": "code",
   "execution_count": 2,
   "id": "amber-novelty",
   "metadata": {},
   "outputs": [
    {
     "data": {
      "text/plain": [
       "True"
      ]
     },
     "execution_count": 2,
     "metadata": {},
     "output_type": "execute_result"
    }
   ],
   "source": [
    "n%2!=0"
   ]
  },
  {
   "cell_type": "markdown",
   "id": "activated-desert",
   "metadata": {},
   "source": [
    "- can string together multiple comparisons to check more complicated relationships [3 p. 21]"
   ]
  },
  {
   "cell_type": "code",
   "execution_count": 3,
   "id": "gothic-auckland",
   "metadata": {},
   "outputs": [],
   "source": [
    "n=2"
   ]
  },
  {
   "cell_type": "code",
   "execution_count": 4,
   "id": "flying-dubai",
   "metadata": {},
   "outputs": [
    {
     "data": {
      "text/plain": [
       "True"
      ]
     },
     "execution_count": 4,
     "metadata": {},
     "output_type": "execute_result"
    }
   ],
   "source": [
    "1<n<3"
   ]
  },
  {
   "cell_type": "code",
   "execution_count": 5,
   "id": "corporate-directory",
   "metadata": {},
   "outputs": [
    {
     "data": {
      "text/plain": [
       "False"
      ]
     },
     "execution_count": 5,
     "metadata": {},
     "output_type": "execute_result"
    }
   ],
   "source": [
    "2<n>2"
   ]
  },
  {
   "cell_type": "markdown",
   "id": "peripheral-reply",
   "metadata": {},
   "source": [
    "- bitwise logical operation ``~`` (bit-flip operator) evidently when flipping all the bits of zero then ending up with minus one (twos complement integer encoding scheme is what python uses to encode signed integers) [3 p. 21]"
   ]
  },
  {
   "cell_type": "code",
   "execution_count": 6,
   "id": "limited-cross",
   "metadata": {},
   "outputs": [
    {
     "data": {
      "text/plain": [
       "-1"
      ]
     },
     "execution_count": 6,
     "metadata": {},
     "output_type": "execute_result"
    }
   ],
   "source": [
    "~0"
   ]
  },
  {
   "cell_type": "code",
   "execution_count": 7,
   "id": "assured-nation",
   "metadata": {},
   "outputs": [
    {
     "data": {
      "text/plain": [
       "True"
      ]
     },
     "execution_count": 7,
     "metadata": {},
     "output_type": "execute_result"
    }
   ],
   "source": [
    "-1==~0"
   ]
  },
  {
   "cell_type": "code",
   "execution_count": 8,
   "id": "revised-enlargement",
   "metadata": {},
   "outputs": [],
   "source": [
    "exit()"
   ]
  },
  {
   "cell_type": "markdown",
   "id": "exact-arrival",
   "metadata": {},
   "source": [
    "< [Table of Contents](#top) | [References](#references) >\n",
    "<a id=\"Boolean\"></a>\n",
    "***\n",
    "###### Boolean\n",
    "***"
   ]
  },
  {
   "cell_type": "markdown",
   "id": "increased-failing",
   "metadata": {},
   "source": [
    "- operators expressed using the words ``and`` ``or`` ``not`` [3 p. 22]"
   ]
  },
  {
   "cell_type": "code",
   "execution_count": 1,
   "id": "anonymous-toolbox",
   "metadata": {},
   "outputs": [],
   "source": [
    "n=2"
   ]
  },
  {
   "cell_type": "code",
   "execution_count": 2,
   "id": "sporting-monster",
   "metadata": {},
   "outputs": [
    {
     "data": {
      "text/plain": [
       "True"
      ]
     },
     "execution_count": 2,
     "metadata": {},
     "output_type": "execute_result"
    }
   ],
   "source": [
    "(n>1)and(n<3)"
   ]
  },
  {
   "cell_type": "code",
   "execution_count": 3,
   "id": "meaningful-stations",
   "metadata": {},
   "outputs": [
    {
     "data": {
      "text/plain": [
       "True"
      ]
     },
     "execution_count": 3,
     "metadata": {},
     "output_type": "execute_result"
    }
   ],
   "source": [
    "(n>1)or(n%2==0)"
   ]
  },
  {
   "cell_type": "code",
   "execution_count": 4,
   "id": "hawaiian-oakland",
   "metadata": {},
   "outputs": [
    {
     "data": {
      "text/plain": [
       "False"
      ]
     },
     "execution_count": 4,
     "metadata": {},
     "output_type": "execute_result"
    }
   ],
   "source": [
    "not(n<3)"
   ]
  },
  {
   "cell_type": "markdown",
   "id": "middle-samuel",
   "metadata": {},
   "source": [
    "- ``XOR`` exclusive or (exclusive disjunction) is a logical operator which results ``True`` only when the inputs differ [3 p. 22]"
   ]
  },
  {
   "cell_type": "markdown",
   "id": "dangerous-receipt",
   "metadata": {},
   "source": [
    "- operator is not included in python albeit can be constructed in several ways from a compound statement using other operators [3 p. 22]"
   ]
  },
  {
   "cell_type": "code",
   "execution_count": 5,
   "id": "happy-thanks",
   "metadata": {},
   "outputs": [
    {
     "data": {
      "text/plain": [
       "False"
      ]
     },
     "execution_count": 5,
     "metadata": {},
     "output_type": "execute_result"
    }
   ],
   "source": [
    "(n>1)!=(n<3)"
   ]
  },
  {
   "cell_type": "markdown",
   "id": "innocent-torture",
   "metadata": {},
   "source": [
    "- use boolean operators ``and`` ``or`` ``not`` to compute boolean values (truth or falsehood of entire statements) - control flow statements such as conditionals and loops [3 p. 22]"
   ]
  },
  {
   "cell_type": "markdown",
   "id": "closed-spanish",
   "metadata": {},
   "source": [
    "- use bitwise operations ``~`` ``&`` ``|`` when operating on individual bits or components of the objects in question [3 p. 22]"
   ]
  },
  {
   "cell_type": "code",
   "execution_count": 6,
   "id": "removed-playing",
   "metadata": {},
   "outputs": [],
   "source": [
    "exit()"
   ]
  },
  {
   "cell_type": "markdown",
   "id": "diagnostic-crack",
   "metadata": {},
   "source": [
    "< [Table of Contents](#top) | [References](#references) >\n",
    "<a id=\"Identity\"></a>\n",
    "***\n",
    "###### Identity\n",
    "***"
   ]
  },
  {
   "cell_type": "markdown",
   "id": "related-population",
   "metadata": {},
   "source": [
    "- prose-like operators ``is`` and ``is not`` both check for object identity [3 p. 23]"
   ]
  },
  {
   "cell_type": "markdown",
   "id": "large-lloyd",
   "metadata": {},
   "source": [
    "- ``is`` true if object ``a`` is identical to object ``b`` [3 p. 23]"
   ]
  },
  {
   "cell_type": "code",
   "execution_count": 1,
   "id": "knowing-antique",
   "metadata": {},
   "outputs": [],
   "source": [
    "a,b=1,1"
   ]
  },
  {
   "cell_type": "code",
   "execution_count": 2,
   "id": "spare-circus",
   "metadata": {},
   "outputs": [
    {
     "data": {
      "text/plain": [
       "True"
      ]
     },
     "execution_count": 2,
     "metadata": {},
     "output_type": "execute_result"
    }
   ],
   "source": [
    "a is b"
   ]
  },
  {
   "cell_type": "code",
   "execution_count": 3,
   "id": "developmental-perth",
   "metadata": {},
   "outputs": [
    {
     "data": {
      "text/plain": [
       "True"
      ]
     },
     "execution_count": 3,
     "metadata": {},
     "output_type": "execute_result"
    }
   ],
   "source": [
    "b is a"
   ]
  },
  {
   "cell_type": "code",
   "execution_count": 4,
   "id": "abroad-course",
   "metadata": {},
   "outputs": [],
   "source": [
    "b=2"
   ]
  },
  {
   "cell_type": "code",
   "execution_count": 5,
   "id": "toxic-myrtle",
   "metadata": {},
   "outputs": [
    {
     "data": {
      "text/plain": [
       "False"
      ]
     },
     "execution_count": 5,
     "metadata": {},
     "output_type": "execute_result"
    }
   ],
   "source": [
    "b is a"
   ]
  },
  {
   "cell_type": "markdown",
   "id": "noted-theme",
   "metadata": {},
   "source": [
    "- ``is not`` true if object ``a`` is not identical to object ``b`` [3 p. 23]"
   ]
  },
  {
   "cell_type": "code",
   "execution_count": 6,
   "id": "private-emerald",
   "metadata": {},
   "outputs": [],
   "source": [
    "a=b"
   ]
  },
  {
   "cell_type": "code",
   "execution_count": 7,
   "id": "operating-creek",
   "metadata": {},
   "outputs": [
    {
     "data": {
      "text/plain": [
       "True"
      ]
     },
     "execution_count": 7,
     "metadata": {},
     "output_type": "execute_result"
    }
   ],
   "source": [
    "a is b"
   ]
  },
  {
   "cell_type": "code",
   "execution_count": 8,
   "id": "extended-header",
   "metadata": {},
   "outputs": [
    {
     "data": {
      "text/plain": [
       "False"
      ]
     },
     "execution_count": 8,
     "metadata": {},
     "output_type": "execute_result"
    }
   ],
   "source": [
    "a is not b"
   ]
  },
  {
   "cell_type": "markdown",
   "id": "molecular-antenna",
   "metadata": {},
   "source": [
    "- initially point to different objects (different to equality) [3 p. 23]"
   ]
  },
  {
   "cell_type": "code",
   "execution_count": 9,
   "id": "eight-mumbai",
   "metadata": {},
   "outputs": [],
   "source": [
    "a,b=[1,2,3],[1,2,3]"
   ]
  },
  {
   "cell_type": "code",
   "execution_count": 10,
   "id": "expressed-consideration",
   "metadata": {},
   "outputs": [
    {
     "data": {
      "text/plain": [
       "True"
      ]
     },
     "execution_count": 10,
     "metadata": {},
     "output_type": "execute_result"
    }
   ],
   "source": [
    "a==b"
   ]
  },
  {
   "cell_type": "code",
   "execution_count": 11,
   "id": "fancy-rogers",
   "metadata": {},
   "outputs": [
    {
     "data": {
      "text/plain": [
       "False"
      ]
     },
     "execution_count": 11,
     "metadata": {},
     "output_type": "execute_result"
    }
   ],
   "source": [
    "a is b"
   ]
  },
  {
   "cell_type": "code",
   "execution_count": 12,
   "id": "cutting-frequency",
   "metadata": {},
   "outputs": [
    {
     "data": {
      "text/plain": [
       "True"
      ]
     },
     "execution_count": 12,
     "metadata": {},
     "output_type": "execute_result"
    }
   ],
   "source": [
    "a is not b"
   ]
  },
  {
   "cell_type": "code",
   "execution_count": 13,
   "id": "suited-snowboard",
   "metadata": {},
   "outputs": [],
   "source": [
    "a=b"
   ]
  },
  {
   "cell_type": "code",
   "execution_count": 14,
   "id": "confused-desert",
   "metadata": {},
   "outputs": [
    {
     "data": {
      "text/plain": [
       "True"
      ]
     },
     "execution_count": 14,
     "metadata": {},
     "output_type": "execute_result"
    }
   ],
   "source": [
    "a is b"
   ]
  },
  {
   "cell_type": "code",
   "execution_count": 15,
   "id": "sitting-finger",
   "metadata": {},
   "outputs": [
    {
     "data": {
      "text/plain": [
       "False"
      ]
     },
     "execution_count": 15,
     "metadata": {},
     "output_type": "execute_result"
    }
   ],
   "source": [
    "a is not b"
   ]
  },
  {
   "cell_type": "markdown",
   "id": "narrative-indianapolis",
   "metadata": {},
   "source": [
    "- operator ``ìs`` checks whether two names are pointing to the same container (object) rather than referring to what the container contains [3 p. 23]"
   ]
  },
  {
   "cell_type": "code",
   "execution_count": 16,
   "id": "loved-poker",
   "metadata": {},
   "outputs": [],
   "source": [
    "exit()"
   ]
  },
  {
   "cell_type": "markdown",
   "id": "consolidated-rachel",
   "metadata": {},
   "source": [
    "< [Table of Contents](#top) | [References](#references) >\n",
    "<a id=\"Membership\"></a>\n",
    "***\n",
    "###### Membership\n",
    "***"
   ]
  },
  {
   "cell_type": "markdown",
   "id": "historical-farmer",
   "metadata": {},
   "source": [
    "&#x1F6A7;"
   ]
  },
  {
   "cell_type": "code",
   "execution_count": 1,
   "id": "virtual-transition",
   "metadata": {},
   "outputs": [],
   "source": [
    "exit()"
   ]
  },
  {
   "cell_type": "markdown",
   "id": "generous-easter",
   "metadata": {},
   "source": [
    "***\n",
    "## END"
   ]
  },
  {
   "cell_type": "markdown",
   "id": "capital-orientation",
   "metadata": {},
   "source": [
    "< [Table of Contents](#top) | [Abstract](#abstract) | [Introduction](#introduction) | [Conclusion](#conclusion) | [References](#references) >\n",
    "<a id=\"solution\"></a>\n",
    "***\n",
    "## Solution\n",
    "***"
   ]
  },
  {
   "cell_type": "markdown",
   "id": "concerned-ratio",
   "metadata": {},
   "source": [
    "< [Table of Contents](#top) | [References](#references) >\n",
    "<a id=\"computational-thinking-with-algorithms\"></a>\n",
    "### GMIT - CTA\n",
    "***"
   ]
  },
  {
   "cell_type": "markdown",
   "id": "blessed-springfield",
   "metadata": {},
   "source": [
    "**Module (Computational Thinking with Algorithms) Programming Practice**"
   ]
  },
  {
   "cell_type": "code",
   "execution_count": 1,
   "id": "colored-diameter",
   "metadata": {},
   "outputs": [],
   "source": [
    "exit()"
   ]
  },
  {
   "cell_type": "markdown",
   "id": "comic-birmingham",
   "metadata": {},
   "source": [
    "< [Table of Contents](#top) | [References](#references) >\n",
    "<a id=\"code-runner\"></a>\n",
    "***\n",
    "###### Code Runner\n",
    "***"
   ]
  },
  {
   "cell_type": "code",
   "execution_count": null,
   "id": "differential-large",
   "metadata": {},
   "outputs": [],
   "source": [
    "def fOnlyEvens(nParArray):\n",
    "    \"\"\"GMIT Module: Computational Thinking with Algorithms - Code Runner\n",
    "\n",
    "Input: Array of integers.\n",
    "Process: Each number in \"Input\"; if number % 2 = 0; append to new array.\n",
    "Output: New array containing only the even numbers from the first array.\n",
    "\"\"\"\n",
    "    nArray=[] # output\n",
    "    for nEachItem in nParArray: # process\n",
    "        if nEachItem%2==0:\n",
    "            nArray.append(nEachItem)\n",
    "    return nArray\n",
    "fOnlyEvens(list(range(1,7)))"
   ]
  },
  {
   "cell_type": "code",
   "execution_count": null,
   "id": "honest-tunnel",
   "metadata": {},
   "outputs": [],
   "source": [
    "from numpy.random import default_rng\n",
    "n1000k=[default_rng().integers(low=10,high=None) for i in range(0,1000000)]"
   ]
  },
  {
   "cell_type": "code",
   "execution_count": null,
   "id": "dangerous-barrel",
   "metadata": {},
   "outputs": [],
   "source": [
    "len(n1000k)"
   ]
  },
  {
   "cell_type": "code",
   "execution_count": null,
   "id": "celtic-wisconsin",
   "metadata": {},
   "outputs": [],
   "source": [
    "n1000k[999999]"
   ]
  },
  {
   "cell_type": "code",
   "execution_count": null,
   "id": "capable-tower",
   "metadata": {},
   "outputs": [],
   "source": [
    "def fContainsElement(nParArr,nParSearch):\n",
    "    for i in nParArr:\n",
    "        if i==nParSearch:\n",
    "            return True\n",
    "    return False"
   ]
  },
  {
   "cell_type": "code",
   "execution_count": null,
   "id": "acknowledged-crash",
   "metadata": {},
   "outputs": [],
   "source": [
    "%timeit -r 1 -n 5 fContainsElement(nParArr=n1000k,nParSearch=10)"
   ]
  },
  {
   "cell_type": "code",
   "execution_count": null,
   "id": "operating-powell",
   "metadata": {},
   "outputs": [],
   "source": [
    "fContainsElement(nParArr=n1000k,nParSearch=10)"
   ]
  },
  {
   "cell_type": "code",
   "execution_count": null,
   "id": "following-schedule",
   "metadata": {},
   "outputs": [],
   "source": [
    "fContainsElement(nParArr=[1,2,1000,45],nParSearch=10)"
   ]
  },
  {
   "cell_type": "code",
   "execution_count": null,
   "id": "numerous-blues",
   "metadata": {},
   "outputs": [],
   "source": [
    "def fArray(nParArr):\n",
    "    for i in nParArr:\n",
    "        print(i) # each run/loop captures additional element in nParArr\n",
    "arr=[1,2,1000,4,5]\n",
    "fArray(arr)"
   ]
  },
  {
   "cell_type": "code",
   "execution_count": null,
   "id": "brazilian-proof",
   "metadata": {},
   "outputs": [],
   "source": [
    "def fArray(nParArr):\n",
    "    for i in nParArr:\n",
    "        print(nParArr[0]) # each run/loop captures first element (index 0) in \"i\" only\n",
    "arr=[1,2,1000,4,5]\n",
    "fArray(arr)"
   ]
  },
  {
   "cell_type": "markdown",
   "id": "impressive-priest",
   "metadata": {},
   "source": [
    "```python\n",
    "def fArray(nParArr):\n",
    "    for i in nParArr:\n",
    "        # first loop \"i\" is 1 - i.e. arr[0]\n",
    "            # second loop \"i\" is 2 - i.e. arr[1]\n",
    "                # third loop \"i\" is 1000 - i.e arr[2]\n",
    "        print(nParArr[i]) # first loop prints arr[1] given \"i\" is 1\n",
    "                                # second loop prints arr[2] given \"i\" is 2\n",
    "                                    # third loop prints (NOT) arr[1000] given \"i\" is 1000 \n",
    "        # on the third loop ERROR: \"list index out of range\" \n",
    "arr=[1,2,1000,4,5]\n",
    "fArray(arr)\n",
    "```"
   ]
  },
  {
   "cell_type": "markdown",
   "id": "comfortable-timing",
   "metadata": {},
   "source": [
    "```python\n",
    "def fArray(nParArr):\n",
    "    for i in nParArr:\n",
    "        # first loop \"i\" is 1 - i.e. arr[0]\n",
    "            # second loop \"i\" is 2 - i.e. arr[1]\n",
    "                # third loop \"i\" is 1000 - i.e arr[2]\n",
    "        print(nParArr[i-1]) # first loop prints arr[0] given \"i\" is 1 and minusing ONE\n",
    "                                # second loop prints arr[1] given \"i\" is 2 and minusing ONE\n",
    "                                    # third loop prints arr[999] (NOT) given \"i\" is 1000 and minusing ONE \n",
    "        # on the third loop ERROR: \"list index out of range\" \n",
    "arr=[1,2,1000,4,5]\n",
    "fArray(arr)\n",
    "```"
   ]
  },
  {
   "cell_type": "code",
   "execution_count": null,
   "id": "worth-attempt",
   "metadata": {},
   "outputs": [],
   "source": [
    "from numpy.random import default_rng\n",
    "n1000k=[default_rng().integers(low=10,high=None) for i in range(0,1000000)]"
   ]
  },
  {
   "cell_type": "code",
   "execution_count": null,
   "id": "fallen-maria",
   "metadata": {},
   "outputs": [],
   "source": [
    "# function A - using built-in functions\n",
    "def fContainsElement(nParArr,nParSearch):\n",
    "    for i in range(0,len(nParArr)):\n",
    "        if nParArr[i]==nParSearch:\n",
    "            return True\n",
    "    return False"
   ]
  },
  {
   "cell_type": "code",
   "execution_count": null,
   "id": "consolidated-pastor",
   "metadata": {},
   "outputs": [],
   "source": [
    "%timeit -r 1 -n 5 fContainsElement(nParArr=n1000k,nParSearch=10)\n",
    "fContainsElement(nParArr=n1000k,nParSearch=10)"
   ]
  },
  {
   "cell_type": "code",
   "execution_count": null,
   "id": "conceptual-check",
   "metadata": {},
   "outputs": [],
   "source": [
    "def fContainsElement(nParArr,nParSearch):\n",
    "    for i in nParArr:\n",
    "        if nParArr[i]==nParSearch:\n",
    "            return True\n",
    "    return False"
   ]
  },
  {
   "cell_type": "code",
   "execution_count": null,
   "id": "extended-drilling",
   "metadata": {},
   "outputs": [],
   "source": [
    "%timeit -r 1 -n 5 fContainsElement(nParArr=n1000k,nParSearch=10)\n",
    "fContainsElement(nParArr=n1000k,nParSearch=10)"
   ]
  },
  {
   "cell_type": "code",
   "execution_count": 1,
   "id": "hungarian-russia",
   "metadata": {},
   "outputs": [],
   "source": [
    "exit()"
   ]
  },
  {
   "cell_type": "markdown",
   "id": "manual-equality",
   "metadata": {},
   "source": [
    "< [Table of Contents](#top) | [References](#references) >\n",
    "<a id=\"Caesar-Cipher\"></a>\n",
    "***\n",
    "###### Caesar Cipher\n",
    "***"
   ]
  },
  {
   "cell_type": "code",
   "execution_count": null,
   "id": "informative-consolidation",
   "metadata": {},
   "outputs": [],
   "source": [
    "# %%writefile -a ../src/fubar.py\n",
    "# repository ./fubar-python\n",
    "def fEncrypt(nParPlaintext,nParOffset):\n",
    "    \"\"\"Implement caesar cipher.\n",
    "\n",
    "Input: nParPlaintext; nParOffset\n",
    "Process: apply nParOffset to every character in nParPlaintext; ord; isupper; chr\n",
    "Output: nCiphertext\n",
    "\"\"\"\n",
    "    nCiphertext=\"\"\n",
    "    # traverse over string nParPlaintext\n",
    "    for nEachItem in nParPlaintext:\n",
    "        # transform according to nParOffset\n",
    "        nNumVal=ord(nEachItem) # ...nParPlaintext letter as number\n",
    "        # determine lowercase or uppercase\n",
    "        if nEachItem.isupper(): # ...boolean True if uppercase\n",
    "            # add nParOffset to nNumVal\n",
    "            nAdjusted=((nNumVal+nParOffset-65)%26)+65\n",
    "            nCiphertext+=chr(nAdjusted) # nNumVal number as letter\n",
    "        elif nNumVal==32:\n",
    "            nCiphertext+=nEachItem\n",
    "        else:\n",
    "            nAdjusted=((nNumVal+nParOffset-97)%26)+97\n",
    "            nCiphertext+=chr(nAdjusted) \n",
    "    return nCiphertext\n",
    "# -- END ---"
   ]
  },
  {
   "cell_type": "code",
   "execution_count": null,
   "id": "homeless-element",
   "metadata": {},
   "outputs": [],
   "source": [
    "def encrypt(plain_text,offset):\n",
    "    nCiphertext=\"\"\n",
    "    # traverse over string plain_text\n",
    "    for nEachItem in plain_text:\n",
    "        # transform according to offset\n",
    "        nNumVal=ord(nEachItem) # ...plain_text letter as number\n",
    "        # determine lowercase or uppercase\n",
    "        if nEachItem.isupper(): # ...boolean True if uppercase\n",
    "            # add nParOffset to nNumVal\n",
    "            nAdjusted=((nNumVal+offset-65)%26)+65\n",
    "            nCiphertext+=chr(nAdjusted) # nNumVal number as letter\n",
    "        elif nNumVal==32:\n",
    "            nCiphertext+=nEachItem\n",
    "        else:\n",
    "            nAdjusted=((nNumVal+offset-97)%26)+97\n",
    "            nCiphertext+=chr(nAdjusted) \n",
    "    return nCiphertext"
   ]
  },
  {
   "cell_type": "code",
   "execution_count": null,
   "id": "bridal-brazilian",
   "metadata": {},
   "outputs": [],
   "source": [
    "encrypt(\"Isnt Java Great\",4)"
   ]
  },
  {
   "cell_type": "code",
   "execution_count": null,
   "id": "sufficient-knitting",
   "metadata": {},
   "outputs": [],
   "source": [
    "encrypt(\"I love GMIT\",4)"
   ]
  },
  {
   "cell_type": "code",
   "execution_count": null,
   "id": "moved-justice",
   "metadata": {},
   "outputs": [],
   "source": [
    "encrypt(\"This course is great\",4)"
   ]
  },
  {
   "cell_type": "code",
   "execution_count": null,
   "id": "brazilian-guinea",
   "metadata": {},
   "outputs": [],
   "source": [
    "def decrypt(plain_text,offset):\n",
    "    nPlaintext=\"\"\n",
    "    # traverse over string plain_text\n",
    "    for nEachItem in plain_text:\n",
    "        # transform according to offset\n",
    "        nNumVal=ord(nEachItem) # ...plain_text letter as number\n",
    "        # determine lowercase or uppercase\n",
    "        if nEachItem.isupper(): # ...boolean True if uppercase\n",
    "            # add nParOffset to nNumVal\n",
    "            nAdjusted=((nNumVal-offset-65)%26)+65\n",
    "            nPlaintext+=chr(nAdjusted) # nNumVal number as letter\n",
    "        elif nNumVal==32:\n",
    "            nPlaintext+=nEachItem\n",
    "        else:\n",
    "            nAdjusted=((nNumVal-offset-97)%26)+97\n",
    "            nPlaintext+=chr(nAdjusted) \n",
    "    return nPlaintext"
   ]
  },
  {
   "cell_type": "code",
   "execution_count": null,
   "id": "surrounded-instruction",
   "metadata": {},
   "outputs": [],
   "source": [
    "decrypt(\"Mwrx Neze Kviex\",4)"
   ]
  },
  {
   "cell_type": "code",
   "execution_count": null,
   "id": "inside-maria",
   "metadata": {},
   "outputs": [],
   "source": [
    "decrypt(\"M pszi KQMX\",4)"
   ]
  },
  {
   "cell_type": "code",
   "execution_count": null,
   "id": "excessive-length",
   "metadata": {},
   "outputs": [],
   "source": [
    "decrypt(\"Xlmw gsyvwi mw kviex\",4)"
   ]
  },
  {
   "cell_type": "code",
   "execution_count": null,
   "id": "romantic-gambling",
   "metadata": {},
   "outputs": [],
   "source": [
    "def encrypt2(plain_text, offset):\n",
    "    nCiphertext=\"\"\n",
    "    # traverse over string plain_text\n",
    "    for nEachItem in plain_text:\n",
    "        # transform according to offset\n",
    "        nNumVal=ord(nEachItem) # ...plain_text letter as number\n",
    "        # determine lowercase or uppercase\n",
    "        if nEachItem.isupper(): # ...boolean True if uppercase\n",
    "            # add nParOffset to nNumVal\n",
    "            nAdjusted=((nNumVal+offset-65)%26)+65\n",
    "            nCiphertext+=chr(nAdjusted) # nNumVal number as letter\n",
    "        elif nNumVal==32: \n",
    "            pass\n",
    "        else:\n",
    "            nAdjusted=((nNumVal+offset-97)%26)+97\n",
    "            nCiphertext+=chr(nAdjusted)\n",
    "    return nCiphertext"
   ]
  },
  {
   "cell_type": "code",
   "execution_count": null,
   "id": "widespread-edward",
   "metadata": {},
   "outputs": [],
   "source": [
    "encrypt2(\"hello lads\", 2)"
   ]
  },
  {
   "cell_type": "code",
   "execution_count": null,
   "id": "funded-faith",
   "metadata": {},
   "outputs": [],
   "source": [
    "encrypt2(\"are we human\", 2)"
   ]
  },
  {
   "cell_type": "code",
   "execution_count": null,
   "id": "afraid-document",
   "metadata": {},
   "outputs": [],
   "source": [
    "encrypt2(\"or are we dancer\", 2)"
   ]
  },
  {
   "cell_type": "code",
   "execution_count": null,
   "id": "accepted-declaration",
   "metadata": {},
   "outputs": [],
   "source": [
    "encrypt2(\"two plus two is four\", 2)"
   ]
  },
  {
   "cell_type": "code",
   "execution_count": 1,
   "id": "distinguished-content",
   "metadata": {},
   "outputs": [],
   "source": [
    "exit()"
   ]
  },
  {
   "cell_type": "markdown",
   "id": "deadly-blair",
   "metadata": {},
   "source": [
    "***\n",
    "## END"
   ]
  },
  {
   "cell_type": "markdown",
   "id": "indirect-makeup",
   "metadata": {},
   "source": [
    "< [Table of Contents](#top) | [Abstract](#abstract) | [Introduction](#introduction) | [Solution](#solution) | [References](#references) >\n",
    "<a id=\"conclusion\"></a>\n",
    "***\n",
    "## Conclusion\n",
    "***"
   ]
  },
  {
   "cell_type": "markdown",
   "id": "entitled-highland",
   "metadata": {},
   "source": [
    "&#x1F6A7;"
   ]
  },
  {
   "cell_type": "markdown",
   "id": "modular-berkeley",
   "metadata": {},
   "source": [
    "<!-- print(fGetModuleType(___x___),fDocumentation(___x___)) -->\n",
    "***\n",
    "## END"
   ]
  },
  {
   "cell_type": "markdown",
   "id": "hydraulic-conjunction",
   "metadata": {},
   "source": [
    "< [Table of Contents](#top) | [Abstract](#abstract) | [Introduction](#introduction) | [Solution](#solution) | [Conclusion](#conclusion) | [References](#references) >\n",
    "<a id=\"references\"></a>\n",
    "***\n",
    "## References\n",
    "***\n",
    "\n",
    "\n",
    "&nbsp;&nbsp;&nbsp;&nbsp;&nbsp;&nbsp;&nbsp;&nbsp;&nbsp;[1] L. Jones, \"Pointers in Python: What's the Point?,\" [realpython](https://web.archive.org/web/20201210182307/https://realpython.com/pointers-in-python/), May 2019.\n",
    "\n",
    "&nbsp;&nbsp;&nbsp;&nbsp;&nbsp;&nbsp;&nbsp;&nbsp;&nbsp;[2] J. VanderPlas, \"Python Data Science Handbook,\" O'Reilly, December 2016.\n",
    "\n",
    "&nbsp;&nbsp;&nbsp;&nbsp;&nbsp;&nbsp;&nbsp;&nbsp;&nbsp;[3] J. VanderPlas, \"A Whirlwind Tour of Python,\" O'Reilly, August 2016."
   ]
  },
  {
   "cell_type": "markdown",
   "id": "charitable-stability",
   "metadata": {},
   "source": [
    "***\n",
    "## END"
   ]
  },
  {
   "cell_type": "markdown",
   "id": "higher-chemistry",
   "metadata": {},
   "source": [
    "< [Table of Contents](#top) | [Abstract](#abstract) | [Introduction](#introduction) | [Solution](#solution) | [Conclusion](#conclusion) | [References](#references) >\n",
    "<a id=\"appendix\"></a>\n",
    "***\n",
    "## Appendix\n",
    "***"
   ]
  },
  {
   "cell_type": "markdown",
   "id": "ethical-carry",
   "metadata": {},
   "source": [
    "<a id=\"appendix-some-reference\"></a>\n",
    "< [Go Back](#top) >"
   ]
  },
  {
   "cell_type": "markdown",
   "id": "remarkable-pound",
   "metadata": {},
   "source": [
    "###### Github\n",
    "***"
   ]
  },
  {
   "cell_type": "markdown",
   "id": "upper-institute",
   "metadata": {},
   "source": [
    "```\n",
    "git push -f origin HEAD^:master && git reset HEAD~\n",
    "```"
   ]
  },
  {
   "cell_type": "markdown",
   "id": "requested-onion",
   "metadata": {},
   "source": [
    "###### Functions\n",
    "***"
   ]
  },
  {
   "cell_type": "markdown",
   "id": "advisory-yugoslavia",
   "metadata": {},
   "source": [
    "```python\n",
    "# %%writefile -a ../src/fubar.py\n",
    "# repository ./fubar-python\n",
    "def f():\n",
    "    \"\"\"\n",
    "\n",
    "Input:\n",
    "Process:\n",
    "Output:\n",
    "\"\"\"\n",
    "    pass\n",
    "# -- END ---\n",
    "```"
   ]
  },
  {
   "cell_type": "markdown",
   "id": "enabling-paraguay",
   "metadata": {},
   "source": [
    "###### Functions - ../src/fubar.py\n",
    "***"
   ]
  },
  {
   "cell_type": "markdown",
   "id": "composite-quebec",
   "metadata": {},
   "source": [
    "```\n",
    "%%script bash\n",
    "cat ../src/fubar.py\n",
    "```"
   ]
  },
  {
   "cell_type": "code",
   "execution_count": 1,
   "id": "italian-cliff",
   "metadata": {},
   "outputs": [
    {
     "name": "stdout",
     "output_type": "stream",
     "text": [
      "# repository ./OhAileasa\r\n",
      "def fFullScreen():\r\n",
      "\t\"\"\"Utilise full Jupyter notebook screen.\r\n",
      "\r\n",
      "Input:\r\n",
      "Process: (IPython.core.display.display; IPython.core.display.HTML)\r\n",
      "Output:\r\n",
      "\"\"\"\r\n",
      "\tfrom IPython.core.display import display,HTML\r\n",
      "\tdisplay(HTML(\"<style>.container { width:100% !important; }</style>\"))\r\n",
      "# --- END ---\r\n"
     ]
    }
   ],
   "source": [
    "%%script bash\n",
    "grep -1 \"def fFullScreen\" ../src/fubar.py -A 9"
   ]
  },
  {
   "cell_type": "markdown",
   "id": "enormous-dispatch",
   "metadata": {},
   "source": [
    "```\n",
    "git commit -m \"update repository ./fubar-python - Everything in python is an object.\"\n",
    "```"
   ]
  },
  {
   "cell_type": "markdown",
   "id": "quiet-partition",
   "metadata": {},
   "source": [
    "###### Images\n",
    "***"
   ]
  },
  {
   "cell_type": "markdown",
   "id": "measured-brush",
   "metadata": {},
   "source": [
    "![gumball](https://github.com/SeanOhAileasa/SeanOhAileasa/blob/master/img/cta/analysing/gumball.png?raw=true)\n",
    "\n",
    "***(Image) P. Mannion, \"03 Analysing Algorithms Part 1,\" GMIT, October 2017.***"
   ]
  },
  {
   "cell_type": "markdown",
   "id": "seventh-consequence",
   "metadata": {},
   "source": [
    "###### Tables\n",
    "***"
   ]
  },
  {
   "cell_type": "markdown",
   "id": "chubby-turkey",
   "metadata": {},
   "source": [
    "|aaa|bbbbbb|ccccccccc|\n",
    "|:------------------------- | :------------------------- | :------------------------- |\n",
    "|aaa|bbbbbb|ccccccccc|"
   ]
  },
  {
   "cell_type": "markdown",
   "id": "julian-warren",
   "metadata": {},
   "source": [
    "###### References\n",
    "***"
   ]
  },
  {
   "cell_type": "markdown",
   "id": "massive-ceremony",
   "metadata": {},
   "source": [
    "&nbsp;&nbsp;&nbsp;&nbsp;&nbsp;&nbsp;&nbsp;&nbsp;&nbsp;[1] x. xxx, \"xxx,\" xxx, JanXXXry 2XX1."
   ]
  },
  {
   "cell_type": "markdown",
   "id": "heard-toner",
   "metadata": {},
   "source": [
    "***\n",
    "## END"
   ]
  },
  {
   "cell_type": "markdown",
   "id": "meaning-status",
   "metadata": {},
   "source": [
    "# END JUPYTER NOTEBOOK"
   ]
  }
 ],
 "metadata": {
  "kernelspec": {
   "display_name": "Python 3",
   "language": "python",
   "name": "python3"
  },
  "language_info": {
   "codemirror_mode": {
    "name": "ipython",
    "version": 3
   },
   "file_extension": ".py",
   "mimetype": "text/x-python",
   "name": "python",
   "nbconvert_exporter": "python",
   "pygments_lexer": "ipython3",
   "version": "3.8.3"
  }
 },
 "nbformat": 4,
 "nbformat_minor": 5
}
